{
 "cells": [
  {
   "cell_type": "markdown",
   "metadata": {},
   "source": [
    "# Louis George    \n",
    "\n",
    "## EDA of Scraped Script and Score Data"
   ]
  },
  {
   "cell_type": "code",
   "execution_count": 943,
   "metadata": {},
   "outputs": [],
   "source": [
    "import numpy as np\n",
    "import pandas as pd\n",
    "\n",
    "import re\n",
    "import json\n",
    "import spacy\n",
    "\n",
    "import matplotlib.pyplot as plt\n",
    "%matplotlib inline"
   ]
  },
  {
   "cell_type": "markdown",
   "metadata": {},
   "source": [
    "Reading in, and inspection of the script file:"
   ]
  },
  {
   "cell_type": "code",
   "execution_count": 944,
   "metadata": {},
   "outputs": [],
   "source": [
    "df = pd.read_csv('../../data/scripts_upto_all.csv', index_col='Unnamed: 0')"
   ]
  },
  {
   "cell_type": "code",
   "execution_count": 945,
   "metadata": {},
   "outputs": [
    {
     "data": {
      "text/html": [
       "<div>\n",
       "<style scoped>\n",
       "    .dataframe tbody tr th:only-of-type {\n",
       "        vertical-align: middle;\n",
       "    }\n",
       "\n",
       "    .dataframe tbody tr th {\n",
       "        vertical-align: top;\n",
       "    }\n",
       "\n",
       "    .dataframe thead th {\n",
       "        text-align: right;\n",
       "    }\n",
       "</style>\n",
       "<table border=\"1\" class=\"dataframe\">\n",
       "  <thead>\n",
       "    <tr style=\"text-align: right;\">\n",
       "      <th></th>\n",
       "      <th>titles</th>\n",
       "      <th>scripts</th>\n",
       "      <th>genres</th>\n",
       "    </tr>\n",
       "  </thead>\n",
       "  <tbody>\n",
       "    <tr>\n",
       "      <td>0</td>\n",
       "      <td>10 Things I Hate About You</td>\n",
       "      <td>TEN THINGS I HA...</td>\n",
       "      <td>['Action', 'Adventure', 'Animation', 'Comedy',...</td>\n",
       "    </tr>\n",
       "    <tr>\n",
       "      <td>1</td>\n",
       "      <td>12</td>\n",
       "      <td>\\n  \\n\\n\\n\\n\\nCUT FROM BLACK\\n\\nTITLE: FIN\\n...</td>\n",
       "      <td>['Action', 'Adventure', 'Animation', 'Comedy',...</td>\n",
       "    </tr>\n",
       "  </tbody>\n",
       "</table>\n",
       "</div>"
      ],
      "text/plain": [
       "                       titles  \\\n",
       "0  10 Things I Hate About You   \n",
       "1                          12   \n",
       "\n",
       "                                             scripts  \\\n",
       "0                                 TEN THINGS I HA...   \n",
       "1    \\n  \\n\\n\\n\\n\\nCUT FROM BLACK\\n\\nTITLE: FIN\\n...   \n",
       "\n",
       "                                              genres  \n",
       "0  ['Action', 'Adventure', 'Animation', 'Comedy',...  \n",
       "1  ['Action', 'Adventure', 'Animation', 'Comedy',...  "
      ]
     },
     "execution_count": 945,
     "metadata": {},
     "output_type": "execute_result"
    }
   ],
   "source": [
    "df.head(2)"
   ]
  },
  {
   "cell_type": "code",
   "execution_count": 946,
   "metadata": {},
   "outputs": [
    {
     "data": {
      "text/plain": [
       "(1210, 3)"
      ]
     },
     "execution_count": 946,
     "metadata": {},
     "output_type": "execute_result"
    }
   ],
   "source": [
    "df.shape"
   ]
  },
  {
   "cell_type": "code",
   "execution_count": 947,
   "metadata": {},
   "outputs": [
    {
     "name": "stdout",
     "output_type": "stream",
     "text": [
      "<class 'pandas.core.frame.DataFrame'>\n",
      "Int64Index: 1210 entries, 0 to 1209\n",
      "Data columns (total 3 columns):\n",
      "titles     1210 non-null object\n",
      "scripts    1145 non-null object\n",
      "genres     1210 non-null object\n",
      "dtypes: object(3)\n",
      "memory usage: 37.8+ KB\n"
     ]
    }
   ],
   "source": [
    "df.info()"
   ]
  },
  {
   "cell_type": "code",
   "execution_count": 948,
   "metadata": {},
   "outputs": [
    {
     "data": {
      "text/plain": [
       "titles      0\n",
       "scripts    65\n",
       "genres      0\n",
       "dtype: int64"
      ]
     },
     "execution_count": 948,
     "metadata": {},
     "output_type": "execute_result"
    }
   ],
   "source": [
    "df.isna().sum()"
   ]
  },
  {
   "cell_type": "code",
   "execution_count": 949,
   "metadata": {},
   "outputs": [
    {
     "data": {
      "text/html": [
       "<div>\n",
       "<style scoped>\n",
       "    .dataframe tbody tr th:only-of-type {\n",
       "        vertical-align: middle;\n",
       "    }\n",
       "\n",
       "    .dataframe tbody tr th {\n",
       "        vertical-align: top;\n",
       "    }\n",
       "\n",
       "    .dataframe thead th {\n",
       "        text-align: right;\n",
       "    }\n",
       "</style>\n",
       "<table border=\"1\" class=\"dataframe\">\n",
       "  <thead>\n",
       "    <tr style=\"text-align: right;\">\n",
       "      <th></th>\n",
       "      <th>titles</th>\n",
       "      <th>scripts</th>\n",
       "      <th>genres</th>\n",
       "    </tr>\n",
       "  </thead>\n",
       "  <tbody>\n",
       "    <tr>\n",
       "      <td>17</td>\n",
       "      <td>48 Hrs.</td>\n",
       "      <td>NaN</td>\n",
       "      <td>['Action', 'Adventure', 'Animation', 'Comedy',...</td>\n",
       "    </tr>\n",
       "    <tr>\n",
       "      <td>20</td>\n",
       "      <td>8 Mile</td>\n",
       "      <td>NaN</td>\n",
       "      <td>['Action', 'Adventure', 'Animation', 'Comedy',...</td>\n",
       "    </tr>\n",
       "    <tr>\n",
       "      <td>22</td>\n",
       "      <td>9</td>\n",
       "      <td>NaN</td>\n",
       "      <td>['Action', 'Adventure', 'Animation', 'Comedy',...</td>\n",
       "    </tr>\n",
       "    <tr>\n",
       "      <td>29</td>\n",
       "      <td>A.I.</td>\n",
       "      <td>NaN</td>\n",
       "      <td>['Action', 'Adventure', 'Animation', 'Comedy',...</td>\n",
       "    </tr>\n",
       "    <tr>\n",
       "      <td>122</td>\n",
       "      <td>Back to the Future</td>\n",
       "      <td>NaN</td>\n",
       "      <td>['Action', 'Adventure', 'Animation', 'Comedy',...</td>\n",
       "    </tr>\n",
       "    <tr>\n",
       "      <td>...</td>\n",
       "      <td>...</td>\n",
       "      <td>...</td>\n",
       "      <td>...</td>\n",
       "    </tr>\n",
       "    <tr>\n",
       "      <td>1121</td>\n",
       "      <td>Troy</td>\n",
       "      <td>NaN</td>\n",
       "      <td>['Action', 'Adventure', 'Animation', 'Comedy',...</td>\n",
       "    </tr>\n",
       "    <tr>\n",
       "      <td>1136</td>\n",
       "      <td>Unforgiven</td>\n",
       "      <td>NaN</td>\n",
       "      <td>['Action', 'Adventure', 'Animation', 'Comedy',...</td>\n",
       "    </tr>\n",
       "    <tr>\n",
       "      <td>1142</td>\n",
       "      <td>Valentine's Day</td>\n",
       "      <td>NaN</td>\n",
       "      <td>['Action', 'Adventure', 'Animation', 'Comedy',...</td>\n",
       "    </tr>\n",
       "    <tr>\n",
       "      <td>1146</td>\n",
       "      <td>Vertigo</td>\n",
       "      <td>NaN</td>\n",
       "      <td>['Action', 'Adventure', 'Animation', 'Comedy',...</td>\n",
       "    </tr>\n",
       "    <tr>\n",
       "      <td>1170</td>\n",
       "      <td>When Harry Met Sally</td>\n",
       "      <td>NaN</td>\n",
       "      <td>['Action', 'Adventure', 'Animation', 'Comedy',...</td>\n",
       "    </tr>\n",
       "  </tbody>\n",
       "</table>\n",
       "<p>65 rows × 3 columns</p>\n",
       "</div>"
      ],
      "text/plain": [
       "                    titles scripts  \\\n",
       "17                 48 Hrs.     NaN   \n",
       "20                  8 Mile     NaN   \n",
       "22                       9     NaN   \n",
       "29                    A.I.     NaN   \n",
       "122     Back to the Future     NaN   \n",
       "...                    ...     ...   \n",
       "1121                  Troy     NaN   \n",
       "1136            Unforgiven     NaN   \n",
       "1142       Valentine's Day     NaN   \n",
       "1146               Vertigo     NaN   \n",
       "1170  When Harry Met Sally     NaN   \n",
       "\n",
       "                                                 genres  \n",
       "17    ['Action', 'Adventure', 'Animation', 'Comedy',...  \n",
       "20    ['Action', 'Adventure', 'Animation', 'Comedy',...  \n",
       "22    ['Action', 'Adventure', 'Animation', 'Comedy',...  \n",
       "29    ['Action', 'Adventure', 'Animation', 'Comedy',...  \n",
       "122   ['Action', 'Adventure', 'Animation', 'Comedy',...  \n",
       "...                                                 ...  \n",
       "1121  ['Action', 'Adventure', 'Animation', 'Comedy',...  \n",
       "1136  ['Action', 'Adventure', 'Animation', 'Comedy',...  \n",
       "1142  ['Action', 'Adventure', 'Animation', 'Comedy',...  \n",
       "1146  ['Action', 'Adventure', 'Animation', 'Comedy',...  \n",
       "1170  ['Action', 'Adventure', 'Animation', 'Comedy',...  \n",
       "\n",
       "[65 rows x 3 columns]"
      ]
     },
     "execution_count": 949,
     "metadata": {},
     "output_type": "execute_result"
    }
   ],
   "source": [
    "df[df['scripts'].isna()]"
   ]
  },
  {
   "cell_type": "markdown",
   "metadata": {},
   "source": [
    "After checking some of these titles, the link to the script loads a pdf, or other document type. The script that I currently have can't handle such documents. Time allowing I may revisit this.     \n",
    "\n",
    "Now because of the way my script grabbed the genres, I also grabbed a table with links to all 18 of the various genres. This table always got read before the script genres, and so by taking everything after the first 18 I should be left with each scripts respective genre."
   ]
  },
  {
   "cell_type": "code",
   "execution_count": 950,
   "metadata": {},
   "outputs": [],
   "source": [
    "for i in range(df.shape[0]):\n",
    "    df['genres'][i] = df['genres'][i].split()\n",
    "    df['genres'][i] = df['genres'][i][18:]\n",
    "    for j in range(len(df['genres'][i])):\n",
    "        temp = re.findall('[A-Za-z]', df['genres'][i][j])\n",
    "        word = ''.join(temp)\n",
    "        df['genres'][i][j] = word\n",
    "    df['genres'][i] = '|'.join(df['genres'][i])"
   ]
  },
  {
   "cell_type": "markdown",
   "metadata": {},
   "source": [
    "Dummying the genres:"
   ]
  },
  {
   "cell_type": "code",
   "execution_count": 951,
   "metadata": {},
   "outputs": [],
   "source": [
    "df = pd.concat((df, df['genres'].str.get_dummies()), axis=1).drop('genres', axis=1)"
   ]
  },
  {
   "cell_type": "code",
   "execution_count": 952,
   "metadata": {},
   "outputs": [
    {
     "data": {
      "text/plain": [
       "(1210, 26)"
      ]
     },
     "execution_count": 952,
     "metadata": {},
     "output_type": "execute_result"
    }
   ],
   "source": [
    "df.shape"
   ]
  },
  {
   "cell_type": "markdown",
   "metadata": {},
   "source": [
    "I'll need to do some cleaning for that column, but it shouldn't be too bad as I will simply be removing all non alphabetic characters.    \n",
    "\n",
    "I will now drop all 65 of the movies which I wasn't able to obtain the script for."
   ]
  },
  {
   "cell_type": "code",
   "execution_count": 953,
   "metadata": {},
   "outputs": [],
   "source": [
    "df = df.dropna().reset_index().drop('index', axis=1)"
   ]
  },
  {
   "cell_type": "markdown",
   "metadata": {},
   "source": [
    "Now to dummify the genres:"
   ]
  },
  {
   "cell_type": "markdown",
   "metadata": {},
   "source": [
    "Need to change format of all titles with the form: \"title, The\", and \"Title: sub title\"    \n",
    "\n",
    "Turns out it handles the vast majority of the form: \"Title: sub title\" properly, and that only a handful don't go through. For that reason I am going to let them go, as there doesn't seem to be an immediatly obvious solution to capture the ones that don't go through and leave the ones that do alone (Some titles rely on both the title and sub title).   \n",
    "\n",
    "I guess that I could do it dynamically when querying: try the whole whole title, and if not correct result try with the partial title. Will do this if time permits."
   ]
  },
  {
   "cell_type": "code",
   "execution_count": 954,
   "metadata": {},
   "outputs": [
    {
     "name": "stderr",
     "output_type": "stream",
     "text": [
      "C:\\Users\\louis\\Anaconda3\\lib\\site-packages\\ipykernel_launcher.py:4: SettingWithCopyWarning: \n",
      "A value is trying to be set on a copy of a slice from a DataFrame\n",
      "\n",
      "See the caveats in the documentation: http://pandas.pydata.org/pandas-docs/stable/user_guide/indexing.html#returning-a-view-versus-a-copy\n",
      "  after removing the cwd from sys.path.\n"
     ]
    }
   ],
   "source": [
    "for i in range(df.shape[0]):\n",
    "    if re.search(\"The$\", df['titles'][i]):\n",
    "        n_title = \"The \" + re.split(\", \", df['titles'][i])[0]\n",
    "        df['titles'][i] = n_title"
   ]
  },
  {
   "cell_type": "markdown",
   "metadata": {},
   "source": [
    "Now to save the titles as a csv for use to cross reference against the OMDb API and get the scores."
   ]
  },
  {
   "cell_type": "code",
   "execution_count": 955,
   "metadata": {},
   "outputs": [],
   "source": [
    "df['titles'].to_csv('../movie_titles.csv', header='titles')"
   ]
  },
  {
   "cell_type": "markdown",
   "metadata": {},
   "source": [
    "### Cleaning the scores"
   ]
  },
  {
   "cell_type": "markdown",
   "metadata": {},
   "source": [
    "First set, and initial investigation as I wait for the second set:"
   ]
  },
  {
   "cell_type": "code",
   "execution_count": 956,
   "metadata": {},
   "outputs": [],
   "source": [
    "df_scores1 = pd.read_csv('../../data/movie_info1.csv').drop('Unnamed: 0', axis=1)"
   ]
  },
  {
   "cell_type": "code",
   "execution_count": 957,
   "metadata": {},
   "outputs": [
    {
     "data": {
      "text/html": [
       "<div>\n",
       "<style scoped>\n",
       "    .dataframe tbody tr th:only-of-type {\n",
       "        vertical-align: middle;\n",
       "    }\n",
       "\n",
       "    .dataframe tbody tr th {\n",
       "        vertical-align: top;\n",
       "    }\n",
       "\n",
       "    .dataframe thead th {\n",
       "        text-align: right;\n",
       "    }\n",
       "</style>\n",
       "<table border=\"1\" class=\"dataframe\">\n",
       "  <thead>\n",
       "    <tr style=\"text-align: right;\">\n",
       "      <th></th>\n",
       "      <th>titles</th>\n",
       "      <th>info</th>\n",
       "    </tr>\n",
       "  </thead>\n",
       "  <tbody>\n",
       "    <tr>\n",
       "      <td>0</td>\n",
       "      <td>10 Things I Hate About You</td>\n",
       "      <td>{\"Title\":\"10 Things I Hate About You\",\"Year\":\"...</td>\n",
       "    </tr>\n",
       "    <tr>\n",
       "      <td>1</td>\n",
       "      <td>12</td>\n",
       "      <td>{\"Title\":\"12\",\"Year\":\"2007\",\"Rated\":\"PG-13\",\"R...</td>\n",
       "    </tr>\n",
       "    <tr>\n",
       "      <td>2</td>\n",
       "      <td>12 and Holding</td>\n",
       "      <td>{\"Title\":\"12 and Holding\",\"Year\":\"2005\",\"Rated...</td>\n",
       "    </tr>\n",
       "    <tr>\n",
       "      <td>3</td>\n",
       "      <td>12 Monkeys</td>\n",
       "      <td>{\"Title\":\"12 Monkeys\",\"Year\":\"1995\",\"Rated\":\"R...</td>\n",
       "    </tr>\n",
       "    <tr>\n",
       "      <td>4</td>\n",
       "      <td>12 Years a Slave</td>\n",
       "      <td>{\"Title\":\"12 Years a Slave\",\"Year\":\"2013\",\"Rat...</td>\n",
       "    </tr>\n",
       "  </tbody>\n",
       "</table>\n",
       "</div>"
      ],
      "text/plain": [
       "                       titles  \\\n",
       "0  10 Things I Hate About You   \n",
       "1                          12   \n",
       "2              12 and Holding   \n",
       "3                  12 Monkeys   \n",
       "4            12 Years a Slave   \n",
       "\n",
       "                                                info  \n",
       "0  {\"Title\":\"10 Things I Hate About You\",\"Year\":\"...  \n",
       "1  {\"Title\":\"12\",\"Year\":\"2007\",\"Rated\":\"PG-13\",\"R...  \n",
       "2  {\"Title\":\"12 and Holding\",\"Year\":\"2005\",\"Rated...  \n",
       "3  {\"Title\":\"12 Monkeys\",\"Year\":\"1995\",\"Rated\":\"R...  \n",
       "4  {\"Title\":\"12 Years a Slave\",\"Year\":\"2013\",\"Rat...  "
      ]
     },
     "execution_count": 957,
     "metadata": {},
     "output_type": "execute_result"
    }
   ],
   "source": [
    "df_scores1.head()"
   ]
  },
  {
   "cell_type": "code",
   "execution_count": 958,
   "metadata": {},
   "outputs": [
    {
     "data": {
      "text/plain": [
       "titles    False\n",
       "info      False\n",
       "dtype: bool"
      ]
     },
     "execution_count": 958,
     "metadata": {},
     "output_type": "execute_result"
    }
   ],
   "source": [
    "df_scores1.isna().any()"
   ]
  },
  {
   "cell_type": "code",
   "execution_count": 959,
   "metadata": {},
   "outputs": [],
   "source": [
    "temp = json.loads(df_scores1['info'][9])"
   ]
  },
  {
   "cell_type": "code",
   "execution_count": 960,
   "metadata": {},
   "outputs": [
    {
     "data": {
      "text/plain": [
       "{'Title': '187',\n",
       " 'Year': '2016',\n",
       " 'Rated': 'N/A',\n",
       " 'Released': '19 Sep 2016',\n",
       " 'Runtime': 'N/A',\n",
       " 'Genre': 'Short, Crime',\n",
       " 'Director': 'Hecht Amar',\n",
       " 'Writer': 'N/A',\n",
       " 'Actors': 'Hecht Amar, Mattia Bianchi',\n",
       " 'Plot': 'N/A',\n",
       " 'Language': 'English',\n",
       " 'Country': 'USA',\n",
       " 'Awards': 'N/A',\n",
       " 'Poster': 'https://m.media-amazon.com/images/M/MV5BMTg0NjYxZjQtNGY5Yy00OTNkLWEzODgtN2M2ZTAwMTU4YjBjL2ltYWdlL2ltYWdlXkEyXkFqcGdeQXVyMzI5OTA2MjM@._V1_SX300.jpg',\n",
       " 'Ratings': [],\n",
       " 'Metascore': 'N/A',\n",
       " 'imdbRating': 'N/A',\n",
       " 'imdbVotes': 'N/A',\n",
       " 'imdbID': 'tt6217824',\n",
       " 'Type': 'movie',\n",
       " 'DVD': 'N/A',\n",
       " 'BoxOffice': 'N/A',\n",
       " 'Production': 'N/A',\n",
       " 'Website': 'N/A',\n",
       " 'Response': 'True'}"
      ]
     },
     "execution_count": 960,
     "metadata": {},
     "output_type": "execute_result"
    }
   ],
   "source": [
    "temp"
   ]
  },
  {
   "cell_type": "markdown",
   "metadata": {},
   "source": [
    "**Function which gets all of the target data out of the json:**"
   ]
  },
  {
   "cell_type": "code",
   "execution_count": 961,
   "metadata": {},
   "outputs": [],
   "source": [
    "def get_scores(df):\n",
    "    df['IMDb_score'], df['RT_score'], df['Meta_score'], df['box_office'], df['ID'] = np.nan, np.nan, np.nan, np.nan, np.nan\n",
    "\n",
    "    for i in range(df.shape[0]):\n",
    "        temp = json.loads(df['info'][i])\n",
    "        try:\n",
    "            for j in temp['Ratings']:\n",
    "                if j['Source'] == 'Internet Movie Database':\n",
    "                    df['IMDb_score'][i] = j['Value']\n",
    "                elif j['Source'] == 'Rotten Tomatoes':\n",
    "                    df['RT_score'][i] = j['Value']\n",
    "                elif j['Source'] == 'Metacritic':\n",
    "                    df['Meta_score'][i] = j['Value']\n",
    "            df['box_office'][i] = temp['BoxOffice']\n",
    "            df['ID'][i] = temp['imdbID']\n",
    "        except:\n",
    "            #print(\"Exception triggered\")\n",
    "            df['IMDb_score'][i] = np.nan\n",
    "            df['RT_score'][i] = np.nan\n",
    "            df['Meta_score'][i] = np.nan\n",
    "            df['box_office'][i] = np.nan"
   ]
  },
  {
   "cell_type": "code",
   "execution_count": 962,
   "metadata": {},
   "outputs": [
    {
     "name": "stderr",
     "output_type": "stream",
     "text": [
      "C:\\Users\\louis\\Anaconda3\\lib\\site-packages\\ipykernel_launcher.py:9: SettingWithCopyWarning: \n",
      "A value is trying to be set on a copy of a slice from a DataFrame\n",
      "\n",
      "See the caveats in the documentation: http://pandas.pydata.org/pandas-docs/stable/user_guide/indexing.html#returning-a-view-versus-a-copy\n",
      "  if __name__ == '__main__':\n",
      "C:\\Users\\louis\\Anaconda3\\lib\\site-packages\\ipykernel_launcher.py:11: SettingWithCopyWarning: \n",
      "A value is trying to be set on a copy of a slice from a DataFrame\n",
      "\n",
      "See the caveats in the documentation: http://pandas.pydata.org/pandas-docs/stable/user_guide/indexing.html#returning-a-view-versus-a-copy\n",
      "  # This is added back by InteractiveShellApp.init_path()\n",
      "C:\\Users\\louis\\Anaconda3\\lib\\site-packages\\ipykernel_launcher.py:13: SettingWithCopyWarning: \n",
      "A value is trying to be set on a copy of a slice from a DataFrame\n",
      "\n",
      "See the caveats in the documentation: http://pandas.pydata.org/pandas-docs/stable/user_guide/indexing.html#returning-a-view-versus-a-copy\n",
      "  del sys.path[0]\n",
      "C:\\Users\\louis\\Anaconda3\\lib\\site-packages\\ipykernel_launcher.py:14: SettingWithCopyWarning: \n",
      "A value is trying to be set on a copy of a slice from a DataFrame\n",
      "\n",
      "See the caveats in the documentation: http://pandas.pydata.org/pandas-docs/stable/user_guide/indexing.html#returning-a-view-versus-a-copy\n",
      "  \n",
      "C:\\Users\\louis\\Anaconda3\\lib\\site-packages\\ipykernel_launcher.py:15: SettingWithCopyWarning: \n",
      "A value is trying to be set on a copy of a slice from a DataFrame\n",
      "\n",
      "See the caveats in the documentation: http://pandas.pydata.org/pandas-docs/stable/user_guide/indexing.html#returning-a-view-versus-a-copy\n",
      "  from ipykernel import kernelapp as app\n"
     ]
    }
   ],
   "source": [
    "get_scores(df_scores1)"
   ]
  },
  {
   "cell_type": "code",
   "execution_count": 963,
   "metadata": {},
   "outputs": [
    {
     "data": {
      "text/html": [
       "<div>\n",
       "<style scoped>\n",
       "    .dataframe tbody tr th:only-of-type {\n",
       "        vertical-align: middle;\n",
       "    }\n",
       "\n",
       "    .dataframe tbody tr th {\n",
       "        vertical-align: top;\n",
       "    }\n",
       "\n",
       "    .dataframe thead th {\n",
       "        text-align: right;\n",
       "    }\n",
       "</style>\n",
       "<table border=\"1\" class=\"dataframe\">\n",
       "  <thead>\n",
       "    <tr style=\"text-align: right;\">\n",
       "      <th></th>\n",
       "      <th>titles</th>\n",
       "      <th>info</th>\n",
       "      <th>IMDb_score</th>\n",
       "      <th>RT_score</th>\n",
       "      <th>Meta_score</th>\n",
       "      <th>box_office</th>\n",
       "      <th>ID</th>\n",
       "    </tr>\n",
       "  </thead>\n",
       "  <tbody>\n",
       "    <tr>\n",
       "      <td>0</td>\n",
       "      <td>10 Things I Hate About You</td>\n",
       "      <td>{\"Title\":\"10 Things I Hate About You\",\"Year\":\"...</td>\n",
       "      <td>7.3/10</td>\n",
       "      <td>68%</td>\n",
       "      <td>70/100</td>\n",
       "      <td>N/A</td>\n",
       "      <td>tt0147800</td>\n",
       "    </tr>\n",
       "    <tr>\n",
       "      <td>1</td>\n",
       "      <td>12</td>\n",
       "      <td>{\"Title\":\"12\",\"Year\":\"2007\",\"Rated\":\"PG-13\",\"R...</td>\n",
       "      <td>7.7/10</td>\n",
       "      <td>76%</td>\n",
       "      <td>72/100</td>\n",
       "      <td>N/A</td>\n",
       "      <td>tt0488478</td>\n",
       "    </tr>\n",
       "    <tr>\n",
       "      <td>2</td>\n",
       "      <td>12 and Holding</td>\n",
       "      <td>{\"Title\":\"12 and Holding\",\"Year\":\"2005\",\"Rated...</td>\n",
       "      <td>7.5/10</td>\n",
       "      <td>73%</td>\n",
       "      <td>65/100</td>\n",
       "      <td>N/A</td>\n",
       "      <td>tt0417385</td>\n",
       "    </tr>\n",
       "    <tr>\n",
       "      <td>3</td>\n",
       "      <td>12 Monkeys</td>\n",
       "      <td>{\"Title\":\"12 Monkeys\",\"Year\":\"1995\",\"Rated\":\"R...</td>\n",
       "      <td>8.0/10</td>\n",
       "      <td>89%</td>\n",
       "      <td>74/100</td>\n",
       "      <td>N/A</td>\n",
       "      <td>tt0114746</td>\n",
       "    </tr>\n",
       "    <tr>\n",
       "      <td>4</td>\n",
       "      <td>12 Years a Slave</td>\n",
       "      <td>{\"Title\":\"12 Years a Slave\",\"Year\":\"2013\",\"Rat...</td>\n",
       "      <td>8.1/10</td>\n",
       "      <td>95%</td>\n",
       "      <td>96/100</td>\n",
       "      <td>$50,628,650</td>\n",
       "      <td>tt2024544</td>\n",
       "    </tr>\n",
       "  </tbody>\n",
       "</table>\n",
       "</div>"
      ],
      "text/plain": [
       "                       titles  \\\n",
       "0  10 Things I Hate About You   \n",
       "1                          12   \n",
       "2              12 and Holding   \n",
       "3                  12 Monkeys   \n",
       "4            12 Years a Slave   \n",
       "\n",
       "                                                info IMDb_score RT_score  \\\n",
       "0  {\"Title\":\"10 Things I Hate About You\",\"Year\":\"...     7.3/10      68%   \n",
       "1  {\"Title\":\"12\",\"Year\":\"2007\",\"Rated\":\"PG-13\",\"R...     7.7/10      76%   \n",
       "2  {\"Title\":\"12 and Holding\",\"Year\":\"2005\",\"Rated...     7.5/10      73%   \n",
       "3  {\"Title\":\"12 Monkeys\",\"Year\":\"1995\",\"Rated\":\"R...     8.0/10      89%   \n",
       "4  {\"Title\":\"12 Years a Slave\",\"Year\":\"2013\",\"Rat...     8.1/10      95%   \n",
       "\n",
       "  Meta_score   box_office         ID  \n",
       "0     70/100          N/A  tt0147800  \n",
       "1     72/100          N/A  tt0488478  \n",
       "2     65/100          N/A  tt0417385  \n",
       "3     74/100          N/A  tt0114746  \n",
       "4     96/100  $50,628,650  tt2024544  "
      ]
     },
     "execution_count": 963,
     "metadata": {},
     "output_type": "execute_result"
    }
   ],
   "source": [
    "df_scores1.head()"
   ]
  },
  {
   "cell_type": "code",
   "execution_count": 964,
   "metadata": {},
   "outputs": [
    {
     "data": {
      "text/plain": [
       "titles         0\n",
       "info           0\n",
       "IMDb_score    27\n",
       "RT_score      58\n",
       "Meta_score    72\n",
       "box_office    24\n",
       "ID            24\n",
       "dtype: int64"
      ]
     },
     "execution_count": 964,
     "metadata": {},
     "output_type": "execute_result"
    }
   ],
   "source": [
    "df_scores1.isna().sum()"
   ]
  },
  {
   "cell_type": "code",
   "execution_count": 965,
   "metadata": {},
   "outputs": [
    {
     "data": {
      "text/html": [
       "<div>\n",
       "<style scoped>\n",
       "    .dataframe tbody tr th:only-of-type {\n",
       "        vertical-align: middle;\n",
       "    }\n",
       "\n",
       "    .dataframe tbody tr th {\n",
       "        vertical-align: top;\n",
       "    }\n",
       "\n",
       "    .dataframe thead th {\n",
       "        text-align: right;\n",
       "    }\n",
       "</style>\n",
       "<table border=\"1\" class=\"dataframe\">\n",
       "  <thead>\n",
       "    <tr style=\"text-align: right;\">\n",
       "      <th></th>\n",
       "      <th>titles</th>\n",
       "      <th>info</th>\n",
       "      <th>IMDb_score</th>\n",
       "      <th>RT_score</th>\n",
       "      <th>Meta_score</th>\n",
       "      <th>box_office</th>\n",
       "      <th>ID</th>\n",
       "    </tr>\n",
       "  </thead>\n",
       "  <tbody>\n",
       "    <tr>\n",
       "      <td>9</td>\n",
       "      <td>187</td>\n",
       "      <td>{\"Title\":\"187\",\"Year\":\"2016\",\"Rated\":\"N/A\",\"Re...</td>\n",
       "      <td>NaN</td>\n",
       "      <td>NaN</td>\n",
       "      <td>NaN</td>\n",
       "      <td>N/A</td>\n",
       "      <td>tt6217824</td>\n",
       "    </tr>\n",
       "    <tr>\n",
       "      <td>17</td>\n",
       "      <td>50-50</td>\n",
       "      <td>{\"Title\":\"50-50\",\"Year\":\"2011\",\"Rated\":\"N/A\",\"...</td>\n",
       "      <td>6.1/10</td>\n",
       "      <td>NaN</td>\n",
       "      <td>NaN</td>\n",
       "      <td>N/A</td>\n",
       "      <td>tt1833204</td>\n",
       "    </tr>\n",
       "    <tr>\n",
       "      <td>30</td>\n",
       "      <td>Adaptation</td>\n",
       "      <td>{\"Title\":\"Adaptation\",\"Year\":\"2019–\",\"Rated\":\"...</td>\n",
       "      <td>NaN</td>\n",
       "      <td>NaN</td>\n",
       "      <td>NaN</td>\n",
       "      <td>NaN</td>\n",
       "      <td>NaN</td>\n",
       "    </tr>\n",
       "    <tr>\n",
       "      <td>33</td>\n",
       "      <td>The Adventures of Buckaroo Banzai Across the E...</td>\n",
       "      <td>{\"Response\":\"False\",\"Error\":\"Movie not found!\"}</td>\n",
       "      <td>NaN</td>\n",
       "      <td>NaN</td>\n",
       "      <td>NaN</td>\n",
       "      <td>NaN</td>\n",
       "      <td>NaN</td>\n",
       "    </tr>\n",
       "    <tr>\n",
       "      <td>35</td>\n",
       "      <td>After School Special</td>\n",
       "      <td>{\"Title\":\"After School Special\",\"Year\":\"2017\",...</td>\n",
       "      <td>2.3/10</td>\n",
       "      <td>NaN</td>\n",
       "      <td>NaN</td>\n",
       "      <td>N/A</td>\n",
       "      <td>tt3291632</td>\n",
       "    </tr>\n",
       "  </tbody>\n",
       "</table>\n",
       "</div>"
      ],
      "text/plain": [
       "                                               titles  \\\n",
       "9                                                 187   \n",
       "17                                              50-50   \n",
       "30                                         Adaptation   \n",
       "33  The Adventures of Buckaroo Banzai Across the E...   \n",
       "35                               After School Special   \n",
       "\n",
       "                                                 info IMDb_score RT_score  \\\n",
       "9   {\"Title\":\"187\",\"Year\":\"2016\",\"Rated\":\"N/A\",\"Re...        NaN      NaN   \n",
       "17  {\"Title\":\"50-50\",\"Year\":\"2011\",\"Rated\":\"N/A\",\"...     6.1/10      NaN   \n",
       "30  {\"Title\":\"Adaptation\",\"Year\":\"2019–\",\"Rated\":\"...        NaN      NaN   \n",
       "33    {\"Response\":\"False\",\"Error\":\"Movie not found!\"}        NaN      NaN   \n",
       "35  {\"Title\":\"After School Special\",\"Year\":\"2017\",...     2.3/10      NaN   \n",
       "\n",
       "   Meta_score box_office         ID  \n",
       "9         NaN        N/A  tt6217824  \n",
       "17        NaN        N/A  tt1833204  \n",
       "30        NaN        NaN        NaN  \n",
       "33        NaN        NaN        NaN  \n",
       "35        NaN        N/A  tt3291632  "
      ]
     },
     "execution_count": 965,
     "metadata": {},
     "output_type": "execute_result"
    }
   ],
   "source": [
    "df_scores1[df_scores1['RT_score'].isna()].head()"
   ]
  },
  {
   "cell_type": "markdown",
   "metadata": {},
   "source": [
    "**Function which cleans up the score features:**"
   ]
  },
  {
   "cell_type": "code",
   "execution_count": 966,
   "metadata": {},
   "outputs": [],
   "source": [
    "def score_cleaner(df, col):\n",
    "    for i in range(df.shape[0]):\n",
    "        try:\n",
    "            if col[i] == 'N/A':\n",
    "                col[i] = np.nan\n",
    "            elif '/' in col[i]:\n",
    "                y = col[i].split('/')\n",
    "                col[i] = round(float(y[0]) / float(y[1]), 2)\n",
    "            elif '%' in col[i]:\n",
    "                col[i] = round(int(col[i].split('%')[0]) / 100, 2)\n",
    "            elif \"$\" in col[i]:\n",
    "                col[i] = int(''.join(re.findall('[0-9]', col[i])))\n",
    "        except:\n",
    "            continue"
   ]
  },
  {
   "cell_type": "code",
   "execution_count": 967,
   "metadata": {},
   "outputs": [],
   "source": [
    "score_cleaner(df_scores1, df_scores1['IMDb_score'])\n",
    "score_cleaner(df_scores1, df_scores1['RT_score'])\n",
    "score_cleaner(df_scores1, df_scores1['Meta_score'])\n",
    "score_cleaner(df_scores1, df_scores1['box_office'])"
   ]
  },
  {
   "cell_type": "code",
   "execution_count": 968,
   "metadata": {},
   "outputs": [
    {
     "data": {
      "image/png": "[encoded data removed]",
      "text/plain": [
       "<Figure size 432x288 with 1 Axes>"
      ]
     },
     "metadata": {
      "needs_background": "light"
     },
     "output_type": "display_data"
    },
    {
     "data": {
      "image/png": "[encoded data removed]",
      "text/plain": [
       "<Figure size 432x288 with 1 Axes>"
      ]
     },
     "metadata": {
      "needs_background": "light"
     },
     "output_type": "display_data"
    },
    {
     "data": {
      "image/png": "[encoded data removed]",
      "text/plain": [
       "<Figure size 432x288 with 1 Axes>"
      ]
     },
     "metadata": {
      "needs_background": "light"
     },
     "output_type": "display_data"
    },
    {
     "data": {
      "image/png": "[encoded data removed]",
      "text/plain": [
       "<Figure size 432x288 with 1 Axes>"
      ]
     },
     "metadata": {
      "needs_background": "light"
     },
     "output_type": "display_data"
    }
   ],
   "source": [
    "for i in df_scores1.columns[2:6]:\n",
    "    plt.figure()\n",
    "    plt.hist(df_scores1[i])\n",
    "    plt.title(i)\n",
    "    plt.show();"
   ]
  },
  {
   "cell_type": "code",
   "execution_count": 969,
   "metadata": {},
   "outputs": [
    {
     "data": {
      "text/plain": [
       "titles          0\n",
       "info            0\n",
       "IMDb_score     27\n",
       "RT_score       58\n",
       "Meta_score     72\n",
       "box_office    312\n",
       "ID             24\n",
       "dtype: int64"
      ]
     },
     "execution_count": 969,
     "metadata": {},
     "output_type": "execute_result"
    }
   ],
   "source": [
    "df_scores1.isna().sum()"
   ]
  },
  {
   "cell_type": "markdown",
   "metadata": {},
   "source": [
    "____________________________________________________\n",
    "**Second set:**"
   ]
  },
  {
   "cell_type": "code",
   "execution_count": 970,
   "metadata": {},
   "outputs": [],
   "source": [
    "df_scores2 = pd.read_csv('../../data/movie_info2.csv').drop('Unnamed: 0', axis=1)"
   ]
  },
  {
   "cell_type": "code",
   "execution_count": 971,
   "metadata": {},
   "outputs": [
    {
     "data": {
      "text/plain": [
       "(645, 2)"
      ]
     },
     "execution_count": 971,
     "metadata": {},
     "output_type": "execute_result"
    }
   ],
   "source": [
    "df_scores2.shape"
   ]
  },
  {
   "cell_type": "code",
   "execution_count": 972,
   "metadata": {},
   "outputs": [
    {
     "name": "stderr",
     "output_type": "stream",
     "text": [
      "C:\\Users\\louis\\Anaconda3\\lib\\site-packages\\ipykernel_launcher.py:9: SettingWithCopyWarning: \n",
      "A value is trying to be set on a copy of a slice from a DataFrame\n",
      "\n",
      "See the caveats in the documentation: http://pandas.pydata.org/pandas-docs/stable/user_guide/indexing.html#returning-a-view-versus-a-copy\n",
      "  if __name__ == '__main__':\n",
      "C:\\Users\\louis\\Anaconda3\\lib\\site-packages\\ipykernel_launcher.py:11: SettingWithCopyWarning: \n",
      "A value is trying to be set on a copy of a slice from a DataFrame\n",
      "\n",
      "See the caveats in the documentation: http://pandas.pydata.org/pandas-docs/stable/user_guide/indexing.html#returning-a-view-versus-a-copy\n",
      "  # This is added back by InteractiveShellApp.init_path()\n",
      "C:\\Users\\louis\\Anaconda3\\lib\\site-packages\\ipykernel_launcher.py:13: SettingWithCopyWarning: \n",
      "A value is trying to be set on a copy of a slice from a DataFrame\n",
      "\n",
      "See the caveats in the documentation: http://pandas.pydata.org/pandas-docs/stable/user_guide/indexing.html#returning-a-view-versus-a-copy\n",
      "  del sys.path[0]\n",
      "C:\\Users\\louis\\Anaconda3\\lib\\site-packages\\ipykernel_launcher.py:14: SettingWithCopyWarning: \n",
      "A value is trying to be set on a copy of a slice from a DataFrame\n",
      "\n",
      "See the caveats in the documentation: http://pandas.pydata.org/pandas-docs/stable/user_guide/indexing.html#returning-a-view-versus-a-copy\n",
      "  \n",
      "C:\\Users\\louis\\Anaconda3\\lib\\site-packages\\ipykernel_launcher.py:15: SettingWithCopyWarning: \n",
      "A value is trying to be set on a copy of a slice from a DataFrame\n",
      "\n",
      "See the caveats in the documentation: http://pandas.pydata.org/pandas-docs/stable/user_guide/indexing.html#returning-a-view-versus-a-copy\n",
      "  from ipykernel import kernelapp as app\n"
     ]
    }
   ],
   "source": [
    "get_scores(df_scores2)\n",
    "score_cleaner(df_scores2, df_scores2['IMDb_score'])\n",
    "score_cleaner(df_scores2, df_scores2['RT_score'])\n",
    "score_cleaner(df_scores2, df_scores2['Meta_score'])\n",
    "score_cleaner(df_scores2, df_scores2['box_office'])"
   ]
  },
  {
   "cell_type": "code",
   "execution_count": 973,
   "metadata": {},
   "outputs": [
    {
     "data": {
      "text/html": [
       "<div>\n",
       "<style scoped>\n",
       "    .dataframe tbody tr th:only-of-type {\n",
       "        vertical-align: middle;\n",
       "    }\n",
       "\n",
       "    .dataframe tbody tr th {\n",
       "        vertical-align: top;\n",
       "    }\n",
       "\n",
       "    .dataframe thead th {\n",
       "        text-align: right;\n",
       "    }\n",
       "</style>\n",
       "<table border=\"1\" class=\"dataframe\">\n",
       "  <thead>\n",
       "    <tr style=\"text-align: right;\">\n",
       "      <th></th>\n",
       "      <th>titles</th>\n",
       "      <th>info</th>\n",
       "      <th>IMDb_score</th>\n",
       "      <th>RT_score</th>\n",
       "      <th>Meta_score</th>\n",
       "      <th>box_office</th>\n",
       "      <th>ID</th>\n",
       "    </tr>\n",
       "  </thead>\n",
       "  <tbody>\n",
       "    <tr>\n",
       "      <td>0</td>\n",
       "      <td>Hellraiser</td>\n",
       "      <td>{\"Title\":\"Hellraiser\",\"Year\":\"1987\",\"Rated\":\"R...</td>\n",
       "      <td>0.7</td>\n",
       "      <td>0.7</td>\n",
       "      <td>0.57</td>\n",
       "      <td>NaN</td>\n",
       "      <td>tt0093177</td>\n",
       "    </tr>\n",
       "    <tr>\n",
       "      <td>1</td>\n",
       "      <td>Hellraiser 3: Hell on Earth</td>\n",
       "      <td>{\"Response\":\"False\",\"Error\":\"Movie not found!\"}</td>\n",
       "      <td>NaN</td>\n",
       "      <td>NaN</td>\n",
       "      <td>NaN</td>\n",
       "      <td>NaN</td>\n",
       "      <td>NaN</td>\n",
       "    </tr>\n",
       "    <tr>\n",
       "      <td>2</td>\n",
       "      <td>Hellraiser: Deader</td>\n",
       "      <td>{\"Title\":\"Hellraiser: Deader\",\"Year\":\"2005\",\"R...</td>\n",
       "      <td>0.46</td>\n",
       "      <td>0.17</td>\n",
       "      <td>NaN</td>\n",
       "      <td>NaN</td>\n",
       "      <td>tt0337636</td>\n",
       "    </tr>\n",
       "    <tr>\n",
       "      <td>3</td>\n",
       "      <td>Hellraiser: Hellseeker</td>\n",
       "      <td>{\"Title\":\"Hellraiser: Hellseeker\",\"Year\":\"2002...</td>\n",
       "      <td>0.5</td>\n",
       "      <td>0</td>\n",
       "      <td>0.46</td>\n",
       "      <td>NaN</td>\n",
       "      <td>tt0274546</td>\n",
       "    </tr>\n",
       "    <tr>\n",
       "      <td>4</td>\n",
       "      <td>The Help</td>\n",
       "      <td>{\"Title\":\"The Help\",\"Year\":\"2011\",\"Rated\":\"PG-...</td>\n",
       "      <td>0.81</td>\n",
       "      <td>0.76</td>\n",
       "      <td>0.62</td>\n",
       "      <td>169705587</td>\n",
       "      <td>tt1454029</td>\n",
       "    </tr>\n",
       "  </tbody>\n",
       "</table>\n",
       "</div>"
      ],
      "text/plain": [
       "                        titles  \\\n",
       "0                   Hellraiser   \n",
       "1  Hellraiser 3: Hell on Earth   \n",
       "2           Hellraiser: Deader   \n",
       "3       Hellraiser: Hellseeker   \n",
       "4                     The Help   \n",
       "\n",
       "                                                info IMDb_score RT_score  \\\n",
       "0  {\"Title\":\"Hellraiser\",\"Year\":\"1987\",\"Rated\":\"R...        0.7      0.7   \n",
       "1    {\"Response\":\"False\",\"Error\":\"Movie not found!\"}        NaN      NaN   \n",
       "2  {\"Title\":\"Hellraiser: Deader\",\"Year\":\"2005\",\"R...       0.46     0.17   \n",
       "3  {\"Title\":\"Hellraiser: Hellseeker\",\"Year\":\"2002...        0.5        0   \n",
       "4  {\"Title\":\"The Help\",\"Year\":\"2011\",\"Rated\":\"PG-...       0.81     0.76   \n",
       "\n",
       "  Meta_score box_office         ID  \n",
       "0       0.57        NaN  tt0093177  \n",
       "1        NaN        NaN        NaN  \n",
       "2        NaN        NaN  tt0337636  \n",
       "3       0.46        NaN  tt0274546  \n",
       "4       0.62  169705587  tt1454029  "
      ]
     },
     "execution_count": 973,
     "metadata": {},
     "output_type": "execute_result"
    }
   ],
   "source": [
    "df_scores2.head()"
   ]
  },
  {
   "cell_type": "code",
   "execution_count": 974,
   "metadata": {},
   "outputs": [
    {
     "data": {
      "text/plain": [
       "titles          0\n",
       "info            0\n",
       "IMDb_score     38\n",
       "RT_score       79\n",
       "Meta_score    114\n",
       "box_office    354\n",
       "ID             33\n",
       "dtype: int64"
      ]
     },
     "execution_count": 974,
     "metadata": {},
     "output_type": "execute_result"
    }
   ],
   "source": [
    "df_scores2.isna().sum()"
   ]
  },
  {
   "cell_type": "code",
   "execution_count": 975,
   "metadata": {},
   "outputs": [
    {
     "data": {
      "image/png": "[encoded data removed]",
      "text/plain": [
       "<Figure size 432x288 with 1 Axes>"
      ]
     },
     "metadata": {
      "needs_background": "light"
     },
     "output_type": "display_data"
    },
    {
     "data": {
      "image/png": "[encoded data removed]",
      "text/plain": [
       "<Figure size 432x288 with 1 Axes>"
      ]
     },
     "metadata": {
      "needs_background": "light"
     },
     "output_type": "display_data"
    },
    {
     "data": {
      "image/png": "[encoded data removed]",
      "text/plain": [
       "<Figure size 432x288 with 1 Axes>"
      ]
     },
     "metadata": {
      "needs_background": "light"
     },
     "output_type": "display_data"
    },
    {
     "data": {
      "image/png": "[encoded data removed]",
      "text/plain": [
       "<Figure size 432x288 with 1 Axes>"
      ]
     },
     "metadata": {
      "needs_background": "light"
     },
     "output_type": "display_data"
    }
   ],
   "source": [
    "for i in df_scores2.columns[2:6]:\n",
    "    plt.figure()\n",
    "    plt.hist(df_scores1[i])\n",
    "    plt.title(i)\n",
    "    plt.show();"
   ]
  },
  {
   "cell_type": "markdown",
   "metadata": {},
   "source": [
    "__________________________________\n",
    "\n",
    "Judging from the results of the omdbapi scraping, the box office revenue, and Metacritic score are unusable, and I will have to drop those columns entirely.    \n",
    "\n",
    "I will have to drop about 10% of the remainder of my rows in order to use Rotten Tomatoes, and IMDb scores.    \n",
    "\n",
    "Overall this isn't ideal, as my dataset is already relatively small. If time permits, I may revisit the scraper and try to optimize more.\n",
    "\n",
    "__________________________________"
   ]
  },
  {
   "cell_type": "markdown",
   "metadata": {},
   "source": [
    "From these figures it would appear as though we need to drop box office, however we are given the imdb movie ID, which will allow me to scrape their website relatively easily (ie sans Selenium). I'll do that and see if I can get enough data to work with.\n",
    "\n",
    "For that I need to export the IDs for the scraper to do it's thing. To do this, as well as proceed with the project anyway I will need to join the two dataframes:"
   ]
  },
  {
   "cell_type": "code",
   "execution_count": 976,
   "metadata": {},
   "outputs": [],
   "source": [
    "df_scores1 = df_scores1.drop(['info', 'Meta_score', 'box_office'], axis=1)\n",
    "df_scores2 = df_scores2.drop(['info', 'Meta_score', 'box_office'], axis=1)\n",
    "df_scores = pd.concat([df_scores1, df_scores2], axis=0).reset_index().drop('index', axis=1)"
   ]
  },
  {
   "cell_type": "code",
   "execution_count": 977,
   "metadata": {},
   "outputs": [
    {
     "data": {
      "text/html": [
       "<div>\n",
       "<style scoped>\n",
       "    .dataframe tbody tr th:only-of-type {\n",
       "        vertical-align: middle;\n",
       "    }\n",
       "\n",
       "    .dataframe tbody tr th {\n",
       "        vertical-align: top;\n",
       "    }\n",
       "\n",
       "    .dataframe thead th {\n",
       "        text-align: right;\n",
       "    }\n",
       "</style>\n",
       "<table border=\"1\" class=\"dataframe\">\n",
       "  <thead>\n",
       "    <tr style=\"text-align: right;\">\n",
       "      <th></th>\n",
       "      <th>titles</th>\n",
       "      <th>IMDb_score</th>\n",
       "      <th>RT_score</th>\n",
       "      <th>ID</th>\n",
       "    </tr>\n",
       "  </thead>\n",
       "  <tbody>\n",
       "    <tr>\n",
       "      <td>0</td>\n",
       "      <td>10 Things I Hate About You</td>\n",
       "      <td>0.73</td>\n",
       "      <td>0.68</td>\n",
       "      <td>tt0147800</td>\n",
       "    </tr>\n",
       "    <tr>\n",
       "      <td>1</td>\n",
       "      <td>12</td>\n",
       "      <td>0.77</td>\n",
       "      <td>0.76</td>\n",
       "      <td>tt0488478</td>\n",
       "    </tr>\n",
       "    <tr>\n",
       "      <td>2</td>\n",
       "      <td>12 and Holding</td>\n",
       "      <td>0.75</td>\n",
       "      <td>0.73</td>\n",
       "      <td>tt0417385</td>\n",
       "    </tr>\n",
       "    <tr>\n",
       "      <td>3</td>\n",
       "      <td>12 Monkeys</td>\n",
       "      <td>0.8</td>\n",
       "      <td>0.89</td>\n",
       "      <td>tt0114746</td>\n",
       "    </tr>\n",
       "    <tr>\n",
       "      <td>4</td>\n",
       "      <td>12 Years a Slave</td>\n",
       "      <td>0.81</td>\n",
       "      <td>0.95</td>\n",
       "      <td>tt2024544</td>\n",
       "    </tr>\n",
       "  </tbody>\n",
       "</table>\n",
       "</div>"
      ],
      "text/plain": [
       "                       titles IMDb_score RT_score         ID\n",
       "0  10 Things I Hate About You       0.73     0.68  tt0147800\n",
       "1                          12       0.77     0.76  tt0488478\n",
       "2              12 and Holding       0.75     0.73  tt0417385\n",
       "3                  12 Monkeys        0.8     0.89  tt0114746\n",
       "4            12 Years a Slave       0.81     0.95  tt2024544"
      ]
     },
     "execution_count": 977,
     "metadata": {},
     "output_type": "execute_result"
    }
   ],
   "source": [
    "df_scores.head()"
   ]
  },
  {
   "cell_type": "code",
   "execution_count": 978,
   "metadata": {},
   "outputs": [
    {
     "data": {
      "text/plain": [
       "(1145, 4)"
      ]
     },
     "execution_count": 978,
     "metadata": {},
     "output_type": "execute_result"
    }
   ],
   "source": [
    "df_scores.shape"
   ]
  },
  {
   "cell_type": "markdown",
   "metadata": {},
   "source": [
    "Exporting the ids for scraper:"
   ]
  },
  {
   "cell_type": "code",
   "execution_count": 979,
   "metadata": {},
   "outputs": [],
   "source": [
    "df_scores['ID'].to_csv('../web_scraper/imbd_ids.csv', header='ID')"
   ]
  },
  {
   "cell_type": "markdown",
   "metadata": {},
   "source": [
    "Importing the scraped data:"
   ]
  },
  {
   "cell_type": "code",
   "execution_count": 993,
   "metadata": {},
   "outputs": [],
   "source": [
    "df_imdb = pd.read_csv('../../data/imdb_scrape.csv', index_col='Unnamed: 0').reset_index().drop('index', axis=1)"
   ]
  },
  {
   "cell_type": "code",
   "execution_count": 999,
   "metadata": {},
   "outputs": [
    {
     "name": "stdout",
     "output_type": "stream",
     "text": [
      "ye\n"
     ]
    },
    {
     "data": {
      "text/plain": [
       "'Edit\\nDetails\\nCountry: USA\\nLanguage: English | French\\nRelease Date: 31 March 1999 (USA) See more »\\nAlso Known As: 10 Things I Hate About You See more »\\nFilming Locations: 2715 North Junett Street, Tacoma, Washington, USA See more »\\nEdit\\nBox Office\\nBudget:$30,000,000 (estimated)\\nOpening Weekend USA: $8,330,681, 4 April 1999\\nGross USA: $38,178,166\\nCumulative Worldwide Gross: $53,478,166\\nSee more on IMDbPro »\\nCompany Credits\\nProduction Co: Touchstone Pictures, Mad Chance, Jaret Entertainment See more »\\nShow more on IMDbPro »\\nTechnical Specs\\nRuntime: 97 min\\nSound Mix: Dolby Digital | SDDS | DTS\\nColor: Color\\nAspect Ratio: 1.85 : 1\\nSee full technical specs »'"
      ]
     },
     "execution_count": 999,
     "metadata": {},
     "output_type": "execute_result"
    }
   ],
   "source": [
    "if 'Cumulative' in df_imdb['info'][0]:\n",
    "    print('ye')\n",
    "df_imdb['info'][0]"
   ]
  },
  {
   "cell_type": "code",
   "execution_count": 1001,
   "metadata": {},
   "outputs": [
    {
     "name": "stderr",
     "output_type": "stream",
     "text": [
      "C:\\Users\\louis\\Anaconda3\\lib\\site-packages\\ipykernel_launcher.py:9: SettingWithCopyWarning: \n",
      "A value is trying to be set on a copy of a slice from a DataFrame\n",
      "\n",
      "See the caveats in the documentation: http://pandas.pydata.org/pandas-docs/stable/user_guide/indexing.html#returning-a-view-versus-a-copy\n",
      "  if __name__ == '__main__':\n",
      "C:\\Users\\louis\\Anaconda3\\lib\\site-packages\\ipykernel_launcher.py:11: SettingWithCopyWarning: \n",
      "A value is trying to be set on a copy of a slice from a DataFrame\n",
      "\n",
      "See the caveats in the documentation: http://pandas.pydata.org/pandas-docs/stable/user_guide/indexing.html#returning-a-view-versus-a-copy\n",
      "  # This is added back by InteractiveShellApp.init_path()\n",
      "C:\\Users\\louis\\Anaconda3\\lib\\site-packages\\ipykernel_launcher.py:13: SettingWithCopyWarning: \n",
      "A value is trying to be set on a copy of a slice from a DataFrame\n",
      "\n",
      "See the caveats in the documentation: http://pandas.pydata.org/pandas-docs/stable/user_guide/indexing.html#returning-a-view-versus-a-copy\n",
      "  del sys.path[0]\n",
      "C:\\Users\\louis\\Anaconda3\\lib\\site-packages\\ipykernel_launcher.py:15: SettingWithCopyWarning: \n",
      "A value is trying to be set on a copy of a slice from a DataFrame\n",
      "\n",
      "See the caveats in the documentation: http://pandas.pydata.org/pandas-docs/stable/user_guide/indexing.html#returning-a-view-versus-a-copy\n",
      "  from ipykernel import kernelapp as app\n"
     ]
    }
   ],
   "source": [
    "df_scores['Gross_world'], df_scores['Gross_US'], df_scores['Opening_US'], df_scores['Budget'] = np.nan, np.nan, np.nan, np.nan\n",
    "\n",
    "for i in range(df_imdb.shape[0]):\n",
    "    if type(df_imdb['info'][i]) == float:\n",
    "        pass\n",
    "    else:\n",
    "        for j in df_imdb['info'][i].split('\\n'):\n",
    "            if 'Budget' in j:\n",
    "                df_scores['Budget'][i] = j\n",
    "            if 'Opening' in j:\n",
    "                df_scores['Opening_US'][i] = j\n",
    "            if 'Gross' in j:\n",
    "                df_scores['Gross_US'][i] = j\n",
    "            if 'Cumulative' in j:\n",
    "                df_scores['Gross_world'][i] = j"
   ]
  },
  {
   "cell_type": "code",
   "execution_count": 1002,
   "metadata": {},
   "outputs": [
    {
     "data": {
      "text/plain": [
       "(1145, 2)"
      ]
     },
     "execution_count": 1002,
     "metadata": {},
     "output_type": "execute_result"
    }
   ],
   "source": [
    "df_imdb.shape"
   ]
  },
  {
   "cell_type": "code",
   "execution_count": 1005,
   "metadata": {},
   "outputs": [
    {
     "data": {
      "text/plain": [
       "(1145, 8)"
      ]
     },
     "execution_count": 1005,
     "metadata": {},
     "output_type": "execute_result"
    }
   ],
   "source": [
    "df_scores.shape"
   ]
  },
  {
   "cell_type": "code",
   "execution_count": 1003,
   "metadata": {},
   "outputs": [
    {
     "data": {
      "text/plain": [
       "ID      57\n",
       "info    58\n",
       "dtype: int64"
      ]
     },
     "execution_count": 1003,
     "metadata": {},
     "output_type": "execute_result"
    }
   ],
   "source": [
    "df_imdb.isna().sum()"
   ]
  },
  {
   "cell_type": "code",
   "execution_count": 1004,
   "metadata": {},
   "outputs": [
    {
     "data": {
      "text/plain": [
       "titles           0\n",
       "IMDb_score      65\n",
       "RT_score       137\n",
       "ID              57\n",
       "Gross_world    153\n",
       "Gross_US       148\n",
       "Opening_US     211\n",
       "Budget         162\n",
       "dtype: int64"
      ]
     },
     "execution_count": 1004,
     "metadata": {},
     "output_type": "execute_result"
    }
   ],
   "source": [
    "df_scores.isna().sum()"
   ]
  },
  {
   "cell_type": "code",
   "execution_count": null,
   "metadata": {},
   "outputs": [],
   "source": []
  },
  {
   "cell_type": "markdown",
   "metadata": {},
   "source": [
    "Combining the final dataframes in order to drop the nans:"
   ]
  },
  {
   "cell_type": "code",
   "execution_count": 782,
   "metadata": {},
   "outputs": [],
   "source": [
    "df_combined = pd.concat([df_scores, df], axis=1)"
   ]
  },
  {
   "cell_type": "code",
   "execution_count": 783,
   "metadata": {},
   "outputs": [
    {
     "data": {
      "text/plain": [
       "Index(['titles', 'IMDb_score', 'RT_score', 'titles', 'scripts', 'Action',\n",
       "       'ActionThriller', 'Adventure', 'Animation', 'Biography', 'Comedy',\n",
       "       'Crime', 'Drama', 'Family', 'Fantasy', 'FilmNoir', 'History', 'Horror',\n",
       "       'HorrorMystery', 'Music', 'Musical', 'Mystery', 'Romance', 'SciFi',\n",
       "       'Short', 'Sport', 'Thriller', 'War', 'Western'],\n",
       "      dtype='object')"
      ]
     },
     "execution_count": 783,
     "metadata": {},
     "output_type": "execute_result"
    }
   ],
   "source": [
    "df_combined.columns"
   ]
  },
  {
   "cell_type": "code",
   "execution_count": 784,
   "metadata": {},
   "outputs": [],
   "source": [
    "df_fc = df_combined.dropna().reset_index().drop('index', axis=1)"
   ]
  },
  {
   "cell_type": "code",
   "execution_count": 785,
   "metadata": {},
   "outputs": [
    {
     "data": {
      "text/plain": [
       "(1008, 29)"
      ]
     },
     "execution_count": 785,
     "metadata": {},
     "output_type": "execute_result"
    }
   ],
   "source": [
    "df_fc.shape"
   ]
  },
  {
   "cell_type": "code",
   "execution_count": null,
   "metadata": {},
   "outputs": [],
   "source": []
  },
  {
   "cell_type": "code",
   "execution_count": null,
   "metadata": {},
   "outputs": [],
   "source": []
  },
  {
   "cell_type": "code",
   "execution_count": null,
   "metadata": {},
   "outputs": [],
   "source": []
  },
  {
   "cell_type": "code",
   "execution_count": null,
   "metadata": {},
   "outputs": [],
   "source": []
  },
  {
   "cell_type": "code",
   "execution_count": null,
   "metadata": {},
   "outputs": [],
   "source": []
  },
  {
   "cell_type": "markdown",
   "metadata": {},
   "source": [
    "### Tokenizing the Scripts"
   ]
  },
  {
   "cell_type": "markdown",
   "metadata": {},
   "source": [
    "Vectorizer takes in a tokenizer. We then use this blown up df in models."
   ]
  },
  {
   "cell_type": "code",
   "execution_count": 620,
   "metadata": {},
   "outputs": [],
   "source": [
    "from spacy.lang.en import English\n",
    "nlp = English()\n",
    "# Create a blank Tokenizer with just the English vocab\n",
    "tokenizer = Tokenizer(nlp.vocab)"
   ]
  },
  {
   "cell_type": "code",
   "execution_count": 621,
   "metadata": {},
   "outputs": [],
   "source": [
    "tokens = nlp(df['scripts'][0])"
   ]
  },
  {
   "cell_type": "code",
   "execution_count": 622,
   "metadata": {},
   "outputs": [
    {
     "name": "stdout",
     "output_type": "stream",
     "text": [
      "                                False\n",
      "TEN True\n",
      "THINGS False\n",
      "I True\n",
      "HATE False\n",
      "ABOUT True\n",
      "YOU True\n",
      "\n",
      "          \n",
      "                 False\n",
      "written False\n",
      "by True\n",
      "Karen False\n",
      "McCullah False\n",
      "Lutz False\n",
      "& False\n",
      "Kirsten False\n",
      "Smith False\n",
      "\n",
      "          \n",
      "               False\n",
      "based False\n",
      "on True\n",
      "' False\n",
      "Taming False\n",
      "of True\n",
      "the True\n",
      "Shrew False\n",
      "\" False\n",
      "by True\n",
      "William False\n",
      "Shakespeare False\n",
      "\n",
      "          \n",
      "           False\n",
      "Revision False\n",
      "November False\n"
     ]
    }
   ],
   "source": [
    "count = 0\n",
    "for i in tokens:\n",
    "    print(i, i.is_stop)\n",
    "    count += 1\n",
    "    if count > 30:\n",
    "        break"
   ]
  },
  {
   "cell_type": "code",
   "execution_count": 623,
   "metadata": {},
   "outputs": [],
   "source": [
    "def my_tokenizer(string):\n",
    "    doc = nlp(string)\n",
    "    tokens = []\n",
    "    for token in doc:\n",
    "        if token.is_stop == False:\n",
    "            tokens.append(token.lemma_)\n",
    "        elif token.is_punct == False:\n",
    "            tokens.append(token.lemma_)\n",
    "        elif token.is_space == False:\n",
    "            tokens.append(token.lemma_)\n",
    "\n",
    "\n",
    "    return tokens"
   ]
  },
  {
   "cell_type": "code",
   "execution_count": 624,
   "metadata": {},
   "outputs": [
    {
     "name": "stdout",
     "output_type": "stream",
     "text": [
      "                               \n",
      "TEN\n",
      "THINGS\n",
      "I\n",
      "HATE\n",
      "ABOUT\n",
      "YOU\n",
      "\n",
      "          \n",
      "                \n",
      "write\n",
      "by\n",
      "Karen\n",
      "McCullah\n",
      "Lutz\n",
      "&\n",
      "Kirsten\n",
      "Smith\n",
      "\n",
      "          \n",
      "              \n",
      "base\n",
      "on\n",
      "'\n",
      "Taming\n",
      "of\n",
      "the\n",
      "Shrew\n",
      "\"\n",
      "by\n",
      "William\n",
      "Shakespeare\n",
      "\n",
      "          \n",
      "          \n",
      "Revision\n",
      "November\n"
     ]
    }
   ],
   "source": [
    "temp = my_tokenizer(df['scripts'][0])\n",
    "count = 0\n",
    "\n",
    "for i in temp:\n",
    "    count += 1\n",
    "    print(i)\n",
    "    if count > 30:\n",
    "        break"
   ]
  },
  {
   "cell_type": "code",
   "execution_count": 625,
   "metadata": {},
   "outputs": [],
   "source": [
    "from sklearn.feature_extraction.text import CountVectorizer"
   ]
  },
  {
   "cell_type": "code",
   "execution_count": 626,
   "metadata": {},
   "outputs": [],
   "source": [
    "temp_df = df['scripts'][:2]"
   ]
  },
  {
   "cell_type": "code",
   "execution_count": 627,
   "metadata": {},
   "outputs": [],
   "source": [
    "bagowords = CountVectorizer(tokenizer=my_tokenizer)"
   ]
  },
  {
   "cell_type": "code",
   "execution_count": 628,
   "metadata": {},
   "outputs": [],
   "source": [
    "test = bagowords.fit_transform(temp_df)"
   ]
  },
  {
   "cell_type": "code",
   "execution_count": 629,
   "metadata": {},
   "outputs": [
    {
     "data": {
      "text/plain": [
       "<2x3733 sparse matrix of type '<class 'numpy.int64'>'\n",
       "\twith 4680 stored elements in Compressed Sparse Row format>"
      ]
     },
     "execution_count": 629,
     "metadata": {},
     "output_type": "execute_result"
    }
   ],
   "source": [
    "test"
   ]
  },
  {
   "cell_type": "code",
   "execution_count": 630,
   "metadata": {},
   "outputs": [
    {
     "data": {
      "text/plain": [
       "\\n                                                                                                                                                                                                                    651\n",
       "\\n\\n                                                                                                                                                                                                                  469\n",
       "\\n\\n\\n                                                                                                                                                                                                                 19\n",
       "\\n\\n\\n\\n                                                                                                                                                                                                                2\n",
       "\\n\\n\\n                                                                                                                                                                                                                  1\n",
       "\\n\\n\\n                                                                                                                                                                                                                162\n",
       "\\n\\n\\n                                                                                                                                                                                                                  2\n",
       "\\n\\n                                                                                                                                                                                                                    1\n",
       "\\n\\n \\n                                                                                                                                                                                                                 3\n",
       "\\n\\n  \\n                                                                                                                                                                                                                1\n",
       "\\n\\n  \\n                                                                                                                                                                                                                4\n",
       "\\n\\n                                                                                                                                                                                                                  315\n",
       "\\n\\n                                                                                                                                                                                                                    2\n",
       "\\n\\n                                                                                                                                                                                                                    1\n",
       "\\n\\n          \\n                                                                                                                                                                                                        1\n",
       "\\n\\n                                                                                                                                                                                                                    1\n",
       "\\n                                                                                                                                                                                                                    784\n",
       "\\n \\n                                                                                                                                                                                                                   8\n",
       "\\n \\n\\n                                                                                                                                                                                                                 2\n",
       "\\n \\n\\n                                                                                                                                                                                                                 1\n",
       "dtype: int64"
      ]
     },
     "execution_count": 630,
     "metadata": {},
     "output_type": "execute_result"
    }
   ],
   "source": [
    "my_df = pd.DataFrame(columns=bagowords.get_feature_names(), data=test.toarray())\n",
    "my_df.sum().head(20)"
   ]
  },
  {
   "cell_type": "code",
   "execution_count": null,
   "metadata": {},
   "outputs": [],
   "source": []
  },
  {
   "cell_type": "code",
   "execution_count": null,
   "metadata": {},
   "outputs": [],
   "source": []
  }
 ],
 "metadata": {
  "kernelspec": {
   "display_name": "Python 3",
   "language": "python",
   "name": "python3"
  },
  "language_info": {
   "codemirror_mode": {
    "name": "ipython",
    "version": 3
   },
   "file_extension": ".py",
   "mimetype": "text/x-python",
   "name": "python",
   "nbconvert_exporter": "python",
   "pygments_lexer": "ipython3",
   "version": "3.7.4"
  }
 },
 "nbformat": 4,
 "nbformat_minor": 4
}
