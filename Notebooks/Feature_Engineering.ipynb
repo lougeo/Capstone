{
 "cells": [
  {
   "cell_type": "markdown",
   "metadata": {},
   "source": [
    "# Louis George    \n",
    "\n",
    "## Feature Engineering"
   ]
  },
  {
   "cell_type": "code",
   "execution_count": 3,
   "metadata": {},
   "outputs": [],
   "source": [
    "import numpy as np\n",
    "import pandas as pd\n",
    "\n",
    "import spacy\n",
    "\n",
    "from sklearn.feature_extraction.text import CountVectorizer\n",
    "from sklearn.feature_extraction.text import TfidfVectorizer\n",
    "from sklearn.model_selection import train_test_split\n",
    "\n",
    "import matplotlib.pyplot as plt\n",
    "%matplotlib inline"
   ]
  },
  {
   "cell_type": "markdown",
   "metadata": {},
   "source": [
    "#### Warning: Lots of the functions in this notebook take a LONG time to run!"
   ]
  },
  {
   "cell_type": "markdown",
   "metadata": {},
   "source": [
    "### Reading in the data"
   ]
  },
  {
   "cell_type": "code",
   "execution_count": 3,
   "metadata": {},
   "outputs": [],
   "source": [
    "df = pd.read_csv('../../data/df_clean.csv')"
   ]
  },
  {
   "cell_type": "code",
   "execution_count": 4,
   "metadata": {},
   "outputs": [
    {
     "data": {
      "text/html": [
       "<div>\n",
       "<style scoped>\n",
       "    .dataframe tbody tr th:only-of-type {\n",
       "        vertical-align: middle;\n",
       "    }\n",
       "\n",
       "    .dataframe tbody tr th {\n",
       "        vertical-align: top;\n",
       "    }\n",
       "\n",
       "    .dataframe thead th {\n",
       "        text-align: right;\n",
       "    }\n",
       "</style>\n",
       "<table border=\"1\" class=\"dataframe\">\n",
       "  <thead>\n",
       "    <tr style=\"text-align: right;\">\n",
       "      <th></th>\n",
       "      <th>IMDb_score</th>\n",
       "      <th>RT_score</th>\n",
       "      <th>Gross_world</th>\n",
       "      <th>Budget</th>\n",
       "      <th>scripts</th>\n",
       "      <th>genres</th>\n",
       "    </tr>\n",
       "  </thead>\n",
       "  <tbody>\n",
       "    <tr>\n",
       "      <td>0</td>\n",
       "      <td>0.73</td>\n",
       "      <td>0.68</td>\n",
       "      <td>53478166</td>\n",
       "      <td>30000000</td>\n",
       "      <td>TEN THINGS I HA...</td>\n",
       "      <td>Comedy|Romance</td>\n",
       "    </tr>\n",
       "    <tr>\n",
       "      <td>1</td>\n",
       "      <td>0.77</td>\n",
       "      <td>0.76</td>\n",
       "      <td>7537453</td>\n",
       "      <td>4000000</td>\n",
       "      <td>\\n  \\n\\n\\n\\n\\nCUT FROM BLACK\\n\\nTITLE: FIN\\n...</td>\n",
       "      <td>Comedy</td>\n",
       "    </tr>\n",
       "    <tr>\n",
       "      <td>2</td>\n",
       "      <td>0.75</td>\n",
       "      <td>0.73</td>\n",
       "      <td>119195</td>\n",
       "      <td>400000</td>\n",
       "      <td>\\n          \\n          \\n         ...</td>\n",
       "      <td>Drama</td>\n",
       "    </tr>\n",
       "    <tr>\n",
       "      <td>3</td>\n",
       "      <td>0.80</td>\n",
       "      <td>0.89</td>\n",
       "      <td>168839459</td>\n",
       "      <td>29000001</td>\n",
       "      <td>TWELVE MONKEYS\\n     \\n            An orig...</td>\n",
       "      <td>Drama|SciFi|Thriller</td>\n",
       "    </tr>\n",
       "    <tr>\n",
       "      <td>4</td>\n",
       "      <td>0.81</td>\n",
       "      <td>0.95</td>\n",
       "      <td>187733202</td>\n",
       "      <td>20000000</td>\n",
       "      <td>12 YEARS A SLAVE\\...</td>\n",
       "      <td>Drama</td>\n",
       "    </tr>\n",
       "  </tbody>\n",
       "</table>\n",
       "</div>"
      ],
      "text/plain": [
       "   IMDb_score  RT_score  Gross_world    Budget  \\\n",
       "0        0.73      0.68     53478166  30000000   \n",
       "1        0.77      0.76      7537453   4000000   \n",
       "2        0.75      0.73       119195    400000   \n",
       "3        0.80      0.89    168839459  29000001   \n",
       "4        0.81      0.95    187733202  20000000   \n",
       "\n",
       "                                             scripts                genres  \n",
       "0                                 TEN THINGS I HA...        Comedy|Romance  \n",
       "1    \\n  \\n\\n\\n\\n\\nCUT FROM BLACK\\n\\nTITLE: FIN\\n...                Comedy  \n",
       "2             \\n          \\n          \\n         ...                 Drama  \n",
       "3      TWELVE MONKEYS\\n     \\n            An orig...  Drama|SciFi|Thriller  \n",
       "4                               12 YEARS A SLAVE\\...                 Drama  "
      ]
     },
     "execution_count": 4,
     "metadata": {},
     "output_type": "execute_result"
    }
   ],
   "source": [
    "df.head()"
   ]
  },
  {
   "cell_type": "code",
   "execution_count": 75,
   "metadata": {},
   "outputs": [],
   "source": [
    "X = df.iloc[:, -2:]\n",
    "y = df.iloc[:, :4]"
   ]
  },
  {
   "cell_type": "markdown",
   "metadata": {},
   "source": [
    "### Dummying the genres:"
   ]
  },
  {
   "cell_type": "code",
   "execution_count": 6,
   "metadata": {},
   "outputs": [],
   "source": [
    "X = pd.concat((X, X['genres'].str.get_dummies()), axis=1).drop('genres', axis=1)"
   ]
  },
  {
   "cell_type": "code",
   "execution_count": 7,
   "metadata": {},
   "outputs": [
    {
     "data": {
      "text/plain": [
       "(922, 23)"
      ]
     },
     "execution_count": 7,
     "metadata": {},
     "output_type": "execute_result"
    }
   ],
   "source": [
    "X.shape"
   ]
  },
  {
   "cell_type": "markdown",
   "metadata": {},
   "source": [
    "### Writing the preprocessing, and tokenizing function"
   ]
  },
  {
   "cell_type": "markdown",
   "metadata": {},
   "source": [
    "There are a lot of numbers in the scripts from the formatting, so I want to remove those."
   ]
  },
  {
   "cell_type": "code",
   "execution_count": 296,
   "metadata": {},
   "outputs": [],
   "source": [
    "def my_preprocessor(string):\n",
    "    no_d = ''.join([i for i in string if not i.isdigit()])\n",
    "    return no_d.lower()"
   ]
  },
  {
   "cell_type": "markdown",
   "metadata": {},
   "source": [
    "I will remove stopwords, punctuation, and some other unwanted things in the tokenizing function, as well as lemmatize."
   ]
  },
  {
   "cell_type": "code",
   "execution_count": 297,
   "metadata": {},
   "outputs": [],
   "source": [
    "def my_tokenizer(string):\n",
    "    # Initializing the spacy class\n",
    "    nlp = spacy.load(\"en_core_web_sm\")\n",
    "    doc = nlp(string)\n",
    "    # List to append accepted tokens to\n",
    "    tokens = []\n",
    "    # Condition for a good token\n",
    "    for token in doc:\n",
    "\n",
    "        if (token.is_stop == False) & \\\n",
    "           (token.is_punct == False) & \\\n",
    "           (token.is_space == False) & \\\n",
    "           ('\\n' not in str(token)):\n",
    "            \n",
    "            tokens.append(token.lemma_)\n",
    "\n",
    "    return tokens"
   ]
  },
  {
   "cell_type": "markdown",
   "metadata": {},
   "source": [
    "__________________\n",
    "**Tokenizer Tester**\n",
    "_________________________"
   ]
  },
  {
   "cell_type": "code",
   "execution_count": 63,
   "metadata": {
    "collapsed": true,
    "jupyter": {
     "outputs_hidden": true
    }
   },
   "outputs": [
    {
     "name": "stdout",
     "output_type": "stream",
     "text": [
      "things\n",
      "hate\n",
      "write\n",
      "Karen\n",
      "McCullah\n",
      "Lutz\n",
      "Kirsten\n",
      "Smith\n",
      "base\n",
      "taming\n",
      "Shrew\n",
      "William\n",
      "Shakespeare\n",
      "Revision\n",
      "November\n",
      "12\n",
      "1997\n",
      "PADUA\n",
      "HIGH\n",
      "SCHOOL\n",
      "day\n",
      "welcome\n",
      "Padua\n",
      "High\n",
      "School\n",
      "typical\n",
      "urban\n",
      "suburban\n",
      "high\n",
      "school\n",
      "Portland\n",
      "['__add__', '__class__', '__contains__', '__delattr__', '__dir__', '__doc__', '__eq__', '__format__', '__ge__', '__getattribute__', '__getitem__', '__getnewargs__', '__gt__', '__hash__', '__init__', '__init_subclass__', '__iter__', '__le__', '__len__', '__lt__', '__mod__', '__mul__', '__ne__', '__new__', '__reduce__', '__reduce_ex__', '__repr__', '__rmod__', '__rmul__', '__setattr__', '__sizeof__', '__str__', '__subclasshook__', 'capitalize', 'casefold', 'center', 'count', 'encode', 'endswith', 'expandtabs', 'find', 'format', 'format_map', 'index', 'isalnum', 'isalpha', 'isascii', 'isdecimal', 'isdigit', 'isidentifier', 'islower', 'isnumeric', 'isprintable', 'isspace', 'istitle', 'isupper', 'join', 'ljust', 'lower', 'lstrip', 'maketrans', 'partition', 'replace', 'rfind', 'rindex', 'rjust', 'rpartition', 'rsplit', 'rstrip', 'split', 'splitlines', 'startswith', 'strip', 'swapcase', 'title', 'translate', 'upper', 'zfill']\n"
     ]
    }
   ],
   "source": [
    "temp = my_tokenizer(X['scripts'][0])\n",
    "count = 0\n",
    "for i in temp:\n",
    "    count += 1\n",
    "    print(i)\n",
    "    if count > 30:\n",
    "        print(dir(i))\n",
    "        break"
   ]
  },
  {
   "cell_type": "code",
   "execution_count": 10,
   "metadata": {},
   "outputs": [],
   "source": [
    "temp_df = X['scripts'][:2]"
   ]
  },
  {
   "cell_type": "code",
   "execution_count": 13,
   "metadata": {},
   "outputs": [],
   "source": [
    "bagowords = TfidfVectorizer(tokenizer=my_tokenizer)"
   ]
  },
  {
   "cell_type": "code",
   "execution_count": 14,
   "metadata": {},
   "outputs": [],
   "source": [
    "test = bagowords.fit_transform(temp_df)"
   ]
  },
  {
   "cell_type": "code",
   "execution_count": 15,
   "metadata": {},
   "outputs": [
    {
     "data": {
      "text/plain": [
       "<2x3588 sparse matrix of type '<class 'numpy.float64'>'\n",
       "\twith 4363 stored elements in Compressed Sparse Row format>"
      ]
     },
     "execution_count": 15,
     "metadata": {},
     "output_type": "execute_result"
    }
   ],
   "source": [
    "test"
   ]
  },
  {
   "cell_type": "code",
   "execution_count": 16,
   "metadata": {
    "collapsed": true,
    "jupyter": {
     "outputs_hidden": true
    }
   },
   "outputs": [
    {
     "data": {
      "text/html": [
       "<div>\n",
       "<style scoped>\n",
       "    .dataframe tbody tr th:only-of-type {\n",
       "        vertical-align: middle;\n",
       "    }\n",
       "\n",
       "    .dataframe tbody tr th {\n",
       "        vertical-align: top;\n",
       "    }\n",
       "\n",
       "    .dataframe thead th {\n",
       "        text-align: right;\n",
       "    }\n",
       "</style>\n",
       "<table border=\"1\" class=\"dataframe\">\n",
       "  <thead>\n",
       "    <tr style=\"text-align: right;\">\n",
       "      <th></th>\n",
       "      <th>$</th>\n",
       "      <th>-PRON-</th>\n",
       "      <th>-day</th>\n",
       "      <th>-inconspicuously</th>\n",
       "      <th>.the</th>\n",
       "      <th>0</th>\n",
       "      <th>0.s</th>\n",
       "      <th>1</th>\n",
       "      <th>1/2</th>\n",
       "      <th>10</th>\n",
       "      <th>...</th>\n",
       "      <th>young</th>\n",
       "      <th>yuppie</th>\n",
       "      <th>zebra</th>\n",
       "      <th>zero</th>\n",
       "      <th>zeus</th>\n",
       "      <th>ziggy</th>\n",
       "      <th>zip</th>\n",
       "      <th>zipper</th>\n",
       "      <th>zodiac</th>\n",
       "      <th>zoom</th>\n",
       "    </tr>\n",
       "  </thead>\n",
       "  <tbody>\n",
       "    <tr>\n",
       "      <td>0</td>\n",
       "      <td>0.000000</td>\n",
       "      <td>0.004022</td>\n",
       "      <td>0.000000</td>\n",
       "      <td>0.001341</td>\n",
       "      <td>0.001341</td>\n",
       "      <td>0.008045</td>\n",
       "      <td>0.004022</td>\n",
       "      <td>0.000954</td>\n",
       "      <td>0.000000</td>\n",
       "      <td>0.000954</td>\n",
       "      <td>...</td>\n",
       "      <td>0.000954</td>\n",
       "      <td>0.001341</td>\n",
       "      <td>0.000000</td>\n",
       "      <td>0.001341</td>\n",
       "      <td>0.000000</td>\n",
       "      <td>0.001341</td>\n",
       "      <td>0.000000</td>\n",
       "      <td>0.001341</td>\n",
       "      <td>0.000000</td>\n",
       "      <td>0.001341</td>\n",
       "    </tr>\n",
       "    <tr>\n",
       "      <td>1</td>\n",
       "      <td>0.001962</td>\n",
       "      <td>0.000000</td>\n",
       "      <td>0.003925</td>\n",
       "      <td>0.000000</td>\n",
       "      <td>0.000000</td>\n",
       "      <td>0.000000</td>\n",
       "      <td>0.000000</td>\n",
       "      <td>0.009774</td>\n",
       "      <td>0.003925</td>\n",
       "      <td>0.002793</td>\n",
       "      <td>...</td>\n",
       "      <td>0.008378</td>\n",
       "      <td>0.000000</td>\n",
       "      <td>0.003925</td>\n",
       "      <td>0.000000</td>\n",
       "      <td>0.003925</td>\n",
       "      <td>0.000000</td>\n",
       "      <td>0.001962</td>\n",
       "      <td>0.000000</td>\n",
       "      <td>0.005887</td>\n",
       "      <td>0.000000</td>\n",
       "    </tr>\n",
       "  </tbody>\n",
       "</table>\n",
       "<p>2 rows × 3588 columns</p>\n",
       "</div>"
      ],
      "text/plain": [
       "          $    -PRON-      -day  -inconspicuously      .the         0  \\\n",
       "0  0.000000  0.004022  0.000000          0.001341  0.001341  0.008045   \n",
       "1  0.001962  0.000000  0.003925          0.000000  0.000000  0.000000   \n",
       "\n",
       "        0.s         1       1/2        10  ...     young    yuppie     zebra  \\\n",
       "0  0.004022  0.000954  0.000000  0.000954  ...  0.000954  0.001341  0.000000   \n",
       "1  0.000000  0.009774  0.003925  0.002793  ...  0.008378  0.000000  0.003925   \n",
       "\n",
       "       zero      zeus     ziggy       zip    zipper    zodiac      zoom  \n",
       "0  0.001341  0.000000  0.001341  0.000000  0.001341  0.000000  0.001341  \n",
       "1  0.000000  0.003925  0.000000  0.001962  0.000000  0.005887  0.000000  \n",
       "\n",
       "[2 rows x 3588 columns]"
      ]
     },
     "execution_count": 16,
     "metadata": {},
     "output_type": "execute_result"
    }
   ],
   "source": [
    "my_df = pd.DataFrame(columns=bagowords.get_feature_names(), data=test.toarray())\n",
    "my_df.head()"
   ]
  },
  {
   "cell_type": "code",
   "execution_count": 17,
   "metadata": {
    "collapsed": true,
    "jupyter": {
     "outputs_hidden": true
    }
   },
   "outputs": [
    {
     "data": {
      "text/plain": [
       "kat         0.572525\n",
       "allen       0.535755\n",
       "tony        0.531830\n",
       "patrick     0.458556\n",
       "bianca      0.367381\n",
       "cameron     0.276206\n",
       "day         0.267407\n",
       "marie       0.243347\n",
       "look        0.211918\n",
       "noel        0.206060\n",
       "michael     0.205144\n",
       "exterior    0.202024\n",
       "joey        0.191736\n",
       "walk        0.171087\n",
       "know        0.137177\n",
       "night       0.126917\n",
       "mandella    0.126036\n",
       "go          0.125963\n",
       "continue    0.117810\n",
       "view        0.109424\n",
       "dtype: float64"
      ]
     },
     "execution_count": 17,
     "metadata": {},
     "output_type": "execute_result"
    }
   ],
   "source": [
    "my_df.sum().sort_values(ascending=False).head(20)"
   ]
  },
  {
   "cell_type": "markdown",
   "metadata": {},
   "source": [
    "_____________________\n",
    "**End of test**\n",
    "_____________________"
   ]
  },
  {
   "cell_type": "markdown",
   "metadata": {},
   "source": [
    "### Creating some additional features    \n",
    "Warning: Takes a LONG time to run!"
   ]
  },
  {
   "cell_type": "code",
   "execution_count": 155,
   "metadata": {
    "collapsed": true,
    "jupyter": {
     "outputs_hidden": true
    }
   },
   "outputs": [
    {
     "name": "stderr",
     "output_type": "stream",
     "text": [
      "C:\\Users\\louis\\Anaconda3\\lib\\site-packages\\ipykernel_launcher.py:28: SettingWithCopyWarning: \n",
      "A value is trying to be set on a copy of a slice from a DataFrame\n",
      "\n",
      "See the caveats in the documentation: http://pandas.pydata.org/pandas-docs/stable/user_guide/indexing.html#returning-a-view-versus-a-copy\n",
      "C:\\Users\\louis\\Anaconda3\\lib\\site-packages\\ipykernel_launcher.py:24: SettingWithCopyWarning: \n",
      "A value is trying to be set on a copy of a slice from a DataFrame\n",
      "\n",
      "See the caveats in the documentation: http://pandas.pydata.org/pandas-docs/stable/user_guide/indexing.html#returning-a-view-versus-a-copy\n",
      "C:\\Users\\louis\\Anaconda3\\lib\\site-packages\\ipykernel_launcher.py:20: SettingWithCopyWarning: \n",
      "A value is trying to be set on a copy of a slice from a DataFrame\n",
      "\n",
      "See the caveats in the documentation: http://pandas.pydata.org/pandas-docs/stable/user_guide/indexing.html#returning-a-view-versus-a-copy\n",
      "C:\\Users\\louis\\Anaconda3\\lib\\site-packages\\ipykernel_launcher.py:26: SettingWithCopyWarning: \n",
      "A value is trying to be set on a copy of a slice from a DataFrame\n",
      "\n",
      "See the caveats in the documentation: http://pandas.pydata.org/pandas-docs/stable/user_guide/indexing.html#returning-a-view-versus-a-copy\n",
      "C:\\Users\\louis\\Anaconda3\\lib\\site-packages\\ipykernel_launcher.py:30: SettingWithCopyWarning: \n",
      "A value is trying to be set on a copy of a slice from a DataFrame\n",
      "\n",
      "See the caveats in the documentation: http://pandas.pydata.org/pandas-docs/stable/user_guide/indexing.html#returning-a-view-versus-a-copy\n",
      "C:\\Users\\louis\\Anaconda3\\lib\\site-packages\\ipykernel_launcher.py:22: SettingWithCopyWarning: \n",
      "A value is trying to be set on a copy of a slice from a DataFrame\n",
      "\n",
      "See the caveats in the documentation: http://pandas.pydata.org/pandas-docs/stable/user_guide/indexing.html#returning-a-view-versus-a-copy\n"
     ]
    },
    {
     "name": "stdout",
     "output_type": "stream",
     "text": [
      "Just finished: 921\r"
     ]
    }
   ],
   "source": [
    "# Initializing columns\n",
    "X['Num_NOUN'], X['Num_PRON'], X['Num_PROPN'], X['Num_ADJ'], X['Num_VERB'], X['Num_ADV'] = 0, 0, 0, 0, 0, 0\n",
    "\n",
    "# Iterating over all scripts\n",
    "for i in range(X.shape[0]):\n",
    "    \n",
    "    # Initializing the spacy class\n",
    "    nlp = spacy.load(\"en_core_web_sm\")\n",
    "    doc = nlp(X['scripts'][i])\n",
    "\n",
    "    # Condition for a good token\n",
    "    for token in doc:\n",
    "        if (token.is_stop == False) & \\\n",
    "           (token.is_punct == False) & \\\n",
    "           (token.is_space == False) & \\\n",
    "           ('\\n' not in str(token)):\n",
    "            pos = token.pos_\n",
    "            # Condition for each POS\n",
    "            if pos == 'NOUN':\n",
    "                X['Num_NOUN'][i] += 1\n",
    "            elif pos == 'PRON':\n",
    "                X['Num_PRON'][i] += 1\n",
    "            elif pos == 'PROPN':\n",
    "                X['Num_PROPN'][i] += 1\n",
    "            elif pos == 'ADJ':\n",
    "                X['Num_ADJ'][i] += 1\n",
    "            elif pos == 'VERB':\n",
    "                X['Num_VERB'][i] += 1\n",
    "            elif pos == 'ADV':\n",
    "                X['Num_ADV'][i] += 1\n",
    "    print(f'Just finished: {i}', end='\\r')"
   ]
  },
  {
   "cell_type": "code",
   "execution_count": 156,
   "metadata": {},
   "outputs": [
    {
     "data": {
      "text/html": [
       "<div>\n",
       "<style scoped>\n",
       "    .dataframe tbody tr th:only-of-type {\n",
       "        vertical-align: middle;\n",
       "    }\n",
       "\n",
       "    .dataframe tbody tr th {\n",
       "        vertical-align: top;\n",
       "    }\n",
       "\n",
       "    .dataframe thead th {\n",
       "        text-align: right;\n",
       "    }\n",
       "</style>\n",
       "<table border=\"1\" class=\"dataframe\">\n",
       "  <thead>\n",
       "    <tr style=\"text-align: right;\">\n",
       "      <th></th>\n",
       "      <th>scripts</th>\n",
       "      <th>Action</th>\n",
       "      <th>Adventure</th>\n",
       "      <th>Animation</th>\n",
       "      <th>Biography</th>\n",
       "      <th>Comedy</th>\n",
       "      <th>Crime</th>\n",
       "      <th>Drama</th>\n",
       "      <th>Family</th>\n",
       "      <th>Fantasy</th>\n",
       "      <th>...</th>\n",
       "      <th>Sport</th>\n",
       "      <th>Thriller</th>\n",
       "      <th>War</th>\n",
       "      <th>Western</th>\n",
       "      <th>Num_NOUN</th>\n",
       "      <th>Num_PRON</th>\n",
       "      <th>Num_PROPN</th>\n",
       "      <th>Num_ADJ</th>\n",
       "      <th>Num_VERB</th>\n",
       "      <th>Num_ADV</th>\n",
       "    </tr>\n",
       "  </thead>\n",
       "  <tbody>\n",
       "    <tr>\n",
       "      <td>917</td>\n",
       "      <td>You've Got Mail\\n\\n   by Nora Ephron &amp; Deli...</td>\n",
       "      <td>0</td>\n",
       "      <td>0</td>\n",
       "      <td>0</td>\n",
       "      <td>0</td>\n",
       "      <td>1</td>\n",
       "      <td>0</td>\n",
       "      <td>0</td>\n",
       "      <td>0</td>\n",
       "      <td>0</td>\n",
       "      <td>...</td>\n",
       "      <td>0</td>\n",
       "      <td>0</td>\n",
       "      <td>0</td>\n",
       "      <td>0</td>\n",
       "      <td>3612</td>\n",
       "      <td>5</td>\n",
       "      <td>3558</td>\n",
       "      <td>816</td>\n",
       "      <td>2900</td>\n",
       "      <td>341</td>\n",
       "    </tr>\n",
       "    <tr>\n",
       "      <td>918</td>\n",
       "      <td>\\n          \\n\\n                             ...</td>\n",
       "      <td>0</td>\n",
       "      <td>0</td>\n",
       "      <td>0</td>\n",
       "      <td>0</td>\n",
       "      <td>1</td>\n",
       "      <td>0</td>\n",
       "      <td>1</td>\n",
       "      <td>0</td>\n",
       "      <td>0</td>\n",
       "      <td>...</td>\n",
       "      <td>0</td>\n",
       "      <td>0</td>\n",
       "      <td>0</td>\n",
       "      <td>0</td>\n",
       "      <td>4647</td>\n",
       "      <td>5</td>\n",
       "      <td>4016</td>\n",
       "      <td>936</td>\n",
       "      <td>3072</td>\n",
       "      <td>387</td>\n",
       "    </tr>\n",
       "    <tr>\n",
       "      <td>919</td>\n",
       "      <td>\\n                                 ZERO DARK ...</td>\n",
       "      <td>0</td>\n",
       "      <td>0</td>\n",
       "      <td>0</td>\n",
       "      <td>0</td>\n",
       "      <td>0</td>\n",
       "      <td>0</td>\n",
       "      <td>1</td>\n",
       "      <td>0</td>\n",
       "      <td>0</td>\n",
       "      <td>...</td>\n",
       "      <td>0</td>\n",
       "      <td>1</td>\n",
       "      <td>0</td>\n",
       "      <td>0</td>\n",
       "      <td>3554</td>\n",
       "      <td>8</td>\n",
       "      <td>3829</td>\n",
       "      <td>817</td>\n",
       "      <td>2453</td>\n",
       "      <td>263</td>\n",
       "    </tr>\n",
       "    <tr>\n",
       "      <td>920</td>\n",
       "      <td>ZEROPHI...</td>\n",
       "      <td>0</td>\n",
       "      <td>0</td>\n",
       "      <td>0</td>\n",
       "      <td>0</td>\n",
       "      <td>1</td>\n",
       "      <td>0</td>\n",
       "      <td>0</td>\n",
       "      <td>0</td>\n",
       "      <td>0</td>\n",
       "      <td>...</td>\n",
       "      <td>0</td>\n",
       "      <td>0</td>\n",
       "      <td>0</td>\n",
       "      <td>0</td>\n",
       "      <td>2102</td>\n",
       "      <td>11</td>\n",
       "      <td>2242</td>\n",
       "      <td>606</td>\n",
       "      <td>1744</td>\n",
       "      <td>240</td>\n",
       "    </tr>\n",
       "    <tr>\n",
       "      <td>921</td>\n",
       "      <td>ZOOTOPIA\\n\\n\\n\\n\\n...</td>\n",
       "      <td>0</td>\n",
       "      <td>1</td>\n",
       "      <td>1</td>\n",
       "      <td>0</td>\n",
       "      <td>1</td>\n",
       "      <td>0</td>\n",
       "      <td>0</td>\n",
       "      <td>0</td>\n",
       "      <td>0</td>\n",
       "      <td>...</td>\n",
       "      <td>0</td>\n",
       "      <td>0</td>\n",
       "      <td>0</td>\n",
       "      <td>0</td>\n",
       "      <td>3258</td>\n",
       "      <td>36</td>\n",
       "      <td>3545</td>\n",
       "      <td>786</td>\n",
       "      <td>2385</td>\n",
       "      <td>299</td>\n",
       "    </tr>\n",
       "  </tbody>\n",
       "</table>\n",
       "<p>5 rows × 29 columns</p>\n",
       "</div>"
      ],
      "text/plain": [
       "                                               scripts  Action  Adventure  \\\n",
       "917     You've Got Mail\\n\\n   by Nora Ephron & Deli...       0          0   \n",
       "918   \\n          \\n\\n                             ...       0          0   \n",
       "919   \\n                                 ZERO DARK ...       0          0   \n",
       "920                                         ZEROPHI...       0          0   \n",
       "921                              ZOOTOPIA\\n\\n\\n\\n\\n...       0          1   \n",
       "\n",
       "     Animation  Biography  Comedy  Crime  Drama  Family  Fantasy  ...  Sport  \\\n",
       "917          0          0       1      0      0       0        0  ...      0   \n",
       "918          0          0       1      0      1       0        0  ...      0   \n",
       "919          0          0       0      0      1       0        0  ...      0   \n",
       "920          0          0       1      0      0       0        0  ...      0   \n",
       "921          1          0       1      0      0       0        0  ...      0   \n",
       "\n",
       "     Thriller  War  Western  Num_NOUN  Num_PRON  Num_PROPN  Num_ADJ  Num_VERB  \\\n",
       "917         0    0        0      3612         5       3558      816      2900   \n",
       "918         0    0        0      4647         5       4016      936      3072   \n",
       "919         1    0        0      3554         8       3829      817      2453   \n",
       "920         0    0        0      2102        11       2242      606      1744   \n",
       "921         0    0        0      3258        36       3545      786      2385   \n",
       "\n",
       "     Num_ADV  \n",
       "917      341  \n",
       "918      387  \n",
       "919      263  \n",
       "920      240  \n",
       "921      299  \n",
       "\n",
       "[5 rows x 29 columns]"
      ]
     },
     "execution_count": 156,
     "metadata": {},
     "output_type": "execute_result"
    }
   ],
   "source": [
    "X.tail()"
   ]
  },
  {
   "cell_type": "markdown",
   "metadata": {},
   "source": [
    "This script takes a long time to run, so I will export a copy of the dataframe from this point, and then load it and then reload it for the remainder of the steps. I'm doing this because I will be tuning the vectorizer, and don't want to have to rerun this function."
   ]
  },
  {
   "cell_type": "code",
   "execution_count": 165,
   "metadata": {},
   "outputs": [],
   "source": [
    "X.to_csv('../../data/X_plus.csv', columns=X.columns, index=False)"
   ]
  },
  {
   "cell_type": "code",
   "execution_count": 96,
   "metadata": {},
   "outputs": [],
   "source": [
    "X_n = pd.read_csv('../../data/X_plus.csv')"
   ]
  },
  {
   "cell_type": "code",
   "execution_count": 97,
   "metadata": {},
   "outputs": [
    {
     "data": {
      "text/plain": [
       "(922, 29)"
      ]
     },
     "execution_count": 97,
     "metadata": {},
     "output_type": "execute_result"
    }
   ],
   "source": [
    "X_n.shape"
   ]
  },
  {
   "cell_type": "markdown",
   "metadata": {},
   "source": [
    "### Engineering the targets"
   ]
  },
  {
   "cell_type": "markdown",
   "metadata": {},
   "source": [
    "Defining a new target as the percent profit of the film.    \n",
    "This will be defined as:   \n",
    "Percent Profit = Cumulative Worldwide Gross / Budget * 100   \n",
    "Answer rounded to the nearest hundreth"
   ]
  },
  {
   "cell_type": "code",
   "execution_count": 76,
   "metadata": {},
   "outputs": [],
   "source": [
    "y['Per_Profit'] = round((y['Gross_world'] / y['Budget'] * 100), 2)"
   ]
  },
  {
   "cell_type": "code",
   "execution_count": 77,
   "metadata": {},
   "outputs": [
    {
     "data": {
      "text/html": [
       "<div>\n",
       "<style scoped>\n",
       "    .dataframe tbody tr th:only-of-type {\n",
       "        vertical-align: middle;\n",
       "    }\n",
       "\n",
       "    .dataframe tbody tr th {\n",
       "        vertical-align: top;\n",
       "    }\n",
       "\n",
       "    .dataframe thead th {\n",
       "        text-align: right;\n",
       "    }\n",
       "</style>\n",
       "<table border=\"1\" class=\"dataframe\">\n",
       "  <thead>\n",
       "    <tr style=\"text-align: right;\">\n",
       "      <th></th>\n",
       "      <th>IMDb_score</th>\n",
       "      <th>RT_score</th>\n",
       "      <th>Gross_world</th>\n",
       "      <th>Budget</th>\n",
       "      <th>Per_Profit</th>\n",
       "    </tr>\n",
       "  </thead>\n",
       "  <tbody>\n",
       "    <tr>\n",
       "      <td>0</td>\n",
       "      <td>0.73</td>\n",
       "      <td>0.68</td>\n",
       "      <td>53478166</td>\n",
       "      <td>30000000</td>\n",
       "      <td>178.26</td>\n",
       "    </tr>\n",
       "    <tr>\n",
       "      <td>1</td>\n",
       "      <td>0.77</td>\n",
       "      <td>0.76</td>\n",
       "      <td>7537453</td>\n",
       "      <td>4000000</td>\n",
       "      <td>188.44</td>\n",
       "    </tr>\n",
       "    <tr>\n",
       "      <td>2</td>\n",
       "      <td>0.75</td>\n",
       "      <td>0.73</td>\n",
       "      <td>119195</td>\n",
       "      <td>400000</td>\n",
       "      <td>29.80</td>\n",
       "    </tr>\n",
       "    <tr>\n",
       "      <td>3</td>\n",
       "      <td>0.80</td>\n",
       "      <td>0.89</td>\n",
       "      <td>168839459</td>\n",
       "      <td>29000001</td>\n",
       "      <td>582.21</td>\n",
       "    </tr>\n",
       "    <tr>\n",
       "      <td>4</td>\n",
       "      <td>0.81</td>\n",
       "      <td>0.95</td>\n",
       "      <td>187733202</td>\n",
       "      <td>20000000</td>\n",
       "      <td>938.67</td>\n",
       "    </tr>\n",
       "  </tbody>\n",
       "</table>\n",
       "</div>"
      ],
      "text/plain": [
       "   IMDb_score  RT_score  Gross_world    Budget  Per_Profit\n",
       "0        0.73      0.68     53478166  30000000      178.26\n",
       "1        0.77      0.76      7537453   4000000      188.44\n",
       "2        0.75      0.73       119195    400000       29.80\n",
       "3        0.80      0.89    168839459  29000001      582.21\n",
       "4        0.81      0.95    187733202  20000000      938.67"
      ]
     },
     "execution_count": 77,
     "metadata": {},
     "output_type": "execute_result"
    }
   ],
   "source": [
    "y.head()"
   ]
  },
  {
   "cell_type": "code",
   "execution_count": 46,
   "metadata": {},
   "outputs": [
    {
     "data": {
      "text/html": [
       "<div>\n",
       "<style scoped>\n",
       "    .dataframe tbody tr th:only-of-type {\n",
       "        vertical-align: middle;\n",
       "    }\n",
       "\n",
       "    .dataframe tbody tr th {\n",
       "        vertical-align: top;\n",
       "    }\n",
       "\n",
       "    .dataframe thead th {\n",
       "        text-align: right;\n",
       "    }\n",
       "</style>\n",
       "<table border=\"1\" class=\"dataframe\">\n",
       "  <thead>\n",
       "    <tr style=\"text-align: right;\">\n",
       "      <th></th>\n",
       "      <th>count</th>\n",
       "      <th>mean</th>\n",
       "      <th>std</th>\n",
       "      <th>min</th>\n",
       "      <th>25%</th>\n",
       "      <th>50%</th>\n",
       "      <th>75%</th>\n",
       "      <th>max</th>\n",
       "    </tr>\n",
       "  </thead>\n",
       "  <tbody>\n",
       "    <tr>\n",
       "      <td>IMDb_score</td>\n",
       "      <td>922.0</td>\n",
       "      <td>7.003796e-01</td>\n",
       "      <td>8.920184e-02</td>\n",
       "      <td>0.24</td>\n",
       "      <td>6.500000e-01</td>\n",
       "      <td>7.100000e-01</td>\n",
       "      <td>7.600000e-01</td>\n",
       "      <td>9.300000e-01</td>\n",
       "    </tr>\n",
       "    <tr>\n",
       "      <td>RT_score</td>\n",
       "      <td>922.0</td>\n",
       "      <td>6.772343e-01</td>\n",
       "      <td>2.524599e-01</td>\n",
       "      <td>0.01</td>\n",
       "      <td>5.025000e-01</td>\n",
       "      <td>7.400000e-01</td>\n",
       "      <td>8.900000e-01</td>\n",
       "      <td>1.000000e+00</td>\n",
       "    </tr>\n",
       "    <tr>\n",
       "      <td>Gross_world</td>\n",
       "      <td>922.0</td>\n",
       "      <td>1.475749e+08</td>\n",
       "      <td>2.256299e+08</td>\n",
       "      <td>2554.00</td>\n",
       "      <td>2.140068e+07</td>\n",
       "      <td>6.574693e+07</td>\n",
       "      <td>1.865084e+08</td>\n",
       "      <td>2.790439e+09</td>\n",
       "    </tr>\n",
       "    <tr>\n",
       "      <td>Budget</td>\n",
       "      <td>922.0</td>\n",
       "      <td>3.997570e+07</td>\n",
       "      <td>4.174143e+07</td>\n",
       "      <td>7000.00</td>\n",
       "      <td>1.100000e+07</td>\n",
       "      <td>2.700000e+07</td>\n",
       "      <td>5.500000e+07</td>\n",
       "      <td>2.500000e+08</td>\n",
       "    </tr>\n",
       "    <tr>\n",
       "      <td>Per_Profit</td>\n",
       "      <td>922.0</td>\n",
       "      <td>6.045202e+02</td>\n",
       "      <td>1.576577e+03</td>\n",
       "      <td>0.05</td>\n",
       "      <td>1.116825e+02</td>\n",
       "      <td>2.694150e+02</td>\n",
       "      <td>5.225975e+02</td>\n",
       "      <td>2.915600e+04</td>\n",
       "    </tr>\n",
       "  </tbody>\n",
       "</table>\n",
       "</div>"
      ],
      "text/plain": [
       "             count          mean           std      min           25%  \\\n",
       "IMDb_score   922.0  7.003796e-01  8.920184e-02     0.24  6.500000e-01   \n",
       "RT_score     922.0  6.772343e-01  2.524599e-01     0.01  5.025000e-01   \n",
       "Gross_world  922.0  1.475749e+08  2.256299e+08  2554.00  2.140068e+07   \n",
       "Budget       922.0  3.997570e+07  4.174143e+07  7000.00  1.100000e+07   \n",
       "Per_Profit   922.0  6.045202e+02  1.576577e+03     0.05  1.116825e+02   \n",
       "\n",
       "                      50%           75%           max  \n",
       "IMDb_score   7.100000e-01  7.600000e-01  9.300000e-01  \n",
       "RT_score     7.400000e-01  8.900000e-01  1.000000e+00  \n",
       "Gross_world  6.574693e+07  1.865084e+08  2.790439e+09  \n",
       "Budget       2.700000e+07  5.500000e+07  2.500000e+08  \n",
       "Per_Profit   2.694150e+02  5.225975e+02  2.915600e+04  "
      ]
     },
     "execution_count": 46,
     "metadata": {},
     "output_type": "execute_result"
    }
   ],
   "source": [
    "y.describe().T"
   ]
  },
  {
   "cell_type": "markdown",
   "metadata": {},
   "source": [
    "Maybe combine the imdb and rt scores into a score ratio?"
   ]
  },
  {
   "cell_type": "code",
   "execution_count": 50,
   "metadata": {},
   "outputs": [
    {
     "data": {
      "image/png": "[encoded data removed]",
      "text/plain": [
       "<Figure size 1008x576 with 1 Axes>"
      ]
     },
     "metadata": {
      "needs_background": "light"
     },
     "output_type": "display_data"
    },
    {
     "data": {
      "image/png": "[encoded data removed]",
      "text/plain": [
       "<Figure size 1008x576 with 1 Axes>"
      ]
     },
     "metadata": {
      "needs_background": "light"
     },
     "output_type": "display_data"
    },
    {
     "data": {
      "image/png": "[encoded data removed]",
      "text/plain": [
       "<Figure size 1008x576 with 1 Axes>"
      ]
     },
     "metadata": {
      "needs_background": "light"
     },
     "output_type": "display_data"
    },
    {
     "data": {
      "image/png": "[encoded data removed]",
      "text/plain": [
       "<Figure size 1008x576 with 1 Axes>"
      ]
     },
     "metadata": {
      "needs_background": "light"
     },
     "output_type": "display_data"
    },
    {
     "data": {
      "image/png": "[encoded data removed]",
      "text/plain": [
       "<Figure size 1008x576 with 1 Axes>"
      ]
     },
     "metadata": {
      "needs_background": "light"
     },
     "output_type": "display_data"
    }
   ],
   "source": [
    "plt.figure(figsize=(14, 8))\n",
    "plt.hist(y.IMDb_score)\n",
    "plt.show();\n",
    "plt.figure(figsize=(14, 8))\n",
    "plt.hist(y.RT_score)\n",
    "plt.show();\n",
    "plt.figure(figsize=(14, 8))\n",
    "plt.hist(y.Budget, bins=50)\n",
    "plt.show();\n",
    "plt.figure(figsize=(14, 8))\n",
    "plt.hist(y.Gross_world, bins=50)\n",
    "plt.show();\n",
    "plt.figure(figsize=(14, 8))\n",
    "plt.hist(y.Per_Profit, bins=50)\n",
    "plt.show();"
   ]
  },
  {
   "cell_type": "markdown",
   "metadata": {},
   "source": [
    "**IMDb Score:**    \n",
    "Because the distribution is a nice and normal looking, I will categorize this variable at 0.70, which is right around both the mean and median.    \n",
    "\n",
    "**RT Score:**    \n",
    "It's interesting that this distribution is differenct from IMDbs, and gives me hope that there may be some insights to be gained here. Because this does not look like a normal distribution I'm going to split this at a more arbitrary value. Although RT classifies anything better than 60% as \"fresh\", we can see that there is a definite spike around 0.80, and the median score is 0.74. For this reason I will try a cutoff of 0.80, and reevaluate if necessary.    \n",
    "\n",
    "**Budget:**    \n",
    "Not sure if I'll classify this or not yet, might do regression for this and gross rev\n",
    "\n",
    "**Cumulative Gross Worldwide:**\n",
    "Same as above.\n",
    "\n",
    "**Percent Profit:**\n",
    "Accoding to an article published in Gizmodo, they give a general rule of thumb stating that a movie must make twice it's budget in order to break even. I will therefore select 200% as the cutoff for the Percent Profit target variable. This also is close to the median, which is about 260%.      \n",
    "\n",
    "https://io9.gizmodo.com/how-much-money-does-a-movie-need-to-make-to-be-profitab-5747305"
   ]
  },
  {
   "cell_type": "code",
   "execution_count": 78,
   "metadata": {},
   "outputs": [],
   "source": [
    "def imdb_converter(score):\n",
    "    if score < 0.70:\n",
    "        new_score = 0\n",
    "    else:\n",
    "        new_score = 1\n",
    "    return new_score"
   ]
  },
  {
   "cell_type": "code",
   "execution_count": 79,
   "metadata": {},
   "outputs": [],
   "source": [
    "def rt_converter(score):\n",
    "    if score < 0.80:\n",
    "        new_score = 0\n",
    "    else:\n",
    "        new_score = 1\n",
    "    return new_score"
   ]
  },
  {
   "cell_type": "code",
   "execution_count": 80,
   "metadata": {},
   "outputs": [],
   "source": [
    "def profit_converter(score):\n",
    "    if score < 200:\n",
    "        new_score = 0\n",
    "    else:\n",
    "        new_score = 1\n",
    "    return new_score"
   ]
  },
  {
   "cell_type": "code",
   "execution_count": 81,
   "metadata": {},
   "outputs": [],
   "source": [
    "y['IMDb_score'] = y['IMDb_score'].map(imdb_converter)\n",
    "y['RT_score'] = y['RT_score'].map(rt_converter)\n",
    "y['Per_Profit'] = y['Per_Profit'].map(profit_converter)"
   ]
  },
  {
   "cell_type": "markdown",
   "metadata": {},
   "source": [
    "#### Baseline case for comparison"
   ]
  },
  {
   "cell_type": "code",
   "execution_count": 295,
   "metadata": {},
   "outputs": [
    {
     "name": "stdout",
     "output_type": "stream",
     "text": [
      "IMDb baseline: 0.569\n",
      "RT baseline: 0.433\n",
      "Percent Profit baseline: 0.612\n"
     ]
    }
   ],
   "source": [
    "print(f\"IMDb baseline: {round(y['IMDb_score'].mean(), 3)}\")\n",
    "print(f\"RT baseline: {round(y['RT_score'].mean(), 3)}\")\n",
    "print(f\"Percent Profit baseline: {round(y['Per_Profit'].mean(), 3)}\")"
   ]
  },
  {
   "cell_type": "markdown",
   "metadata": {},
   "source": [
    "### Splitting the data"
   ]
  },
  {
   "cell_type": "code",
   "execution_count": 98,
   "metadata": {},
   "outputs": [],
   "source": [
    "X_train, X_test, y_train, y_test = train_test_split(X_n, y, random_state=4)"
   ]
  },
  {
   "cell_type": "code",
   "execution_count": 99,
   "metadata": {},
   "outputs": [
    {
     "data": {
      "text/plain": [
       "(691, 29)"
      ]
     },
     "execution_count": 99,
     "metadata": {},
     "output_type": "execute_result"
    }
   ],
   "source": [
    "X_train.shape"
   ]
  },
  {
   "cell_type": "markdown",
   "metadata": {},
   "source": [
    "### Vectorizing the scripts using TFIDF"
   ]
  },
  {
   "cell_type": "markdown",
   "metadata": {},
   "source": [
    "WARNING This step takes a long time to run!"
   ]
  },
  {
   "cell_type": "code",
   "execution_count": 399,
   "metadata": {},
   "outputs": [],
   "source": [
    "tfidf = TfidfVectorizer(min_df=0.1, \n",
    "                        max_df=0.9, \n",
    "                        preprocessor=my_preprocessor, \n",
    "                        tokenizer=my_tokenizer, \n",
    "                        ngram_range=(1,3)).fit(X_train['scripts'])"
   ]
  },
  {
   "cell_type": "code",
   "execution_count": 400,
   "metadata": {},
   "outputs": [],
   "source": [
    "X_train_tfidf_transformed = tfidf.transform(X_train['scripts'])\n",
    "X_test_tfidf_transformed = tfidf.transform(X_test['scripts'])"
   ]
  },
  {
   "cell_type": "code",
   "execution_count": 401,
   "metadata": {},
   "outputs": [
    {
     "data": {
      "text/plain": [
       "(858, 998)"
      ]
     },
     "execution_count": 401,
     "metadata": {},
     "output_type": "execute_result"
    }
   ],
   "source": [
    "X_train_tfidf.shape"
   ]
  },
  {
   "cell_type": "markdown",
   "metadata": {},
   "source": [
    "min_df = 1 gives 110878 features.    \n",
    "min_df = 2 gives 47064 features. (run in colab)    \n",
    "min_df = 0.5 & max_df = 0.9 gives 970 features."
   ]
  },
  {
   "cell_type": "code",
   "execution_count": 408,
   "metadata": {},
   "outputs": [
    {
     "data": {
      "text/html": [
       "<div>\n",
       "<style scoped>\n",
       "    .dataframe tbody tr th:only-of-type {\n",
       "        vertical-align: middle;\n",
       "    }\n",
       "\n",
       "    .dataframe tbody tr th {\n",
       "        vertical-align: top;\n",
       "    }\n",
       "\n",
       "    .dataframe thead th {\n",
       "        text-align: right;\n",
       "    }\n",
       "</style>\n",
       "<table border=\"1\" class=\"dataframe\">\n",
       "  <thead>\n",
       "    <tr style=\"text-align: right;\">\n",
       "      <th></th>\n",
       "      <th>$</th>\n",
       "      <th>-PRON-</th>\n",
       "      <th>-year</th>\n",
       "      <th>-year old</th>\n",
       "      <th>`</th>\n",
       "      <th>` -PRON-</th>\n",
       "      <th>a-</th>\n",
       "      <th>a.</th>\n",
       "      <th>a.m.</th>\n",
       "      <th>aback</th>\n",
       "      <th>...</th>\n",
       "      <th>young woman</th>\n",
       "      <th>youth</th>\n",
       "      <th>yup</th>\n",
       "      <th>zero</th>\n",
       "      <th>zip</th>\n",
       "      <th>zipper</th>\n",
       "      <th>zombie</th>\n",
       "      <th>zone</th>\n",
       "      <th>zoo</th>\n",
       "      <th>zoom</th>\n",
       "    </tr>\n",
       "  </thead>\n",
       "  <tbody>\n",
       "    <tr>\n",
       "      <td>0</td>\n",
       "      <td>0.000000</td>\n",
       "      <td>0.007865</td>\n",
       "      <td>0.0</td>\n",
       "      <td>0.0</td>\n",
       "      <td>0.131437</td>\n",
       "      <td>0.018577</td>\n",
       "      <td>0.0</td>\n",
       "      <td>0.0</td>\n",
       "      <td>0.00000</td>\n",
       "      <td>0.000000</td>\n",
       "      <td>...</td>\n",
       "      <td>0.015613</td>\n",
       "      <td>0.0</td>\n",
       "      <td>0.0</td>\n",
       "      <td>0.000000</td>\n",
       "      <td>0.004010</td>\n",
       "      <td>0.0</td>\n",
       "      <td>0.0</td>\n",
       "      <td>0.004831</td>\n",
       "      <td>0.0</td>\n",
       "      <td>0.000000</td>\n",
       "    </tr>\n",
       "    <tr>\n",
       "      <td>1</td>\n",
       "      <td>0.000000</td>\n",
       "      <td>0.010707</td>\n",
       "      <td>0.0</td>\n",
       "      <td>0.0</td>\n",
       "      <td>0.000000</td>\n",
       "      <td>0.000000</td>\n",
       "      <td>0.0</td>\n",
       "      <td>0.0</td>\n",
       "      <td>0.00000</td>\n",
       "      <td>0.006188</td>\n",
       "      <td>...</td>\n",
       "      <td>0.000000</td>\n",
       "      <td>0.0</td>\n",
       "      <td>0.0</td>\n",
       "      <td>0.005848</td>\n",
       "      <td>0.021837</td>\n",
       "      <td>0.0</td>\n",
       "      <td>0.0</td>\n",
       "      <td>0.000000</td>\n",
       "      <td>0.0</td>\n",
       "      <td>0.022053</td>\n",
       "    </tr>\n",
       "    <tr>\n",
       "      <td>2</td>\n",
       "      <td>0.042285</td>\n",
       "      <td>0.017041</td>\n",
       "      <td>0.0</td>\n",
       "      <td>0.0</td>\n",
       "      <td>0.000000</td>\n",
       "      <td>0.000000</td>\n",
       "      <td>0.0</td>\n",
       "      <td>0.0</td>\n",
       "      <td>0.01922</td>\n",
       "      <td>0.000000</td>\n",
       "      <td>...</td>\n",
       "      <td>0.000000</td>\n",
       "      <td>0.0</td>\n",
       "      <td>0.0</td>\n",
       "      <td>0.003103</td>\n",
       "      <td>0.000000</td>\n",
       "      <td>0.0</td>\n",
       "      <td>0.0</td>\n",
       "      <td>0.006978</td>\n",
       "      <td>0.0</td>\n",
       "      <td>0.017549</td>\n",
       "    </tr>\n",
       "    <tr>\n",
       "      <td>3</td>\n",
       "      <td>0.000000</td>\n",
       "      <td>0.000000</td>\n",
       "      <td>0.0</td>\n",
       "      <td>0.0</td>\n",
       "      <td>0.000000</td>\n",
       "      <td>0.000000</td>\n",
       "      <td>0.0</td>\n",
       "      <td>0.0</td>\n",
       "      <td>0.00000</td>\n",
       "      <td>0.000000</td>\n",
       "      <td>...</td>\n",
       "      <td>0.000000</td>\n",
       "      <td>0.0</td>\n",
       "      <td>0.0</td>\n",
       "      <td>0.000000</td>\n",
       "      <td>0.000000</td>\n",
       "      <td>0.0</td>\n",
       "      <td>0.0</td>\n",
       "      <td>0.000000</td>\n",
       "      <td>0.0</td>\n",
       "      <td>0.000000</td>\n",
       "    </tr>\n",
       "    <tr>\n",
       "      <td>4</td>\n",
       "      <td>0.000000</td>\n",
       "      <td>0.000000</td>\n",
       "      <td>0.0</td>\n",
       "      <td>0.0</td>\n",
       "      <td>0.000000</td>\n",
       "      <td>0.000000</td>\n",
       "      <td>0.0</td>\n",
       "      <td>0.0</td>\n",
       "      <td>0.00000</td>\n",
       "      <td>0.000000</td>\n",
       "      <td>...</td>\n",
       "      <td>0.000000</td>\n",
       "      <td>0.0</td>\n",
       "      <td>0.0</td>\n",
       "      <td>0.000000</td>\n",
       "      <td>0.008857</td>\n",
       "      <td>0.0</td>\n",
       "      <td>0.0</td>\n",
       "      <td>0.000000</td>\n",
       "      <td>0.0</td>\n",
       "      <td>0.008944</td>\n",
       "    </tr>\n",
       "  </tbody>\n",
       "</table>\n",
       "<p>5 rows × 7979 columns</p>\n",
       "</div>"
      ],
      "text/plain": [
       "          $    -PRON-  -year  -year old         `  ` -PRON-   a-   a.  \\\n",
       "0  0.000000  0.007865    0.0        0.0  0.131437  0.018577  0.0  0.0   \n",
       "1  0.000000  0.010707    0.0        0.0  0.000000  0.000000  0.0  0.0   \n",
       "2  0.042285  0.017041    0.0        0.0  0.000000  0.000000  0.0  0.0   \n",
       "3  0.000000  0.000000    0.0        0.0  0.000000  0.000000  0.0  0.0   \n",
       "4  0.000000  0.000000    0.0        0.0  0.000000  0.000000  0.0  0.0   \n",
       "\n",
       "      a.m.     aback  ...  young woman  youth  yup      zero       zip  \\\n",
       "0  0.00000  0.000000  ...     0.015613    0.0  0.0  0.000000  0.004010   \n",
       "1  0.00000  0.006188  ...     0.000000    0.0  0.0  0.005848  0.021837   \n",
       "2  0.01922  0.000000  ...     0.000000    0.0  0.0  0.003103  0.000000   \n",
       "3  0.00000  0.000000  ...     0.000000    0.0  0.0  0.000000  0.000000   \n",
       "4  0.00000  0.000000  ...     0.000000    0.0  0.0  0.000000  0.008857   \n",
       "\n",
       "   zipper  zombie      zone  zoo      zoom  \n",
       "0     0.0     0.0  0.004831  0.0  0.000000  \n",
       "1     0.0     0.0  0.000000  0.0  0.022053  \n",
       "2     0.0     0.0  0.006978  0.0  0.017549  \n",
       "3     0.0     0.0  0.000000  0.0  0.000000  \n",
       "4     0.0     0.0  0.000000  0.0  0.008944  \n",
       "\n",
       "[5 rows x 7979 columns]"
      ]
     },
     "execution_count": 408,
     "metadata": {},
     "output_type": "execute_result"
    }
   ],
   "source": [
    "X_train_tfidf_df = pd.DataFrame(columns=tfidf.get_feature_names(), data=X_train_tfidf_transformed.toarray())\n",
    "X_test_tfidf_df = pd.DataFrame(columns=tfidf.get_feature_names(), data=X_test_tfidf_transformed.toarray())\n",
    "\n",
    "X_train_tfidf_df.head()"
   ]
  },
  {
   "cell_type": "code",
   "execution_count": 409,
   "metadata": {},
   "outputs": [
    {
     "data": {
      "text/plain": [
       "cont'd               53.655885\n",
       "continue continue    20.765109\n",
       "to                   20.495675\n",
       "phone                19.922083\n",
       "guy                  19.751696\n",
       "v.o                  18.648882\n",
       "yeah                 18.584725\n",
       "mr                   18.081873\n",
       "jack                 18.035416\n",
       "frank                16.596192\n",
       "sam                  16.570697\n",
       "okay                 16.444741\n",
       "charlie              16.031591\n",
       "gun                  15.463812\n",
       "go to                15.430299\n",
       "john                 14.869862\n",
       "o.s                  14.283981\n",
       "paul                 13.700698\n",
       "fuck                 13.431680\n",
       "max                  13.390542\n",
       "dtype: float64"
      ]
     },
     "execution_count": 409,
     "metadata": {},
     "output_type": "execute_result"
    }
   ],
   "source": [
    "X_train_tfidf_df.sum().sort_values(ascending=False).head(20)"
   ]
  },
  {
   "cell_type": "code",
   "execution_count": 410,
   "metadata": {},
   "outputs": [],
   "source": [
    "X_train_tfidf_f = pd.concat([X_train.drop('scripts', axis=1).reset_index(drop=True), X_train_tfidf_df], axis=1)\n",
    "X_test_tfidf_f = pd.concat([X_test.drop('scripts', axis=1).reset_index(drop=True), X_test_tfidf_df], axis=1)"
   ]
  },
  {
   "cell_type": "markdown",
   "metadata": {},
   "source": [
    "### Vectorizing using count vectorizer    \n",
    "Primarily for use with LDA - probably won't be used as its own metric.     \n",
    "Warning: This step also takes a long time to run."
   ]
  },
  {
   "cell_type": "code",
   "execution_count": 402,
   "metadata": {},
   "outputs": [],
   "source": [
    "bagofwords = CountVectorizer(min_df=0.1, \n",
    "                             max_df=0.9, \n",
    "                             preprocessor=my_preprocessor, \n",
    "                             tokenizer=my_tokenizer, \n",
    "                             ngram_range=(1,3)).fit(X_train['scripts'])"
   ]
  },
  {
   "cell_type": "code",
   "execution_count": 403,
   "metadata": {},
   "outputs": [],
   "source": [
    "X_train_countv_transformed = bagofwords.transform(X_train['scripts'])\n",
    "X_test_countv_transformed = bagofwords.transform(X_test['scripts'])"
   ]
  },
  {
   "cell_type": "code",
   "execution_count": 404,
   "metadata": {},
   "outputs": [
    {
     "data": {
      "text/plain": [
       "(858, 998)"
      ]
     },
     "execution_count": 404,
     "metadata": {},
     "output_type": "execute_result"
    }
   ],
   "source": [
    "X_train_countv_transformed.shape"
   ]
  },
  {
   "cell_type": "code",
   "execution_count": 405,
   "metadata": {},
   "outputs": [
    {
     "data": {
      "text/html": [
       "<div>\n",
       "<style scoped>\n",
       "    .dataframe tbody tr th:only-of-type {\n",
       "        vertical-align: middle;\n",
       "    }\n",
       "\n",
       "    .dataframe tbody tr th {\n",
       "        vertical-align: top;\n",
       "    }\n",
       "\n",
       "    .dataframe thead th {\n",
       "        text-align: right;\n",
       "    }\n",
       "</style>\n",
       "<table border=\"1\" class=\"dataframe\">\n",
       "  <thead>\n",
       "    <tr style=\"text-align: right;\">\n",
       "      <th></th>\n",
       "      <th>$</th>\n",
       "      <th>-PRON-</th>\n",
       "      <th>-year</th>\n",
       "      <th>-year old</th>\n",
       "      <th>`</th>\n",
       "      <th>` -PRON-</th>\n",
       "      <th>a-</th>\n",
       "      <th>a.</th>\n",
       "      <th>a.m.</th>\n",
       "      <th>aback</th>\n",
       "      <th>...</th>\n",
       "      <th>young woman</th>\n",
       "      <th>youth</th>\n",
       "      <th>yup</th>\n",
       "      <th>zero</th>\n",
       "      <th>zip</th>\n",
       "      <th>zipper</th>\n",
       "      <th>zombie</th>\n",
       "      <th>zone</th>\n",
       "      <th>zoo</th>\n",
       "      <th>zoom</th>\n",
       "    </tr>\n",
       "  </thead>\n",
       "  <tbody>\n",
       "    <tr>\n",
       "      <td>0</td>\n",
       "      <td>0</td>\n",
       "      <td>3</td>\n",
       "      <td>0</td>\n",
       "      <td>0</td>\n",
       "      <td>28</td>\n",
       "      <td>3</td>\n",
       "      <td>0</td>\n",
       "      <td>0</td>\n",
       "      <td>0</td>\n",
       "      <td>0</td>\n",
       "      <td>...</td>\n",
       "      <td>4</td>\n",
       "      <td>0</td>\n",
       "      <td>0</td>\n",
       "      <td>0</td>\n",
       "      <td>1</td>\n",
       "      <td>0</td>\n",
       "      <td>0</td>\n",
       "      <td>1</td>\n",
       "      <td>0</td>\n",
       "      <td>0</td>\n",
       "    </tr>\n",
       "    <tr>\n",
       "      <td>1</td>\n",
       "      <td>0</td>\n",
       "      <td>3</td>\n",
       "      <td>0</td>\n",
       "      <td>0</td>\n",
       "      <td>0</td>\n",
       "      <td>0</td>\n",
       "      <td>0</td>\n",
       "      <td>0</td>\n",
       "      <td>0</td>\n",
       "      <td>1</td>\n",
       "      <td>...</td>\n",
       "      <td>0</td>\n",
       "      <td>0</td>\n",
       "      <td>0</td>\n",
       "      <td>1</td>\n",
       "      <td>4</td>\n",
       "      <td>0</td>\n",
       "      <td>0</td>\n",
       "      <td>0</td>\n",
       "      <td>0</td>\n",
       "      <td>4</td>\n",
       "    </tr>\n",
       "    <tr>\n",
       "      <td>2</td>\n",
       "      <td>14</td>\n",
       "      <td>9</td>\n",
       "      <td>0</td>\n",
       "      <td>0</td>\n",
       "      <td>0</td>\n",
       "      <td>0</td>\n",
       "      <td>0</td>\n",
       "      <td>0</td>\n",
       "      <td>5</td>\n",
       "      <td>0</td>\n",
       "      <td>...</td>\n",
       "      <td>0</td>\n",
       "      <td>0</td>\n",
       "      <td>0</td>\n",
       "      <td>1</td>\n",
       "      <td>0</td>\n",
       "      <td>0</td>\n",
       "      <td>0</td>\n",
       "      <td>2</td>\n",
       "      <td>0</td>\n",
       "      <td>6</td>\n",
       "    </tr>\n",
       "    <tr>\n",
       "      <td>3</td>\n",
       "      <td>0</td>\n",
       "      <td>0</td>\n",
       "      <td>0</td>\n",
       "      <td>0</td>\n",
       "      <td>0</td>\n",
       "      <td>0</td>\n",
       "      <td>0</td>\n",
       "      <td>0</td>\n",
       "      <td>0</td>\n",
       "      <td>0</td>\n",
       "      <td>...</td>\n",
       "      <td>0</td>\n",
       "      <td>0</td>\n",
       "      <td>0</td>\n",
       "      <td>0</td>\n",
       "      <td>0</td>\n",
       "      <td>0</td>\n",
       "      <td>0</td>\n",
       "      <td>0</td>\n",
       "      <td>0</td>\n",
       "      <td>0</td>\n",
       "    </tr>\n",
       "    <tr>\n",
       "      <td>4</td>\n",
       "      <td>0</td>\n",
       "      <td>0</td>\n",
       "      <td>0</td>\n",
       "      <td>0</td>\n",
       "      <td>0</td>\n",
       "      <td>0</td>\n",
       "      <td>0</td>\n",
       "      <td>0</td>\n",
       "      <td>0</td>\n",
       "      <td>0</td>\n",
       "      <td>...</td>\n",
       "      <td>0</td>\n",
       "      <td>0</td>\n",
       "      <td>0</td>\n",
       "      <td>0</td>\n",
       "      <td>2</td>\n",
       "      <td>0</td>\n",
       "      <td>0</td>\n",
       "      <td>0</td>\n",
       "      <td>0</td>\n",
       "      <td>2</td>\n",
       "    </tr>\n",
       "  </tbody>\n",
       "</table>\n",
       "<p>5 rows × 7979 columns</p>\n",
       "</div>"
      ],
      "text/plain": [
       "    $  -PRON-  -year  -year old   `  ` -PRON-  a-  a.  a.m.  aback  ...  \\\n",
       "0   0       3      0          0  28         3   0   0     0      0  ...   \n",
       "1   0       3      0          0   0         0   0   0     0      1  ...   \n",
       "2  14       9      0          0   0         0   0   0     5      0  ...   \n",
       "3   0       0      0          0   0         0   0   0     0      0  ...   \n",
       "4   0       0      0          0   0         0   0   0     0      0  ...   \n",
       "\n",
       "   young woman  youth  yup  zero  zip  zipper  zombie  zone  zoo  zoom  \n",
       "0            4      0    0     0    1       0       0     1    0     0  \n",
       "1            0      0    0     1    4       0       0     0    0     4  \n",
       "2            0      0    0     1    0       0       0     2    0     6  \n",
       "3            0      0    0     0    0       0       0     0    0     0  \n",
       "4            0      0    0     0    2       0       0     0    0     2  \n",
       "\n",
       "[5 rows x 7979 columns]"
      ]
     },
     "execution_count": 405,
     "metadata": {},
     "output_type": "execute_result"
    }
   ],
   "source": [
    "X_train_countv_df = pd.DataFrame(columns=bagofwords.get_feature_names(), data=X_train_countv_transformed.toarray())\n",
    "X_test_countv_df = pd.DataFrame(columns=bagofwords.get_feature_names(), data=X_test_countv_transformed.toarray())\n",
    "\n",
    "X_train_countv_df.head()"
   ]
  },
  {
   "cell_type": "code",
   "execution_count": 406,
   "metadata": {},
   "outputs": [
    {
     "data": {
      "text/plain": [
       "cont'd     27383\n",
       "to         14021\n",
       "mr         13402\n",
       "phone      13383\n",
       "guy        13375\n",
       "jack       13318\n",
       "yeah       13113\n",
       "okay       11167\n",
       "go to      10097\n",
       "v.o         9873\n",
       "gun         9691\n",
       "camera      9637\n",
       "john        8976\n",
       "office      8819\n",
       "o.s         8385\n",
       "sam         8176\n",
       "charlie     7962\n",
       "frank       7916\n",
       "george      7359\n",
       "angle       7297\n",
       "dtype: int64"
      ]
     },
     "execution_count": 406,
     "metadata": {},
     "output_type": "execute_result"
    }
   ],
   "source": [
    "X_train_countv_df.sum().sort_values(ascending=False).head(20)"
   ]
  },
  {
   "cell_type": "code",
   "execution_count": 407,
   "metadata": {},
   "outputs": [],
   "source": [
    "X_train_countv_f = pd.concat([X_train.drop('scripts', axis=1).reset_index(drop=True), X_train_countv_df], axis=1)\n",
    "X_test_countv_f = pd.concat([X_test.drop('scripts', axis=1).reset_index(drop=True), X_test_countv_df], axis=1)"
   ]
  },
  {
   "cell_type": "markdown",
   "metadata": {},
   "source": [
    "### Exporting the targets and features"
   ]
  },
  {
   "cell_type": "markdown",
   "metadata": {},
   "source": [
    "TFIDF"
   ]
  },
  {
   "cell_type": "code",
   "execution_count": 411,
   "metadata": {},
   "outputs": [],
   "source": [
    "X_train_tfidf_f.to_csv('../../data/X_train_tfidf.csv', columns=X_train_tfidf_f.columns, index=False)\n",
    "X_test_tfidf_f.to_csv('../../data/X_test_tfidf.csv', columns=X_test_tfidf_f.columns, index=False)"
   ]
  },
  {
   "cell_type": "markdown",
   "metadata": {},
   "source": [
    "COUNT V"
   ]
  },
  {
   "cell_type": "code",
   "execution_count": 412,
   "metadata": {},
   "outputs": [],
   "source": [
    "X_train_countv_f.to_csv('../../data/X_train_countv.csv', columns=X_train_countv_f.columns, index=False)\n",
    "X_test_countv_f.to_csv('../../data/X_test_countv.csv', columns=X_test_countv_f.columns, index=False)"
   ]
  },
  {
   "cell_type": "markdown",
   "metadata": {},
   "source": [
    "Isolating the targets"
   ]
  },
  {
   "cell_type": "code",
   "execution_count": 83,
   "metadata": {},
   "outputs": [],
   "source": [
    "y_imdb_train = y_train.iloc[:, 0]\n",
    "y_rt_train = y_train.iloc[:, 1]\n",
    "y_profit_train = y_train.iloc[:, -1]\n",
    "\n",
    "y_imdb_test = y_test.iloc[:, 0]\n",
    "y_rt_test = y_test.iloc[:, 1]\n",
    "y_profit_test = y_test.iloc[:, -1]"
   ]
  },
  {
   "cell_type": "markdown",
   "metadata": {},
   "source": [
    "Exporting the targets"
   ]
  },
  {
   "cell_type": "code",
   "execution_count": 93,
   "metadata": {},
   "outputs": [],
   "source": [
    "y_imdb_train.to_csv('../../data/y_imdb_train.csv', header=True, index=False)\n",
    "y_rt_train.to_csv('../../data/y_rt_train.csv', header=True, index=False)\n",
    "y_profit_train.to_csv('../../data/y_profit_train.csv', header=True, index=False)\n",
    "\n",
    "y_imdb_test.to_csv('../../data/y_imdb_test.csv', header=True, index=False)\n",
    "y_rt_test.to_csv('../../data/y_rt_test.csv', header=True, index=False)\n",
    "y_profit_test.to_csv('../../data/y_profit_test.csv', header=True, index=False)"
   ]
  },
  {
   "cell_type": "code",
   "execution_count": null,
   "metadata": {},
   "outputs": [],
   "source": []
  }
 ],
 "metadata": {
  "kernelspec": {
   "display_name": "Python 3",
   "language": "python",
   "name": "python3"
  },
  "language_info": {
   "codemirror_mode": {
    "name": "ipython",
    "version": 3
   },
   "file_extension": ".py",
   "mimetype": "text/x-python",
   "name": "python",
   "nbconvert_exporter": "python",
   "pygments_lexer": "ipython3",
   "version": "3.7.4"
  }
 },
 "nbformat": 4,
 "nbformat_minor": 4
}
