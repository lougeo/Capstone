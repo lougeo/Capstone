{
 "cells": [
  {
   "cell_type": "markdown",
   "metadata": {},
   "source": [
    "# Louis George\n",
    "## Making the final models"
   ]
  },
  {
   "cell_type": "code",
   "execution_count": 23,
   "metadata": {},
   "outputs": [],
   "source": [
    "import numpy as np\n",
    "import pandas as pd\n",
    "\n",
    "import os\n",
    "import spacy\n",
    "import joblib\n",
    "\n",
    "from sklearn.preprocessing import StandardScaler\n",
    "from sklearn.feature_extraction.text import TfidfVectorizer\n",
    "from sklearn.linear_model import LogisticRegression\n",
    "from sklearn.ensemble import RandomForestClassifier\n",
    "from sklearn.ensemble import AdaBoostClassifier\n",
    "\n",
    "from xgboost import XGBClassifier\n",
    "\n",
    "import plotly.graph_objects as go\n",
    "from plotly.subplots import make_subplots\n",
    "import chart_studio\n",
    "import chart_studio.plotly as py\n",
    "chart_studio.tools.set_credentials_file(username='lougeo', api_key=os.environ.get(\"PLOTLY_API\"))\n",
    "import matplotlib.pyplot as plt\n",
    "%matplotlib inline\n",
    "\n",
    "import warnings\n",
    "warnings.filterwarnings('ignore')"
   ]
  },
  {
   "cell_type": "markdown",
   "metadata": {},
   "source": [
    "### Reading in the data"
   ]
  },
  {
   "cell_type": "code",
   "execution_count": 24,
   "metadata": {},
   "outputs": [],
   "source": [
    "X = pd.read_csv('../../data/X_plus.csv')\n",
    "y = pd.read_csv('../../data/y.csv')"
   ]
  },
  {
   "cell_type": "code",
   "execution_count": 25,
   "metadata": {},
   "outputs": [],
   "source": [
    "y_imdb = y.loc[:, 'IMDb_score'].to_frame()\n",
    "y_rt = y.loc[:, 'RT_score'].to_frame()\n",
    "y_profit = y.loc[:, 'Per_Profit'].to_frame()"
   ]
  },
  {
   "cell_type": "code",
   "execution_count": 26,
   "metadata": {},
   "outputs": [],
   "source": [
    "y = pd.read_csv(\"../../data/y_wt.csv\")"
   ]
  },
  {
   "cell_type": "markdown",
   "metadata": {},
   "source": [
    "### Vectorizing the full dataset"
   ]
  },
  {
   "cell_type": "code",
   "execution_count": 5,
   "metadata": {},
   "outputs": [],
   "source": [
    "def my_preprocessor(string):\n",
    "    no_d = ''.join([i for i in string if not i.isdigit()])\n",
    "    return no_d.lower()"
   ]
  },
  {
   "cell_type": "code",
   "execution_count": 6,
   "metadata": {},
   "outputs": [],
   "source": [
    "def my_tokenizer(string):\n",
    "    # Initializing the spacy class\n",
    "    nlp = spacy.load(\"en_core_web_sm\")\n",
    "    doc = nlp(string)\n",
    "    # List to append accepted tokens to\n",
    "    tokens = []\n",
    "    # Condition for a good token\n",
    "    for token in doc:\n",
    "\n",
    "        if (token.is_stop == False) & \\\n",
    "           (token.is_punct == False) & \\\n",
    "           (token.is_space == False) & \\\n",
    "           ('\\n' not in str(token)):\n",
    "            \n",
    "            tokens.append(token.lemma_)\n",
    "\n",
    "    return tokens"
   ]
  },
  {
   "cell_type": "markdown",
   "metadata": {},
   "source": [
    "This will take a long time"
   ]
  },
  {
   "cell_type": "code",
   "execution_count": null,
   "metadata": {},
   "outputs": [],
   "source": [
    "# Fitting the vectorizer\n",
    "tfidf = TfidfVectorizer(min_df=0.2, \n",
    "                        max_df=0.9, \n",
    "                        preprocessor=my_preprocessor, \n",
    "                        tokenizer=my_tokenizer, \n",
    "                        ngram_range=(1,3), \n",
    "                        stop_words=None).fit(X['scripts'])\n",
    "\n",
    "# Exporting the fit vectorizer\n",
    "joblib.dump(tfidf, '../models/full_tfidf_ns.pkl')"
   ]
  },
  {
   "cell_type": "code",
   "execution_count": null,
   "metadata": {},
   "outputs": [],
   "source": [
    "tfidf.stop_words_ = None"
   ]
  },
  {
   "cell_type": "code",
   "execution_count": null,
   "metadata": {},
   "outputs": [],
   "source": [
    "tfidf = joblib.load('../models/full_tfidf_ns.pkl')"
   ]
  },
  {
   "cell_type": "markdown",
   "metadata": {},
   "source": [
    "#### Merging the transformed dataset with the other features"
   ]
  },
  {
   "cell_type": "code",
   "execution_count": null,
   "metadata": {},
   "outputs": [],
   "source": [
    "# Transforming all of the scripts (will take awhile)\n",
    "X_transformed = tfidf.transform(X['scripts'])\n",
    "# Turning it into a dataframe\n",
    "X_vecs = pd.DataFrame(columns=tfidf.get_feature_names(), data=X_transformed.toarray())\n",
    "# Merging all of the features\n",
    "X_merged = pd.concat([X.drop('scripts', axis=1).reset_index(drop=True), X_vecs], axis=1)"
   ]
  },
  {
   "cell_type": "code",
   "execution_count": null,
   "metadata": {},
   "outputs": [],
   "source": [
    "X_merged.to_csv('../../X_merged.csv', columns=X_merged.columns, index=False)"
   ]
  },
  {
   "cell_type": "markdown",
   "metadata": {},
   "source": [
    "#### Reloading this csv, and scaling it"
   ]
  },
  {
   "cell_type": "code",
   "execution_count": 27,
   "metadata": {},
   "outputs": [],
   "source": [
    "X_merged = pd.read_csv('../../X_merged.csv')"
   ]
  },
  {
   "cell_type": "code",
   "execution_count": 28,
   "metadata": {},
   "outputs": [],
   "source": [
    "X_scaled = StandardScaler().fit_transform(X_merged)"
   ]
  },
  {
   "cell_type": "markdown",
   "metadata": {},
   "source": [
    "### Modeling the full dataset"
   ]
  },
  {
   "cell_type": "code",
   "execution_count": 30,
   "metadata": {
    "scrolled": false
   },
   "outputs": [
    {
     "name": "stdout",
     "output_type": "stream",
     "text": [
      "{'model': LogisticRegression(C=0.1, class_weight=None, dual=False, fit_intercept=True,\n",
      "                   intercept_scaling=1, l1_ratio=None, max_iter=100,\n",
      "                   multi_class='warn', n_jobs=None, penalty='l2',\n",
      "                   random_state=None, solver='warn', tol=0.0001, verbose=0,\n",
      "                   warm_start=False), 'model__C': 0.1, 'model__penalty': 'l2'}\n",
      "{'model': LogisticRegression(C=1.0, class_weight=None, dual=False, fit_intercept=True,\n",
      "                   intercept_scaling=1, l1_ratio=None, max_iter=100,\n",
      "                   multi_class='warn', n_jobs=None, penalty='l1',\n",
      "                   random_state=None, solver='warn', tol=0.0001, verbose=0,\n",
      "                   warm_start=False), 'model__C': 1.0, 'model__penalty': 'l1'}\n",
      "{'model': LogisticRegression(C=0.1, class_weight=None, dual=False, fit_intercept=True,\n",
      "                   intercept_scaling=1, l1_ratio=None, max_iter=100,\n",
      "                   multi_class='warn', n_jobs=None, penalty='l1',\n",
      "                   random_state=None, solver='warn', tol=0.0001, verbose=0,\n",
      "                   warm_start=False), 'model__C': 0.1, 'model__penalty': 'l1'}\n",
      "{'model': XGBClassifier(base_score=0.5, booster=None, colsample_bylevel=1,\n",
      "              colsample_bynode=1, colsample_bytree=1, gamma=0, gpu_id=-1,\n",
      "              importance_type='gain', interaction_constraints=None,\n",
      "              learning_rate=0.01, max_delta_step=0, max_depth=7,\n",
      "              min_child_weight=1, missing=nan, monotone_constraints=None,\n",
      "              n_estimators=200, n_jobs=0, num_parallel_tree=1,\n",
      "              objective='binary:logistic', random_state=0, reg_alpha=0,\n",
      "              reg_lambda=1, scale_pos_weight=1, subsample=1, tree_method=None,\n",
      "              validate_parameters=False, verbosity=None), 'model__learning_rate': 0.01, 'model__max_depth': 7, 'model__n_estimators': 200}\n",
      "{'model': XGBClassifier(base_score=0.5, booster=None, colsample_bylevel=1,\n",
      "              colsample_bynode=1, colsample_bytree=1, gamma=0, gpu_id=-1,\n",
      "              importance_type='gain', interaction_constraints=None,\n",
      "              learning_rate=0.1, max_delta_step=0, max_depth=4,\n",
      "              min_child_weight=1, missing=nan, monotone_constraints=None,\n",
      "              n_estimators=80, n_jobs=0, num_parallel_tree=1,\n",
      "              objective='binary:logistic', random_state=0, reg_alpha=0,\n",
      "              reg_lambda=1, scale_pos_weight=1, subsample=1, tree_method=None,\n",
      "              validate_parameters=False, verbosity=None), 'model__learning_rate': 0.1, 'model__max_depth': 4, 'model__n_estimators': 80}\n",
      "{'model': XGBClassifier(base_score=0.5, booster=None, colsample_bylevel=1,\n",
      "              colsample_bynode=1, colsample_bytree=1, gamma=0, gpu_id=-1,\n",
      "              importance_type='gain', interaction_constraints=None,\n",
      "              learning_rate=0.1, max_delta_step=0, max_depth=5,\n",
      "              min_child_weight=1, missing=nan, monotone_constraints=None,\n",
      "              n_estimators=80, n_jobs=0, num_parallel_tree=1,\n",
      "              objective='binary:logistic', random_state=0, reg_alpha=0,\n",
      "              reg_lambda=1, scale_pos_weight=1, subsample=1, tree_method=None,\n",
      "              validate_parameters=False, verbosity=None), 'model__learning_rate': 0.1, 'model__max_depth': 5, 'model__n_estimators': 80}\n",
      "{'model': RandomForestClassifier(bootstrap=True, class_weight=None, criterion='gini',\n",
      "                       max_depth=5, max_features='auto', max_leaf_nodes=None,\n",
      "                       min_impurity_decrease=0.0, min_impurity_split=None,\n",
      "                       min_samples_leaf=1, min_samples_split=2,\n",
      "                       min_weight_fraction_leaf=0.0, n_estimators=100,\n",
      "                       n_jobs=None, oob_score=False, random_state=None,\n",
      "                       verbose=0, warm_start=False), 'model__max_depth': 5, 'model__n_estimators': 100}\n",
      "{'model': RandomForestClassifier(bootstrap=True, class_weight=None, criterion='gini',\n",
      "                       max_depth=None, max_features='auto', max_leaf_nodes=None,\n",
      "                       min_impurity_decrease=0.0, min_impurity_split=None,\n",
      "                       min_samples_leaf=1, min_samples_split=2,\n",
      "                       min_weight_fraction_leaf=0.0, n_estimators=500,\n",
      "                       n_jobs=None, oob_score=False, random_state=None,\n",
      "                       verbose=0, warm_start=False), 'model__max_depth': None, 'model__n_estimators': 500}\n",
      "{'model': RandomForestClassifier(bootstrap=True, class_weight=None, criterion='gini',\n",
      "                       max_depth=None, max_features='auto', max_leaf_nodes=None,\n",
      "                       min_impurity_decrease=0.0, min_impurity_split=None,\n",
      "                       min_samples_leaf=1, min_samples_split=2,\n",
      "                       min_weight_fraction_leaf=0.0, n_estimators=500,\n",
      "                       n_jobs=None, oob_score=False, random_state=None,\n",
      "                       verbose=0, warm_start=False), 'model__max_depth': None, 'model__n_estimators': 500}\n",
      "{'model': AdaBoostClassifier(algorithm='SAMME.R', base_estimator=None, learning_rate=0.1,\n",
      "                   n_estimators=200, random_state=None), 'model__learning_rate': 0.1, 'model__n_estimators': 200}\n",
      "{'model': AdaBoostClassifier(algorithm='SAMME.R', base_estimator=None, learning_rate=1,\n",
      "                   n_estimators=200, random_state=None), 'model__learning_rate': 1, 'model__n_estimators': 200}\n",
      "{'model': AdaBoostClassifier(algorithm='SAMME.R', base_estimator=None, learning_rate=0.1,\n",
      "                   n_estimators=50, random_state=None), 'model__learning_rate': 0.1, 'model__n_estimators': 50}\n"
     ]
    }
   ],
   "source": [
    "# Inspecting all of the optimized models for hyper parameter selection\n",
    "print(joblib.load('../models/IMDb_logreg_ref.pkl').best_params_)\n",
    "print(joblib.load('../models/Rotten_logreg_ref.pkl').best_params_)\n",
    "print(joblib.load('../models/Profit_logreg_ref.pkl').best_params_)\n",
    "print(joblib.load('../models/IMDb_xgbc_ref.pkl').best_params_)\n",
    "print(joblib.load('../models/Rotten_xgbc_ref.pkl').best_params_)\n",
    "print(joblib.load('../models/Profit_xgbc_ref.pkl').best_params_)\n",
    "print(joblib.load('../models/IMDb_rf_ref.pkl').best_params_)\n",
    "print(joblib.load('../models/Rotten_rf_ref.pkl').best_params_)\n",
    "print(joblib.load('../models/Profit_rf_ref.pkl').best_params_)\n",
    "print(joblib.load('../models/IMDb_ada_ref.pkl').best_params_)\n",
    "print(joblib.load('../models/Rotten_ada_ref.pkl').best_params_)\n",
    "print(joblib.load('../models/Profit_ada_ref.pkl').best_params_)"
   ]
  },
  {
   "cell_type": "markdown",
   "metadata": {},
   "source": [
    "### IMDb Score Models       \n",
    "\n",
    "**NOTE**     \n",
    "Some minor touch ups are done in the plotly chart studio editor:\n",
    " - fixing the axis on the right horizontal bar chart\n",
    " - Increasing the font size"
   ]
  },
  {
   "cell_type": "code",
   "execution_count": 32,
   "metadata": {},
   "outputs": [],
   "source": [
    "logreg_imdb = LogisticRegression(C=0.1, \n",
    "                                 penalty='l2').fit(X_scaled, y_imdb)"
   ]
  },
  {
   "cell_type": "code",
   "execution_count": 33,
   "metadata": {},
   "outputs": [],
   "source": [
    "xgbc_imdb = XGBClassifier(max_depth=7, \n",
    "                          learning_rate=0.01, \n",
    "                          n_estimator=200).fit(X_scaled, y_imdb)"
   ]
  },
  {
   "cell_type": "code",
   "execution_count": 34,
   "metadata": {},
   "outputs": [],
   "source": [
    "rf_imdb = RandomForestClassifier(max_depth=5,\n",
    "                                 n_estimators=100).fit(X_scaled, y_imdb)"
   ]
  },
  {
   "cell_type": "code",
   "execution_count": 36,
   "metadata": {},
   "outputs": [],
   "source": [
    "ada_imdb = AdaBoostClassifier(learning_rate=0.1,\n",
    "                              n_estimators=200).fit(X_scaled, y_imdb)"
   ]
  },
  {
   "cell_type": "code",
   "execution_count": 87,
   "metadata": {},
   "outputs": [],
   "source": [
    "lr_coefs = pd.DataFrame({'Coef':X_merged.columns,\n",
    "                         'Value':logreg_imdb.coef_[0]})\n",
    "lr_t50 = lr_coefs.sort_values(by='Value', ascending=False).head(10)\n",
    "\n",
    "xg_coefs = pd.DataFrame({'Coef':X_merged.columns,\n",
    "                         'Value':xgbc_imdb.feature_importances_})\n",
    "xg_t50 = xg_coefs.sort_values(by='Value', ascending=False).head(10)\n",
    "\n",
    "rf_coefs = pd.DataFrame({'Coef':X_merged.columns,\n",
    "                         'Value':rf_imdb.feature_importances_})\n",
    "rf_t50 = rf_coefs.sort_values(by='Value', ascending=False).head(10)\n",
    "\n",
    "ada_coefs = pd.DataFrame({'Coef':X_merged.columns,\n",
    "                         'Value':ada_imdb.feature_importances_})\n",
    "ada_t50 = ada_coefs.sort_values(by='Value', ascending=False).head(10)"
   ]
  },
  {
   "cell_type": "code",
   "execution_count": 89,
   "metadata": {},
   "outputs": [
    {
     "data": {
      "application/vnd.plotly.v1+json": {
       "config": {
        "plotlyServerURL": "https://plot.ly"
       },
       "data": [
        {
         "hovertemplate": "%{y}<extra></extra>",
         "marker": {
          "color": "#1F77B4"
         },
         "name": "Count",
         "type": "histogram",
         "x": [
          0.73,
          0.77,
          0.75,
          0.8,
          0.81,
          0.76,
          0.65,
          0.61,
          0.63,
          0.83,
          0.58,
          0.76,
          0.76,
          0.61,
          0.75,
          0.77,
          0.65,
          0.77,
          0.7,
          0.75,
          0.71,
          0.7,
          0.6,
          0.67,
          0.76,
          0.69,
          0.69,
          0.7,
          0.7,
          0.66,
          0.65,
          0.77,
          0.8,
          0.68,
          0.84,
          0.63,
          0.56,
          0.62,
          0.83,
          0.82,
          0.48,
          0.8,
          0.79,
          0.24,
          0.83,
          0.58,
          0.83,
          0.78,
          0.74,
          0.85,
          0.72,
          0.6,
          0.7,
          0.68,
          0.76,
          0.73,
          0.75,
          0.63,
          0.79,
          0.73,
          0.59,
          0.67,
          0.71,
          0.67,
          0.8,
          0.69,
          0.61,
          0.65,
          0.83,
          0.84,
          0.76,
          0.67,
          0.66,
          0.77,
          0.67,
          0.75,
          0.57,
          0.79,
          0.77,
          0.63,
          0.6,
          0.72,
          0.7,
          0.66,
          0.57,
          0.78,
          0.8,
          0.78,
          0.74,
          0.63,
          0.53,
          0.67,
          0.69,
          0.77,
          0.57,
          0.71,
          0.7,
          0.56,
          0.78,
          0.65,
          0.81,
          0.77,
          0.65,
          0.7,
          0.75,
          0.81,
          0.6,
          0.57,
          0.67,
          0.65,
          0.77,
          0.73,
          0.8,
          0.68,
          0.72,
          0.77,
          0.72,
          0.73,
          0.6,
          0.72,
          0.73,
          0.76,
          0.7,
          0.8,
          0.81,
          0.76,
          0.64,
          0.77,
          0.61,
          0.56,
          0.73,
          0.67,
          0.69,
          0.8,
          0.75,
          0.71,
          0.67,
          0.81,
          0.59,
          0.76,
          0.56,
          0.6,
          0.76,
          0.76,
          0.74,
          0.78,
          0.56,
          0.45,
          0.56,
          0.79,
          0.69,
          0.78,
          0.7,
          0.73,
          0.56,
          0.79,
          0.77,
          0.8,
          0.56,
          0.68,
          0.79,
          0.83,
          0.79,
          0.69,
          0.79,
          0.77,
          0.73,
          0.68,
          0.68,
          0.72,
          0.6,
          0.72,
          0.68,
          0.67,
          0.71,
          0.7,
          0.64,
          0.7,
          0.76,
          0.61,
          0.73,
          0.74,
          0.61,
          0.62,
          0.82,
          0.78,
          0.81,
          0.33,
          0.62,
          0.62,
          0.63,
          0.65,
          0.63,
          0.77,
          0.79,
          0.55,
          0.72,
          0.82,
          0.7,
          0.69,
          0.74,
          0.85,
          0.59,
          0.83,
          0.65,
          0.77,
          0.64,
          0.84,
          0.61,
          0.72,
          0.75,
          0.55,
          0.64,
          0.52,
          0.67,
          0.69,
          0.7,
          0.67,
          0.7,
          0.7,
          0.66,
          0.77,
          0.58,
          0.69,
          0.78,
          0.74,
          0.67,
          0.66,
          0.78,
          0.76,
          0.47,
          0.68,
          0.72,
          0.72,
          0.78,
          0.8,
          0.75,
          0.8,
          0.84,
          0.64,
          0.63,
          0.73,
          0.72,
          0.55,
          0.79,
          0.81,
          0.8,
          0.63,
          0.68,
          0.61,
          0.69,
          0.61,
          0.81,
          0.72,
          0.85,
          0.73,
          0.73,
          0.69,
          0.67,
          0.69,
          0.75,
          0.82,
          0.72,
          0.71,
          0.59,
          0.68,
          0.84,
          0.79,
          0.8,
          0.73,
          0.77,
          0.72,
          0.83,
          0.65,
          0.67,
          0.78,
          0.54,
          0.66,
          0.73,
          0.65,
          0.78,
          0.66,
          0.76,
          0.71,
          0.78,
          0.79,
          0.54,
          0.69,
          0.72,
          0.81,
          0.68,
          0.73,
          0.74,
          0.58,
          0.63,
          0.73,
          0.57,
          0.72,
          0.83,
          0.44,
          0.67,
          0.65,
          0.77,
          0.74,
          0.68,
          0.61,
          0.68,
          0.68,
          0.68,
          0.57,
          0.81,
          0.72,
          0.77,
          0.76,
          0.78,
          0.77,
          0.88,
          0.78,
          0.67,
          0.62,
          0.81,
          0.65,
          0.69,
          0.73,
          0.49,
          0.88,
          0.68,
          0.7,
          0.69,
          0.57,
          0.77,
          0.73,
          0.65,
          0.46,
          0.63,
          0.72,
          0.76,
          0.75,
          0.71,
          0.75,
          0.78,
          0.63,
          0.59,
          0.58,
          0.58,
          0.78,
          0.58,
          0.8,
          0.75,
          0.74,
          0.78,
          0.52,
          0.7,
          0.69,
          0.77,
          0.69,
          0.74,
          0.7,
          0.68,
          0.52,
          0.55,
          0.73,
          0.78,
          0.68,
          0.78,
          0.85,
          0.72,
          0.9,
          0.76,
          0.74,
          0.64,
          0.76,
          0.65,
          0.83,
          0.58,
          0.63,
          0.8,
          0.81,
          0.77,
          0.72,
          0.86,
          0.73,
          0.64,
          0.8,
          0.59,
          0.76,
          0.63,
          0.78,
          0.49,
          0.64,
          0.77,
          0.68,
          0.79,
          0.68,
          0.64,
          0.59,
          0.58,
          0.5,
          0.64,
          0.82,
          0.72,
          0.73,
          0.67,
          0.61,
          0.65,
          0.65,
          0.68,
          0.7,
          0.81,
          0.6,
          0.8,
          0.7,
          0.75,
          0.71,
          0.46,
          0.64,
          0.68,
          0.68,
          0.58,
          0.66,
          0.69,
          0.66,
          0.66,
          0.64,
          0.81,
          0.61,
          0.64,
          0.81,
          0.78,
          0.58,
          0.72,
          0.76,
          0.76,
          0.61,
          0.76,
          0.66,
          0.63,
          0.47,
          0.55,
          0.74,
          0.71,
          0.68,
          0.74,
          0.74,
          0.88,
          0.7,
          0.82,
          0.76,
          0.83,
          0.78,
          0.68,
          0.72,
          0.86,
          0.76,
          0.81,
          0.59,
          0.62,
          0.64,
          0.73,
          0.64,
          0.68,
          0.73,
          0.86,
          0.65,
          0.7,
          0.71,
          0.75,
          0.75,
          0.44,
          0.8,
          0.58,
          0.68,
          0.52,
          0.73,
          0.8,
          0.71,
          0.74,
          0.86,
          0.56,
          0.74,
          0.81,
          0.59,
          0.67,
          0.64,
          0.71,
          0.7,
          0.65,
          0.72,
          0.78,
          0.8,
          0.7,
          0.71,
          0.69,
          0.78,
          0.7,
          0.75,
          0.82,
          0.8,
          0.74,
          0.62,
          0.57,
          0.62,
          0.61,
          0.7,
          0.77,
          0.77,
          0.7,
          0.7,
          0.74,
          0.75,
          0.63,
          0.69,
          0.52,
          0.78,
          0.69,
          0.66,
          0.75,
          0.76,
          0.79,
          0.68,
          0.7,
          0.74,
          0.73,
          0.73,
          0.67,
          0.76,
          0.53,
          0.75,
          0.82,
          0.81,
          0.74,
          0.68,
          0.74,
          0.61,
          0.87,
          0.76,
          0.63,
          0.76,
          0.52,
          0.77,
          0.66,
          0.68,
          0.64,
          0.8,
          0.72,
          0.77,
          0.51,
          0.65,
          0.77,
          0.74,
          0.47,
          0.75,
          0.75,
          0.66,
          0.74,
          0.72,
          0.64,
          0.71,
          0.6,
          0.8,
          0.78,
          0.74,
          0.72,
          0.72,
          0.87,
          0.54,
          0.73,
          0.66,
          0.72,
          0.72,
          0.84,
          0.73,
          0.68,
          0.62,
          0.55,
          0.6,
          0.78,
          0.76,
          0.77,
          0.56,
          0.52,
          0.75,
          0.78,
          0.59,
          0.58,
          0.76,
          0.81,
          0.62,
          0.78,
          0.71,
          0.76,
          0.47,
          0.58,
          0.79,
          0.78,
          0.71,
          0.74,
          0.76,
          0.79,
          0.68,
          0.7,
          0.68,
          0.67,
          0.63,
          0.69,
          0.7,
          0.61,
          0.69,
          0.73,
          0.61,
          0.74,
          0.49,
          0.7,
          0.62,
          0.62,
          0.74,
          0.63,
          0.66,
          0.8,
          0.8,
          0.58,
          0.63,
          0.67,
          0.81,
          0.62,
          0.71,
          0.61,
          0.77,
          0.7,
          0.58,
          0.5,
          0.78,
          0.65,
          0.77,
          0.87,
          0.57,
          0.77,
          0.67,
          0.7,
          0.56,
          0.67,
          0.68,
          0.7,
          0.72,
          0.7,
          0.72,
          0.7,
          0.62,
          0.77,
          0.63,
          0.8,
          0.66,
          0.49,
          0.77,
          0.7,
          0.74,
          0.85,
          0.76,
          0.8,
          0.73,
          0.71,
          0.76,
          0.81,
          0.75,
          0.73,
          0.61,
          0.73,
          0.78,
          0.85,
          0.7,
          0.57,
          0.81,
          0.71,
          0.39,
          0.7,
          0.65,
          0.67,
          0.85,
          0.7,
          0.89,
          0.73,
          0.66,
          0.53,
          0.73,
          0.82,
          0.73,
          0.66,
          0.76,
          0.7,
          0.84,
          0.77,
          0.57,
          0.54,
          0.58,
          0.58,
          0.71,
          0.66,
          0.69,
          0.69,
          0.83,
          0.67,
          0.8,
          0.73,
          0.72,
          0.73,
          0.76,
          0.72,
          0.69,
          0.74,
          0.73,
          0.81,
          0.74,
          0.73,
          0.81,
          0.48,
          0.58,
          0.55,
          0.81,
          0.7,
          0.66,
          0.77,
          0.75,
          0.36,
          0.62,
          0.71,
          0.75,
          0.86,
          0.76,
          0.83,
          0.53,
          0.89,
          0.75,
          0.72,
          0.62,
          0.55,
          0.86,
          0.73,
          0.58,
          0.76,
          0.78,
          0.67,
          0.72,
          0.82,
          0.56,
          0.72,
          0.71,
          0.73,
          0.72,
          0.63,
          0.93,
          0.64,
          0.76,
          0.65,
          0.84,
          0.67,
          0.78,
          0.6,
          0.76,
          0.75,
          0.64,
          0.67,
          0.64,
          0.77,
          0.64,
          0.64,
          0.68,
          0.81,
          0.68,
          0.73,
          0.8,
          0.64,
          0.8,
          0.68,
          0.67,
          0.83,
          0.67,
          0.64,
          0.77,
          0.62,
          0.6,
          0.67,
          0.75,
          0.64,
          0.65,
          0.6,
          0.61,
          0.73,
          0.64,
          0.79,
          0.77,
          0.76,
          0.66,
          0.64,
          0.64,
          0.7,
          0.72,
          0.68,
          0.83,
          0.7,
          0.79,
          0.72,
          0.84,
          0.68,
          0.7,
          0.76,
          0.58,
          0.73,
          0.75,
          0.81,
          0.72,
          0.65,
          0.76,
          0.69,
          0.74,
          0.62,
          0.74,
          0.83,
          0.69,
          0.65,
          0.7,
          0.77,
          0.71,
          0.48,
          0.73,
          0.62,
          0.7,
          0.79,
          0.71,
          0.6,
          0.57,
          0.42,
          0.68,
          0.52,
          0.6,
          0.64,
          0.65,
          0.71,
          0.78,
          0.62,
          0.78,
          0.65,
          0.69,
          0.75,
          0.6,
          0.83,
          0.76,
          0.77,
          0.81,
          0.73,
          0.71,
          0.68,
          0.68,
          0.7,
          0.76,
          0.72,
          0.79,
          0.81,
          0.52,
          0.61,
          0.63,
          0.68,
          0.64,
          0.73,
          0.7,
          0.68,
          0.82,
          0.74,
          0.85,
          0.82,
          0.71,
          0.69,
          0.77,
          0.64,
          0.65,
          0.56,
          0.76,
          0.72,
          0.63,
          0.74,
          0.62,
          0.84,
          0.67,
          0.74,
          0.72,
          0.65,
          0.82,
          0.76,
          0.69,
          0.73,
          0.68,
          0.7,
          0.66,
          0.51,
          0.48,
          0.78,
          0.66,
          0.55,
          0.77,
          0.72,
          0.79,
          0.65,
          0.49,
          0.73,
          0.58,
          0.74,
          0.8,
          0.82,
          0.73,
          0.74,
          0.64,
          0.79,
          0.74,
          0.66,
          0.59,
          0.49,
          0.68,
          0.75,
          0.66,
          0.64,
          0.74,
          0.62,
          0.8
         ],
         "xaxis": "x",
         "yaxis": "y"
        },
        {
         "hovertemplate": "%{y}<extra></extra>",
         "marker": {
          "color": "#2CA02C"
         },
         "name": "Most Accurate Model",
         "orientation": "h",
         "type": "bar",
         "x": [
          0.1295542987620928,
          0.1146370153140283,
          0.10188870903577522,
          0.09631414492381213,
          0.08294528185419238,
          0.07917358751620013,
          0.0781348323342781,
          0.07729001275024325,
          0.0756999616828948,
          0.07468159121145487
         ],
         "xaxis": "x2",
         "y": [
          "Drama",
          "jim",
          "envy",
          "frost",
          "walter",
          "mm",
          "dan",
          "run stair",
          "eh",
          "bud"
         ],
         "yaxis": "y2"
        },
        {
         "hovertemplate": "%{y}<extra></extra>",
         "marker": {
          "color": "#FF7F0E"
         },
         "name": "Other Models",
         "orientation": "h",
         "type": "bar",
         "x": [
          0.004804214462637901,
          0.003165781032294035,
          0.0026856150943785906,
          0.002591162919998169,
          0.002576902974396944,
          0.002557198517024517,
          0.002555407350882888,
          0.0025544872041791677,
          0.0025372817181050777,
          0.002506939461454749
         ],
         "xaxis": "x3",
         "y": [
          "Drama",
          "tightly",
          "jacket pocket",
          "fiddle",
          "tag",
          "cop",
          "cell",
          "rusty",
          "know beat",
          "corn"
         ],
         "yaxis": "y3"
        },
        {
         "hovertemplate": "%{y}<extra></extra>",
         "marker": {
          "color": "#FF7F0E"
         },
         "name": "Feature Importance",
         "orientation": "h",
         "showlegend": false,
         "type": "bar",
         "x": [
          0.006595831137399679,
          0.006526450462311102,
          0.004799760821329004,
          0.004697090041505442,
          0.004211338078759976,
          0.003979367350296908,
          0.0037016308366029454,
          0.0035404435829424763,
          0.0034196272306274977,
          0.0033641685378912444
         ],
         "xaxis": "x4",
         "y": [
          "drama",
          "spark",
          "Drama",
          "pause",
          "van",
          "point view",
          "oh man",
          "eh",
          "take run",
          "obvious"
         ],
         "yaxis": "y4"
        },
        {
         "hovertemplate": "%{y}<extra></extra>",
         "marker": {
          "color": "#FF7F0E"
         },
         "name": "Feature Importance",
         "orientation": "h",
         "showlegend": false,
         "type": "bar",
         "x": [
          0.025,
          0.025,
          0.02,
          0.02,
          0.02,
          0.02,
          0.02,
          0.02,
          0.015,
          0.015
         ],
         "xaxis": "x5",
         "y": [
          "pull free",
          "Drama",
          "point gun",
          "cigarette",
          "rub",
          "eh",
          "screw",
          "blaze",
          "draft",
          "tellin"
         ],
         "yaxis": "y5"
        }
       ],
       "layout": {
        "annotations": [
         {
          "font": {
           "size": 16
          },
          "showarrow": false,
          "text": "Distribution of Ratings",
          "x": 0.5,
          "xanchor": "center",
          "xref": "paper",
          "y": 1,
          "yanchor": "bottom",
          "yref": "paper"
         },
         {
          "font": {
           "size": 16
          },
          "showarrow": false,
          "text": "Logistic Regression <br> Most Important Features",
          "x": 0.2375,
          "xanchor": "center",
          "xref": "paper",
          "y": 0.7400000000000001,
          "yanchor": "bottom",
          "yref": "paper"
         },
         {
          "font": {
           "size": 16
          },
          "showarrow": false,
          "text": "XG Boost <br> Most Important Features",
          "x": 0.7625,
          "xanchor": "center",
          "xref": "paper",
          "y": 0.7400000000000001,
          "yanchor": "bottom",
          "yref": "paper"
         },
         {
          "font": {
           "size": 16
          },
          "showarrow": false,
          "text": "Random Forest <br> Most Important Features",
          "x": 0.2375,
          "xanchor": "center",
          "xref": "paper",
          "y": 0.32000000000000006,
          "yanchor": "bottom",
          "yref": "paper"
         },
         {
          "font": {
           "size": 16
          },
          "showarrow": false,
          "text": "ADA Boost <br> Most Important Features",
          "x": 0.7625,
          "xanchor": "center",
          "xref": "paper",
          "y": 0.32000000000000006,
          "yanchor": "bottom",
          "yref": "paper"
         }
        ],
        "height": 1200,
        "shapes": [
         {
          "type": "line",
          "x0": 0.7,
          "x1": 0.7,
          "xref": "x",
          "y0": 0,
          "y1": 100,
          "yref": "y"
         }
        ],
        "template": {
         "data": {
          "bar": [
           {
            "error_x": {
             "color": "#2a3f5f"
            },
            "error_y": {
             "color": "#2a3f5f"
            },
            "marker": {
             "line": {
              "color": "#E5ECF6",
              "width": 0.5
             }
            },
            "type": "bar"
           }
          ],
          "barpolar": [
           {
            "marker": {
             "line": {
              "color": "#E5ECF6",
              "width": 0.5
             }
            },
            "type": "barpolar"
           }
          ],
          "carpet": [
           {
            "aaxis": {
             "endlinecolor": "#2a3f5f",
             "gridcolor": "white",
             "linecolor": "white",
             "minorgridcolor": "white",
             "startlinecolor": "#2a3f5f"
            },
            "baxis": {
             "endlinecolor": "#2a3f5f",
             "gridcolor": "white",
             "linecolor": "white",
             "minorgridcolor": "white",
             "startlinecolor": "#2a3f5f"
            },
            "type": "carpet"
           }
          ],
          "choropleth": [
           {
            "colorbar": {
             "outlinewidth": 0,
             "ticks": ""
            },
            "type": "choropleth"
           }
          ],
          "contour": [
           {
            "colorbar": {
             "outlinewidth": 0,
             "ticks": ""
            },
            "colorscale": [
             [
              0,
              "#0d0887"
             ],
             [
              0.1111111111111111,
              "#46039f"
             ],
             [
              0.2222222222222222,
              "#7201a8"
             ],
             [
              0.3333333333333333,
              "#9c179e"
             ],
             [
              0.4444444444444444,
              "#bd3786"
             ],
             [
              0.5555555555555556,
              "#d8576b"
             ],
             [
              0.6666666666666666,
              "#ed7953"
             ],
             [
              0.7777777777777778,
              "#fb9f3a"
             ],
             [
              0.8888888888888888,
              "#fdca26"
             ],
             [
              1,
              "#f0f921"
             ]
            ],
            "type": "contour"
           }
          ],
          "contourcarpet": [
           {
            "colorbar": {
             "outlinewidth": 0,
             "ticks": ""
            },
            "type": "contourcarpet"
           }
          ],
          "heatmap": [
           {
            "colorbar": {
             "outlinewidth": 0,
             "ticks": ""
            },
            "colorscale": [
             [
              0,
              "#0d0887"
             ],
             [
              0.1111111111111111,
              "#46039f"
             ],
             [
              0.2222222222222222,
              "#7201a8"
             ],
             [
              0.3333333333333333,
              "#9c179e"
             ],
             [
              0.4444444444444444,
              "#bd3786"
             ],
             [
              0.5555555555555556,
              "#d8576b"
             ],
             [
              0.6666666666666666,
              "#ed7953"
             ],
             [
              0.7777777777777778,
              "#fb9f3a"
             ],
             [
              0.8888888888888888,
              "#fdca26"
             ],
             [
              1,
              "#f0f921"
             ]
            ],
            "type": "heatmap"
           }
          ],
          "heatmapgl": [
           {
            "colorbar": {
             "outlinewidth": 0,
             "ticks": ""
            },
            "colorscale": [
             [
              0,
              "#0d0887"
             ],
             [
              0.1111111111111111,
              "#46039f"
             ],
             [
              0.2222222222222222,
              "#7201a8"
             ],
             [
              0.3333333333333333,
              "#9c179e"
             ],
             [
              0.4444444444444444,
              "#bd3786"
             ],
             [
              0.5555555555555556,
              "#d8576b"
             ],
             [
              0.6666666666666666,
              "#ed7953"
             ],
             [
              0.7777777777777778,
              "#fb9f3a"
             ],
             [
              0.8888888888888888,
              "#fdca26"
             ],
             [
              1,
              "#f0f921"
             ]
            ],
            "type": "heatmapgl"
           }
          ],
          "histogram": [
           {
            "marker": {
             "colorbar": {
              "outlinewidth": 0,
              "ticks": ""
             }
            },
            "type": "histogram"
           }
          ],
          "histogram2d": [
           {
            "colorbar": {
             "outlinewidth": 0,
             "ticks": ""
            },
            "colorscale": [
             [
              0,
              "#0d0887"
             ],
             [
              0.1111111111111111,
              "#46039f"
             ],
             [
              0.2222222222222222,
              "#7201a8"
             ],
             [
              0.3333333333333333,
              "#9c179e"
             ],
             [
              0.4444444444444444,
              "#bd3786"
             ],
             [
              0.5555555555555556,
              "#d8576b"
             ],
             [
              0.6666666666666666,
              "#ed7953"
             ],
             [
              0.7777777777777778,
              "#fb9f3a"
             ],
             [
              0.8888888888888888,
              "#fdca26"
             ],
             [
              1,
              "#f0f921"
             ]
            ],
            "type": "histogram2d"
           }
          ],
          "histogram2dcontour": [
           {
            "colorbar": {
             "outlinewidth": 0,
             "ticks": ""
            },
            "colorscale": [
             [
              0,
              "#0d0887"
             ],
             [
              0.1111111111111111,
              "#46039f"
             ],
             [
              0.2222222222222222,
              "#7201a8"
             ],
             [
              0.3333333333333333,
              "#9c179e"
             ],
             [
              0.4444444444444444,
              "#bd3786"
             ],
             [
              0.5555555555555556,
              "#d8576b"
             ],
             [
              0.6666666666666666,
              "#ed7953"
             ],
             [
              0.7777777777777778,
              "#fb9f3a"
             ],
             [
              0.8888888888888888,
              "#fdca26"
             ],
             [
              1,
              "#f0f921"
             ]
            ],
            "type": "histogram2dcontour"
           }
          ],
          "mesh3d": [
           {
            "colorbar": {
             "outlinewidth": 0,
             "ticks": ""
            },
            "type": "mesh3d"
           }
          ],
          "parcoords": [
           {
            "line": {
             "colorbar": {
              "outlinewidth": 0,
              "ticks": ""
             }
            },
            "type": "parcoords"
           }
          ],
          "pie": [
           {
            "automargin": true,
            "type": "pie"
           }
          ],
          "scatter": [
           {
            "marker": {
             "colorbar": {
              "outlinewidth": 0,
              "ticks": ""
             }
            },
            "type": "scatter"
           }
          ],
          "scatter3d": [
           {
            "line": {
             "colorbar": {
              "outlinewidth": 0,
              "ticks": ""
             }
            },
            "marker": {
             "colorbar": {
              "outlinewidth": 0,
              "ticks": ""
             }
            },
            "type": "scatter3d"
           }
          ],
          "scattercarpet": [
           {
            "marker": {
             "colorbar": {
              "outlinewidth": 0,
              "ticks": ""
             }
            },
            "type": "scattercarpet"
           }
          ],
          "scattergeo": [
           {
            "marker": {
             "colorbar": {
              "outlinewidth": 0,
              "ticks": ""
             }
            },
            "type": "scattergeo"
           }
          ],
          "scattergl": [
           {
            "marker": {
             "colorbar": {
              "outlinewidth": 0,
              "ticks": ""
             }
            },
            "type": "scattergl"
           }
          ],
          "scattermapbox": [
           {
            "marker": {
             "colorbar": {
              "outlinewidth": 0,
              "ticks": ""
             }
            },
            "type": "scattermapbox"
           }
          ],
          "scatterpolar": [
           {
            "marker": {
             "colorbar": {
              "outlinewidth": 0,
              "ticks": ""
             }
            },
            "type": "scatterpolar"
           }
          ],
          "scatterpolargl": [
           {
            "marker": {
             "colorbar": {
              "outlinewidth": 0,
              "ticks": ""
             }
            },
            "type": "scatterpolargl"
           }
          ],
          "scatterternary": [
           {
            "marker": {
             "colorbar": {
              "outlinewidth": 0,
              "ticks": ""
             }
            },
            "type": "scatterternary"
           }
          ],
          "surface": [
           {
            "colorbar": {
             "outlinewidth": 0,
             "ticks": ""
            },
            "colorscale": [
             [
              0,
              "#0d0887"
             ],
             [
              0.1111111111111111,
              "#46039f"
             ],
             [
              0.2222222222222222,
              "#7201a8"
             ],
             [
              0.3333333333333333,
              "#9c179e"
             ],
             [
              0.4444444444444444,
              "#bd3786"
             ],
             [
              0.5555555555555556,
              "#d8576b"
             ],
             [
              0.6666666666666666,
              "#ed7953"
             ],
             [
              0.7777777777777778,
              "#fb9f3a"
             ],
             [
              0.8888888888888888,
              "#fdca26"
             ],
             [
              1,
              "#f0f921"
             ]
            ],
            "type": "surface"
           }
          ],
          "table": [
           {
            "cells": {
             "fill": {
              "color": "#EBF0F8"
             },
             "line": {
              "color": "white"
             }
            },
            "header": {
             "fill": {
              "color": "#C8D4E3"
             },
             "line": {
              "color": "white"
             }
            },
            "type": "table"
           }
          ]
         },
         "layout": {
          "annotationdefaults": {
           "arrowcolor": "#2a3f5f",
           "arrowhead": 0,
           "arrowwidth": 1
          },
          "coloraxis": {
           "colorbar": {
            "outlinewidth": 0,
            "ticks": ""
           }
          },
          "colorscale": {
           "diverging": [
            [
             0,
             "#8e0152"
            ],
            [
             0.1,
             "#c51b7d"
            ],
            [
             0.2,
             "#de77ae"
            ],
            [
             0.3,
             "#f1b6da"
            ],
            [
             0.4,
             "#fde0ef"
            ],
            [
             0.5,
             "#f7f7f7"
            ],
            [
             0.6,
             "#e6f5d0"
            ],
            [
             0.7,
             "#b8e186"
            ],
            [
             0.8,
             "#7fbc41"
            ],
            [
             0.9,
             "#4d9221"
            ],
            [
             1,
             "#276419"
            ]
           ],
           "sequential": [
            [
             0,
             "#0d0887"
            ],
            [
             0.1111111111111111,
             "#46039f"
            ],
            [
             0.2222222222222222,
             "#7201a8"
            ],
            [
             0.3333333333333333,
             "#9c179e"
            ],
            [
             0.4444444444444444,
             "#bd3786"
            ],
            [
             0.5555555555555556,
             "#d8576b"
            ],
            [
             0.6666666666666666,
             "#ed7953"
            ],
            [
             0.7777777777777778,
             "#fb9f3a"
            ],
            [
             0.8888888888888888,
             "#fdca26"
            ],
            [
             1,
             "#f0f921"
            ]
           ],
           "sequentialminus": [
            [
             0,
             "#0d0887"
            ],
            [
             0.1111111111111111,
             "#46039f"
            ],
            [
             0.2222222222222222,
             "#7201a8"
            ],
            [
             0.3333333333333333,
             "#9c179e"
            ],
            [
             0.4444444444444444,
             "#bd3786"
            ],
            [
             0.5555555555555556,
             "#d8576b"
            ],
            [
             0.6666666666666666,
             "#ed7953"
            ],
            [
             0.7777777777777778,
             "#fb9f3a"
            ],
            [
             0.8888888888888888,
             "#fdca26"
            ],
            [
             1,
             "#f0f921"
            ]
           ]
          },
          "colorway": [
           "#636efa",
           "#EF553B",
           "#00cc96",
           "#ab63fa",
           "#FFA15A",
           "#19d3f3",
           "#FF6692",
           "#B6E880",
           "#FF97FF",
           "#FECB52"
          ],
          "font": {
           "color": "#2a3f5f"
          },
          "geo": {
           "bgcolor": "white",
           "lakecolor": "white",
           "landcolor": "#E5ECF6",
           "showlakes": true,
           "showland": true,
           "subunitcolor": "white"
          },
          "hoverlabel": {
           "align": "left"
          },
          "hovermode": "closest",
          "mapbox": {
           "style": "light"
          },
          "paper_bgcolor": "white",
          "plot_bgcolor": "#E5ECF6",
          "polar": {
           "angularaxis": {
            "gridcolor": "white",
            "linecolor": "white",
            "ticks": ""
           },
           "bgcolor": "#E5ECF6",
           "radialaxis": {
            "gridcolor": "white",
            "linecolor": "white",
            "ticks": ""
           }
          },
          "scene": {
           "xaxis": {
            "backgroundcolor": "#E5ECF6",
            "gridcolor": "white",
            "gridwidth": 2,
            "linecolor": "white",
            "showbackground": true,
            "ticks": "",
            "zerolinecolor": "white"
           },
           "yaxis": {
            "backgroundcolor": "#E5ECF6",
            "gridcolor": "white",
            "gridwidth": 2,
            "linecolor": "white",
            "showbackground": true,
            "ticks": "",
            "zerolinecolor": "white"
           },
           "zaxis": {
            "backgroundcolor": "#E5ECF6",
            "gridcolor": "white",
            "gridwidth": 2,
            "linecolor": "white",
            "showbackground": true,
            "ticks": "",
            "zerolinecolor": "white"
           }
          },
          "shapedefaults": {
           "line": {
            "color": "#2a3f5f"
           }
          },
          "ternary": {
           "aaxis": {
            "gridcolor": "white",
            "linecolor": "white",
            "ticks": ""
           },
           "baxis": {
            "gridcolor": "white",
            "linecolor": "white",
            "ticks": ""
           },
           "bgcolor": "#E5ECF6",
           "caxis": {
            "gridcolor": "white",
            "linecolor": "white",
            "ticks": ""
           }
          },
          "title": {
           "x": 0.05
          },
          "xaxis": {
           "automargin": true,
           "gridcolor": "white",
           "linecolor": "white",
           "ticks": "",
           "title": {
            "standoff": 15
           },
           "zerolinecolor": "white",
           "zerolinewidth": 2
          },
          "yaxis": {
           "automargin": true,
           "gridcolor": "white",
           "linecolor": "white",
           "ticks": "",
           "title": {
            "standoff": 15
           },
           "zerolinecolor": "white",
           "zerolinewidth": 2
          }
         }
        },
        "title": {
         "text": "IMDb Results"
        },
        "width": 800,
        "xaxis": {
         "anchor": "y",
         "domain": [
          0,
          1
         ],
         "title": {
          "text": "Rating"
         }
        },
        "xaxis2": {
         "anchor": "y2",
         "domain": [
          0,
          0.475
         ],
         "title": {
          "text": "Coefficient"
         }
        },
        "xaxis3": {
         "anchor": "y3",
         "autorange": "reversed",
         "domain": [
          0.525,
          1
         ],
         "title": {
          "text": "Gain"
         }
        },
        "xaxis4": {
         "anchor": "y4",
         "domain": [
          0,
          0.475
         ],
         "title": {
          "text": "Feature Importance"
         }
        },
        "xaxis5": {
         "anchor": "y5",
         "autorange": "reversed",
         "domain": [
          0.525,
          1
         ],
         "title": {
          "text": "Feature Importance"
         }
        },
        "yaxis": {
         "anchor": "x",
         "domain": [
          0.8400000000000001,
          1
         ],
         "title": {
          "text": "Count"
         }
        },
        "yaxis2": {
         "anchor": "x2",
         "domain": [
          0.42000000000000004,
          0.7400000000000001
         ]
        },
        "yaxis3": {
         "anchor": "x3",
         "domain": [
          0.42000000000000004,
          0.7400000000000001
         ]
        },
        "yaxis4": {
         "anchor": "x4",
         "domain": [
          0,
          0.32000000000000006
         ]
        },
        "yaxis5": {
         "anchor": "x5",
         "domain": [
          0,
          0.32000000000000006
         ]
        }
       }
      },
      "text/html": [
       "<div>\n",
       "        \n",
       "        \n",
       "            <div id=\"a9ddc951-f0b2-4bae-8f82-0f5765fc64bb\" class=\"plotly-graph-div\" style=\"height:1200px; width:800px;\"></div>\n",
       "            <script type=\"text/javascript\">\n",
       "                require([\"plotly\"], function(Plotly) {\n",
       "                    window.PLOTLYENV=window.PLOTLYENV || {};\n",
       "                    \n",
       "                if (document.getElementById(\"a9ddc951-f0b2-4bae-8f82-0f5765fc64bb\")) {\n",
       "                    Plotly.newPlot(\n",
       "                        'a9ddc951-f0b2-4bae-8f82-0f5765fc64bb',\n",
       "                        [{\"hovertemplate\": \"%{y}<extra></extra>\", \"marker\": {\"color\": \"#1F77B4\"}, \"name\": \"Count\", \"type\": \"histogram\", \"x\": [0.73, 0.77, 0.75, 0.8, 0.81, 0.76, 0.65, 0.61, 0.63, 0.83, 0.58, 0.76, 0.76, 0.61, 0.75, 0.77, 0.65, 0.77, 0.7, 0.75, 0.71, 0.7, 0.6, 0.67, 0.76, 0.69, 0.69, 0.7, 0.7, 0.66, 0.65, 0.77, 0.8, 0.68, 0.84, 0.63, 0.56, 0.62, 0.83, 0.82, 0.48, 0.8, 0.79, 0.24, 0.83, 0.58, 0.83, 0.78, 0.74, 0.85, 0.72, 0.6, 0.7, 0.68, 0.76, 0.73, 0.75, 0.63, 0.79, 0.73, 0.59, 0.67, 0.71, 0.67, 0.8, 0.69, 0.61, 0.65, 0.83, 0.84, 0.76, 0.67, 0.66, 0.77, 0.67, 0.75, 0.57, 0.79, 0.77, 0.63, 0.6, 0.72, 0.7, 0.66, 0.57, 0.78, 0.8, 0.78, 0.74, 0.63, 0.53, 0.67, 0.69, 0.77, 0.57, 0.71, 0.7, 0.56, 0.78, 0.65, 0.81, 0.77, 0.65, 0.7, 0.75, 0.81, 0.6, 0.57, 0.67, 0.65, 0.77, 0.73, 0.8, 0.68, 0.72, 0.77, 0.72, 0.73, 0.6, 0.72, 0.73, 0.76, 0.7, 0.8, 0.81, 0.76, 0.64, 0.77, 0.61, 0.56, 0.73, 0.67, 0.69, 0.8, 0.75, 0.71, 0.67, 0.81, 0.59, 0.76, 0.56, 0.6, 0.76, 0.76, 0.74, 0.78, 0.56, 0.45, 0.56, 0.79, 0.69, 0.78, 0.7, 0.73, 0.56, 0.79, 0.77, 0.8, 0.56, 0.68, 0.79, 0.83, 0.79, 0.69, 0.79, 0.77, 0.73, 0.68, 0.68, 0.72, 0.6, 0.72, 0.68, 0.67, 0.71, 0.7, 0.64, 0.7, 0.76, 0.61, 0.73, 0.74, 0.61, 0.62, 0.82, 0.78, 0.81, 0.33, 0.62, 0.62, 0.63, 0.65, 0.63, 0.77, 0.79, 0.55, 0.72, 0.82, 0.7, 0.69, 0.74, 0.85, 0.59, 0.83, 0.65, 0.77, 0.64, 0.84, 0.61, 0.72, 0.75, 0.55, 0.64, 0.52, 0.67, 0.69, 0.7, 0.67, 0.7, 0.7, 0.66, 0.77, 0.58, 0.69, 0.78, 0.74, 0.67, 0.66, 0.78, 0.76, 0.47, 0.68, 0.72, 0.72, 0.78, 0.8, 0.75, 0.8, 0.84, 0.64, 0.63, 0.73, 0.72, 0.55, 0.79, 0.81, 0.8, 0.63, 0.68, 0.61, 0.69, 0.61, 0.81, 0.72, 0.85, 0.73, 0.73, 0.69, 0.67, 0.69, 0.75, 0.82, 0.72, 0.71, 0.59, 0.68, 0.84, 0.79, 0.8, 0.73, 0.77, 0.72, 0.83, 0.65, 0.67, 0.78, 0.54, 0.66, 0.73, 0.65, 0.78, 0.66, 0.76, 0.71, 0.78, 0.79, 0.54, 0.69, 0.72, 0.81, 0.68, 0.73, 0.74, 0.58, 0.63, 0.73, 0.57, 0.72, 0.83, 0.44, 0.67, 0.65, 0.77, 0.74, 0.68, 0.61, 0.68, 0.68, 0.68, 0.57, 0.81, 0.72, 0.77, 0.76, 0.78, 0.77, 0.88, 0.78, 0.67, 0.62, 0.81, 0.65, 0.69, 0.73, 0.49, 0.88, 0.68, 0.7, 0.69, 0.57, 0.77, 0.73, 0.65, 0.46, 0.63, 0.72, 0.76, 0.75, 0.71, 0.75, 0.78, 0.63, 0.59, 0.58, 0.58, 0.78, 0.58, 0.8, 0.75, 0.74, 0.78, 0.52, 0.7, 0.69, 0.77, 0.69, 0.74, 0.7, 0.68, 0.52, 0.55, 0.73, 0.78, 0.68, 0.78, 0.85, 0.72, 0.9, 0.76, 0.74, 0.64, 0.76, 0.65, 0.83, 0.58, 0.63, 0.8, 0.81, 0.77, 0.72, 0.86, 0.73, 0.64, 0.8, 0.59, 0.76, 0.63, 0.78, 0.49, 0.64, 0.77, 0.68, 0.79, 0.68, 0.64, 0.59, 0.58, 0.5, 0.64, 0.82, 0.72, 0.73, 0.67, 0.61, 0.65, 0.65, 0.68, 0.7, 0.81, 0.6, 0.8, 0.7, 0.75, 0.71, 0.46, 0.64, 0.68, 0.68, 0.58, 0.66, 0.69, 0.66, 0.66, 0.64, 0.81, 0.61, 0.64, 0.81, 0.78, 0.58, 0.72, 0.76, 0.76, 0.61, 0.76, 0.66, 0.63, 0.47, 0.55, 0.74, 0.71, 0.68, 0.74, 0.74, 0.88, 0.7, 0.82, 0.76, 0.83, 0.78, 0.68, 0.72, 0.86, 0.76, 0.81, 0.59, 0.62, 0.64, 0.73, 0.64, 0.68, 0.73, 0.86, 0.65, 0.7, 0.71, 0.75, 0.75, 0.44, 0.8, 0.58, 0.68, 0.52, 0.73, 0.8, 0.71, 0.74, 0.86, 0.56, 0.74, 0.81, 0.59, 0.67, 0.64, 0.71, 0.7, 0.65, 0.72, 0.78, 0.8, 0.7, 0.71, 0.69, 0.78, 0.7, 0.75, 0.82, 0.8, 0.74, 0.62, 0.57, 0.62, 0.61, 0.7, 0.77, 0.77, 0.7, 0.7, 0.74, 0.75, 0.63, 0.69, 0.52, 0.78, 0.69, 0.66, 0.75, 0.76, 0.79, 0.68, 0.7, 0.74, 0.73, 0.73, 0.67, 0.76, 0.53, 0.75, 0.82, 0.81, 0.74, 0.68, 0.74, 0.61, 0.87, 0.76, 0.63, 0.76, 0.52, 0.77, 0.66, 0.68, 0.64, 0.8, 0.72, 0.77, 0.51, 0.65, 0.77, 0.74, 0.47, 0.75, 0.75, 0.66, 0.74, 0.72, 0.64, 0.71, 0.6, 0.8, 0.78, 0.74, 0.72, 0.72, 0.87, 0.54, 0.73, 0.66, 0.72, 0.72, 0.84, 0.73, 0.68, 0.62, 0.55, 0.6, 0.78, 0.76, 0.77, 0.56, 0.52, 0.75, 0.78, 0.59, 0.58, 0.76, 0.81, 0.62, 0.78, 0.71, 0.76, 0.47, 0.58, 0.79, 0.78, 0.71, 0.74, 0.76, 0.79, 0.68, 0.7, 0.68, 0.67, 0.63, 0.69, 0.7, 0.61, 0.69, 0.73, 0.61, 0.74, 0.49, 0.7, 0.62, 0.62, 0.74, 0.63, 0.66, 0.8, 0.8, 0.58, 0.63, 0.67, 0.81, 0.62, 0.71, 0.61, 0.77, 0.7, 0.58, 0.5, 0.78, 0.65, 0.77, 0.87, 0.57, 0.77, 0.67, 0.7, 0.56, 0.67, 0.68, 0.7, 0.72, 0.7, 0.72, 0.7, 0.62, 0.77, 0.63, 0.8, 0.66, 0.49, 0.77, 0.7, 0.74, 0.85, 0.76, 0.8, 0.73, 0.71, 0.76, 0.81, 0.75, 0.73, 0.61, 0.73, 0.78, 0.85, 0.7, 0.57, 0.81, 0.71, 0.39, 0.7, 0.65, 0.67, 0.85, 0.7, 0.89, 0.73, 0.66, 0.53, 0.73, 0.82, 0.73, 0.66, 0.76, 0.7, 0.84, 0.77, 0.57, 0.54, 0.58, 0.58, 0.71, 0.66, 0.69, 0.69, 0.83, 0.67, 0.8, 0.73, 0.72, 0.73, 0.76, 0.72, 0.69, 0.74, 0.73, 0.81, 0.74, 0.73, 0.81, 0.48, 0.58, 0.55, 0.81, 0.7, 0.66, 0.77, 0.75, 0.36, 0.62, 0.71, 0.75, 0.86, 0.76, 0.83, 0.53, 0.89, 0.75, 0.72, 0.62, 0.55, 0.86, 0.73, 0.58, 0.76, 0.78, 0.67, 0.72, 0.82, 0.56, 0.72, 0.71, 0.73, 0.72, 0.63, 0.93, 0.64, 0.76, 0.65, 0.84, 0.67, 0.78, 0.6, 0.76, 0.75, 0.64, 0.67, 0.64, 0.77, 0.64, 0.64, 0.68, 0.81, 0.68, 0.73, 0.8, 0.64, 0.8, 0.68, 0.67, 0.83, 0.67, 0.64, 0.77, 0.62, 0.6, 0.67, 0.75, 0.64, 0.65, 0.6, 0.61, 0.73, 0.64, 0.79, 0.77, 0.76, 0.66, 0.64, 0.64, 0.7, 0.72, 0.68, 0.83, 0.7, 0.79, 0.72, 0.84, 0.68, 0.7, 0.76, 0.58, 0.73, 0.75, 0.81, 0.72, 0.65, 0.76, 0.69, 0.74, 0.62, 0.74, 0.83, 0.69, 0.65, 0.7, 0.77, 0.71, 0.48, 0.73, 0.62, 0.7, 0.79, 0.71, 0.6, 0.57, 0.42, 0.68, 0.52, 0.6, 0.64, 0.65, 0.71, 0.78, 0.62, 0.78, 0.65, 0.69, 0.75, 0.6, 0.83, 0.76, 0.77, 0.81, 0.73, 0.71, 0.68, 0.68, 0.7, 0.76, 0.72, 0.79, 0.81, 0.52, 0.61, 0.63, 0.68, 0.64, 0.73, 0.7, 0.68, 0.82, 0.74, 0.85, 0.82, 0.71, 0.69, 0.77, 0.64, 0.65, 0.56, 0.76, 0.72, 0.63, 0.74, 0.62, 0.84, 0.67, 0.74, 0.72, 0.65, 0.82, 0.76, 0.69, 0.73, 0.68, 0.7, 0.66, 0.51, 0.48, 0.78, 0.66, 0.55, 0.77, 0.72, 0.79, 0.65, 0.49, 0.73, 0.58, 0.74, 0.8, 0.82, 0.73, 0.74, 0.64, 0.79, 0.74, 0.66, 0.59, 0.49, 0.68, 0.75, 0.66, 0.64, 0.74, 0.62, 0.8], \"xaxis\": \"x\", \"yaxis\": \"y\"}, {\"hovertemplate\": \"%{y}<extra></extra>\", \"marker\": {\"color\": \"#2CA02C\"}, \"name\": \"Most Accurate Model\", \"orientation\": \"h\", \"type\": \"bar\", \"x\": [0.1295542987620928, 0.1146370153140283, 0.10188870903577522, 0.09631414492381213, 0.08294528185419238, 0.07917358751620013, 0.0781348323342781, 0.07729001275024325, 0.0756999616828948, 0.07468159121145487], \"xaxis\": \"x2\", \"y\": [\"Drama\", \"jim\", \"envy\", \"frost\", \"walter\", \"mm\", \"dan\", \"run stair\", \"eh\", \"bud\"], \"yaxis\": \"y2\"}, {\"hovertemplate\": \"%{y}<extra></extra>\", \"marker\": {\"color\": \"#FF7F0E\"}, \"name\": \"Other Models\", \"orientation\": \"h\", \"type\": \"bar\", \"x\": [0.004804214462637901, 0.003165781032294035, 0.0026856150943785906, 0.002591162919998169, 0.002576902974396944, 0.002557198517024517, 0.002555407350882888, 0.0025544872041791677, 0.0025372817181050777, 0.002506939461454749], \"xaxis\": \"x3\", \"y\": [\"Drama\", \"tightly\", \"jacket pocket\", \"fiddle\", \"tag\", \"cop\", \"cell\", \"rusty\", \"know beat\", \"corn\"], \"yaxis\": \"y3\"}, {\"hovertemplate\": \"%{y}<extra></extra>\", \"marker\": {\"color\": \"#FF7F0E\"}, \"name\": \"Feature Importance\", \"orientation\": \"h\", \"showlegend\": false, \"type\": \"bar\", \"x\": [0.006595831137399679, 0.006526450462311102, 0.004799760821329004, 0.004697090041505442, 0.004211338078759976, 0.003979367350296908, 0.0037016308366029454, 0.0035404435829424763, 0.0034196272306274977, 0.0033641685378912444], \"xaxis\": \"x4\", \"y\": [\"drama\", \"spark\", \"Drama\", \"pause\", \"van\", \"point view\", \"oh man\", \"eh\", \"take run\", \"obvious\"], \"yaxis\": \"y4\"}, {\"hovertemplate\": \"%{y}<extra></extra>\", \"marker\": {\"color\": \"#FF7F0E\"}, \"name\": \"Feature Importance\", \"orientation\": \"h\", \"showlegend\": false, \"type\": \"bar\", \"x\": [0.025, 0.025, 0.02, 0.02, 0.02, 0.02, 0.02, 0.02, 0.015, 0.015], \"xaxis\": \"x5\", \"y\": [\"pull free\", \"Drama\", \"point gun\", \"cigarette\", \"rub\", \"eh\", \"screw\", \"blaze\", \"draft\", \"tellin\"], \"yaxis\": \"y5\"}],\n",
       "                        {\"annotations\": [{\"font\": {\"size\": 16}, \"showarrow\": false, \"text\": \"Distribution of Ratings\", \"x\": 0.5, \"xanchor\": \"center\", \"xref\": \"paper\", \"y\": 1.0, \"yanchor\": \"bottom\", \"yref\": \"paper\"}, {\"font\": {\"size\": 16}, \"showarrow\": false, \"text\": \"Logistic Regression <br> Most Important Features\", \"x\": 0.2375, \"xanchor\": \"center\", \"xref\": \"paper\", \"y\": 0.7400000000000001, \"yanchor\": \"bottom\", \"yref\": \"paper\"}, {\"font\": {\"size\": 16}, \"showarrow\": false, \"text\": \"XG Boost <br> Most Important Features\", \"x\": 0.7625, \"xanchor\": \"center\", \"xref\": \"paper\", \"y\": 0.7400000000000001, \"yanchor\": \"bottom\", \"yref\": \"paper\"}, {\"font\": {\"size\": 16}, \"showarrow\": false, \"text\": \"Random Forest <br> Most Important Features\", \"x\": 0.2375, \"xanchor\": \"center\", \"xref\": \"paper\", \"y\": 0.32000000000000006, \"yanchor\": \"bottom\", \"yref\": \"paper\"}, {\"font\": {\"size\": 16}, \"showarrow\": false, \"text\": \"ADA Boost <br> Most Important Features\", \"x\": 0.7625, \"xanchor\": \"center\", \"xref\": \"paper\", \"y\": 0.32000000000000006, \"yanchor\": \"bottom\", \"yref\": \"paper\"}], \"height\": 1200, \"shapes\": [{\"type\": \"line\", \"x0\": 0.7, \"x1\": 0.7, \"xref\": \"x\", \"y0\": 0, \"y1\": 100, \"yref\": \"y\"}], \"template\": {\"data\": {\"bar\": [{\"error_x\": {\"color\": \"#2a3f5f\"}, \"error_y\": {\"color\": \"#2a3f5f\"}, \"marker\": {\"line\": {\"color\": \"#E5ECF6\", \"width\": 0.5}}, \"type\": \"bar\"}], \"barpolar\": [{\"marker\": {\"line\": {\"color\": \"#E5ECF6\", \"width\": 0.5}}, \"type\": \"barpolar\"}], \"carpet\": [{\"aaxis\": {\"endlinecolor\": \"#2a3f5f\", \"gridcolor\": \"white\", \"linecolor\": \"white\", \"minorgridcolor\": \"white\", \"startlinecolor\": \"#2a3f5f\"}, \"baxis\": {\"endlinecolor\": \"#2a3f5f\", \"gridcolor\": \"white\", \"linecolor\": \"white\", \"minorgridcolor\": \"white\", \"startlinecolor\": \"#2a3f5f\"}, \"type\": \"carpet\"}], \"choropleth\": [{\"colorbar\": {\"outlinewidth\": 0, \"ticks\": \"\"}, \"type\": \"choropleth\"}], \"contour\": [{\"colorbar\": {\"outlinewidth\": 0, \"ticks\": \"\"}, \"colorscale\": [[0.0, \"#0d0887\"], [0.1111111111111111, \"#46039f\"], [0.2222222222222222, \"#7201a8\"], [0.3333333333333333, \"#9c179e\"], [0.4444444444444444, \"#bd3786\"], [0.5555555555555556, \"#d8576b\"], [0.6666666666666666, \"#ed7953\"], [0.7777777777777778, \"#fb9f3a\"], [0.8888888888888888, \"#fdca26\"], [1.0, \"#f0f921\"]], \"type\": \"contour\"}], \"contourcarpet\": [{\"colorbar\": {\"outlinewidth\": 0, \"ticks\": \"\"}, \"type\": \"contourcarpet\"}], \"heatmap\": [{\"colorbar\": {\"outlinewidth\": 0, \"ticks\": \"\"}, \"colorscale\": [[0.0, \"#0d0887\"], [0.1111111111111111, \"#46039f\"], [0.2222222222222222, \"#7201a8\"], [0.3333333333333333, \"#9c179e\"], [0.4444444444444444, \"#bd3786\"], [0.5555555555555556, \"#d8576b\"], [0.6666666666666666, \"#ed7953\"], [0.7777777777777778, \"#fb9f3a\"], [0.8888888888888888, \"#fdca26\"], [1.0, \"#f0f921\"]], \"type\": \"heatmap\"}], \"heatmapgl\": [{\"colorbar\": {\"outlinewidth\": 0, \"ticks\": \"\"}, \"colorscale\": [[0.0, \"#0d0887\"], [0.1111111111111111, \"#46039f\"], [0.2222222222222222, \"#7201a8\"], [0.3333333333333333, \"#9c179e\"], [0.4444444444444444, \"#bd3786\"], [0.5555555555555556, \"#d8576b\"], [0.6666666666666666, \"#ed7953\"], [0.7777777777777778, \"#fb9f3a\"], [0.8888888888888888, \"#fdca26\"], [1.0, \"#f0f921\"]], \"type\": \"heatmapgl\"}], \"histogram\": [{\"marker\": {\"colorbar\": {\"outlinewidth\": 0, \"ticks\": \"\"}}, \"type\": \"histogram\"}], \"histogram2d\": [{\"colorbar\": {\"outlinewidth\": 0, \"ticks\": \"\"}, \"colorscale\": [[0.0, \"#0d0887\"], [0.1111111111111111, \"#46039f\"], [0.2222222222222222, \"#7201a8\"], [0.3333333333333333, \"#9c179e\"], [0.4444444444444444, \"#bd3786\"], [0.5555555555555556, \"#d8576b\"], [0.6666666666666666, \"#ed7953\"], [0.7777777777777778, \"#fb9f3a\"], [0.8888888888888888, \"#fdca26\"], [1.0, \"#f0f921\"]], \"type\": \"histogram2d\"}], \"histogram2dcontour\": [{\"colorbar\": {\"outlinewidth\": 0, \"ticks\": \"\"}, \"colorscale\": [[0.0, \"#0d0887\"], [0.1111111111111111, \"#46039f\"], [0.2222222222222222, \"#7201a8\"], [0.3333333333333333, \"#9c179e\"], [0.4444444444444444, \"#bd3786\"], [0.5555555555555556, \"#d8576b\"], [0.6666666666666666, \"#ed7953\"], [0.7777777777777778, \"#fb9f3a\"], [0.8888888888888888, \"#fdca26\"], [1.0, \"#f0f921\"]], \"type\": \"histogram2dcontour\"}], \"mesh3d\": [{\"colorbar\": {\"outlinewidth\": 0, \"ticks\": \"\"}, \"type\": \"mesh3d\"}], \"parcoords\": [{\"line\": {\"colorbar\": {\"outlinewidth\": 0, \"ticks\": \"\"}}, \"type\": \"parcoords\"}], \"pie\": [{\"automargin\": true, \"type\": \"pie\"}], \"scatter\": [{\"marker\": {\"colorbar\": {\"outlinewidth\": 0, \"ticks\": \"\"}}, \"type\": \"scatter\"}], \"scatter3d\": [{\"line\": {\"colorbar\": {\"outlinewidth\": 0, \"ticks\": \"\"}}, \"marker\": {\"colorbar\": {\"outlinewidth\": 0, \"ticks\": \"\"}}, \"type\": \"scatter3d\"}], \"scattercarpet\": [{\"marker\": {\"colorbar\": {\"outlinewidth\": 0, \"ticks\": \"\"}}, \"type\": \"scattercarpet\"}], \"scattergeo\": [{\"marker\": {\"colorbar\": {\"outlinewidth\": 0, \"ticks\": \"\"}}, \"type\": \"scattergeo\"}], \"scattergl\": [{\"marker\": {\"colorbar\": {\"outlinewidth\": 0, \"ticks\": \"\"}}, \"type\": \"scattergl\"}], \"scattermapbox\": [{\"marker\": {\"colorbar\": {\"outlinewidth\": 0, \"ticks\": \"\"}}, \"type\": \"scattermapbox\"}], \"scatterpolar\": [{\"marker\": {\"colorbar\": {\"outlinewidth\": 0, \"ticks\": \"\"}}, \"type\": \"scatterpolar\"}], \"scatterpolargl\": [{\"marker\": {\"colorbar\": {\"outlinewidth\": 0, \"ticks\": \"\"}}, \"type\": \"scatterpolargl\"}], \"scatterternary\": [{\"marker\": {\"colorbar\": {\"outlinewidth\": 0, \"ticks\": \"\"}}, \"type\": \"scatterternary\"}], \"surface\": [{\"colorbar\": {\"outlinewidth\": 0, \"ticks\": \"\"}, \"colorscale\": [[0.0, \"#0d0887\"], [0.1111111111111111, \"#46039f\"], [0.2222222222222222, \"#7201a8\"], [0.3333333333333333, \"#9c179e\"], [0.4444444444444444, \"#bd3786\"], [0.5555555555555556, \"#d8576b\"], [0.6666666666666666, \"#ed7953\"], [0.7777777777777778, \"#fb9f3a\"], [0.8888888888888888, \"#fdca26\"], [1.0, \"#f0f921\"]], \"type\": \"surface\"}], \"table\": [{\"cells\": {\"fill\": {\"color\": \"#EBF0F8\"}, \"line\": {\"color\": \"white\"}}, \"header\": {\"fill\": {\"color\": \"#C8D4E3\"}, \"line\": {\"color\": \"white\"}}, \"type\": \"table\"}]}, \"layout\": {\"annotationdefaults\": {\"arrowcolor\": \"#2a3f5f\", \"arrowhead\": 0, \"arrowwidth\": 1}, \"coloraxis\": {\"colorbar\": {\"outlinewidth\": 0, \"ticks\": \"\"}}, \"colorscale\": {\"diverging\": [[0, \"#8e0152\"], [0.1, \"#c51b7d\"], [0.2, \"#de77ae\"], [0.3, \"#f1b6da\"], [0.4, \"#fde0ef\"], [0.5, \"#f7f7f7\"], [0.6, \"#e6f5d0\"], [0.7, \"#b8e186\"], [0.8, \"#7fbc41\"], [0.9, \"#4d9221\"], [1, \"#276419\"]], \"sequential\": [[0.0, \"#0d0887\"], [0.1111111111111111, \"#46039f\"], [0.2222222222222222, \"#7201a8\"], [0.3333333333333333, \"#9c179e\"], [0.4444444444444444, \"#bd3786\"], [0.5555555555555556, \"#d8576b\"], [0.6666666666666666, \"#ed7953\"], [0.7777777777777778, \"#fb9f3a\"], [0.8888888888888888, \"#fdca26\"], [1.0, \"#f0f921\"]], \"sequentialminus\": [[0.0, \"#0d0887\"], [0.1111111111111111, \"#46039f\"], [0.2222222222222222, \"#7201a8\"], [0.3333333333333333, \"#9c179e\"], [0.4444444444444444, \"#bd3786\"], [0.5555555555555556, \"#d8576b\"], [0.6666666666666666, \"#ed7953\"], [0.7777777777777778, \"#fb9f3a\"], [0.8888888888888888, \"#fdca26\"], [1.0, \"#f0f921\"]]}, \"colorway\": [\"#636efa\", \"#EF553B\", \"#00cc96\", \"#ab63fa\", \"#FFA15A\", \"#19d3f3\", \"#FF6692\", \"#B6E880\", \"#FF97FF\", \"#FECB52\"], \"font\": {\"color\": \"#2a3f5f\"}, \"geo\": {\"bgcolor\": \"white\", \"lakecolor\": \"white\", \"landcolor\": \"#E5ECF6\", \"showlakes\": true, \"showland\": true, \"subunitcolor\": \"white\"}, \"hoverlabel\": {\"align\": \"left\"}, \"hovermode\": \"closest\", \"mapbox\": {\"style\": \"light\"}, \"paper_bgcolor\": \"white\", \"plot_bgcolor\": \"#E5ECF6\", \"polar\": {\"angularaxis\": {\"gridcolor\": \"white\", \"linecolor\": \"white\", \"ticks\": \"\"}, \"bgcolor\": \"#E5ECF6\", \"radialaxis\": {\"gridcolor\": \"white\", \"linecolor\": \"white\", \"ticks\": \"\"}}, \"scene\": {\"xaxis\": {\"backgroundcolor\": \"#E5ECF6\", \"gridcolor\": \"white\", \"gridwidth\": 2, \"linecolor\": \"white\", \"showbackground\": true, \"ticks\": \"\", \"zerolinecolor\": \"white\"}, \"yaxis\": {\"backgroundcolor\": \"#E5ECF6\", \"gridcolor\": \"white\", \"gridwidth\": 2, \"linecolor\": \"white\", \"showbackground\": true, \"ticks\": \"\", \"zerolinecolor\": \"white\"}, \"zaxis\": {\"backgroundcolor\": \"#E5ECF6\", \"gridcolor\": \"white\", \"gridwidth\": 2, \"linecolor\": \"white\", \"showbackground\": true, \"ticks\": \"\", \"zerolinecolor\": \"white\"}}, \"shapedefaults\": {\"line\": {\"color\": \"#2a3f5f\"}}, \"ternary\": {\"aaxis\": {\"gridcolor\": \"white\", \"linecolor\": \"white\", \"ticks\": \"\"}, \"baxis\": {\"gridcolor\": \"white\", \"linecolor\": \"white\", \"ticks\": \"\"}, \"bgcolor\": \"#E5ECF6\", \"caxis\": {\"gridcolor\": \"white\", \"linecolor\": \"white\", \"ticks\": \"\"}}, \"title\": {\"x\": 0.05}, \"xaxis\": {\"automargin\": true, \"gridcolor\": \"white\", \"linecolor\": \"white\", \"ticks\": \"\", \"title\": {\"standoff\": 15}, \"zerolinecolor\": \"white\", \"zerolinewidth\": 2}, \"yaxis\": {\"automargin\": true, \"gridcolor\": \"white\", \"linecolor\": \"white\", \"ticks\": \"\", \"title\": {\"standoff\": 15}, \"zerolinecolor\": \"white\", \"zerolinewidth\": 2}}}, \"title\": {\"text\": \"IMDb Results\"}, \"width\": 800, \"xaxis\": {\"anchor\": \"y\", \"domain\": [0.0, 1.0], \"title\": {\"text\": \"Rating\"}}, \"xaxis2\": {\"anchor\": \"y2\", \"domain\": [0.0, 0.475], \"title\": {\"text\": \"Coefficient\"}}, \"xaxis3\": {\"anchor\": \"y3\", \"autorange\": \"reversed\", \"domain\": [0.525, 1.0], \"title\": {\"text\": \"Gain\"}}, \"xaxis4\": {\"anchor\": \"y4\", \"domain\": [0.0, 0.475], \"title\": {\"text\": \"Feature Importance\"}}, \"xaxis5\": {\"anchor\": \"y5\", \"autorange\": \"reversed\", \"domain\": [0.525, 1.0], \"title\": {\"text\": \"Feature Importance\"}}, \"yaxis\": {\"anchor\": \"x\", \"domain\": [0.8400000000000001, 1.0], \"title\": {\"text\": \"Count\"}}, \"yaxis2\": {\"anchor\": \"x2\", \"domain\": [0.42000000000000004, 0.7400000000000001]}, \"yaxis3\": {\"anchor\": \"x3\", \"domain\": [0.42000000000000004, 0.7400000000000001]}, \"yaxis4\": {\"anchor\": \"x4\", \"domain\": [0.0, 0.32000000000000006]}, \"yaxis5\": {\"anchor\": \"x5\", \"domain\": [0.0, 0.32000000000000006]}},\n",
       "                        {\"responsive\": true}\n",
       "                    ).then(function(){\n",
       "                            \n",
       "var gd = document.getElementById('a9ddc951-f0b2-4bae-8f82-0f5765fc64bb');\n",
       "var x = new MutationObserver(function (mutations, observer) {{\n",
       "        var display = window.getComputedStyle(gd).display;\n",
       "        if (!display || display === 'none') {{\n",
       "            console.log([gd, 'removed!']);\n",
       "            Plotly.purge(gd);\n",
       "            observer.disconnect();\n",
       "        }}\n",
       "}});\n",
       "\n",
       "// Listen for the removal of the full notebook cells\n",
       "var notebookContainer = gd.closest('#notebook-container');\n",
       "if (notebookContainer) {{\n",
       "    x.observe(notebookContainer, {childList: true});\n",
       "}}\n",
       "\n",
       "// Listen for the clearing of the current output cell\n",
       "var outputEl = gd.closest('.output');\n",
       "if (outputEl) {{\n",
       "    x.observe(outputEl, {childList: true});\n",
       "}}\n",
       "\n",
       "                        })\n",
       "                };\n",
       "                });\n",
       "            </script>\n",
       "        </div>"
      ]
     },
     "metadata": {},
     "output_type": "display_data"
    }
   ],
   "source": [
    "# Create the subplots \n",
    "fig = make_subplots(rows=3, \n",
    "                    cols=2,\n",
    "                    row_heights=[0.2, 0.4, 0.4],\n",
    "                    specs=[[{\"type\": \"xy\", \"colspan\": 2}, None],\n",
    "                           [{\"type\": \"xy\"}, {\"type\": \"xy\"}], \n",
    "                           [{\"type\": \"xy\"}, {\"type\": \"xy\"}]],\n",
    "                    subplot_titles=['Distribution of Ratings', \n",
    "                                    \"Logistic Regression <br> Most Important Features\", \n",
    "                                    \"XG Boost <br> Most Important Features\", \n",
    "                                    \"Random Forest <br> Most Important Features\", \n",
    "                                    \"ADA Boost <br> Most Important Features\"], \n",
    "                    horizontal_spacing=0.05, \n",
    "                    vertical_spacing=0.1)\n",
    "\n",
    "LR_CD = go.Bar(y=lr_t50['Coef'], \n",
    "               x=lr_t50['Value'], \n",
    "               name=\"Most Accurate Model\", \n",
    "               hovertemplate='%{y}<extra></extra>', \n",
    "               orientation='h', \n",
    "               marker_color='#2CA02C')\n",
    "XG_CD = go.Bar(y=xg_t50['Coef'], \n",
    "               x=xg_t50['Value'], \n",
    "               name=\"Other Models\", \n",
    "               hovertemplate='%{y}<extra></extra>', \n",
    "               orientation='h', \n",
    "               marker_color='#FF7F0E')\n",
    "RF_CD = go.Bar(y=rf_t50['Coef'], \n",
    "               x=rf_t50['Value'], \n",
    "               name='Feature Importance', \n",
    "               hovertemplate='%{y}<extra></extra>', \n",
    "               orientation='h', \n",
    "               marker_color='#FF7F0E', \n",
    "               showlegend=False)\n",
    "ADA_CD = go.Bar(y=ada_t50['Coef'], \n",
    "               x=ada_t50['Value'], \n",
    "               name='Feature Importance', \n",
    "               hovertemplate='%{y}<extra></extra>', \n",
    "               orientation='h',  \n",
    "               marker_color='#FF7F0E',\n",
    "               showlegend=False)\n",
    "imdb_CD = go.Histogram(x=y['IMDb_score'], \n",
    "                       name='Count', \n",
    "                       hovertemplate='%{y}<extra></extra>', \n",
    "                       marker_color='#1F77B4')\n",
    "\n",
    "# Add the graph objects\n",
    "fig.append_trace(imdb_CD, row=1, col=1)\n",
    "fig.add_shape(go.layout.Shape(type='line', xref='x', yref='y',\n",
    "                        x0=0.7, y0=0, x1=0.7, y1=100),\n",
    "                        row=1, col=1)\n",
    "fig.append_trace(LR_CD, row=2, col=1)\n",
    "fig.append_trace(XG_CD, row=2, col=2)\n",
    "fig.append_trace(RF_CD, row=3, col=1)\n",
    "fig.append_trace(ADA_CD, row=3, col=2)\n",
    "\n",
    "\n",
    "fig['layout']['xaxis1'].update(title='Rating')\n",
    "fig['layout']['xaxis3'].update(autorange='reversed')\n",
    "fig['layout']['xaxis2'].update(title='Coefficient')\n",
    "fig['layout']['xaxis3'].update(title='Gain')\n",
    "fig['layout']['xaxis5'].update(autorange='reversed')\n",
    "fig['layout']['xaxis4'].update(title='Feature Importance')\n",
    "fig['layout']['xaxis5'].update(title='Feature Importance')\n",
    "\n",
    "fig['layout']['yaxis1'].update(title='Count')\n",
    "\n",
    "# Update the layout and show\n",
    "fig.update_layout(height=1200, \n",
    "                  width=800, \n",
    "                  title_text=\"IMDb Results\")\n",
    "fig.show()\n",
    "\n",
    "# Loading onto cloud\n",
    "#py.iplot(fig, filename=\"IMDb\")"
   ]
  },
  {
   "cell_type": "markdown",
   "metadata": {},
   "source": [
    "### RT Score Models"
   ]
  },
  {
   "cell_type": "code",
   "execution_count": 54,
   "metadata": {
    "scrolled": true
   },
   "outputs": [],
   "source": [
    "logreg_rt = LogisticRegression(C=1.0, \n",
    "                               penalty='l1').fit(X_scaled, y_rt)"
   ]
  },
  {
   "cell_type": "code",
   "execution_count": 55,
   "metadata": {},
   "outputs": [],
   "source": [
    "xgbc_rt = XGBClassifier(learning_rate=0.1, \n",
    "                        max_depth=4, \n",
    "                        n_estimators=100).fit(X_scaled, y_rt)"
   ]
  },
  {
   "cell_type": "code",
   "execution_count": 56,
   "metadata": {},
   "outputs": [],
   "source": [
    "rf_rt = RandomForestClassifier(max_depth=None,\n",
    "                                 n_estimators=500).fit(X_scaled, y_rt)"
   ]
  },
  {
   "cell_type": "code",
   "execution_count": 57,
   "metadata": {},
   "outputs": [],
   "source": [
    "ada_rt = AdaBoostClassifier(learning_rate=1,\n",
    "                              n_estimators=200).fit(X_scaled, y_rt)"
   ]
  },
  {
   "cell_type": "code",
   "execution_count": 90,
   "metadata": {},
   "outputs": [],
   "source": [
    "lr_coefs = pd.DataFrame({'Coef':X_merged.columns,\n",
    "                         'Value':logreg_rt.coef_[0]})\n",
    "lr_t10 = lr_coefs.sort_values(by='Value', ascending=False).head(10)\n",
    "\n",
    "xg_coefs = pd.DataFrame({'Coef':X_merged.columns,\n",
    "                         'Value':xgbc_rt.feature_importances_})\n",
    "xg_t10 = xg_coefs.sort_values(by='Value', ascending=False).head(10)\n",
    "\n",
    "rf_coefs = pd.DataFrame({'Coef':X_merged.columns,\n",
    "                         'Value':rf_rt.feature_importances_})\n",
    "rf_t10 = rf_coefs.sort_values(by='Value', ascending=False).head(10)\n",
    "\n",
    "ada_coefs = pd.DataFrame({'Coef':X_merged.columns,\n",
    "                         'Value':ada_rt.feature_importances_})\n",
    "ada_t10 = ada_coefs.sort_values(by='Value', ascending=False).head(10)"
   ]
  },
  {
   "cell_type": "code",
   "execution_count": 92,
   "metadata": {},
   "outputs": [
    {
     "data": {
      "application/vnd.plotly.v1+json": {
       "config": {
        "plotlyServerURL": "https://plot.ly"
       },
       "data": [
        {
         "hovertemplate": "%{y}<extra></extra>",
         "marker": {
          "color": "#1F77B4"
         },
         "name": "Count",
         "type": "histogram",
         "x": [
          0.68,
          0.76,
          0.73,
          0.89,
          0.95,
          0.93,
          0.32,
          0.32,
          0.56,
          0.93,
          0.39,
          0.78,
          0.86,
          0.44,
          0.8,
          0.85,
          0.22,
          0.82,
          0.89,
          0.95,
          0.68,
          0.9,
          0.53,
          0.48,
          0.89,
          0.47,
          0.64,
          0.71,
          0.88,
          0.43,
          0.76,
          0.97,
          0.95,
          0.67,
          0.97,
          0.53,
          0.21,
          0.56,
          0.99,
          0.99,
          0.06,
          0.93,
          0.89,
          0.01,
          0.93,
          0.2,
          0.87,
          0.8,
          0.96,
          0.83,
          0.92,
          0.14,
          0.61,
          0.91,
          0.69,
          0.72,
          0.87,
          0.65,
          0.93,
          0.94,
          0.27,
          0.7,
          0.85,
          0.36,
          0.97,
          0.45,
          0.24,
          0.93,
          0.93,
          0.98,
          0.95,
          0.53,
          0.88,
          0.96,
          0.38,
          0.73,
          0.26,
          0.95,
          0.85,
          0.15,
          0.32,
          0.66,
          0.7,
          0.52,
          0.19,
          0.82,
          0.91,
          0.88,
          0.69,
          0.54,
          0.18,
          0.74,
          0.43,
          0.97,
          0.25,
          0.77,
          0.78,
          0.44,
          0.98,
          0.48,
          0.9,
          0.9,
          0.21,
          0.53,
          0.72,
          0.99,
          0.4,
          0.36,
          0.2,
          0.41,
          0.92,
          0.87,
          0.94,
          0.72,
          0.85,
          0.93,
          0.83,
          0.84,
          0.78,
          0.79,
          0.97,
          0.62,
          0.72,
          0.75,
          0.82,
          0.98,
          0.3,
          0.95,
          0.58,
          0.32,
          0.97,
          0.52,
          0.66,
          0.85,
          0.96,
          0.55,
          0.57,
          0.89,
          0.26,
          0.66,
          0.59,
          0.61,
          0.94,
          0.55,
          0.87,
          0.95,
          0.52,
          0.08,
          0.16,
          0.93,
          0.47,
          0.22,
          0.85,
          0.88,
          0.12,
          0.83,
          0.81,
          0.92,
          0.44,
          0.77,
          0.97,
          0.76,
          0.98,
          0.8,
          0.89,
          0.94,
          0.79,
          0.9,
          0.72,
          0.98,
          0.53,
          0.81,
          0.68,
          0.48,
          0.97,
          0.86,
          0.36,
          0.78,
          0.33,
          0.53,
          0.9,
          0.92,
          0.39,
          0.21,
          0.8,
          0.88,
          0.96,
          0.09,
          0.53,
          0.86,
          0.45,
          0.55,
          0.25,
          0.61,
          0.95,
          0.68,
          0.87,
          0.99,
          0.85,
          0.76,
          0.71,
          0.91,
          0.38,
          1,
          0.53,
          0.88,
          0.68,
          0.97,
          0.63,
          0.7,
          0.86,
          0.19,
          0.28,
          0.21,
          0.7,
          0.66,
          0.79,
          0.69,
          0.46,
          0.77,
          0.78,
          0.91,
          0.25,
          0.61,
          0.74,
          0.79,
          0.46,
          0.33,
          0.97,
          0.82,
          0.12,
          0.54,
          0.94,
          0.63,
          0.71,
          0.93,
          0.92,
          0.83,
          0.87,
          0.84,
          0.66,
          0.75,
          0.83,
          0.21,
          0.92,
          0.84,
          0.85,
          0.42,
          0.77,
          0.11,
          0.86,
          0.29,
          0.93,
          0.57,
          0.91,
          0.89,
          0.75,
          0.48,
          0.88,
          0.75,
          0.67,
          0.93,
          0.68,
          0.92,
          0.13,
          0.69,
          0.87,
          0.93,
          0.95,
          0.67,
          0.88,
          0.57,
          0.97,
          0.92,
          0.87,
          0.92,
          0.47,
          0.46,
          0.67,
          0.53,
          0.98,
          0.27,
          0.89,
          0.85,
          0.92,
          0.9,
          0.48,
          0.93,
          0.92,
          0.91,
          0.34,
          0.71,
          0.85,
          0.22,
          0.38,
          0.84,
          0.52,
          0.85,
          0.93,
          0.19,
          0.27,
          0.62,
          0.92,
          0.79,
          0.74,
          0.62,
          0.96,
          0.79,
          0.53,
          0.27,
          0.93,
          0.78,
          0.81,
          0.49,
          0.8,
          0.71,
          0.79,
          0.91,
          0.34,
          0.48,
          0.99,
          0.8,
          0.77,
          0.77,
          0.22,
          0.7,
          0.13,
          0.87,
          0.87,
          0.41,
          0.98,
          0.7,
          0.62,
          0.08,
          0.72,
          0.63,
          0.91,
          0.9,
          0.88,
          0.94,
          0.96,
          0.69,
          0.53,
          0.34,
          0.6,
          0.73,
          0.3,
          0.84,
          0.73,
          0.86,
          0.83,
          0.12,
          0.85,
          0.79,
          0.98,
          0.87,
          0.85,
          0.73,
          0.51,
          0.26,
          0.16,
          0.92,
          0.97,
          0.89,
          0.86,
          0.76,
          0.91,
          0.97,
          0.68,
          0.95,
          0.75,
          0.94,
          0.25,
          0.97,
          0.15,
          0.72,
          0.86,
          0.81,
          0.96,
          0.48,
          0.78,
          0.85,
          0.69,
          0.96,
          0.39,
          0.85,
          0.33,
          0.96,
          0.06,
          0.41,
          0.78,
          0.71,
          0.91,
          0.39,
          0.76,
          0.28,
          0.33,
          0.16,
          0.41,
          0.86,
          0.93,
          0.92,
          0.6,
          0.46,
          0.66,
          0.54,
          0.81,
          0.7,
          0.76,
          0.41,
          0.94,
          0.53,
          0.91,
          0.69,
          0.11,
          0.52,
          0.6,
          0.6,
          0.28,
          0.69,
          0.69,
          0.74,
          0.35,
          0.63,
          0.91,
          0.2,
          0.37,
          0.99,
          0.92,
          0.24,
          0.56,
          0.89,
          0.97,
          0.33,
          0.35,
          0.71,
          0.33,
          0.07,
          0.61,
          0.85,
          0.84,
          0.64,
          0.93,
          0.94,
          0.87,
          0.65,
          0.88,
          0.85,
          0.89,
          0.96,
          0.66,
          0.92,
          0.72,
          0.62,
          0.83,
          0.72,
          0.75,
          0.56,
          0.76,
          0.52,
          0.4,
          0.86,
          0.94,
          0.58,
          0.73,
          0.44,
          0.87,
          0.72,
          0.2,
          0.98,
          0.6,
          0.52,
          0.44,
          0.83,
          0.84,
          0.23,
          0.86,
          0.68,
          0.17,
          0.94,
          0.91,
          0.49,
          0.58,
          0.5,
          0.46,
          0.93,
          0.36,
          0.84,
          0.88,
          0.95,
          0.51,
          0.94,
          0.9,
          0.88,
          0.75,
          0.87,
          0.99,
          0.91,
          0.71,
          0.54,
          0.46,
          0.74,
          0.36,
          0.46,
          0.95,
          0.66,
          0.71,
          0.84,
          0.26,
          0.9,
          0.69,
          0.61,
          0.19,
          0.96,
          0.81,
          0.67,
          0.47,
          0.19,
          0.87,
          0.87,
          0.93,
          0.69,
          0.89,
          0.84,
          0.96,
          0.93,
          0.22,
          0.88,
          0.75,
          0.93,
          0.94,
          0.69,
          0.93,
          0.61,
          0.95,
          0.62,
          0.48,
          0.6,
          0.28,
          0.95,
          0.72,
          0.27,
          0.71,
          0.83,
          0.83,
          0.88,
          0.31,
          0.33,
          0.39,
          0.63,
          0.07,
          0.91,
          0.81,
          0.8,
          0.93,
          0.94,
          0.73,
          0.87,
          0.52,
          0.91,
          1,
          0.85,
          0.85,
          0.73,
          0.88,
          0.16,
          0.97,
          0.53,
          0.53,
          0.72,
          0.92,
          0.92,
          0.68,
          0.5,
          0.15,
          0.46,
          0.9,
          0.96,
          0.93,
          0.55,
          0.37,
          0.93,
          0.91,
          0.61,
          0.52,
          0.9,
          1,
          0.15,
          0.9,
          0.63,
          0.94,
          0.19,
          0.4,
          0.9,
          0.93,
          0.93,
          0.97,
          0.86,
          0.83,
          0.57,
          0.59,
          0.63,
          0.83,
          0.73,
          0.53,
          0.83,
          0.6,
          0.71,
          0.47,
          0.55,
          0.8,
          0.11,
          0.39,
          0.28,
          0.22,
          0.51,
          0.32,
          0.4,
          0.95,
          0.95,
          0.39,
          0.25,
          0.43,
          0.93,
          0.49,
          0.83,
          0.83,
          0.77,
          0.53,
          0.51,
          0.19,
          0.82,
          0.55,
          0.8,
          0.93,
          0.41,
          0.88,
          0.43,
          0.93,
          0.21,
          0.28,
          0.75,
          0.88,
          0.95,
          0.31,
          0.61,
          0.7,
          0.24,
          0.96,
          0.85,
          0.86,
          0.5,
          0.23,
          0.8,
          0.72,
          0.88,
          0.95,
          0.92,
          0.79,
          0.53,
          0.59,
          0.82,
          0.88,
          0.85,
          0.69,
          0.08,
          0.91,
          0.81,
          0.76,
          0.62,
          0.15,
          0.97,
          0.92,
          0.07,
          0.73,
          0.43,
          0.44,
          0.96,
          0.68,
          0.92,
          0.79,
          0.69,
          0.17,
          0.96,
          0.94,
          0.91,
          1,
          0.63,
          0.75,
          1,
          0.96,
          0.14,
          0.1,
          0.25,
          0.34,
          0.27,
          0.41,
          0.98,
          0.69,
          0.91,
          0.36,
          0.79,
          0.67,
          0.97,
          0.74,
          0.82,
          0.73,
          0.51,
          0.66,
          0.6,
          0.94,
          0.79,
          0.68,
          0.93,
          0.04,
          0.48,
          0.46,
          0.88,
          0.6,
          0.52,
          0.89,
          0.82,
          0.13,
          0.3,
          0.64,
          0.79,
          0.93,
          0.49,
          0.81,
          0.15,
          0.97,
          0.81,
          0.79,
          0.82,
          0.39,
          0.81,
          0.51,
          0.22,
          0.98,
          0.82,
          0.63,
          0.91,
          0.93,
          0.49,
          0.96,
          0.92,
          0.69,
          0.79,
          0.59,
          0.9,
          0.58,
          0.69,
          0.96,
          0.85,
          0.55,
          0.88,
          0.41,
          0.92,
          0.97,
          0.44,
          0.74,
          0.44,
          0.92,
          0.54,
          0.72,
          0.88,
          0.86,
          0.74,
          0.68,
          0.96,
          0.86,
          0.91,
          0.83,
          0.3,
          0.73,
          0.39,
          0.54,
          0.96,
          0.66,
          0.12,
          0.72,
          0.92,
          0.53,
          0.65,
          0.4,
          0.12,
          0.9,
          0.44,
          0.94,
          0.87,
          0.93,
          0.47,
          0.38,
          0.42,
          0.84,
          0.63,
          0.45,
          0.94,
          0.67,
          0.88,
          0.62,
          0.98,
          0.74,
          0.81,
          0.88,
          0.18,
          0.85,
          1,
          0.98,
          0.87,
          0.25,
          0.68,
          0.73,
          0.92,
          0.22,
          0.83,
          0.97,
          0.68,
          0.33,
          0.93,
          0.79,
          0.83,
          0.38,
          0.83,
          0.52,
          0.77,
          0.93,
          0.94,
          0.75,
          0.26,
          0.19,
          0.88,
          0.38,
          0.29,
          0.7,
          0.81,
          0.83,
          0.89,
          0.34,
          0.73,
          0.57,
          0.55,
          0.82,
          0.2,
          1,
          0.92,
          0.72,
          0.9,
          0.58,
          0.88,
          0.72,
          0.51,
          0.81,
          0.96,
          0.7,
          0.92,
          0.94,
          0.49,
          0.44,
          0.22,
          0.6,
          0.14,
          0.7,
          0.9,
          0.55,
          0.98,
          0.91,
          0.89,
          0.73,
          0.62,
          0.42,
          0.9,
          0.42,
          0.43,
          0.32,
          0.89,
          0.85,
          0.26,
          0.79,
          0.55,
          0.95,
          0.71,
          0.94,
          0.74,
          0.75,
          0.83,
          0.64,
          0.6,
          0.74,
          0.57,
          0.84,
          0.46,
          0.09,
          0.31,
          0.86,
          0.6,
          0.07,
          0.97,
          0.65,
          0.91,
          0.63,
          0.17,
          0.5,
          0.46,
          0.92,
          0.98,
          0.79,
          0.82,
          0.93,
          0.52,
          0.98,
          0.81,
          0.37,
          0.48,
          0.14,
          0.46,
          0.95,
          0.69,
          0.66,
          0.91,
          0.25,
          0.98
         ],
         "xaxis": "x",
         "yaxis": "y"
        },
        {
         "hovertemplate": "%{y}<extra></extra>",
         "marker": {
          "color": "#FF7F0E"
         },
         "orientation": "h",
         "showlegend": false,
         "type": "bar",
         "x": [
          0.7061049825435954,
          0.4882042090904104,
          0.4384822033403648,
          0.4300796144233953,
          0.42203259537510507,
          0.40561575936229066,
          0.3885634567958215,
          0.37353307854483964,
          0.36649720143967557,
          0.35809216447990344
         ],
         "xaxis": "x2",
         "y": [
          "thank mr",
          "boulder",
          "camera pull",
          "Drama",
          "foreground",
          "go school",
          "yeah good",
          "dragon",
          "time right",
          "hush"
         ],
         "yaxis": "y2"
        },
        {
         "hovertemplate": "%{y}<extra></extra>",
         "marker": {
          "color": "#FF7F0E"
         },
         "orientation": "h",
         "showlegend": false,
         "type": "bar",
         "x": [
          0.006242124363780022,
          0.00621570972725749,
          0.005971400532871485,
          0.005577115807682276,
          0.004792671650648117,
          0.004748857114464045,
          0.004626169800758362,
          0.004615438636392355,
          0.004514274187386036,
          0.0044972957111895084
         ],
         "xaxis": "x3",
         "y": [
          "faster",
          "darkness",
          "straighten",
          "occasionally",
          "book",
          "murky",
          "perspective",
          "drop gun",
          "grasp",
          "brown"
         ],
         "yaxis": "y3"
        },
        {
         "hovertemplate": "%{y}<extra></extra>",
         "marker": {
          "color": "#2CA02C"
         },
         "name": "Most Accurate Model",
         "orientation": "h",
         "type": "bar",
         "x": [
          0.0019107323785641352,
          0.001591492509738392,
          0.0013896134193154249,
          0.0013459655433014615,
          0.0013226334685034838,
          0.0012500519103727948,
          0.0012304030368839659,
          0.0011839400898543714,
          0.0011272668193958596,
          0.001091656547292225
         ],
         "xaxis": "x4",
         "y": [
          "cell",
          "inch",
          "bolt",
          "spark",
          "shatter",
          "spin",
          "surround",
          "slide",
          "drama",
          "Num_PROPN"
         ],
         "yaxis": "y4"
        },
        {
         "hovertemplate": "%{y}<extra></extra>",
         "marker": {
          "color": "#FF7F0E"
         },
         "name": "Other Models",
         "orientation": "h",
         "type": "bar",
         "x": [
          0.01,
          0.01,
          0.01,
          0.01,
          0.01,
          0.01,
          0.01,
          0.01,
          0.01,
          0.01
         ],
         "xaxis": "x5",
         "y": [
          "wise",
          "sweet",
          "landscape",
          "listen get",
          "burn",
          "club",
          "wrestle",
          "lets",
          "concert",
          "haul"
         ],
         "yaxis": "y5"
        }
       ],
       "layout": {
        "annotations": [
         {
          "font": {
           "size": 16
          },
          "showarrow": false,
          "text": "Distribution of Ratings",
          "x": 0.5,
          "xanchor": "center",
          "xref": "paper",
          "y": 1,
          "yanchor": "bottom",
          "yref": "paper"
         },
         {
          "font": {
           "size": 16
          },
          "showarrow": false,
          "text": "Logistic Regression <br> Most Important Features",
          "x": 0.2375,
          "xanchor": "center",
          "xref": "paper",
          "y": 0.7400000000000001,
          "yanchor": "bottom",
          "yref": "paper"
         },
         {
          "font": {
           "size": 16
          },
          "showarrow": false,
          "text": "XG Boost <br> Most Important Features",
          "x": 0.7625,
          "xanchor": "center",
          "xref": "paper",
          "y": 0.7400000000000001,
          "yanchor": "bottom",
          "yref": "paper"
         },
         {
          "font": {
           "size": 16
          },
          "showarrow": false,
          "text": "Random Forest <br> Most Important Features",
          "x": 0.2375,
          "xanchor": "center",
          "xref": "paper",
          "y": 0.32000000000000006,
          "yanchor": "bottom",
          "yref": "paper"
         },
         {
          "font": {
           "size": 16
          },
          "showarrow": false,
          "text": "ADA Boost <br> Most Important Features",
          "x": 0.7625,
          "xanchor": "center",
          "xref": "paper",
          "y": 0.32000000000000006,
          "yanchor": "bottom",
          "yref": "paper"
         }
        ],
        "height": 1200,
        "shapes": [
         {
          "type": "line",
          "x0": 0.8,
          "x1": 0.8,
          "xref": "x",
          "y0": 0,
          "y1": 130,
          "yref": "y"
         }
        ],
        "template": {
         "data": {
          "bar": [
           {
            "error_x": {
             "color": "#2a3f5f"
            },
            "error_y": {
             "color": "#2a3f5f"
            },
            "marker": {
             "line": {
              "color": "#E5ECF6",
              "width": 0.5
             }
            },
            "type": "bar"
           }
          ],
          "barpolar": [
           {
            "marker": {
             "line": {
              "color": "#E5ECF6",
              "width": 0.5
             }
            },
            "type": "barpolar"
           }
          ],
          "carpet": [
           {
            "aaxis": {
             "endlinecolor": "#2a3f5f",
             "gridcolor": "white",
             "linecolor": "white",
             "minorgridcolor": "white",
             "startlinecolor": "#2a3f5f"
            },
            "baxis": {
             "endlinecolor": "#2a3f5f",
             "gridcolor": "white",
             "linecolor": "white",
             "minorgridcolor": "white",
             "startlinecolor": "#2a3f5f"
            },
            "type": "carpet"
           }
          ],
          "choropleth": [
           {
            "colorbar": {
             "outlinewidth": 0,
             "ticks": ""
            },
            "type": "choropleth"
           }
          ],
          "contour": [
           {
            "colorbar": {
             "outlinewidth": 0,
             "ticks": ""
            },
            "colorscale": [
             [
              0,
              "#0d0887"
             ],
             [
              0.1111111111111111,
              "#46039f"
             ],
             [
              0.2222222222222222,
              "#7201a8"
             ],
             [
              0.3333333333333333,
              "#9c179e"
             ],
             [
              0.4444444444444444,
              "#bd3786"
             ],
             [
              0.5555555555555556,
              "#d8576b"
             ],
             [
              0.6666666666666666,
              "#ed7953"
             ],
             [
              0.7777777777777778,
              "#fb9f3a"
             ],
             [
              0.8888888888888888,
              "#fdca26"
             ],
             [
              1,
              "#f0f921"
             ]
            ],
            "type": "contour"
           }
          ],
          "contourcarpet": [
           {
            "colorbar": {
             "outlinewidth": 0,
             "ticks": ""
            },
            "type": "contourcarpet"
           }
          ],
          "heatmap": [
           {
            "colorbar": {
             "outlinewidth": 0,
             "ticks": ""
            },
            "colorscale": [
             [
              0,
              "#0d0887"
             ],
             [
              0.1111111111111111,
              "#46039f"
             ],
             [
              0.2222222222222222,
              "#7201a8"
             ],
             [
              0.3333333333333333,
              "#9c179e"
             ],
             [
              0.4444444444444444,
              "#bd3786"
             ],
             [
              0.5555555555555556,
              "#d8576b"
             ],
             [
              0.6666666666666666,
              "#ed7953"
             ],
             [
              0.7777777777777778,
              "#fb9f3a"
             ],
             [
              0.8888888888888888,
              "#fdca26"
             ],
             [
              1,
              "#f0f921"
             ]
            ],
            "type": "heatmap"
           }
          ],
          "heatmapgl": [
           {
            "colorbar": {
             "outlinewidth": 0,
             "ticks": ""
            },
            "colorscale": [
             [
              0,
              "#0d0887"
             ],
             [
              0.1111111111111111,
              "#46039f"
             ],
             [
              0.2222222222222222,
              "#7201a8"
             ],
             [
              0.3333333333333333,
              "#9c179e"
             ],
             [
              0.4444444444444444,
              "#bd3786"
             ],
             [
              0.5555555555555556,
              "#d8576b"
             ],
             [
              0.6666666666666666,
              "#ed7953"
             ],
             [
              0.7777777777777778,
              "#fb9f3a"
             ],
             [
              0.8888888888888888,
              "#fdca26"
             ],
             [
              1,
              "#f0f921"
             ]
            ],
            "type": "heatmapgl"
           }
          ],
          "histogram": [
           {
            "marker": {
             "colorbar": {
              "outlinewidth": 0,
              "ticks": ""
             }
            },
            "type": "histogram"
           }
          ],
          "histogram2d": [
           {
            "colorbar": {
             "outlinewidth": 0,
             "ticks": ""
            },
            "colorscale": [
             [
              0,
              "#0d0887"
             ],
             [
              0.1111111111111111,
              "#46039f"
             ],
             [
              0.2222222222222222,
              "#7201a8"
             ],
             [
              0.3333333333333333,
              "#9c179e"
             ],
             [
              0.4444444444444444,
              "#bd3786"
             ],
             [
              0.5555555555555556,
              "#d8576b"
             ],
             [
              0.6666666666666666,
              "#ed7953"
             ],
             [
              0.7777777777777778,
              "#fb9f3a"
             ],
             [
              0.8888888888888888,
              "#fdca26"
             ],
             [
              1,
              "#f0f921"
             ]
            ],
            "type": "histogram2d"
           }
          ],
          "histogram2dcontour": [
           {
            "colorbar": {
             "outlinewidth": 0,
             "ticks": ""
            },
            "colorscale": [
             [
              0,
              "#0d0887"
             ],
             [
              0.1111111111111111,
              "#46039f"
             ],
             [
              0.2222222222222222,
              "#7201a8"
             ],
             [
              0.3333333333333333,
              "#9c179e"
             ],
             [
              0.4444444444444444,
              "#bd3786"
             ],
             [
              0.5555555555555556,
              "#d8576b"
             ],
             [
              0.6666666666666666,
              "#ed7953"
             ],
             [
              0.7777777777777778,
              "#fb9f3a"
             ],
             [
              0.8888888888888888,
              "#fdca26"
             ],
             [
              1,
              "#f0f921"
             ]
            ],
            "type": "histogram2dcontour"
           }
          ],
          "mesh3d": [
           {
            "colorbar": {
             "outlinewidth": 0,
             "ticks": ""
            },
            "type": "mesh3d"
           }
          ],
          "parcoords": [
           {
            "line": {
             "colorbar": {
              "outlinewidth": 0,
              "ticks": ""
             }
            },
            "type": "parcoords"
           }
          ],
          "pie": [
           {
            "automargin": true,
            "type": "pie"
           }
          ],
          "scatter": [
           {
            "marker": {
             "colorbar": {
              "outlinewidth": 0,
              "ticks": ""
             }
            },
            "type": "scatter"
           }
          ],
          "scatter3d": [
           {
            "line": {
             "colorbar": {
              "outlinewidth": 0,
              "ticks": ""
             }
            },
            "marker": {
             "colorbar": {
              "outlinewidth": 0,
              "ticks": ""
             }
            },
            "type": "scatter3d"
           }
          ],
          "scattercarpet": [
           {
            "marker": {
             "colorbar": {
              "outlinewidth": 0,
              "ticks": ""
             }
            },
            "type": "scattercarpet"
           }
          ],
          "scattergeo": [
           {
            "marker": {
             "colorbar": {
              "outlinewidth": 0,
              "ticks": ""
             }
            },
            "type": "scattergeo"
           }
          ],
          "scattergl": [
           {
            "marker": {
             "colorbar": {
              "outlinewidth": 0,
              "ticks": ""
             }
            },
            "type": "scattergl"
           }
          ],
          "scattermapbox": [
           {
            "marker": {
             "colorbar": {
              "outlinewidth": 0,
              "ticks": ""
             }
            },
            "type": "scattermapbox"
           }
          ],
          "scatterpolar": [
           {
            "marker": {
             "colorbar": {
              "outlinewidth": 0,
              "ticks": ""
             }
            },
            "type": "scatterpolar"
           }
          ],
          "scatterpolargl": [
           {
            "marker": {
             "colorbar": {
              "outlinewidth": 0,
              "ticks": ""
             }
            },
            "type": "scatterpolargl"
           }
          ],
          "scatterternary": [
           {
            "marker": {
             "colorbar": {
              "outlinewidth": 0,
              "ticks": ""
             }
            },
            "type": "scatterternary"
           }
          ],
          "surface": [
           {
            "colorbar": {
             "outlinewidth": 0,
             "ticks": ""
            },
            "colorscale": [
             [
              0,
              "#0d0887"
             ],
             [
              0.1111111111111111,
              "#46039f"
             ],
             [
              0.2222222222222222,
              "#7201a8"
             ],
             [
              0.3333333333333333,
              "#9c179e"
             ],
             [
              0.4444444444444444,
              "#bd3786"
             ],
             [
              0.5555555555555556,
              "#d8576b"
             ],
             [
              0.6666666666666666,
              "#ed7953"
             ],
             [
              0.7777777777777778,
              "#fb9f3a"
             ],
             [
              0.8888888888888888,
              "#fdca26"
             ],
             [
              1,
              "#f0f921"
             ]
            ],
            "type": "surface"
           }
          ],
          "table": [
           {
            "cells": {
             "fill": {
              "color": "#EBF0F8"
             },
             "line": {
              "color": "white"
             }
            },
            "header": {
             "fill": {
              "color": "#C8D4E3"
             },
             "line": {
              "color": "white"
             }
            },
            "type": "table"
           }
          ]
         },
         "layout": {
          "annotationdefaults": {
           "arrowcolor": "#2a3f5f",
           "arrowhead": 0,
           "arrowwidth": 1
          },
          "coloraxis": {
           "colorbar": {
            "outlinewidth": 0,
            "ticks": ""
           }
          },
          "colorscale": {
           "diverging": [
            [
             0,
             "#8e0152"
            ],
            [
             0.1,
             "#c51b7d"
            ],
            [
             0.2,
             "#de77ae"
            ],
            [
             0.3,
             "#f1b6da"
            ],
            [
             0.4,
             "#fde0ef"
            ],
            [
             0.5,
             "#f7f7f7"
            ],
            [
             0.6,
             "#e6f5d0"
            ],
            [
             0.7,
             "#b8e186"
            ],
            [
             0.8,
             "#7fbc41"
            ],
            [
             0.9,
             "#4d9221"
            ],
            [
             1,
             "#276419"
            ]
           ],
           "sequential": [
            [
             0,
             "#0d0887"
            ],
            [
             0.1111111111111111,
             "#46039f"
            ],
            [
             0.2222222222222222,
             "#7201a8"
            ],
            [
             0.3333333333333333,
             "#9c179e"
            ],
            [
             0.4444444444444444,
             "#bd3786"
            ],
            [
             0.5555555555555556,
             "#d8576b"
            ],
            [
             0.6666666666666666,
             "#ed7953"
            ],
            [
             0.7777777777777778,
             "#fb9f3a"
            ],
            [
             0.8888888888888888,
             "#fdca26"
            ],
            [
             1,
             "#f0f921"
            ]
           ],
           "sequentialminus": [
            [
             0,
             "#0d0887"
            ],
            [
             0.1111111111111111,
             "#46039f"
            ],
            [
             0.2222222222222222,
             "#7201a8"
            ],
            [
             0.3333333333333333,
             "#9c179e"
            ],
            [
             0.4444444444444444,
             "#bd3786"
            ],
            [
             0.5555555555555556,
             "#d8576b"
            ],
            [
             0.6666666666666666,
             "#ed7953"
            ],
            [
             0.7777777777777778,
             "#fb9f3a"
            ],
            [
             0.8888888888888888,
             "#fdca26"
            ],
            [
             1,
             "#f0f921"
            ]
           ]
          },
          "colorway": [
           "#636efa",
           "#EF553B",
           "#00cc96",
           "#ab63fa",
           "#FFA15A",
           "#19d3f3",
           "#FF6692",
           "#B6E880",
           "#FF97FF",
           "#FECB52"
          ],
          "font": {
           "color": "#2a3f5f"
          },
          "geo": {
           "bgcolor": "white",
           "lakecolor": "white",
           "landcolor": "#E5ECF6",
           "showlakes": true,
           "showland": true,
           "subunitcolor": "white"
          },
          "hoverlabel": {
           "align": "left"
          },
          "hovermode": "closest",
          "mapbox": {
           "style": "light"
          },
          "paper_bgcolor": "white",
          "plot_bgcolor": "#E5ECF6",
          "polar": {
           "angularaxis": {
            "gridcolor": "white",
            "linecolor": "white",
            "ticks": ""
           },
           "bgcolor": "#E5ECF6",
           "radialaxis": {
            "gridcolor": "white",
            "linecolor": "white",
            "ticks": ""
           }
          },
          "scene": {
           "xaxis": {
            "backgroundcolor": "#E5ECF6",
            "gridcolor": "white",
            "gridwidth": 2,
            "linecolor": "white",
            "showbackground": true,
            "ticks": "",
            "zerolinecolor": "white"
           },
           "yaxis": {
            "backgroundcolor": "#E5ECF6",
            "gridcolor": "white",
            "gridwidth": 2,
            "linecolor": "white",
            "showbackground": true,
            "ticks": "",
            "zerolinecolor": "white"
           },
           "zaxis": {
            "backgroundcolor": "#E5ECF6",
            "gridcolor": "white",
            "gridwidth": 2,
            "linecolor": "white",
            "showbackground": true,
            "ticks": "",
            "zerolinecolor": "white"
           }
          },
          "shapedefaults": {
           "line": {
            "color": "#2a3f5f"
           }
          },
          "ternary": {
           "aaxis": {
            "gridcolor": "white",
            "linecolor": "white",
            "ticks": ""
           },
           "baxis": {
            "gridcolor": "white",
            "linecolor": "white",
            "ticks": ""
           },
           "bgcolor": "#E5ECF6",
           "caxis": {
            "gridcolor": "white",
            "linecolor": "white",
            "ticks": ""
           }
          },
          "title": {
           "x": 0.05
          },
          "xaxis": {
           "automargin": true,
           "gridcolor": "white",
           "linecolor": "white",
           "ticks": "",
           "title": {
            "standoff": 15
           },
           "zerolinecolor": "white",
           "zerolinewidth": 2
          },
          "yaxis": {
           "automargin": true,
           "gridcolor": "white",
           "linecolor": "white",
           "ticks": "",
           "title": {
            "standoff": 15
           },
           "zerolinecolor": "white",
           "zerolinewidth": 2
          }
         }
        },
        "title": {
         "text": "Rotten Tomatoes Results"
        },
        "width": 800,
        "xaxis": {
         "anchor": "y",
         "domain": [
          0,
          1
         ],
         "title": {
          "text": "Rating"
         }
        },
        "xaxis2": {
         "anchor": "y2",
         "domain": [
          0,
          0.475
         ],
         "title": {
          "text": "Coefficient"
         }
        },
        "xaxis3": {
         "anchor": "y3",
         "autorange": "reversed",
         "domain": [
          0.525,
          1
         ],
         "title": {
          "text": "Gain"
         }
        },
        "xaxis4": {
         "anchor": "y4",
         "domain": [
          0,
          0.475
         ],
         "title": {
          "text": "Feature Importance"
         }
        },
        "xaxis5": {
         "anchor": "y5",
         "autorange": "reversed",
         "domain": [
          0.525,
          1
         ],
         "title": {
          "text": "Feature Importance"
         }
        },
        "yaxis": {
         "anchor": "x",
         "domain": [
          0.8400000000000001,
          1
         ],
         "title": {
          "text": "Count"
         }
        },
        "yaxis2": {
         "anchor": "x2",
         "domain": [
          0.42000000000000004,
          0.7400000000000001
         ]
        },
        "yaxis3": {
         "anchor": "x3",
         "domain": [
          0.42000000000000004,
          0.7400000000000001
         ]
        },
        "yaxis4": {
         "anchor": "x4",
         "domain": [
          0,
          0.32000000000000006
         ]
        },
        "yaxis5": {
         "anchor": "x5",
         "domain": [
          0,
          0.32000000000000006
         ]
        }
       }
      },
      "text/html": [
       "<div>\n",
       "        \n",
       "        \n",
       "            <div id=\"b68c19cd-30c4-4a42-b16a-9ec04b89a896\" class=\"plotly-graph-div\" style=\"height:1200px; width:800px;\"></div>\n",
       "            <script type=\"text/javascript\">\n",
       "                require([\"plotly\"], function(Plotly) {\n",
       "                    window.PLOTLYENV=window.PLOTLYENV || {};\n",
       "                    \n",
       "                if (document.getElementById(\"b68c19cd-30c4-4a42-b16a-9ec04b89a896\")) {\n",
       "                    Plotly.newPlot(\n",
       "                        'b68c19cd-30c4-4a42-b16a-9ec04b89a896',\n",
       "                        [{\"hovertemplate\": \"%{y}<extra></extra>\", \"marker\": {\"color\": \"#1F77B4\"}, \"name\": \"Count\", \"type\": \"histogram\", \"x\": [0.68, 0.76, 0.73, 0.89, 0.95, 0.93, 0.32, 0.32, 0.56, 0.93, 0.39, 0.78, 0.86, 0.44, 0.8, 0.85, 0.22, 0.82, 0.89, 0.95, 0.68, 0.9, 0.53, 0.48, 0.89, 0.47, 0.64, 0.71, 0.88, 0.43, 0.76, 0.97, 0.95, 0.67, 0.97, 0.53, 0.21, 0.56, 0.99, 0.99, 0.06, 0.93, 0.89, 0.01, 0.93, 0.2, 0.87, 0.8, 0.96, 0.83, 0.92, 0.14, 0.61, 0.91, 0.69, 0.72, 0.87, 0.65, 0.93, 0.94, 0.27, 0.7, 0.85, 0.36, 0.97, 0.45, 0.24, 0.93, 0.93, 0.98, 0.95, 0.53, 0.88, 0.96, 0.38, 0.73, 0.26, 0.95, 0.85, 0.15, 0.32, 0.66, 0.7, 0.52, 0.19, 0.82, 0.91, 0.88, 0.69, 0.54, 0.18, 0.74, 0.43, 0.97, 0.25, 0.77, 0.78, 0.44, 0.98, 0.48, 0.9, 0.9, 0.21, 0.53, 0.72, 0.99, 0.4, 0.36, 0.2, 0.41, 0.92, 0.87, 0.94, 0.72, 0.85, 0.93, 0.83, 0.84, 0.78, 0.79, 0.97, 0.62, 0.72, 0.75, 0.82, 0.98, 0.3, 0.95, 0.58, 0.32, 0.97, 0.52, 0.66, 0.85, 0.96, 0.55, 0.57, 0.89, 0.26, 0.66, 0.59, 0.61, 0.94, 0.55, 0.87, 0.95, 0.52, 0.08, 0.16, 0.93, 0.47, 0.22, 0.85, 0.88, 0.12, 0.83, 0.81, 0.92, 0.44, 0.77, 0.97, 0.76, 0.98, 0.8, 0.89, 0.94, 0.79, 0.9, 0.72, 0.98, 0.53, 0.81, 0.68, 0.48, 0.97, 0.86, 0.36, 0.78, 0.33, 0.53, 0.9, 0.92, 0.39, 0.21, 0.8, 0.88, 0.96, 0.09, 0.53, 0.86, 0.45, 0.55, 0.25, 0.61, 0.95, 0.68, 0.87, 0.99, 0.85, 0.76, 0.71, 0.91, 0.38, 1.0, 0.53, 0.88, 0.68, 0.97, 0.63, 0.7, 0.86, 0.19, 0.28, 0.21, 0.7, 0.66, 0.79, 0.69, 0.46, 0.77, 0.78, 0.91, 0.25, 0.61, 0.74, 0.79, 0.46, 0.33, 0.97, 0.82, 0.12, 0.54, 0.94, 0.63, 0.71, 0.93, 0.92, 0.83, 0.87, 0.84, 0.66, 0.75, 0.83, 0.21, 0.92, 0.84, 0.85, 0.42, 0.77, 0.11, 0.86, 0.29, 0.93, 0.57, 0.91, 0.89, 0.75, 0.48, 0.88, 0.75, 0.67, 0.93, 0.68, 0.92, 0.13, 0.69, 0.87, 0.93, 0.95, 0.67, 0.88, 0.57, 0.97, 0.92, 0.87, 0.92, 0.47, 0.46, 0.67, 0.53, 0.98, 0.27, 0.89, 0.85, 0.92, 0.9, 0.48, 0.93, 0.92, 0.91, 0.34, 0.71, 0.85, 0.22, 0.38, 0.84, 0.52, 0.85, 0.93, 0.19, 0.27, 0.62, 0.92, 0.79, 0.74, 0.62, 0.96, 0.79, 0.53, 0.27, 0.93, 0.78, 0.81, 0.49, 0.8, 0.71, 0.79, 0.91, 0.34, 0.48, 0.99, 0.8, 0.77, 0.77, 0.22, 0.7, 0.13, 0.87, 0.87, 0.41, 0.98, 0.7, 0.62, 0.08, 0.72, 0.63, 0.91, 0.9, 0.88, 0.94, 0.96, 0.69, 0.53, 0.34, 0.6, 0.73, 0.3, 0.84, 0.73, 0.86, 0.83, 0.12, 0.85, 0.79, 0.98, 0.87, 0.85, 0.73, 0.51, 0.26, 0.16, 0.92, 0.97, 0.89, 0.86, 0.76, 0.91, 0.97, 0.68, 0.95, 0.75, 0.94, 0.25, 0.97, 0.15, 0.72, 0.86, 0.81, 0.96, 0.48, 0.78, 0.85, 0.69, 0.96, 0.39, 0.85, 0.33, 0.96, 0.06, 0.41, 0.78, 0.71, 0.91, 0.39, 0.76, 0.28, 0.33, 0.16, 0.41, 0.86, 0.93, 0.92, 0.6, 0.46, 0.66, 0.54, 0.81, 0.7, 0.76, 0.41, 0.94, 0.53, 0.91, 0.69, 0.11, 0.52, 0.6, 0.6, 0.28, 0.69, 0.69, 0.74, 0.35, 0.63, 0.91, 0.2, 0.37, 0.99, 0.92, 0.24, 0.56, 0.89, 0.97, 0.33, 0.35, 0.71, 0.33, 0.07, 0.61, 0.85, 0.84, 0.64, 0.93, 0.94, 0.87, 0.65, 0.88, 0.85, 0.89, 0.96, 0.66, 0.92, 0.72, 0.62, 0.83, 0.72, 0.75, 0.56, 0.76, 0.52, 0.4, 0.86, 0.94, 0.58, 0.73, 0.44, 0.87, 0.72, 0.2, 0.98, 0.6, 0.52, 0.44, 0.83, 0.84, 0.23, 0.86, 0.68, 0.17, 0.94, 0.91, 0.49, 0.58, 0.5, 0.46, 0.93, 0.36, 0.84, 0.88, 0.95, 0.51, 0.94, 0.9, 0.88, 0.75, 0.87, 0.99, 0.91, 0.71, 0.54, 0.46, 0.74, 0.36, 0.46, 0.95, 0.66, 0.71, 0.84, 0.26, 0.9, 0.69, 0.61, 0.19, 0.96, 0.81, 0.67, 0.47, 0.19, 0.87, 0.87, 0.93, 0.69, 0.89, 0.84, 0.96, 0.93, 0.22, 0.88, 0.75, 0.93, 0.94, 0.69, 0.93, 0.61, 0.95, 0.62, 0.48, 0.6, 0.28, 0.95, 0.72, 0.27, 0.71, 0.83, 0.83, 0.88, 0.31, 0.33, 0.39, 0.63, 0.07, 0.91, 0.81, 0.8, 0.93, 0.94, 0.73, 0.87, 0.52, 0.91, 1.0, 0.85, 0.85, 0.73, 0.88, 0.16, 0.97, 0.53, 0.53, 0.72, 0.92, 0.92, 0.68, 0.5, 0.15, 0.46, 0.9, 0.96, 0.93, 0.55, 0.37, 0.93, 0.91, 0.61, 0.52, 0.9, 1.0, 0.15, 0.9, 0.63, 0.94, 0.19, 0.4, 0.9, 0.93, 0.93, 0.97, 0.86, 0.83, 0.57, 0.59, 0.63, 0.83, 0.73, 0.53, 0.83, 0.6, 0.71, 0.47, 0.55, 0.8, 0.11, 0.39, 0.28, 0.22, 0.51, 0.32, 0.4, 0.95, 0.95, 0.39, 0.25, 0.43, 0.93, 0.49, 0.83, 0.83, 0.77, 0.53, 0.51, 0.19, 0.82, 0.55, 0.8, 0.93, 0.41, 0.88, 0.43, 0.93, 0.21, 0.28, 0.75, 0.88, 0.95, 0.31, 0.61, 0.7, 0.24, 0.96, 0.85, 0.86, 0.5, 0.23, 0.8, 0.72, 0.88, 0.95, 0.92, 0.79, 0.53, 0.59, 0.82, 0.88, 0.85, 0.69, 0.08, 0.91, 0.81, 0.76, 0.62, 0.15, 0.97, 0.92, 0.07, 0.73, 0.43, 0.44, 0.96, 0.68, 0.92, 0.79, 0.69, 0.17, 0.96, 0.94, 0.91, 1.0, 0.63, 0.75, 1.0, 0.96, 0.14, 0.1, 0.25, 0.34, 0.27, 0.41, 0.98, 0.69, 0.91, 0.36, 0.79, 0.67, 0.97, 0.74, 0.82, 0.73, 0.51, 0.66, 0.6, 0.94, 0.79, 0.68, 0.93, 0.04, 0.48, 0.46, 0.88, 0.6, 0.52, 0.89, 0.82, 0.13, 0.3, 0.64, 0.79, 0.93, 0.49, 0.81, 0.15, 0.97, 0.81, 0.79, 0.82, 0.39, 0.81, 0.51, 0.22, 0.98, 0.82, 0.63, 0.91, 0.93, 0.49, 0.96, 0.92, 0.69, 0.79, 0.59, 0.9, 0.58, 0.69, 0.96, 0.85, 0.55, 0.88, 0.41, 0.92, 0.97, 0.44, 0.74, 0.44, 0.92, 0.54, 0.72, 0.88, 0.86, 0.74, 0.68, 0.96, 0.86, 0.91, 0.83, 0.3, 0.73, 0.39, 0.54, 0.96, 0.66, 0.12, 0.72, 0.92, 0.53, 0.65, 0.4, 0.12, 0.9, 0.44, 0.94, 0.87, 0.93, 0.47, 0.38, 0.42, 0.84, 0.63, 0.45, 0.94, 0.67, 0.88, 0.62, 0.98, 0.74, 0.81, 0.88, 0.18, 0.85, 1.0, 0.98, 0.87, 0.25, 0.68, 0.73, 0.92, 0.22, 0.83, 0.97, 0.68, 0.33, 0.93, 0.79, 0.83, 0.38, 0.83, 0.52, 0.77, 0.93, 0.94, 0.75, 0.26, 0.19, 0.88, 0.38, 0.29, 0.7, 0.81, 0.83, 0.89, 0.34, 0.73, 0.57, 0.55, 0.82, 0.2, 1.0, 0.92, 0.72, 0.9, 0.58, 0.88, 0.72, 0.51, 0.81, 0.96, 0.7, 0.92, 0.94, 0.49, 0.44, 0.22, 0.6, 0.14, 0.7, 0.9, 0.55, 0.98, 0.91, 0.89, 0.73, 0.62, 0.42, 0.9, 0.42, 0.43, 0.32, 0.89, 0.85, 0.26, 0.79, 0.55, 0.95, 0.71, 0.94, 0.74, 0.75, 0.83, 0.64, 0.6, 0.74, 0.57, 0.84, 0.46, 0.09, 0.31, 0.86, 0.6, 0.07, 0.97, 0.65, 0.91, 0.63, 0.17, 0.5, 0.46, 0.92, 0.98, 0.79, 0.82, 0.93, 0.52, 0.98, 0.81, 0.37, 0.48, 0.14, 0.46, 0.95, 0.69, 0.66, 0.91, 0.25, 0.98], \"xaxis\": \"x\", \"yaxis\": \"y\"}, {\"hovertemplate\": \"%{y}<extra></extra>\", \"marker\": {\"color\": \"#FF7F0E\"}, \"orientation\": \"h\", \"showlegend\": false, \"type\": \"bar\", \"x\": [0.7061049825435954, 0.4882042090904104, 0.4384822033403648, 0.4300796144233953, 0.42203259537510507, 0.40561575936229066, 0.3885634567958215, 0.37353307854483964, 0.36649720143967557, 0.35809216447990344], \"xaxis\": \"x2\", \"y\": [\"thank mr\", \"boulder\", \"camera pull\", \"Drama\", \"foreground\", \"go school\", \"yeah good\", \"dragon\", \"time right\", \"hush\"], \"yaxis\": \"y2\"}, {\"hovertemplate\": \"%{y}<extra></extra>\", \"marker\": {\"color\": \"#FF7F0E\"}, \"orientation\": \"h\", \"showlegend\": false, \"type\": \"bar\", \"x\": [0.006242124363780022, 0.00621570972725749, 0.005971400532871485, 0.005577115807682276, 0.004792671650648117, 0.004748857114464045, 0.004626169800758362, 0.004615438636392355, 0.004514274187386036, 0.0044972957111895084], \"xaxis\": \"x3\", \"y\": [\"faster\", \"darkness\", \"straighten\", \"occasionally\", \"book\", \"murky\", \"perspective\", \"drop gun\", \"grasp\", \"brown\"], \"yaxis\": \"y3\"}, {\"hovertemplate\": \"%{y}<extra></extra>\", \"marker\": {\"color\": \"#2CA02C\"}, \"name\": \"Most Accurate Model\", \"orientation\": \"h\", \"type\": \"bar\", \"x\": [0.0019107323785641352, 0.001591492509738392, 0.0013896134193154249, 0.0013459655433014615, 0.0013226334685034838, 0.0012500519103727948, 0.0012304030368839659, 0.0011839400898543714, 0.0011272668193958596, 0.001091656547292225], \"xaxis\": \"x4\", \"y\": [\"cell\", \"inch\", \"bolt\", \"spark\", \"shatter\", \"spin\", \"surround\", \"slide\", \"drama\", \"Num_PROPN\"], \"yaxis\": \"y4\"}, {\"hovertemplate\": \"%{y}<extra></extra>\", \"marker\": {\"color\": \"#FF7F0E\"}, \"name\": \"Other Models\", \"orientation\": \"h\", \"type\": \"bar\", \"x\": [0.01, 0.01, 0.01, 0.01, 0.01, 0.01, 0.01, 0.01, 0.01, 0.01], \"xaxis\": \"x5\", \"y\": [\"wise\", \"sweet\", \"landscape\", \"listen get\", \"burn\", \"club\", \"wrestle\", \"lets\", \"concert\", \"haul\"], \"yaxis\": \"y5\"}],\n",
       "                        {\"annotations\": [{\"font\": {\"size\": 16}, \"showarrow\": false, \"text\": \"Distribution of Ratings\", \"x\": 0.5, \"xanchor\": \"center\", \"xref\": \"paper\", \"y\": 1.0, \"yanchor\": \"bottom\", \"yref\": \"paper\"}, {\"font\": {\"size\": 16}, \"showarrow\": false, \"text\": \"Logistic Regression <br> Most Important Features\", \"x\": 0.2375, \"xanchor\": \"center\", \"xref\": \"paper\", \"y\": 0.7400000000000001, \"yanchor\": \"bottom\", \"yref\": \"paper\"}, {\"font\": {\"size\": 16}, \"showarrow\": false, \"text\": \"XG Boost <br> Most Important Features\", \"x\": 0.7625, \"xanchor\": \"center\", \"xref\": \"paper\", \"y\": 0.7400000000000001, \"yanchor\": \"bottom\", \"yref\": \"paper\"}, {\"font\": {\"size\": 16}, \"showarrow\": false, \"text\": \"Random Forest <br> Most Important Features\", \"x\": 0.2375, \"xanchor\": \"center\", \"xref\": \"paper\", \"y\": 0.32000000000000006, \"yanchor\": \"bottom\", \"yref\": \"paper\"}, {\"font\": {\"size\": 16}, \"showarrow\": false, \"text\": \"ADA Boost <br> Most Important Features\", \"x\": 0.7625, \"xanchor\": \"center\", \"xref\": \"paper\", \"y\": 0.32000000000000006, \"yanchor\": \"bottom\", \"yref\": \"paper\"}], \"height\": 1200, \"shapes\": [{\"type\": \"line\", \"x0\": 0.8, \"x1\": 0.8, \"xref\": \"x\", \"y0\": 0, \"y1\": 130, \"yref\": \"y\"}], \"template\": {\"data\": {\"bar\": [{\"error_x\": {\"color\": \"#2a3f5f\"}, \"error_y\": {\"color\": \"#2a3f5f\"}, \"marker\": {\"line\": {\"color\": \"#E5ECF6\", \"width\": 0.5}}, \"type\": \"bar\"}], \"barpolar\": [{\"marker\": {\"line\": {\"color\": \"#E5ECF6\", \"width\": 0.5}}, \"type\": \"barpolar\"}], \"carpet\": [{\"aaxis\": {\"endlinecolor\": \"#2a3f5f\", \"gridcolor\": \"white\", \"linecolor\": \"white\", \"minorgridcolor\": \"white\", \"startlinecolor\": \"#2a3f5f\"}, \"baxis\": {\"endlinecolor\": \"#2a3f5f\", \"gridcolor\": \"white\", \"linecolor\": \"white\", \"minorgridcolor\": \"white\", \"startlinecolor\": \"#2a3f5f\"}, \"type\": \"carpet\"}], \"choropleth\": [{\"colorbar\": {\"outlinewidth\": 0, \"ticks\": \"\"}, \"type\": \"choropleth\"}], \"contour\": [{\"colorbar\": {\"outlinewidth\": 0, \"ticks\": \"\"}, \"colorscale\": [[0.0, \"#0d0887\"], [0.1111111111111111, \"#46039f\"], [0.2222222222222222, \"#7201a8\"], [0.3333333333333333, \"#9c179e\"], [0.4444444444444444, \"#bd3786\"], [0.5555555555555556, \"#d8576b\"], [0.6666666666666666, \"#ed7953\"], [0.7777777777777778, \"#fb9f3a\"], [0.8888888888888888, \"#fdca26\"], [1.0, \"#f0f921\"]], \"type\": \"contour\"}], \"contourcarpet\": [{\"colorbar\": {\"outlinewidth\": 0, \"ticks\": \"\"}, \"type\": \"contourcarpet\"}], \"heatmap\": [{\"colorbar\": {\"outlinewidth\": 0, \"ticks\": \"\"}, \"colorscale\": [[0.0, \"#0d0887\"], [0.1111111111111111, \"#46039f\"], [0.2222222222222222, \"#7201a8\"], [0.3333333333333333, \"#9c179e\"], [0.4444444444444444, \"#bd3786\"], [0.5555555555555556, \"#d8576b\"], [0.6666666666666666, \"#ed7953\"], [0.7777777777777778, \"#fb9f3a\"], [0.8888888888888888, \"#fdca26\"], [1.0, \"#f0f921\"]], \"type\": \"heatmap\"}], \"heatmapgl\": [{\"colorbar\": {\"outlinewidth\": 0, \"ticks\": \"\"}, \"colorscale\": [[0.0, \"#0d0887\"], [0.1111111111111111, \"#46039f\"], [0.2222222222222222, \"#7201a8\"], [0.3333333333333333, \"#9c179e\"], [0.4444444444444444, \"#bd3786\"], [0.5555555555555556, \"#d8576b\"], [0.6666666666666666, \"#ed7953\"], [0.7777777777777778, \"#fb9f3a\"], [0.8888888888888888, \"#fdca26\"], [1.0, \"#f0f921\"]], \"type\": \"heatmapgl\"}], \"histogram\": [{\"marker\": {\"colorbar\": {\"outlinewidth\": 0, \"ticks\": \"\"}}, \"type\": \"histogram\"}], \"histogram2d\": [{\"colorbar\": {\"outlinewidth\": 0, \"ticks\": \"\"}, \"colorscale\": [[0.0, \"#0d0887\"], [0.1111111111111111, \"#46039f\"], [0.2222222222222222, \"#7201a8\"], [0.3333333333333333, \"#9c179e\"], [0.4444444444444444, \"#bd3786\"], [0.5555555555555556, \"#d8576b\"], [0.6666666666666666, \"#ed7953\"], [0.7777777777777778, \"#fb9f3a\"], [0.8888888888888888, \"#fdca26\"], [1.0, \"#f0f921\"]], \"type\": \"histogram2d\"}], \"histogram2dcontour\": [{\"colorbar\": {\"outlinewidth\": 0, \"ticks\": \"\"}, \"colorscale\": [[0.0, \"#0d0887\"], [0.1111111111111111, \"#46039f\"], [0.2222222222222222, \"#7201a8\"], [0.3333333333333333, \"#9c179e\"], [0.4444444444444444, \"#bd3786\"], [0.5555555555555556, \"#d8576b\"], [0.6666666666666666, \"#ed7953\"], [0.7777777777777778, \"#fb9f3a\"], [0.8888888888888888, \"#fdca26\"], [1.0, \"#f0f921\"]], \"type\": \"histogram2dcontour\"}], \"mesh3d\": [{\"colorbar\": {\"outlinewidth\": 0, \"ticks\": \"\"}, \"type\": \"mesh3d\"}], \"parcoords\": [{\"line\": {\"colorbar\": {\"outlinewidth\": 0, \"ticks\": \"\"}}, \"type\": \"parcoords\"}], \"pie\": [{\"automargin\": true, \"type\": \"pie\"}], \"scatter\": [{\"marker\": {\"colorbar\": {\"outlinewidth\": 0, \"ticks\": \"\"}}, \"type\": \"scatter\"}], \"scatter3d\": [{\"line\": {\"colorbar\": {\"outlinewidth\": 0, \"ticks\": \"\"}}, \"marker\": {\"colorbar\": {\"outlinewidth\": 0, \"ticks\": \"\"}}, \"type\": \"scatter3d\"}], \"scattercarpet\": [{\"marker\": {\"colorbar\": {\"outlinewidth\": 0, \"ticks\": \"\"}}, \"type\": \"scattercarpet\"}], \"scattergeo\": [{\"marker\": {\"colorbar\": {\"outlinewidth\": 0, \"ticks\": \"\"}}, \"type\": \"scattergeo\"}], \"scattergl\": [{\"marker\": {\"colorbar\": {\"outlinewidth\": 0, \"ticks\": \"\"}}, \"type\": \"scattergl\"}], \"scattermapbox\": [{\"marker\": {\"colorbar\": {\"outlinewidth\": 0, \"ticks\": \"\"}}, \"type\": \"scattermapbox\"}], \"scatterpolar\": [{\"marker\": {\"colorbar\": {\"outlinewidth\": 0, \"ticks\": \"\"}}, \"type\": \"scatterpolar\"}], \"scatterpolargl\": [{\"marker\": {\"colorbar\": {\"outlinewidth\": 0, \"ticks\": \"\"}}, \"type\": \"scatterpolargl\"}], \"scatterternary\": [{\"marker\": {\"colorbar\": {\"outlinewidth\": 0, \"ticks\": \"\"}}, \"type\": \"scatterternary\"}], \"surface\": [{\"colorbar\": {\"outlinewidth\": 0, \"ticks\": \"\"}, \"colorscale\": [[0.0, \"#0d0887\"], [0.1111111111111111, \"#46039f\"], [0.2222222222222222, \"#7201a8\"], [0.3333333333333333, \"#9c179e\"], [0.4444444444444444, \"#bd3786\"], [0.5555555555555556, \"#d8576b\"], [0.6666666666666666, \"#ed7953\"], [0.7777777777777778, \"#fb9f3a\"], [0.8888888888888888, \"#fdca26\"], [1.0, \"#f0f921\"]], \"type\": \"surface\"}], \"table\": [{\"cells\": {\"fill\": {\"color\": \"#EBF0F8\"}, \"line\": {\"color\": \"white\"}}, \"header\": {\"fill\": {\"color\": \"#C8D4E3\"}, \"line\": {\"color\": \"white\"}}, \"type\": \"table\"}]}, \"layout\": {\"annotationdefaults\": {\"arrowcolor\": \"#2a3f5f\", \"arrowhead\": 0, \"arrowwidth\": 1}, \"coloraxis\": {\"colorbar\": {\"outlinewidth\": 0, \"ticks\": \"\"}}, \"colorscale\": {\"diverging\": [[0, \"#8e0152\"], [0.1, \"#c51b7d\"], [0.2, \"#de77ae\"], [0.3, \"#f1b6da\"], [0.4, \"#fde0ef\"], [0.5, \"#f7f7f7\"], [0.6, \"#e6f5d0\"], [0.7, \"#b8e186\"], [0.8, \"#7fbc41\"], [0.9, \"#4d9221\"], [1, \"#276419\"]], \"sequential\": [[0.0, \"#0d0887\"], [0.1111111111111111, \"#46039f\"], [0.2222222222222222, \"#7201a8\"], [0.3333333333333333, \"#9c179e\"], [0.4444444444444444, \"#bd3786\"], [0.5555555555555556, \"#d8576b\"], [0.6666666666666666, \"#ed7953\"], [0.7777777777777778, \"#fb9f3a\"], [0.8888888888888888, \"#fdca26\"], [1.0, \"#f0f921\"]], \"sequentialminus\": [[0.0, \"#0d0887\"], [0.1111111111111111, \"#46039f\"], [0.2222222222222222, \"#7201a8\"], [0.3333333333333333, \"#9c179e\"], [0.4444444444444444, \"#bd3786\"], [0.5555555555555556, \"#d8576b\"], [0.6666666666666666, \"#ed7953\"], [0.7777777777777778, \"#fb9f3a\"], [0.8888888888888888, \"#fdca26\"], [1.0, \"#f0f921\"]]}, \"colorway\": [\"#636efa\", \"#EF553B\", \"#00cc96\", \"#ab63fa\", \"#FFA15A\", \"#19d3f3\", \"#FF6692\", \"#B6E880\", \"#FF97FF\", \"#FECB52\"], \"font\": {\"color\": \"#2a3f5f\"}, \"geo\": {\"bgcolor\": \"white\", \"lakecolor\": \"white\", \"landcolor\": \"#E5ECF6\", \"showlakes\": true, \"showland\": true, \"subunitcolor\": \"white\"}, \"hoverlabel\": {\"align\": \"left\"}, \"hovermode\": \"closest\", \"mapbox\": {\"style\": \"light\"}, \"paper_bgcolor\": \"white\", \"plot_bgcolor\": \"#E5ECF6\", \"polar\": {\"angularaxis\": {\"gridcolor\": \"white\", \"linecolor\": \"white\", \"ticks\": \"\"}, \"bgcolor\": \"#E5ECF6\", \"radialaxis\": {\"gridcolor\": \"white\", \"linecolor\": \"white\", \"ticks\": \"\"}}, \"scene\": {\"xaxis\": {\"backgroundcolor\": \"#E5ECF6\", \"gridcolor\": \"white\", \"gridwidth\": 2, \"linecolor\": \"white\", \"showbackground\": true, \"ticks\": \"\", \"zerolinecolor\": \"white\"}, \"yaxis\": {\"backgroundcolor\": \"#E5ECF6\", \"gridcolor\": \"white\", \"gridwidth\": 2, \"linecolor\": \"white\", \"showbackground\": true, \"ticks\": \"\", \"zerolinecolor\": \"white\"}, \"zaxis\": {\"backgroundcolor\": \"#E5ECF6\", \"gridcolor\": \"white\", \"gridwidth\": 2, \"linecolor\": \"white\", \"showbackground\": true, \"ticks\": \"\", \"zerolinecolor\": \"white\"}}, \"shapedefaults\": {\"line\": {\"color\": \"#2a3f5f\"}}, \"ternary\": {\"aaxis\": {\"gridcolor\": \"white\", \"linecolor\": \"white\", \"ticks\": \"\"}, \"baxis\": {\"gridcolor\": \"white\", \"linecolor\": \"white\", \"ticks\": \"\"}, \"bgcolor\": \"#E5ECF6\", \"caxis\": {\"gridcolor\": \"white\", \"linecolor\": \"white\", \"ticks\": \"\"}}, \"title\": {\"x\": 0.05}, \"xaxis\": {\"automargin\": true, \"gridcolor\": \"white\", \"linecolor\": \"white\", \"ticks\": \"\", \"title\": {\"standoff\": 15}, \"zerolinecolor\": \"white\", \"zerolinewidth\": 2}, \"yaxis\": {\"automargin\": true, \"gridcolor\": \"white\", \"linecolor\": \"white\", \"ticks\": \"\", \"title\": {\"standoff\": 15}, \"zerolinecolor\": \"white\", \"zerolinewidth\": 2}}}, \"title\": {\"text\": \"Rotten Tomatoes Results\"}, \"width\": 800, \"xaxis\": {\"anchor\": \"y\", \"domain\": [0.0, 1.0], \"title\": {\"text\": \"Rating\"}}, \"xaxis2\": {\"anchor\": \"y2\", \"domain\": [0.0, 0.475], \"title\": {\"text\": \"Coefficient\"}}, \"xaxis3\": {\"anchor\": \"y3\", \"autorange\": \"reversed\", \"domain\": [0.525, 1.0], \"title\": {\"text\": \"Gain\"}}, \"xaxis4\": {\"anchor\": \"y4\", \"domain\": [0.0, 0.475], \"title\": {\"text\": \"Feature Importance\"}}, \"xaxis5\": {\"anchor\": \"y5\", \"autorange\": \"reversed\", \"domain\": [0.525, 1.0], \"title\": {\"text\": \"Feature Importance\"}}, \"yaxis\": {\"anchor\": \"x\", \"domain\": [0.8400000000000001, 1.0], \"title\": {\"text\": \"Count\"}}, \"yaxis2\": {\"anchor\": \"x2\", \"domain\": [0.42000000000000004, 0.7400000000000001]}, \"yaxis3\": {\"anchor\": \"x3\", \"domain\": [0.42000000000000004, 0.7400000000000001]}, \"yaxis4\": {\"anchor\": \"x4\", \"domain\": [0.0, 0.32000000000000006]}, \"yaxis5\": {\"anchor\": \"x5\", \"domain\": [0.0, 0.32000000000000006]}},\n",
       "                        {\"responsive\": true}\n",
       "                    ).then(function(){\n",
       "                            \n",
       "var gd = document.getElementById('b68c19cd-30c4-4a42-b16a-9ec04b89a896');\n",
       "var x = new MutationObserver(function (mutations, observer) {{\n",
       "        var display = window.getComputedStyle(gd).display;\n",
       "        if (!display || display === 'none') {{\n",
       "            console.log([gd, 'removed!']);\n",
       "            Plotly.purge(gd);\n",
       "            observer.disconnect();\n",
       "        }}\n",
       "}});\n",
       "\n",
       "// Listen for the removal of the full notebook cells\n",
       "var notebookContainer = gd.closest('#notebook-container');\n",
       "if (notebookContainer) {{\n",
       "    x.observe(notebookContainer, {childList: true});\n",
       "}}\n",
       "\n",
       "// Listen for the clearing of the current output cell\n",
       "var outputEl = gd.closest('.output');\n",
       "if (outputEl) {{\n",
       "    x.observe(outputEl, {childList: true});\n",
       "}}\n",
       "\n",
       "                        })\n",
       "                };\n",
       "                });\n",
       "            </script>\n",
       "        </div>"
      ]
     },
     "metadata": {},
     "output_type": "display_data"
    }
   ],
   "source": [
    "# Create the subplots \n",
    "fig = make_subplots(rows=3, \n",
    "                    cols=2,\n",
    "                    row_heights=[0.2, 0.4, 0.4],\n",
    "                    specs=[[{\"type\": \"xy\", \"colspan\": 2}, None],\n",
    "                           [{\"type\": \"xy\"}, {\"type\": \"xy\"}],\n",
    "                           [{\"type\": \"xy\"}, {\"type\": \"xy\"}]],\n",
    "                    subplot_titles=['Distribution of Ratings', \n",
    "                                    \"Logistic Regression <br> Most Important Features\", \n",
    "                                    \"XG Boost <br> Most Important Features\", \n",
    "                                    \"Random Forest <br> Most Important Features\", \n",
    "                                    \"ADA Boost <br> Most Important Features\"], \n",
    "                    horizontal_spacing=0.05, \n",
    "                    vertical_spacing=0.1)\n",
    "\n",
    "LR_CD = go.Bar(y=lr_t10['Coef'], \n",
    "               x=lr_t10['Value'], \n",
    "               hovertemplate='%{y}<extra></extra>', \n",
    "               orientation='h',\n",
    "               marker_color='#FF7F0E', \n",
    "               showlegend=False)\n",
    "XG_CD = go.Bar(y=xg_t10['Coef'], \n",
    "               x=xg_t10['Value'], \n",
    "               hovertemplate='%{y}<extra></extra>', \n",
    "               orientation='h', \n",
    "               marker_color='#FF7F0E',\n",
    "               showlegend=False)\n",
    "RF_CD = go.Bar(y=rf_t10['Coef'], \n",
    "               x=rf_t10['Value'], \n",
    "               name='Most Accurate Model', \n",
    "               hovertemplate='%{y}<extra></extra>', \n",
    "               orientation='h', \n",
    "               marker_color='#2CA02C')\n",
    "ADA_CD = go.Bar(y=ada_t10['Coef'], \n",
    "               x=ada_t10['Value'], \n",
    "               name='Other Models', \n",
    "               hovertemplate='%{y}<extra></extra>',\n",
    "               orientation='h', \n",
    "               marker_color='#FF7F0E')\n",
    "imdb_CD = go.Histogram(x=y['RT_score'], \n",
    "                       name='Count', \n",
    "                       hovertemplate='%{y}<extra></extra>',\n",
    "                       marker_color='#1F77B4')\n",
    "\n",
    "# Add the graph objects\n",
    "fig.append_trace(imdb_CD, row=1, col=1)\n",
    "fig.add_shape(go.layout.Shape(type='line', xref='x', yref='y',\n",
    "                        x0=0.8, y0=0, x1=0.8, y1=130),\n",
    "                        row=1, col=1)\n",
    "fig.append_trace(LR_CD, row=2, col=1)\n",
    "fig.append_trace(XG_CD, row=2, col=2)\n",
    "fig.append_trace(RF_CD, row=3, col=1)\n",
    "fig.append_trace(ADA_CD, row=3, col=2)\n",
    "\n",
    "fig['layout']['xaxis1'].update(title='Rating')\n",
    "fig['layout']['xaxis3'].update(autorange='reversed')\n",
    "fig['layout']['xaxis2'].update(title='Coefficient')\n",
    "fig['layout']['xaxis3'].update(title='Gain')\n",
    "fig['layout']['xaxis5'].update(autorange='reversed')\n",
    "fig['layout']['xaxis4'].update(title='Feature Importance')\n",
    "fig['layout']['xaxis5'].update(title='Feature Importance')\n",
    "\n",
    "fig['layout']['yaxis1'].update(title='Count')\n",
    "\n",
    "# Update the layout and show\n",
    "fig.update_layout(height=1200, \n",
    "                  width=800, \n",
    "                  title_text=\"Rotten Tomatoes Results\")\n",
    "fig.show()\n",
    "\n",
    "# Loading onto cloud\n",
    "#py.iplot(fig, filename=\"RT\")"
   ]
  },
  {
   "cell_type": "markdown",
   "metadata": {},
   "source": [
    "### Profit Models"
   ]
  },
  {
   "cell_type": "code",
   "execution_count": 66,
   "metadata": {},
   "outputs": [],
   "source": [
    "logreg_profit = LogisticRegression(C=0.1, \n",
    "                                   penalty='l1').fit(X_scaled, y_profit)"
   ]
  },
  {
   "cell_type": "code",
   "execution_count": 67,
   "metadata": {},
   "outputs": [],
   "source": [
    "xgbc_profit = XGBClassifier(learning_rate=0.1, \n",
    "                            max_depth=5, \n",
    "                            n_estimators=80).fit(X_scaled, y_profit)"
   ]
  },
  {
   "cell_type": "code",
   "execution_count": 68,
   "metadata": {},
   "outputs": [],
   "source": [
    "rf_profit = RandomForestClassifier(max_depth=None,\n",
    "                                 n_estimators=500).fit(X_scaled, y_profit)"
   ]
  },
  {
   "cell_type": "code",
   "execution_count": 69,
   "metadata": {},
   "outputs": [],
   "source": [
    "ada_profit = AdaBoostClassifier(learning_rate=0.1,\n",
    "                              n_estimators=50).fit(X_scaled, y_profit)"
   ]
  },
  {
   "cell_type": "code",
   "execution_count": 93,
   "metadata": {},
   "outputs": [],
   "source": [
    "lr_coefs = pd.DataFrame({'Coef':X_merged.columns,\n",
    "                         'Value':logreg_profit.coef_[0]})\n",
    "lr_t10 = lr_coefs.sort_values(by='Value', ascending=False).head(10)\n",
    "\n",
    "xg_coefs = pd.DataFrame({'Coef':X_merged.columns,\n",
    "                         'Value':xgbc_profit.feature_importances_})\n",
    "xg_t10 = xg_coefs.sort_values(by='Value', ascending=False).head(10)\n",
    "\n",
    "rf_coefs = pd.DataFrame({'Coef':X_merged.columns,\n",
    "                         'Value':rf_profit.feature_importances_})\n",
    "rf_t10 = rf_coefs.sort_values(by='Value', ascending=False).head(10)\n",
    "\n",
    "ada_coefs = pd.DataFrame({'Coef':X_merged.columns,\n",
    "                         'Value':ada_profit.feature_importances_})\n",
    "ada_t10 = ada_coefs.sort_values(by='Value', ascending=False).head(10)"
   ]
  },
  {
   "cell_type": "code",
   "execution_count": 95,
   "metadata": {},
   "outputs": [
    {
     "data": {
      "application/vnd.plotly.v1+json": {
       "config": {
        "plotlyServerURL": "https://plot.ly"
       },
       "data": [
        {
         "hovertemplate": "%{y}<extra></extra>",
         "marker": {
          "color": "#1F77B4"
         },
         "name": "Count",
         "type": "histogram",
         "x": [
          178.26,
          188.44,
          29.8,
          582.21,
          938.67,
          337.44,
          15.3,
          93.93,
          681.58,
          573.05,
          395.61,
          478.64,
          1071.5,
          145.22,
          243.68,
          809.64,
          241.55,
          593.27,
          60.04,
          2005.53,
          88.05,
          449,
          251.6,
          100.14,
          128.57,
          714.78,
          638.34,
          254.72,
          105.5,
          256.28,
          370.77,
          2384.39,
          1800.18,
          82.07,
          984.39,
          200.97,
          295.71,
          215.17,
          709.92,
          10.75,
          267.37,
          830.59,
          78.97,
          63.47,
          289.26,
          49.11,
          2375.31,
          269.76,
          14800.51,
          119.38,
          627.93,
          39.08,
          2140.75,
          174,
          489.52,
          931,
          305.65,
          339.38,
          333.3,
          347.96,
          91.67,
          221.11,
          279.61,
          323.95,
          957.18,
          51.32,
          60.65,
          163.58,
          5.9,
          291.96,
          683.15,
          63.31,
          295.71,
          522.08,
          395.51,
          104.57,
          120.37,
          889.55,
          628.36,
          60.61,
          37.28,
          296.76,
          410.21,
          945.51,
          139.58,
          1177.4,
          690.37,
          168.05,
          541.32,
          768.72,
          221.36,
          380.92,
          744.25,
          0.85,
          244.93,
          203.89,
          332.56,
          1080.99,
          12.09,
          24.64,
          1.81,
          68.38,
          85.59,
          720.26,
          1175.88,
          120.5,
          28.04,
          302.6,
          288.11,
          1395.63,
          1.51,
          1172.65,
          1760.47,
          525.99,
          447.24,
          177.74,
          87.29,
          152.36,
          28.57,
          1368.36,
          842.6,
          4.97,
          292.53,
          176.03,
          311.57,
          1128.23,
          3.87,
          1.31,
          124.39,
          98.67,
          673.46,
          447.37,
          72.72,
          2533.83,
          622.67,
          291.52,
          287.06,
          148.12,
          203.04,
          1066.24,
          250.57,
          4.98,
          281.86,
          157.14,
          1544.03,
          143.62,
          30.59,
          44.25,
          33.39,
          287.34,
          196.38,
          0.51,
          8,
          84.49,
          340.83,
          356.72,
          387.78,
          403.73,
          111.11,
          180.43,
          1203.44,
          296.13,
          66.32,
          139.33,
          5152.52,
          714.13,
          831.07,
          887.33,
          30.54,
          336.66,
          300.54,
          208.18,
          27.65,
          598.26,
          726.98,
          647.99,
          162.76,
          442.51,
          744.79,
          218.78,
          704.68,
          1877.78,
          279.93,
          108.43,
          223.29,
          477.37,
          677.14,
          82.1,
          19.62,
          77.29,
          315.62,
          230.71,
          145.1,
          206.18,
          5.77,
          283.98,
          4808.51,
          487.1,
          1055.3,
          413.9,
          368.94,
          252.9,
          98.23,
          189.84,
          54.38,
          11670.85,
          364.29,
          461.19,
          290.65,
          219,
          339.89,
          92.21,
          178.77,
          49.32,
          574.91,
          344.26,
          110.05,
          153.43,
          230.88,
          327.02,
          160.26,
          207.66,
          225.96,
          357.76,
          1514,
          290.1,
          20.59,
          24.52,
          1256.03,
          220.4,
          137.83,
          727.12,
          2719.52,
          154.99,
          223.87,
          1114.73,
          40.91,
          1928.22,
          432.42,
          305.49,
          276.84,
          393.38,
          142.86,
          291.37,
          115.86,
          1438.17,
          1349.33,
          16.77,
          228.18,
          71.09,
          208,
          24.9,
          327.16,
          160.2,
          323.85,
          886.22,
          1277.32,
          12.4,
          59.78,
          936.84,
          268.32,
          505.29,
          343.21,
          282,
          93.33,
          590.57,
          425.37,
          574.05,
          2777.78,
          314.29,
          356.89,
          90.57,
          1.5,
          302.81,
          78.39,
          513.18,
          81.82,
          70.48,
          1454.56,
          77.31,
          7556.97,
          223.46,
          224.43,
          937.83,
          32.71,
          430.12,
          152.89,
          29156,
          59.61,
          520.22,
          137.79,
          278.72,
          859.17,
          136.33,
          321.82,
          492.83,
          50.95,
          420.74,
          370.18,
          21.36,
          44.46,
          573.78,
          245.8,
          317.92,
          19.04,
          135.61,
          141.76,
          117.3,
          207.91,
          333.54,
          865.89,
          602.06,
          2559.72,
          57.73,
          1168.94,
          283.9,
          160.62,
          516.76,
          490.78,
          349.77,
          1000.37,
          135.54,
          745.16,
          521.85,
          742.68,
          1233.15,
          106.43,
          80.03,
          208.95,
          388.78,
          2872.22,
          219.7,
          7228.11,
          286.88,
          136.68,
          135.98,
          2.21,
          853.87,
          545.77,
          1931.76,
          838.35,
          95.45,
          96.34,
          172.84,
          12.97,
          218.85,
          81.66,
          239.85,
          193.77,
          1433.01,
          34.81,
          30.52,
          150.32,
          111.5,
          5675.86,
          380.5,
          0.29,
          2299.13,
          70.22,
          207.94,
          341.75,
          125.2,
          985.81,
          0.05,
          258.46,
          447.17,
          142.26,
          369.51,
          253.27,
          64.52,
          328.11,
          182.17,
          263.56,
          2259.33,
          353.98,
          10.68,
          3500.5,
          818.06,
          723.19,
          336.8,
          478,
          1393.95,
          82.96,
          485.66,
          1872.81,
          431.88,
          37.82,
          14461.54,
          302.33,
          419.63,
          1340.89,
          212.61,
          626.31,
          404.24,
          384.34,
          28.39,
          474.11,
          221.64,
          447.17,
          312.39,
          38.8,
          60.98,
          5.88,
          4.73,
          73.1,
          403.02,
          150.57,
          1457.52,
          866.56,
          18.08,
          210.51,
          6.42,
          157.09,
          36.88,
          63.37,
          466.73,
          172.23,
          208.96,
          200.22,
          10.9,
          599.54,
          311.47,
          149.35,
          179.95,
          193.61,
          240.42,
          68.4,
          299.93,
          428.65,
          26.49,
          7.04,
          668.38,
          328.21,
          249.8,
          444.63,
          303.14,
          63.93,
          61.54,
          26.06,
          44.66,
          610.7,
          206.03,
          2633.13,
          1271.12,
          518.68,
          1089.87,
          988.15,
          1189.67,
          459.22,
          66.99,
          6637.14,
          247.3,
          410.59,
          372.77,
          377.83,
          425.8,
          201.34,
          175.17,
          204.04,
          891.47,
          129.32,
          2005.13,
          192.79,
          257.77,
          293.45,
          74.94,
          330.61,
          104.48,
          155.25,
          6731.47,
          939.42,
          153.58,
          197.23,
          547.11,
          513.51,
          284.01,
          430.07,
          1953,
          126.1,
          3098.3,
          1638.13,
          396.54,
          26.61,
          158.37,
          494.15,
          868.97,
          27.93,
          271.67,
          12.68,
          2849.16,
          124.31,
          1.36,
          733.07,
          1328.25,
          20.3,
          485.96,
          360.62,
          1487.24,
          55.74,
          219.04,
          162.49,
          313.83,
          250.18,
          205.21,
          188.76,
          324.73,
          114.19,
          2894.34,
          255.89,
          889.72,
          787.64,
          143.24,
          261.23,
          780.1,
          672.69,
          173.35,
          88.53,
          102.51,
          507.51,
          21.12,
          33.26,
          599.44,
          423.53,
          216.88,
          100.43,
          685.44,
          68.58,
          222.36,
          391.03,
          638.17,
          248.18,
          137.63,
          588.36,
          110.79,
          1011.92,
          145.23,
          117.59,
          24.69,
          170.2,
          2967.14,
          433.25,
          11.13,
          109.61,
          130.95,
          452.7,
          145.97,
          230.82,
          522.77,
          186.91,
          57.85,
          13.65,
          0.33,
          94.58,
          120.13,
          83.93,
          57.47,
          4.03,
          557.26,
          29,
          583.48,
          1717.98,
          141.08,
          88.31,
          494.56,
          738.64,
          248.76,
          8.23,
          190.33,
          158.82,
          247.6,
          441.37,
          654.88,
          277.35,
          276.38,
          58.18,
          121.65,
          1244.48,
          1521.74,
          906.21,
          56.26,
          442.89,
          272.95,
          36.29,
          84.93,
          2.61,
          351.35,
          0.83,
          223.13,
          306.38,
          572.16,
          220.41,
          10.16,
          198.91,
          195.2,
          426.64,
          537.6,
          326.13,
          338.13,
          134.2,
          16.27,
          519.92,
          55.32,
          56.3,
          787.6,
          349.94,
          547.78,
          49.21,
          11534.72,
          147.89,
          338.26,
          75,
          70.97,
          18.8,
          110.89,
          543.88,
          224.83,
          24.77,
          80.57,
          495.22,
          495.22,
          67.51,
          154,
          153.69,
          686.51,
          596.91,
          866.53,
          83.9,
          276.42,
          238.47,
          149.85,
          369.15,
          530.26,
          329.77,
          108.28,
          3633.25,
          221.57,
          912.78,
          223.43,
          161.97,
          354.71,
          62.57,
          410.58,
          178.57,
          171.01,
          275.59,
          195.72,
          244.96,
          320.87,
          18.25,
          230.17,
          256.8,
          499.73,
          213.66,
          794.92,
          752.59,
          5368.59,
          343.06,
          573.84,
          467.33,
          473.86,
          231.25,
          518.07,
          2309.09,
          83.01,
          348.05,
          22.03,
          636.5,
          656,
          274.19,
          3310.04,
          130.52,
          192.98,
          0.2,
          285.99,
          310.27,
          201.45,
          793.44,
          3965.56,
          214.1,
          2677.24,
          98.66,
          975.86,
          129.94,
          1259.02,
          130.01,
          486.34,
          83.55,
          340.32,
          161.9,
          3703.2,
          13.33,
          41.83,
          214.91,
          76.59,
          84.89,
          350.21,
          100.11,
          8.6,
          93.1,
          238.31,
          312.08,
          394.78,
          217.09,
          4.92,
          211.68,
          518.07,
          110.56,
          813.53,
          446.75,
          143,
          12211.99,
          9425.44,
          75.67,
          272.32,
          253.08,
          285.23,
          442.09,
          255.22,
          741.58,
          385.92,
          191.06,
          167.58,
          27,
          173.62,
          5.96,
          336.77,
          689.07,
          8659.31,
          264.09,
          313.82,
          1464.74,
          79.44,
          1236.05,
          718.18,
          404.59,
          991.92,
          209.04,
          80.01,
          841.14,
          103.71,
          60.16,
          1065.62,
          153.71,
          644.25,
          2061.81,
          1157.27,
          83.18,
          294.21,
          1235.19,
          115.15,
          248.9,
          582.25,
          100.35,
          243.19,
          64.97,
          807.35,
          508.35,
          282.91,
          685.67,
          166.68,
          567.01,
          176.6,
          1125.77,
          300.11,
          747.11,
          53.38,
          1682.02,
          1085.37,
          206.07,
          2444.41,
          85.57,
          2520.41,
          99.94,
          336.66,
          1392.63,
          65.86,
          57.93,
          562.3,
          63.84,
          24.32,
          331.66,
          460.41,
          69.34,
          42.14,
          78.29,
          46.28,
          593.54,
          378.04,
          257.12,
          704.58,
          324.51,
          337.35,
          112.23,
          236.01,
          130.66,
          115.44,
          319.42,
          2836.36,
          176.19,
          720.12,
          18.95,
          17.1,
          207.25,
          520.19,
          854.06,
          42.28,
          306.77,
          65.27,
          0.22,
          2277.51,
          144.2,
          23.29,
          187.95,
          74.82,
          145.49,
          322,
          2187.79,
          1098.74,
          185.68,
          3.08,
          824.84,
          1608.19,
          96.74,
          83.22,
          252.04,
          299.55,
          474.43,
          143.67,
          1525.28,
          176.37,
          49.62,
          151.07,
          26.17,
          154.66,
          119.68,
          231.01,
          406.22,
          1097.22,
          281.77,
          226.02,
          302.74,
          2378.87,
          402.03,
          278.78,
          1347.55,
          432.32,
          233.06,
          474.1,
          97.68,
          151.52,
          194.12,
          235.33,
          212.72,
          663.89,
          329.46,
          94.47,
          440.2,
          1103.85,
          1444.1,
          87.22,
          35.17,
          846.53,
          330.82,
          59.96,
          452.37,
          420.06,
          667.37,
          389.03,
          245.39,
          268.73,
          299.1,
          337.46,
          32.99,
          427.83,
          80.16,
          454.94,
          428.38,
          124.4,
          292.32,
          192.5,
          289.62,
          456.62,
          327.15,
          269.07,
          457.48,
          93.23,
          142.6,
          308.14,
          80.57,
          262.07,
          182.02,
          291.42,
          447.08,
          8.3,
          107.33,
          27.08,
          51.36,
          471.15,
          153.27,
          10.23,
          150.74,
          130.65,
          163.63,
          4.75,
          572.56,
          940.6,
          392,
          60.78,
          551.58,
          268.02,
          745.58,
          395.12,
          248.71,
          396.35,
          103.93,
          318.92,
          936.88,
          385.88,
          109.17,
          332.05,
          1.73,
          682.52
         ],
         "xaxis": "x",
         "yaxis": "y"
        },
        {
         "hovertemplate": "%{y}<extra></extra>",
         "marker": {
          "color": "#FF7F0E"
         },
         "name": "Coefficient",
         "orientation": "h",
         "showlegend": false,
         "type": "bar",
         "x": [
          0.2110796089380621,
          0.17885935251174637,
          0.1574402863064157,
          0.15430945499607057,
          0.1519630470345659,
          0.1470100992217376,
          0.1454733800502267,
          0.13938811710668883,
          0.13814191854382346,
          0.12887100788764644
         ],
         "xaxis": "x2",
         "y": [
          "man turn",
          "strap",
          "hospital",
          "herd",
          "crowd gather",
          "enclose",
          "infinite",
          "phone start",
          "head car",
          "devastate"
         ],
         "yaxis": "y2"
        },
        {
         "hovertemplate": "%{y}<extra></extra>",
         "marker": {
          "color": "#FF7F0E"
         },
         "name": "Gain",
         "orientation": "h",
         "showlegend": false,
         "type": "bar",
         "x": [
          0.004666667431592941,
          0.004031659569591284,
          0.004029862582683563,
          0.003984696697443724,
          0.003959989175200462,
          0.003930637612938881,
          0.0038721533492207527,
          0.003857073839753866,
          0.0037916104774922132,
          0.0037694622296839952
         ],
         "xaxis": "x3",
         "y": [
          "living room night",
          "button",
          "descend",
          "landscape",
          "road day",
          "got",
          "room night",
          "backstage",
          "say word",
          "lid"
         ],
         "yaxis": "y3"
        },
        {
         "hovertemplate": "%{y}<extra></extra>",
         "marker": {
          "color": "#2CA02C"
         },
         "name": "Most Accurate Model",
         "orientation": "h",
         "type": "bar",
         "x": [
          0.0013601305447018563,
          0.0011534432228160001,
          0.001031091740183981,
          0.0010218708025706515,
          0.0009540116451158005,
          0.0009061135293944786,
          0.000843327896019848,
          0.0008402091465051852,
          0.0008032022623650165,
          0.0008031273165128332
         ],
         "xaxis": "x4",
         "y": [
          "murder",
          "ought",
          "seed",
          "crime",
          "bartender",
          "stage",
          "society",
          "folk",
          "address",
          "lounge"
         ],
         "yaxis": "y4"
        },
        {
         "hovertemplate": "%{y}<extra></extra>",
         "marker": {
          "color": "#FF7F0E"
         },
         "name": "Other Models",
         "orientation": "h",
         "type": "bar",
         "x": [
          0.04,
          0.04,
          0.04,
          0.04,
          0.04,
          0.04,
          0.04,
          0.04,
          0.04,
          0.04
         ],
         "xaxis": "x5",
         "y": [
          "mat",
          "groan",
          "shirt",
          "laptop",
          "crime",
          "hospital",
          "bartender",
          "murder",
          "nod smile",
          "ought"
         ],
         "yaxis": "y5"
        }
       ],
       "layout": {
        "annotations": [
         {
          "font": {
           "size": 16
          },
          "showarrow": false,
          "text": "Distribution of Profit Margins",
          "x": 0.5,
          "xanchor": "center",
          "xref": "paper",
          "y": 1,
          "yanchor": "bottom",
          "yref": "paper"
         },
         {
          "font": {
           "size": 16
          },
          "showarrow": false,
          "text": "Logistic Regression <br> Most Important Features",
          "x": 0.2375,
          "xanchor": "center",
          "xref": "paper",
          "y": 0.7400000000000001,
          "yanchor": "bottom",
          "yref": "paper"
         },
         {
          "font": {
           "size": 16
          },
          "showarrow": false,
          "text": "XG Boost <br> Most Important Features",
          "x": 0.7625,
          "xanchor": "center",
          "xref": "paper",
          "y": 0.7400000000000001,
          "yanchor": "bottom",
          "yref": "paper"
         },
         {
          "font": {
           "size": 16
          },
          "showarrow": false,
          "text": "Random Forest <br> Most Important Features",
          "x": 0.2375,
          "xanchor": "center",
          "xref": "paper",
          "y": 0.32000000000000006,
          "yanchor": "bottom",
          "yref": "paper"
         },
         {
          "font": {
           "size": 16
          },
          "showarrow": false,
          "text": "ADA Boost <br> Most Important Features",
          "x": 0.7625,
          "xanchor": "center",
          "xref": "paper",
          "y": 0.32000000000000006,
          "yanchor": "bottom",
          "yref": "paper"
         }
        ],
        "height": 1200,
        "shapes": [
         {
          "type": "line",
          "x0": 200,
          "x1": 200,
          "xref": "x",
          "y0": 0,
          "y1": 450,
          "yref": "y"
         }
        ],
        "template": {
         "data": {
          "bar": [
           {
            "error_x": {
             "color": "#2a3f5f"
            },
            "error_y": {
             "color": "#2a3f5f"
            },
            "marker": {
             "line": {
              "color": "#E5ECF6",
              "width": 0.5
             }
            },
            "type": "bar"
           }
          ],
          "barpolar": [
           {
            "marker": {
             "line": {
              "color": "#E5ECF6",
              "width": 0.5
             }
            },
            "type": "barpolar"
           }
          ],
          "carpet": [
           {
            "aaxis": {
             "endlinecolor": "#2a3f5f",
             "gridcolor": "white",
             "linecolor": "white",
             "minorgridcolor": "white",
             "startlinecolor": "#2a3f5f"
            },
            "baxis": {
             "endlinecolor": "#2a3f5f",
             "gridcolor": "white",
             "linecolor": "white",
             "minorgridcolor": "white",
             "startlinecolor": "#2a3f5f"
            },
            "type": "carpet"
           }
          ],
          "choropleth": [
           {
            "colorbar": {
             "outlinewidth": 0,
             "ticks": ""
            },
            "type": "choropleth"
           }
          ],
          "contour": [
           {
            "colorbar": {
             "outlinewidth": 0,
             "ticks": ""
            },
            "colorscale": [
             [
              0,
              "#0d0887"
             ],
             [
              0.1111111111111111,
              "#46039f"
             ],
             [
              0.2222222222222222,
              "#7201a8"
             ],
             [
              0.3333333333333333,
              "#9c179e"
             ],
             [
              0.4444444444444444,
              "#bd3786"
             ],
             [
              0.5555555555555556,
              "#d8576b"
             ],
             [
              0.6666666666666666,
              "#ed7953"
             ],
             [
              0.7777777777777778,
              "#fb9f3a"
             ],
             [
              0.8888888888888888,
              "#fdca26"
             ],
             [
              1,
              "#f0f921"
             ]
            ],
            "type": "contour"
           }
          ],
          "contourcarpet": [
           {
            "colorbar": {
             "outlinewidth": 0,
             "ticks": ""
            },
            "type": "contourcarpet"
           }
          ],
          "heatmap": [
           {
            "colorbar": {
             "outlinewidth": 0,
             "ticks": ""
            },
            "colorscale": [
             [
              0,
              "#0d0887"
             ],
             [
              0.1111111111111111,
              "#46039f"
             ],
             [
              0.2222222222222222,
              "#7201a8"
             ],
             [
              0.3333333333333333,
              "#9c179e"
             ],
             [
              0.4444444444444444,
              "#bd3786"
             ],
             [
              0.5555555555555556,
              "#d8576b"
             ],
             [
              0.6666666666666666,
              "#ed7953"
             ],
             [
              0.7777777777777778,
              "#fb9f3a"
             ],
             [
              0.8888888888888888,
              "#fdca26"
             ],
             [
              1,
              "#f0f921"
             ]
            ],
            "type": "heatmap"
           }
          ],
          "heatmapgl": [
           {
            "colorbar": {
             "outlinewidth": 0,
             "ticks": ""
            },
            "colorscale": [
             [
              0,
              "#0d0887"
             ],
             [
              0.1111111111111111,
              "#46039f"
             ],
             [
              0.2222222222222222,
              "#7201a8"
             ],
             [
              0.3333333333333333,
              "#9c179e"
             ],
             [
              0.4444444444444444,
              "#bd3786"
             ],
             [
              0.5555555555555556,
              "#d8576b"
             ],
             [
              0.6666666666666666,
              "#ed7953"
             ],
             [
              0.7777777777777778,
              "#fb9f3a"
             ],
             [
              0.8888888888888888,
              "#fdca26"
             ],
             [
              1,
              "#f0f921"
             ]
            ],
            "type": "heatmapgl"
           }
          ],
          "histogram": [
           {
            "marker": {
             "colorbar": {
              "outlinewidth": 0,
              "ticks": ""
             }
            },
            "type": "histogram"
           }
          ],
          "histogram2d": [
           {
            "colorbar": {
             "outlinewidth": 0,
             "ticks": ""
            },
            "colorscale": [
             [
              0,
              "#0d0887"
             ],
             [
              0.1111111111111111,
              "#46039f"
             ],
             [
              0.2222222222222222,
              "#7201a8"
             ],
             [
              0.3333333333333333,
              "#9c179e"
             ],
             [
              0.4444444444444444,
              "#bd3786"
             ],
             [
              0.5555555555555556,
              "#d8576b"
             ],
             [
              0.6666666666666666,
              "#ed7953"
             ],
             [
              0.7777777777777778,
              "#fb9f3a"
             ],
             [
              0.8888888888888888,
              "#fdca26"
             ],
             [
              1,
              "#f0f921"
             ]
            ],
            "type": "histogram2d"
           }
          ],
          "histogram2dcontour": [
           {
            "colorbar": {
             "outlinewidth": 0,
             "ticks": ""
            },
            "colorscale": [
             [
              0,
              "#0d0887"
             ],
             [
              0.1111111111111111,
              "#46039f"
             ],
             [
              0.2222222222222222,
              "#7201a8"
             ],
             [
              0.3333333333333333,
              "#9c179e"
             ],
             [
              0.4444444444444444,
              "#bd3786"
             ],
             [
              0.5555555555555556,
              "#d8576b"
             ],
             [
              0.6666666666666666,
              "#ed7953"
             ],
             [
              0.7777777777777778,
              "#fb9f3a"
             ],
             [
              0.8888888888888888,
              "#fdca26"
             ],
             [
              1,
              "#f0f921"
             ]
            ],
            "type": "histogram2dcontour"
           }
          ],
          "mesh3d": [
           {
            "colorbar": {
             "outlinewidth": 0,
             "ticks": ""
            },
            "type": "mesh3d"
           }
          ],
          "parcoords": [
           {
            "line": {
             "colorbar": {
              "outlinewidth": 0,
              "ticks": ""
             }
            },
            "type": "parcoords"
           }
          ],
          "pie": [
           {
            "automargin": true,
            "type": "pie"
           }
          ],
          "scatter": [
           {
            "marker": {
             "colorbar": {
              "outlinewidth": 0,
              "ticks": ""
             }
            },
            "type": "scatter"
           }
          ],
          "scatter3d": [
           {
            "line": {
             "colorbar": {
              "outlinewidth": 0,
              "ticks": ""
             }
            },
            "marker": {
             "colorbar": {
              "outlinewidth": 0,
              "ticks": ""
             }
            },
            "type": "scatter3d"
           }
          ],
          "scattercarpet": [
           {
            "marker": {
             "colorbar": {
              "outlinewidth": 0,
              "ticks": ""
             }
            },
            "type": "scattercarpet"
           }
          ],
          "scattergeo": [
           {
            "marker": {
             "colorbar": {
              "outlinewidth": 0,
              "ticks": ""
             }
            },
            "type": "scattergeo"
           }
          ],
          "scattergl": [
           {
            "marker": {
             "colorbar": {
              "outlinewidth": 0,
              "ticks": ""
             }
            },
            "type": "scattergl"
           }
          ],
          "scattermapbox": [
           {
            "marker": {
             "colorbar": {
              "outlinewidth": 0,
              "ticks": ""
             }
            },
            "type": "scattermapbox"
           }
          ],
          "scatterpolar": [
           {
            "marker": {
             "colorbar": {
              "outlinewidth": 0,
              "ticks": ""
             }
            },
            "type": "scatterpolar"
           }
          ],
          "scatterpolargl": [
           {
            "marker": {
             "colorbar": {
              "outlinewidth": 0,
              "ticks": ""
             }
            },
            "type": "scatterpolargl"
           }
          ],
          "scatterternary": [
           {
            "marker": {
             "colorbar": {
              "outlinewidth": 0,
              "ticks": ""
             }
            },
            "type": "scatterternary"
           }
          ],
          "surface": [
           {
            "colorbar": {
             "outlinewidth": 0,
             "ticks": ""
            },
            "colorscale": [
             [
              0,
              "#0d0887"
             ],
             [
              0.1111111111111111,
              "#46039f"
             ],
             [
              0.2222222222222222,
              "#7201a8"
             ],
             [
              0.3333333333333333,
              "#9c179e"
             ],
             [
              0.4444444444444444,
              "#bd3786"
             ],
             [
              0.5555555555555556,
              "#d8576b"
             ],
             [
              0.6666666666666666,
              "#ed7953"
             ],
             [
              0.7777777777777778,
              "#fb9f3a"
             ],
             [
              0.8888888888888888,
              "#fdca26"
             ],
             [
              1,
              "#f0f921"
             ]
            ],
            "type": "surface"
           }
          ],
          "table": [
           {
            "cells": {
             "fill": {
              "color": "#EBF0F8"
             },
             "line": {
              "color": "white"
             }
            },
            "header": {
             "fill": {
              "color": "#C8D4E3"
             },
             "line": {
              "color": "white"
             }
            },
            "type": "table"
           }
          ]
         },
         "layout": {
          "annotationdefaults": {
           "arrowcolor": "#2a3f5f",
           "arrowhead": 0,
           "arrowwidth": 1
          },
          "coloraxis": {
           "colorbar": {
            "outlinewidth": 0,
            "ticks": ""
           }
          },
          "colorscale": {
           "diverging": [
            [
             0,
             "#8e0152"
            ],
            [
             0.1,
             "#c51b7d"
            ],
            [
             0.2,
             "#de77ae"
            ],
            [
             0.3,
             "#f1b6da"
            ],
            [
             0.4,
             "#fde0ef"
            ],
            [
             0.5,
             "#f7f7f7"
            ],
            [
             0.6,
             "#e6f5d0"
            ],
            [
             0.7,
             "#b8e186"
            ],
            [
             0.8,
             "#7fbc41"
            ],
            [
             0.9,
             "#4d9221"
            ],
            [
             1,
             "#276419"
            ]
           ],
           "sequential": [
            [
             0,
             "#0d0887"
            ],
            [
             0.1111111111111111,
             "#46039f"
            ],
            [
             0.2222222222222222,
             "#7201a8"
            ],
            [
             0.3333333333333333,
             "#9c179e"
            ],
            [
             0.4444444444444444,
             "#bd3786"
            ],
            [
             0.5555555555555556,
             "#d8576b"
            ],
            [
             0.6666666666666666,
             "#ed7953"
            ],
            [
             0.7777777777777778,
             "#fb9f3a"
            ],
            [
             0.8888888888888888,
             "#fdca26"
            ],
            [
             1,
             "#f0f921"
            ]
           ],
           "sequentialminus": [
            [
             0,
             "#0d0887"
            ],
            [
             0.1111111111111111,
             "#46039f"
            ],
            [
             0.2222222222222222,
             "#7201a8"
            ],
            [
             0.3333333333333333,
             "#9c179e"
            ],
            [
             0.4444444444444444,
             "#bd3786"
            ],
            [
             0.5555555555555556,
             "#d8576b"
            ],
            [
             0.6666666666666666,
             "#ed7953"
            ],
            [
             0.7777777777777778,
             "#fb9f3a"
            ],
            [
             0.8888888888888888,
             "#fdca26"
            ],
            [
             1,
             "#f0f921"
            ]
           ]
          },
          "colorway": [
           "#636efa",
           "#EF553B",
           "#00cc96",
           "#ab63fa",
           "#FFA15A",
           "#19d3f3",
           "#FF6692",
           "#B6E880",
           "#FF97FF",
           "#FECB52"
          ],
          "font": {
           "color": "#2a3f5f"
          },
          "geo": {
           "bgcolor": "white",
           "lakecolor": "white",
           "landcolor": "#E5ECF6",
           "showlakes": true,
           "showland": true,
           "subunitcolor": "white"
          },
          "hoverlabel": {
           "align": "left"
          },
          "hovermode": "closest",
          "mapbox": {
           "style": "light"
          },
          "paper_bgcolor": "white",
          "plot_bgcolor": "#E5ECF6",
          "polar": {
           "angularaxis": {
            "gridcolor": "white",
            "linecolor": "white",
            "ticks": ""
           },
           "bgcolor": "#E5ECF6",
           "radialaxis": {
            "gridcolor": "white",
            "linecolor": "white",
            "ticks": ""
           }
          },
          "scene": {
           "xaxis": {
            "backgroundcolor": "#E5ECF6",
            "gridcolor": "white",
            "gridwidth": 2,
            "linecolor": "white",
            "showbackground": true,
            "ticks": "",
            "zerolinecolor": "white"
           },
           "yaxis": {
            "backgroundcolor": "#E5ECF6",
            "gridcolor": "white",
            "gridwidth": 2,
            "linecolor": "white",
            "showbackground": true,
            "ticks": "",
            "zerolinecolor": "white"
           },
           "zaxis": {
            "backgroundcolor": "#E5ECF6",
            "gridcolor": "white",
            "gridwidth": 2,
            "linecolor": "white",
            "showbackground": true,
            "ticks": "",
            "zerolinecolor": "white"
           }
          },
          "shapedefaults": {
           "line": {
            "color": "#2a3f5f"
           }
          },
          "ternary": {
           "aaxis": {
            "gridcolor": "white",
            "linecolor": "white",
            "ticks": ""
           },
           "baxis": {
            "gridcolor": "white",
            "linecolor": "white",
            "ticks": ""
           },
           "bgcolor": "#E5ECF6",
           "caxis": {
            "gridcolor": "white",
            "linecolor": "white",
            "ticks": ""
           }
          },
          "title": {
           "x": 0.05
          },
          "xaxis": {
           "automargin": true,
           "gridcolor": "white",
           "linecolor": "white",
           "ticks": "",
           "title": {
            "standoff": 15
           },
           "zerolinecolor": "white",
           "zerolinewidth": 2
          },
          "yaxis": {
           "automargin": true,
           "gridcolor": "white",
           "linecolor": "white",
           "ticks": "",
           "title": {
            "standoff": 15
           },
           "zerolinecolor": "white",
           "zerolinewidth": 2
          }
         }
        },
        "title": {
         "text": "Profit Margin Results"
        },
        "width": 800,
        "xaxis": {
         "anchor": "y",
         "domain": [
          0,
          1
         ],
         "title": {
          "text": "Profit Margin (%)"
         }
        },
        "xaxis2": {
         "anchor": "y2",
         "domain": [
          0,
          0.475
         ],
         "title": {
          "text": "Coefficient"
         }
        },
        "xaxis3": {
         "anchor": "y3",
         "autorange": "reversed",
         "domain": [
          0.525,
          1
         ],
         "title": {
          "text": "Gain"
         }
        },
        "xaxis4": {
         "anchor": "y4",
         "domain": [
          0,
          0.475
         ],
         "title": {
          "text": "Feature Importance"
         }
        },
        "xaxis5": {
         "anchor": "y5",
         "autorange": "reversed",
         "domain": [
          0.525,
          1
         ],
         "title": {
          "text": "Feature Importance"
         }
        },
        "yaxis": {
         "anchor": "x",
         "domain": [
          0.8400000000000001,
          1
         ],
         "title": {
          "text": "Count"
         }
        },
        "yaxis2": {
         "anchor": "x2",
         "domain": [
          0.42000000000000004,
          0.7400000000000001
         ]
        },
        "yaxis3": {
         "anchor": "x3",
         "domain": [
          0.42000000000000004,
          0.7400000000000001
         ]
        },
        "yaxis4": {
         "anchor": "x4",
         "domain": [
          0,
          0.32000000000000006
         ]
        },
        "yaxis5": {
         "anchor": "x5",
         "domain": [
          0,
          0.32000000000000006
         ]
        }
       }
      },
      "text/html": [
       "<div>\n",
       "        \n",
       "        \n",
       "            <div id=\"a008ee91-05d9-4f12-8308-cd5a502f3b97\" class=\"plotly-graph-div\" style=\"height:1200px; width:800px;\"></div>\n",
       "            <script type=\"text/javascript\">\n",
       "                require([\"plotly\"], function(Plotly) {\n",
       "                    window.PLOTLYENV=window.PLOTLYENV || {};\n",
       "                    \n",
       "                if (document.getElementById(\"a008ee91-05d9-4f12-8308-cd5a502f3b97\")) {\n",
       "                    Plotly.newPlot(\n",
       "                        'a008ee91-05d9-4f12-8308-cd5a502f3b97',\n",
       "                        [{\"hovertemplate\": \"%{y}<extra></extra>\", \"marker\": {\"color\": \"#1F77B4\"}, \"name\": \"Count\", \"type\": \"histogram\", \"x\": [178.26, 188.44, 29.8, 582.21, 938.67, 337.44, 15.3, 93.93, 681.58, 573.05, 395.61, 478.64, 1071.5, 145.22, 243.68, 809.64, 241.55, 593.27, 60.04, 2005.53, 88.05, 449.0, 251.6, 100.14, 128.57, 714.78, 638.34, 254.72, 105.5, 256.28, 370.77, 2384.39, 1800.18, 82.07, 984.39, 200.97, 295.71, 215.17, 709.92, 10.75, 267.37, 830.59, 78.97, 63.47, 289.26, 49.11, 2375.31, 269.76, 14800.51, 119.38, 627.93, 39.08, 2140.75, 174.0, 489.52, 931.0, 305.65, 339.38, 333.3, 347.96, 91.67, 221.11, 279.61, 323.95, 957.18, 51.32, 60.65, 163.58, 5.9, 291.96, 683.15, 63.31, 295.71, 522.08, 395.51, 104.57, 120.37, 889.55, 628.36, 60.61, 37.28, 296.76, 410.21, 945.51, 139.58, 1177.4, 690.37, 168.05, 541.32, 768.72, 221.36, 380.92, 744.25, 0.85, 244.93, 203.89, 332.56, 1080.99, 12.09, 24.64, 1.81, 68.38, 85.59, 720.26, 1175.88, 120.5, 28.04, 302.6, 288.11, 1395.63, 1.51, 1172.65, 1760.47, 525.99, 447.24, 177.74, 87.29, 152.36, 28.57, 1368.36, 842.6, 4.97, 292.53, 176.03, 311.57, 1128.23, 3.87, 1.31, 124.39, 98.67, 673.46, 447.37, 72.72, 2533.83, 622.67, 291.52, 287.06, 148.12, 203.04, 1066.24, 250.57, 4.98, 281.86, 157.14, 1544.03, 143.62, 30.59, 44.25, 33.39, 287.34, 196.38, 0.51, 8.0, 84.49, 340.83, 356.72, 387.78, 403.73, 111.11, 180.43, 1203.44, 296.13, 66.32, 139.33, 5152.52, 714.13, 831.07, 887.33, 30.54, 336.66, 300.54, 208.18, 27.65, 598.26, 726.98, 647.99, 162.76, 442.51, 744.79, 218.78, 704.68, 1877.78, 279.93, 108.43, 223.29, 477.37, 677.14, 82.1, 19.62, 77.29, 315.62, 230.71, 145.1, 206.18, 5.77, 283.98, 4808.51, 487.1, 1055.3, 413.9, 368.94, 252.9, 98.23, 189.84, 54.38, 11670.85, 364.29, 461.19, 290.65, 219.0, 339.89, 92.21, 178.77, 49.32, 574.91, 344.26, 110.05, 153.43, 230.88, 327.02, 160.26, 207.66, 225.96, 357.76, 1514.0, 290.1, 20.59, 24.52, 1256.03, 220.4, 137.83, 727.12, 2719.52, 154.99, 223.87, 1114.73, 40.91, 1928.22, 432.42, 305.49, 276.84, 393.38, 142.86, 291.37, 115.86, 1438.17, 1349.33, 16.77, 228.18, 71.09, 208.0, 24.9, 327.16, 160.2, 323.85, 886.22, 1277.32, 12.4, 59.78, 936.84, 268.32, 505.29, 343.21, 282.0, 93.33, 590.57, 425.37, 574.05, 2777.78, 314.29, 356.89, 90.57, 1.5, 302.81, 78.39, 513.18, 81.82, 70.48, 1454.56, 77.31, 7556.97, 223.46, 224.43, 937.83, 32.71, 430.12, 152.89, 29156.0, 59.61, 520.22, 137.79, 278.72, 859.17, 136.33, 321.82, 492.83, 50.95, 420.74, 370.18, 21.36, 44.46, 573.78, 245.8, 317.92, 19.04, 135.61, 141.76, 117.3, 207.91, 333.54, 865.89, 602.06, 2559.72, 57.73, 1168.94, 283.9, 160.62, 516.76, 490.78, 349.77, 1000.37, 135.54, 745.16, 521.85, 742.68, 1233.15, 106.43, 80.03, 208.95, 388.78, 2872.22, 219.7, 7228.11, 286.88, 136.68, 135.98, 2.21, 853.87, 545.77, 1931.76, 838.35, 95.45, 96.34, 172.84, 12.97, 218.85, 81.66, 239.85, 193.77, 1433.01, 34.81, 30.52, 150.32, 111.5, 5675.86, 380.5, 0.29, 2299.13, 70.22, 207.94, 341.75, 125.2, 985.81, 0.05, 258.46, 447.17, 142.26, 369.51, 253.27, 64.52, 328.11, 182.17, 263.56, 2259.33, 353.98, 10.68, 3500.5, 818.06, 723.19, 336.8, 478.0, 1393.95, 82.96, 485.66, 1872.81, 431.88, 37.82, 14461.54, 302.33, 419.63, 1340.89, 212.61, 626.31, 404.24, 384.34, 28.39, 474.11, 221.64, 447.17, 312.39, 38.8, 60.98, 5.88, 4.73, 73.1, 403.02, 150.57, 1457.52, 866.56, 18.08, 210.51, 6.42, 157.09, 36.88, 63.37, 466.73, 172.23, 208.96, 200.22, 10.9, 599.54, 311.47, 149.35, 179.95, 193.61, 240.42, 68.4, 299.93, 428.65, 26.49, 7.04, 668.38, 328.21, 249.8, 444.63, 303.14, 63.93, 61.54, 26.06, 44.66, 610.7, 206.03, 2633.13, 1271.12, 518.68, 1089.87, 988.15, 1189.67, 459.22, 66.99, 6637.14, 247.3, 410.59, 372.77, 377.83, 425.8, 201.34, 175.17, 204.04, 891.47, 129.32, 2005.13, 192.79, 257.77, 293.45, 74.94, 330.61, 104.48, 155.25, 6731.47, 939.42, 153.58, 197.23, 547.11, 513.51, 284.01, 430.07, 1953.0, 126.1, 3098.3, 1638.13, 396.54, 26.61, 158.37, 494.15, 868.97, 27.93, 271.67, 12.68, 2849.16, 124.31, 1.36, 733.07, 1328.25, 20.3, 485.96, 360.62, 1487.24, 55.74, 219.04, 162.49, 313.83, 250.18, 205.21, 188.76, 324.73, 114.19, 2894.34, 255.89, 889.72, 787.64, 143.24, 261.23, 780.1, 672.69, 173.35, 88.53, 102.51, 507.51, 21.12, 33.26, 599.44, 423.53, 216.88, 100.43, 685.44, 68.58, 222.36, 391.03, 638.17, 248.18, 137.63, 588.36, 110.79, 1011.92, 145.23, 117.59, 24.69, 170.2, 2967.14, 433.25, 11.13, 109.61, 130.95, 452.7, 145.97, 230.82, 522.77, 186.91, 57.85, 13.65, 0.33, 94.58, 120.13, 83.93, 57.47, 4.03, 557.26, 29.0, 583.48, 1717.98, 141.08, 88.31, 494.56, 738.64, 248.76, 8.23, 190.33, 158.82, 247.6, 441.37, 654.88, 277.35, 276.38, 58.18, 121.65, 1244.48, 1521.74, 906.21, 56.26, 442.89, 272.95, 36.29, 84.93, 2.61, 351.35, 0.83, 223.13, 306.38, 572.16, 220.41, 10.16, 198.91, 195.2, 426.64, 537.6, 326.13, 338.13, 134.2, 16.27, 519.92, 55.32, 56.3, 787.6, 349.94, 547.78, 49.21, 11534.72, 147.89, 338.26, 75.0, 70.97, 18.8, 110.89, 543.88, 224.83, 24.77, 80.57, 495.22, 495.22, 67.51, 154.0, 153.69, 686.51, 596.91, 866.53, 83.9, 276.42, 238.47, 149.85, 369.15, 530.26, 329.77, 108.28, 3633.25, 221.57, 912.78, 223.43, 161.97, 354.71, 62.57, 410.58, 178.57, 171.01, 275.59, 195.72, 244.96, 320.87, 18.25, 230.17, 256.8, 499.73, 213.66, 794.92, 752.59, 5368.59, 343.06, 573.84, 467.33, 473.86, 231.25, 518.07, 2309.09, 83.01, 348.05, 22.03, 636.5, 656.0, 274.19, 3310.04, 130.52, 192.98, 0.2, 285.99, 310.27, 201.45, 793.44, 3965.56, 214.1, 2677.24, 98.66, 975.86, 129.94, 1259.02, 130.01, 486.34, 83.55, 340.32, 161.9, 3703.2, 13.33, 41.83, 214.91, 76.59, 84.89, 350.21, 100.11, 8.6, 93.1, 238.31, 312.08, 394.78, 217.09, 4.92, 211.68, 518.07, 110.56, 813.53, 446.75, 143.0, 12211.99, 9425.44, 75.67, 272.32, 253.08, 285.23, 442.09, 255.22, 741.58, 385.92, 191.06, 167.58, 27.0, 173.62, 5.96, 336.77, 689.07, 8659.31, 264.09, 313.82, 1464.74, 79.44, 1236.05, 718.18, 404.59, 991.92, 209.04, 80.01, 841.14, 103.71, 60.16, 1065.62, 153.71, 644.25, 2061.81, 1157.27, 83.18, 294.21, 1235.19, 115.15, 248.9, 582.25, 100.35, 243.19, 64.97, 807.35, 508.35, 282.91, 685.67, 166.68, 567.01, 176.6, 1125.77, 300.11, 747.11, 53.38, 1682.02, 1085.37, 206.07, 2444.41, 85.57, 2520.41, 99.94, 336.66, 1392.63, 65.86, 57.93, 562.3, 63.84, 24.32, 331.66, 460.41, 69.34, 42.14, 78.29, 46.28, 593.54, 378.04, 257.12, 704.58, 324.51, 337.35, 112.23, 236.01, 130.66, 115.44, 319.42, 2836.36, 176.19, 720.12, 18.95, 17.1, 207.25, 520.19, 854.06, 42.28, 306.77, 65.27, 0.22, 2277.51, 144.2, 23.29, 187.95, 74.82, 145.49, 322.0, 2187.79, 1098.74, 185.68, 3.08, 824.84, 1608.19, 96.74, 83.22, 252.04, 299.55, 474.43, 143.67, 1525.28, 176.37, 49.62, 151.07, 26.17, 154.66, 119.68, 231.01, 406.22, 1097.22, 281.77, 226.02, 302.74, 2378.87, 402.03, 278.78, 1347.55, 432.32, 233.06, 474.1, 97.68, 151.52, 194.12, 235.33, 212.72, 663.89, 329.46, 94.47, 440.2, 1103.85, 1444.1, 87.22, 35.17, 846.53, 330.82, 59.96, 452.37, 420.06, 667.37, 389.03, 245.39, 268.73, 299.1, 337.46, 32.99, 427.83, 80.16, 454.94, 428.38, 124.4, 292.32, 192.5, 289.62, 456.62, 327.15, 269.07, 457.48, 93.23, 142.6, 308.14, 80.57, 262.07, 182.02, 291.42, 447.08, 8.3, 107.33, 27.08, 51.36, 471.15, 153.27, 10.23, 150.74, 130.65, 163.63, 4.75, 572.56, 940.6, 392.0, 60.78, 551.58, 268.02, 745.58, 395.12, 248.71, 396.35, 103.93, 318.92, 936.88, 385.88, 109.17, 332.05, 1.73, 682.52], \"xaxis\": \"x\", \"yaxis\": \"y\"}, {\"hovertemplate\": \"%{y}<extra></extra>\", \"marker\": {\"color\": \"#FF7F0E\"}, \"name\": \"Coefficient\", \"orientation\": \"h\", \"showlegend\": false, \"type\": \"bar\", \"x\": [0.2110796089380621, 0.17885935251174637, 0.1574402863064157, 0.15430945499607057, 0.1519630470345659, 0.1470100992217376, 0.1454733800502267, 0.13938811710668883, 0.13814191854382346, 0.12887100788764644], \"xaxis\": \"x2\", \"y\": [\"man turn\", \"strap\", \"hospital\", \"herd\", \"crowd gather\", \"enclose\", \"infinite\", \"phone start\", \"head car\", \"devastate\"], \"yaxis\": \"y2\"}, {\"hovertemplate\": \"%{y}<extra></extra>\", \"marker\": {\"color\": \"#FF7F0E\"}, \"name\": \"Gain\", \"orientation\": \"h\", \"showlegend\": false, \"type\": \"bar\", \"x\": [0.004666667431592941, 0.004031659569591284, 0.004029862582683563, 0.003984696697443724, 0.003959989175200462, 0.003930637612938881, 0.0038721533492207527, 0.003857073839753866, 0.0037916104774922132, 0.0037694622296839952], \"xaxis\": \"x3\", \"y\": [\"living room night\", \"button\", \"descend\", \"landscape\", \"road day\", \"got\", \"room night\", \"backstage\", \"say word\", \"lid\"], \"yaxis\": \"y3\"}, {\"hovertemplate\": \"%{y}<extra></extra>\", \"marker\": {\"color\": \"#2CA02C\"}, \"name\": \"Most Accurate Model\", \"orientation\": \"h\", \"type\": \"bar\", \"x\": [0.0013601305447018563, 0.0011534432228160001, 0.001031091740183981, 0.0010218708025706515, 0.0009540116451158005, 0.0009061135293944786, 0.000843327896019848, 0.0008402091465051852, 0.0008032022623650165, 0.0008031273165128332], \"xaxis\": \"x4\", \"y\": [\"murder\", \"ought\", \"seed\", \"crime\", \"bartender\", \"stage\", \"society\", \"folk\", \"address\", \"lounge\"], \"yaxis\": \"y4\"}, {\"hovertemplate\": \"%{y}<extra></extra>\", \"marker\": {\"color\": \"#FF7F0E\"}, \"name\": \"Other Models\", \"orientation\": \"h\", \"type\": \"bar\", \"x\": [0.04, 0.04, 0.04, 0.04, 0.04, 0.04, 0.04, 0.04, 0.04, 0.04], \"xaxis\": \"x5\", \"y\": [\"mat\", \"groan\", \"shirt\", \"laptop\", \"crime\", \"hospital\", \"bartender\", \"murder\", \"nod smile\", \"ought\"], \"yaxis\": \"y5\"}],\n",
       "                        {\"annotations\": [{\"font\": {\"size\": 16}, \"showarrow\": false, \"text\": \"Distribution of Profit Margins\", \"x\": 0.5, \"xanchor\": \"center\", \"xref\": \"paper\", \"y\": 1.0, \"yanchor\": \"bottom\", \"yref\": \"paper\"}, {\"font\": {\"size\": 16}, \"showarrow\": false, \"text\": \"Logistic Regression <br> Most Important Features\", \"x\": 0.2375, \"xanchor\": \"center\", \"xref\": \"paper\", \"y\": 0.7400000000000001, \"yanchor\": \"bottom\", \"yref\": \"paper\"}, {\"font\": {\"size\": 16}, \"showarrow\": false, \"text\": \"XG Boost <br> Most Important Features\", \"x\": 0.7625, \"xanchor\": \"center\", \"xref\": \"paper\", \"y\": 0.7400000000000001, \"yanchor\": \"bottom\", \"yref\": \"paper\"}, {\"font\": {\"size\": 16}, \"showarrow\": false, \"text\": \"Random Forest <br> Most Important Features\", \"x\": 0.2375, \"xanchor\": \"center\", \"xref\": \"paper\", \"y\": 0.32000000000000006, \"yanchor\": \"bottom\", \"yref\": \"paper\"}, {\"font\": {\"size\": 16}, \"showarrow\": false, \"text\": \"ADA Boost <br> Most Important Features\", \"x\": 0.7625, \"xanchor\": \"center\", \"xref\": \"paper\", \"y\": 0.32000000000000006, \"yanchor\": \"bottom\", \"yref\": \"paper\"}], \"height\": 1200, \"shapes\": [{\"type\": \"line\", \"x0\": 200, \"x1\": 200, \"xref\": \"x\", \"y0\": 0, \"y1\": 450, \"yref\": \"y\"}], \"template\": {\"data\": {\"bar\": [{\"error_x\": {\"color\": \"#2a3f5f\"}, \"error_y\": {\"color\": \"#2a3f5f\"}, \"marker\": {\"line\": {\"color\": \"#E5ECF6\", \"width\": 0.5}}, \"type\": \"bar\"}], \"barpolar\": [{\"marker\": {\"line\": {\"color\": \"#E5ECF6\", \"width\": 0.5}}, \"type\": \"barpolar\"}], \"carpet\": [{\"aaxis\": {\"endlinecolor\": \"#2a3f5f\", \"gridcolor\": \"white\", \"linecolor\": \"white\", \"minorgridcolor\": \"white\", \"startlinecolor\": \"#2a3f5f\"}, \"baxis\": {\"endlinecolor\": \"#2a3f5f\", \"gridcolor\": \"white\", \"linecolor\": \"white\", \"minorgridcolor\": \"white\", \"startlinecolor\": \"#2a3f5f\"}, \"type\": \"carpet\"}], \"choropleth\": [{\"colorbar\": {\"outlinewidth\": 0, \"ticks\": \"\"}, \"type\": \"choropleth\"}], \"contour\": [{\"colorbar\": {\"outlinewidth\": 0, \"ticks\": \"\"}, \"colorscale\": [[0.0, \"#0d0887\"], [0.1111111111111111, \"#46039f\"], [0.2222222222222222, \"#7201a8\"], [0.3333333333333333, \"#9c179e\"], [0.4444444444444444, \"#bd3786\"], [0.5555555555555556, \"#d8576b\"], [0.6666666666666666, \"#ed7953\"], [0.7777777777777778, \"#fb9f3a\"], [0.8888888888888888, \"#fdca26\"], [1.0, \"#f0f921\"]], \"type\": \"contour\"}], \"contourcarpet\": [{\"colorbar\": {\"outlinewidth\": 0, \"ticks\": \"\"}, \"type\": \"contourcarpet\"}], \"heatmap\": [{\"colorbar\": {\"outlinewidth\": 0, \"ticks\": \"\"}, \"colorscale\": [[0.0, \"#0d0887\"], [0.1111111111111111, \"#46039f\"], [0.2222222222222222, \"#7201a8\"], [0.3333333333333333, \"#9c179e\"], [0.4444444444444444, \"#bd3786\"], [0.5555555555555556, \"#d8576b\"], [0.6666666666666666, \"#ed7953\"], [0.7777777777777778, \"#fb9f3a\"], [0.8888888888888888, \"#fdca26\"], [1.0, \"#f0f921\"]], \"type\": \"heatmap\"}], \"heatmapgl\": [{\"colorbar\": {\"outlinewidth\": 0, \"ticks\": \"\"}, \"colorscale\": [[0.0, \"#0d0887\"], [0.1111111111111111, \"#46039f\"], [0.2222222222222222, \"#7201a8\"], [0.3333333333333333, \"#9c179e\"], [0.4444444444444444, \"#bd3786\"], [0.5555555555555556, \"#d8576b\"], [0.6666666666666666, \"#ed7953\"], [0.7777777777777778, \"#fb9f3a\"], [0.8888888888888888, \"#fdca26\"], [1.0, \"#f0f921\"]], \"type\": \"heatmapgl\"}], \"histogram\": [{\"marker\": {\"colorbar\": {\"outlinewidth\": 0, \"ticks\": \"\"}}, \"type\": \"histogram\"}], \"histogram2d\": [{\"colorbar\": {\"outlinewidth\": 0, \"ticks\": \"\"}, \"colorscale\": [[0.0, \"#0d0887\"], [0.1111111111111111, \"#46039f\"], [0.2222222222222222, \"#7201a8\"], [0.3333333333333333, \"#9c179e\"], [0.4444444444444444, \"#bd3786\"], [0.5555555555555556, \"#d8576b\"], [0.6666666666666666, \"#ed7953\"], [0.7777777777777778, \"#fb9f3a\"], [0.8888888888888888, \"#fdca26\"], [1.0, \"#f0f921\"]], \"type\": \"histogram2d\"}], \"histogram2dcontour\": [{\"colorbar\": {\"outlinewidth\": 0, \"ticks\": \"\"}, \"colorscale\": [[0.0, \"#0d0887\"], [0.1111111111111111, \"#46039f\"], [0.2222222222222222, \"#7201a8\"], [0.3333333333333333, \"#9c179e\"], [0.4444444444444444, \"#bd3786\"], [0.5555555555555556, \"#d8576b\"], [0.6666666666666666, \"#ed7953\"], [0.7777777777777778, \"#fb9f3a\"], [0.8888888888888888, \"#fdca26\"], [1.0, \"#f0f921\"]], \"type\": \"histogram2dcontour\"}], \"mesh3d\": [{\"colorbar\": {\"outlinewidth\": 0, \"ticks\": \"\"}, \"type\": \"mesh3d\"}], \"parcoords\": [{\"line\": {\"colorbar\": {\"outlinewidth\": 0, \"ticks\": \"\"}}, \"type\": \"parcoords\"}], \"pie\": [{\"automargin\": true, \"type\": \"pie\"}], \"scatter\": [{\"marker\": {\"colorbar\": {\"outlinewidth\": 0, \"ticks\": \"\"}}, \"type\": \"scatter\"}], \"scatter3d\": [{\"line\": {\"colorbar\": {\"outlinewidth\": 0, \"ticks\": \"\"}}, \"marker\": {\"colorbar\": {\"outlinewidth\": 0, \"ticks\": \"\"}}, \"type\": \"scatter3d\"}], \"scattercarpet\": [{\"marker\": {\"colorbar\": {\"outlinewidth\": 0, \"ticks\": \"\"}}, \"type\": \"scattercarpet\"}], \"scattergeo\": [{\"marker\": {\"colorbar\": {\"outlinewidth\": 0, \"ticks\": \"\"}}, \"type\": \"scattergeo\"}], \"scattergl\": [{\"marker\": {\"colorbar\": {\"outlinewidth\": 0, \"ticks\": \"\"}}, \"type\": \"scattergl\"}], \"scattermapbox\": [{\"marker\": {\"colorbar\": {\"outlinewidth\": 0, \"ticks\": \"\"}}, \"type\": \"scattermapbox\"}], \"scatterpolar\": [{\"marker\": {\"colorbar\": {\"outlinewidth\": 0, \"ticks\": \"\"}}, \"type\": \"scatterpolar\"}], \"scatterpolargl\": [{\"marker\": {\"colorbar\": {\"outlinewidth\": 0, \"ticks\": \"\"}}, \"type\": \"scatterpolargl\"}], \"scatterternary\": [{\"marker\": {\"colorbar\": {\"outlinewidth\": 0, \"ticks\": \"\"}}, \"type\": \"scatterternary\"}], \"surface\": [{\"colorbar\": {\"outlinewidth\": 0, \"ticks\": \"\"}, \"colorscale\": [[0.0, \"#0d0887\"], [0.1111111111111111, \"#46039f\"], [0.2222222222222222, \"#7201a8\"], [0.3333333333333333, \"#9c179e\"], [0.4444444444444444, \"#bd3786\"], [0.5555555555555556, \"#d8576b\"], [0.6666666666666666, \"#ed7953\"], [0.7777777777777778, \"#fb9f3a\"], [0.8888888888888888, \"#fdca26\"], [1.0, \"#f0f921\"]], \"type\": \"surface\"}], \"table\": [{\"cells\": {\"fill\": {\"color\": \"#EBF0F8\"}, \"line\": {\"color\": \"white\"}}, \"header\": {\"fill\": {\"color\": \"#C8D4E3\"}, \"line\": {\"color\": \"white\"}}, \"type\": \"table\"}]}, \"layout\": {\"annotationdefaults\": {\"arrowcolor\": \"#2a3f5f\", \"arrowhead\": 0, \"arrowwidth\": 1}, \"coloraxis\": {\"colorbar\": {\"outlinewidth\": 0, \"ticks\": \"\"}}, \"colorscale\": {\"diverging\": [[0, \"#8e0152\"], [0.1, \"#c51b7d\"], [0.2, \"#de77ae\"], [0.3, \"#f1b6da\"], [0.4, \"#fde0ef\"], [0.5, \"#f7f7f7\"], [0.6, \"#e6f5d0\"], [0.7, \"#b8e186\"], [0.8, \"#7fbc41\"], [0.9, \"#4d9221\"], [1, \"#276419\"]], \"sequential\": [[0.0, \"#0d0887\"], [0.1111111111111111, \"#46039f\"], [0.2222222222222222, \"#7201a8\"], [0.3333333333333333, \"#9c179e\"], [0.4444444444444444, \"#bd3786\"], [0.5555555555555556, \"#d8576b\"], [0.6666666666666666, \"#ed7953\"], [0.7777777777777778, \"#fb9f3a\"], [0.8888888888888888, \"#fdca26\"], [1.0, \"#f0f921\"]], \"sequentialminus\": [[0.0, \"#0d0887\"], [0.1111111111111111, \"#46039f\"], [0.2222222222222222, \"#7201a8\"], [0.3333333333333333, \"#9c179e\"], [0.4444444444444444, \"#bd3786\"], [0.5555555555555556, \"#d8576b\"], [0.6666666666666666, \"#ed7953\"], [0.7777777777777778, \"#fb9f3a\"], [0.8888888888888888, \"#fdca26\"], [1.0, \"#f0f921\"]]}, \"colorway\": [\"#636efa\", \"#EF553B\", \"#00cc96\", \"#ab63fa\", \"#FFA15A\", \"#19d3f3\", \"#FF6692\", \"#B6E880\", \"#FF97FF\", \"#FECB52\"], \"font\": {\"color\": \"#2a3f5f\"}, \"geo\": {\"bgcolor\": \"white\", \"lakecolor\": \"white\", \"landcolor\": \"#E5ECF6\", \"showlakes\": true, \"showland\": true, \"subunitcolor\": \"white\"}, \"hoverlabel\": {\"align\": \"left\"}, \"hovermode\": \"closest\", \"mapbox\": {\"style\": \"light\"}, \"paper_bgcolor\": \"white\", \"plot_bgcolor\": \"#E5ECF6\", \"polar\": {\"angularaxis\": {\"gridcolor\": \"white\", \"linecolor\": \"white\", \"ticks\": \"\"}, \"bgcolor\": \"#E5ECF6\", \"radialaxis\": {\"gridcolor\": \"white\", \"linecolor\": \"white\", \"ticks\": \"\"}}, \"scene\": {\"xaxis\": {\"backgroundcolor\": \"#E5ECF6\", \"gridcolor\": \"white\", \"gridwidth\": 2, \"linecolor\": \"white\", \"showbackground\": true, \"ticks\": \"\", \"zerolinecolor\": \"white\"}, \"yaxis\": {\"backgroundcolor\": \"#E5ECF6\", \"gridcolor\": \"white\", \"gridwidth\": 2, \"linecolor\": \"white\", \"showbackground\": true, \"ticks\": \"\", \"zerolinecolor\": \"white\"}, \"zaxis\": {\"backgroundcolor\": \"#E5ECF6\", \"gridcolor\": \"white\", \"gridwidth\": 2, \"linecolor\": \"white\", \"showbackground\": true, \"ticks\": \"\", \"zerolinecolor\": \"white\"}}, \"shapedefaults\": {\"line\": {\"color\": \"#2a3f5f\"}}, \"ternary\": {\"aaxis\": {\"gridcolor\": \"white\", \"linecolor\": \"white\", \"ticks\": \"\"}, \"baxis\": {\"gridcolor\": \"white\", \"linecolor\": \"white\", \"ticks\": \"\"}, \"bgcolor\": \"#E5ECF6\", \"caxis\": {\"gridcolor\": \"white\", \"linecolor\": \"white\", \"ticks\": \"\"}}, \"title\": {\"x\": 0.05}, \"xaxis\": {\"automargin\": true, \"gridcolor\": \"white\", \"linecolor\": \"white\", \"ticks\": \"\", \"title\": {\"standoff\": 15}, \"zerolinecolor\": \"white\", \"zerolinewidth\": 2}, \"yaxis\": {\"automargin\": true, \"gridcolor\": \"white\", \"linecolor\": \"white\", \"ticks\": \"\", \"title\": {\"standoff\": 15}, \"zerolinecolor\": \"white\", \"zerolinewidth\": 2}}}, \"title\": {\"text\": \"Profit Margin Results\"}, \"width\": 800, \"xaxis\": {\"anchor\": \"y\", \"domain\": [0.0, 1.0], \"title\": {\"text\": \"Profit Margin (%)\"}}, \"xaxis2\": {\"anchor\": \"y2\", \"domain\": [0.0, 0.475], \"title\": {\"text\": \"Coefficient\"}}, \"xaxis3\": {\"anchor\": \"y3\", \"autorange\": \"reversed\", \"domain\": [0.525, 1.0], \"title\": {\"text\": \"Gain\"}}, \"xaxis4\": {\"anchor\": \"y4\", \"domain\": [0.0, 0.475], \"title\": {\"text\": \"Feature Importance\"}}, \"xaxis5\": {\"anchor\": \"y5\", \"autorange\": \"reversed\", \"domain\": [0.525, 1.0], \"title\": {\"text\": \"Feature Importance\"}}, \"yaxis\": {\"anchor\": \"x\", \"domain\": [0.8400000000000001, 1.0], \"title\": {\"text\": \"Count\"}}, \"yaxis2\": {\"anchor\": \"x2\", \"domain\": [0.42000000000000004, 0.7400000000000001]}, \"yaxis3\": {\"anchor\": \"x3\", \"domain\": [0.42000000000000004, 0.7400000000000001]}, \"yaxis4\": {\"anchor\": \"x4\", \"domain\": [0.0, 0.32000000000000006]}, \"yaxis5\": {\"anchor\": \"x5\", \"domain\": [0.0, 0.32000000000000006]}},\n",
       "                        {\"responsive\": true}\n",
       "                    ).then(function(){\n",
       "                            \n",
       "var gd = document.getElementById('a008ee91-05d9-4f12-8308-cd5a502f3b97');\n",
       "var x = new MutationObserver(function (mutations, observer) {{\n",
       "        var display = window.getComputedStyle(gd).display;\n",
       "        if (!display || display === 'none') {{\n",
       "            console.log([gd, 'removed!']);\n",
       "            Plotly.purge(gd);\n",
       "            observer.disconnect();\n",
       "        }}\n",
       "}});\n",
       "\n",
       "// Listen for the removal of the full notebook cells\n",
       "var notebookContainer = gd.closest('#notebook-container');\n",
       "if (notebookContainer) {{\n",
       "    x.observe(notebookContainer, {childList: true});\n",
       "}}\n",
       "\n",
       "// Listen for the clearing of the current output cell\n",
       "var outputEl = gd.closest('.output');\n",
       "if (outputEl) {{\n",
       "    x.observe(outputEl, {childList: true});\n",
       "}}\n",
       "\n",
       "                        })\n",
       "                };\n",
       "                });\n",
       "            </script>\n",
       "        </div>"
      ]
     },
     "metadata": {},
     "output_type": "display_data"
    }
   ],
   "source": [
    "# Create the subplots \n",
    "fig = make_subplots(rows=3, \n",
    "                    cols=2,\n",
    "                    row_heights=[0.2, 0.4, 0.4],\n",
    "                    specs=[[{\"type\": \"xy\", \"colspan\": 2}, None],\n",
    "                           [{\"type\": \"xy\"}, {\"type\": \"xy\"}], \n",
    "                           [{\"type\": \"xy\"}, {\"type\": \"xy\"}]],\n",
    "                    subplot_titles=['Distribution of Profit Margins', \n",
    "                                    \"Logistic Regression <br> Most Important Features\", \n",
    "                                    \"XG Boost <br> Most Important Features\", \n",
    "                                    \"Random Forest <br> Most Important Features\", \n",
    "                                    \"ADA Boost <br> Most Important Features\"], \n",
    "                    horizontal_spacing=0.05, \n",
    "                    vertical_spacing=0.1)\n",
    "\n",
    "LR_CD = go.Bar(y=lr_t10['Coef'], \n",
    "               x=lr_t10['Value'], \n",
    "               name=\"Coefficient\", \n",
    "               hovertemplate='%{y}<extra></extra>', \n",
    "               orientation='h', \n",
    "               marker_color='#FF7F0E', \n",
    "               showlegend=False)\n",
    "XG_CD = go.Bar(y=xg_t10['Coef'], \n",
    "               x=xg_t10['Value'], \n",
    "               name='Gain', \n",
    "               hovertemplate='%{y}<extra></extra>', \n",
    "               orientation='h', \n",
    "               marker_color='#FF7F0E', \n",
    "               showlegend=False)\n",
    "RF_CD = go.Bar(y=rf_t10['Coef'], \n",
    "               x=rf_t10['Value'], \n",
    "               name='Most Accurate Model', \n",
    "               hovertemplate='%{y}<extra></extra>', \n",
    "               orientation='h', \n",
    "               marker_color='#2CA02C')\n",
    "ADA_CD = go.Bar(y=ada_t10['Coef'], \n",
    "               x=ada_t10['Value'], \n",
    "               name='Other Models', \n",
    "               hovertemplate='%{y}<extra></extra>', \n",
    "               orientation='h',\n",
    "               marker_color='#FF7F0E')\n",
    "imdb_CD = go.Histogram(x=y['Per_Profit'], \n",
    "                       name='Count', \n",
    "                       hovertemplate=\"%{y}<extra></extra>\",\n",
    "                       marker_color='#1F77B4')\n",
    "\n",
    "# Add the graph objects\n",
    "fig.add_trace(imdb_CD, row=1, col=1)\n",
    "fig.add_shape(go.layout.Shape(type='line', xref='x', yref='y',\n",
    "                        x0=200, y0=0, x1=200, y1=450),\n",
    "                        row=1, col=1)\n",
    "fig.add_trace(LR_CD, row=2, col=1)\n",
    "fig.add_trace(XG_CD, row=2, col=2)\n",
    "fig.append_trace(RF_CD, row=3, col=1)\n",
    "fig.append_trace(ADA_CD, row=3, col=2)\n",
    "\n",
    "fig['layout']['xaxis1'].update(title=\"Profit Margin (%)\")\n",
    "fig['layout']['xaxis3'].update(autorange='reversed')\n",
    "fig['layout']['xaxis2'].update(title='Coefficient')\n",
    "fig['layout']['xaxis3'].update(title='Gain')\n",
    "fig['layout']['xaxis5'].update(autorange='reversed')\n",
    "fig['layout']['xaxis4'].update(title='Feature Importance')\n",
    "fig['layout']['xaxis5'].update(title='Feature Importance')\n",
    "\n",
    "fig['layout']['yaxis1'].update(title='Count')\n",
    "\n",
    "\n",
    "# Update the layout and show\n",
    "fig.update_layout(height=1200, \n",
    "                  width=800,\n",
    "                  title_text=\"Profit Margin Results\")\n",
    "fig.show()\n",
    "\n",
    "# Loading onto cloud\n",
    "#py.iplot(fig, filename=\"Profit\")"
   ]
  },
  {
   "cell_type": "code",
   "execution_count": null,
   "metadata": {},
   "outputs": [],
   "source": []
  }
 ],
 "metadata": {
  "kernelspec": {
   "display_name": "Python 3",
   "language": "python",
   "name": "python3"
  },
  "language_info": {
   "codemirror_mode": {
    "name": "ipython",
    "version": 3
   },
   "file_extension": ".py",
   "mimetype": "text/x-python",
   "name": "python",
   "nbconvert_exporter": "python",
   "pygments_lexer": "ipython3",
   "version": "3.6.10"
  }
 },
 "nbformat": 4,
 "nbformat_minor": 4
}
