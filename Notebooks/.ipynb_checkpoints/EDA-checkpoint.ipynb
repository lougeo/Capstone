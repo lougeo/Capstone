{
 "cells": [
  {
   "cell_type": "markdown",
   "metadata": {},
   "source": [
    "# Louis George    \n",
    "\n",
    "## EDA of Scraped Script and Score Data"
   ]
  },
  {
   "cell_type": "code",
   "execution_count": 269,
   "metadata": {},
   "outputs": [],
   "source": [
    "import numpy as np\n",
    "import pandas as pd\n",
    "\n",
    "import re\n",
    "import json\n",
    "import spacy"
   ]
  },
  {
   "cell_type": "markdown",
   "metadata": {},
   "source": [
    "Reading in, and inspection of the script file:"
   ]
  },
  {
   "cell_type": "code",
   "execution_count": 195,
   "metadata": {},
   "outputs": [],
   "source": [
    "df = pd.read_csv('data/scripts_upto_all.csv', index_col='Unnamed: 0')"
   ]
  },
  {
   "cell_type": "code",
   "execution_count": 196,
   "metadata": {},
   "outputs": [
    {
     "data": {
      "text/html": [
       "<div>\n",
       "<style scoped>\n",
       "    .dataframe tbody tr th:only-of-type {\n",
       "        vertical-align: middle;\n",
       "    }\n",
       "\n",
       "    .dataframe tbody tr th {\n",
       "        vertical-align: top;\n",
       "    }\n",
       "\n",
       "    .dataframe thead th {\n",
       "        text-align: right;\n",
       "    }\n",
       "</style>\n",
       "<table border=\"1\" class=\"dataframe\">\n",
       "  <thead>\n",
       "    <tr style=\"text-align: right;\">\n",
       "      <th></th>\n",
       "      <th>titles</th>\n",
       "      <th>scripts</th>\n",
       "      <th>genres</th>\n",
       "    </tr>\n",
       "  </thead>\n",
       "  <tbody>\n",
       "    <tr>\n",
       "      <td>0</td>\n",
       "      <td>10 Things I Hate About You</td>\n",
       "      <td>TEN THINGS I HA...</td>\n",
       "      <td>['Action', 'Adventure', 'Animation', 'Comedy',...</td>\n",
       "    </tr>\n",
       "    <tr>\n",
       "      <td>1</td>\n",
       "      <td>12</td>\n",
       "      <td>\\n  \\n\\n\\n\\n\\nCUT FROM BLACK\\n\\nTITLE: FIN\\n...</td>\n",
       "      <td>['Action', 'Adventure', 'Animation', 'Comedy',...</td>\n",
       "    </tr>\n",
       "  </tbody>\n",
       "</table>\n",
       "</div>"
      ],
      "text/plain": [
       "                       titles  \\\n",
       "0  10 Things I Hate About You   \n",
       "1                          12   \n",
       "\n",
       "                                             scripts  \\\n",
       "0                                 TEN THINGS I HA...   \n",
       "1    \\n  \\n\\n\\n\\n\\nCUT FROM BLACK\\n\\nTITLE: FIN\\n...   \n",
       "\n",
       "                                              genres  \n",
       "0  ['Action', 'Adventure', 'Animation', 'Comedy',...  \n",
       "1  ['Action', 'Adventure', 'Animation', 'Comedy',...  "
      ]
     },
     "execution_count": 196,
     "metadata": {},
     "output_type": "execute_result"
    }
   ],
   "source": [
    "df.head(2)"
   ]
  },
  {
   "cell_type": "code",
   "execution_count": 197,
   "metadata": {},
   "outputs": [
    {
     "data": {
      "text/plain": [
       "(1210, 3)"
      ]
     },
     "execution_count": 197,
     "metadata": {},
     "output_type": "execute_result"
    }
   ],
   "source": [
    "df.shape"
   ]
  },
  {
   "cell_type": "code",
   "execution_count": 198,
   "metadata": {},
   "outputs": [
    {
     "name": "stdout",
     "output_type": "stream",
     "text": [
      "<class 'pandas.core.frame.DataFrame'>\n",
      "Int64Index: 1210 entries, 0 to 1209\n",
      "Data columns (total 3 columns):\n",
      "titles     1210 non-null object\n",
      "scripts    1145 non-null object\n",
      "genres     1210 non-null object\n",
      "dtypes: object(3)\n",
      "memory usage: 37.8+ KB\n"
     ]
    }
   ],
   "source": [
    "df.info()"
   ]
  },
  {
   "cell_type": "code",
   "execution_count": 199,
   "metadata": {},
   "outputs": [
    {
     "data": {
      "text/plain": [
       "titles      0\n",
       "scripts    65\n",
       "genres      0\n",
       "dtype: int64"
      ]
     },
     "execution_count": 199,
     "metadata": {},
     "output_type": "execute_result"
    }
   ],
   "source": [
    "df.isna().sum()"
   ]
  },
  {
   "cell_type": "code",
   "execution_count": 200,
   "metadata": {},
   "outputs": [
    {
     "data": {
      "text/html": [
       "<div>\n",
       "<style scoped>\n",
       "    .dataframe tbody tr th:only-of-type {\n",
       "        vertical-align: middle;\n",
       "    }\n",
       "\n",
       "    .dataframe tbody tr th {\n",
       "        vertical-align: top;\n",
       "    }\n",
       "\n",
       "    .dataframe thead th {\n",
       "        text-align: right;\n",
       "    }\n",
       "</style>\n",
       "<table border=\"1\" class=\"dataframe\">\n",
       "  <thead>\n",
       "    <tr style=\"text-align: right;\">\n",
       "      <th></th>\n",
       "      <th>titles</th>\n",
       "      <th>scripts</th>\n",
       "      <th>genres</th>\n",
       "    </tr>\n",
       "  </thead>\n",
       "  <tbody>\n",
       "    <tr>\n",
       "      <td>17</td>\n",
       "      <td>48 Hrs.</td>\n",
       "      <td>NaN</td>\n",
       "      <td>['Action', 'Adventure', 'Animation', 'Comedy',...</td>\n",
       "    </tr>\n",
       "    <tr>\n",
       "      <td>20</td>\n",
       "      <td>8 Mile</td>\n",
       "      <td>NaN</td>\n",
       "      <td>['Action', 'Adventure', 'Animation', 'Comedy',...</td>\n",
       "    </tr>\n",
       "    <tr>\n",
       "      <td>22</td>\n",
       "      <td>9</td>\n",
       "      <td>NaN</td>\n",
       "      <td>['Action', 'Adventure', 'Animation', 'Comedy',...</td>\n",
       "    </tr>\n",
       "    <tr>\n",
       "      <td>29</td>\n",
       "      <td>A.I.</td>\n",
       "      <td>NaN</td>\n",
       "      <td>['Action', 'Adventure', 'Animation', 'Comedy',...</td>\n",
       "    </tr>\n",
       "    <tr>\n",
       "      <td>122</td>\n",
       "      <td>Back to the Future</td>\n",
       "      <td>NaN</td>\n",
       "      <td>['Action', 'Adventure', 'Animation', 'Comedy',...</td>\n",
       "    </tr>\n",
       "    <tr>\n",
       "      <td>...</td>\n",
       "      <td>...</td>\n",
       "      <td>...</td>\n",
       "      <td>...</td>\n",
       "    </tr>\n",
       "    <tr>\n",
       "      <td>1121</td>\n",
       "      <td>Troy</td>\n",
       "      <td>NaN</td>\n",
       "      <td>['Action', 'Adventure', 'Animation', 'Comedy',...</td>\n",
       "    </tr>\n",
       "    <tr>\n",
       "      <td>1136</td>\n",
       "      <td>Unforgiven</td>\n",
       "      <td>NaN</td>\n",
       "      <td>['Action', 'Adventure', 'Animation', 'Comedy',...</td>\n",
       "    </tr>\n",
       "    <tr>\n",
       "      <td>1142</td>\n",
       "      <td>Valentine's Day</td>\n",
       "      <td>NaN</td>\n",
       "      <td>['Action', 'Adventure', 'Animation', 'Comedy',...</td>\n",
       "    </tr>\n",
       "    <tr>\n",
       "      <td>1146</td>\n",
       "      <td>Vertigo</td>\n",
       "      <td>NaN</td>\n",
       "      <td>['Action', 'Adventure', 'Animation', 'Comedy',...</td>\n",
       "    </tr>\n",
       "    <tr>\n",
       "      <td>1170</td>\n",
       "      <td>When Harry Met Sally</td>\n",
       "      <td>NaN</td>\n",
       "      <td>['Action', 'Adventure', 'Animation', 'Comedy',...</td>\n",
       "    </tr>\n",
       "  </tbody>\n",
       "</table>\n",
       "<p>65 rows × 3 columns</p>\n",
       "</div>"
      ],
      "text/plain": [
       "                    titles scripts  \\\n",
       "17                 48 Hrs.     NaN   \n",
       "20                  8 Mile     NaN   \n",
       "22                       9     NaN   \n",
       "29                    A.I.     NaN   \n",
       "122     Back to the Future     NaN   \n",
       "...                    ...     ...   \n",
       "1121                  Troy     NaN   \n",
       "1136            Unforgiven     NaN   \n",
       "1142       Valentine's Day     NaN   \n",
       "1146               Vertigo     NaN   \n",
       "1170  When Harry Met Sally     NaN   \n",
       "\n",
       "                                                 genres  \n",
       "17    ['Action', 'Adventure', 'Animation', 'Comedy',...  \n",
       "20    ['Action', 'Adventure', 'Animation', 'Comedy',...  \n",
       "22    ['Action', 'Adventure', 'Animation', 'Comedy',...  \n",
       "29    ['Action', 'Adventure', 'Animation', 'Comedy',...  \n",
       "122   ['Action', 'Adventure', 'Animation', 'Comedy',...  \n",
       "...                                                 ...  \n",
       "1121  ['Action', 'Adventure', 'Animation', 'Comedy',...  \n",
       "1136  ['Action', 'Adventure', 'Animation', 'Comedy',...  \n",
       "1142  ['Action', 'Adventure', 'Animation', 'Comedy',...  \n",
       "1146  ['Action', 'Adventure', 'Animation', 'Comedy',...  \n",
       "1170  ['Action', 'Adventure', 'Animation', 'Comedy',...  \n",
       "\n",
       "[65 rows x 3 columns]"
      ]
     },
     "execution_count": 200,
     "metadata": {},
     "output_type": "execute_result"
    }
   ],
   "source": [
    "df[df['scripts'].isna()]"
   ]
  },
  {
   "cell_type": "markdown",
   "metadata": {},
   "source": [
    "After checking some of these titles, the link to the script loads a pdf, or other document type. The script that I currently have can't handle such documents. Time allowing I may revisit this.     \n",
    "\n",
    "Now because of the way my script grabbed the genres, I also grabbed a table with links to all 18 of the various genres. This table always got read before the script genres, and so by taking everything after the first 18 I should be left with each scripts respective genre."
   ]
  },
  {
   "cell_type": "code",
   "execution_count": 201,
   "metadata": {},
   "outputs": [],
   "source": [
    "for i in range(df.shape[0]):\n",
    "    df['genres'][i] = df['genres'][i].split()\n",
    "    df['genres'][i] = df['genres'][i][18:]"
   ]
  },
  {
   "cell_type": "code",
   "execution_count": 202,
   "metadata": {},
   "outputs": [
    {
     "data": {
      "text/html": [
       "<div>\n",
       "<style scoped>\n",
       "    .dataframe tbody tr th:only-of-type {\n",
       "        vertical-align: middle;\n",
       "    }\n",
       "\n",
       "    .dataframe tbody tr th {\n",
       "        vertical-align: top;\n",
       "    }\n",
       "\n",
       "    .dataframe thead th {\n",
       "        text-align: right;\n",
       "    }\n",
       "</style>\n",
       "<table border=\"1\" class=\"dataframe\">\n",
       "  <thead>\n",
       "    <tr style=\"text-align: right;\">\n",
       "      <th></th>\n",
       "      <th>titles</th>\n",
       "      <th>scripts</th>\n",
       "      <th>genres</th>\n",
       "    </tr>\n",
       "  </thead>\n",
       "  <tbody>\n",
       "    <tr>\n",
       "      <td>0</td>\n",
       "      <td>10 Things I Hate About You</td>\n",
       "      <td>TEN THINGS I HA...</td>\n",
       "      <td>['Comedy',, 'Romance']]</td>\n",
       "    </tr>\n",
       "    <tr>\n",
       "      <td>1</td>\n",
       "      <td>12</td>\n",
       "      <td>\\n  \\n\\n\\n\\n\\nCUT FROM BLACK\\n\\nTITLE: FIN\\n...</td>\n",
       "      <td>['Comedy']]</td>\n",
       "    </tr>\n",
       "    <tr>\n",
       "      <td>2</td>\n",
       "      <td>12 and Holding</td>\n",
       "      <td>\\n          \\n          \\n         ...</td>\n",
       "      <td>['Drama']]</td>\n",
       "    </tr>\n",
       "    <tr>\n",
       "      <td>3</td>\n",
       "      <td>12 Monkeys</td>\n",
       "      <td>TWELVE MONKEYS\\n     \\n            An orig...</td>\n",
       "      <td>['Drama',, 'Sci-Fi',, 'Thriller']]</td>\n",
       "    </tr>\n",
       "    <tr>\n",
       "      <td>4</td>\n",
       "      <td>12 Years a Slave</td>\n",
       "      <td>12 YEARS A SLAVE\\...</td>\n",
       "      <td>['Drama']]</td>\n",
       "    </tr>\n",
       "  </tbody>\n",
       "</table>\n",
       "</div>"
      ],
      "text/plain": [
       "                       titles  \\\n",
       "0  10 Things I Hate About You   \n",
       "1                          12   \n",
       "2              12 and Holding   \n",
       "3                  12 Monkeys   \n",
       "4            12 Years a Slave   \n",
       "\n",
       "                                             scripts  \\\n",
       "0                                 TEN THINGS I HA...   \n",
       "1    \\n  \\n\\n\\n\\n\\nCUT FROM BLACK\\n\\nTITLE: FIN\\n...   \n",
       "2             \\n          \\n          \\n         ...   \n",
       "3      TWELVE MONKEYS\\n     \\n            An orig...   \n",
       "4                               12 YEARS A SLAVE\\...   \n",
       "\n",
       "                               genres  \n",
       "0             ['Comedy',, 'Romance']]  \n",
       "1                         ['Comedy']]  \n",
       "2                          ['Drama']]  \n",
       "3  ['Drama',, 'Sci-Fi',, 'Thriller']]  \n",
       "4                          ['Drama']]  "
      ]
     },
     "execution_count": 202,
     "metadata": {},
     "output_type": "execute_result"
    }
   ],
   "source": [
    "df.head()"
   ]
  },
  {
   "cell_type": "markdown",
   "metadata": {},
   "source": [
    "I'll need to do some cleaning for that column, but it shouldn't be too bad as I will simply be removing all non alphabetic characters.    \n",
    "\n",
    "I will now drop all 65 of the movies which I wasn't able to obtain the script for, and clean the genres up."
   ]
  },
  {
   "cell_type": "code",
   "execution_count": 203,
   "metadata": {},
   "outputs": [],
   "source": [
    "df = df.dropna().reset_index()"
   ]
  },
  {
   "cell_type": "code",
   "execution_count": 264,
   "metadata": {},
   "outputs": [],
   "source": [
    "for i in range(df.shape[0]):\n",
    "    for j in range(len(df['genres'][i])):\n",
    "        temp = re.findall('[A-Za-z]', df['genres'][i][j])\n",
    "        word = ''.join(temp)\n",
    "        df['genres'][i][j] = word"
   ]
  },
  {
   "cell_type": "markdown",
   "metadata": {},
   "source": [
    "Need to change format of all titles with the form: \"title, The\", and \"Title: sub title\"    \n",
    "\n",
    "Turns out it handles the vast majority of the form: \"Title: sub title\" properly, and that only a handful don't go through. For that reason I am going to let them go, as there doesn't seem to be an immediatly obvious solution to capture the ones that don't go through and leave the ones that do alone (Some titles rely on both the title and sub title).   \n",
    "\n",
    "I guess that I could do it dynamically when querying: try the whole whole title, and if not correct result try with the partial title. Will do this if time permits."
   ]
  },
  {
   "cell_type": "code",
   "execution_count": 218,
   "metadata": {},
   "outputs": [
    {
     "name": "stderr",
     "output_type": "stream",
     "text": [
      "C:\\Users\\louis\\Anaconda3\\lib\\site-packages\\ipykernel_launcher.py:4: SettingWithCopyWarning: \n",
      "A value is trying to be set on a copy of a slice from a DataFrame\n",
      "\n",
      "See the caveats in the documentation: http://pandas.pydata.org/pandas-docs/stable/user_guide/indexing.html#returning-a-view-versus-a-copy\n",
      "  after removing the cwd from sys.path.\n"
     ]
    }
   ],
   "source": [
    "for i in range(df.shape[0]):\n",
    "    if re.search(\"The$\", df['titles'][i]):\n",
    "        n_title = \"The \" + re.split(\", \", df['titles'][i])[0]\n",
    "        df['titles'][i] = n_title"
   ]
  },
  {
   "cell_type": "markdown",
   "metadata": {},
   "source": [
    "Now to save the titles as a csv for use to cross reference against the OMDb API and get the scores."
   ]
  },
  {
   "cell_type": "code",
   "execution_count": 219,
   "metadata": {},
   "outputs": [],
   "source": [
    "df['titles'].to_csv('NLP_Movie_Scripts/movie_titles.csv', header='titles')"
   ]
  },
  {
   "cell_type": "markdown",
   "metadata": {},
   "source": [
    "### Tokenizing the Scripts"
   ]
  },
  {
   "cell_type": "markdown",
   "metadata": {},
   "source": [
    "Vectorizer takes in a tokenizer. We then use this blown up df in models."
   ]
  },
  {
   "cell_type": "code",
   "execution_count": 273,
   "metadata": {},
   "outputs": [
    {
     "ename": "OSError",
     "evalue": "[E050] Can't find model 'en_core_web_sm'. It doesn't seem to be a shortcut link, a Python package or a valid path to a data directory.",
     "output_type": "error",
     "traceback": [
      "\u001b[1;31m---------------------------------------------------------------------------\u001b[0m",
      "\u001b[1;31mOSError\u001b[0m                                   Traceback (most recent call last)",
      "\u001b[1;32m<ipython-input-273-8d092272a28e>\u001b[0m in \u001b[0;36m<module>\u001b[1;34m\u001b[0m\n\u001b[1;32m----> 1\u001b[1;33m \u001b[0mnlp\u001b[0m \u001b[1;33m=\u001b[0m \u001b[0mspacy\u001b[0m\u001b[1;33m.\u001b[0m\u001b[0mload\u001b[0m\u001b[1;33m(\u001b[0m\u001b[1;34m\"en_core_web_sm\"\u001b[0m\u001b[1;33m)\u001b[0m\u001b[1;33m\u001b[0m\u001b[1;33m\u001b[0m\u001b[0m\n\u001b[0m",
      "\u001b[1;32m~\\Anaconda3\\lib\\site-packages\\spacy\\__init__.py\u001b[0m in \u001b[0;36mload\u001b[1;34m(name, **overrides)\u001b[0m\n\u001b[0;32m     28\u001b[0m     \u001b[1;32mif\u001b[0m \u001b[0mdepr_path\u001b[0m \u001b[1;32mnot\u001b[0m \u001b[1;32min\u001b[0m \u001b[1;33m(\u001b[0m\u001b[1;32mTrue\u001b[0m\u001b[1;33m,\u001b[0m \u001b[1;32mFalse\u001b[0m\u001b[1;33m,\u001b[0m \u001b[1;32mNone\u001b[0m\u001b[1;33m)\u001b[0m\u001b[1;33m:\u001b[0m\u001b[1;33m\u001b[0m\u001b[1;33m\u001b[0m\u001b[0m\n\u001b[0;32m     29\u001b[0m         \u001b[0mdeprecation_warning\u001b[0m\u001b[1;33m(\u001b[0m\u001b[0mWarnings\u001b[0m\u001b[1;33m.\u001b[0m\u001b[0mW001\u001b[0m\u001b[1;33m.\u001b[0m\u001b[0mformat\u001b[0m\u001b[1;33m(\u001b[0m\u001b[0mpath\u001b[0m\u001b[1;33m=\u001b[0m\u001b[0mdepr_path\u001b[0m\u001b[1;33m)\u001b[0m\u001b[1;33m)\u001b[0m\u001b[1;33m\u001b[0m\u001b[1;33m\u001b[0m\u001b[0m\n\u001b[1;32m---> 30\u001b[1;33m     \u001b[1;32mreturn\u001b[0m \u001b[0mutil\u001b[0m\u001b[1;33m.\u001b[0m\u001b[0mload_model\u001b[0m\u001b[1;33m(\u001b[0m\u001b[0mname\u001b[0m\u001b[1;33m,\u001b[0m \u001b[1;33m**\u001b[0m\u001b[0moverrides\u001b[0m\u001b[1;33m)\u001b[0m\u001b[1;33m\u001b[0m\u001b[1;33m\u001b[0m\u001b[0m\n\u001b[0m\u001b[0;32m     31\u001b[0m \u001b[1;33m\u001b[0m\u001b[0m\n\u001b[0;32m     32\u001b[0m \u001b[1;33m\u001b[0m\u001b[0m\n",
      "\u001b[1;32m~\\Anaconda3\\lib\\site-packages\\spacy\\util.py\u001b[0m in \u001b[0;36mload_model\u001b[1;34m(name, **overrides)\u001b[0m\n\u001b[0;32m    167\u001b[0m     \u001b[1;32melif\u001b[0m \u001b[0mhasattr\u001b[0m\u001b[1;33m(\u001b[0m\u001b[0mname\u001b[0m\u001b[1;33m,\u001b[0m \u001b[1;34m\"exists\"\u001b[0m\u001b[1;33m)\u001b[0m\u001b[1;33m:\u001b[0m  \u001b[1;31m# Path or Path-like to model data\u001b[0m\u001b[1;33m\u001b[0m\u001b[1;33m\u001b[0m\u001b[0m\n\u001b[0;32m    168\u001b[0m         \u001b[1;32mreturn\u001b[0m \u001b[0mload_model_from_path\u001b[0m\u001b[1;33m(\u001b[0m\u001b[0mname\u001b[0m\u001b[1;33m,\u001b[0m \u001b[1;33m**\u001b[0m\u001b[0moverrides\u001b[0m\u001b[1;33m)\u001b[0m\u001b[1;33m\u001b[0m\u001b[1;33m\u001b[0m\u001b[0m\n\u001b[1;32m--> 169\u001b[1;33m     \u001b[1;32mraise\u001b[0m \u001b[0mIOError\u001b[0m\u001b[1;33m(\u001b[0m\u001b[0mErrors\u001b[0m\u001b[1;33m.\u001b[0m\u001b[0mE050\u001b[0m\u001b[1;33m.\u001b[0m\u001b[0mformat\u001b[0m\u001b[1;33m(\u001b[0m\u001b[0mname\u001b[0m\u001b[1;33m=\u001b[0m\u001b[0mname\u001b[0m\u001b[1;33m)\u001b[0m\u001b[1;33m)\u001b[0m\u001b[1;33m\u001b[0m\u001b[1;33m\u001b[0m\u001b[0m\n\u001b[0m\u001b[0;32m    170\u001b[0m \u001b[1;33m\u001b[0m\u001b[0m\n\u001b[0;32m    171\u001b[0m \u001b[1;33m\u001b[0m\u001b[0m\n",
      "\u001b[1;31mOSError\u001b[0m: [E050] Can't find model 'en_core_web_sm'. It doesn't seem to be a shortcut link, a Python package or a valid path to a data directory."
     ]
    }
   ],
   "source": [
    "nlp = spacy.load(\"en_core_web_sm\")"
   ]
  },
  {
   "cell_type": "code",
   "execution_count": 271,
   "metadata": {},
   "outputs": [
    {
     "name": "stdout",
     "output_type": "stream",
     "text": [
      "\n",
      "[+] Loaded compatibility table\n",
      "\n",
      "====================== Installed models (spaCy v2.2.3) ======================\n",
      "[i] spaCy installation: C:\\Users\\louis\\Anaconda3\\lib\\site-packages\\spacy\n",
      "\n",
      "TYPE      NAME             MODEL            VERSION      \n",
      "package   en-core-web-sm   en_core_web_sm   2.2.5     [+]\n",
      "\n"
     ]
    }
   ],
   "source": [
    "!python -m spacy validate"
   ]
  },
  {
   "cell_type": "code",
   "execution_count": null,
   "metadata": {},
   "outputs": [],
   "source": []
  },
  {
   "cell_type": "code",
   "execution_count": null,
   "metadata": {},
   "outputs": [],
   "source": []
  },
  {
   "cell_type": "code",
   "execution_count": null,
   "metadata": {},
   "outputs": [],
   "source": []
  },
  {
   "cell_type": "code",
   "execution_count": null,
   "metadata": {},
   "outputs": [],
   "source": []
  },
  {
   "cell_type": "markdown",
   "metadata": {},
   "source": [
    "### Cleaning the scores"
   ]
  },
  {
   "cell_type": "code",
   "execution_count": 86,
   "metadata": {},
   "outputs": [],
   "source": [
    "df_scores1 = pd.read_csv('data/movie_info1.csv').drop('Unnamed: 0', axis=1)"
   ]
  },
  {
   "cell_type": "code",
   "execution_count": 87,
   "metadata": {},
   "outputs": [
    {
     "data": {
      "text/html": [
       "<div>\n",
       "<style scoped>\n",
       "    .dataframe tbody tr th:only-of-type {\n",
       "        vertical-align: middle;\n",
       "    }\n",
       "\n",
       "    .dataframe tbody tr th {\n",
       "        vertical-align: top;\n",
       "    }\n",
       "\n",
       "    .dataframe thead th {\n",
       "        text-align: right;\n",
       "    }\n",
       "</style>\n",
       "<table border=\"1\" class=\"dataframe\">\n",
       "  <thead>\n",
       "    <tr style=\"text-align: right;\">\n",
       "      <th></th>\n",
       "      <th>titles</th>\n",
       "      <th>info</th>\n",
       "    </tr>\n",
       "  </thead>\n",
       "  <tbody>\n",
       "    <tr>\n",
       "      <td>0</td>\n",
       "      <td>10 Things I Hate About You</td>\n",
       "      <td>{\"Title\":\"10 Things I Hate About You\",\"Year\":\"...</td>\n",
       "    </tr>\n",
       "    <tr>\n",
       "      <td>1</td>\n",
       "      <td>12</td>\n",
       "      <td>{\"Title\":\"12\",\"Year\":\"2007\",\"Rated\":\"PG-13\",\"R...</td>\n",
       "    </tr>\n",
       "    <tr>\n",
       "      <td>2</td>\n",
       "      <td>12 and Holding</td>\n",
       "      <td>{\"Title\":\"12 and Holding\",\"Year\":\"2005\",\"Rated...</td>\n",
       "    </tr>\n",
       "    <tr>\n",
       "      <td>3</td>\n",
       "      <td>12 Monkeys</td>\n",
       "      <td>{\"Title\":\"12 Monkeys\",\"Year\":\"1995\",\"Rated\":\"R...</td>\n",
       "    </tr>\n",
       "    <tr>\n",
       "      <td>4</td>\n",
       "      <td>12 Years a Slave</td>\n",
       "      <td>{\"Title\":\"12 Years a Slave\",\"Year\":\"2013\",\"Rat...</td>\n",
       "    </tr>\n",
       "  </tbody>\n",
       "</table>\n",
       "</div>"
      ],
      "text/plain": [
       "                       titles  \\\n",
       "0  10 Things I Hate About You   \n",
       "1                          12   \n",
       "2              12 and Holding   \n",
       "3                  12 Monkeys   \n",
       "4            12 Years a Slave   \n",
       "\n",
       "                                                info  \n",
       "0  {\"Title\":\"10 Things I Hate About You\",\"Year\":\"...  \n",
       "1  {\"Title\":\"12\",\"Year\":\"2007\",\"Rated\":\"PG-13\",\"R...  \n",
       "2  {\"Title\":\"12 and Holding\",\"Year\":\"2005\",\"Rated...  \n",
       "3  {\"Title\":\"12 Monkeys\",\"Year\":\"1995\",\"Rated\":\"R...  \n",
       "4  {\"Title\":\"12 Years a Slave\",\"Year\":\"2013\",\"Rat...  "
      ]
     },
     "execution_count": 87,
     "metadata": {},
     "output_type": "execute_result"
    }
   ],
   "source": [
    "df_scores1.head()"
   ]
  },
  {
   "cell_type": "code",
   "execution_count": 100,
   "metadata": {},
   "outputs": [
    {
     "data": {
      "text/plain": [
       "titles    False\n",
       "info      False\n",
       "dtype: bool"
      ]
     },
     "execution_count": 100,
     "metadata": {},
     "output_type": "execute_result"
    }
   ],
   "source": [
    "df_scores1.isna().any()"
   ]
  },
  {
   "cell_type": "code",
   "execution_count": 234,
   "metadata": {},
   "outputs": [],
   "source": [
    "temp = json.loads(df_scores1['info'][17])"
   ]
  },
  {
   "cell_type": "code",
   "execution_count": 235,
   "metadata": {},
   "outputs": [
    {
     "data": {
      "text/plain": [
       "{'Title': '50-50',\n",
       " 'Year': '2011',\n",
       " 'Rated': 'N/A',\n",
       " 'Released': 'N/A',\n",
       " 'Runtime': '15 min',\n",
       " 'Genre': 'Short, Crime, Drama, Romance',\n",
       " 'Director': 'Megan Riakos',\n",
       " 'Writer': 'Megan Riakos',\n",
       " 'Actors': 'Jessica McNamee, Oliver Ackland, Drew Pearson, Les Chantery',\n",
       " 'Plot': \"Follows Nellie Cameron, a real life prostitute famous on the streets of Sydney in the 1920s and 30s. Nellie is enjoying the perks of her world, the drugs, the money, the fame but in her game she can't afford love.\",\n",
       " 'Language': 'English',\n",
       " 'Country': 'Australia',\n",
       " 'Awards': '1 win.',\n",
       " 'Poster': 'https://m.media-amazon.com/images/M/MV5BZjM0NjhkNTItYjI0Yi00YmEzLTk0MzUtMzk1MGM5ZTVlODU4XkEyXkFqcGdeQXVyMjgxMzAxNQ@@._V1_SX300.jpg',\n",
       " 'Ratings': [{'Source': 'Internet Movie Database', 'Value': '6.1/10'}],\n",
       " 'Metascore': 'N/A',\n",
       " 'imdbRating': '6.1',\n",
       " 'imdbVotes': '34',\n",
       " 'imdbID': 'tt1833204',\n",
       " 'Type': 'movie',\n",
       " 'DVD': 'N/A',\n",
       " 'BoxOffice': 'N/A',\n",
       " 'Production': 'N/A',\n",
       " 'Website': 'N/A',\n",
       " 'Response': 'True'}"
      ]
     },
     "execution_count": 235,
     "metadata": {},
     "output_type": "execute_result"
    }
   ],
   "source": [
    "temp"
   ]
  },
  {
   "cell_type": "code",
   "execution_count": 136,
   "metadata": {},
   "outputs": [
    {
     "data": {
      "text/plain": [
       "str"
      ]
     },
     "execution_count": 136,
     "metadata": {},
     "output_type": "execute_result"
    }
   ],
   "source": [
    "type(temp['Ratings'][0]['Source'])"
   ]
  },
  {
   "cell_type": "code",
   "execution_count": 223,
   "metadata": {},
   "outputs": [],
   "source": [
    "df_scores1 = df_scores1.assign(IMDb_score=np.nan)\n",
    "df_scores1 = df_scores1.assign(RT_score=np.nan)\n",
    "df_scores1 = df_scores1.assign(Meta_score=np.nan)\n",
    "df_scores1 = df_scores1.assign(box_office=np.nan)"
   ]
  },
  {
   "cell_type": "code",
   "execution_count": 229,
   "metadata": {},
   "outputs": [],
   "source": [
    "for i in range(df_scores1.shape[0]):\n",
    "    temp = json.loads(df_scores1['info'][i])\n",
    "    try:\n",
    "        for j in temp['Ratings']:\n",
    "            if j['Source'] == 'Internet Movie Database':\n",
    "                df_scores1['IMDb_score'][i] = j['Value']\n",
    "            elif j['Source'] == 'Rotten Tomatoes':\n",
    "                df_scores1['RT_score'][i] = j['Value']\n",
    "            elif j['Source'] == 'Metacritic':\n",
    "                df_scores1['Meta_score'][i] = j['Value']\n",
    "        df_scores1['box_office'][i] = temp['BoxOffice']\n",
    "    except:\n",
    "        #print(\"Exception triggered\")\n",
    "        df_scores1['IMDb_score'][i] = np.nan\n",
    "        df_scores1['RT_score'][i] = np.nan\n",
    "        df_scores1['Meta_score'][i] = np.nan\n",
    "        df_scores1['box_office'][i] = np.nan"
   ]
  },
  {
   "cell_type": "code",
   "execution_count": 230,
   "metadata": {},
   "outputs": [
    {
     "data": {
      "text/html": [
       "<div>\n",
       "<style scoped>\n",
       "    .dataframe tbody tr th:only-of-type {\n",
       "        vertical-align: middle;\n",
       "    }\n",
       "\n",
       "    .dataframe tbody tr th {\n",
       "        vertical-align: top;\n",
       "    }\n",
       "\n",
       "    .dataframe thead th {\n",
       "        text-align: right;\n",
       "    }\n",
       "</style>\n",
       "<table border=\"1\" class=\"dataframe\">\n",
       "  <thead>\n",
       "    <tr style=\"text-align: right;\">\n",
       "      <th></th>\n",
       "      <th>titles</th>\n",
       "      <th>info</th>\n",
       "      <th>IMDb_score</th>\n",
       "      <th>RT_score</th>\n",
       "      <th>Meta_score</th>\n",
       "      <th>box_office</th>\n",
       "    </tr>\n",
       "  </thead>\n",
       "  <tbody>\n",
       "    <tr>\n",
       "      <td>0</td>\n",
       "      <td>10 Things I Hate About You</td>\n",
       "      <td>{\"Title\":\"10 Things I Hate About You\",\"Year\":\"...</td>\n",
       "      <td>7.3/10</td>\n",
       "      <td>68%</td>\n",
       "      <td>70/100</td>\n",
       "      <td>N/A</td>\n",
       "    </tr>\n",
       "    <tr>\n",
       "      <td>1</td>\n",
       "      <td>12</td>\n",
       "      <td>{\"Title\":\"12\",\"Year\":\"2007\",\"Rated\":\"PG-13\",\"R...</td>\n",
       "      <td>7.7/10</td>\n",
       "      <td>76%</td>\n",
       "      <td>72/100</td>\n",
       "      <td>N/A</td>\n",
       "    </tr>\n",
       "    <tr>\n",
       "      <td>2</td>\n",
       "      <td>12 and Holding</td>\n",
       "      <td>{\"Title\":\"12 and Holding\",\"Year\":\"2005\",\"Rated...</td>\n",
       "      <td>7.5/10</td>\n",
       "      <td>73%</td>\n",
       "      <td>65/100</td>\n",
       "      <td>N/A</td>\n",
       "    </tr>\n",
       "    <tr>\n",
       "      <td>3</td>\n",
       "      <td>12 Monkeys</td>\n",
       "      <td>{\"Title\":\"12 Monkeys\",\"Year\":\"1995\",\"Rated\":\"R...</td>\n",
       "      <td>8.0/10</td>\n",
       "      <td>89%</td>\n",
       "      <td>74/100</td>\n",
       "      <td>N/A</td>\n",
       "    </tr>\n",
       "    <tr>\n",
       "      <td>4</td>\n",
       "      <td>12 Years a Slave</td>\n",
       "      <td>{\"Title\":\"12 Years a Slave\",\"Year\":\"2013\",\"Rat...</td>\n",
       "      <td>8.1/10</td>\n",
       "      <td>95%</td>\n",
       "      <td>96/100</td>\n",
       "      <td>$50,628,650</td>\n",
       "    </tr>\n",
       "  </tbody>\n",
       "</table>\n",
       "</div>"
      ],
      "text/plain": [
       "                       titles  \\\n",
       "0  10 Things I Hate About You   \n",
       "1                          12   \n",
       "2              12 and Holding   \n",
       "3                  12 Monkeys   \n",
       "4            12 Years a Slave   \n",
       "\n",
       "                                                info IMDb_score RT_score  \\\n",
       "0  {\"Title\":\"10 Things I Hate About You\",\"Year\":\"...     7.3/10      68%   \n",
       "1  {\"Title\":\"12\",\"Year\":\"2007\",\"Rated\":\"PG-13\",\"R...     7.7/10      76%   \n",
       "2  {\"Title\":\"12 and Holding\",\"Year\":\"2005\",\"Rated...     7.5/10      73%   \n",
       "3  {\"Title\":\"12 Monkeys\",\"Year\":\"1995\",\"Rated\":\"R...     8.0/10      89%   \n",
       "4  {\"Title\":\"12 Years a Slave\",\"Year\":\"2013\",\"Rat...     8.1/10      95%   \n",
       "\n",
       "  Meta_score   box_office  \n",
       "0     70/100          N/A  \n",
       "1     72/100          N/A  \n",
       "2     65/100          N/A  \n",
       "3     74/100          N/A  \n",
       "4     96/100  $50,628,650  "
      ]
     },
     "execution_count": 230,
     "metadata": {},
     "output_type": "execute_result"
    }
   ],
   "source": [
    "df_scores1.head()"
   ]
  },
  {
   "cell_type": "code",
   "execution_count": 233,
   "metadata": {},
   "outputs": [
    {
     "data": {
      "text/html": [
       "<div>\n",
       "<style scoped>\n",
       "    .dataframe tbody tr th:only-of-type {\n",
       "        vertical-align: middle;\n",
       "    }\n",
       "\n",
       "    .dataframe tbody tr th {\n",
       "        vertical-align: top;\n",
       "    }\n",
       "\n",
       "    .dataframe thead th {\n",
       "        text-align: right;\n",
       "    }\n",
       "</style>\n",
       "<table border=\"1\" class=\"dataframe\">\n",
       "  <thead>\n",
       "    <tr style=\"text-align: right;\">\n",
       "      <th></th>\n",
       "      <th>titles</th>\n",
       "      <th>info</th>\n",
       "      <th>IMDb_score</th>\n",
       "      <th>RT_score</th>\n",
       "      <th>Meta_score</th>\n",
       "      <th>box_office</th>\n",
       "    </tr>\n",
       "  </thead>\n",
       "  <tbody>\n",
       "    <tr>\n",
       "      <td>9</td>\n",
       "      <td>187</td>\n",
       "      <td>{\"Title\":\"187\",\"Year\":\"2016\",\"Rated\":\"N/A\",\"Re...</td>\n",
       "      <td>NaN</td>\n",
       "      <td>NaN</td>\n",
       "      <td>NaN</td>\n",
       "      <td>N/A</td>\n",
       "    </tr>\n",
       "    <tr>\n",
       "      <td>17</td>\n",
       "      <td>50-50</td>\n",
       "      <td>{\"Title\":\"50-50\",\"Year\":\"2011\",\"Rated\":\"N/A\",\"...</td>\n",
       "      <td>6.1/10</td>\n",
       "      <td>NaN</td>\n",
       "      <td>NaN</td>\n",
       "      <td>N/A</td>\n",
       "    </tr>\n",
       "    <tr>\n",
       "      <td>28</td>\n",
       "      <td>Abyss, The</td>\n",
       "      <td>{\"Title\":\"Abyss: The Greatest Proposal Ever\",\"...</td>\n",
       "      <td>NaN</td>\n",
       "      <td>NaN</td>\n",
       "      <td>NaN</td>\n",
       "      <td>N/A</td>\n",
       "    </tr>\n",
       "    <tr>\n",
       "      <td>30</td>\n",
       "      <td>Adaptation</td>\n",
       "      <td>{\"Title\":\"Adaptation\",\"Year\":\"2019–\",\"Rated\":\"...</td>\n",
       "      <td>NaN</td>\n",
       "      <td>NaN</td>\n",
       "      <td>NaN</td>\n",
       "      <td>NaN</td>\n",
       "    </tr>\n",
       "    <tr>\n",
       "      <td>31</td>\n",
       "      <td>Addams Family, The</td>\n",
       "      <td>{\"Response\":\"False\",\"Error\":\"Movie not found!\"}</td>\n",
       "      <td>NaN</td>\n",
       "      <td>NaN</td>\n",
       "      <td>NaN</td>\n",
       "      <td>NaN</td>\n",
       "    </tr>\n",
       "    <tr>\n",
       "      <td>...</td>\n",
       "      <td>...</td>\n",
       "      <td>...</td>\n",
       "      <td>...</td>\n",
       "      <td>...</td>\n",
       "      <td>...</td>\n",
       "      <td>...</td>\n",
       "    </tr>\n",
       "    <tr>\n",
       "      <td>484</td>\n",
       "      <td>Happy Birthday, Wanda June</td>\n",
       "      <td>{\"Title\":\"Happy Birthday, Wanda June\",\"Year\":\"...</td>\n",
       "      <td>6.1/10</td>\n",
       "      <td>NaN</td>\n",
       "      <td>NaN</td>\n",
       "      <td>N/A</td>\n",
       "    </tr>\n",
       "    <tr>\n",
       "      <td>488</td>\n",
       "      <td>Harold and Kumar Go to White Castle</td>\n",
       "      <td>{\"Response\":\"False\",\"Error\":\"Movie not found!\"}</td>\n",
       "      <td>NaN</td>\n",
       "      <td>NaN</td>\n",
       "      <td>NaN</td>\n",
       "      <td>NaN</td>\n",
       "    </tr>\n",
       "    <tr>\n",
       "      <td>489</td>\n",
       "      <td>Haunting, The</td>\n",
       "      <td>{\"Title\":\"Paranormal Haunting: The Curse of th...</td>\n",
       "      <td>2.0/10</td>\n",
       "      <td>NaN</td>\n",
       "      <td>NaN</td>\n",
       "      <td>N/A</td>\n",
       "    </tr>\n",
       "    <tr>\n",
       "      <td>495</td>\n",
       "      <td>Hebrew Hammer, The</td>\n",
       "      <td>{\"Response\":\"False\",\"Error\":\"Movie not found!\"}</td>\n",
       "      <td>NaN</td>\n",
       "      <td>NaN</td>\n",
       "      <td>NaN</td>\n",
       "      <td>NaN</td>\n",
       "    </tr>\n",
       "    <tr>\n",
       "      <td>499</td>\n",
       "      <td>Hellboy 2: The Golden Army</td>\n",
       "      <td>{\"Response\":\"False\",\"Error\":\"Movie not found!\"}</td>\n",
       "      <td>NaN</td>\n",
       "      <td>NaN</td>\n",
       "      <td>NaN</td>\n",
       "      <td>NaN</td>\n",
       "    </tr>\n",
       "  </tbody>\n",
       "</table>\n",
       "<p>133 rows × 6 columns</p>\n",
       "</div>"
      ],
      "text/plain": [
       "                                  titles  \\\n",
       "9                                    187   \n",
       "17                                 50-50   \n",
       "28                            Abyss, The   \n",
       "30                            Adaptation   \n",
       "31                    Addams Family, The   \n",
       "..                                   ...   \n",
       "484           Happy Birthday, Wanda June   \n",
       "488  Harold and Kumar Go to White Castle   \n",
       "489                        Haunting, The   \n",
       "495                   Hebrew Hammer, The   \n",
       "499           Hellboy 2: The Golden Army   \n",
       "\n",
       "                                                  info IMDb_score RT_score  \\\n",
       "9    {\"Title\":\"187\",\"Year\":\"2016\",\"Rated\":\"N/A\",\"Re...        NaN      NaN   \n",
       "17   {\"Title\":\"50-50\",\"Year\":\"2011\",\"Rated\":\"N/A\",\"...     6.1/10      NaN   \n",
       "28   {\"Title\":\"Abyss: The Greatest Proposal Ever\",\"...        NaN      NaN   \n",
       "30   {\"Title\":\"Adaptation\",\"Year\":\"2019–\",\"Rated\":\"...        NaN      NaN   \n",
       "31     {\"Response\":\"False\",\"Error\":\"Movie not found!\"}        NaN      NaN   \n",
       "..                                                 ...        ...      ...   \n",
       "484  {\"Title\":\"Happy Birthday, Wanda June\",\"Year\":\"...     6.1/10      NaN   \n",
       "488    {\"Response\":\"False\",\"Error\":\"Movie not found!\"}        NaN      NaN   \n",
       "489  {\"Title\":\"Paranormal Haunting: The Curse of th...     2.0/10      NaN   \n",
       "495    {\"Response\":\"False\",\"Error\":\"Movie not found!\"}        NaN      NaN   \n",
       "499    {\"Response\":\"False\",\"Error\":\"Movie not found!\"}        NaN      NaN   \n",
       "\n",
       "    Meta_score box_office  \n",
       "9          NaN        N/A  \n",
       "17         NaN        N/A  \n",
       "28         NaN        N/A  \n",
       "30         NaN        NaN  \n",
       "31         NaN        NaN  \n",
       "..         ...        ...  \n",
       "484        NaN        N/A  \n",
       "488        NaN        NaN  \n",
       "489        NaN        N/A  \n",
       "495        NaN        NaN  \n",
       "499        NaN        NaN  \n",
       "\n",
       "[133 rows x 6 columns]"
      ]
     },
     "execution_count": 233,
     "metadata": {},
     "output_type": "execute_result"
    }
   ],
   "source": [
    "df_scores1[df_scores1['RT_score'].isna()]"
   ]
  },
  {
   "cell_type": "code",
   "execution_count": 214,
   "metadata": {},
   "outputs": [
    {
     "name": "stdout",
     "output_type": "stream",
     "text": [
      "Airplane 2: The Sequel\n",
      "American Shaolin: King of Kickboxers II\n",
      "Boondock Saints 2: All Saints Day\n",
      "Crow: City of Angels, The\n",
      "Evil Dead II: Dead by Dawn\n",
      "Hellboy 2: The Golden Army\n"
     ]
    }
   ],
   "source": [
    "for i in df_scores1[df_scores1['IMDb_score'].isna()]['titles']:\n",
    "    if re.search(':', i):\n",
    "        print(i)"
   ]
  },
  {
   "cell_type": "code",
   "execution_count": 216,
   "metadata": {},
   "outputs": [
    {
     "data": {
      "text/plain": [
       "['187',\n",
       " 'Abyss, The',\n",
       " 'Adaptation',\n",
       " 'Addams Family, The',\n",
       " 'Adjustment Bureau, The',\n",
       " 'Adventures of Buckaroo Banzai Across the Eighth Dimension, The',\n",
       " 'Airplane 2: The Sequel',\n",
       " 'American President, The',\n",
       " 'American Shaolin: King of Kickboxers II',\n",
       " 'Amityville Asylum, The',\n",
       " 'Anniversary Party, The',\n",
       " 'Apartment, The',\n",
       " 'Avengers, The',\n",
       " 'Avengers, The (2012)',\n",
       " \"Avventura, L' (The Adventure)\",\n",
       " 'Bachelor Party, The',\n",
       " 'Back-up Plan, The',\n",
       " 'Batman 2',\n",
       " 'Battle of Algiers, The',\n",
       " 'Battle of Shaker Heights, The',\n",
       " 'Believer, The',\n",
       " 'Best Exotic Marigold Hotel, The',\n",
       " 'Big Blue, The',\n",
       " 'Big Lebowski, The',\n",
       " 'Big Sick, The',\n",
       " 'Big White, The',\n",
       " 'Black Dahlia, The',\n",
       " 'Blast from the Past, The',\n",
       " 'Blind Side, The',\n",
       " 'Bling Ring, The',\n",
       " 'Book of Eli, The',\n",
       " 'Boondock Saints 2: All Saints Day',\n",
       " 'Boondock Saints, The',\n",
       " 'Bourne Supremacy, The',\n",
       " 'Boxtrolls, The',\n",
       " 'Breakfast Club, The',\n",
       " 'Brothers Bloom, The',\n",
       " 'Change-Up, The',\n",
       " 'Cincinnati Kid, The',\n",
       " 'Cooler, The',\n",
       " 'Crow Salvation, The',\n",
       " 'Crow: City of Angels, The',\n",
       " 'Curious Case of Benjamin Button, The',\n",
       " 'Damned United, The',\n",
       " 'Dark Knight Rises, The',\n",
       " \"Dave Barry's Complete Guide to Guys\",\n",
       " 'Day the Clown Cried, The',\n",
       " 'Day the Earth Stood Still, The',\n",
       " 'Debt, The',\n",
       " 'Deer Hunter, The',\n",
       " 'Departed, The',\n",
       " 'Descendants, The',\n",
       " 'Devil Wears Prada, The',\n",
       " 'Distinguished Gentleman, The',\n",
       " 'Dry White Season, A',\n",
       " 'Ed TV',\n",
       " 'Elephant Man, The',\n",
       " 'English Patient, The',\n",
       " 'Evil Dead II: Dead by Dawn',\n",
       " 'Fabulous Baker Boys, The',\n",
       " 'Family Man, The',\n",
       " 'Fifth Element, The',\n",
       " 'Flintstones, The',\n",
       " 'French Connection, The',\n",
       " 'Fright Night (1985)',\n",
       " 'Frozen (Disney)',\n",
       " 'Getaway, The',\n",
       " 'Ghost and the Darkness, The',\n",
       " 'Girl with the Dragon Tattoo, The',\n",
       " 'Glengarry Glen Gross',\n",
       " 'Godfather Part III, The',\n",
       " 'Good Girl, The',\n",
       " 'Graduate, The',\n",
       " 'Grapes of Wrath, The',\n",
       " 'Green Mile, The',\n",
       " 'Grifters, The',\n",
       " 'Grosse Point Blank',\n",
       " 'Grudge, The',\n",
       " 'Hangover, The',\n",
       " 'Harold and Kumar Go to White Castle',\n",
       " 'Hebrew Hammer, The',\n",
       " 'Hellboy 2: The Golden Army']"
      ]
     },
     "execution_count": 216,
     "metadata": {},
     "output_type": "execute_result"
    }
   ],
   "source": [
    "list(df_scores1[df_scores1['IMDb_score'].isna()]['titles'])"
   ]
  },
  {
   "cell_type": "code",
   "execution_count": null,
   "metadata": {},
   "outputs": [],
   "source": []
  }
 ],
 "metadata": {
  "kernelspec": {
   "display_name": "Python 3",
   "language": "python",
   "name": "python3"
  },
  "language_info": {
   "codemirror_mode": {
    "name": "ipython",
    "version": 3
   },
   "file_extension": ".py",
   "mimetype": "text/x-python",
   "name": "python",
   "nbconvert_exporter": "python",
   "pygments_lexer": "ipython3",
   "version": "3.7.4"
  }
 },
 "nbformat": 4,
 "nbformat_minor": 4
}
