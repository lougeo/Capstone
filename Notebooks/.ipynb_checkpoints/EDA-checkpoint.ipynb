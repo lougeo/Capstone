{
 "cells": [
  {
   "cell_type": "markdown",
   "metadata": {},
   "source": [
    "# Louis George    \n",
    "\n",
    "## Cleaning, and EDA of Scraped Script and Score Data"
   ]
  },
  {
   "cell_type": "code",
   "execution_count": 1,
   "metadata": {},
   "outputs": [],
   "source": [
    "import numpy as np\n",
    "import pandas as pd\n",
    "\n",
    "import re\n",
    "import json\n",
    "\n",
    "import matplotlib.pyplot as plt\n",
    "%matplotlib inline\n",
    "\n",
    "import warnings\n",
    "warnings.filterwarnings('ignore')"
   ]
  },
  {
   "cell_type": "markdown",
   "metadata": {},
   "source": [
    "## IMSDb Data"
   ]
  },
  {
   "cell_type": "code",
   "execution_count": 2,
   "metadata": {},
   "outputs": [],
   "source": [
    "df = pd.read_csv('../../data/scripts_upto_all.csv', index_col='Unnamed: 0')"
   ]
  },
  {
   "cell_type": "code",
   "execution_count": 3,
   "metadata": {},
   "outputs": [
    {
     "data": {
      "text/html": [
       "<div>\n",
       "<style scoped>\n",
       "    .dataframe tbody tr th:only-of-type {\n",
       "        vertical-align: middle;\n",
       "    }\n",
       "\n",
       "    .dataframe tbody tr th {\n",
       "        vertical-align: top;\n",
       "    }\n",
       "\n",
       "    .dataframe thead th {\n",
       "        text-align: right;\n",
       "    }\n",
       "</style>\n",
       "<table border=\"1\" class=\"dataframe\">\n",
       "  <thead>\n",
       "    <tr style=\"text-align: right;\">\n",
       "      <th></th>\n",
       "      <th>titles</th>\n",
       "      <th>scripts</th>\n",
       "      <th>genres</th>\n",
       "    </tr>\n",
       "  </thead>\n",
       "  <tbody>\n",
       "    <tr>\n",
       "      <th>0</th>\n",
       "      <td>10 Things I Hate About You</td>\n",
       "      <td>TEN THINGS I HA...</td>\n",
       "      <td>['Action', 'Adventure', 'Animation', 'Comedy',...</td>\n",
       "    </tr>\n",
       "    <tr>\n",
       "      <th>1</th>\n",
       "      <td>12</td>\n",
       "      <td>\\n  \\n\\n\\n\\n\\nCUT FROM BLACK\\n\\nTITLE: FIN\\n...</td>\n",
       "      <td>['Action', 'Adventure', 'Animation', 'Comedy',...</td>\n",
       "    </tr>\n",
       "  </tbody>\n",
       "</table>\n",
       "</div>"
      ],
      "text/plain": [
       "                       titles  \\\n",
       "0  10 Things I Hate About You   \n",
       "1                          12   \n",
       "\n",
       "                                             scripts  \\\n",
       "0                                 TEN THINGS I HA...   \n",
       "1    \\n  \\n\\n\\n\\n\\nCUT FROM BLACK\\n\\nTITLE: FIN\\n...   \n",
       "\n",
       "                                              genres  \n",
       "0  ['Action', 'Adventure', 'Animation', 'Comedy',...  \n",
       "1  ['Action', 'Adventure', 'Animation', 'Comedy',...  "
      ]
     },
     "execution_count": 3,
     "metadata": {},
     "output_type": "execute_result"
    }
   ],
   "source": [
    "df.head(2)"
   ]
  },
  {
   "cell_type": "code",
   "execution_count": 4,
   "metadata": {},
   "outputs": [
    {
     "data": {
      "text/plain": [
       "(1210, 3)"
      ]
     },
     "execution_count": 4,
     "metadata": {},
     "output_type": "execute_result"
    }
   ],
   "source": [
    "df.shape"
   ]
  },
  {
   "cell_type": "code",
   "execution_count": 5,
   "metadata": {},
   "outputs": [
    {
     "name": "stdout",
     "output_type": "stream",
     "text": [
      "<class 'pandas.core.frame.DataFrame'>\n",
      "Int64Index: 1210 entries, 0 to 1209\n",
      "Data columns (total 3 columns):\n",
      " #   Column   Non-Null Count  Dtype \n",
      "---  ------   --------------  ----- \n",
      " 0   titles   1210 non-null   object\n",
      " 1   scripts  1145 non-null   object\n",
      " 2   genres   1210 non-null   object\n",
      "dtypes: object(3)\n",
      "memory usage: 37.8+ KB\n"
     ]
    }
   ],
   "source": [
    "df.info()"
   ]
  },
  {
   "cell_type": "code",
   "execution_count": 6,
   "metadata": {},
   "outputs": [
    {
     "data": {
      "text/plain": [
       "titles      0\n",
       "scripts    65\n",
       "genres      0\n",
       "dtype: int64"
      ]
     },
     "execution_count": 6,
     "metadata": {},
     "output_type": "execute_result"
    }
   ],
   "source": [
    "df.isna().sum()"
   ]
  },
  {
   "cell_type": "code",
   "execution_count": 7,
   "metadata": {},
   "outputs": [
    {
     "data": {
      "text/html": [
       "<div>\n",
       "<style scoped>\n",
       "    .dataframe tbody tr th:only-of-type {\n",
       "        vertical-align: middle;\n",
       "    }\n",
       "\n",
       "    .dataframe tbody tr th {\n",
       "        vertical-align: top;\n",
       "    }\n",
       "\n",
       "    .dataframe thead th {\n",
       "        text-align: right;\n",
       "    }\n",
       "</style>\n",
       "<table border=\"1\" class=\"dataframe\">\n",
       "  <thead>\n",
       "    <tr style=\"text-align: right;\">\n",
       "      <th></th>\n",
       "      <th>titles</th>\n",
       "      <th>scripts</th>\n",
       "      <th>genres</th>\n",
       "    </tr>\n",
       "  </thead>\n",
       "  <tbody>\n",
       "    <tr>\n",
       "      <th>17</th>\n",
       "      <td>48 Hrs.</td>\n",
       "      <td>NaN</td>\n",
       "      <td>['Action', 'Adventure', 'Animation', 'Comedy',...</td>\n",
       "    </tr>\n",
       "    <tr>\n",
       "      <th>20</th>\n",
       "      <td>8 Mile</td>\n",
       "      <td>NaN</td>\n",
       "      <td>['Action', 'Adventure', 'Animation', 'Comedy',...</td>\n",
       "    </tr>\n",
       "    <tr>\n",
       "      <th>22</th>\n",
       "      <td>9</td>\n",
       "      <td>NaN</td>\n",
       "      <td>['Action', 'Adventure', 'Animation', 'Comedy',...</td>\n",
       "    </tr>\n",
       "    <tr>\n",
       "      <th>29</th>\n",
       "      <td>A.I.</td>\n",
       "      <td>NaN</td>\n",
       "      <td>['Action', 'Adventure', 'Animation', 'Comedy',...</td>\n",
       "    </tr>\n",
       "    <tr>\n",
       "      <th>122</th>\n",
       "      <td>Back to the Future</td>\n",
       "      <td>NaN</td>\n",
       "      <td>['Action', 'Adventure', 'Animation', 'Comedy',...</td>\n",
       "    </tr>\n",
       "    <tr>\n",
       "      <th>...</th>\n",
       "      <td>...</td>\n",
       "      <td>...</td>\n",
       "      <td>...</td>\n",
       "    </tr>\n",
       "    <tr>\n",
       "      <th>1121</th>\n",
       "      <td>Troy</td>\n",
       "      <td>NaN</td>\n",
       "      <td>['Action', 'Adventure', 'Animation', 'Comedy',...</td>\n",
       "    </tr>\n",
       "    <tr>\n",
       "      <th>1136</th>\n",
       "      <td>Unforgiven</td>\n",
       "      <td>NaN</td>\n",
       "      <td>['Action', 'Adventure', 'Animation', 'Comedy',...</td>\n",
       "    </tr>\n",
       "    <tr>\n",
       "      <th>1142</th>\n",
       "      <td>Valentine's Day</td>\n",
       "      <td>NaN</td>\n",
       "      <td>['Action', 'Adventure', 'Animation', 'Comedy',...</td>\n",
       "    </tr>\n",
       "    <tr>\n",
       "      <th>1146</th>\n",
       "      <td>Vertigo</td>\n",
       "      <td>NaN</td>\n",
       "      <td>['Action', 'Adventure', 'Animation', 'Comedy',...</td>\n",
       "    </tr>\n",
       "    <tr>\n",
       "      <th>1170</th>\n",
       "      <td>When Harry Met Sally</td>\n",
       "      <td>NaN</td>\n",
       "      <td>['Action', 'Adventure', 'Animation', 'Comedy',...</td>\n",
       "    </tr>\n",
       "  </tbody>\n",
       "</table>\n",
       "<p>65 rows × 3 columns</p>\n",
       "</div>"
      ],
      "text/plain": [
       "                    titles scripts  \\\n",
       "17                 48 Hrs.     NaN   \n",
       "20                  8 Mile     NaN   \n",
       "22                       9     NaN   \n",
       "29                    A.I.     NaN   \n",
       "122     Back to the Future     NaN   \n",
       "...                    ...     ...   \n",
       "1121                  Troy     NaN   \n",
       "1136            Unforgiven     NaN   \n",
       "1142       Valentine's Day     NaN   \n",
       "1146               Vertigo     NaN   \n",
       "1170  When Harry Met Sally     NaN   \n",
       "\n",
       "                                                 genres  \n",
       "17    ['Action', 'Adventure', 'Animation', 'Comedy',...  \n",
       "20    ['Action', 'Adventure', 'Animation', 'Comedy',...  \n",
       "22    ['Action', 'Adventure', 'Animation', 'Comedy',...  \n",
       "29    ['Action', 'Adventure', 'Animation', 'Comedy',...  \n",
       "122   ['Action', 'Adventure', 'Animation', 'Comedy',...  \n",
       "...                                                 ...  \n",
       "1121  ['Action', 'Adventure', 'Animation', 'Comedy',...  \n",
       "1136  ['Action', 'Adventure', 'Animation', 'Comedy',...  \n",
       "1142  ['Action', 'Adventure', 'Animation', 'Comedy',...  \n",
       "1146  ['Action', 'Adventure', 'Animation', 'Comedy',...  \n",
       "1170  ['Action', 'Adventure', 'Animation', 'Comedy',...  \n",
       "\n",
       "[65 rows x 3 columns]"
      ]
     },
     "execution_count": 7,
     "metadata": {},
     "output_type": "execute_result"
    }
   ],
   "source": [
    "df[df['scripts'].isna()]"
   ]
  },
  {
   "cell_type": "markdown",
   "metadata": {},
   "source": [
    "After checking some of these titles, the link to the script loads a pdf, or other document type. The script that I currently have can't handle such documents. Time allowing I may revisit this.     \n",
    "\n",
    "Now because of the way my script grabbed the genres, I also grabbed a table with links to all 18 of the various genres. This table always got read before the script genres, and so by taking everything after the first 18 I should be left with each scripts respective genre."
   ]
  },
  {
   "cell_type": "code",
   "execution_count": 8,
   "metadata": {},
   "outputs": [],
   "source": [
    "for i in range(df.shape[0]):\n",
    "    df['genres'][i] = df['genres'][i].split()\n",
    "    df['genres'][i] = df['genres'][i][18:]\n",
    "    for j in range(len(df['genres'][i])):\n",
    "        temp = re.findall('[A-Za-z]', df['genres'][i][j])\n",
    "        word = ''.join(temp)\n",
    "        df['genres'][i][j] = word\n",
    "    df['genres'][i] = '|'.join(df['genres'][i])"
   ]
  },
  {
   "cell_type": "markdown",
   "metadata": {},
   "source": [
    "I will now drop all 65 of the movies which I wasn't able to obtain the script for."
   ]
  },
  {
   "cell_type": "code",
   "execution_count": 9,
   "metadata": {},
   "outputs": [],
   "source": [
    "df = df.dropna().reset_index().drop('index', axis=1)"
   ]
  },
  {
   "cell_type": "markdown",
   "metadata": {},
   "source": [
    "Need to change format of all titles with the form: \"title, The\", and \"Title: sub title\"    \n",
    "\n",
    "Turns out it handles the vast majority of the form: \"Title: sub title\" properly, and that only a handful don't go through. For that reason I am going to let them go, as there doesn't seem to be an immediatly obvious solution to capture the ones that don't go through and leave the ones that do alone (Some titles rely on both the title and sub title).   \n",
    "\n",
    "I guess that I could do it dynamically when querying: try the whole whole title, and if not correct result try with the partial title. Will do this if time permits."
   ]
  },
  {
   "cell_type": "code",
   "execution_count": 10,
   "metadata": {},
   "outputs": [],
   "source": [
    "for i in range(df.shape[0]):\n",
    "    if re.search(\"The$\", df['titles'][i]):\n",
    "        n_title = \"The \" + re.split(\", \", df['titles'][i])[0]\n",
    "        df['titles'][i] = n_title"
   ]
  },
  {
   "cell_type": "markdown",
   "metadata": {},
   "source": [
    "Now to save the titles as a csv for use to cross reference against the OMDb API and get the scores."
   ]
  },
  {
   "cell_type": "code",
   "execution_count": 11,
   "metadata": {},
   "outputs": [],
   "source": [
    "df['titles'].to_csv('../../data/movie_titles.csv', header='titles')"
   ]
  },
  {
   "cell_type": "markdown",
   "metadata": {},
   "source": [
    "## OMDB API Data"
   ]
  },
  {
   "cell_type": "markdown",
   "metadata": {},
   "source": [
    "First set, and initial investigation as I wait for the second set:"
   ]
  },
  {
   "cell_type": "code",
   "execution_count": 12,
   "metadata": {},
   "outputs": [],
   "source": [
    "df_scores1 = pd.read_csv('../../data/movie_info1.csv').drop('Unnamed: 0', axis=1)"
   ]
  },
  {
   "cell_type": "code",
   "execution_count": 13,
   "metadata": {},
   "outputs": [
    {
     "data": {
      "text/html": [
       "<div>\n",
       "<style scoped>\n",
       "    .dataframe tbody tr th:only-of-type {\n",
       "        vertical-align: middle;\n",
       "    }\n",
       "\n",
       "    .dataframe tbody tr th {\n",
       "        vertical-align: top;\n",
       "    }\n",
       "\n",
       "    .dataframe thead th {\n",
       "        text-align: right;\n",
       "    }\n",
       "</style>\n",
       "<table border=\"1\" class=\"dataframe\">\n",
       "  <thead>\n",
       "    <tr style=\"text-align: right;\">\n",
       "      <th></th>\n",
       "      <th>titles</th>\n",
       "      <th>info</th>\n",
       "    </tr>\n",
       "  </thead>\n",
       "  <tbody>\n",
       "    <tr>\n",
       "      <th>0</th>\n",
       "      <td>10 Things I Hate About You</td>\n",
       "      <td>{\"Title\":\"10 Things I Hate About You\",\"Year\":\"...</td>\n",
       "    </tr>\n",
       "    <tr>\n",
       "      <th>1</th>\n",
       "      <td>12</td>\n",
       "      <td>{\"Title\":\"12\",\"Year\":\"2007\",\"Rated\":\"PG-13\",\"R...</td>\n",
       "    </tr>\n",
       "    <tr>\n",
       "      <th>2</th>\n",
       "      <td>12 and Holding</td>\n",
       "      <td>{\"Title\":\"12 and Holding\",\"Year\":\"2005\",\"Rated...</td>\n",
       "    </tr>\n",
       "    <tr>\n",
       "      <th>3</th>\n",
       "      <td>12 Monkeys</td>\n",
       "      <td>{\"Title\":\"12 Monkeys\",\"Year\":\"1995\",\"Rated\":\"R...</td>\n",
       "    </tr>\n",
       "    <tr>\n",
       "      <th>4</th>\n",
       "      <td>12 Years a Slave</td>\n",
       "      <td>{\"Title\":\"12 Years a Slave\",\"Year\":\"2013\",\"Rat...</td>\n",
       "    </tr>\n",
       "  </tbody>\n",
       "</table>\n",
       "</div>"
      ],
      "text/plain": [
       "                       titles  \\\n",
       "0  10 Things I Hate About You   \n",
       "1                          12   \n",
       "2              12 and Holding   \n",
       "3                  12 Monkeys   \n",
       "4            12 Years a Slave   \n",
       "\n",
       "                                                info  \n",
       "0  {\"Title\":\"10 Things I Hate About You\",\"Year\":\"...  \n",
       "1  {\"Title\":\"12\",\"Year\":\"2007\",\"Rated\":\"PG-13\",\"R...  \n",
       "2  {\"Title\":\"12 and Holding\",\"Year\":\"2005\",\"Rated...  \n",
       "3  {\"Title\":\"12 Monkeys\",\"Year\":\"1995\",\"Rated\":\"R...  \n",
       "4  {\"Title\":\"12 Years a Slave\",\"Year\":\"2013\",\"Rat...  "
      ]
     },
     "execution_count": 13,
     "metadata": {},
     "output_type": "execute_result"
    }
   ],
   "source": [
    "df_scores1.head()"
   ]
  },
  {
   "cell_type": "code",
   "execution_count": 14,
   "metadata": {},
   "outputs": [
    {
     "data": {
      "text/plain": [
       "titles    False\n",
       "info      False\n",
       "dtype: bool"
      ]
     },
     "execution_count": 14,
     "metadata": {},
     "output_type": "execute_result"
    }
   ],
   "source": [
    "df_scores1.isna().any()"
   ]
  },
  {
   "cell_type": "code",
   "execution_count": 15,
   "metadata": {},
   "outputs": [],
   "source": [
    "temp = json.loads(df_scores1['info'][9])"
   ]
  },
  {
   "cell_type": "code",
   "execution_count": 16,
   "metadata": {},
   "outputs": [
    {
     "data": {
      "text/plain": [
       "{'Title': '187',\n",
       " 'Year': '2016',\n",
       " 'Rated': 'N/A',\n",
       " 'Released': '19 Sep 2016',\n",
       " 'Runtime': 'N/A',\n",
       " 'Genre': 'Short, Crime',\n",
       " 'Director': 'Hecht Amar',\n",
       " 'Writer': 'N/A',\n",
       " 'Actors': 'Hecht Amar, Mattia Bianchi',\n",
       " 'Plot': 'N/A',\n",
       " 'Language': 'English',\n",
       " 'Country': 'USA',\n",
       " 'Awards': 'N/A',\n",
       " 'Poster': 'https://m.media-amazon.com/images/M/MV5BMTg0NjYxZjQtNGY5Yy00OTNkLWEzODgtN2M2ZTAwMTU4YjBjL2ltYWdlL2ltYWdlXkEyXkFqcGdeQXVyMzI5OTA2MjM@._V1_SX300.jpg',\n",
       " 'Ratings': [],\n",
       " 'Metascore': 'N/A',\n",
       " 'imdbRating': 'N/A',\n",
       " 'imdbVotes': 'N/A',\n",
       " 'imdbID': 'tt6217824',\n",
       " 'Type': 'movie',\n",
       " 'DVD': 'N/A',\n",
       " 'BoxOffice': 'N/A',\n",
       " 'Production': 'N/A',\n",
       " 'Website': 'N/A',\n",
       " 'Response': 'True'}"
      ]
     },
     "execution_count": 16,
     "metadata": {},
     "output_type": "execute_result"
    }
   ],
   "source": [
    "temp"
   ]
  },
  {
   "cell_type": "markdown",
   "metadata": {},
   "source": [
    "**Function which gets all of the target data out of the json:**"
   ]
  },
  {
   "cell_type": "code",
   "execution_count": 17,
   "metadata": {},
   "outputs": [],
   "source": [
    "def get_scores(df):\n",
    "    df['IMDb_score'], df['RT_score'], df['Meta_score'], df['box_office'], df['ID'] = np.nan, np.nan, np.nan, np.nan, np.nan\n",
    "\n",
    "    for i in range(df.shape[0]):\n",
    "        temp = json.loads(df['info'][i])\n",
    "        try:\n",
    "            for j in temp['Ratings']:\n",
    "                if j['Source'] == 'Internet Movie Database':\n",
    "                    df['IMDb_score'][i] = j['Value']\n",
    "                elif j['Source'] == 'Rotten Tomatoes':\n",
    "                    df['RT_score'][i] = j['Value']\n",
    "                elif j['Source'] == 'Metacritic':\n",
    "                    df['Meta_score'][i] = j['Value']\n",
    "            df['box_office'][i] = temp['BoxOffice']\n",
    "            df['ID'][i] = temp['imdbID']\n",
    "        except:\n",
    "            #print(\"Exception triggered\")\n",
    "            df['IMDb_score'][i] = np.nan\n",
    "            df['RT_score'][i] = np.nan\n",
    "            df['Meta_score'][i] = np.nan\n",
    "            df['box_office'][i] = np.nan"
   ]
  },
  {
   "cell_type": "code",
   "execution_count": 18,
   "metadata": {},
   "outputs": [],
   "source": [
    "get_scores(df_scores1)"
   ]
  },
  {
   "cell_type": "code",
   "execution_count": 19,
   "metadata": {},
   "outputs": [
    {
     "data": {
      "text/html": [
       "<div>\n",
       "<style scoped>\n",
       "    .dataframe tbody tr th:only-of-type {\n",
       "        vertical-align: middle;\n",
       "    }\n",
       "\n",
       "    .dataframe tbody tr th {\n",
       "        vertical-align: top;\n",
       "    }\n",
       "\n",
       "    .dataframe thead th {\n",
       "        text-align: right;\n",
       "    }\n",
       "</style>\n",
       "<table border=\"1\" class=\"dataframe\">\n",
       "  <thead>\n",
       "    <tr style=\"text-align: right;\">\n",
       "      <th></th>\n",
       "      <th>titles</th>\n",
       "      <th>info</th>\n",
       "      <th>IMDb_score</th>\n",
       "      <th>RT_score</th>\n",
       "      <th>Meta_score</th>\n",
       "      <th>box_office</th>\n",
       "      <th>ID</th>\n",
       "    </tr>\n",
       "  </thead>\n",
       "  <tbody>\n",
       "    <tr>\n",
       "      <th>0</th>\n",
       "      <td>10 Things I Hate About You</td>\n",
       "      <td>{\"Title\":\"10 Things I Hate About You\",\"Year\":\"...</td>\n",
       "      <td>7.3/10</td>\n",
       "      <td>68%</td>\n",
       "      <td>70/100</td>\n",
       "      <td>N/A</td>\n",
       "      <td>tt0147800</td>\n",
       "    </tr>\n",
       "    <tr>\n",
       "      <th>1</th>\n",
       "      <td>12</td>\n",
       "      <td>{\"Title\":\"12\",\"Year\":\"2007\",\"Rated\":\"PG-13\",\"R...</td>\n",
       "      <td>7.7/10</td>\n",
       "      <td>76%</td>\n",
       "      <td>72/100</td>\n",
       "      <td>N/A</td>\n",
       "      <td>tt0488478</td>\n",
       "    </tr>\n",
       "    <tr>\n",
       "      <th>2</th>\n",
       "      <td>12 and Holding</td>\n",
       "      <td>{\"Title\":\"12 and Holding\",\"Year\":\"2005\",\"Rated...</td>\n",
       "      <td>7.5/10</td>\n",
       "      <td>73%</td>\n",
       "      <td>65/100</td>\n",
       "      <td>N/A</td>\n",
       "      <td>tt0417385</td>\n",
       "    </tr>\n",
       "    <tr>\n",
       "      <th>3</th>\n",
       "      <td>12 Monkeys</td>\n",
       "      <td>{\"Title\":\"12 Monkeys\",\"Year\":\"1995\",\"Rated\":\"R...</td>\n",
       "      <td>8.0/10</td>\n",
       "      <td>89%</td>\n",
       "      <td>74/100</td>\n",
       "      <td>N/A</td>\n",
       "      <td>tt0114746</td>\n",
       "    </tr>\n",
       "    <tr>\n",
       "      <th>4</th>\n",
       "      <td>12 Years a Slave</td>\n",
       "      <td>{\"Title\":\"12 Years a Slave\",\"Year\":\"2013\",\"Rat...</td>\n",
       "      <td>8.1/10</td>\n",
       "      <td>95%</td>\n",
       "      <td>96/100</td>\n",
       "      <td>$50,628,650</td>\n",
       "      <td>tt2024544</td>\n",
       "    </tr>\n",
       "  </tbody>\n",
       "</table>\n",
       "</div>"
      ],
      "text/plain": [
       "                       titles  \\\n",
       "0  10 Things I Hate About You   \n",
       "1                          12   \n",
       "2              12 and Holding   \n",
       "3                  12 Monkeys   \n",
       "4            12 Years a Slave   \n",
       "\n",
       "                                                info IMDb_score RT_score  \\\n",
       "0  {\"Title\":\"10 Things I Hate About You\",\"Year\":\"...     7.3/10      68%   \n",
       "1  {\"Title\":\"12\",\"Year\":\"2007\",\"Rated\":\"PG-13\",\"R...     7.7/10      76%   \n",
       "2  {\"Title\":\"12 and Holding\",\"Year\":\"2005\",\"Rated...     7.5/10      73%   \n",
       "3  {\"Title\":\"12 Monkeys\",\"Year\":\"1995\",\"Rated\":\"R...     8.0/10      89%   \n",
       "4  {\"Title\":\"12 Years a Slave\",\"Year\":\"2013\",\"Rat...     8.1/10      95%   \n",
       "\n",
       "  Meta_score   box_office         ID  \n",
       "0     70/100          N/A  tt0147800  \n",
       "1     72/100          N/A  tt0488478  \n",
       "2     65/100          N/A  tt0417385  \n",
       "3     74/100          N/A  tt0114746  \n",
       "4     96/100  $50,628,650  tt2024544  "
      ]
     },
     "execution_count": 19,
     "metadata": {},
     "output_type": "execute_result"
    }
   ],
   "source": [
    "df_scores1.head()"
   ]
  },
  {
   "cell_type": "code",
   "execution_count": 20,
   "metadata": {},
   "outputs": [
    {
     "data": {
      "text/plain": [
       "titles         0\n",
       "info           0\n",
       "IMDb_score    27\n",
       "RT_score      58\n",
       "Meta_score    72\n",
       "box_office    24\n",
       "ID            24\n",
       "dtype: int64"
      ]
     },
     "execution_count": 20,
     "metadata": {},
     "output_type": "execute_result"
    }
   ],
   "source": [
    "df_scores1.isna().sum()"
   ]
  },
  {
   "cell_type": "code",
   "execution_count": 21,
   "metadata": {},
   "outputs": [
    {
     "data": {
      "text/html": [
       "<div>\n",
       "<style scoped>\n",
       "    .dataframe tbody tr th:only-of-type {\n",
       "        vertical-align: middle;\n",
       "    }\n",
       "\n",
       "    .dataframe tbody tr th {\n",
       "        vertical-align: top;\n",
       "    }\n",
       "\n",
       "    .dataframe thead th {\n",
       "        text-align: right;\n",
       "    }\n",
       "</style>\n",
       "<table border=\"1\" class=\"dataframe\">\n",
       "  <thead>\n",
       "    <tr style=\"text-align: right;\">\n",
       "      <th></th>\n",
       "      <th>titles</th>\n",
       "      <th>info</th>\n",
       "      <th>IMDb_score</th>\n",
       "      <th>RT_score</th>\n",
       "      <th>Meta_score</th>\n",
       "      <th>box_office</th>\n",
       "      <th>ID</th>\n",
       "    </tr>\n",
       "  </thead>\n",
       "  <tbody>\n",
       "    <tr>\n",
       "      <th>9</th>\n",
       "      <td>187</td>\n",
       "      <td>{\"Title\":\"187\",\"Year\":\"2016\",\"Rated\":\"N/A\",\"Re...</td>\n",
       "      <td>NaN</td>\n",
       "      <td>NaN</td>\n",
       "      <td>NaN</td>\n",
       "      <td>N/A</td>\n",
       "      <td>tt6217824</td>\n",
       "    </tr>\n",
       "    <tr>\n",
       "      <th>17</th>\n",
       "      <td>50-50</td>\n",
       "      <td>{\"Title\":\"50-50\",\"Year\":\"2011\",\"Rated\":\"N/A\",\"...</td>\n",
       "      <td>6.1/10</td>\n",
       "      <td>NaN</td>\n",
       "      <td>NaN</td>\n",
       "      <td>N/A</td>\n",
       "      <td>tt1833204</td>\n",
       "    </tr>\n",
       "    <tr>\n",
       "      <th>30</th>\n",
       "      <td>Adaptation</td>\n",
       "      <td>{\"Title\":\"Adaptation\",\"Year\":\"2019–\",\"Rated\":\"...</td>\n",
       "      <td>NaN</td>\n",
       "      <td>NaN</td>\n",
       "      <td>NaN</td>\n",
       "      <td>NaN</td>\n",
       "      <td>NaN</td>\n",
       "    </tr>\n",
       "    <tr>\n",
       "      <th>33</th>\n",
       "      <td>The Adventures of Buckaroo Banzai Across the E...</td>\n",
       "      <td>{\"Response\":\"False\",\"Error\":\"Movie not found!\"}</td>\n",
       "      <td>NaN</td>\n",
       "      <td>NaN</td>\n",
       "      <td>NaN</td>\n",
       "      <td>NaN</td>\n",
       "      <td>NaN</td>\n",
       "    </tr>\n",
       "    <tr>\n",
       "      <th>35</th>\n",
       "      <td>After School Special</td>\n",
       "      <td>{\"Title\":\"After School Special\",\"Year\":\"2017\",...</td>\n",
       "      <td>2.3/10</td>\n",
       "      <td>NaN</td>\n",
       "      <td>NaN</td>\n",
       "      <td>N/A</td>\n",
       "      <td>tt3291632</td>\n",
       "    </tr>\n",
       "  </tbody>\n",
       "</table>\n",
       "</div>"
      ],
      "text/plain": [
       "                                               titles  \\\n",
       "9                                                 187   \n",
       "17                                              50-50   \n",
       "30                                         Adaptation   \n",
       "33  The Adventures of Buckaroo Banzai Across the E...   \n",
       "35                               After School Special   \n",
       "\n",
       "                                                 info IMDb_score RT_score  \\\n",
       "9   {\"Title\":\"187\",\"Year\":\"2016\",\"Rated\":\"N/A\",\"Re...        NaN      NaN   \n",
       "17  {\"Title\":\"50-50\",\"Year\":\"2011\",\"Rated\":\"N/A\",\"...     6.1/10      NaN   \n",
       "30  {\"Title\":\"Adaptation\",\"Year\":\"2019–\",\"Rated\":\"...        NaN      NaN   \n",
       "33    {\"Response\":\"False\",\"Error\":\"Movie not found!\"}        NaN      NaN   \n",
       "35  {\"Title\":\"After School Special\",\"Year\":\"2017\",...     2.3/10      NaN   \n",
       "\n",
       "   Meta_score box_office         ID  \n",
       "9         NaN        N/A  tt6217824  \n",
       "17        NaN        N/A  tt1833204  \n",
       "30        NaN        NaN        NaN  \n",
       "33        NaN        NaN        NaN  \n",
       "35        NaN        N/A  tt3291632  "
      ]
     },
     "execution_count": 21,
     "metadata": {},
     "output_type": "execute_result"
    }
   ],
   "source": [
    "df_scores1[df_scores1['RT_score'].isna()].head()"
   ]
  },
  {
   "cell_type": "markdown",
   "metadata": {},
   "source": [
    "**Function which cleans up the score features:**"
   ]
  },
  {
   "cell_type": "code",
   "execution_count": 22,
   "metadata": {},
   "outputs": [],
   "source": [
    "def score_cleaner(df, col):\n",
    "    for i in range(df.shape[0]):\n",
    "        try:\n",
    "            if col[i] == 'N/A':\n",
    "                col[i] = np.nan\n",
    "            elif '/' in col[i]:\n",
    "                y = col[i].split('/')\n",
    "                col[i] = round(float(y[0]) / float(y[1]), 2)\n",
    "            elif '%' in col[i]:\n",
    "                col[i] = round(int(col[i].split('%')[0]) / 100, 2)\n",
    "            elif (\"$\" in col[i]) | (\"estimated\" in col[i]):\n",
    "                col[i] = int(''.join(re.findall('[0-9]', col[i])))\n",
    "        except:\n",
    "            continue"
   ]
  },
  {
   "cell_type": "code",
   "execution_count": 23,
   "metadata": {},
   "outputs": [],
   "source": [
    "score_cleaner(df_scores1, df_scores1['IMDb_score'])\n",
    "score_cleaner(df_scores1, df_scores1['RT_score'])\n",
    "score_cleaner(df_scores1, df_scores1['Meta_score'])\n",
    "score_cleaner(df_scores1, df_scores1['box_office'])"
   ]
  },
  {
   "cell_type": "code",
   "execution_count": 24,
   "metadata": {},
   "outputs": [
    {
     "data": {
      "text/plain": [
       "titles          0\n",
       "info            0\n",
       "IMDb_score     27\n",
       "RT_score       58\n",
       "Meta_score     72\n",
       "box_office    312\n",
       "ID             24\n",
       "dtype: int64"
      ]
     },
     "execution_count": 24,
     "metadata": {},
     "output_type": "execute_result"
    }
   ],
   "source": [
    "df_scores1.isna().sum()"
   ]
  },
  {
   "cell_type": "markdown",
   "metadata": {},
   "source": [
    "____________________________________________________\n",
    "**Second set:**"
   ]
  },
  {
   "cell_type": "code",
   "execution_count": 25,
   "metadata": {},
   "outputs": [],
   "source": [
    "df_scores2 = pd.read_csv('../../data/movie_info2.csv').drop('Unnamed: 0', axis=1)"
   ]
  },
  {
   "cell_type": "code",
   "execution_count": 26,
   "metadata": {},
   "outputs": [
    {
     "data": {
      "text/plain": [
       "(645, 2)"
      ]
     },
     "execution_count": 26,
     "metadata": {},
     "output_type": "execute_result"
    }
   ],
   "source": [
    "df_scores2.shape"
   ]
  },
  {
   "cell_type": "code",
   "execution_count": 27,
   "metadata": {},
   "outputs": [],
   "source": [
    "get_scores(df_scores2)\n",
    "score_cleaner(df_scores2, df_scores2['IMDb_score'])\n",
    "score_cleaner(df_scores2, df_scores2['RT_score'])\n",
    "score_cleaner(df_scores2, df_scores2['Meta_score'])\n",
    "score_cleaner(df_scores2, df_scores2['box_office'])"
   ]
  },
  {
   "cell_type": "code",
   "execution_count": 28,
   "metadata": {},
   "outputs": [
    {
     "data": {
      "text/html": [
       "<div>\n",
       "<style scoped>\n",
       "    .dataframe tbody tr th:only-of-type {\n",
       "        vertical-align: middle;\n",
       "    }\n",
       "\n",
       "    .dataframe tbody tr th {\n",
       "        vertical-align: top;\n",
       "    }\n",
       "\n",
       "    .dataframe thead th {\n",
       "        text-align: right;\n",
       "    }\n",
       "</style>\n",
       "<table border=\"1\" class=\"dataframe\">\n",
       "  <thead>\n",
       "    <tr style=\"text-align: right;\">\n",
       "      <th></th>\n",
       "      <th>titles</th>\n",
       "      <th>info</th>\n",
       "      <th>IMDb_score</th>\n",
       "      <th>RT_score</th>\n",
       "      <th>Meta_score</th>\n",
       "      <th>box_office</th>\n",
       "      <th>ID</th>\n",
       "    </tr>\n",
       "  </thead>\n",
       "  <tbody>\n",
       "    <tr>\n",
       "      <th>0</th>\n",
       "      <td>Hellraiser</td>\n",
       "      <td>{\"Title\":\"Hellraiser\",\"Year\":\"1987\",\"Rated\":\"R...</td>\n",
       "      <td>0.7</td>\n",
       "      <td>0.7</td>\n",
       "      <td>0.57</td>\n",
       "      <td>NaN</td>\n",
       "      <td>tt0093177</td>\n",
       "    </tr>\n",
       "    <tr>\n",
       "      <th>1</th>\n",
       "      <td>Hellraiser 3: Hell on Earth</td>\n",
       "      <td>{\"Response\":\"False\",\"Error\":\"Movie not found!\"}</td>\n",
       "      <td>NaN</td>\n",
       "      <td>NaN</td>\n",
       "      <td>NaN</td>\n",
       "      <td>NaN</td>\n",
       "      <td>NaN</td>\n",
       "    </tr>\n",
       "    <tr>\n",
       "      <th>2</th>\n",
       "      <td>Hellraiser: Deader</td>\n",
       "      <td>{\"Title\":\"Hellraiser: Deader\",\"Year\":\"2005\",\"R...</td>\n",
       "      <td>0.46</td>\n",
       "      <td>0.17</td>\n",
       "      <td>NaN</td>\n",
       "      <td>NaN</td>\n",
       "      <td>tt0337636</td>\n",
       "    </tr>\n",
       "    <tr>\n",
       "      <th>3</th>\n",
       "      <td>Hellraiser: Hellseeker</td>\n",
       "      <td>{\"Title\":\"Hellraiser: Hellseeker\",\"Year\":\"2002...</td>\n",
       "      <td>0.5</td>\n",
       "      <td>0</td>\n",
       "      <td>0.46</td>\n",
       "      <td>NaN</td>\n",
       "      <td>tt0274546</td>\n",
       "    </tr>\n",
       "    <tr>\n",
       "      <th>4</th>\n",
       "      <td>The Help</td>\n",
       "      <td>{\"Title\":\"The Help\",\"Year\":\"2011\",\"Rated\":\"PG-...</td>\n",
       "      <td>0.81</td>\n",
       "      <td>0.76</td>\n",
       "      <td>0.62</td>\n",
       "      <td>169705587</td>\n",
       "      <td>tt1454029</td>\n",
       "    </tr>\n",
       "  </tbody>\n",
       "</table>\n",
       "</div>"
      ],
      "text/plain": [
       "                        titles  \\\n",
       "0                   Hellraiser   \n",
       "1  Hellraiser 3: Hell on Earth   \n",
       "2           Hellraiser: Deader   \n",
       "3       Hellraiser: Hellseeker   \n",
       "4                     The Help   \n",
       "\n",
       "                                                info IMDb_score RT_score  \\\n",
       "0  {\"Title\":\"Hellraiser\",\"Year\":\"1987\",\"Rated\":\"R...        0.7      0.7   \n",
       "1    {\"Response\":\"False\",\"Error\":\"Movie not found!\"}        NaN      NaN   \n",
       "2  {\"Title\":\"Hellraiser: Deader\",\"Year\":\"2005\",\"R...       0.46     0.17   \n",
       "3  {\"Title\":\"Hellraiser: Hellseeker\",\"Year\":\"2002...        0.5        0   \n",
       "4  {\"Title\":\"The Help\",\"Year\":\"2011\",\"Rated\":\"PG-...       0.81     0.76   \n",
       "\n",
       "  Meta_score box_office         ID  \n",
       "0       0.57        NaN  tt0093177  \n",
       "1        NaN        NaN        NaN  \n",
       "2        NaN        NaN  tt0337636  \n",
       "3       0.46        NaN  tt0274546  \n",
       "4       0.62  169705587  tt1454029  "
      ]
     },
     "execution_count": 28,
     "metadata": {},
     "output_type": "execute_result"
    }
   ],
   "source": [
    "df_scores2.head()"
   ]
  },
  {
   "cell_type": "code",
   "execution_count": 29,
   "metadata": {},
   "outputs": [
    {
     "data": {
      "text/plain": [
       "titles          0\n",
       "info            0\n",
       "IMDb_score     38\n",
       "RT_score       79\n",
       "Meta_score    114\n",
       "box_office    354\n",
       "ID             33\n",
       "dtype: int64"
      ]
     },
     "execution_count": 29,
     "metadata": {},
     "output_type": "execute_result"
    }
   ],
   "source": [
    "df_scores2.isna().sum()"
   ]
  },
  {
   "cell_type": "markdown",
   "metadata": {},
   "source": [
    "__________________________________\n",
    "\n",
    "Judging from the results of the omdbapi scraping, the box office revenue, and Metacritic score are unusable, and I will have to drop those columns entirely.    \n",
    "\n",
    "I will have to drop about 10% of the remainder of my rows in order to use Rotten Tomatoes, and IMDb scores.    \n",
    "\n",
    "Overall this isn't ideal, as my dataset is already relatively small. If time permits, I may revisit the scraper and try to optimize more.\n",
    "\n",
    "__________________________________"
   ]
  },
  {
   "cell_type": "markdown",
   "metadata": {},
   "source": [
    "From these figures it would appear as though we need to drop box office, however we are given the imdb movie ID, which will allow me to scrape their website relatively easily (ie sans Selenium). I'll do that and see if I can get enough data to work with.\n",
    "\n",
    "For that I need to export the IDs for the scraper to do it's thing. To do this, as well as proceed with the project anyway I will need to join the two dataframes:"
   ]
  },
  {
   "cell_type": "code",
   "execution_count": 30,
   "metadata": {},
   "outputs": [],
   "source": [
    "df_scores1 = df_scores1.drop(['info', 'Meta_score', 'box_office'], axis=1)\n",
    "df_scores2 = df_scores2.drop(['info', 'Meta_score', 'box_office'], axis=1)\n",
    "df_scores = pd.concat([df_scores1, df_scores2], axis=0).reset_index(drop=True)"
   ]
  },
  {
   "cell_type": "code",
   "execution_count": 31,
   "metadata": {},
   "outputs": [
    {
     "data": {
      "text/html": [
       "<div>\n",
       "<style scoped>\n",
       "    .dataframe tbody tr th:only-of-type {\n",
       "        vertical-align: middle;\n",
       "    }\n",
       "\n",
       "    .dataframe tbody tr th {\n",
       "        vertical-align: top;\n",
       "    }\n",
       "\n",
       "    .dataframe thead th {\n",
       "        text-align: right;\n",
       "    }\n",
       "</style>\n",
       "<table border=\"1\" class=\"dataframe\">\n",
       "  <thead>\n",
       "    <tr style=\"text-align: right;\">\n",
       "      <th></th>\n",
       "      <th>titles</th>\n",
       "      <th>IMDb_score</th>\n",
       "      <th>RT_score</th>\n",
       "      <th>ID</th>\n",
       "    </tr>\n",
       "  </thead>\n",
       "  <tbody>\n",
       "    <tr>\n",
       "      <th>0</th>\n",
       "      <td>10 Things I Hate About You</td>\n",
       "      <td>0.73</td>\n",
       "      <td>0.68</td>\n",
       "      <td>tt0147800</td>\n",
       "    </tr>\n",
       "    <tr>\n",
       "      <th>1</th>\n",
       "      <td>12</td>\n",
       "      <td>0.77</td>\n",
       "      <td>0.76</td>\n",
       "      <td>tt0488478</td>\n",
       "    </tr>\n",
       "    <tr>\n",
       "      <th>2</th>\n",
       "      <td>12 and Holding</td>\n",
       "      <td>0.75</td>\n",
       "      <td>0.73</td>\n",
       "      <td>tt0417385</td>\n",
       "    </tr>\n",
       "    <tr>\n",
       "      <th>3</th>\n",
       "      <td>12 Monkeys</td>\n",
       "      <td>0.8</td>\n",
       "      <td>0.89</td>\n",
       "      <td>tt0114746</td>\n",
       "    </tr>\n",
       "    <tr>\n",
       "      <th>4</th>\n",
       "      <td>12 Years a Slave</td>\n",
       "      <td>0.81</td>\n",
       "      <td>0.95</td>\n",
       "      <td>tt2024544</td>\n",
       "    </tr>\n",
       "  </tbody>\n",
       "</table>\n",
       "</div>"
      ],
      "text/plain": [
       "                       titles IMDb_score RT_score         ID\n",
       "0  10 Things I Hate About You       0.73     0.68  tt0147800\n",
       "1                          12       0.77     0.76  tt0488478\n",
       "2              12 and Holding       0.75     0.73  tt0417385\n",
       "3                  12 Monkeys        0.8     0.89  tt0114746\n",
       "4            12 Years a Slave       0.81     0.95  tt2024544"
      ]
     },
     "execution_count": 31,
     "metadata": {},
     "output_type": "execute_result"
    }
   ],
   "source": [
    "df_scores.head()"
   ]
  },
  {
   "cell_type": "code",
   "execution_count": 32,
   "metadata": {},
   "outputs": [
    {
     "data": {
      "text/plain": [
       "(1145, 4)"
      ]
     },
     "execution_count": 32,
     "metadata": {},
     "output_type": "execute_result"
    }
   ],
   "source": [
    "df_scores.shape"
   ]
  },
  {
   "cell_type": "markdown",
   "metadata": {},
   "source": [
    "Exporting the movie ids for IMDb scraper:"
   ]
  },
  {
   "cell_type": "code",
   "execution_count": 34,
   "metadata": {},
   "outputs": [],
   "source": [
    "df_scores['ID'].to_csv('../web_scrapers/imbd_ids.csv', header='ID')"
   ]
  },
  {
   "cell_type": "markdown",
   "metadata": {},
   "source": [
    "___________________________________    \n",
    "## IMDb Data\n",
    "Importing the scraped data:"
   ]
  },
  {
   "cell_type": "code",
   "execution_count": 35,
   "metadata": {},
   "outputs": [],
   "source": [
    "df_imdb = pd.read_csv('../../data/imdb_scrape.csv', index_col='Unnamed: 0').reset_index(drop=True)"
   ]
  },
  {
   "cell_type": "code",
   "execution_count": 36,
   "metadata": {},
   "outputs": [
    {
     "data": {
      "text/plain": [
       "['Edit',\n",
       " 'Details',\n",
       " 'Country: USA',\n",
       " 'Language: English | French',\n",
       " 'Release Date: 31 March 1999 (USA) See more »',\n",
       " 'Also Known As: 10 Things I Hate About You See more »',\n",
       " 'Filming Locations: 2715 North Junett Street, Tacoma, Washington, USA See more »',\n",
       " 'Edit',\n",
       " 'Box Office',\n",
       " 'Budget:$30,000,000 (estimated)',\n",
       " 'Opening Weekend USA: $8,330,681, 4 April 1999',\n",
       " 'Gross USA: $38,178,166',\n",
       " 'Cumulative Worldwide Gross: $53,478,166',\n",
       " 'See more on IMDbPro »',\n",
       " 'Company Credits',\n",
       " 'Production Co: Touchstone Pictures, Mad Chance, Jaret Entertainment See more »',\n",
       " 'Show more on IMDbPro »',\n",
       " 'Technical Specs',\n",
       " 'Runtime: 97 min',\n",
       " 'Sound Mix: Dolby Digital | SDDS | DTS',\n",
       " 'Color: Color',\n",
       " 'Aspect Ratio: 1.85 : 1',\n",
       " 'See full technical specs »']"
      ]
     },
     "execution_count": 36,
     "metadata": {},
     "output_type": "execute_result"
    }
   ],
   "source": [
    "df_imdb['info'][0].split('\\n')"
   ]
  },
  {
   "cell_type": "code",
   "execution_count": 37,
   "metadata": {},
   "outputs": [],
   "source": [
    "df_scores['Gross_world'], df_scores['Gross_US'], df_scores['Opening_US'], df_scores['Budget'] = np.nan, np.nan, np.nan, np.nan\n",
    "\n",
    "for i in range(df_imdb.shape[0]):\n",
    "    if type(df_imdb['info'][i]) == float:\n",
    "        pass\n",
    "    else:\n",
    "        for j in df_imdb['info'][i].split('\\n'):\n",
    "            if 'Budget' in j:\n",
    "                df_scores['Budget'][i] = j\n",
    "            if 'Opening' in j:\n",
    "                df_scores['Opening_US'][i] = j\n",
    "            if 'Gross USA' in j:\n",
    "                df_scores['Gross_US'][i] = j\n",
    "            if 'Cumulative' in j:\n",
    "                df_scores['Gross_world'][i] = j"
   ]
  },
  {
   "cell_type": "code",
   "execution_count": 38,
   "metadata": {},
   "outputs": [
    {
     "data": {
      "text/plain": [
       "(1145, 2)"
      ]
     },
     "execution_count": 38,
     "metadata": {},
     "output_type": "execute_result"
    }
   ],
   "source": [
    "df_imdb.shape"
   ]
  },
  {
   "cell_type": "code",
   "execution_count": 39,
   "metadata": {},
   "outputs": [
    {
     "data": {
      "text/plain": [
       "(1145, 8)"
      ]
     },
     "execution_count": 39,
     "metadata": {},
     "output_type": "execute_result"
    }
   ],
   "source": [
    "df_scores.shape"
   ]
  },
  {
   "cell_type": "code",
   "execution_count": 40,
   "metadata": {},
   "outputs": [
    {
     "data": {
      "text/plain": [
       "ID      57\n",
       "info    58\n",
       "dtype: int64"
      ]
     },
     "execution_count": 40,
     "metadata": {},
     "output_type": "execute_result"
    }
   ],
   "source": [
    "df_imdb.isna().sum()"
   ]
  },
  {
   "cell_type": "code",
   "execution_count": 41,
   "metadata": {},
   "outputs": [
    {
     "data": {
      "text/plain": [
       "titles           0\n",
       "IMDb_score      65\n",
       "RT_score       137\n",
       "ID              57\n",
       "Gross_world    153\n",
       "Gross_US       178\n",
       "Opening_US     211\n",
       "Budget         162\n",
       "dtype: int64"
      ]
     },
     "execution_count": 41,
     "metadata": {},
     "output_type": "execute_result"
    }
   ],
   "source": [
    "df_scores.isna().sum()"
   ]
  },
  {
   "cell_type": "code",
   "execution_count": 42,
   "metadata": {},
   "outputs": [
    {
     "data": {
      "text/plain": [
       "titles           0\n",
       "IMDb_score      64\n",
       "RT_score       102\n",
       "ID              57\n",
       "Gross_world    112\n",
       "Gross_US       111\n",
       "Opening_US     116\n",
       "Budget         162\n",
       "dtype: int64"
      ]
     },
     "execution_count": 42,
     "metadata": {},
     "output_type": "execute_result"
    }
   ],
   "source": [
    "df_scores[df_scores['Budget'].isna()].isna().sum()"
   ]
  },
  {
   "cell_type": "code",
   "execution_count": 43,
   "metadata": {},
   "outputs": [
    {
     "data": {
      "text/html": [
       "<div>\n",
       "<style scoped>\n",
       "    .dataframe tbody tr th:only-of-type {\n",
       "        vertical-align: middle;\n",
       "    }\n",
       "\n",
       "    .dataframe tbody tr th {\n",
       "        vertical-align: top;\n",
       "    }\n",
       "\n",
       "    .dataframe thead th {\n",
       "        text-align: right;\n",
       "    }\n",
       "</style>\n",
       "<table border=\"1\" class=\"dataframe\">\n",
       "  <thead>\n",
       "    <tr style=\"text-align: right;\">\n",
       "      <th></th>\n",
       "      <th>titles</th>\n",
       "      <th>IMDb_score</th>\n",
       "      <th>RT_score</th>\n",
       "      <th>ID</th>\n",
       "      <th>Gross_world</th>\n",
       "      <th>Gross_US</th>\n",
       "      <th>Opening_US</th>\n",
       "      <th>Budget</th>\n",
       "    </tr>\n",
       "  </thead>\n",
       "  <tbody>\n",
       "    <tr>\n",
       "      <th>16</th>\n",
       "      <td>44 Inch Chest</td>\n",
       "      <td>0.58</td>\n",
       "      <td>0.41</td>\n",
       "      <td>tt0914837</td>\n",
       "      <td>Cumulative Worldwide Gross: $294,245</td>\n",
       "      <td>Gross USA: $39,033</td>\n",
       "      <td>Opening Weekend USA: $4,185, 17 January 2010</td>\n",
       "      <td>NaN</td>\n",
       "    </tr>\n",
       "    <tr>\n",
       "      <th>17</th>\n",
       "      <td>50-50</td>\n",
       "      <td>0.61</td>\n",
       "      <td>NaN</td>\n",
       "      <td>tt1833204</td>\n",
       "      <td>NaN</td>\n",
       "      <td>NaN</td>\n",
       "      <td>NaN</td>\n",
       "      <td>NaN</td>\n",
       "    </tr>\n",
       "    <tr>\n",
       "      <th>22</th>\n",
       "      <td>A Prayer Before Dawn</td>\n",
       "      <td>0.69</td>\n",
       "      <td>0.92</td>\n",
       "      <td>tt4080956</td>\n",
       "      <td>Cumulative Worldwide Gross: $958,883</td>\n",
       "      <td>Gross USA: $14,453</td>\n",
       "      <td>Opening Weekend USA: $14,453, 12 August 2018</td>\n",
       "      <td>NaN</td>\n",
       "    </tr>\n",
       "    <tr>\n",
       "      <th>30</th>\n",
       "      <td>Adaptation</td>\n",
       "      <td>NaN</td>\n",
       "      <td>NaN</td>\n",
       "      <td>NaN</td>\n",
       "      <td>NaN</td>\n",
       "      <td>NaN</td>\n",
       "      <td>NaN</td>\n",
       "      <td>NaN</td>\n",
       "    </tr>\n",
       "    <tr>\n",
       "      <th>33</th>\n",
       "      <td>The Adventures of Buckaroo Banzai Across the E...</td>\n",
       "      <td>NaN</td>\n",
       "      <td>NaN</td>\n",
       "      <td>NaN</td>\n",
       "      <td>NaN</td>\n",
       "      <td>NaN</td>\n",
       "      <td>NaN</td>\n",
       "      <td>NaN</td>\n",
       "    </tr>\n",
       "    <tr>\n",
       "      <th>...</th>\n",
       "      <td>...</td>\n",
       "      <td>...</td>\n",
       "      <td>...</td>\n",
       "      <td>...</td>\n",
       "      <td>...</td>\n",
       "      <td>...</td>\n",
       "      <td>...</td>\n",
       "      <td>...</td>\n",
       "    </tr>\n",
       "    <tr>\n",
       "      <th>1119</th>\n",
       "      <td>Wild Things: Diamonds in the Rough</td>\n",
       "      <td>0.45</td>\n",
       "      <td>NaN</td>\n",
       "      <td>tt0448179</td>\n",
       "      <td>NaN</td>\n",
       "      <td>NaN</td>\n",
       "      <td>NaN</td>\n",
       "      <td>NaN</td>\n",
       "    </tr>\n",
       "    <tr>\n",
       "      <th>1122</th>\n",
       "      <td>Win Win</td>\n",
       "      <td>0.71</td>\n",
       "      <td>0.94</td>\n",
       "      <td>tt1606392</td>\n",
       "      <td>Cumulative Worldwide Gross: $11,789,613</td>\n",
       "      <td>Gross USA: $10,179,275</td>\n",
       "      <td>Opening Weekend USA: $150,362, 20 March 2011</td>\n",
       "      <td>NaN</td>\n",
       "    </tr>\n",
       "    <tr>\n",
       "      <th>1124</th>\n",
       "      <td>Withnail and I</td>\n",
       "      <td>0.53</td>\n",
       "      <td>NaN</td>\n",
       "      <td>tt0870218</td>\n",
       "      <td>NaN</td>\n",
       "      <td>NaN</td>\n",
       "      <td>NaN</td>\n",
       "      <td>NaN</td>\n",
       "    </tr>\n",
       "    <tr>\n",
       "      <th>1130</th>\n",
       "      <td>The Woodsman</td>\n",
       "      <td>0.72</td>\n",
       "      <td>0.88</td>\n",
       "      <td>tt0361127</td>\n",
       "      <td>Cumulative Worldwide Gross: $4,678,405</td>\n",
       "      <td>Gross USA: $1,576,231</td>\n",
       "      <td>Opening Weekend USA: $53,985, 26 December 2004</td>\n",
       "      <td>NaN</td>\n",
       "    </tr>\n",
       "    <tr>\n",
       "      <th>1133</th>\n",
       "      <td>The X-Files: Fight the Future</td>\n",
       "      <td>0.74</td>\n",
       "      <td>NaN</td>\n",
       "      <td>tt0365474</td>\n",
       "      <td>NaN</td>\n",
       "      <td>NaN</td>\n",
       "      <td>NaN</td>\n",
       "      <td>NaN</td>\n",
       "    </tr>\n",
       "  </tbody>\n",
       "</table>\n",
       "<p>162 rows × 8 columns</p>\n",
       "</div>"
      ],
      "text/plain": [
       "                                                 titles IMDb_score RT_score  \\\n",
       "16                                        44 Inch Chest       0.58     0.41   \n",
       "17                                                50-50       0.61      NaN   \n",
       "22                                 A Prayer Before Dawn       0.69     0.92   \n",
       "30                                           Adaptation        NaN      NaN   \n",
       "33    The Adventures of Buckaroo Banzai Across the E...        NaN      NaN   \n",
       "...                                                 ...        ...      ...   \n",
       "1119                 Wild Things: Diamonds in the Rough       0.45      NaN   \n",
       "1122                                            Win Win       0.71     0.94   \n",
       "1124                                     Withnail and I       0.53      NaN   \n",
       "1130                                       The Woodsman       0.72     0.88   \n",
       "1133                      The X-Files: Fight the Future       0.74      NaN   \n",
       "\n",
       "             ID                              Gross_world  \\\n",
       "16    tt0914837     Cumulative Worldwide Gross: $294,245   \n",
       "17    tt1833204                                      NaN   \n",
       "22    tt4080956     Cumulative Worldwide Gross: $958,883   \n",
       "30          NaN                                      NaN   \n",
       "33          NaN                                      NaN   \n",
       "...         ...                                      ...   \n",
       "1119  tt0448179                                      NaN   \n",
       "1122  tt1606392  Cumulative Worldwide Gross: $11,789,613   \n",
       "1124  tt0870218                                      NaN   \n",
       "1130  tt0361127   Cumulative Worldwide Gross: $4,678,405   \n",
       "1133  tt0365474                                      NaN   \n",
       "\n",
       "                    Gross_US                                      Opening_US  \\\n",
       "16        Gross USA: $39,033    Opening Weekend USA: $4,185, 17 January 2010   \n",
       "17                       NaN                                             NaN   \n",
       "22        Gross USA: $14,453    Opening Weekend USA: $14,453, 12 August 2018   \n",
       "30                       NaN                                             NaN   \n",
       "33                       NaN                                             NaN   \n",
       "...                      ...                                             ...   \n",
       "1119                     NaN                                             NaN   \n",
       "1122  Gross USA: $10,179,275    Opening Weekend USA: $150,362, 20 March 2011   \n",
       "1124                     NaN                                             NaN   \n",
       "1130   Gross USA: $1,576,231  Opening Weekend USA: $53,985, 26 December 2004   \n",
       "1133                     NaN                                             NaN   \n",
       "\n",
       "     Budget  \n",
       "16      NaN  \n",
       "17      NaN  \n",
       "22      NaN  \n",
       "30      NaN  \n",
       "33      NaN  \n",
       "...     ...  \n",
       "1119    NaN  \n",
       "1122    NaN  \n",
       "1124    NaN  \n",
       "1130    NaN  \n",
       "1133    NaN  \n",
       "\n",
       "[162 rows x 8 columns]"
      ]
     },
     "execution_count": 43,
     "metadata": {},
     "output_type": "execute_result"
    }
   ],
   "source": [
    "df_scores[df_scores['Budget'].isna()]"
   ]
  },
  {
   "cell_type": "code",
   "execution_count": 44,
   "metadata": {},
   "outputs": [
    {
     "data": {
      "text/html": [
       "<div>\n",
       "<style scoped>\n",
       "    .dataframe tbody tr th:only-of-type {\n",
       "        vertical-align: middle;\n",
       "    }\n",
       "\n",
       "    .dataframe tbody tr th {\n",
       "        vertical-align: top;\n",
       "    }\n",
       "\n",
       "    .dataframe thead th {\n",
       "        text-align: right;\n",
       "    }\n",
       "</style>\n",
       "<table border=\"1\" class=\"dataframe\">\n",
       "  <thead>\n",
       "    <tr style=\"text-align: right;\">\n",
       "      <th></th>\n",
       "      <th>titles</th>\n",
       "      <th>IMDb_score</th>\n",
       "      <th>RT_score</th>\n",
       "      <th>ID</th>\n",
       "      <th>Gross_world</th>\n",
       "      <th>Gross_US</th>\n",
       "      <th>Opening_US</th>\n",
       "      <th>Budget</th>\n",
       "    </tr>\n",
       "  </thead>\n",
       "  <tbody>\n",
       "    <tr>\n",
       "      <th>0</th>\n",
       "      <td>10 Things I Hate About You</td>\n",
       "      <td>0.73</td>\n",
       "      <td>0.68</td>\n",
       "      <td>tt0147800</td>\n",
       "      <td>Cumulative Worldwide Gross: $53,478,166</td>\n",
       "      <td>Gross USA: $38,178,166</td>\n",
       "      <td>Opening Weekend USA: $8,330,681, 4 April 1999</td>\n",
       "      <td>Budget:$30,000,000 (estimated)</td>\n",
       "    </tr>\n",
       "    <tr>\n",
       "      <th>1</th>\n",
       "      <td>12</td>\n",
       "      <td>0.77</td>\n",
       "      <td>0.76</td>\n",
       "      <td>tt0488478</td>\n",
       "      <td>Cumulative Worldwide Gross: $7,537,453</td>\n",
       "      <td>Gross USA: $125,120</td>\n",
       "      <td>Opening Weekend USA: $12,042, 8 March 2009</td>\n",
       "      <td>Budget:$4,000,000 (estimated)</td>\n",
       "    </tr>\n",
       "    <tr>\n",
       "      <th>2</th>\n",
       "      <td>12 and Holding</td>\n",
       "      <td>0.75</td>\n",
       "      <td>0.73</td>\n",
       "      <td>tt0417385</td>\n",
       "      <td>Cumulative Worldwide Gross: $119,195</td>\n",
       "      <td>Gross USA: $96,464</td>\n",
       "      <td>Opening Weekend USA: $11,456, 21 May 2006</td>\n",
       "      <td>Budget:$400,000 (estimated)</td>\n",
       "    </tr>\n",
       "    <tr>\n",
       "      <th>3</th>\n",
       "      <td>12 Monkeys</td>\n",
       "      <td>0.8</td>\n",
       "      <td>0.89</td>\n",
       "      <td>tt0114746</td>\n",
       "      <td>Cumulative Worldwide Gross: $168,839,459</td>\n",
       "      <td>Gross USA: $57,141,459</td>\n",
       "      <td>Opening Weekend USA: $184,776, 1 January 1996</td>\n",
       "      <td>Budget:$29,000,001 (estimated)</td>\n",
       "    </tr>\n",
       "    <tr>\n",
       "      <th>4</th>\n",
       "      <td>12 Years a Slave</td>\n",
       "      <td>0.81</td>\n",
       "      <td>0.95</td>\n",
       "      <td>tt2024544</td>\n",
       "      <td>Cumulative Worldwide Gross: $187,733,202</td>\n",
       "      <td>Gross USA: $56,671,993</td>\n",
       "      <td>Opening Weekend USA: $923,715, 20 October 2013</td>\n",
       "      <td>Budget:$20,000,000 (estimated)</td>\n",
       "    </tr>\n",
       "  </tbody>\n",
       "</table>\n",
       "</div>"
      ],
      "text/plain": [
       "                       titles IMDb_score RT_score         ID  \\\n",
       "0  10 Things I Hate About You       0.73     0.68  tt0147800   \n",
       "1                          12       0.77     0.76  tt0488478   \n",
       "2              12 and Holding       0.75     0.73  tt0417385   \n",
       "3                  12 Monkeys        0.8     0.89  tt0114746   \n",
       "4            12 Years a Slave       0.81     0.95  tt2024544   \n",
       "\n",
       "                                Gross_world                Gross_US  \\\n",
       "0   Cumulative Worldwide Gross: $53,478,166  Gross USA: $38,178,166   \n",
       "1    Cumulative Worldwide Gross: $7,537,453     Gross USA: $125,120   \n",
       "2      Cumulative Worldwide Gross: $119,195      Gross USA: $96,464   \n",
       "3  Cumulative Worldwide Gross: $168,839,459  Gross USA: $57,141,459   \n",
       "4  Cumulative Worldwide Gross: $187,733,202  Gross USA: $56,671,993   \n",
       "\n",
       "                                       Opening_US  \\\n",
       "0   Opening Weekend USA: $8,330,681, 4 April 1999   \n",
       "1      Opening Weekend USA: $12,042, 8 March 2009   \n",
       "2       Opening Weekend USA: $11,456, 21 May 2006   \n",
       "3   Opening Weekend USA: $184,776, 1 January 1996   \n",
       "4  Opening Weekend USA: $923,715, 20 October 2013   \n",
       "\n",
       "                           Budget  \n",
       "0  Budget:$30,000,000 (estimated)  \n",
       "1   Budget:$4,000,000 (estimated)  \n",
       "2     Budget:$400,000 (estimated)  \n",
       "3  Budget:$29,000,001 (estimated)  \n",
       "4  Budget:$20,000,000 (estimated)  "
      ]
     },
     "execution_count": 44,
     "metadata": {},
     "output_type": "execute_result"
    }
   ],
   "source": [
    "df_scores.head()"
   ]
  },
  {
   "cell_type": "code",
   "execution_count": 45,
   "metadata": {},
   "outputs": [
    {
     "name": "stdout",
     "output_type": "stream",
     "text": [
      "With 'Opening_US' dropped: (898, 5)\n",
      "With 'Opening_US', and 'Gross_US' dropped: (922, 4)\n",
      "With 'Opening_US', and 'Gross_world' dropped: (898, 4)\n",
      "With all 3 dropped: (948, 3)\n"
     ]
    }
   ],
   "source": [
    "print(f\"With 'Opening_US' dropped: {df_scores.drop(['titles', 'ID', 'Opening_US'], axis=1).dropna().shape}\")\n",
    "print(f\"With 'Opening_US', and 'Gross_US' dropped: {df_scores.drop(['titles', 'ID', 'Opening_US', 'Gross_US'], axis=1).dropna().shape}\")\n",
    "print(f\"With 'Opening_US', and 'Gross_world' dropped: {df_scores.drop(['titles', 'ID', 'Opening_US', 'Gross_world'], axis=1).dropna().shape}\")\n",
    "print(f\"With all 3 dropped: {df_scores.drop(['titles', 'ID', 'Opening_US', 'Gross_US', 'Gross_world'], axis=1).dropna().shape}\")\n"
   ]
  },
  {
   "cell_type": "markdown",
   "metadata": {},
   "source": [
    "From the results of our scrape of IMDb, I will have to widdle down my dataset from 1145 scripts to either as high as 948, or as low as 898, depending on which targets I decide to include. Moving forward I will take the middle ground of 922, and drop both the Opening US, and Gross US tagerts, and continue with IMDb score, RT score, Budget, and Gross world. Once I have a completed pipeline I may revisit this decision."
   ]
  },
  {
   "cell_type": "code",
   "execution_count": 46,
   "metadata": {},
   "outputs": [],
   "source": [
    "df_scores = df_scores.drop(['ID', 'Opening_US', 'Gross_US'], axis=1)"
   ]
  },
  {
   "cell_type": "code",
   "execution_count": 47,
   "metadata": {},
   "outputs": [],
   "source": [
    "score_cleaner(df_scores, df_scores['Budget'])\n",
    "score_cleaner(df_scores, df_scores['Gross_world'])"
   ]
  },
  {
   "cell_type": "code",
   "execution_count": 48,
   "metadata": {},
   "outputs": [
    {
     "data": {
      "text/html": [
       "<div>\n",
       "<style scoped>\n",
       "    .dataframe tbody tr th:only-of-type {\n",
       "        vertical-align: middle;\n",
       "    }\n",
       "\n",
       "    .dataframe tbody tr th {\n",
       "        vertical-align: top;\n",
       "    }\n",
       "\n",
       "    .dataframe thead th {\n",
       "        text-align: right;\n",
       "    }\n",
       "</style>\n",
       "<table border=\"1\" class=\"dataframe\">\n",
       "  <thead>\n",
       "    <tr style=\"text-align: right;\">\n",
       "      <th></th>\n",
       "      <th>titles</th>\n",
       "      <th>IMDb_score</th>\n",
       "      <th>RT_score</th>\n",
       "      <th>Gross_world</th>\n",
       "      <th>Budget</th>\n",
       "    </tr>\n",
       "  </thead>\n",
       "  <tbody>\n",
       "    <tr>\n",
       "      <th>0</th>\n",
       "      <td>10 Things I Hate About You</td>\n",
       "      <td>0.73</td>\n",
       "      <td>0.68</td>\n",
       "      <td>53478166</td>\n",
       "      <td>30000000</td>\n",
       "    </tr>\n",
       "    <tr>\n",
       "      <th>1</th>\n",
       "      <td>12</td>\n",
       "      <td>0.77</td>\n",
       "      <td>0.76</td>\n",
       "      <td>7537453</td>\n",
       "      <td>4000000</td>\n",
       "    </tr>\n",
       "    <tr>\n",
       "      <th>2</th>\n",
       "      <td>12 and Holding</td>\n",
       "      <td>0.75</td>\n",
       "      <td>0.73</td>\n",
       "      <td>119195</td>\n",
       "      <td>400000</td>\n",
       "    </tr>\n",
       "    <tr>\n",
       "      <th>3</th>\n",
       "      <td>12 Monkeys</td>\n",
       "      <td>0.8</td>\n",
       "      <td>0.89</td>\n",
       "      <td>168839459</td>\n",
       "      <td>29000001</td>\n",
       "    </tr>\n",
       "    <tr>\n",
       "      <th>4</th>\n",
       "      <td>12 Years a Slave</td>\n",
       "      <td>0.81</td>\n",
       "      <td>0.95</td>\n",
       "      <td>187733202</td>\n",
       "      <td>20000000</td>\n",
       "    </tr>\n",
       "  </tbody>\n",
       "</table>\n",
       "</div>"
      ],
      "text/plain": [
       "                       titles IMDb_score RT_score Gross_world    Budget\n",
       "0  10 Things I Hate About You       0.73     0.68    53478166  30000000\n",
       "1                          12       0.77     0.76     7537453   4000000\n",
       "2              12 and Holding       0.75     0.73      119195    400000\n",
       "3                  12 Monkeys        0.8     0.89   168839459  29000001\n",
       "4            12 Years a Slave       0.81     0.95   187733202  20000000"
      ]
     },
     "execution_count": 48,
     "metadata": {},
     "output_type": "execute_result"
    }
   ],
   "source": [
    "df_scores.head()"
   ]
  },
  {
   "cell_type": "code",
   "execution_count": 49,
   "metadata": {},
   "outputs": [
    {
     "data": {
      "text/plain": [
       "Index(['titles', 'IMDb_score', 'RT_score', 'Gross_world', 'Budget'], dtype='object')"
      ]
     },
     "execution_count": 49,
     "metadata": {},
     "output_type": "execute_result"
    }
   ],
   "source": [
    "df_scores.columns"
   ]
  },
  {
   "cell_type": "code",
   "execution_count": 50,
   "metadata": {},
   "outputs": [
    {
     "data": {
      "image/png": "[encoded data removed]",
      "text/plain": [
       "<Figure size 432x288 with 1 Axes>"
      ]
     },
     "metadata": {
      "needs_background": "light"
     },
     "output_type": "display_data"
    },
    {
     "data": {
      "image/png": "[encoded data removed]",
      "text/plain": [
       "<Figure size 432x288 with 1 Axes>"
      ]
     },
     "metadata": {
      "needs_background": "light"
     },
     "output_type": "display_data"
    },
    {
     "data": {
      "image/png": "[encoded data removed]",
      "text/plain": [
       "<Figure size 432x288 with 1 Axes>"
      ]
     },
     "metadata": {
      "needs_background": "light"
     },
     "output_type": "display_data"
    },
    {
     "data": {
      "image/png": "[encoded data removed]",
      "text/plain": [
       "<Figure size 432x288 with 1 Axes>"
      ]
     },
     "metadata": {
      "needs_background": "light"
     },
     "output_type": "display_data"
    }
   ],
   "source": [
    "for i in df_scores.columns[1:]:\n",
    "    plt.figure()\n",
    "    plt.hist(df_scores[i])\n",
    "    plt.title(i)\n",
    "    plt.show();"
   ]
  },
  {
   "cell_type": "markdown",
   "metadata": {},
   "source": [
    "Combining the final dataframes in order to drop the nans:"
   ]
  },
  {
   "cell_type": "code",
   "execution_count": 51,
   "metadata": {},
   "outputs": [],
   "source": [
    "df_combined = pd.concat([df_scores, df.drop('titles', axis=1)], axis=1)"
   ]
  },
  {
   "cell_type": "code",
   "execution_count": 52,
   "metadata": {},
   "outputs": [
    {
     "data": {
      "text/plain": [
       "Index(['titles', 'IMDb_score', 'RT_score', 'Gross_world', 'Budget', 'scripts',\n",
       "       'genres'],\n",
       "      dtype='object')"
      ]
     },
     "execution_count": 52,
     "metadata": {},
     "output_type": "execute_result"
    }
   ],
   "source": [
    "df_combined.columns"
   ]
  },
  {
   "cell_type": "code",
   "execution_count": 53,
   "metadata": {},
   "outputs": [],
   "source": [
    "df_fc = df_combined.dropna().reset_index(drop=True)"
   ]
  },
  {
   "cell_type": "code",
   "execution_count": 54,
   "metadata": {},
   "outputs": [
    {
     "data": {
      "text/plain": [
       "RangeIndex(start=0, stop=922, step=1)"
      ]
     },
     "execution_count": 54,
     "metadata": {},
     "output_type": "execute_result"
    }
   ],
   "source": [
    "df_fc.index"
   ]
  },
  {
   "cell_type": "markdown",
   "metadata": {},
   "source": [
    "As shown we are left with the expected number of rows after dropping all nulls."
   ]
  },
  {
   "cell_type": "markdown",
   "metadata": {},
   "source": [
    "Now to export a clean dataset:"
   ]
  },
  {
   "cell_type": "code",
   "execution_count": 55,
   "metadata": {},
   "outputs": [],
   "source": [
    "df_fc.to_csv('../../data/df_clean.csv', columns=df_fc.columns, index=False)"
   ]
  },
  {
   "cell_type": "code",
   "execution_count": null,
   "metadata": {},
   "outputs": [],
   "source": []
  }
 ],
 "metadata": {
  "kernelspec": {
   "display_name": "Python 3",
   "language": "python",
   "name": "python3"
  },
  "language_info": {
   "codemirror_mode": {
    "name": "ipython",
    "version": 3
   },
   "file_extension": ".py",
   "mimetype": "text/x-python",
   "name": "python",
   "nbconvert_exporter": "python",
   "pygments_lexer": "ipython3",
   "version": "3.6.10"
  }
 },
 "nbformat": 4,
 "nbformat_minor": 4
}
