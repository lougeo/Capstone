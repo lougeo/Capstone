{
 "cells": [
  {
   "cell_type": "markdown",
   "metadata": {},
   "source": [
    "# Louis George    \n",
    "\n",
    "## Modeling"
   ]
  },
  {
   "cell_type": "code",
   "execution_count": 29,
   "metadata": {},
   "outputs": [],
   "source": [
    "import numpy as np\n",
    "import pandas as pd\n",
    "import os\n",
    "\n",
    "from sklearn.metrics import classification_report\n",
    "from sklearn.pipeline import Pipeline\n",
    "from sklearn.model_selection import GridSearchCV\n",
    "from sklearn.linear_model import LogisticRegression\n",
    "from sklearn.decomposition import LatentDirichletAllocation\n",
    "from sklearn.preprocessing import StandardScaler\n",
    "from sklearn.manifold import TSNE\n",
    "from sklearn.cluster import KMeans\n",
    "from sklearn.ensemble import RandomForestClassifier\n",
    "from sklearn.ensemble import AdaBoostClassifier\n",
    "\n",
    "from xgboost import XGBClassifier\n",
    "\n",
    "import joblib\n",
    "\n",
    "import plotly.graph_objects as go\n",
    "import chart_studio\n",
    "import chart_studio.plotly as py\n",
    "chart_studio.tools.set_credentials_file(username='lougeo', api_key=os.environ.get(\"PLOTLY_API\"))\n",
    "\n",
    "import matplotlib.pyplot as plt\n",
    "%matplotlib inline\n",
    "\n",
    "import warnings\n",
    "warnings.filterwarnings('ignore')"
   ]
  },
  {
   "cell_type": "markdown",
   "metadata": {},
   "source": [
    "### Reading in the data"
   ]
  },
  {
   "cell_type": "code",
   "execution_count": 30,
   "metadata": {},
   "outputs": [],
   "source": [
    "X_train_tfidf = pd.read_csv('../../data/X_train_tfidf.csv')\n",
    "X_test_tfidf = pd.read_csv('../../data/X_test_tfidf.csv')"
   ]
  },
  {
   "cell_type": "code",
   "execution_count": 31,
   "metadata": {},
   "outputs": [],
   "source": [
    "X_train_countv = pd.read_csv('../../data/X_train_countv.csv')\n",
    "X_test_countv = pd.read_csv('../../data/X_test_countv.csv')"
   ]
  },
  {
   "cell_type": "code",
   "execution_count": 32,
   "metadata": {},
   "outputs": [],
   "source": [
    "y_imdb_train = pd.read_csv('../../data/y_imdb_train.csv')\n",
    "y_rt_train = pd.read_csv('../../data/y_rt_train.csv')\n",
    "y_profit_train = pd.read_csv('../../data/y_profit_train.csv')\n",
    "\n",
    "y_imdb_test = pd.read_csv('../../data/y_imdb_test.csv')\n",
    "y_rt_test = pd.read_csv('../../data/y_rt_test.csv')\n",
    "y_profit_test = pd.read_csv('../../data/y_profit_test.csv')"
   ]
  },
  {
   "cell_type": "markdown",
   "metadata": {},
   "source": [
    "### Exploring the possibility of using Latent Dirichlet Allocation for decomposition      \n",
    "\n",
    "Due to the differences in scale between the genre dummies, part of speech counts, and word vectors, I will use only the word vectors. Scaling is not required when modeling using the full data set with Logistic Regression and Decision Tree based models, so this won't be an issue going forward."
   ]
  },
  {
   "cell_type": "code",
   "execution_count": 77,
   "metadata": {},
   "outputs": [],
   "source": [
    "X_train_countv_vecs = X_train_countv.iloc[:, 28:]\n",
    "X_test_countv_vecs = X_test_countv.iloc[:, 28:]"
   ]
  },
  {
   "cell_type": "code",
   "execution_count": null,
   "metadata": {},
   "outputs": [],
   "source": [
    "topic_num = [3, 5, 10, 20]\n",
    "\n",
    "train_scores = []\n",
    "test_scores = []\n",
    "\n",
    "for i in topic_num:\n",
    "    lda = LatentDirichletAllocation(n_components=i).fit(X_train_countv_vecs)\n",
    "    lda_train_weights = lda.transform(X_train_countv_vecs)\n",
    "    lda_test_weights = lda.transform(X_test_countv_vecs)\n",
    "    \n",
    "    logreg = LogisticRegression().fit(lda_train_weights, y_imdb_train)\n",
    "    train_scores.append(logreg.score(lda_train_weights, y_imdb_train))\n",
    "    test_scores.append(logreg.score(lda_test_weights, y_imdb_test))"
   ]
  },
  {
   "cell_type": "code",
   "execution_count": null,
   "metadata": {},
   "outputs": [],
   "source": [
    "plt.figure(figsize=(10, 7))\n",
    "plt.plot(topic_num, train_scores, marker='.', label='train')\n",
    "plt.plot(topic_num, test_scores, marker='.', label='test')\n",
    "plt.legend()"
   ]
  },
  {
   "cell_type": "markdown",
   "metadata": {},
   "source": [
    "As we can see from this graph, LDA decomposition is not going to give us any good results. For fun, let's see what the topics look like for one of the more reasonable results:"
   ]
  },
  {
   "cell_type": "code",
   "execution_count": 6,
   "metadata": {},
   "outputs": [],
   "source": [
    "# Function which shows the features with the highest coefficients for each topic\n",
    "def print_top_words(model, feature_names, n_top_words):\n",
    "    topics = {}\n",
    "    for topic_idx, topic in enumerate(model.components_):\n",
    "        twords = ''.join([feature_names[i] + ' <br>' for i in topic.argsort()[:-n_top_words - 1:-1]])\n",
    "        topic = {topic_idx:twords}\n",
    "        topics.update(topic)\n",
    "    return topics"
   ]
  },
  {
   "cell_type": "code",
   "execution_count": 21,
   "metadata": {
    "scrolled": true
   },
   "outputs": [],
   "source": [
    "topic_num = 20\n",
    "\n",
    "# Fitting the LDA\n",
    "lda = LatentDirichletAllocation(n_components=topic_num).fit(X_train_countv_vecs)\n",
    "\n",
    "#transforming for t-SNE\n",
    "lda_transformed = lda.transform(X_train_countv_vecs)"
   ]
  },
  {
   "cell_type": "code",
   "execution_count": 22,
   "metadata": {},
   "outputs": [],
   "source": [
    "# Getting top tokens for each topic\n",
    "n_top_words = 20\n",
    "feature_names = X_train_countv_vecs.columns\n",
    "\n",
    "topics = print_top_words(lda, feature_names, n_top_words)"
   ]
  },
  {
   "cell_type": "markdown",
   "metadata": {},
   "source": [
    "This is a lot to look at, and even if there were fewer topics it would still be difficult for me to just look at these lists of words and make any sense out of it (These are just 20 words out of the whole data set!). To simplify this task let's make some plots! Below are a 2d, and 3d tSNE plots classed using KMeans clustering:"
   ]
  },
  {
   "cell_type": "markdown",
   "metadata": {},
   "source": [
    "#### 2D t-SNE plot"
   ]
  },
  {
   "cell_type": "code",
   "execution_count": 21,
   "metadata": {},
   "outputs": [],
   "source": [
    "my_tSNE = TSNE(n_components=2)\n",
    "X_tSNE = my_tSNE.fit_transform(lda_transformed)\n",
    "\n",
    "k_means_model = KMeans(n_clusters = 20)\n",
    "k_means_model.fit(X_tSNE)\n",
    "pred_labels = k_means_model.labels_"
   ]
  },
  {
   "cell_type": "code",
   "execution_count": 22,
   "metadata": {},
   "outputs": [
    {
     "data": {
      "image/png": "[encoded data removed]",
      "text/plain": [
       "<Figure size 432x288 with 1 Axes>"
      ]
     },
     "metadata": {
      "needs_background": "light"
     },
     "output_type": "display_data"
    }
   ],
   "source": [
    "plt.figure()\n",
    "plt.hist(pred_labels, bins=20)\n",
    "plt.title(\"Distribution of Genre Classes\")\n",
    "plt.xlabel(\"Genre Class\")\n",
    "plt.ylabel(\"Count\")\n",
    "plt.show();"
   ]
  },
  {
   "cell_type": "code",
   "execution_count": 23,
   "metadata": {},
   "outputs": [
    {
     "data": {
      "image/png": "[encoded data removed]",
      "text/plain": [
       "<Figure size 576x576 with 1 Axes>"
      ]
     },
     "metadata": {
      "needs_background": "light"
     },
     "output_type": "display_data"
    }
   ],
   "source": [
    "# Plotting the tSNE-transformed data (only the first two dimensions)\n",
    "plt.figure(figsize=(8, 8))\n",
    "plt.scatter(X_tSNE[:,0],X_tSNE[:,1], c=pred_labels)\n",
    "\n",
    "plt.xlabel(\"tSNE Component 1\")\n",
    "plt.ylabel(\"tSNE Component 2\")\n",
    "\n",
    "plt.show()"
   ]
  },
  {
   "cell_type": "markdown",
   "metadata": {},
   "source": [
    "Looks like there is some distinct clustering going on! Let's see what this looks like in 3D!\n",
    "\n",
    "#### 3D t-SNE"
   ]
  },
  {
   "cell_type": "code",
   "execution_count": 23,
   "metadata": {},
   "outputs": [],
   "source": [
    "scaled_X_train = StandardScaler().fit_transform(lda_transformed)\n",
    "\n",
    "my_tSNE_3d = TSNE(n_components=3)\n",
    "X_tSNE_3d = my_tSNE_3d.fit_transform(scaled_X_train)\n",
    "\n",
    "k_means_model_3d = KMeans(n_clusters = 20)\n",
    "k_means_model_3d.fit(X_tSNE_3d)\n",
    "pred_labels_3d = k_means_model_3d.labels_"
   ]
  },
  {
   "cell_type": "code",
   "execution_count": 24,
   "metadata": {},
   "outputs": [],
   "source": [
    "ref = [topics[i] for i in pred_labels_3d]"
   ]
  },
  {
   "cell_type": "code",
   "execution_count": 25,
   "metadata": {},
   "outputs": [],
   "source": [
    "ref2 = pd.DataFrame([pred_labels_3d, X_tSNE_3d[:, 2], X_tSNE_3d[:, 1], X_tSNE_3d[:, 0], ref]).T"
   ]
  },
  {
   "cell_type": "code",
   "execution_count": 78,
   "metadata": {},
   "outputs": [
    {
     "data": {
      "application/vnd.plotly.v1+json": {
       "config": {
        "plotlyServerURL": "https://plot.ly"
       },
       "data": [
        {
         "hovertemplate": "%{meta[4]}<extra></extra>",
         "meta": [
          [
           0,
           -2.773916482925415,
           0.5524457693099976,
           -5.385669231414795,
           "cont'd <br>phone <br>gun <br>pete <br>driver <br>kitchen <br>wade <br>o.s <br>bedroom <br>police <br>guy <br>fuck <br>cat <br>road <br>hallway <br>v.o <br>pov <br>okay <br>blood <br>bathroom <br>"
          ],
          [
           0,
           -4.21027135848999,
           -0.11228018254041672,
           -5.06404447555542,
           "cont'd <br>phone <br>gun <br>pete <br>driver <br>kitchen <br>wade <br>o.s <br>bedroom <br>police <br>guy <br>fuck <br>cat <br>road <br>hallway <br>v.o <br>pov <br>okay <br>blood <br>bathroom <br>"
          ],
          [
           0,
           -5.1250739097595215,
           0.8672290444374084,
           -3.191108226776123,
           "cont'd <br>phone <br>gun <br>pete <br>driver <br>kitchen <br>wade <br>o.s <br>bedroom <br>police <br>guy <br>fuck <br>cat <br>road <br>hallway <br>v.o <br>pov <br>okay <br>blood <br>bathroom <br>"
          ],
          [
           0,
           -3.3727927207946777,
           1.7191284894943237,
           -1.6380677223205566,
           "cont'd <br>phone <br>gun <br>pete <br>driver <br>kitchen <br>wade <br>o.s <br>bedroom <br>police <br>guy <br>fuck <br>cat <br>road <br>hallway <br>v.o <br>pov <br>okay <br>blood <br>bathroom <br>"
          ],
          [
           0,
           -3.167945146560669,
           -1.0607719421386719,
           -3.864149570465088,
           "cont'd <br>phone <br>gun <br>pete <br>driver <br>kitchen <br>wade <br>o.s <br>bedroom <br>police <br>guy <br>fuck <br>cat <br>road <br>hallway <br>v.o <br>pov <br>okay <br>blood <br>bathroom <br>"
          ],
          [
           0,
           -4.327767848968506,
           -0.12381301820278168,
           -2.9645419120788574,
           "cont'd <br>phone <br>gun <br>pete <br>driver <br>kitchen <br>wade <br>o.s <br>bedroom <br>police <br>guy <br>fuck <br>cat <br>road <br>hallway <br>v.o <br>pov <br>okay <br>blood <br>bathroom <br>"
          ],
          [
           0,
           -2.9390735626220703,
           2.0916082859039307,
           -3.529609203338623,
           "cont'd <br>phone <br>gun <br>pete <br>driver <br>kitchen <br>wade <br>o.s <br>bedroom <br>police <br>guy <br>fuck <br>cat <br>road <br>hallway <br>v.o <br>pov <br>okay <br>blood <br>bathroom <br>"
          ],
          [
           0,
           -4.6639275550842285,
           -0.6026146411895752,
           -4.746522426605225,
           "cont'd <br>phone <br>gun <br>pete <br>driver <br>kitchen <br>wade <br>o.s <br>bedroom <br>police <br>guy <br>fuck <br>cat <br>road <br>hallway <br>v.o <br>pov <br>okay <br>blood <br>bathroom <br>"
          ],
          [
           0,
           -4.28416109085083,
           0.49959054589271545,
           -4.604885101318359,
           "cont'd <br>phone <br>gun <br>pete <br>driver <br>kitchen <br>wade <br>o.s <br>bedroom <br>police <br>guy <br>fuck <br>cat <br>road <br>hallway <br>v.o <br>pov <br>okay <br>blood <br>bathroom <br>"
          ],
          [
           0,
           0.6520031094551086,
           -1.120383858680725,
           -3.7656173706054688,
           "cont'd <br>phone <br>gun <br>pete <br>driver <br>kitchen <br>wade <br>o.s <br>bedroom <br>police <br>guy <br>fuck <br>cat <br>road <br>hallway <br>v.o <br>pov <br>okay <br>blood <br>bathroom <br>"
          ],
          [
           0,
           -3.391636610031128,
           0.7010658979415894,
           -5.355551242828369,
           "cont'd <br>phone <br>gun <br>pete <br>driver <br>kitchen <br>wade <br>o.s <br>bedroom <br>police <br>guy <br>fuck <br>cat <br>road <br>hallway <br>v.o <br>pov <br>okay <br>blood <br>bathroom <br>"
          ],
          [
           0,
           -2.7863352298736572,
           -0.46830594539642334,
           -5.839709758758545,
           "cont'd <br>phone <br>gun <br>pete <br>driver <br>kitchen <br>wade <br>o.s <br>bedroom <br>police <br>guy <br>fuck <br>cat <br>road <br>hallway <br>v.o <br>pov <br>okay <br>blood <br>bathroom <br>"
          ],
          [
           0,
           -3.742736577987671,
           0.9724864363670349,
           -1.6331398487091064,
           "cont'd <br>phone <br>gun <br>pete <br>driver <br>kitchen <br>wade <br>o.s <br>bedroom <br>police <br>guy <br>fuck <br>cat <br>road <br>hallway <br>v.o <br>pov <br>okay <br>blood <br>bathroom <br>"
          ],
          [
           0,
           -2.9221866130828857,
           1.9250787496566772,
           -2.0243661403656006,
           "cont'd <br>phone <br>gun <br>pete <br>driver <br>kitchen <br>wade <br>o.s <br>bedroom <br>police <br>guy <br>fuck <br>cat <br>road <br>hallway <br>v.o <br>pov <br>okay <br>blood <br>bathroom <br>"
          ],
          [
           0,
           -3.7574198246002197,
           1.3512312173843384,
           -1.2944996356964111,
           "cont'd <br>phone <br>gun <br>pete <br>driver <br>kitchen <br>wade <br>o.s <br>bedroom <br>police <br>guy <br>fuck <br>cat <br>road <br>hallway <br>v.o <br>pov <br>okay <br>blood <br>bathroom <br>"
          ],
          [
           0,
           -3.9819130897521973,
           0.16436223685741425,
           -5.961615562438965,
           "cont'd <br>phone <br>gun <br>pete <br>driver <br>kitchen <br>wade <br>o.s <br>bedroom <br>police <br>guy <br>fuck <br>cat <br>road <br>hallway <br>v.o <br>pov <br>okay <br>blood <br>bathroom <br>"
          ],
          [
           0,
           -1.8294868469238281,
           -2.7192325592041016,
           -3.7321107387542725,
           "cont'd <br>phone <br>gun <br>pete <br>driver <br>kitchen <br>wade <br>o.s <br>bedroom <br>police <br>guy <br>fuck <br>cat <br>road <br>hallway <br>v.o <br>pov <br>okay <br>blood <br>bathroom <br>"
          ],
          [
           0,
           -4.158889293670654,
           0.19271256029605865,
           -6.835458278656006,
           "cont'd <br>phone <br>gun <br>pete <br>driver <br>kitchen <br>wade <br>o.s <br>bedroom <br>police <br>guy <br>fuck <br>cat <br>road <br>hallway <br>v.o <br>pov <br>okay <br>blood <br>bathroom <br>"
          ],
          [
           0,
           0.17827767133712769,
           -0.5980620384216309,
           -2.1865086555480957,
           "cont'd <br>phone <br>gun <br>pete <br>driver <br>kitchen <br>wade <br>o.s <br>bedroom <br>police <br>guy <br>fuck <br>cat <br>road <br>hallway <br>v.o <br>pov <br>okay <br>blood <br>bathroom <br>"
          ],
          [
           0,
           -4.497466564178467,
           -0.3942933976650238,
           -4.249601364135742,
           "cont'd <br>phone <br>gun <br>pete <br>driver <br>kitchen <br>wade <br>o.s <br>bedroom <br>police <br>guy <br>fuck <br>cat <br>road <br>hallway <br>v.o <br>pov <br>okay <br>blood <br>bathroom <br>"
          ],
          [
           0,
           -3.8633229732513428,
           1.2660146951675415,
           -1.286348581314087,
           "cont'd <br>phone <br>gun <br>pete <br>driver <br>kitchen <br>wade <br>o.s <br>bedroom <br>police <br>guy <br>fuck <br>cat <br>road <br>hallway <br>v.o <br>pov <br>okay <br>blood <br>bathroom <br>"
          ],
          [
           0,
           0.794639527797699,
           -0.852004885673523,
           -2.636439323425293,
           "cont'd <br>phone <br>gun <br>pete <br>driver <br>kitchen <br>wade <br>o.s <br>bedroom <br>police <br>guy <br>fuck <br>cat <br>road <br>hallway <br>v.o <br>pov <br>okay <br>blood <br>bathroom <br>"
          ],
          [
           0,
           -1.167622685432434,
           -2.7216575145721436,
           -3.2115225791931152,
           "cont'd <br>phone <br>gun <br>pete <br>driver <br>kitchen <br>wade <br>o.s <br>bedroom <br>police <br>guy <br>fuck <br>cat <br>road <br>hallway <br>v.o <br>pov <br>okay <br>blood <br>bathroom <br>"
          ],
          [
           0,
           -1.6192119121551514,
           -0.4621458351612091,
           -2.809603452682495,
           "cont'd <br>phone <br>gun <br>pete <br>driver <br>kitchen <br>wade <br>o.s <br>bedroom <br>police <br>guy <br>fuck <br>cat <br>road <br>hallway <br>v.o <br>pov <br>okay <br>blood <br>bathroom <br>"
          ],
          [
           0,
           -3.705069065093994,
           -0.36763355135917664,
           -1.8566209077835083,
           "cont'd <br>phone <br>gun <br>pete <br>driver <br>kitchen <br>wade <br>o.s <br>bedroom <br>police <br>guy <br>fuck <br>cat <br>road <br>hallway <br>v.o <br>pov <br>okay <br>blood <br>bathroom <br>"
          ],
          [
           0,
           -3.072525978088379,
           -0.42094704508781433,
           -5.694286823272705,
           "cont'd <br>phone <br>gun <br>pete <br>driver <br>kitchen <br>wade <br>o.s <br>bedroom <br>police <br>guy <br>fuck <br>cat <br>road <br>hallway <br>v.o <br>pov <br>okay <br>blood <br>bathroom <br>"
          ],
          [
           0,
           -5.706271648406982,
           0.7856248021125793,
           -3.668503522872925,
           "cont'd <br>phone <br>gun <br>pete <br>driver <br>kitchen <br>wade <br>o.s <br>bedroom <br>police <br>guy <br>fuck <br>cat <br>road <br>hallway <br>v.o <br>pov <br>okay <br>blood <br>bathroom <br>"
          ],
          [
           0,
           -5.5726847648620605,
           -1.3439364433288574,
           -5.0516533851623535,
           "cont'd <br>phone <br>gun <br>pete <br>driver <br>kitchen <br>wade <br>o.s <br>bedroom <br>police <br>guy <br>fuck <br>cat <br>road <br>hallway <br>v.o <br>pov <br>okay <br>blood <br>bathroom <br>"
          ],
          [
           0,
           -3.709038257598877,
           -0.25838807225227356,
           -6.309963226318359,
           "cont'd <br>phone <br>gun <br>pete <br>driver <br>kitchen <br>wade <br>o.s <br>bedroom <br>police <br>guy <br>fuck <br>cat <br>road <br>hallway <br>v.o <br>pov <br>okay <br>blood <br>bathroom <br>"
          ],
          [
           0,
           -4.023015975952148,
           2.632841110229492,
           -4.71905517578125,
           "cont'd <br>phone <br>gun <br>pete <br>driver <br>kitchen <br>wade <br>o.s <br>bedroom <br>police <br>guy <br>fuck <br>cat <br>road <br>hallway <br>v.o <br>pov <br>okay <br>blood <br>bathroom <br>"
          ],
          [
           0,
           -2.5582425594329834,
           -0.9877042174339294,
           -3.2155919075012207,
           "cont'd <br>phone <br>gun <br>pete <br>driver <br>kitchen <br>wade <br>o.s <br>bedroom <br>police <br>guy <br>fuck <br>cat <br>road <br>hallway <br>v.o <br>pov <br>okay <br>blood <br>bathroom <br>"
          ],
          [
           0,
           -3.1155152320861816,
           -0.23563216626644135,
           -5.927921295166016,
           "cont'd <br>phone <br>gun <br>pete <br>driver <br>kitchen <br>wade <br>o.s <br>bedroom <br>police <br>guy <br>fuck <br>cat <br>road <br>hallway <br>v.o <br>pov <br>okay <br>blood <br>bathroom <br>"
          ],
          [
           0,
           -5.830923080444336,
           0.8160958886146545,
           -3.778303861618042,
           "cont'd <br>phone <br>gun <br>pete <br>driver <br>kitchen <br>wade <br>o.s <br>bedroom <br>police <br>guy <br>fuck <br>cat <br>road <br>hallway <br>v.o <br>pov <br>okay <br>blood <br>bathroom <br>"
          ],
          [
           0,
           -4.2248125076293945,
           -0.26124438643455505,
           -2.7035796642303467,
           "cont'd <br>phone <br>gun <br>pete <br>driver <br>kitchen <br>wade <br>o.s <br>bedroom <br>police <br>guy <br>fuck <br>cat <br>road <br>hallway <br>v.o <br>pov <br>okay <br>blood <br>bathroom <br>"
          ],
          [
           0,
           -0.2198270857334137,
           -0.7180726528167725,
           -3.0045323371887207,
           "cont'd <br>phone <br>gun <br>pete <br>driver <br>kitchen <br>wade <br>o.s <br>bedroom <br>police <br>guy <br>fuck <br>cat <br>road <br>hallway <br>v.o <br>pov <br>okay <br>blood <br>bathroom <br>"
          ],
          [
           0,
           -2.5911483764648438,
           2.0676326751708984,
           -2.283787965774536,
           "cont'd <br>phone <br>gun <br>pete <br>driver <br>kitchen <br>wade <br>o.s <br>bedroom <br>police <br>guy <br>fuck <br>cat <br>road <br>hallway <br>v.o <br>pov <br>okay <br>blood <br>bathroom <br>"
          ],
          [
           0,
           -3.347142219543457,
           1.4885019063949585,
           -4.7896623611450195,
           "cont'd <br>phone <br>gun <br>pete <br>driver <br>kitchen <br>wade <br>o.s <br>bedroom <br>police <br>guy <br>fuck <br>cat <br>road <br>hallway <br>v.o <br>pov <br>okay <br>blood <br>bathroom <br>"
          ],
          [
           0,
           -3.5918030738830566,
           0.7071067094802856,
           -4.501105308532715,
           "cont'd <br>phone <br>gun <br>pete <br>driver <br>kitchen <br>wade <br>o.s <br>bedroom <br>police <br>guy <br>fuck <br>cat <br>road <br>hallway <br>v.o <br>pov <br>okay <br>blood <br>bathroom <br>"
          ],
          [
           0,
           -3.492981195449829,
           1.2620770931243896,
           -4.785384178161621,
           "cont'd <br>phone <br>gun <br>pete <br>driver <br>kitchen <br>wade <br>o.s <br>bedroom <br>police <br>guy <br>fuck <br>cat <br>road <br>hallway <br>v.o <br>pov <br>okay <br>blood <br>bathroom <br>"
          ],
          [
           0,
           -2.456791639328003,
           2.6962952613830566,
           -5.042272567749023,
           "cont'd <br>phone <br>gun <br>pete <br>driver <br>kitchen <br>wade <br>o.s <br>bedroom <br>police <br>guy <br>fuck <br>cat <br>road <br>hallway <br>v.o <br>pov <br>okay <br>blood <br>bathroom <br>"
          ],
          [
           0,
           -1.7982113361358643,
           2.1626925468444824,
           -4.030780792236328,
           "cont'd <br>phone <br>gun <br>pete <br>driver <br>kitchen <br>wade <br>o.s <br>bedroom <br>police <br>guy <br>fuck <br>cat <br>road <br>hallway <br>v.o <br>pov <br>okay <br>blood <br>bathroom <br>"
          ],
          [
           0,
           -7.723388195037842,
           0.6295998692512512,
           -1.5855927467346191,
           "cont'd <br>phone <br>gun <br>pete <br>driver <br>kitchen <br>wade <br>o.s <br>bedroom <br>police <br>guy <br>fuck <br>cat <br>road <br>hallway <br>v.o <br>pov <br>okay <br>blood <br>bathroom <br>"
          ],
          [
           0,
           -4.229582786560059,
           -0.13318201899528503,
           -5.893678188323975,
           "cont'd <br>phone <br>gun <br>pete <br>driver <br>kitchen <br>wade <br>o.s <br>bedroom <br>police <br>guy <br>fuck <br>cat <br>road <br>hallway <br>v.o <br>pov <br>okay <br>blood <br>bathroom <br>"
          ],
          [
           0,
           -0.41189998388290405,
           -0.8720886707305908,
           -2.872631072998047,
           "cont'd <br>phone <br>gun <br>pete <br>driver <br>kitchen <br>wade <br>o.s <br>bedroom <br>police <br>guy <br>fuck <br>cat <br>road <br>hallway <br>v.o <br>pov <br>okay <br>blood <br>bathroom <br>"
          ],
          [
           0,
           -4.282111167907715,
           -0.7944200038909912,
           -2.5714216232299805,
           "cont'd <br>phone <br>gun <br>pete <br>driver <br>kitchen <br>wade <br>o.s <br>bedroom <br>police <br>guy <br>fuck <br>cat <br>road <br>hallway <br>v.o <br>pov <br>okay <br>blood <br>bathroom <br>"
          ],
          [
           0,
           -4.6408162117004395,
           3.38340425491333,
           -2.9656007289886475,
           "cont'd <br>phone <br>gun <br>pete <br>driver <br>kitchen <br>wade <br>o.s <br>bedroom <br>police <br>guy <br>fuck <br>cat <br>road <br>hallway <br>v.o <br>pov <br>okay <br>blood <br>bathroom <br>"
          ],
          [
           0,
           -2.2951290607452393,
           -0.42209696769714355,
           -2.9107673168182373,
           "cont'd <br>phone <br>gun <br>pete <br>driver <br>kitchen <br>wade <br>o.s <br>bedroom <br>police <br>guy <br>fuck <br>cat <br>road <br>hallway <br>v.o <br>pov <br>okay <br>blood <br>bathroom <br>"
          ],
          [
           0,
           -3.727936029434204,
           -0.4866403639316559,
           -3.3544232845306396,
           "cont'd <br>phone <br>gun <br>pete <br>driver <br>kitchen <br>wade <br>o.s <br>bedroom <br>police <br>guy <br>fuck <br>cat <br>road <br>hallway <br>v.o <br>pov <br>okay <br>blood <br>bathroom <br>"
          ],
          [
           0,
           -4.798170566558838,
           -0.5247809290885925,
           -4.510330677032471,
           "cont'd <br>phone <br>gun <br>pete <br>driver <br>kitchen <br>wade <br>o.s <br>bedroom <br>police <br>guy <br>fuck <br>cat <br>road <br>hallway <br>v.o <br>pov <br>okay <br>blood <br>bathroom <br>"
          ],
          [
           0,
           -4.790224552154541,
           0.12226478010416031,
           -0.5899876356124878,
           "cont'd <br>phone <br>gun <br>pete <br>driver <br>kitchen <br>wade <br>o.s <br>bedroom <br>police <br>guy <br>fuck <br>cat <br>road <br>hallway <br>v.o <br>pov <br>okay <br>blood <br>bathroom <br>"
          ],
          [
           0,
           -3.4376745223999023,
           2.927513599395752,
           -3.7425694465637207,
           "cont'd <br>phone <br>gun <br>pete <br>driver <br>kitchen <br>wade <br>o.s <br>bedroom <br>police <br>guy <br>fuck <br>cat <br>road <br>hallway <br>v.o <br>pov <br>okay <br>blood <br>bathroom <br>"
          ],
          [
           0,
           -4.335464954376221,
           -0.3186534345149994,
           -5.664992332458496,
           "cont'd <br>phone <br>gun <br>pete <br>driver <br>kitchen <br>wade <br>o.s <br>bedroom <br>police <br>guy <br>fuck <br>cat <br>road <br>hallway <br>v.o <br>pov <br>okay <br>blood <br>bathroom <br>"
          ],
          [
           0,
           -5.107900619506836,
           0.2546805739402771,
           -4.0513224601745605,
           "cont'd <br>phone <br>gun <br>pete <br>driver <br>kitchen <br>wade <br>o.s <br>bedroom <br>police <br>guy <br>fuck <br>cat <br>road <br>hallway <br>v.o <br>pov <br>okay <br>blood <br>bathroom <br>"
          ],
          [
           0,
           -4.789663791656494,
           -0.29164406657218933,
           -4.45546817779541,
           "cont'd <br>phone <br>gun <br>pete <br>driver <br>kitchen <br>wade <br>o.s <br>bedroom <br>police <br>guy <br>fuck <br>cat <br>road <br>hallway <br>v.o <br>pov <br>okay <br>blood <br>bathroom <br>"
          ]
         ],
         "mode": "markers",
         "showlegend": false,
         "type": "scatter3d",
         "x": [
          -2.773916482925415,
          -4.21027135848999,
          -5.1250739097595215,
          -3.3727927207946777,
          -3.167945146560669,
          -4.327767848968506,
          -2.9390735626220703,
          -4.6639275550842285,
          -4.28416109085083,
          0.6520031094551086,
          -3.391636610031128,
          -2.7863352298736572,
          -3.742736577987671,
          -2.9221866130828857,
          -3.7574198246002197,
          -3.9819130897521973,
          -1.8294868469238281,
          -4.158889293670654,
          0.17827767133712769,
          -4.497466564178467,
          -3.8633229732513428,
          0.794639527797699,
          -1.167622685432434,
          -1.6192119121551514,
          -3.705069065093994,
          -3.072525978088379,
          -5.706271648406982,
          -5.5726847648620605,
          -3.709038257598877,
          -4.023015975952148,
          -2.5582425594329834,
          -3.1155152320861816,
          -5.830923080444336,
          -4.2248125076293945,
          -0.2198270857334137,
          -2.5911483764648438,
          -3.347142219543457,
          -3.5918030738830566,
          -3.492981195449829,
          -2.456791639328003,
          -1.7982113361358643,
          -7.723388195037842,
          -4.229582786560059,
          -0.41189998388290405,
          -4.282111167907715,
          -4.6408162117004395,
          -2.2951290607452393,
          -3.727936029434204,
          -4.798170566558838,
          -4.790224552154541,
          -3.4376745223999023,
          -4.335464954376221,
          -5.107900619506836,
          -4.789663791656494
         ],
         "y": [
          0.5524457693099976,
          -0.11228018254041672,
          0.8672290444374084,
          1.7191284894943237,
          -1.0607719421386719,
          -0.12381301820278168,
          2.0916082859039307,
          -0.6026146411895752,
          0.49959054589271545,
          -1.120383858680725,
          0.7010658979415894,
          -0.46830594539642334,
          0.9724864363670349,
          1.9250787496566772,
          1.3512312173843384,
          0.16436223685741425,
          -2.7192325592041016,
          0.19271256029605865,
          -0.5980620384216309,
          -0.3942933976650238,
          1.2660146951675415,
          -0.852004885673523,
          -2.7216575145721436,
          -0.4621458351612091,
          -0.36763355135917664,
          -0.42094704508781433,
          0.7856248021125793,
          -1.3439364433288574,
          -0.25838807225227356,
          2.632841110229492,
          -0.9877042174339294,
          -0.23563216626644135,
          0.8160958886146545,
          -0.26124438643455505,
          -0.7180726528167725,
          2.0676326751708984,
          1.4885019063949585,
          0.7071067094802856,
          1.2620770931243896,
          2.6962952613830566,
          2.1626925468444824,
          0.6295998692512512,
          -0.13318201899528503,
          -0.8720886707305908,
          -0.7944200038909912,
          3.38340425491333,
          -0.42209696769714355,
          -0.4866403639316559,
          -0.5247809290885925,
          0.12226478010416031,
          2.927513599395752,
          -0.3186534345149994,
          0.2546805739402771,
          -0.29164406657218933
         ],
         "z": [
          -5.385669231414795,
          -5.06404447555542,
          -3.191108226776123,
          -1.6380677223205566,
          -3.864149570465088,
          -2.9645419120788574,
          -3.529609203338623,
          -4.746522426605225,
          -4.604885101318359,
          -3.7656173706054688,
          -5.355551242828369,
          -5.839709758758545,
          -1.6331398487091064,
          -2.0243661403656006,
          -1.2944996356964111,
          -5.961615562438965,
          -3.7321107387542725,
          -6.835458278656006,
          -2.1865086555480957,
          -4.249601364135742,
          -1.286348581314087,
          -2.636439323425293,
          -3.2115225791931152,
          -2.809603452682495,
          -1.8566209077835083,
          -5.694286823272705,
          -3.668503522872925,
          -5.0516533851623535,
          -6.309963226318359,
          -4.71905517578125,
          -3.2155919075012207,
          -5.927921295166016,
          -3.778303861618042,
          -2.7035796642303467,
          -3.0045323371887207,
          -2.283787965774536,
          -4.7896623611450195,
          -4.501105308532715,
          -4.785384178161621,
          -5.042272567749023,
          -4.030780792236328,
          -1.5855927467346191,
          -5.893678188323975,
          -2.872631072998047,
          -2.5714216232299805,
          -2.9656007289886475,
          -2.9107673168182373,
          -3.3544232845306396,
          -4.510330677032471,
          -0.5899876356124878,
          -3.7425694465637207,
          -5.664992332458496,
          -4.0513224601745605,
          -4.45546817779541
         ]
        },
        {
         "hovertemplate": "%{meta[4]}<extra></extra>",
         "meta": [
          [
           1,
           4.776154518127441,
           2.234632968902588,
           -3.4707934856414795,
           "cont'd <br>ben <br>yeah <br>guy <br>okay <br>phone <br>richard <br>to <br>fuck <br>go to <br>office <br>shit <br>apartment <br>cut int <br>whip <br>fucking <br>money <br>ok <br>hi <br>dr <br>"
          ],
          [
           1,
           7.883744716644287,
           2.4788572788238525,
           -6.252344131469727,
           "cont'd <br>ben <br>yeah <br>guy <br>okay <br>phone <br>richard <br>to <br>fuck <br>go to <br>office <br>shit <br>apartment <br>cut int <br>whip <br>fucking <br>money <br>ok <br>hi <br>dr <br>"
          ],
          [
           1,
           6.196647644042969,
           0.6678088307380676,
           -5.547926902770996,
           "cont'd <br>ben <br>yeah <br>guy <br>okay <br>phone <br>richard <br>to <br>fuck <br>go to <br>office <br>shit <br>apartment <br>cut int <br>whip <br>fucking <br>money <br>ok <br>hi <br>dr <br>"
          ],
          [
           1,
           8.634909629821777,
           2.2834911346435547,
           -6.767759323120117,
           "cont'd <br>ben <br>yeah <br>guy <br>okay <br>phone <br>richard <br>to <br>fuck <br>go to <br>office <br>shit <br>apartment <br>cut int <br>whip <br>fucking <br>money <br>ok <br>hi <br>dr <br>"
          ],
          [
           1,
           8.044384002685547,
           3.2658236026763916,
           -6.594672203063965,
           "cont'd <br>ben <br>yeah <br>guy <br>okay <br>phone <br>richard <br>to <br>fuck <br>go to <br>office <br>shit <br>apartment <br>cut int <br>whip <br>fucking <br>money <br>ok <br>hi <br>dr <br>"
          ],
          [
           1,
           8.287467956542969,
           2.541696310043335,
           -7.77677059173584,
           "cont'd <br>ben <br>yeah <br>guy <br>okay <br>phone <br>richard <br>to <br>fuck <br>go to <br>office <br>shit <br>apartment <br>cut int <br>whip <br>fucking <br>money <br>ok <br>hi <br>dr <br>"
          ],
          [
           1,
           7.962007522583008,
           2.249023675918579,
           -6.104575157165527,
           "cont'd <br>ben <br>yeah <br>guy <br>okay <br>phone <br>richard <br>to <br>fuck <br>go to <br>office <br>shit <br>apartment <br>cut int <br>whip <br>fucking <br>money <br>ok <br>hi <br>dr <br>"
          ],
          [
           1,
           8.53027629852295,
           1.9098846912384033,
           -7.625213623046875,
           "cont'd <br>ben <br>yeah <br>guy <br>okay <br>phone <br>richard <br>to <br>fuck <br>go to <br>office <br>shit <br>apartment <br>cut int <br>whip <br>fucking <br>money <br>ok <br>hi <br>dr <br>"
          ],
          [
           1,
           8.779655456542969,
           2.18700909614563,
           -6.8453474044799805,
           "cont'd <br>ben <br>yeah <br>guy <br>okay <br>phone <br>richard <br>to <br>fuck <br>go to <br>office <br>shit <br>apartment <br>cut int <br>whip <br>fucking <br>money <br>ok <br>hi <br>dr <br>"
          ],
          [
           1,
           7.1944146156311035,
           1.8315801620483398,
           -5.863833427429199,
           "cont'd <br>ben <br>yeah <br>guy <br>okay <br>phone <br>richard <br>to <br>fuck <br>go to <br>office <br>shit <br>apartment <br>cut int <br>whip <br>fucking <br>money <br>ok <br>hi <br>dr <br>"
          ],
          [
           1,
           7.147743225097656,
           2.10286021232605,
           -5.666621208190918,
           "cont'd <br>ben <br>yeah <br>guy <br>okay <br>phone <br>richard <br>to <br>fuck <br>go to <br>office <br>shit <br>apartment <br>cut int <br>whip <br>fucking <br>money <br>ok <br>hi <br>dr <br>"
          ],
          [
           1,
           4.578421115875244,
           1.8137580156326294,
           -4.4477152824401855,
           "cont'd <br>ben <br>yeah <br>guy <br>okay <br>phone <br>richard <br>to <br>fuck <br>go to <br>office <br>shit <br>apartment <br>cut int <br>whip <br>fucking <br>money <br>ok <br>hi <br>dr <br>"
          ],
          [
           1,
           6.00338888168335,
           0.36145249009132385,
           -5.47242546081543,
           "cont'd <br>ben <br>yeah <br>guy <br>okay <br>phone <br>richard <br>to <br>fuck <br>go to <br>office <br>shit <br>apartment <br>cut int <br>whip <br>fucking <br>money <br>ok <br>hi <br>dr <br>"
          ],
          [
           1,
           9.645037651062012,
           2.1656484603881836,
           -7.342347621917725,
           "cont'd <br>ben <br>yeah <br>guy <br>okay <br>phone <br>richard <br>to <br>fuck <br>go to <br>office <br>shit <br>apartment <br>cut int <br>whip <br>fucking <br>money <br>ok <br>hi <br>dr <br>"
          ],
          [
           1,
           9.559967994689941,
           2.0091562271118164,
           -7.549637317657471,
           "cont'd <br>ben <br>yeah <br>guy <br>okay <br>phone <br>richard <br>to <br>fuck <br>go to <br>office <br>shit <br>apartment <br>cut int <br>whip <br>fucking <br>money <br>ok <br>hi <br>dr <br>"
          ],
          [
           1,
           7.316112041473389,
           2.216198444366455,
           -7.766341686248779,
           "cont'd <br>ben <br>yeah <br>guy <br>okay <br>phone <br>richard <br>to <br>fuck <br>go to <br>office <br>shit <br>apartment <br>cut int <br>whip <br>fucking <br>money <br>ok <br>hi <br>dr <br>"
          ],
          [
           1,
           9.20567512512207,
           2.9679367542266846,
           -7.598031520843506,
           "cont'd <br>ben <br>yeah <br>guy <br>okay <br>phone <br>richard <br>to <br>fuck <br>go to <br>office <br>shit <br>apartment <br>cut int <br>whip <br>fucking <br>money <br>ok <br>hi <br>dr <br>"
          ],
          [
           1,
           7.2074713706970215,
           2.26387619972229,
           -7.566955089569092,
           "cont'd <br>ben <br>yeah <br>guy <br>okay <br>phone <br>richard <br>to <br>fuck <br>go to <br>office <br>shit <br>apartment <br>cut int <br>whip <br>fucking <br>money <br>ok <br>hi <br>dr <br>"
          ],
          [
           1,
           8.35334587097168,
           1.2866535186767578,
           -7.193533420562744,
           "cont'd <br>ben <br>yeah <br>guy <br>okay <br>phone <br>richard <br>to <br>fuck <br>go to <br>office <br>shit <br>apartment <br>cut int <br>whip <br>fucking <br>money <br>ok <br>hi <br>dr <br>"
          ],
          [
           1,
           7.445015907287598,
           3.052541971206665,
           -4.089228630065918,
           "cont'd <br>ben <br>yeah <br>guy <br>okay <br>phone <br>richard <br>to <br>fuck <br>go to <br>office <br>shit <br>apartment <br>cut int <br>whip <br>fucking <br>money <br>ok <br>hi <br>dr <br>"
          ],
          [
           1,
           4.442690372467041,
           1.8196080923080444,
           -4.3759660720825195,
           "cont'd <br>ben <br>yeah <br>guy <br>okay <br>phone <br>richard <br>to <br>fuck <br>go to <br>office <br>shit <br>apartment <br>cut int <br>whip <br>fucking <br>money <br>ok <br>hi <br>dr <br>"
          ],
          [
           1,
           8.274892807006836,
           1.0880050659179688,
           -7.056288242340088,
           "cont'd <br>ben <br>yeah <br>guy <br>okay <br>phone <br>richard <br>to <br>fuck <br>go to <br>office <br>shit <br>apartment <br>cut int <br>whip <br>fucking <br>money <br>ok <br>hi <br>dr <br>"
          ],
          [
           1,
           7.266366004943848,
           1.736040711402893,
           -5.583029270172119,
           "cont'd <br>ben <br>yeah <br>guy <br>okay <br>phone <br>richard <br>to <br>fuck <br>go to <br>office <br>shit <br>apartment <br>cut int <br>whip <br>fucking <br>money <br>ok <br>hi <br>dr <br>"
          ],
          [
           1,
           9.933365821838379,
           2.5798709392547607,
           -7.703200817108154,
           "cont'd <br>ben <br>yeah <br>guy <br>okay <br>phone <br>richard <br>to <br>fuck <br>go to <br>office <br>shit <br>apartment <br>cut int <br>whip <br>fucking <br>money <br>ok <br>hi <br>dr <br>"
          ],
          [
           1,
           9.489516258239746,
           2.1747190952301025,
           -5.9819464683532715,
           "cont'd <br>ben <br>yeah <br>guy <br>okay <br>phone <br>richard <br>to <br>fuck <br>go to <br>office <br>shit <br>apartment <br>cut int <br>whip <br>fucking <br>money <br>ok <br>hi <br>dr <br>"
          ],
          [
           1,
           5.898434162139893,
           1.193588376045227,
           -5.253560543060303,
           "cont'd <br>ben <br>yeah <br>guy <br>okay <br>phone <br>richard <br>to <br>fuck <br>go to <br>office <br>shit <br>apartment <br>cut int <br>whip <br>fucking <br>money <br>ok <br>hi <br>dr <br>"
          ],
          [
           1,
           8.212814331054688,
           1.8913249969482422,
           -6.773958206176758,
           "cont'd <br>ben <br>yeah <br>guy <br>okay <br>phone <br>richard <br>to <br>fuck <br>go to <br>office <br>shit <br>apartment <br>cut int <br>whip <br>fucking <br>money <br>ok <br>hi <br>dr <br>"
          ],
          [
           1,
           8.74120044708252,
           2.8569061756134033,
           -6.980470657348633,
           "cont'd <br>ben <br>yeah <br>guy <br>okay <br>phone <br>richard <br>to <br>fuck <br>go to <br>office <br>shit <br>apartment <br>cut int <br>whip <br>fucking <br>money <br>ok <br>hi <br>dr <br>"
          ],
          [
           1,
           7.496932029724121,
           2.9779276847839355,
           -4.34354829788208,
           "cont'd <br>ben <br>yeah <br>guy <br>okay <br>phone <br>richard <br>to <br>fuck <br>go to <br>office <br>shit <br>apartment <br>cut int <br>whip <br>fucking <br>money <br>ok <br>hi <br>dr <br>"
          ],
          [
           1,
           9.362780570983887,
           2.65094256401062,
           -7.816752910614014,
           "cont'd <br>ben <br>yeah <br>guy <br>okay <br>phone <br>richard <br>to <br>fuck <br>go to <br>office <br>shit <br>apartment <br>cut int <br>whip <br>fucking <br>money <br>ok <br>hi <br>dr <br>"
          ],
          [
           1,
           7.647597789764404,
           2.963172435760498,
           -6.2285847663879395,
           "cont'd <br>ben <br>yeah <br>guy <br>okay <br>phone <br>richard <br>to <br>fuck <br>go to <br>office <br>shit <br>apartment <br>cut int <br>whip <br>fucking <br>money <br>ok <br>hi <br>dr <br>"
          ],
          [
           1,
           5.2962846755981445,
           -0.8674167990684509,
           -5.475606441497803,
           "cont'd <br>ben <br>yeah <br>guy <br>okay <br>phone <br>richard <br>to <br>fuck <br>go to <br>office <br>shit <br>apartment <br>cut int <br>whip <br>fucking <br>money <br>ok <br>hi <br>dr <br>"
          ],
          [
           1,
           7.929023265838623,
           3.0344934463500977,
           -7.984020233154297,
           "cont'd <br>ben <br>yeah <br>guy <br>okay <br>phone <br>richard <br>to <br>fuck <br>go to <br>office <br>shit <br>apartment <br>cut int <br>whip <br>fucking <br>money <br>ok <br>hi <br>dr <br>"
          ],
          [
           1,
           7.687893867492676,
           2.614480495452881,
           -7.427860260009766,
           "cont'd <br>ben <br>yeah <br>guy <br>okay <br>phone <br>richard <br>to <br>fuck <br>go to <br>office <br>shit <br>apartment <br>cut int <br>whip <br>fucking <br>money <br>ok <br>hi <br>dr <br>"
          ]
         ],
         "mode": "markers",
         "showlegend": false,
         "type": "scatter3d",
         "x": [
          4.776154518127441,
          7.883744716644287,
          6.196647644042969,
          8.634909629821777,
          8.044384002685547,
          8.287467956542969,
          7.962007522583008,
          8.53027629852295,
          8.779655456542969,
          7.1944146156311035,
          7.147743225097656,
          4.578421115875244,
          6.00338888168335,
          9.645037651062012,
          9.559967994689941,
          7.316112041473389,
          9.20567512512207,
          7.2074713706970215,
          8.35334587097168,
          7.445015907287598,
          4.442690372467041,
          8.274892807006836,
          7.266366004943848,
          9.933365821838379,
          9.489516258239746,
          5.898434162139893,
          8.212814331054688,
          8.74120044708252,
          7.496932029724121,
          9.362780570983887,
          7.647597789764404,
          5.2962846755981445,
          7.929023265838623,
          7.687893867492676
         ],
         "y": [
          2.234632968902588,
          2.4788572788238525,
          0.6678088307380676,
          2.2834911346435547,
          3.2658236026763916,
          2.541696310043335,
          2.249023675918579,
          1.9098846912384033,
          2.18700909614563,
          1.8315801620483398,
          2.10286021232605,
          1.8137580156326294,
          0.36145249009132385,
          2.1656484603881836,
          2.0091562271118164,
          2.216198444366455,
          2.9679367542266846,
          2.26387619972229,
          1.2866535186767578,
          3.052541971206665,
          1.8196080923080444,
          1.0880050659179688,
          1.736040711402893,
          2.5798709392547607,
          2.1747190952301025,
          1.193588376045227,
          1.8913249969482422,
          2.8569061756134033,
          2.9779276847839355,
          2.65094256401062,
          2.963172435760498,
          -0.8674167990684509,
          3.0344934463500977,
          2.614480495452881
         ],
         "z": [
          -3.4707934856414795,
          -6.252344131469727,
          -5.547926902770996,
          -6.767759323120117,
          -6.594672203063965,
          -7.77677059173584,
          -6.104575157165527,
          -7.625213623046875,
          -6.8453474044799805,
          -5.863833427429199,
          -5.666621208190918,
          -4.4477152824401855,
          -5.47242546081543,
          -7.342347621917725,
          -7.549637317657471,
          -7.766341686248779,
          -7.598031520843506,
          -7.566955089569092,
          -7.193533420562744,
          -4.089228630065918,
          -4.3759660720825195,
          -7.056288242340088,
          -5.583029270172119,
          -7.703200817108154,
          -5.9819464683532715,
          -5.253560543060303,
          -6.773958206176758,
          -6.980470657348633,
          -4.34354829788208,
          -7.816752910614014,
          -6.2285847663879395,
          -5.475606441497803,
          -7.984020233154297,
          -7.427860260009766
         ]
        },
        {
         "hovertemplate": "%{meta[4]}<extra></extra>",
         "meta": [
          [
           2,
           -3.060560703277588,
           -0.8247209191322327,
           12.773124694824219,
           "gun <br>blood <br>shadow <br>blade <br>storm <br>corridor <br>agent <br>star <br>slam <br>radio <br>guard <br>truck <br>creature <br>climb <br>weapon <br>rush <br>edge <br>metal <br>control <br>spin <br>"
          ],
          [
           2,
           -3.292250871658325,
           -1.9738521575927734,
           13.779025077819824,
           "gun <br>blood <br>shadow <br>blade <br>storm <br>corridor <br>agent <br>star <br>slam <br>radio <br>guard <br>truck <br>creature <br>climb <br>weapon <br>rush <br>edge <br>metal <br>control <br>spin <br>"
          ],
          [
           2,
           -2.2112388610839844,
           -1.9262665510177612,
           11.493132591247559,
           "gun <br>blood <br>shadow <br>blade <br>storm <br>corridor <br>agent <br>star <br>slam <br>radio <br>guard <br>truck <br>creature <br>climb <br>weapon <br>rush <br>edge <br>metal <br>control <br>spin <br>"
          ],
          [
           2,
           -2.463921546936035,
           -1.7448891401290894,
           13.199382781982422,
           "gun <br>blood <br>shadow <br>blade <br>storm <br>corridor <br>agent <br>star <br>slam <br>radio <br>guard <br>truck <br>creature <br>climb <br>weapon <br>rush <br>edge <br>metal <br>control <br>spin <br>"
          ],
          [
           2,
           -2.3915634155273438,
           -0.6628581881523132,
           10.966151237487793,
           "gun <br>blood <br>shadow <br>blade <br>storm <br>corridor <br>agent <br>star <br>slam <br>radio <br>guard <br>truck <br>creature <br>climb <br>weapon <br>rush <br>edge <br>metal <br>control <br>spin <br>"
          ],
          [
           2,
           -2.6401941776275635,
           -1.0804325342178345,
           13.407118797302246,
           "gun <br>blood <br>shadow <br>blade <br>storm <br>corridor <br>agent <br>star <br>slam <br>radio <br>guard <br>truck <br>creature <br>climb <br>weapon <br>rush <br>edge <br>metal <br>control <br>spin <br>"
          ],
          [
           2,
           -3.288723945617676,
           -1.8401377201080322,
           12.762288093566895,
           "gun <br>blood <br>shadow <br>blade <br>storm <br>corridor <br>agent <br>star <br>slam <br>radio <br>guard <br>truck <br>creature <br>climb <br>weapon <br>rush <br>edge <br>metal <br>control <br>spin <br>"
          ],
          [
           2,
           -2.890469551086426,
           -0.9852780103683472,
           11.699254989624023,
           "gun <br>blood <br>shadow <br>blade <br>storm <br>corridor <br>agent <br>star <br>slam <br>radio <br>guard <br>truck <br>creature <br>climb <br>weapon <br>rush <br>edge <br>metal <br>control <br>spin <br>"
          ],
          [
           2,
           -2.0468575954437256,
           -1.4207345247268677,
           10.079730987548828,
           "gun <br>blood <br>shadow <br>blade <br>storm <br>corridor <br>agent <br>star <br>slam <br>radio <br>guard <br>truck <br>creature <br>climb <br>weapon <br>rush <br>edge <br>metal <br>control <br>spin <br>"
          ],
          [
           2,
           -2.147937059402466,
           -0.8359391093254089,
           12.325138092041016,
           "gun <br>blood <br>shadow <br>blade <br>storm <br>corridor <br>agent <br>star <br>slam <br>radio <br>guard <br>truck <br>creature <br>climb <br>weapon <br>rush <br>edge <br>metal <br>control <br>spin <br>"
          ],
          [
           2,
           -3.4782190322875977,
           -2.1961400508880615,
           13.896578788757324,
           "gun <br>blood <br>shadow <br>blade <br>storm <br>corridor <br>agent <br>star <br>slam <br>radio <br>guard <br>truck <br>creature <br>climb <br>weapon <br>rush <br>edge <br>metal <br>control <br>spin <br>"
          ],
          [
           2,
           -3.020632743835449,
           -1.7904361486434937,
           12.888325691223145,
           "gun <br>blood <br>shadow <br>blade <br>storm <br>corridor <br>agent <br>star <br>slam <br>radio <br>guard <br>truck <br>creature <br>climb <br>weapon <br>rush <br>edge <br>metal <br>control <br>spin <br>"
          ],
          [
           2,
           -3.367619514465332,
           -1.1154972314834595,
           13.052729606628418,
           "gun <br>blood <br>shadow <br>blade <br>storm <br>corridor <br>agent <br>star <br>slam <br>radio <br>guard <br>truck <br>creature <br>climb <br>weapon <br>rush <br>edge <br>metal <br>control <br>spin <br>"
          ],
          [
           2,
           -2.4456801414489746,
           -1.9273213148117065,
           12.70546817779541,
           "gun <br>blood <br>shadow <br>blade <br>storm <br>corridor <br>agent <br>star <br>slam <br>radio <br>guard <br>truck <br>creature <br>climb <br>weapon <br>rush <br>edge <br>metal <br>control <br>spin <br>"
          ],
          [
           2,
           -2.7325799465179443,
           -1.3348257541656494,
           13.607220649719238,
           "gun <br>blood <br>shadow <br>blade <br>storm <br>corridor <br>agent <br>star <br>slam <br>radio <br>guard <br>truck <br>creature <br>climb <br>weapon <br>rush <br>edge <br>metal <br>control <br>spin <br>"
          ],
          [
           2,
           -2.647402763366699,
           -1.0728962421417236,
           11.312070846557617,
           "gun <br>blood <br>shadow <br>blade <br>storm <br>corridor <br>agent <br>star <br>slam <br>radio <br>guard <br>truck <br>creature <br>climb <br>weapon <br>rush <br>edge <br>metal <br>control <br>spin <br>"
          ],
          [
           2,
           -3.1462182998657227,
           -1.3995147943496704,
           11.839956283569336,
           "gun <br>blood <br>shadow <br>blade <br>storm <br>corridor <br>agent <br>star <br>slam <br>radio <br>guard <br>truck <br>creature <br>climb <br>weapon <br>rush <br>edge <br>metal <br>control <br>spin <br>"
          ],
          [
           2,
           -2.1461493968963623,
           -0.850718080997467,
           12.371682167053223,
           "gun <br>blood <br>shadow <br>blade <br>storm <br>corridor <br>agent <br>star <br>slam <br>radio <br>guard <br>truck <br>creature <br>climb <br>weapon <br>rush <br>edge <br>metal <br>control <br>spin <br>"
          ],
          [
           2,
           -3.3359410762786865,
           -1.2643883228302002,
           11.640809059143066,
           "gun <br>blood <br>shadow <br>blade <br>storm <br>corridor <br>agent <br>star <br>slam <br>radio <br>guard <br>truck <br>creature <br>climb <br>weapon <br>rush <br>edge <br>metal <br>control <br>spin <br>"
          ],
          [
           2,
           -3.325049638748169,
           -1.5357953310012817,
           12.54428768157959,
           "gun <br>blood <br>shadow <br>blade <br>storm <br>corridor <br>agent <br>star <br>slam <br>radio <br>guard <br>truck <br>creature <br>climb <br>weapon <br>rush <br>edge <br>metal <br>control <br>spin <br>"
          ],
          [
           2,
           -2.3161861896514893,
           -1.3895220756530762,
           12.853742599487305,
           "gun <br>blood <br>shadow <br>blade <br>storm <br>corridor <br>agent <br>star <br>slam <br>radio <br>guard <br>truck <br>creature <br>climb <br>weapon <br>rush <br>edge <br>metal <br>control <br>spin <br>"
          ]
         ],
         "mode": "markers",
         "showlegend": false,
         "type": "scatter3d",
         "x": [
          -3.060560703277588,
          -3.292250871658325,
          -2.2112388610839844,
          -2.463921546936035,
          -2.3915634155273438,
          -2.6401941776275635,
          -3.288723945617676,
          -2.890469551086426,
          -2.0468575954437256,
          -2.147937059402466,
          -3.4782190322875977,
          -3.020632743835449,
          -3.367619514465332,
          -2.4456801414489746,
          -2.7325799465179443,
          -2.647402763366699,
          -3.1462182998657227,
          -2.1461493968963623,
          -3.3359410762786865,
          -3.325049638748169,
          -2.3161861896514893
         ],
         "y": [
          -0.8247209191322327,
          -1.9738521575927734,
          -1.9262665510177612,
          -1.7448891401290894,
          -0.6628581881523132,
          -1.0804325342178345,
          -1.8401377201080322,
          -0.9852780103683472,
          -1.4207345247268677,
          -0.8359391093254089,
          -2.1961400508880615,
          -1.7904361486434937,
          -1.1154972314834595,
          -1.9273213148117065,
          -1.3348257541656494,
          -1.0728962421417236,
          -1.3995147943496704,
          -0.850718080997467,
          -1.2643883228302002,
          -1.5357953310012817,
          -1.3895220756530762
         ],
         "z": [
          12.773124694824219,
          13.779025077819824,
          11.493132591247559,
          13.199382781982422,
          10.966151237487793,
          13.407118797302246,
          12.762288093566895,
          11.699254989624023,
          10.079730987548828,
          12.325138092041016,
          13.896578788757324,
          12.888325691223145,
          13.052729606628418,
          12.70546817779541,
          13.607220649719238,
          11.312070846557617,
          11.839956283569336,
          12.371682167053223,
          11.640809059143066,
          12.54428768157959,
          12.853742599487305
         ]
        },
        {
         "hovertemplate": "%{meta[4]}<extra></extra>",
         "meta": [
          [
           3,
           -4.4846415519714355,
           1.86565101146698,
           4.134425163269043,
           "tom <br>michael <br>ed <br>peter <br>elizabeth <br>summer <br>milk <br>yeah <br>to <br>school <br>scott <br>go to <br>money <br>guy <br>phone <br>mayor <br>sheriff <br>uh <br>office <br>dog <br>"
          ],
          [
           3,
           -4.220921039581299,
           0.05110183730721474,
           4.799983978271484,
           "tom <br>michael <br>ed <br>peter <br>elizabeth <br>summer <br>milk <br>yeah <br>to <br>school <br>scott <br>go to <br>money <br>guy <br>phone <br>mayor <br>sheriff <br>uh <br>office <br>dog <br>"
          ],
          [
           3,
           -6.39764928817749,
           1.500755786895752,
           3.174100160598755,
           "tom <br>michael <br>ed <br>peter <br>elizabeth <br>summer <br>milk <br>yeah <br>to <br>school <br>scott <br>go to <br>money <br>guy <br>phone <br>mayor <br>sheriff <br>uh <br>office <br>dog <br>"
          ],
          [
           3,
           -4.683409214019775,
           1.8311712741851807,
           4.614071369171143,
           "tom <br>michael <br>ed <br>peter <br>elizabeth <br>summer <br>milk <br>yeah <br>to <br>school <br>scott <br>go to <br>money <br>guy <br>phone <br>mayor <br>sheriff <br>uh <br>office <br>dog <br>"
          ],
          [
           3,
           -5.557034492492676,
           0.6800798773765564,
           4.692605018615723,
           "tom <br>michael <br>ed <br>peter <br>elizabeth <br>summer <br>milk <br>yeah <br>to <br>school <br>scott <br>go to <br>money <br>guy <br>phone <br>mayor <br>sheriff <br>uh <br>office <br>dog <br>"
          ],
          [
           3,
           -2.674152135848999,
           -3.0344130992889404,
           1.4838759899139404,
           "tom <br>michael <br>ed <br>peter <br>elizabeth <br>summer <br>milk <br>yeah <br>to <br>school <br>scott <br>go to <br>money <br>guy <br>phone <br>mayor <br>sheriff <br>uh <br>office <br>dog <br>"
          ],
          [
           3,
           -4.2037577629089355,
           -0.003088835161179304,
           2.104688882827759,
           "tom <br>michael <br>ed <br>peter <br>elizabeth <br>summer <br>milk <br>yeah <br>to <br>school <br>scott <br>go to <br>money <br>guy <br>phone <br>mayor <br>sheriff <br>uh <br>office <br>dog <br>"
          ],
          [
           3,
           -1.4831594228744507,
           -2.870831251144409,
           2.6932713985443115,
           "tom <br>michael <br>ed <br>peter <br>elizabeth <br>summer <br>milk <br>yeah <br>to <br>school <br>scott <br>go to <br>money <br>guy <br>phone <br>mayor <br>sheriff <br>uh <br>office <br>dog <br>"
          ],
          [
           3,
           -1.2501285076141357,
           -0.1892022341489792,
           3.318093776702881,
           "tom <br>michael <br>ed <br>peter <br>elizabeth <br>summer <br>milk <br>yeah <br>to <br>school <br>scott <br>go to <br>money <br>guy <br>phone <br>mayor <br>sheriff <br>uh <br>office <br>dog <br>"
          ],
          [
           3,
           -6.367787837982178,
           0.6872012615203857,
           4.64148473739624,
           "tom <br>michael <br>ed <br>peter <br>elizabeth <br>summer <br>milk <br>yeah <br>to <br>school <br>scott <br>go to <br>money <br>guy <br>phone <br>mayor <br>sheriff <br>uh <br>office <br>dog <br>"
          ],
          [
           3,
           -5.260667324066162,
           1.187402606010437,
           4.460404872894287,
           "tom <br>michael <br>ed <br>peter <br>elizabeth <br>summer <br>milk <br>yeah <br>to <br>school <br>scott <br>go to <br>money <br>guy <br>phone <br>mayor <br>sheriff <br>uh <br>office <br>dog <br>"
          ],
          [
           3,
           -4.902989387512207,
           1.8050156831741333,
           3.9806578159332275,
           "tom <br>michael <br>ed <br>peter <br>elizabeth <br>summer <br>milk <br>yeah <br>to <br>school <br>scott <br>go to <br>money <br>guy <br>phone <br>mayor <br>sheriff <br>uh <br>office <br>dog <br>"
          ],
          [
           3,
           -5.172635078430176,
           -0.5647460222244263,
           2.935558557510376,
           "tom <br>michael <br>ed <br>peter <br>elizabeth <br>summer <br>milk <br>yeah <br>to <br>school <br>scott <br>go to <br>money <br>guy <br>phone <br>mayor <br>sheriff <br>uh <br>office <br>dog <br>"
          ],
          [
           3,
           -4.256024360656738,
           -2.135985851287842,
           0.14183567464351654,
           "tom <br>michael <br>ed <br>peter <br>elizabeth <br>summer <br>milk <br>yeah <br>to <br>school <br>scott <br>go to <br>money <br>guy <br>phone <br>mayor <br>sheriff <br>uh <br>office <br>dog <br>"
          ],
          [
           3,
           -2.4594738483428955,
           -0.09079567342996597,
           1.8506088256835938,
           "tom <br>michael <br>ed <br>peter <br>elizabeth <br>summer <br>milk <br>yeah <br>to <br>school <br>scott <br>go to <br>money <br>guy <br>phone <br>mayor <br>sheriff <br>uh <br>office <br>dog <br>"
          ],
          [
           3,
           -6.210224151611328,
           0.821092426776886,
           2.6418161392211914,
           "tom <br>michael <br>ed <br>peter <br>elizabeth <br>summer <br>milk <br>yeah <br>to <br>school <br>scott <br>go to <br>money <br>guy <br>phone <br>mayor <br>sheriff <br>uh <br>office <br>dog <br>"
          ],
          [
           3,
           -6.225177764892578,
           0.2686239778995514,
           1.719079613685608,
           "tom <br>michael <br>ed <br>peter <br>elizabeth <br>summer <br>milk <br>yeah <br>to <br>school <br>scott <br>go to <br>money <br>guy <br>phone <br>mayor <br>sheriff <br>uh <br>office <br>dog <br>"
          ],
          [
           3,
           -3.977149724960327,
           1.8961944580078125,
           3.746532917022705,
           "tom <br>michael <br>ed <br>peter <br>elizabeth <br>summer <br>milk <br>yeah <br>to <br>school <br>scott <br>go to <br>money <br>guy <br>phone <br>mayor <br>sheriff <br>uh <br>office <br>dog <br>"
          ],
          [
           3,
           -4.434399127960205,
           0.28086987137794495,
           2.926548719406128,
           "tom <br>michael <br>ed <br>peter <br>elizabeth <br>summer <br>milk <br>yeah <br>to <br>school <br>scott <br>go to <br>money <br>guy <br>phone <br>mayor <br>sheriff <br>uh <br>office <br>dog <br>"
          ],
          [
           3,
           -5.159825801849365,
           0.5198825597763062,
           2.158114433288574,
           "tom <br>michael <br>ed <br>peter <br>elizabeth <br>summer <br>milk <br>yeah <br>to <br>school <br>scott <br>go to <br>money <br>guy <br>phone <br>mayor <br>sheriff <br>uh <br>office <br>dog <br>"
          ],
          [
           3,
           -2.2360024452209473,
           -2.2635176181793213,
           1.9262293577194214,
           "tom <br>michael <br>ed <br>peter <br>elizabeth <br>summer <br>milk <br>yeah <br>to <br>school <br>scott <br>go to <br>money <br>guy <br>phone <br>mayor <br>sheriff <br>uh <br>office <br>dog <br>"
          ],
          [
           3,
           -5.884974479675293,
           0.2040804624557495,
           5.6742119789123535,
           "tom <br>michael <br>ed <br>peter <br>elizabeth <br>summer <br>milk <br>yeah <br>to <br>school <br>scott <br>go to <br>money <br>guy <br>phone <br>mayor <br>sheriff <br>uh <br>office <br>dog <br>"
          ],
          [
           3,
           -5.532390117645264,
           0.31745001673698425,
           3.7601418495178223,
           "tom <br>michael <br>ed <br>peter <br>elizabeth <br>summer <br>milk <br>yeah <br>to <br>school <br>scott <br>go to <br>money <br>guy <br>phone <br>mayor <br>sheriff <br>uh <br>office <br>dog <br>"
          ],
          [
           3,
           -4.703983306884766,
           0.22004200518131256,
           0.08634413033723831,
           "tom <br>michael <br>ed <br>peter <br>elizabeth <br>summer <br>milk <br>yeah <br>to <br>school <br>scott <br>go to <br>money <br>guy <br>phone <br>mayor <br>sheriff <br>uh <br>office <br>dog <br>"
          ],
          [
           3,
           -6.94641637802124,
           0.6030827164649963,
           4.049796104431152,
           "tom <br>michael <br>ed <br>peter <br>elizabeth <br>summer <br>milk <br>yeah <br>to <br>school <br>scott <br>go to <br>money <br>guy <br>phone <br>mayor <br>sheriff <br>uh <br>office <br>dog <br>"
          ],
          [
           3,
           -5.808567523956299,
           0.14227190613746643,
           5.015992641448975,
           "tom <br>michael <br>ed <br>peter <br>elizabeth <br>summer <br>milk <br>yeah <br>to <br>school <br>scott <br>go to <br>money <br>guy <br>phone <br>mayor <br>sheriff <br>uh <br>office <br>dog <br>"
          ],
          [
           3,
           -2.815887212753296,
           2.74406361579895,
           5.135493278503418,
           "tom <br>michael <br>ed <br>peter <br>elizabeth <br>summer <br>milk <br>yeah <br>to <br>school <br>scott <br>go to <br>money <br>guy <br>phone <br>mayor <br>sheriff <br>uh <br>office <br>dog <br>"
          ],
          [
           3,
           -6.431939601898193,
           2.355783700942993,
           2.6762771606445312,
           "tom <br>michael <br>ed <br>peter <br>elizabeth <br>summer <br>milk <br>yeah <br>to <br>school <br>scott <br>go to <br>money <br>guy <br>phone <br>mayor <br>sheriff <br>uh <br>office <br>dog <br>"
          ],
          [
           3,
           -5.204980373382568,
           1.1189358234405518,
           4.862292766571045,
           "tom <br>michael <br>ed <br>peter <br>elizabeth <br>summer <br>milk <br>yeah <br>to <br>school <br>scott <br>go to <br>money <br>guy <br>phone <br>mayor <br>sheriff <br>uh <br>office <br>dog <br>"
          ],
          [
           3,
           -6.699579238891602,
           0.8969588875770569,
           2.4161834716796875,
           "tom <br>michael <br>ed <br>peter <br>elizabeth <br>summer <br>milk <br>yeah <br>to <br>school <br>scott <br>go to <br>money <br>guy <br>phone <br>mayor <br>sheriff <br>uh <br>office <br>dog <br>"
          ],
          [
           3,
           -4.98502779006958,
           0.9803237318992615,
           3.0452003479003906,
           "tom <br>michael <br>ed <br>peter <br>elizabeth <br>summer <br>milk <br>yeah <br>to <br>school <br>scott <br>go to <br>money <br>guy <br>phone <br>mayor <br>sheriff <br>uh <br>office <br>dog <br>"
          ],
          [
           3,
           -3.0924410820007324,
           2.295621871948242,
           4.619145393371582,
           "tom <br>michael <br>ed <br>peter <br>elizabeth <br>summer <br>milk <br>yeah <br>to <br>school <br>scott <br>go to <br>money <br>guy <br>phone <br>mayor <br>sheriff <br>uh <br>office <br>dog <br>"
          ],
          [
           3,
           -4.06689453125,
           0.4956589937210083,
           1.175855040550232,
           "tom <br>michael <br>ed <br>peter <br>elizabeth <br>summer <br>milk <br>yeah <br>to <br>school <br>scott <br>go to <br>money <br>guy <br>phone <br>mayor <br>sheriff <br>uh <br>office <br>dog <br>"
          ],
          [
           3,
           -1.25767982006073,
           -0.27762123942375183,
           4.760843276977539,
           "tom <br>michael <br>ed <br>peter <br>elizabeth <br>summer <br>milk <br>yeah <br>to <br>school <br>scott <br>go to <br>money <br>guy <br>phone <br>mayor <br>sheriff <br>uh <br>office <br>dog <br>"
          ],
          [
           3,
           -6.5467634201049805,
           1.395487904548645,
           4.334614276885986,
           "tom <br>michael <br>ed <br>peter <br>elizabeth <br>summer <br>milk <br>yeah <br>to <br>school <br>scott <br>go to <br>money <br>guy <br>phone <br>mayor <br>sheriff <br>uh <br>office <br>dog <br>"
          ],
          [
           3,
           -5.0145039558410645,
           -0.610725462436676,
           3.956653594970703,
           "tom <br>michael <br>ed <br>peter <br>elizabeth <br>summer <br>milk <br>yeah <br>to <br>school <br>scott <br>go to <br>money <br>guy <br>phone <br>mayor <br>sheriff <br>uh <br>office <br>dog <br>"
          ],
          [
           3,
           -4.598586082458496,
           0.09417706727981567,
           -0.2840594947338104,
           "tom <br>michael <br>ed <br>peter <br>elizabeth <br>summer <br>milk <br>yeah <br>to <br>school <br>scott <br>go to <br>money <br>guy <br>phone <br>mayor <br>sheriff <br>uh <br>office <br>dog <br>"
          ],
          [
           3,
           -3.2769858837127686,
           -2.200902223587036,
           4.250349998474121,
           "tom <br>michael <br>ed <br>peter <br>elizabeth <br>summer <br>milk <br>yeah <br>to <br>school <br>scott <br>go to <br>money <br>guy <br>phone <br>mayor <br>sheriff <br>uh <br>office <br>dog <br>"
          ],
          [
           3,
           -2.0705859661102295,
           -0.2401115894317627,
           0.7241157293319702,
           "tom <br>michael <br>ed <br>peter <br>elizabeth <br>summer <br>milk <br>yeah <br>to <br>school <br>scott <br>go to <br>money <br>guy <br>phone <br>mayor <br>sheriff <br>uh <br>office <br>dog <br>"
          ],
          [
           3,
           -2.3876917362213135,
           -2.840146064758301,
           3.4122626781463623,
           "tom <br>michael <br>ed <br>peter <br>elizabeth <br>summer <br>milk <br>yeah <br>to <br>school <br>scott <br>go to <br>money <br>guy <br>phone <br>mayor <br>sheriff <br>uh <br>office <br>dog <br>"
          ],
          [
           3,
           -5.5538010597229,
           0.6382587552070618,
           4.3479743003845215,
           "tom <br>michael <br>ed <br>peter <br>elizabeth <br>summer <br>milk <br>yeah <br>to <br>school <br>scott <br>go to <br>money <br>guy <br>phone <br>mayor <br>sheriff <br>uh <br>office <br>dog <br>"
          ],
          [
           3,
           -1.1321258544921875,
           0.05194675922393799,
           3.348555088043213,
           "tom <br>michael <br>ed <br>peter <br>elizabeth <br>summer <br>milk <br>yeah <br>to <br>school <br>scott <br>go to <br>money <br>guy <br>phone <br>mayor <br>sheriff <br>uh <br>office <br>dog <br>"
          ],
          [
           3,
           -3.5984835624694824,
           0.26537802815437317,
           3.8284268379211426,
           "tom <br>michael <br>ed <br>peter <br>elizabeth <br>summer <br>milk <br>yeah <br>to <br>school <br>scott <br>go to <br>money <br>guy <br>phone <br>mayor <br>sheriff <br>uh <br>office <br>dog <br>"
          ],
          [
           3,
           -3.9793541431427,
           -2.2369444370269775,
           0.33418506383895874,
           "tom <br>michael <br>ed <br>peter <br>elizabeth <br>summer <br>milk <br>yeah <br>to <br>school <br>scott <br>go to <br>money <br>guy <br>phone <br>mayor <br>sheriff <br>uh <br>office <br>dog <br>"
          ],
          [
           3,
           -2.9278016090393066,
           0.36133715510368347,
           4.066051959991455,
           "tom <br>michael <br>ed <br>peter <br>elizabeth <br>summer <br>milk <br>yeah <br>to <br>school <br>scott <br>go to <br>money <br>guy <br>phone <br>mayor <br>sheriff <br>uh <br>office <br>dog <br>"
          ],
          [
           3,
           -5.17133092880249,
           1.0190786123275757,
           3.907010555267334,
           "tom <br>michael <br>ed <br>peter <br>elizabeth <br>summer <br>milk <br>yeah <br>to <br>school <br>scott <br>go to <br>money <br>guy <br>phone <br>mayor <br>sheriff <br>uh <br>office <br>dog <br>"
          ],
          [
           3,
           -4.6577863693237305,
           0.3976992666721344,
           0.6204546093940735,
           "tom <br>michael <br>ed <br>peter <br>elizabeth <br>summer <br>milk <br>yeah <br>to <br>school <br>scott <br>go to <br>money <br>guy <br>phone <br>mayor <br>sheriff <br>uh <br>office <br>dog <br>"
          ],
          [
           3,
           -3.935969829559326,
           -1.0412968397140503,
           2.578779935836792,
           "tom <br>michael <br>ed <br>peter <br>elizabeth <br>summer <br>milk <br>yeah <br>to <br>school <br>scott <br>go to <br>money <br>guy <br>phone <br>mayor <br>sheriff <br>uh <br>office <br>dog <br>"
          ],
          [
           3,
           -4.989021301269531,
           2.89650297164917,
           0.8818517923355103,
           "tom <br>michael <br>ed <br>peter <br>elizabeth <br>summer <br>milk <br>yeah <br>to <br>school <br>scott <br>go to <br>money <br>guy <br>phone <br>mayor <br>sheriff <br>uh <br>office <br>dog <br>"
          ],
          [
           3,
           -5.286147594451904,
           0.18847821652889252,
           0.5267022848129272,
           "tom <br>michael <br>ed <br>peter <br>elizabeth <br>summer <br>milk <br>yeah <br>to <br>school <br>scott <br>go to <br>money <br>guy <br>phone <br>mayor <br>sheriff <br>uh <br>office <br>dog <br>"
          ],
          [
           3,
           -5.54226541519165,
           -0.16331186890602112,
           -0.14044803380966187,
           "tom <br>michael <br>ed <br>peter <br>elizabeth <br>summer <br>milk <br>yeah <br>to <br>school <br>scott <br>go to <br>money <br>guy <br>phone <br>mayor <br>sheriff <br>uh <br>office <br>dog <br>"
          ],
          [
           3,
           -1.9068204164505005,
           0.09739115834236145,
           4.087394714355469,
           "tom <br>michael <br>ed <br>peter <br>elizabeth <br>summer <br>milk <br>yeah <br>to <br>school <br>scott <br>go to <br>money <br>guy <br>phone <br>mayor <br>sheriff <br>uh <br>office <br>dog <br>"
          ],
          [
           3,
           -2.4055938720703125,
           -0.11091215908527374,
           1.2410857677459717,
           "tom <br>michael <br>ed <br>peter <br>elizabeth <br>summer <br>milk <br>yeah <br>to <br>school <br>scott <br>go to <br>money <br>guy <br>phone <br>mayor <br>sheriff <br>uh <br>office <br>dog <br>"
          ],
          [
           3,
           -6.849273204803467,
           0.5586077570915222,
           4.0168657302856445,
           "tom <br>michael <br>ed <br>peter <br>elizabeth <br>summer <br>milk <br>yeah <br>to <br>school <br>scott <br>go to <br>money <br>guy <br>phone <br>mayor <br>sheriff <br>uh <br>office <br>dog <br>"
          ],
          [
           3,
           -2.3573246002197266,
           -1.9941861629486084,
           1.806117296218872,
           "tom <br>michael <br>ed <br>peter <br>elizabeth <br>summer <br>milk <br>yeah <br>to <br>school <br>scott <br>go to <br>money <br>guy <br>phone <br>mayor <br>sheriff <br>uh <br>office <br>dog <br>"
          ],
          [
           3,
           -3.86787486076355,
           2.066229820251465,
           3.8791921138763428,
           "tom <br>michael <br>ed <br>peter <br>elizabeth <br>summer <br>milk <br>yeah <br>to <br>school <br>scott <br>go to <br>money <br>guy <br>phone <br>mayor <br>sheriff <br>uh <br>office <br>dog <br>"
          ],
          [
           3,
           -5.0663580894470215,
           0.07781051099300385,
           4.977497100830078,
           "tom <br>michael <br>ed <br>peter <br>elizabeth <br>summer <br>milk <br>yeah <br>to <br>school <br>scott <br>go to <br>money <br>guy <br>phone <br>mayor <br>sheriff <br>uh <br>office <br>dog <br>"
          ],
          [
           3,
           -5.9190592765808105,
           0.2846086919307709,
           5.389311790466309,
           "tom <br>michael <br>ed <br>peter <br>elizabeth <br>summer <br>milk <br>yeah <br>to <br>school <br>scott <br>go to <br>money <br>guy <br>phone <br>mayor <br>sheriff <br>uh <br>office <br>dog <br>"
          ],
          [
           3,
           -4.8667449951171875,
           0.4445223808288574,
           0.85606849193573,
           "tom <br>michael <br>ed <br>peter <br>elizabeth <br>summer <br>milk <br>yeah <br>to <br>school <br>scott <br>go to <br>money <br>guy <br>phone <br>mayor <br>sheriff <br>uh <br>office <br>dog <br>"
          ],
          [
           3,
           -4.210104942321777,
           1.8317248821258545,
           2.042163133621216,
           "tom <br>michael <br>ed <br>peter <br>elizabeth <br>summer <br>milk <br>yeah <br>to <br>school <br>scott <br>go to <br>money <br>guy <br>phone <br>mayor <br>sheriff <br>uh <br>office <br>dog <br>"
          ],
          [
           3,
           -5.133763790130615,
           0.36470773816108704,
           3.0069565773010254,
           "tom <br>michael <br>ed <br>peter <br>elizabeth <br>summer <br>milk <br>yeah <br>to <br>school <br>scott <br>go to <br>money <br>guy <br>phone <br>mayor <br>sheriff <br>uh <br>office <br>dog <br>"
          ],
          [
           3,
           -5.550694465637207,
           2.721928119659424,
           1.829126000404358,
           "tom <br>michael <br>ed <br>peter <br>elizabeth <br>summer <br>milk <br>yeah <br>to <br>school <br>scott <br>go to <br>money <br>guy <br>phone <br>mayor <br>sheriff <br>uh <br>office <br>dog <br>"
          ]
         ],
         "mode": "markers",
         "showlegend": false,
         "type": "scatter3d",
         "x": [
          -4.4846415519714355,
          -4.220921039581299,
          -6.39764928817749,
          -4.683409214019775,
          -5.557034492492676,
          -2.674152135848999,
          -4.2037577629089355,
          -1.4831594228744507,
          -1.2501285076141357,
          -6.367787837982178,
          -5.260667324066162,
          -4.902989387512207,
          -5.172635078430176,
          -4.256024360656738,
          -2.4594738483428955,
          -6.210224151611328,
          -6.225177764892578,
          -3.977149724960327,
          -4.434399127960205,
          -5.159825801849365,
          -2.2360024452209473,
          -5.884974479675293,
          -5.532390117645264,
          -4.703983306884766,
          -6.94641637802124,
          -5.808567523956299,
          -2.815887212753296,
          -6.431939601898193,
          -5.204980373382568,
          -6.699579238891602,
          -4.98502779006958,
          -3.0924410820007324,
          -4.06689453125,
          -1.25767982006073,
          -6.5467634201049805,
          -5.0145039558410645,
          -4.598586082458496,
          -3.2769858837127686,
          -2.0705859661102295,
          -2.3876917362213135,
          -5.5538010597229,
          -1.1321258544921875,
          -3.5984835624694824,
          -3.9793541431427,
          -2.9278016090393066,
          -5.17133092880249,
          -4.6577863693237305,
          -3.935969829559326,
          -4.989021301269531,
          -5.286147594451904,
          -5.54226541519165,
          -1.9068204164505005,
          -2.4055938720703125,
          -6.849273204803467,
          -2.3573246002197266,
          -3.86787486076355,
          -5.0663580894470215,
          -5.9190592765808105,
          -4.8667449951171875,
          -4.210104942321777,
          -5.133763790130615,
          -5.550694465637207
         ],
         "y": [
          1.86565101146698,
          0.05110183730721474,
          1.500755786895752,
          1.8311712741851807,
          0.6800798773765564,
          -3.0344130992889404,
          -0.003088835161179304,
          -2.870831251144409,
          -0.1892022341489792,
          0.6872012615203857,
          1.187402606010437,
          1.8050156831741333,
          -0.5647460222244263,
          -2.135985851287842,
          -0.09079567342996597,
          0.821092426776886,
          0.2686239778995514,
          1.8961944580078125,
          0.28086987137794495,
          0.5198825597763062,
          -2.2635176181793213,
          0.2040804624557495,
          0.31745001673698425,
          0.22004200518131256,
          0.6030827164649963,
          0.14227190613746643,
          2.74406361579895,
          2.355783700942993,
          1.1189358234405518,
          0.8969588875770569,
          0.9803237318992615,
          2.295621871948242,
          0.4956589937210083,
          -0.27762123942375183,
          1.395487904548645,
          -0.610725462436676,
          0.09417706727981567,
          -2.200902223587036,
          -0.2401115894317627,
          -2.840146064758301,
          0.6382587552070618,
          0.05194675922393799,
          0.26537802815437317,
          -2.2369444370269775,
          0.36133715510368347,
          1.0190786123275757,
          0.3976992666721344,
          -1.0412968397140503,
          2.89650297164917,
          0.18847821652889252,
          -0.16331186890602112,
          0.09739115834236145,
          -0.11091215908527374,
          0.5586077570915222,
          -1.9941861629486084,
          2.066229820251465,
          0.07781051099300385,
          0.2846086919307709,
          0.4445223808288574,
          1.8317248821258545,
          0.36470773816108704,
          2.721928119659424
         ],
         "z": [
          4.134425163269043,
          4.799983978271484,
          3.174100160598755,
          4.614071369171143,
          4.692605018615723,
          1.4838759899139404,
          2.104688882827759,
          2.6932713985443115,
          3.318093776702881,
          4.64148473739624,
          4.460404872894287,
          3.9806578159332275,
          2.935558557510376,
          0.14183567464351654,
          1.8506088256835938,
          2.6418161392211914,
          1.719079613685608,
          3.746532917022705,
          2.926548719406128,
          2.158114433288574,
          1.9262293577194214,
          5.6742119789123535,
          3.7601418495178223,
          0.08634413033723831,
          4.049796104431152,
          5.015992641448975,
          5.135493278503418,
          2.6762771606445312,
          4.862292766571045,
          2.4161834716796875,
          3.0452003479003906,
          4.619145393371582,
          1.175855040550232,
          4.760843276977539,
          4.334614276885986,
          3.956653594970703,
          -0.2840594947338104,
          4.250349998474121,
          0.7241157293319702,
          3.4122626781463623,
          4.3479743003845215,
          3.348555088043213,
          3.8284268379211426,
          0.33418506383895874,
          4.066051959991455,
          3.907010555267334,
          0.6204546093940735,
          2.578779935836792,
          0.8818517923355103,
          0.5267022848129272,
          -0.14044803380966187,
          4.087394714355469,
          1.2410857677459717,
          4.0168657302856445,
          1.806117296218872,
          3.8791921138763428,
          4.977497100830078,
          5.389311790466309,
          0.85606849193573,
          2.042163133621216,
          3.0069565773010254,
          1.829126000404358
         ]
        },
        {
         "hovertemplate": "%{meta[4]}<extra></extra>",
         "meta": [
          [
           4,
           -7.229425430297852,
           9.253779411315918,
           9.085867881774902,
           "jack <br>ace <br>adam <br>camera <br>mile <br>price <br>ma <br>bloom <br>alike <br>apartment <br>v.o <br>yeah <br>phone <br>hotel <br>cut int <br>to <br>okay <br>telephone <br>money <br>guy <br>"
          ],
          [
           4,
           -7.531777381896973,
           9.215408325195312,
           7.877636432647705,
           "jack <br>ace <br>adam <br>camera <br>mile <br>price <br>ma <br>bloom <br>alike <br>apartment <br>v.o <br>yeah <br>phone <br>hotel <br>cut int <br>to <br>okay <br>telephone <br>money <br>guy <br>"
          ],
          [
           4,
           -6.279688358306885,
           9.376289367675781,
           8.447184562683105,
           "jack <br>ace <br>adam <br>camera <br>mile <br>price <br>ma <br>bloom <br>alike <br>apartment <br>v.o <br>yeah <br>phone <br>hotel <br>cut int <br>to <br>okay <br>telephone <br>money <br>guy <br>"
          ],
          [
           4,
           -7.081489562988281,
           9.172412872314453,
           9.646921157836914,
           "jack <br>ace <br>adam <br>camera <br>mile <br>price <br>ma <br>bloom <br>alike <br>apartment <br>v.o <br>yeah <br>phone <br>hotel <br>cut int <br>to <br>okay <br>telephone <br>money <br>guy <br>"
          ],
          [
           4,
           -7.634933948516846,
           9.618156433105469,
           9.510843276977539,
           "jack <br>ace <br>adam <br>camera <br>mile <br>price <br>ma <br>bloom <br>alike <br>apartment <br>v.o <br>yeah <br>phone <br>hotel <br>cut int <br>to <br>okay <br>telephone <br>money <br>guy <br>"
          ],
          [
           4,
           -6.3075408935546875,
           9.230854034423828,
           8.254379272460938,
           "jack <br>ace <br>adam <br>camera <br>mile <br>price <br>ma <br>bloom <br>alike <br>apartment <br>v.o <br>yeah <br>phone <br>hotel <br>cut int <br>to <br>okay <br>telephone <br>money <br>guy <br>"
          ],
          [
           4,
           -7.85377311706543,
           9.826217651367188,
           9.93472671508789,
           "jack <br>ace <br>adam <br>camera <br>mile <br>price <br>ma <br>bloom <br>alike <br>apartment <br>v.o <br>yeah <br>phone <br>hotel <br>cut int <br>to <br>okay <br>telephone <br>money <br>guy <br>"
          ],
          [
           4,
           -6.392448902130127,
           7.663220405578613,
           6.781622886657715,
           "jack <br>ace <br>adam <br>camera <br>mile <br>price <br>ma <br>bloom <br>alike <br>apartment <br>v.o <br>yeah <br>phone <br>hotel <br>cut int <br>to <br>okay <br>telephone <br>money <br>guy <br>"
          ],
          [
           4,
           -7.472623825073242,
           9.44745922088623,
           9.476884841918945,
           "jack <br>ace <br>adam <br>camera <br>mile <br>price <br>ma <br>bloom <br>alike <br>apartment <br>v.o <br>yeah <br>phone <br>hotel <br>cut int <br>to <br>okay <br>telephone <br>money <br>guy <br>"
          ],
          [
           4,
           -6.346491813659668,
           7.747242450714111,
           6.912530899047852,
           "jack <br>ace <br>adam <br>camera <br>mile <br>price <br>ma <br>bloom <br>alike <br>apartment <br>v.o <br>yeah <br>phone <br>hotel <br>cut int <br>to <br>okay <br>telephone <br>money <br>guy <br>"
          ],
          [
           4,
           -7.396313190460205,
           9.278122901916504,
           8.923927307128906,
           "jack <br>ace <br>adam <br>camera <br>mile <br>price <br>ma <br>bloom <br>alike <br>apartment <br>v.o <br>yeah <br>phone <br>hotel <br>cut int <br>to <br>okay <br>telephone <br>money <br>guy <br>"
          ],
          [
           4,
           -5.775644302368164,
           8.562297821044922,
           7.456472873687744,
           "jack <br>ace <br>adam <br>camera <br>mile <br>price <br>ma <br>bloom <br>alike <br>apartment <br>v.o <br>yeah <br>phone <br>hotel <br>cut int <br>to <br>okay <br>telephone <br>money <br>guy <br>"
          ],
          [
           4,
           -7.12559175491333,
           8.53721809387207,
           7.865501880645752,
           "jack <br>ace <br>adam <br>camera <br>mile <br>price <br>ma <br>bloom <br>alike <br>apartment <br>v.o <br>yeah <br>phone <br>hotel <br>cut int <br>to <br>okay <br>telephone <br>money <br>guy <br>"
          ],
          [
           4,
           -5.547668933868408,
           9.193156242370605,
           7.92691707611084,
           "jack <br>ace <br>adam <br>camera <br>mile <br>price <br>ma <br>bloom <br>alike <br>apartment <br>v.o <br>yeah <br>phone <br>hotel <br>cut int <br>to <br>okay <br>telephone <br>money <br>guy <br>"
          ],
          [
           4,
           -6.048357963562012,
           7.934023857116699,
           6.9885993003845215,
           "jack <br>ace <br>adam <br>camera <br>mile <br>price <br>ma <br>bloom <br>alike <br>apartment <br>v.o <br>yeah <br>phone <br>hotel <br>cut int <br>to <br>okay <br>telephone <br>money <br>guy <br>"
          ],
          [
           4,
           -7.810037612915039,
           9.656100273132324,
           8.205290794372559,
           "jack <br>ace <br>adam <br>camera <br>mile <br>price <br>ma <br>bloom <br>alike <br>apartment <br>v.o <br>yeah <br>phone <br>hotel <br>cut int <br>to <br>okay <br>telephone <br>money <br>guy <br>"
          ],
          [
           4,
           -7.333704471588135,
           9.753978729248047,
           9.344776153564453,
           "jack <br>ace <br>adam <br>camera <br>mile <br>price <br>ma <br>bloom <br>alike <br>apartment <br>v.o <br>yeah <br>phone <br>hotel <br>cut int <br>to <br>okay <br>telephone <br>money <br>guy <br>"
          ],
          [
           4,
           -5.243413925170898,
           8.506014823913574,
           7.901357650756836,
           "jack <br>ace <br>adam <br>camera <br>mile <br>price <br>ma <br>bloom <br>alike <br>apartment <br>v.o <br>yeah <br>phone <br>hotel <br>cut int <br>to <br>okay <br>telephone <br>money <br>guy <br>"
          ],
          [
           4,
           -7.057484149932861,
           9.27746868133545,
           8.768702507019043,
           "jack <br>ace <br>adam <br>camera <br>mile <br>price <br>ma <br>bloom <br>alike <br>apartment <br>v.o <br>yeah <br>phone <br>hotel <br>cut int <br>to <br>okay <br>telephone <br>money <br>guy <br>"
          ],
          [
           4,
           -6.901804447174072,
           10.098153114318848,
           9.005455017089844,
           "jack <br>ace <br>adam <br>camera <br>mile <br>price <br>ma <br>bloom <br>alike <br>apartment <br>v.o <br>yeah <br>phone <br>hotel <br>cut int <br>to <br>okay <br>telephone <br>money <br>guy <br>"
          ],
          [
           4,
           -5.622654914855957,
           8.473827362060547,
           7.454720497131348,
           "jack <br>ace <br>adam <br>camera <br>mile <br>price <br>ma <br>bloom <br>alike <br>apartment <br>v.o <br>yeah <br>phone <br>hotel <br>cut int <br>to <br>okay <br>telephone <br>money <br>guy <br>"
          ],
          [
           4,
           -6.443532943725586,
           7.484720230102539,
           7.726707935333252,
           "jack <br>ace <br>adam <br>camera <br>mile <br>price <br>ma <br>bloom <br>alike <br>apartment <br>v.o <br>yeah <br>phone <br>hotel <br>cut int <br>to <br>okay <br>telephone <br>money <br>guy <br>"
          ]
         ],
         "mode": "markers",
         "showlegend": false,
         "type": "scatter3d",
         "x": [
          -7.229425430297852,
          -7.531777381896973,
          -6.279688358306885,
          -7.081489562988281,
          -7.634933948516846,
          -6.3075408935546875,
          -7.85377311706543,
          -6.392448902130127,
          -7.472623825073242,
          -6.346491813659668,
          -7.396313190460205,
          -5.775644302368164,
          -7.12559175491333,
          -5.547668933868408,
          -6.048357963562012,
          -7.810037612915039,
          -7.333704471588135,
          -5.243413925170898,
          -7.057484149932861,
          -6.901804447174072,
          -5.622654914855957,
          -6.443532943725586
         ],
         "y": [
          9.253779411315918,
          9.215408325195312,
          9.376289367675781,
          9.172412872314453,
          9.618156433105469,
          9.230854034423828,
          9.826217651367188,
          7.663220405578613,
          9.44745922088623,
          7.747242450714111,
          9.278122901916504,
          8.562297821044922,
          8.53721809387207,
          9.193156242370605,
          7.934023857116699,
          9.656100273132324,
          9.753978729248047,
          8.506014823913574,
          9.27746868133545,
          10.098153114318848,
          8.473827362060547,
          7.484720230102539
         ],
         "z": [
          9.085867881774902,
          7.877636432647705,
          8.447184562683105,
          9.646921157836914,
          9.510843276977539,
          8.254379272460938,
          9.93472671508789,
          6.781622886657715,
          9.476884841918945,
          6.912530899047852,
          8.923927307128906,
          7.456472873687744,
          7.865501880645752,
          7.92691707611084,
          6.9885993003845215,
          8.205290794372559,
          9.344776153564453,
          7.901357650756836,
          8.768702507019043,
          9.005455017089844,
          7.454720497131348,
          7.726707935333252
         ]
        },
        {
         "hovertemplate": "%{meta[4]}<extra></extra>",
         "meta": [
          [
           5,
           3.547712564468384,
           -5.067800045013428,
           -0.18972645699977875,
           "ship <br>tommy <br>sir <br>johnny <br>space <br>control <br>captain <br>bridge <br>angle <br>grant <br>x <br>pilot <br>president <br>power <br>west <br>screen <br>plane <br>deck <br>smith <br>dr <br>"
          ],
          [
           5,
           2.8282089233398438,
           -5.245742321014404,
           3.2495837211608887,
           "ship <br>tommy <br>sir <br>johnny <br>space <br>control <br>captain <br>bridge <br>angle <br>grant <br>x <br>pilot <br>president <br>power <br>west <br>screen <br>plane <br>deck <br>smith <br>dr <br>"
          ],
          [
           5,
           3.9492523670196533,
           -4.936412811279297,
           -0.3502214252948761,
           "ship <br>tommy <br>sir <br>johnny <br>space <br>control <br>captain <br>bridge <br>angle <br>grant <br>x <br>pilot <br>president <br>power <br>west <br>screen <br>plane <br>deck <br>smith <br>dr <br>"
          ],
          [
           5,
           2.0130436420440674,
           -6.709551811218262,
           0.9523513317108154,
           "ship <br>tommy <br>sir <br>johnny <br>space <br>control <br>captain <br>bridge <br>angle <br>grant <br>x <br>pilot <br>president <br>power <br>west <br>screen <br>plane <br>deck <br>smith <br>dr <br>"
          ],
          [
           5,
           3.8208742141723633,
           -4.008091449737549,
           1.6709716320037842,
           "ship <br>tommy <br>sir <br>johnny <br>space <br>control <br>captain <br>bridge <br>angle <br>grant <br>x <br>pilot <br>president <br>power <br>west <br>screen <br>plane <br>deck <br>smith <br>dr <br>"
          ],
          [
           5,
           2.5405495166778564,
           -5.5127034187316895,
           2.4864611625671387,
           "ship <br>tommy <br>sir <br>johnny <br>space <br>control <br>captain <br>bridge <br>angle <br>grant <br>x <br>pilot <br>president <br>power <br>west <br>screen <br>plane <br>deck <br>smith <br>dr <br>"
          ],
          [
           5,
           2.3240702152252197,
           -3.2317121028900146,
           1.833185076713562,
           "ship <br>tommy <br>sir <br>johnny <br>space <br>control <br>captain <br>bridge <br>angle <br>grant <br>x <br>pilot <br>president <br>power <br>west <br>screen <br>plane <br>deck <br>smith <br>dr <br>"
          ],
          [
           5,
           1.3121196031570435,
           -6.992545127868652,
           3.4322614669799805,
           "ship <br>tommy <br>sir <br>johnny <br>space <br>control <br>captain <br>bridge <br>angle <br>grant <br>x <br>pilot <br>president <br>power <br>west <br>screen <br>plane <br>deck <br>smith <br>dr <br>"
          ],
          [
           5,
           2.131636619567871,
           -2.960115671157837,
           1.6029353141784668,
           "ship <br>tommy <br>sir <br>johnny <br>space <br>control <br>captain <br>bridge <br>angle <br>grant <br>x <br>pilot <br>president <br>power <br>west <br>screen <br>plane <br>deck <br>smith <br>dr <br>"
          ],
          [
           5,
           1.9983766078948975,
           -6.695428848266602,
           1.3263661861419678,
           "ship <br>tommy <br>sir <br>johnny <br>space <br>control <br>captain <br>bridge <br>angle <br>grant <br>x <br>pilot <br>president <br>power <br>west <br>screen <br>plane <br>deck <br>smith <br>dr <br>"
          ],
          [
           5,
           0.09774907678365707,
           -5.558743000030518,
           2.1601762771606445,
           "ship <br>tommy <br>sir <br>johnny <br>space <br>control <br>captain <br>bridge <br>angle <br>grant <br>x <br>pilot <br>president <br>power <br>west <br>screen <br>plane <br>deck <br>smith <br>dr <br>"
          ],
          [
           5,
           3.1254429817199707,
           -7.580899715423584,
           2.8015313148498535,
           "ship <br>tommy <br>sir <br>johnny <br>space <br>control <br>captain <br>bridge <br>angle <br>grant <br>x <br>pilot <br>president <br>power <br>west <br>screen <br>plane <br>deck <br>smith <br>dr <br>"
          ],
          [
           5,
           3.761178970336914,
           -6.272369861602783,
           2.8039662837982178,
           "ship <br>tommy <br>sir <br>johnny <br>space <br>control <br>captain <br>bridge <br>angle <br>grant <br>x <br>pilot <br>president <br>power <br>west <br>screen <br>plane <br>deck <br>smith <br>dr <br>"
          ],
          [
           5,
           3.3547441959381104,
           -5.987918853759766,
           2.4830636978149414,
           "ship <br>tommy <br>sir <br>johnny <br>space <br>control <br>captain <br>bridge <br>angle <br>grant <br>x <br>pilot <br>president <br>power <br>west <br>screen <br>plane <br>deck <br>smith <br>dr <br>"
          ],
          [
           5,
           1.3569741249084473,
           -3.383432626724243,
           1.4800482988357544,
           "ship <br>tommy <br>sir <br>johnny <br>space <br>control <br>captain <br>bridge <br>angle <br>grant <br>x <br>pilot <br>president <br>power <br>west <br>screen <br>plane <br>deck <br>smith <br>dr <br>"
          ],
          [
           5,
           1.6159433126449585,
           -3.3715388774871826,
           1.2838413715362549,
           "ship <br>tommy <br>sir <br>johnny <br>space <br>control <br>captain <br>bridge <br>angle <br>grant <br>x <br>pilot <br>president <br>power <br>west <br>screen <br>plane <br>deck <br>smith <br>dr <br>"
          ],
          [
           5,
           3.5238656997680664,
           -4.842329025268555,
           0.40332409739494324,
           "ship <br>tommy <br>sir <br>johnny <br>space <br>control <br>captain <br>bridge <br>angle <br>grant <br>x <br>pilot <br>president <br>power <br>west <br>screen <br>plane <br>deck <br>smith <br>dr <br>"
          ],
          [
           5,
           2.6190390586853027,
           -6.659812927246094,
           3.4425361156463623,
           "ship <br>tommy <br>sir <br>johnny <br>space <br>control <br>captain <br>bridge <br>angle <br>grant <br>x <br>pilot <br>president <br>power <br>west <br>screen <br>plane <br>deck <br>smith <br>dr <br>"
          ],
          [
           5,
           3.1283349990844727,
           -6.293751239776611,
           2.625105142593384,
           "ship <br>tommy <br>sir <br>johnny <br>space <br>control <br>captain <br>bridge <br>angle <br>grant <br>x <br>pilot <br>president <br>power <br>west <br>screen <br>plane <br>deck <br>smith <br>dr <br>"
          ],
          [
           5,
           0.1130140945315361,
           -5.545353412628174,
           2.1638078689575195,
           "ship <br>tommy <br>sir <br>johnny <br>space <br>control <br>captain <br>bridge <br>angle <br>grant <br>x <br>pilot <br>president <br>power <br>west <br>screen <br>plane <br>deck <br>smith <br>dr <br>"
          ],
          [
           5,
           3.73374605178833,
           -6.092761516571045,
           3.864100694656372,
           "ship <br>tommy <br>sir <br>johnny <br>space <br>control <br>captain <br>bridge <br>angle <br>grant <br>x <br>pilot <br>president <br>power <br>west <br>screen <br>plane <br>deck <br>smith <br>dr <br>"
          ],
          [
           5,
           0.696773886680603,
           -3.964089870452881,
           1.8003774881362915,
           "ship <br>tommy <br>sir <br>johnny <br>space <br>control <br>captain <br>bridge <br>angle <br>grant <br>x <br>pilot <br>president <br>power <br>west <br>screen <br>plane <br>deck <br>smith <br>dr <br>"
          ],
          [
           5,
           2.028135061264038,
           -2.5326054096221924,
           2.1138362884521484,
           "ship <br>tommy <br>sir <br>johnny <br>space <br>control <br>captain <br>bridge <br>angle <br>grant <br>x <br>pilot <br>president <br>power <br>west <br>screen <br>plane <br>deck <br>smith <br>dr <br>"
          ],
          [
           5,
           2.3171191215515137,
           -6.097367286682129,
           4.423567295074463,
           "ship <br>tommy <br>sir <br>johnny <br>space <br>control <br>captain <br>bridge <br>angle <br>grant <br>x <br>pilot <br>president <br>power <br>west <br>screen <br>plane <br>deck <br>smith <br>dr <br>"
          ],
          [
           5,
           3.851630449295044,
           -6.548130035400391,
           3.8015754222869873,
           "ship <br>tommy <br>sir <br>johnny <br>space <br>control <br>captain <br>bridge <br>angle <br>grant <br>x <br>pilot <br>president <br>power <br>west <br>screen <br>plane <br>deck <br>smith <br>dr <br>"
          ],
          [
           5,
           1.2136260271072388,
           -2.5227127075195312,
           1.592167854309082,
           "ship <br>tommy <br>sir <br>johnny <br>space <br>control <br>captain <br>bridge <br>angle <br>grant <br>x <br>pilot <br>president <br>power <br>west <br>screen <br>plane <br>deck <br>smith <br>dr <br>"
          ],
          [
           5,
           2.6620171070098877,
           -6.875125408172607,
           2.475543975830078,
           "ship <br>tommy <br>sir <br>johnny <br>space <br>control <br>captain <br>bridge <br>angle <br>grant <br>x <br>pilot <br>president <br>power <br>west <br>screen <br>plane <br>deck <br>smith <br>dr <br>"
          ],
          [
           5,
           3.241865873336792,
           -7.447629451751709,
           2.9887969493865967,
           "ship <br>tommy <br>sir <br>johnny <br>space <br>control <br>captain <br>bridge <br>angle <br>grant <br>x <br>pilot <br>president <br>power <br>west <br>screen <br>plane <br>deck <br>smith <br>dr <br>"
          ],
          [
           5,
           2.916010856628418,
           -7.001242637634277,
           3.1907525062561035,
           "ship <br>tommy <br>sir <br>johnny <br>space <br>control <br>captain <br>bridge <br>angle <br>grant <br>x <br>pilot <br>president <br>power <br>west <br>screen <br>plane <br>deck <br>smith <br>dr <br>"
          ],
          [
           5,
           1.2085561752319336,
           -3.5305655002593994,
           1.79530668258667,
           "ship <br>tommy <br>sir <br>johnny <br>space <br>control <br>captain <br>bridge <br>angle <br>grant <br>x <br>pilot <br>president <br>power <br>west <br>screen <br>plane <br>deck <br>smith <br>dr <br>"
          ],
          [
           5,
           2.575556993484497,
           -4.808353900909424,
           1.6512421369552612,
           "ship <br>tommy <br>sir <br>johnny <br>space <br>control <br>captain <br>bridge <br>angle <br>grant <br>x <br>pilot <br>president <br>power <br>west <br>screen <br>plane <br>deck <br>smith <br>dr <br>"
          ],
          [
           5,
           4.001689434051514,
           -6.673446178436279,
           3.4322144985198975,
           "ship <br>tommy <br>sir <br>johnny <br>space <br>control <br>captain <br>bridge <br>angle <br>grant <br>x <br>pilot <br>president <br>power <br>west <br>screen <br>plane <br>deck <br>smith <br>dr <br>"
          ],
          [
           5,
           3.133333444595337,
           -6.064582824707031,
           3.269214630126953,
           "ship <br>tommy <br>sir <br>johnny <br>space <br>control <br>captain <br>bridge <br>angle <br>grant <br>x <br>pilot <br>president <br>power <br>west <br>screen <br>plane <br>deck <br>smith <br>dr <br>"
          ],
          [
           5,
           1.2184745073318481,
           -3.9370176792144775,
           3.5812883377075195,
           "ship <br>tommy <br>sir <br>johnny <br>space <br>control <br>captain <br>bridge <br>angle <br>grant <br>x <br>pilot <br>president <br>power <br>west <br>screen <br>plane <br>deck <br>smith <br>dr <br>"
          ],
          [
           5,
           2.2455756664276123,
           -3.9367833137512207,
           2.4019012451171875,
           "ship <br>tommy <br>sir <br>johnny <br>space <br>control <br>captain <br>bridge <br>angle <br>grant <br>x <br>pilot <br>president <br>power <br>west <br>screen <br>plane <br>deck <br>smith <br>dr <br>"
          ],
          [
           5,
           1.8965201377868652,
           -6.8125810623168945,
           1.249457597732544,
           "ship <br>tommy <br>sir <br>johnny <br>space <br>control <br>captain <br>bridge <br>angle <br>grant <br>x <br>pilot <br>president <br>power <br>west <br>screen <br>plane <br>deck <br>smith <br>dr <br>"
          ],
          [
           5,
           2.3450562953948975,
           -3.8616480827331543,
           2.306273937225342,
           "ship <br>tommy <br>sir <br>johnny <br>space <br>control <br>captain <br>bridge <br>angle <br>grant <br>x <br>pilot <br>president <br>power <br>west <br>screen <br>plane <br>deck <br>smith <br>dr <br>"
          ],
          [
           5,
           3.287966012954712,
           -5.081790924072266,
           -0.4173879623413086,
           "ship <br>tommy <br>sir <br>johnny <br>space <br>control <br>captain <br>bridge <br>angle <br>grant <br>x <br>pilot <br>president <br>power <br>west <br>screen <br>plane <br>deck <br>smith <br>dr <br>"
          ],
          [
           5,
           2.6206209659576416,
           -5.423794746398926,
           -0.28059327602386475,
           "ship <br>tommy <br>sir <br>johnny <br>space <br>control <br>captain <br>bridge <br>angle <br>grant <br>x <br>pilot <br>president <br>power <br>west <br>screen <br>plane <br>deck <br>smith <br>dr <br>"
          ],
          [
           5,
           1.2953193187713623,
           -6.074783802032471,
           0.8526400923728943,
           "ship <br>tommy <br>sir <br>johnny <br>space <br>control <br>captain <br>bridge <br>angle <br>grant <br>x <br>pilot <br>president <br>power <br>west <br>screen <br>plane <br>deck <br>smith <br>dr <br>"
          ],
          [
           5,
           2.855477809906006,
           -6.352893829345703,
           2.065366268157959,
           "ship <br>tommy <br>sir <br>johnny <br>space <br>control <br>captain <br>bridge <br>angle <br>grant <br>x <br>pilot <br>president <br>power <br>west <br>screen <br>plane <br>deck <br>smith <br>dr <br>"
          ],
          [
           5,
           1.5646253824234009,
           -6.165132522583008,
           4.204005718231201,
           "ship <br>tommy <br>sir <br>johnny <br>space <br>control <br>captain <br>bridge <br>angle <br>grant <br>x <br>pilot <br>president <br>power <br>west <br>screen <br>plane <br>deck <br>smith <br>dr <br>"
          ],
          [
           5,
           2.3003623485565186,
           -4.745262622833252,
           2.774005889892578,
           "ship <br>tommy <br>sir <br>johnny <br>space <br>control <br>captain <br>bridge <br>angle <br>grant <br>x <br>pilot <br>president <br>power <br>west <br>screen <br>plane <br>deck <br>smith <br>dr <br>"
          ],
          [
           5,
           1.3274779319763184,
           -6.9781646728515625,
           3.4193613529205322,
           "ship <br>tommy <br>sir <br>johnny <br>space <br>control <br>captain <br>bridge <br>angle <br>grant <br>x <br>pilot <br>president <br>power <br>west <br>screen <br>plane <br>deck <br>smith <br>dr <br>"
          ]
         ],
         "mode": "markers",
         "showlegend": false,
         "type": "scatter3d",
         "x": [
          3.547712564468384,
          2.8282089233398438,
          3.9492523670196533,
          2.0130436420440674,
          3.8208742141723633,
          2.5405495166778564,
          2.3240702152252197,
          1.3121196031570435,
          2.131636619567871,
          1.9983766078948975,
          0.09774907678365707,
          3.1254429817199707,
          3.761178970336914,
          3.3547441959381104,
          1.3569741249084473,
          1.6159433126449585,
          3.5238656997680664,
          2.6190390586853027,
          3.1283349990844727,
          0.1130140945315361,
          3.73374605178833,
          0.696773886680603,
          2.028135061264038,
          2.3171191215515137,
          3.851630449295044,
          1.2136260271072388,
          2.6620171070098877,
          3.241865873336792,
          2.916010856628418,
          1.2085561752319336,
          2.575556993484497,
          4.001689434051514,
          3.133333444595337,
          1.2184745073318481,
          2.2455756664276123,
          1.8965201377868652,
          2.3450562953948975,
          3.287966012954712,
          2.6206209659576416,
          1.2953193187713623,
          2.855477809906006,
          1.5646253824234009,
          2.3003623485565186,
          1.3274779319763184
         ],
         "y": [
          -5.067800045013428,
          -5.245742321014404,
          -4.936412811279297,
          -6.709551811218262,
          -4.008091449737549,
          -5.5127034187316895,
          -3.2317121028900146,
          -6.992545127868652,
          -2.960115671157837,
          -6.695428848266602,
          -5.558743000030518,
          -7.580899715423584,
          -6.272369861602783,
          -5.987918853759766,
          -3.383432626724243,
          -3.3715388774871826,
          -4.842329025268555,
          -6.659812927246094,
          -6.293751239776611,
          -5.545353412628174,
          -6.092761516571045,
          -3.964089870452881,
          -2.5326054096221924,
          -6.097367286682129,
          -6.548130035400391,
          -2.5227127075195312,
          -6.875125408172607,
          -7.447629451751709,
          -7.001242637634277,
          -3.5305655002593994,
          -4.808353900909424,
          -6.673446178436279,
          -6.064582824707031,
          -3.9370176792144775,
          -3.9367833137512207,
          -6.8125810623168945,
          -3.8616480827331543,
          -5.081790924072266,
          -5.423794746398926,
          -6.074783802032471,
          -6.352893829345703,
          -6.165132522583008,
          -4.745262622833252,
          -6.9781646728515625
         ],
         "z": [
          -0.18972645699977875,
          3.2495837211608887,
          -0.3502214252948761,
          0.9523513317108154,
          1.6709716320037842,
          2.4864611625671387,
          1.833185076713562,
          3.4322614669799805,
          1.6029353141784668,
          1.3263661861419678,
          2.1601762771606445,
          2.8015313148498535,
          2.8039662837982178,
          2.4830636978149414,
          1.4800482988357544,
          1.2838413715362549,
          0.40332409739494324,
          3.4425361156463623,
          2.625105142593384,
          2.1638078689575195,
          3.864100694656372,
          1.8003774881362915,
          2.1138362884521484,
          4.423567295074463,
          3.8015754222869873,
          1.592167854309082,
          2.475543975830078,
          2.9887969493865967,
          3.1907525062561035,
          1.79530668258667,
          1.6512421369552612,
          3.4322144985198975,
          3.269214630126953,
          3.5812883377075195,
          2.4019012451171875,
          1.249457597732544,
          2.306273937225342,
          -0.4173879623413086,
          -0.28059327602386475,
          0.8526400923728943,
          2.065366268157959,
          4.204005718231201,
          2.774005889892578,
          3.4193613529205322
         ]
        },
        {
         "hovertemplate": "%{meta[4]}<extra></extra>",
         "meta": [
          [
           6,
           2.0249862670898438,
           -1.710909128189087,
           -6.17055606842041,
           "horse <br>soldier <br>master <br>hawk <br>easy <br>ride <br>sir <br>gun <br>captain <br>priest <br>war <br>guard <br>ash <br>german <br>v.o <br>father <br>army <br>river <br>general <br>rifle <br>"
          ],
          [
           6,
           0.9833789467811584,
           -1.8350824117660522,
           -10.261882781982422,
           "horse <br>soldier <br>master <br>hawk <br>easy <br>ride <br>sir <br>gun <br>captain <br>priest <br>war <br>guard <br>ash <br>german <br>v.o <br>father <br>army <br>river <br>general <br>rifle <br>"
          ],
          [
           6,
           3.6412250995635986,
           -2.3229215145111084,
           -10.263427734375,
           "horse <br>soldier <br>master <br>hawk <br>easy <br>ride <br>sir <br>gun <br>captain <br>priest <br>war <br>guard <br>ash <br>german <br>v.o <br>father <br>army <br>river <br>general <br>rifle <br>"
          ],
          [
           6,
           3.1436104774475098,
           -1.3797335624694824,
           -10.319595336914062,
           "horse <br>soldier <br>master <br>hawk <br>easy <br>ride <br>sir <br>gun <br>captain <br>priest <br>war <br>guard <br>ash <br>german <br>v.o <br>father <br>army <br>river <br>general <br>rifle <br>"
          ],
          [
           6,
           3.413222074508667,
           -1.9583150148391724,
           -9.873574256896973,
           "horse <br>soldier <br>master <br>hawk <br>easy <br>ride <br>sir <br>gun <br>captain <br>priest <br>war <br>guard <br>ash <br>german <br>v.o <br>father <br>army <br>river <br>general <br>rifle <br>"
          ],
          [
           6,
           2.256143093109131,
           -2.009312629699707,
           -7.69274377822876,
           "horse <br>soldier <br>master <br>hawk <br>easy <br>ride <br>sir <br>gun <br>captain <br>priest <br>war <br>guard <br>ash <br>german <br>v.o <br>father <br>army <br>river <br>general <br>rifle <br>"
          ],
          [
           6,
           0.6407160758972168,
           -1.7593975067138672,
           -10.480406761169434,
           "horse <br>soldier <br>master <br>hawk <br>easy <br>ride <br>sir <br>gun <br>captain <br>priest <br>war <br>guard <br>ash <br>german <br>v.o <br>father <br>army <br>river <br>general <br>rifle <br>"
          ],
          [
           6,
           1.5645745992660522,
           -1.3264107704162598,
           -5.327952861785889,
           "horse <br>soldier <br>master <br>hawk <br>easy <br>ride <br>sir <br>gun <br>captain <br>priest <br>war <br>guard <br>ash <br>german <br>v.o <br>father <br>army <br>river <br>general <br>rifle <br>"
          ],
          [
           6,
           2.9543497562408447,
           -0.11906203627586365,
           -9.457996368408203,
           "horse <br>soldier <br>master <br>hawk <br>easy <br>ride <br>sir <br>gun <br>captain <br>priest <br>war <br>guard <br>ash <br>german <br>v.o <br>father <br>army <br>river <br>general <br>rifle <br>"
          ],
          [
           6,
           2.9753928184509277,
           -0.25870072841644287,
           -9.556229591369629,
           "horse <br>soldier <br>master <br>hawk <br>easy <br>ride <br>sir <br>gun <br>captain <br>priest <br>war <br>guard <br>ash <br>german <br>v.o <br>father <br>army <br>river <br>general <br>rifle <br>"
          ],
          [
           6,
           1.839059829711914,
           -4.196485996246338,
           -10.891456604003906,
           "horse <br>soldier <br>master <br>hawk <br>easy <br>ride <br>sir <br>gun <br>captain <br>priest <br>war <br>guard <br>ash <br>german <br>v.o <br>father <br>army <br>river <br>general <br>rifle <br>"
          ],
          [
           6,
           2.786269187927246,
           -2.498779773712158,
           -9.398168563842773,
           "horse <br>soldier <br>master <br>hawk <br>easy <br>ride <br>sir <br>gun <br>captain <br>priest <br>war <br>guard <br>ash <br>german <br>v.o <br>father <br>army <br>river <br>general <br>rifle <br>"
          ],
          [
           6,
           1.641103744506836,
           -1.8379828929901123,
           -8.498656272888184,
           "horse <br>soldier <br>master <br>hawk <br>easy <br>ride <br>sir <br>gun <br>captain <br>priest <br>war <br>guard <br>ash <br>german <br>v.o <br>father <br>army <br>river <br>general <br>rifle <br>"
          ],
          [
           6,
           2.0535030364990234,
           -1.8634504079818726,
           -7.465235233306885,
           "horse <br>soldier <br>master <br>hawk <br>easy <br>ride <br>sir <br>gun <br>captain <br>priest <br>war <br>guard <br>ash <br>german <br>v.o <br>father <br>army <br>river <br>general <br>rifle <br>"
          ],
          [
           6,
           3.1323606967926025,
           -0.8048408627510071,
           -10.372958183288574,
           "horse <br>soldier <br>master <br>hawk <br>easy <br>ride <br>sir <br>gun <br>captain <br>priest <br>war <br>guard <br>ash <br>german <br>v.o <br>father <br>army <br>river <br>general <br>rifle <br>"
          ],
          [
           6,
           1.6019471883773804,
           -2.8235788345336914,
           -8.296642303466797,
           "horse <br>soldier <br>master <br>hawk <br>easy <br>ride <br>sir <br>gun <br>captain <br>priest <br>war <br>guard <br>ash <br>german <br>v.o <br>father <br>army <br>river <br>general <br>rifle <br>"
          ],
          [
           6,
           0.12078623473644257,
           -0.7768450379371643,
           -8.222152709960938,
           "horse <br>soldier <br>master <br>hawk <br>easy <br>ride <br>sir <br>gun <br>captain <br>priest <br>war <br>guard <br>ash <br>german <br>v.o <br>father <br>army <br>river <br>general <br>rifle <br>"
          ],
          [
           6,
           2.1836915016174316,
           -1.7731280326843262,
           -7.244663238525391,
           "horse <br>soldier <br>master <br>hawk <br>easy <br>ride <br>sir <br>gun <br>captain <br>priest <br>war <br>guard <br>ash <br>german <br>v.o <br>father <br>army <br>river <br>general <br>rifle <br>"
          ],
          [
           6,
           1.7988070249557495,
           -1.1126357316970825,
           -7.043910503387451,
           "horse <br>soldier <br>master <br>hawk <br>easy <br>ride <br>sir <br>gun <br>captain <br>priest <br>war <br>guard <br>ash <br>german <br>v.o <br>father <br>army <br>river <br>general <br>rifle <br>"
          ],
          [
           6,
           2.171837329864502,
           -2.2903077602386475,
           -8.966824531555176,
           "horse <br>soldier <br>master <br>hawk <br>easy <br>ride <br>sir <br>gun <br>captain <br>priest <br>war <br>guard <br>ash <br>german <br>v.o <br>father <br>army <br>river <br>general <br>rifle <br>"
          ],
          [
           6,
           3.6617939472198486,
           -1.5577970743179321,
           -9.10706615447998,
           "horse <br>soldier <br>master <br>hawk <br>easy <br>ride <br>sir <br>gun <br>captain <br>priest <br>war <br>guard <br>ash <br>german <br>v.o <br>father <br>army <br>river <br>general <br>rifle <br>"
          ],
          [
           6,
           1.7032502889633179,
           -3.564159870147705,
           -7.478553771972656,
           "horse <br>soldier <br>master <br>hawk <br>easy <br>ride <br>sir <br>gun <br>captain <br>priest <br>war <br>guard <br>ash <br>german <br>v.o <br>father <br>army <br>river <br>general <br>rifle <br>"
          ],
          [
           6,
           3.7042927742004395,
           -0.7257009148597717,
           -8.661391258239746,
           "horse <br>soldier <br>master <br>hawk <br>easy <br>ride <br>sir <br>gun <br>captain <br>priest <br>war <br>guard <br>ash <br>german <br>v.o <br>father <br>army <br>river <br>general <br>rifle <br>"
          ],
          [
           6,
           2.5485241413116455,
           -2.0268616676330566,
           -9.171468734741211,
           "horse <br>soldier <br>master <br>hawk <br>easy <br>ride <br>sir <br>gun <br>captain <br>priest <br>war <br>guard <br>ash <br>german <br>v.o <br>father <br>army <br>river <br>general <br>rifle <br>"
          ],
          [
           6,
           3.2506580352783203,
           -1.907828688621521,
           -9.6044282913208,
           "horse <br>soldier <br>master <br>hawk <br>easy <br>ride <br>sir <br>gun <br>captain <br>priest <br>war <br>guard <br>ash <br>german <br>v.o <br>father <br>army <br>river <br>general <br>rifle <br>"
          ],
          [
           6,
           1.2678292989730835,
           -2.4389309883117676,
           -8.596181869506836,
           "horse <br>soldier <br>master <br>hawk <br>easy <br>ride <br>sir <br>gun <br>captain <br>priest <br>war <br>guard <br>ash <br>german <br>v.o <br>father <br>army <br>river <br>general <br>rifle <br>"
          ],
          [
           6,
           1.0081943273544312,
           -1.8082170486450195,
           -10.156773567199707,
           "horse <br>soldier <br>master <br>hawk <br>easy <br>ride <br>sir <br>gun <br>captain <br>priest <br>war <br>guard <br>ash <br>german <br>v.o <br>father <br>army <br>river <br>general <br>rifle <br>"
          ],
          [
           6,
           3.137144088745117,
           0.5110464096069336,
           -9.2537260055542,
           "horse <br>soldier <br>master <br>hawk <br>easy <br>ride <br>sir <br>gun <br>captain <br>priest <br>war <br>guard <br>ash <br>german <br>v.o <br>father <br>army <br>river <br>general <br>rifle <br>"
          ],
          [
           6,
           0.40240320563316345,
           -0.7547740340232849,
           -8.163057327270508,
           "horse <br>soldier <br>master <br>hawk <br>easy <br>ride <br>sir <br>gun <br>captain <br>priest <br>war <br>guard <br>ash <br>german <br>v.o <br>father <br>army <br>river <br>general <br>rifle <br>"
          ],
          [
           6,
           1.4773582220077515,
           -2.167501211166382,
           -9.368453025817871,
           "horse <br>soldier <br>master <br>hawk <br>easy <br>ride <br>sir <br>gun <br>captain <br>priest <br>war <br>guard <br>ash <br>german <br>v.o <br>father <br>army <br>river <br>general <br>rifle <br>"
          ],
          [
           6,
           3.0355024337768555,
           -2.1051218509674072,
           -10.156088829040527,
           "horse <br>soldier <br>master <br>hawk <br>easy <br>ride <br>sir <br>gun <br>captain <br>priest <br>war <br>guard <br>ash <br>german <br>v.o <br>father <br>army <br>river <br>general <br>rifle <br>"
          ],
          [
           6,
           3.804368734359741,
           -2.617793083190918,
           -10.206388473510742,
           "horse <br>soldier <br>master <br>hawk <br>easy <br>ride <br>sir <br>gun <br>captain <br>priest <br>war <br>guard <br>ash <br>german <br>v.o <br>father <br>army <br>river <br>general <br>rifle <br>"
          ],
          [
           6,
           2.0714852809906006,
           -2.332160234451294,
           -9.14901065826416,
           "horse <br>soldier <br>master <br>hawk <br>easy <br>ride <br>sir <br>gun <br>captain <br>priest <br>war <br>guard <br>ash <br>german <br>v.o <br>father <br>army <br>river <br>general <br>rifle <br>"
          ],
          [
           6,
           2.1779119968414307,
           -0.33677682280540466,
           -7.595393180847168,
           "horse <br>soldier <br>master <br>hawk <br>easy <br>ride <br>sir <br>gun <br>captain <br>priest <br>war <br>guard <br>ash <br>german <br>v.o <br>father <br>army <br>river <br>general <br>rifle <br>"
          ],
          [
           6,
           3.925856828689575,
           -2.6014394760131836,
           -10.349029541015625,
           "horse <br>soldier <br>master <br>hawk <br>easy <br>ride <br>sir <br>gun <br>captain <br>priest <br>war <br>guard <br>ash <br>german <br>v.o <br>father <br>army <br>river <br>general <br>rifle <br>"
          ],
          [
           6,
           1.814968228340149,
           -4.214961528778076,
           -10.889991760253906,
           "horse <br>soldier <br>master <br>hawk <br>easy <br>ride <br>sir <br>gun <br>captain <br>priest <br>war <br>guard <br>ash <br>german <br>v.o <br>father <br>army <br>river <br>general <br>rifle <br>"
          ],
          [
           6,
           2.962205648422241,
           -0.12042460590600967,
           -9.95296573638916,
           "horse <br>soldier <br>master <br>hawk <br>easy <br>ride <br>sir <br>gun <br>captain <br>priest <br>war <br>guard <br>ash <br>german <br>v.o <br>father <br>army <br>river <br>general <br>rifle <br>"
          ],
          [
           6,
           1.741636037826538,
           -1.0912888050079346,
           -6.993844985961914,
           "horse <br>soldier <br>master <br>hawk <br>easy <br>ride <br>sir <br>gun <br>captain <br>priest <br>war <br>guard <br>ash <br>german <br>v.o <br>father <br>army <br>river <br>general <br>rifle <br>"
          ],
          [
           6,
           3.200860023498535,
           -0.8964506387710571,
           -10.578932762145996,
           "horse <br>soldier <br>master <br>hawk <br>easy <br>ride <br>sir <br>gun <br>captain <br>priest <br>war <br>guard <br>ash <br>german <br>v.o <br>father <br>army <br>river <br>general <br>rifle <br>"
          ],
          [
           6,
           2.6291720867156982,
           1.3585740327835083,
           -7.803882598876953,
           "horse <br>soldier <br>master <br>hawk <br>easy <br>ride <br>sir <br>gun <br>captain <br>priest <br>war <br>guard <br>ash <br>german <br>v.o <br>father <br>army <br>river <br>general <br>rifle <br>"
          ]
         ],
         "mode": "markers",
         "showlegend": false,
         "type": "scatter3d",
         "x": [
          2.0249862670898438,
          0.9833789467811584,
          3.6412250995635986,
          3.1436104774475098,
          3.413222074508667,
          2.256143093109131,
          0.6407160758972168,
          1.5645745992660522,
          2.9543497562408447,
          2.9753928184509277,
          1.839059829711914,
          2.786269187927246,
          1.641103744506836,
          2.0535030364990234,
          3.1323606967926025,
          1.6019471883773804,
          0.12078623473644257,
          2.1836915016174316,
          1.7988070249557495,
          2.171837329864502,
          3.6617939472198486,
          1.7032502889633179,
          3.7042927742004395,
          2.5485241413116455,
          3.2506580352783203,
          1.2678292989730835,
          1.0081943273544312,
          3.137144088745117,
          0.40240320563316345,
          1.4773582220077515,
          3.0355024337768555,
          3.804368734359741,
          2.0714852809906006,
          2.1779119968414307,
          3.925856828689575,
          1.814968228340149,
          2.962205648422241,
          1.741636037826538,
          3.200860023498535,
          2.6291720867156982
         ],
         "y": [
          -1.710909128189087,
          -1.8350824117660522,
          -2.3229215145111084,
          -1.3797335624694824,
          -1.9583150148391724,
          -2.009312629699707,
          -1.7593975067138672,
          -1.3264107704162598,
          -0.11906203627586365,
          -0.25870072841644287,
          -4.196485996246338,
          -2.498779773712158,
          -1.8379828929901123,
          -1.8634504079818726,
          -0.8048408627510071,
          -2.8235788345336914,
          -0.7768450379371643,
          -1.7731280326843262,
          -1.1126357316970825,
          -2.2903077602386475,
          -1.5577970743179321,
          -3.564159870147705,
          -0.7257009148597717,
          -2.0268616676330566,
          -1.907828688621521,
          -2.4389309883117676,
          -1.8082170486450195,
          0.5110464096069336,
          -0.7547740340232849,
          -2.167501211166382,
          -2.1051218509674072,
          -2.617793083190918,
          -2.332160234451294,
          -0.33677682280540466,
          -2.6014394760131836,
          -4.214961528778076,
          -0.12042460590600967,
          -1.0912888050079346,
          -0.8964506387710571,
          1.3585740327835083
         ],
         "z": [
          -6.17055606842041,
          -10.261882781982422,
          -10.263427734375,
          -10.319595336914062,
          -9.873574256896973,
          -7.69274377822876,
          -10.480406761169434,
          -5.327952861785889,
          -9.457996368408203,
          -9.556229591369629,
          -10.891456604003906,
          -9.398168563842773,
          -8.498656272888184,
          -7.465235233306885,
          -10.372958183288574,
          -8.296642303466797,
          -8.222152709960938,
          -7.244663238525391,
          -7.043910503387451,
          -8.966824531555176,
          -9.10706615447998,
          -7.478553771972656,
          -8.661391258239746,
          -9.171468734741211,
          -9.6044282913208,
          -8.596181869506836,
          -10.156773567199707,
          -9.2537260055542,
          -8.163057327270508,
          -9.368453025817871,
          -10.156088829040527,
          -10.206388473510742,
          -9.14901065826416,
          -7.595393180847168,
          -10.349029541015625,
          -10.889991760253906,
          -9.95296573638916,
          -6.993844985961914,
          -10.578932762145996,
          -7.803882598876953
         ]
        },
        {
         "hovertemplate": "%{meta[4]}<extra></extra>",
         "meta": [
          [
           7,
           1.1658848524093628,
           10.543865203857422,
           2.8393032550811768,
           "jim <br>pat <br>dan <br>camera <br>early <br>buzz <br>office <br>to <br>o.s <br>v.o <br>cont'd <br>guy <br>hooker <br>go to <br>yeah <br>fuck <br>page <br>okay <br>phone <br>agent <br>"
          ],
          [
           7,
           0.6580862998962402,
           10.178497314453125,
           2.900283098220825,
           "jim <br>pat <br>dan <br>camera <br>early <br>buzz <br>office <br>to <br>o.s <br>v.o <br>cont'd <br>guy <br>hooker <br>go to <br>yeah <br>fuck <br>page <br>okay <br>phone <br>agent <br>"
          ],
          [
           7,
           -1.2876842021942139,
           9.4768705368042,
           2.7193973064422607,
           "jim <br>pat <br>dan <br>camera <br>early <br>buzz <br>office <br>to <br>o.s <br>v.o <br>cont'd <br>guy <br>hooker <br>go to <br>yeah <br>fuck <br>page <br>okay <br>phone <br>agent <br>"
          ],
          [
           7,
           -0.23965546488761902,
           9.579572677612305,
           2.512005567550659,
           "jim <br>pat <br>dan <br>camera <br>early <br>buzz <br>office <br>to <br>o.s <br>v.o <br>cont'd <br>guy <br>hooker <br>go to <br>yeah <br>fuck <br>page <br>okay <br>phone <br>agent <br>"
          ],
          [
           7,
           0.31253036856651306,
           8.463200569152832,
           4.583394527435303,
           "jim <br>pat <br>dan <br>camera <br>early <br>buzz <br>office <br>to <br>o.s <br>v.o <br>cont'd <br>guy <br>hooker <br>go to <br>yeah <br>fuck <br>page <br>okay <br>phone <br>agent <br>"
          ],
          [
           7,
           0.7693225145339966,
           10.212791442871094,
           2.861569404602051,
           "jim <br>pat <br>dan <br>camera <br>early <br>buzz <br>office <br>to <br>o.s <br>v.o <br>cont'd <br>guy <br>hooker <br>go to <br>yeah <br>fuck <br>page <br>okay <br>phone <br>agent <br>"
          ],
          [
           7,
           0.583992063999176,
           8.894986152648926,
           1.1418869495391846,
           "jim <br>pat <br>dan <br>camera <br>early <br>buzz <br>office <br>to <br>o.s <br>v.o <br>cont'd <br>guy <br>hooker <br>go to <br>yeah <br>fuck <br>page <br>okay <br>phone <br>agent <br>"
          ],
          [
           7,
           0.005902017932385206,
           7.981074333190918,
           1.8740233182907104,
           "jim <br>pat <br>dan <br>camera <br>early <br>buzz <br>office <br>to <br>o.s <br>v.o <br>cont'd <br>guy <br>hooker <br>go to <br>yeah <br>fuck <br>page <br>okay <br>phone <br>agent <br>"
          ],
          [
           7,
           -0.49116188287734985,
           9.534980773925781,
           2.6900410652160645,
           "jim <br>pat <br>dan <br>camera <br>early <br>buzz <br>office <br>to <br>o.s <br>v.o <br>cont'd <br>guy <br>hooker <br>go to <br>yeah <br>fuck <br>page <br>okay <br>phone <br>agent <br>"
          ],
          [
           7,
           0.3168833255767822,
           8.747489929199219,
           3.7534143924713135,
           "jim <br>pat <br>dan <br>camera <br>early <br>buzz <br>office <br>to <br>o.s <br>v.o <br>cont'd <br>guy <br>hooker <br>go to <br>yeah <br>fuck <br>page <br>okay <br>phone <br>agent <br>"
          ],
          [
           7,
           0.2861834168434143,
           10.016321182250977,
           2.8402485847473145,
           "jim <br>pat <br>dan <br>camera <br>early <br>buzz <br>office <br>to <br>o.s <br>v.o <br>cont'd <br>guy <br>hooker <br>go to <br>yeah <br>fuck <br>page <br>okay <br>phone <br>agent <br>"
          ],
          [
           7,
           1.2952739000320435,
           10.640907287597656,
           2.834024429321289,
           "jim <br>pat <br>dan <br>camera <br>early <br>buzz <br>office <br>to <br>o.s <br>v.o <br>cont'd <br>guy <br>hooker <br>go to <br>yeah <br>fuck <br>page <br>okay <br>phone <br>agent <br>"
          ],
          [
           7,
           0.5143962502479553,
           8.90855884552002,
           1.3517030477523804,
           "jim <br>pat <br>dan <br>camera <br>early <br>buzz <br>office <br>to <br>o.s <br>v.o <br>cont'd <br>guy <br>hooker <br>go to <br>yeah <br>fuck <br>page <br>okay <br>phone <br>agent <br>"
          ],
          [
           7,
           0.21222761273384094,
           8.361698150634766,
           2.7615299224853516,
           "jim <br>pat <br>dan <br>camera <br>early <br>buzz <br>office <br>to <br>o.s <br>v.o <br>cont'd <br>guy <br>hooker <br>go to <br>yeah <br>fuck <br>page <br>okay <br>phone <br>agent <br>"
          ],
          [
           7,
           -0.37435632944107056,
           8.173318862915039,
           2.2685906887054443,
           "jim <br>pat <br>dan <br>camera <br>early <br>buzz <br>office <br>to <br>o.s <br>v.o <br>cont'd <br>guy <br>hooker <br>go to <br>yeah <br>fuck <br>page <br>okay <br>phone <br>agent <br>"
          ],
          [
           7,
           -0.012234426103532314,
           7.706698894500732,
           1.9036500453948975,
           "jim <br>pat <br>dan <br>camera <br>early <br>buzz <br>office <br>to <br>o.s <br>v.o <br>cont'd <br>guy <br>hooker <br>go to <br>yeah <br>fuck <br>page <br>okay <br>phone <br>agent <br>"
          ],
          [
           7,
           0.5510431528091431,
           8.81852912902832,
           1.1496679782867432,
           "jim <br>pat <br>dan <br>camera <br>early <br>buzz <br>office <br>to <br>o.s <br>v.o <br>cont'd <br>guy <br>hooker <br>go to <br>yeah <br>fuck <br>page <br>okay <br>phone <br>agent <br>"
          ],
          [
           7,
           0.4121101200580597,
           9.729192733764648,
           3.081639528274536,
           "jim <br>pat <br>dan <br>camera <br>early <br>buzz <br>office <br>to <br>o.s <br>v.o <br>cont'd <br>guy <br>hooker <br>go to <br>yeah <br>fuck <br>page <br>okay <br>phone <br>agent <br>"
          ]
         ],
         "mode": "markers",
         "showlegend": false,
         "type": "scatter3d",
         "x": [
          1.1658848524093628,
          0.6580862998962402,
          -1.2876842021942139,
          -0.23965546488761902,
          0.31253036856651306,
          0.7693225145339966,
          0.583992063999176,
          0.005902017932385206,
          -0.49116188287734985,
          0.3168833255767822,
          0.2861834168434143,
          1.2952739000320435,
          0.5143962502479553,
          0.21222761273384094,
          -0.37435632944107056,
          -0.012234426103532314,
          0.5510431528091431,
          0.4121101200580597
         ],
         "y": [
          10.543865203857422,
          10.178497314453125,
          9.4768705368042,
          9.579572677612305,
          8.463200569152832,
          10.212791442871094,
          8.894986152648926,
          7.981074333190918,
          9.534980773925781,
          8.747489929199219,
          10.016321182250977,
          10.640907287597656,
          8.90855884552002,
          8.361698150634766,
          8.173318862915039,
          7.706698894500732,
          8.81852912902832,
          9.729192733764648
         ],
         "z": [
          2.8393032550811768,
          2.900283098220825,
          2.7193973064422607,
          2.512005567550659,
          4.583394527435303,
          2.861569404602051,
          1.1418869495391846,
          1.8740233182907104,
          2.6900410652160645,
          3.7534143924713135,
          2.8402485847473145,
          2.834024429321289,
          1.3517030477523804,
          2.7615299224853516,
          2.2685906887054443,
          1.9036500453948975,
          1.1496679782867432,
          3.081639528274536
         ]
        },
        {
         "hovertemplate": "%{meta[4]}<extra></extra>",
         "meta": [
          [
           8,
           -0.6574371457099915,
           -5.857787132263184,
           -1.2871692180633545,
           "tony <br>gun <br>bond <br>phone <br>doc <br>angle <br>guard <br>radio <br>cop <br>jackson <br>office <br>truck <br>hotel <br>building <br>agent <br>police <br>bank <br>security <br>tv <br>cut int <br>"
          ],
          [
           8,
           -0.2886199653148651,
           -7.125005722045898,
           -4.089006423950195,
           "tony <br>gun <br>bond <br>phone <br>doc <br>angle <br>guard <br>radio <br>cop <br>jackson <br>office <br>truck <br>hotel <br>building <br>agent <br>police <br>bank <br>security <br>tv <br>cut int <br>"
          ],
          [
           8,
           -1.0412285327911377,
           -8.377643585205078,
           -5.621629238128662,
           "tony <br>gun <br>bond <br>phone <br>doc <br>angle <br>guard <br>radio <br>cop <br>jackson <br>office <br>truck <br>hotel <br>building <br>agent <br>police <br>bank <br>security <br>tv <br>cut int <br>"
          ],
          [
           8,
           0.029462451115250587,
           -6.049570083618164,
           -4.454092979431152,
           "tony <br>gun <br>bond <br>phone <br>doc <br>angle <br>guard <br>radio <br>cop <br>jackson <br>office <br>truck <br>hotel <br>building <br>agent <br>police <br>bank <br>security <br>tv <br>cut int <br>"
          ],
          [
           8,
           0.9407125115394592,
           -5.004204750061035,
           -5.883785724639893,
           "tony <br>gun <br>bond <br>phone <br>doc <br>angle <br>guard <br>radio <br>cop <br>jackson <br>office <br>truck <br>hotel <br>building <br>agent <br>police <br>bank <br>security <br>tv <br>cut int <br>"
          ],
          [
           8,
           -1.4182525873184204,
           -7.908944129943848,
           -5.345700740814209,
           "tony <br>gun <br>bond <br>phone <br>doc <br>angle <br>guard <br>radio <br>cop <br>jackson <br>office <br>truck <br>hotel <br>building <br>agent <br>police <br>bank <br>security <br>tv <br>cut int <br>"
          ],
          [
           8,
           0.07225456833839417,
           -6.69012975692749,
           -5.488810062408447,
           "tony <br>gun <br>bond <br>phone <br>doc <br>angle <br>guard <br>radio <br>cop <br>jackson <br>office <br>truck <br>hotel <br>building <br>agent <br>police <br>bank <br>security <br>tv <br>cut int <br>"
          ],
          [
           8,
           -0.2860844135284424,
           -7.235795974731445,
           -5.207887649536133,
           "tony <br>gun <br>bond <br>phone <br>doc <br>angle <br>guard <br>radio <br>cop <br>jackson <br>office <br>truck <br>hotel <br>building <br>agent <br>police <br>bank <br>security <br>tv <br>cut int <br>"
          ],
          [
           8,
           -2.3990862369537354,
           -6.750550270080566,
           -3.9851906299591064,
           "tony <br>gun <br>bond <br>phone <br>doc <br>angle <br>guard <br>radio <br>cop <br>jackson <br>office <br>truck <br>hotel <br>building <br>agent <br>police <br>bank <br>security <br>tv <br>cut int <br>"
          ],
          [
           8,
           0.3364619016647339,
           -5.739863872528076,
           -5.5535712242126465,
           "tony <br>gun <br>bond <br>phone <br>doc <br>angle <br>guard <br>radio <br>cop <br>jackson <br>office <br>truck <br>hotel <br>building <br>agent <br>police <br>bank <br>security <br>tv <br>cut int <br>"
          ],
          [
           8,
           0.07058697938919067,
           -8.510866165161133,
           -4.1743388175964355,
           "tony <br>gun <br>bond <br>phone <br>doc <br>angle <br>guard <br>radio <br>cop <br>jackson <br>office <br>truck <br>hotel <br>building <br>agent <br>police <br>bank <br>security <br>tv <br>cut int <br>"
          ],
          [
           8,
           0.0874195322394371,
           -6.248393535614014,
           -3.7138633728027344,
           "tony <br>gun <br>bond <br>phone <br>doc <br>angle <br>guard <br>radio <br>cop <br>jackson <br>office <br>truck <br>hotel <br>building <br>agent <br>police <br>bank <br>security <br>tv <br>cut int <br>"
          ],
          [
           8,
           -1.3049116134643555,
           -8.012442588806152,
           -5.429152488708496,
           "tony <br>gun <br>bond <br>phone <br>doc <br>angle <br>guard <br>radio <br>cop <br>jackson <br>office <br>truck <br>hotel <br>building <br>agent <br>police <br>bank <br>security <br>tv <br>cut int <br>"
          ],
          [
           8,
           1.6242587566375732,
           -4.792475700378418,
           -5.683162689208984,
           "tony <br>gun <br>bond <br>phone <br>doc <br>angle <br>guard <br>radio <br>cop <br>jackson <br>office <br>truck <br>hotel <br>building <br>agent <br>police <br>bank <br>security <br>tv <br>cut int <br>"
          ],
          [
           8,
           -0.7374914884567261,
           -5.932835102081299,
           -1.2919731140136719,
           "tony <br>gun <br>bond <br>phone <br>doc <br>angle <br>guard <br>radio <br>cop <br>jackson <br>office <br>truck <br>hotel <br>building <br>agent <br>police <br>bank <br>security <br>tv <br>cut int <br>"
          ],
          [
           8,
           -0.8095351457595825,
           -7.547047138214111,
           -5.443312644958496,
           "tony <br>gun <br>bond <br>phone <br>doc <br>angle <br>guard <br>radio <br>cop <br>jackson <br>office <br>truck <br>hotel <br>building <br>agent <br>police <br>bank <br>security <br>tv <br>cut int <br>"
          ],
          [
           8,
           -0.6882075667381287,
           -7.915921688079834,
           -5.664096832275391,
           "tony <br>gun <br>bond <br>phone <br>doc <br>angle <br>guard <br>radio <br>cop <br>jackson <br>office <br>truck <br>hotel <br>building <br>agent <br>police <br>bank <br>security <br>tv <br>cut int <br>"
          ],
          [
           8,
           -0.6417043805122375,
           -5.346424102783203,
           -2.7446675300598145,
           "tony <br>gun <br>bond <br>phone <br>doc <br>angle <br>guard <br>radio <br>cop <br>jackson <br>office <br>truck <br>hotel <br>building <br>agent <br>police <br>bank <br>security <br>tv <br>cut int <br>"
          ],
          [
           8,
           0.4795871376991272,
           -5.859979152679443,
           -4.15045166015625,
           "tony <br>gun <br>bond <br>phone <br>doc <br>angle <br>guard <br>radio <br>cop <br>jackson <br>office <br>truck <br>hotel <br>building <br>agent <br>police <br>bank <br>security <br>tv <br>cut int <br>"
          ],
          [
           8,
           -1.0606334209442139,
           -8.065972328186035,
           -5.790271282196045,
           "tony <br>gun <br>bond <br>phone <br>doc <br>angle <br>guard <br>radio <br>cop <br>jackson <br>office <br>truck <br>hotel <br>building <br>agent <br>police <br>bank <br>security <br>tv <br>cut int <br>"
          ],
          [
           8,
           -1.924600601196289,
           -6.85225772857666,
           -4.213370323181152,
           "tony <br>gun <br>bond <br>phone <br>doc <br>angle <br>guard <br>radio <br>cop <br>jackson <br>office <br>truck <br>hotel <br>building <br>agent <br>police <br>bank <br>security <br>tv <br>cut int <br>"
          ],
          [
           8,
           1.197623372077942,
           -4.178101539611816,
           -2.5725343227386475,
           "tony <br>gun <br>bond <br>phone <br>doc <br>angle <br>guard <br>radio <br>cop <br>jackson <br>office <br>truck <br>hotel <br>building <br>agent <br>police <br>bank <br>security <br>tv <br>cut int <br>"
          ],
          [
           8,
           -0.02225545421242714,
           -6.991575241088867,
           -4.458567142486572,
           "tony <br>gun <br>bond <br>phone <br>doc <br>angle <br>guard <br>radio <br>cop <br>jackson <br>office <br>truck <br>hotel <br>building <br>agent <br>police <br>bank <br>security <br>tv <br>cut int <br>"
          ],
          [
           8,
           1.3650413751602173,
           -6.37678861618042,
           -4.833434104919434,
           "tony <br>gun <br>bond <br>phone <br>doc <br>angle <br>guard <br>radio <br>cop <br>jackson <br>office <br>truck <br>hotel <br>building <br>agent <br>police <br>bank <br>security <br>tv <br>cut int <br>"
          ],
          [
           8,
           -0.18867091834545135,
           -5.413796424865723,
           -3.8289663791656494,
           "tony <br>gun <br>bond <br>phone <br>doc <br>angle <br>guard <br>radio <br>cop <br>jackson <br>office <br>truck <br>hotel <br>building <br>agent <br>police <br>bank <br>security <br>tv <br>cut int <br>"
          ],
          [
           8,
           0.7227146625518799,
           -4.697196006774902,
           -4.169527530670166,
           "tony <br>gun <br>bond <br>phone <br>doc <br>angle <br>guard <br>radio <br>cop <br>jackson <br>office <br>truck <br>hotel <br>building <br>agent <br>police <br>bank <br>security <br>tv <br>cut int <br>"
          ],
          [
           8,
           1.2490196228027344,
           -5.669677734375,
           -3.1192541122436523,
           "tony <br>gun <br>bond <br>phone <br>doc <br>angle <br>guard <br>radio <br>cop <br>jackson <br>office <br>truck <br>hotel <br>building <br>agent <br>police <br>bank <br>security <br>tv <br>cut int <br>"
          ],
          [
           8,
           -0.2791920304298401,
           -8.322383880615234,
           -4.581129550933838,
           "tony <br>gun <br>bond <br>phone <br>doc <br>angle <br>guard <br>radio <br>cop <br>jackson <br>office <br>truck <br>hotel <br>building <br>agent <br>police <br>bank <br>security <br>tv <br>cut int <br>"
          ],
          [
           8,
           -0.7295460104942322,
           -6.041077136993408,
           -3.994406223297119,
           "tony <br>gun <br>bond <br>phone <br>doc <br>angle <br>guard <br>radio <br>cop <br>jackson <br>office <br>truck <br>hotel <br>building <br>agent <br>police <br>bank <br>security <br>tv <br>cut int <br>"
          ],
          [
           8,
           -0.5859484076499939,
           -8.017244338989258,
           -4.983767032623291,
           "tony <br>gun <br>bond <br>phone <br>doc <br>angle <br>guard <br>radio <br>cop <br>jackson <br>office <br>truck <br>hotel <br>building <br>agent <br>police <br>bank <br>security <br>tv <br>cut int <br>"
          ],
          [
           8,
           -0.8048164248466492,
           -3.7602124214172363,
           -3.3572371006011963,
           "tony <br>gun <br>bond <br>phone <br>doc <br>angle <br>guard <br>radio <br>cop <br>jackson <br>office <br>truck <br>hotel <br>building <br>agent <br>police <br>bank <br>security <br>tv <br>cut int <br>"
          ],
          [
           8,
           -0.748876690864563,
           -5.176381587982178,
           -3.3441669940948486,
           "tony <br>gun <br>bond <br>phone <br>doc <br>angle <br>guard <br>radio <br>cop <br>jackson <br>office <br>truck <br>hotel <br>building <br>agent <br>police <br>bank <br>security <br>tv <br>cut int <br>"
          ],
          [
           8,
           -0.9413747787475586,
           -4.3259053230285645,
           -3.7317123413085938,
           "tony <br>gun <br>bond <br>phone <br>doc <br>angle <br>guard <br>radio <br>cop <br>jackson <br>office <br>truck <br>hotel <br>building <br>agent <br>police <br>bank <br>security <br>tv <br>cut int <br>"
          ],
          [
           8,
           -1.069926142692566,
           -7.108323574066162,
           -4.844864845275879,
           "tony <br>gun <br>bond <br>phone <br>doc <br>angle <br>guard <br>radio <br>cop <br>jackson <br>office <br>truck <br>hotel <br>building <br>agent <br>police <br>bank <br>security <br>tv <br>cut int <br>"
          ],
          [
           8,
           -0.9111401438713074,
           -6.259334087371826,
           -3.948321580886841,
           "tony <br>gun <br>bond <br>phone <br>doc <br>angle <br>guard <br>radio <br>cop <br>jackson <br>office <br>truck <br>hotel <br>building <br>agent <br>police <br>bank <br>security <br>tv <br>cut int <br>"
          ]
         ],
         "mode": "markers",
         "showlegend": false,
         "type": "scatter3d",
         "x": [
          -0.6574371457099915,
          -0.2886199653148651,
          -1.0412285327911377,
          0.029462451115250587,
          0.9407125115394592,
          -1.4182525873184204,
          0.07225456833839417,
          -0.2860844135284424,
          -2.3990862369537354,
          0.3364619016647339,
          0.07058697938919067,
          0.0874195322394371,
          -1.3049116134643555,
          1.6242587566375732,
          -0.7374914884567261,
          -0.8095351457595825,
          -0.6882075667381287,
          -0.6417043805122375,
          0.4795871376991272,
          -1.0606334209442139,
          -1.924600601196289,
          1.197623372077942,
          -0.02225545421242714,
          1.3650413751602173,
          -0.18867091834545135,
          0.7227146625518799,
          1.2490196228027344,
          -0.2791920304298401,
          -0.7295460104942322,
          -0.5859484076499939,
          -0.8048164248466492,
          -0.748876690864563,
          -0.9413747787475586,
          -1.069926142692566,
          -0.9111401438713074
         ],
         "y": [
          -5.857787132263184,
          -7.125005722045898,
          -8.377643585205078,
          -6.049570083618164,
          -5.004204750061035,
          -7.908944129943848,
          -6.69012975692749,
          -7.235795974731445,
          -6.750550270080566,
          -5.739863872528076,
          -8.510866165161133,
          -6.248393535614014,
          -8.012442588806152,
          -4.792475700378418,
          -5.932835102081299,
          -7.547047138214111,
          -7.915921688079834,
          -5.346424102783203,
          -5.859979152679443,
          -8.065972328186035,
          -6.85225772857666,
          -4.178101539611816,
          -6.991575241088867,
          -6.37678861618042,
          -5.413796424865723,
          -4.697196006774902,
          -5.669677734375,
          -8.322383880615234,
          -6.041077136993408,
          -8.017244338989258,
          -3.7602124214172363,
          -5.176381587982178,
          -4.3259053230285645,
          -7.108323574066162,
          -6.259334087371826
         ],
         "z": [
          -1.2871692180633545,
          -4.089006423950195,
          -5.621629238128662,
          -4.454092979431152,
          -5.883785724639893,
          -5.345700740814209,
          -5.488810062408447,
          -5.207887649536133,
          -3.9851906299591064,
          -5.5535712242126465,
          -4.1743388175964355,
          -3.7138633728027344,
          -5.429152488708496,
          -5.683162689208984,
          -1.2919731140136719,
          -5.443312644958496,
          -5.664096832275391,
          -2.7446675300598145,
          -4.15045166015625,
          -5.790271282196045,
          -4.213370323181152,
          -2.5725343227386475,
          -4.458567142486572,
          -4.833434104919434,
          -3.8289663791656494,
          -4.169527530670166,
          -3.1192541122436523,
          -4.581129550933838,
          -3.994406223297119,
          -4.983767032623291,
          -3.3572371006011963,
          -3.3441669940948486,
          -3.7317123413085938,
          -4.844864845275879,
          -3.948321580886841
         ]
        },
        {
         "hovertemplate": "%{meta[4]}<extra></extra>",
         "meta": [
          [
           9,
           11.862083435058594,
           -2.1845061779022217,
           -0.12990693747997284,
           "ray <br>mike <br>dave <br>whale <br>daddy <br>buddy <br>angle <br>mr <br>cont'd <br>slim <br>jimmy <br>crow <br>charles <br>to <br>baby <br>rod <br>cont <br>kitchen <br>horse <br>shooting <br>"
          ],
          [
           9,
           9.825353622436523,
           -2.5083370208740234,
           0.5082674622535706,
           "ray <br>mike <br>dave <br>whale <br>daddy <br>buddy <br>angle <br>mr <br>cont'd <br>slim <br>jimmy <br>crow <br>charles <br>to <br>baby <br>rod <br>cont <br>kitchen <br>horse <br>shooting <br>"
          ],
          [
           9,
           11.254849433898926,
           -1.876344084739685,
           -0.7598122358322144,
           "ray <br>mike <br>dave <br>whale <br>daddy <br>buddy <br>angle <br>mr <br>cont'd <br>slim <br>jimmy <br>crow <br>charles <br>to <br>baby <br>rod <br>cont <br>kitchen <br>horse <br>shooting <br>"
          ],
          [
           9,
           9.890451431274414,
           -1.9445520639419556,
           -1.7288200855255127,
           "ray <br>mike <br>dave <br>whale <br>daddy <br>buddy <br>angle <br>mr <br>cont'd <br>slim <br>jimmy <br>crow <br>charles <br>to <br>baby <br>rod <br>cont <br>kitchen <br>horse <br>shooting <br>"
          ],
          [
           9,
           12.316036224365234,
           -2.0474612712860107,
           0.06062491238117218,
           "ray <br>mike <br>dave <br>whale <br>daddy <br>buddy <br>angle <br>mr <br>cont'd <br>slim <br>jimmy <br>crow <br>charles <br>to <br>baby <br>rod <br>cont <br>kitchen <br>horse <br>shooting <br>"
          ],
          [
           9,
           11.019121170043945,
           -1.5795241594314575,
           0.0751999169588089,
           "ray <br>mike <br>dave <br>whale <br>daddy <br>buddy <br>angle <br>mr <br>cont'd <br>slim <br>jimmy <br>crow <br>charles <br>to <br>baby <br>rod <br>cont <br>kitchen <br>horse <br>shooting <br>"
          ],
          [
           9,
           10.12801742553711,
           -2.714975595474243,
           -0.07988391071557999,
           "ray <br>mike <br>dave <br>whale <br>daddy <br>buddy <br>angle <br>mr <br>cont'd <br>slim <br>jimmy <br>crow <br>charles <br>to <br>baby <br>rod <br>cont <br>kitchen <br>horse <br>shooting <br>"
          ],
          [
           9,
           12.013998985290527,
           -2.028743267059326,
           -0.11414888501167297,
           "ray <br>mike <br>dave <br>whale <br>daddy <br>buddy <br>angle <br>mr <br>cont'd <br>slim <br>jimmy <br>crow <br>charles <br>to <br>baby <br>rod <br>cont <br>kitchen <br>horse <br>shooting <br>"
          ],
          [
           9,
           11.064678192138672,
           -1.385021448135376,
           -0.9892048239707947,
           "ray <br>mike <br>dave <br>whale <br>daddy <br>buddy <br>angle <br>mr <br>cont'd <br>slim <br>jimmy <br>crow <br>charles <br>to <br>baby <br>rod <br>cont <br>kitchen <br>horse <br>shooting <br>"
          ],
          [
           9,
           11.83603286743164,
           -2.6521518230438232,
           -1.4934380054473877,
           "ray <br>mike <br>dave <br>whale <br>daddy <br>buddy <br>angle <br>mr <br>cont'd <br>slim <br>jimmy <br>crow <br>charles <br>to <br>baby <br>rod <br>cont <br>kitchen <br>horse <br>shooting <br>"
          ],
          [
           9,
           8.454176902770996,
           -3.5158286094665527,
           -1.8044142723083496,
           "ray <br>mike <br>dave <br>whale <br>daddy <br>buddy <br>angle <br>mr <br>cont'd <br>slim <br>jimmy <br>crow <br>charles <br>to <br>baby <br>rod <br>cont <br>kitchen <br>horse <br>shooting <br>"
          ],
          [
           9,
           8.260614395141602,
           -3.6456050872802734,
           -1.9242409467697144,
           "ray <br>mike <br>dave <br>whale <br>daddy <br>buddy <br>angle <br>mr <br>cont'd <br>slim <br>jimmy <br>crow <br>charles <br>to <br>baby <br>rod <br>cont <br>kitchen <br>horse <br>shooting <br>"
          ],
          [
           9,
           10.647982597351074,
           -1.0416392087936401,
           -1.9237464666366577,
           "ray <br>mike <br>dave <br>whale <br>daddy <br>buddy <br>angle <br>mr <br>cont'd <br>slim <br>jimmy <br>crow <br>charles <br>to <br>baby <br>rod <br>cont <br>kitchen <br>horse <br>shooting <br>"
          ],
          [
           9,
           10.507597923278809,
           -1.6392524242401123,
           -1.4969910383224487,
           "ray <br>mike <br>dave <br>whale <br>daddy <br>buddy <br>angle <br>mr <br>cont'd <br>slim <br>jimmy <br>crow <br>charles <br>to <br>baby <br>rod <br>cont <br>kitchen <br>horse <br>shooting <br>"
          ],
          [
           9,
           11.883394241333008,
           -2.290118932723999,
           -0.7532526850700378,
           "ray <br>mike <br>dave <br>whale <br>daddy <br>buddy <br>angle <br>mr <br>cont'd <br>slim <br>jimmy <br>crow <br>charles <br>to <br>baby <br>rod <br>cont <br>kitchen <br>horse <br>shooting <br>"
          ],
          [
           9,
           12.486296653747559,
           -1.708372950553894,
           -0.19489321112632751,
           "ray <br>mike <br>dave <br>whale <br>daddy <br>buddy <br>angle <br>mr <br>cont'd <br>slim <br>jimmy <br>crow <br>charles <br>to <br>baby <br>rod <br>cont <br>kitchen <br>horse <br>shooting <br>"
          ],
          [
           9,
           9.87781047821045,
           -2.6079905033111572,
           0.7153732776641846,
           "ray <br>mike <br>dave <br>whale <br>daddy <br>buddy <br>angle <br>mr <br>cont'd <br>slim <br>jimmy <br>crow <br>charles <br>to <br>baby <br>rod <br>cont <br>kitchen <br>horse <br>shooting <br>"
          ],
          [
           9,
           10.065286636352539,
           -1.086377501487732,
           0.7653697729110718,
           "ray <br>mike <br>dave <br>whale <br>daddy <br>buddy <br>angle <br>mr <br>cont'd <br>slim <br>jimmy <br>crow <br>charles <br>to <br>baby <br>rod <br>cont <br>kitchen <br>horse <br>shooting <br>"
          ],
          [
           9,
           12.6151762008667,
           -1.9336037635803223,
           -0.11199084669351578,
           "ray <br>mike <br>dave <br>whale <br>daddy <br>buddy <br>angle <br>mr <br>cont'd <br>slim <br>jimmy <br>crow <br>charles <br>to <br>baby <br>rod <br>cont <br>kitchen <br>horse <br>shooting <br>"
          ],
          [
           9,
           9.942665100097656,
           -2.3679451942443848,
           -1.0184376239776611,
           "ray <br>mike <br>dave <br>whale <br>daddy <br>buddy <br>angle <br>mr <br>cont'd <br>slim <br>jimmy <br>crow <br>charles <br>to <br>baby <br>rod <br>cont <br>kitchen <br>horse <br>shooting <br>"
          ],
          [
           9,
           11.58756160736084,
           -1.4972413778305054,
           -0.1711847335100174,
           "ray <br>mike <br>dave <br>whale <br>daddy <br>buddy <br>angle <br>mr <br>cont'd <br>slim <br>jimmy <br>crow <br>charles <br>to <br>baby <br>rod <br>cont <br>kitchen <br>horse <br>shooting <br>"
          ],
          [
           9,
           9.101926803588867,
           -3.0644912719726562,
           -1.4339102506637573,
           "ray <br>mike <br>dave <br>whale <br>daddy <br>buddy <br>angle <br>mr <br>cont'd <br>slim <br>jimmy <br>crow <br>charles <br>to <br>baby <br>rod <br>cont <br>kitchen <br>horse <br>shooting <br>"
          ],
          [
           9,
           10.485854148864746,
           -3.0310566425323486,
           0.4160017669200897,
           "ray <br>mike <br>dave <br>whale <br>daddy <br>buddy <br>angle <br>mr <br>cont'd <br>slim <br>jimmy <br>crow <br>charles <br>to <br>baby <br>rod <br>cont <br>kitchen <br>horse <br>shooting <br>"
          ],
          [
           9,
           10.39862060546875,
           -1.82122004032135,
           0.36784711480140686,
           "ray <br>mike <br>dave <br>whale <br>daddy <br>buddy <br>angle <br>mr <br>cont'd <br>slim <br>jimmy <br>crow <br>charles <br>to <br>baby <br>rod <br>cont <br>kitchen <br>horse <br>shooting <br>"
          ],
          [
           9,
           11.159619331359863,
           -2.9405741691589355,
           0.2629219591617584,
           "ray <br>mike <br>dave <br>whale <br>daddy <br>buddy <br>angle <br>mr <br>cont'd <br>slim <br>jimmy <br>crow <br>charles <br>to <br>baby <br>rod <br>cont <br>kitchen <br>horse <br>shooting <br>"
          ],
          [
           9,
           10.158689498901367,
           -1.2221739292144775,
           0.5934601426124573,
           "ray <br>mike <br>dave <br>whale <br>daddy <br>buddy <br>angle <br>mr <br>cont'd <br>slim <br>jimmy <br>crow <br>charles <br>to <br>baby <br>rod <br>cont <br>kitchen <br>horse <br>shooting <br>"
          ]
         ],
         "mode": "markers",
         "showlegend": false,
         "type": "scatter3d",
         "x": [
          11.862083435058594,
          9.825353622436523,
          11.254849433898926,
          9.890451431274414,
          12.316036224365234,
          11.019121170043945,
          10.12801742553711,
          12.013998985290527,
          11.064678192138672,
          11.83603286743164,
          8.454176902770996,
          8.260614395141602,
          10.647982597351074,
          10.507597923278809,
          11.883394241333008,
          12.486296653747559,
          9.87781047821045,
          10.065286636352539,
          12.6151762008667,
          9.942665100097656,
          11.58756160736084,
          9.101926803588867,
          10.485854148864746,
          10.39862060546875,
          11.159619331359863,
          10.158689498901367
         ],
         "y": [
          -2.1845061779022217,
          -2.5083370208740234,
          -1.876344084739685,
          -1.9445520639419556,
          -2.0474612712860107,
          -1.5795241594314575,
          -2.714975595474243,
          -2.028743267059326,
          -1.385021448135376,
          -2.6521518230438232,
          -3.5158286094665527,
          -3.6456050872802734,
          -1.0416392087936401,
          -1.6392524242401123,
          -2.290118932723999,
          -1.708372950553894,
          -2.6079905033111572,
          -1.086377501487732,
          -1.9336037635803223,
          -2.3679451942443848,
          -1.4972413778305054,
          -3.0644912719726562,
          -3.0310566425323486,
          -1.82122004032135,
          -2.9405741691589355,
          -1.2221739292144775
         ],
         "z": [
          -0.12990693747997284,
          0.5082674622535706,
          -0.7598122358322144,
          -1.7288200855255127,
          0.06062491238117218,
          0.0751999169588089,
          -0.07988391071557999,
          -0.11414888501167297,
          -0.9892048239707947,
          -1.4934380054473877,
          -1.8044142723083496,
          -1.9242409467697144,
          -1.9237464666366577,
          -1.4969910383224487,
          -0.7532526850700378,
          -0.19489321112632751,
          0.7153732776641846,
          0.7653697729110718,
          -0.11199084669351578,
          -1.0184376239776611,
          -0.1711847335100174,
          -1.4339102506637573,
          0.4160017669200897,
          0.36784711480140686,
          0.2629219591617584,
          0.5934601426124573
         ]
        },
        {
         "hovertemplate": "%{meta[4]}<extra></extra>",
         "meta": [
          [
           10,
           1.7544082403182983,
           0.20885591208934784,
           0.4705810546875,
           "sam <br>to <br>go to <br>bobby <br>guy <br>yeah <br>mr <br>mom <br>grace <br>fuck <br>shit <br>dad <br>be <br>okay <br>ya <br>get to <br>fuckin <br>cont'd <br>green <br>-PRON- <br>"
          ],
          [
           10,
           0.8002125024795532,
           1.9835468530654907,
           3.8967106342315674,
           "sam <br>to <br>go to <br>bobby <br>guy <br>yeah <br>mr <br>mom <br>grace <br>fuck <br>shit <br>dad <br>be <br>okay <br>ya <br>get to <br>fuckin <br>cont'd <br>green <br>-PRON- <br>"
          ],
          [
           10,
           -0.48101386427879333,
           0.666580080986023,
           -0.5765237212181091,
           "sam <br>to <br>go to <br>bobby <br>guy <br>yeah <br>mr <br>mom <br>grace <br>fuck <br>shit <br>dad <br>be <br>okay <br>ya <br>get to <br>fuckin <br>cont'd <br>green <br>-PRON- <br>"
          ],
          [
           10,
           0.6063399314880371,
           1.2627862691879272,
           1.5622235536575317,
           "sam <br>to <br>go to <br>bobby <br>guy <br>yeah <br>mr <br>mom <br>grace <br>fuck <br>shit <br>dad <br>be <br>okay <br>ya <br>get to <br>fuckin <br>cont'd <br>green <br>-PRON- <br>"
          ],
          [
           10,
           4.803088665008545,
           1.2323311567306519,
           2.382215738296509,
           "sam <br>to <br>go to <br>bobby <br>guy <br>yeah <br>mr <br>mom <br>grace <br>fuck <br>shit <br>dad <br>be <br>okay <br>ya <br>get to <br>fuckin <br>cont'd <br>green <br>-PRON- <br>"
          ],
          [
           10,
           3.3572659492492676,
           2.452918291091919,
           2.3961615562438965,
           "sam <br>to <br>go to <br>bobby <br>guy <br>yeah <br>mr <br>mom <br>grace <br>fuck <br>shit <br>dad <br>be <br>okay <br>ya <br>get to <br>fuckin <br>cont'd <br>green <br>-PRON- <br>"
          ],
          [
           10,
           -0.007435913663357496,
           1.7069729566574097,
           2.626420021057129,
           "sam <br>to <br>go to <br>bobby <br>guy <br>yeah <br>mr <br>mom <br>grace <br>fuck <br>shit <br>dad <br>be <br>okay <br>ya <br>get to <br>fuckin <br>cont'd <br>green <br>-PRON- <br>"
          ],
          [
           10,
           4.3037495613098145,
           1.7518236637115479,
           2.425936460494995,
           "sam <br>to <br>go to <br>bobby <br>guy <br>yeah <br>mr <br>mom <br>grace <br>fuck <br>shit <br>dad <br>be <br>okay <br>ya <br>get to <br>fuckin <br>cont'd <br>green <br>-PRON- <br>"
          ],
          [
           10,
           1.1521294116973877,
           2.636497735977173,
           0.7507421970367432,
           "sam <br>to <br>go to <br>bobby <br>guy <br>yeah <br>mr <br>mom <br>grace <br>fuck <br>shit <br>dad <br>be <br>okay <br>ya <br>get to <br>fuckin <br>cont'd <br>green <br>-PRON- <br>"
          ],
          [
           10,
           -0.03925077244639397,
           -0.7252169251441956,
           -0.25320374965667725,
           "sam <br>to <br>go to <br>bobby <br>guy <br>yeah <br>mr <br>mom <br>grace <br>fuck <br>shit <br>dad <br>be <br>okay <br>ya <br>get to <br>fuckin <br>cont'd <br>green <br>-PRON- <br>"
          ],
          [
           10,
           3.1317286491394043,
           2.4066882133483887,
           3.1010196208953857,
           "sam <br>to <br>go to <br>bobby <br>guy <br>yeah <br>mr <br>mom <br>grace <br>fuck <br>shit <br>dad <br>be <br>okay <br>ya <br>get to <br>fuckin <br>cont'd <br>green <br>-PRON- <br>"
          ],
          [
           10,
           0.36195334792137146,
           1.0159661769866943,
           1.5010169744491577,
           "sam <br>to <br>go to <br>bobby <br>guy <br>yeah <br>mr <br>mom <br>grace <br>fuck <br>shit <br>dad <br>be <br>okay <br>ya <br>get to <br>fuckin <br>cont'd <br>green <br>-PRON- <br>"
          ],
          [
           10,
           4.619823932647705,
           1.4151692390441895,
           2.3957712650299072,
           "sam <br>to <br>go to <br>bobby <br>guy <br>yeah <br>mr <br>mom <br>grace <br>fuck <br>shit <br>dad <br>be <br>okay <br>ya <br>get to <br>fuckin <br>cont'd <br>green <br>-PRON- <br>"
          ],
          [
           10,
           0.04568243771791458,
           0.4658430814743042,
           -1.3264880180358887,
           "sam <br>to <br>go to <br>bobby <br>guy <br>yeah <br>mr <br>mom <br>grace <br>fuck <br>shit <br>dad <br>be <br>okay <br>ya <br>get to <br>fuckin <br>cont'd <br>green <br>-PRON- <br>"
          ],
          [
           10,
           1.0489898920059204,
           1.1209566593170166,
           -0.11272203177213669,
           "sam <br>to <br>go to <br>bobby <br>guy <br>yeah <br>mr <br>mom <br>grace <br>fuck <br>shit <br>dad <br>be <br>okay <br>ya <br>get to <br>fuckin <br>cont'd <br>green <br>-PRON- <br>"
          ],
          [
           10,
           2.7421698570251465,
           2.0022573471069336,
           1.8430891036987305,
           "sam <br>to <br>go to <br>bobby <br>guy <br>yeah <br>mr <br>mom <br>grace <br>fuck <br>shit <br>dad <br>be <br>okay <br>ya <br>get to <br>fuckin <br>cont'd <br>green <br>-PRON- <br>"
          ],
          [
           10,
           2.5712480545043945,
           -1.3385463953018188,
           1.3916047811508179,
           "sam <br>to <br>go to <br>bobby <br>guy <br>yeah <br>mr <br>mom <br>grace <br>fuck <br>shit <br>dad <br>be <br>okay <br>ya <br>get to <br>fuckin <br>cont'd <br>green <br>-PRON- <br>"
          ],
          [
           10,
           -0.5984542965888977,
           0.7667403817176819,
           3.0541365146636963,
           "sam <br>to <br>go to <br>bobby <br>guy <br>yeah <br>mr <br>mom <br>grace <br>fuck <br>shit <br>dad <br>be <br>okay <br>ya <br>get to <br>fuckin <br>cont'd <br>green <br>-PRON- <br>"
          ],
          [
           10,
           -0.1984531730413437,
           0.6798589825630188,
           -1.577135682106018,
           "sam <br>to <br>go to <br>bobby <br>guy <br>yeah <br>mr <br>mom <br>grace <br>fuck <br>shit <br>dad <br>be <br>okay <br>ya <br>get to <br>fuckin <br>cont'd <br>green <br>-PRON- <br>"
          ],
          [
           10,
           4.032869815826416,
           2.490886688232422,
           3.0892226696014404,
           "sam <br>to <br>go to <br>bobby <br>guy <br>yeah <br>mr <br>mom <br>grace <br>fuck <br>shit <br>dad <br>be <br>okay <br>ya <br>get to <br>fuckin <br>cont'd <br>green <br>-PRON- <br>"
          ],
          [
           10,
           3.564241886138916,
           2.144530773162842,
           3.2401154041290283,
           "sam <br>to <br>go to <br>bobby <br>guy <br>yeah <br>mr <br>mom <br>grace <br>fuck <br>shit <br>dad <br>be <br>okay <br>ya <br>get to <br>fuckin <br>cont'd <br>green <br>-PRON- <br>"
          ],
          [
           10,
           3.8386332988739014,
           2.497159242630005,
           2.6187102794647217,
           "sam <br>to <br>go to <br>bobby <br>guy <br>yeah <br>mr <br>mom <br>grace <br>fuck <br>shit <br>dad <br>be <br>okay <br>ya <br>get to <br>fuckin <br>cont'd <br>green <br>-PRON- <br>"
          ],
          [
           10,
           -0.3538600504398346,
           -1.259655237197876,
           -0.7480136156082153,
           "sam <br>to <br>go to <br>bobby <br>guy <br>yeah <br>mr <br>mom <br>grace <br>fuck <br>shit <br>dad <br>be <br>okay <br>ya <br>get to <br>fuckin <br>cont'd <br>green <br>-PRON- <br>"
          ],
          [
           10,
           2.1747186183929443,
           3.638556957244873,
           2.357006549835205,
           "sam <br>to <br>go to <br>bobby <br>guy <br>yeah <br>mr <br>mom <br>grace <br>fuck <br>shit <br>dad <br>be <br>okay <br>ya <br>get to <br>fuckin <br>cont'd <br>green <br>-PRON- <br>"
          ],
          [
           10,
           2.35422420501709,
           0.8906143307685852,
           3.0977861881256104,
           "sam <br>to <br>go to <br>bobby <br>guy <br>yeah <br>mr <br>mom <br>grace <br>fuck <br>shit <br>dad <br>be <br>okay <br>ya <br>get to <br>fuckin <br>cont'd <br>green <br>-PRON- <br>"
          ],
          [
           10,
           2.868725061416626,
           0.9398513436317444,
           3.329021692276001,
           "sam <br>to <br>go to <br>bobby <br>guy <br>yeah <br>mr <br>mom <br>grace <br>fuck <br>shit <br>dad <br>be <br>okay <br>ya <br>get to <br>fuckin <br>cont'd <br>green <br>-PRON- <br>"
          ],
          [
           10,
           2.9295883178710938,
           1.005448579788208,
           -0.6509871482849121,
           "sam <br>to <br>go to <br>bobby <br>guy <br>yeah <br>mr <br>mom <br>grace <br>fuck <br>shit <br>dad <br>be <br>okay <br>ya <br>get to <br>fuckin <br>cont'd <br>green <br>-PRON- <br>"
          ],
          [
           10,
           -0.12356220930814743,
           0.7127481698989868,
           2.9515113830566406,
           "sam <br>to <br>go to <br>bobby <br>guy <br>yeah <br>mr <br>mom <br>grace <br>fuck <br>shit <br>dad <br>be <br>okay <br>ya <br>get to <br>fuckin <br>cont'd <br>green <br>-PRON- <br>"
          ],
          [
           10,
           2.7186737060546875,
           0.976530134677887,
           -0.3449189364910126,
           "sam <br>to <br>go to <br>bobby <br>guy <br>yeah <br>mr <br>mom <br>grace <br>fuck <br>shit <br>dad <br>be <br>okay <br>ya <br>get to <br>fuckin <br>cont'd <br>green <br>-PRON- <br>"
          ],
          [
           10,
           2.598217725753784,
           2.4211697578430176,
           3.4044384956359863,
           "sam <br>to <br>go to <br>bobby <br>guy <br>yeah <br>mr <br>mom <br>grace <br>fuck <br>shit <br>dad <br>be <br>okay <br>ya <br>get to <br>fuckin <br>cont'd <br>green <br>-PRON- <br>"
          ],
          [
           10,
           2.8876514434814453,
           2.195885419845581,
           2.1799893379211426,
           "sam <br>to <br>go to <br>bobby <br>guy <br>yeah <br>mr <br>mom <br>grace <br>fuck <br>shit <br>dad <br>be <br>okay <br>ya <br>get to <br>fuckin <br>cont'd <br>green <br>-PRON- <br>"
          ],
          [
           10,
           3.169071674346924,
           -0.5652716755867004,
           0.8169811964035034,
           "sam <br>to <br>go to <br>bobby <br>guy <br>yeah <br>mr <br>mom <br>grace <br>fuck <br>shit <br>dad <br>be <br>okay <br>ya <br>get to <br>fuckin <br>cont'd <br>green <br>-PRON- <br>"
          ],
          [
           10,
           0.9422063827514648,
           0.9838249683380127,
           2.407022476196289,
           "sam <br>to <br>go to <br>bobby <br>guy <br>yeah <br>mr <br>mom <br>grace <br>fuck <br>shit <br>dad <br>be <br>okay <br>ya <br>get to <br>fuckin <br>cont'd <br>green <br>-PRON- <br>"
          ],
          [
           10,
           1.0660178661346436,
           2.179185628890991,
           0.8376731276512146,
           "sam <br>to <br>go to <br>bobby <br>guy <br>yeah <br>mr <br>mom <br>grace <br>fuck <br>shit <br>dad <br>be <br>okay <br>ya <br>get to <br>fuckin <br>cont'd <br>green <br>-PRON- <br>"
          ],
          [
           10,
           2.780933141708374,
           1.3332726955413818,
           2.4050028324127197,
           "sam <br>to <br>go to <br>bobby <br>guy <br>yeah <br>mr <br>mom <br>grace <br>fuck <br>shit <br>dad <br>be <br>okay <br>ya <br>get to <br>fuckin <br>cont'd <br>green <br>-PRON- <br>"
          ],
          [
           10,
           2.291079044342041,
           1.1183632612228394,
           0.9625120162963867,
           "sam <br>to <br>go to <br>bobby <br>guy <br>yeah <br>mr <br>mom <br>grace <br>fuck <br>shit <br>dad <br>be <br>okay <br>ya <br>get to <br>fuckin <br>cont'd <br>green <br>-PRON- <br>"
          ],
          [
           10,
           -1.1947300434112549,
           -0.3855086863040924,
           0.22347897291183472,
           "sam <br>to <br>go to <br>bobby <br>guy <br>yeah <br>mr <br>mom <br>grace <br>fuck <br>shit <br>dad <br>be <br>okay <br>ya <br>get to <br>fuckin <br>cont'd <br>green <br>-PRON- <br>"
          ],
          [
           10,
           3.932582378387451,
           2.9597854614257812,
           1.529143214225769,
           "sam <br>to <br>go to <br>bobby <br>guy <br>yeah <br>mr <br>mom <br>grace <br>fuck <br>shit <br>dad <br>be <br>okay <br>ya <br>get to <br>fuckin <br>cont'd <br>green <br>-PRON- <br>"
          ],
          [
           10,
           0.762880802154541,
           2.1383447647094727,
           2.3749334812164307,
           "sam <br>to <br>go to <br>bobby <br>guy <br>yeah <br>mr <br>mom <br>grace <br>fuck <br>shit <br>dad <br>be <br>okay <br>ya <br>get to <br>fuckin <br>cont'd <br>green <br>-PRON- <br>"
          ],
          [
           10,
           1.432275652885437,
           0.9192761182785034,
           -0.5830029845237732,
           "sam <br>to <br>go to <br>bobby <br>guy <br>yeah <br>mr <br>mom <br>grace <br>fuck <br>shit <br>dad <br>be <br>okay <br>ya <br>get to <br>fuckin <br>cont'd <br>green <br>-PRON- <br>"
          ],
          [
           10,
           1.9711275100708008,
           1.3740566968917847,
           1.0092754364013672,
           "sam <br>to <br>go to <br>bobby <br>guy <br>yeah <br>mr <br>mom <br>grace <br>fuck <br>shit <br>dad <br>be <br>okay <br>ya <br>get to <br>fuckin <br>cont'd <br>green <br>-PRON- <br>"
          ],
          [
           10,
           3.106084108352661,
           -0.3591529130935669,
           0.7694433927536011,
           "sam <br>to <br>go to <br>bobby <br>guy <br>yeah <br>mr <br>mom <br>grace <br>fuck <br>shit <br>dad <br>be <br>okay <br>ya <br>get to <br>fuckin <br>cont'd <br>green <br>-PRON- <br>"
          ],
          [
           10,
           2.323474884033203,
           2.5531115531921387,
           1.8534002304077148,
           "sam <br>to <br>go to <br>bobby <br>guy <br>yeah <br>mr <br>mom <br>grace <br>fuck <br>shit <br>dad <br>be <br>okay <br>ya <br>get to <br>fuckin <br>cont'd <br>green <br>-PRON- <br>"
          ],
          [
           10,
           2.4607324600219727,
           1.4968361854553223,
           0.032801851630210876,
           "sam <br>to <br>go to <br>bobby <br>guy <br>yeah <br>mr <br>mom <br>grace <br>fuck <br>shit <br>dad <br>be <br>okay <br>ya <br>get to <br>fuckin <br>cont'd <br>green <br>-PRON- <br>"
          ],
          [
           10,
           1.6442748308181763,
           3.529449462890625,
           3.853126287460327,
           "sam <br>to <br>go to <br>bobby <br>guy <br>yeah <br>mr <br>mom <br>grace <br>fuck <br>shit <br>dad <br>be <br>okay <br>ya <br>get to <br>fuckin <br>cont'd <br>green <br>-PRON- <br>"
          ],
          [
           10,
           0.7247126698493958,
           1.0179762840270996,
           -0.4757276177406311,
           "sam <br>to <br>go to <br>bobby <br>guy <br>yeah <br>mr <br>mom <br>grace <br>fuck <br>shit <br>dad <br>be <br>okay <br>ya <br>get to <br>fuckin <br>cont'd <br>green <br>-PRON- <br>"
          ],
          [
           10,
           1.7578811645507812,
           1.2514911890029907,
           0.8718441128730774,
           "sam <br>to <br>go to <br>bobby <br>guy <br>yeah <br>mr <br>mom <br>grace <br>fuck <br>shit <br>dad <br>be <br>okay <br>ya <br>get to <br>fuckin <br>cont'd <br>green <br>-PRON- <br>"
          ],
          [
           10,
           2.7753055095672607,
           0.8927571177482605,
           3.250772714614868,
           "sam <br>to <br>go to <br>bobby <br>guy <br>yeah <br>mr <br>mom <br>grace <br>fuck <br>shit <br>dad <br>be <br>okay <br>ya <br>get to <br>fuckin <br>cont'd <br>green <br>-PRON- <br>"
          ],
          [
           10,
           3.7996652126312256,
           2.9475033283233643,
           1.235300898551941,
           "sam <br>to <br>go to <br>bobby <br>guy <br>yeah <br>mr <br>mom <br>grace <br>fuck <br>shit <br>dad <br>be <br>okay <br>ya <br>get to <br>fuckin <br>cont'd <br>green <br>-PRON- <br>"
          ],
          [
           10,
           -0.45453858375549316,
           -1.0234665870666504,
           -0.8571218252182007,
           "sam <br>to <br>go to <br>bobby <br>guy <br>yeah <br>mr <br>mom <br>grace <br>fuck <br>shit <br>dad <br>be <br>okay <br>ya <br>get to <br>fuckin <br>cont'd <br>green <br>-PRON- <br>"
          ],
          [
           10,
           3.778738498687744,
           3.2156620025634766,
           2.765886068344116,
           "sam <br>to <br>go to <br>bobby <br>guy <br>yeah <br>mr <br>mom <br>grace <br>fuck <br>shit <br>dad <br>be <br>okay <br>ya <br>get to <br>fuckin <br>cont'd <br>green <br>-PRON- <br>"
          ],
          [
           10,
           1.4364897012710571,
           -1.3234819173812866,
           2.1455068588256836,
           "sam <br>to <br>go to <br>bobby <br>guy <br>yeah <br>mr <br>mom <br>grace <br>fuck <br>shit <br>dad <br>be <br>okay <br>ya <br>get to <br>fuckin <br>cont'd <br>green <br>-PRON- <br>"
          ],
          [
           10,
           3.3387391567230225,
           2.954090118408203,
           -0.22937944531440735,
           "sam <br>to <br>go to <br>bobby <br>guy <br>yeah <br>mr <br>mom <br>grace <br>fuck <br>shit <br>dad <br>be <br>okay <br>ya <br>get to <br>fuckin <br>cont'd <br>green <br>-PRON- <br>"
          ],
          [
           10,
           3.860319137573242,
           3.300029993057251,
           0.3650818169116974,
           "sam <br>to <br>go to <br>bobby <br>guy <br>yeah <br>mr <br>mom <br>grace <br>fuck <br>shit <br>dad <br>be <br>okay <br>ya <br>get to <br>fuckin <br>cont'd <br>green <br>-PRON- <br>"
          ],
          [
           10,
           -0.5386582016944885,
           1.3810313940048218,
           3.560331106185913,
           "sam <br>to <br>go to <br>bobby <br>guy <br>yeah <br>mr <br>mom <br>grace <br>fuck <br>shit <br>dad <br>be <br>okay <br>ya <br>get to <br>fuckin <br>cont'd <br>green <br>-PRON- <br>"
          ],
          [
           10,
           2.0785820484161377,
           0.5665289759635925,
           1.074151873588562,
           "sam <br>to <br>go to <br>bobby <br>guy <br>yeah <br>mr <br>mom <br>grace <br>fuck <br>shit <br>dad <br>be <br>okay <br>ya <br>get to <br>fuckin <br>cont'd <br>green <br>-PRON- <br>"
          ],
          [
           10,
           1.246967077255249,
           0.9837726950645447,
           0.24802976846694946,
           "sam <br>to <br>go to <br>bobby <br>guy <br>yeah <br>mr <br>mom <br>grace <br>fuck <br>shit <br>dad <br>be <br>okay <br>ya <br>get to <br>fuckin <br>cont'd <br>green <br>-PRON- <br>"
          ],
          [
           10,
           1.613743543624878,
           2.4397552013397217,
           2.242335796356201,
           "sam <br>to <br>go to <br>bobby <br>guy <br>yeah <br>mr <br>mom <br>grace <br>fuck <br>shit <br>dad <br>be <br>okay <br>ya <br>get to <br>fuckin <br>cont'd <br>green <br>-PRON- <br>"
          ]
         ],
         "mode": "markers",
         "showlegend": false,
         "type": "scatter3d",
         "x": [
          1.7544082403182983,
          0.8002125024795532,
          -0.48101386427879333,
          0.6063399314880371,
          4.803088665008545,
          3.3572659492492676,
          -0.007435913663357496,
          4.3037495613098145,
          1.1521294116973877,
          -0.03925077244639397,
          3.1317286491394043,
          0.36195334792137146,
          4.619823932647705,
          0.04568243771791458,
          1.0489898920059204,
          2.7421698570251465,
          2.5712480545043945,
          -0.5984542965888977,
          -0.1984531730413437,
          4.032869815826416,
          3.564241886138916,
          3.8386332988739014,
          -0.3538600504398346,
          2.1747186183929443,
          2.35422420501709,
          2.868725061416626,
          2.9295883178710938,
          -0.12356220930814743,
          2.7186737060546875,
          2.598217725753784,
          2.8876514434814453,
          3.169071674346924,
          0.9422063827514648,
          1.0660178661346436,
          2.780933141708374,
          2.291079044342041,
          -1.1947300434112549,
          3.932582378387451,
          0.762880802154541,
          1.432275652885437,
          1.9711275100708008,
          3.106084108352661,
          2.323474884033203,
          2.4607324600219727,
          1.6442748308181763,
          0.7247126698493958,
          1.7578811645507812,
          2.7753055095672607,
          3.7996652126312256,
          -0.45453858375549316,
          3.778738498687744,
          1.4364897012710571,
          3.3387391567230225,
          3.860319137573242,
          -0.5386582016944885,
          2.0785820484161377,
          1.246967077255249,
          1.613743543624878
         ],
         "y": [
          0.20885591208934784,
          1.9835468530654907,
          0.666580080986023,
          1.2627862691879272,
          1.2323311567306519,
          2.452918291091919,
          1.7069729566574097,
          1.7518236637115479,
          2.636497735977173,
          -0.7252169251441956,
          2.4066882133483887,
          1.0159661769866943,
          1.4151692390441895,
          0.4658430814743042,
          1.1209566593170166,
          2.0022573471069336,
          -1.3385463953018188,
          0.7667403817176819,
          0.6798589825630188,
          2.490886688232422,
          2.144530773162842,
          2.497159242630005,
          -1.259655237197876,
          3.638556957244873,
          0.8906143307685852,
          0.9398513436317444,
          1.005448579788208,
          0.7127481698989868,
          0.976530134677887,
          2.4211697578430176,
          2.195885419845581,
          -0.5652716755867004,
          0.9838249683380127,
          2.179185628890991,
          1.3332726955413818,
          1.1183632612228394,
          -0.3855086863040924,
          2.9597854614257812,
          2.1383447647094727,
          0.9192761182785034,
          1.3740566968917847,
          -0.3591529130935669,
          2.5531115531921387,
          1.4968361854553223,
          3.529449462890625,
          1.0179762840270996,
          1.2514911890029907,
          0.8927571177482605,
          2.9475033283233643,
          -1.0234665870666504,
          3.2156620025634766,
          -1.3234819173812866,
          2.954090118408203,
          3.300029993057251,
          1.3810313940048218,
          0.5665289759635925,
          0.9837726950645447,
          2.4397552013397217
         ],
         "z": [
          0.4705810546875,
          3.8967106342315674,
          -0.5765237212181091,
          1.5622235536575317,
          2.382215738296509,
          2.3961615562438965,
          2.626420021057129,
          2.425936460494995,
          0.7507421970367432,
          -0.25320374965667725,
          3.1010196208953857,
          1.5010169744491577,
          2.3957712650299072,
          -1.3264880180358887,
          -0.11272203177213669,
          1.8430891036987305,
          1.3916047811508179,
          3.0541365146636963,
          -1.577135682106018,
          3.0892226696014404,
          3.2401154041290283,
          2.6187102794647217,
          -0.7480136156082153,
          2.357006549835205,
          3.0977861881256104,
          3.329021692276001,
          -0.6509871482849121,
          2.9515113830566406,
          -0.3449189364910126,
          3.4044384956359863,
          2.1799893379211426,
          0.8169811964035034,
          2.407022476196289,
          0.8376731276512146,
          2.4050028324127197,
          0.9625120162963867,
          0.22347897291183472,
          1.529143214225769,
          2.3749334812164307,
          -0.5830029845237732,
          1.0092754364013672,
          0.7694433927536011,
          1.8534002304077148,
          0.032801851630210876,
          3.853126287460327,
          -0.4757276177406311,
          0.8718441128730774,
          3.250772714614868,
          1.235300898551941,
          -0.8571218252182007,
          2.765886068344116,
          2.1455068588256836,
          -0.22937944531440735,
          0.3650818169116974,
          3.560331106185913,
          1.074151873588562,
          0.24802976846694946,
          2.242335796356201
         ]
        },
        {
         "hovertemplate": "%{meta[4]}<extra></extra>",
         "meta": [
          [
           11,
           -3.5450005531311035,
           -9.041714668273926,
           1.5748549699783325,
           "charlie <br>arthur <br>draft <br>stark <br>cont'd <br>william <br>mumble <br>okay <br>johnny <br>dr <br>mr <br>bill <br>yeah <br>ford <br>wink <br>to <br>jean <br>steve <br>mom <br>ice <br>"
          ],
          [
           11,
           -3.964312791824341,
           -6.600677967071533,
           3.508333683013916,
           "charlie <br>arthur <br>draft <br>stark <br>cont'd <br>william <br>mumble <br>okay <br>johnny <br>dr <br>mr <br>bill <br>yeah <br>ford <br>wink <br>to <br>jean <br>steve <br>mom <br>ice <br>"
          ],
          [
           11,
           -4.9417595863342285,
           -10.1467866897583,
           3.1624536514282227,
           "charlie <br>arthur <br>draft <br>stark <br>cont'd <br>william <br>mumble <br>okay <br>johnny <br>dr <br>mr <br>bill <br>yeah <br>ford <br>wink <br>to <br>jean <br>steve <br>mom <br>ice <br>"
          ],
          [
           11,
           -4.669947624206543,
           -9.83983039855957,
           3.145798444747925,
           "charlie <br>arthur <br>draft <br>stark <br>cont'd <br>william <br>mumble <br>okay <br>johnny <br>dr <br>mr <br>bill <br>yeah <br>ford <br>wink <br>to <br>jean <br>steve <br>mom <br>ice <br>"
          ],
          [
           11,
           -3.9997520446777344,
           -6.78446102142334,
           3.4831387996673584,
           "charlie <br>arthur <br>draft <br>stark <br>cont'd <br>william <br>mumble <br>okay <br>johnny <br>dr <br>mr <br>bill <br>yeah <br>ford <br>wink <br>to <br>jean <br>steve <br>mom <br>ice <br>"
          ],
          [
           11,
           -4.173559665679932,
           -9.411535263061523,
           2.4599156379699707,
           "charlie <br>arthur <br>draft <br>stark <br>cont'd <br>william <br>mumble <br>okay <br>johnny <br>dr <br>mr <br>bill <br>yeah <br>ford <br>wink <br>to <br>jean <br>steve <br>mom <br>ice <br>"
          ],
          [
           11,
           -4.855515480041504,
           -9.36676025390625,
           3.6890039443969727,
           "charlie <br>arthur <br>draft <br>stark <br>cont'd <br>william <br>mumble <br>okay <br>johnny <br>dr <br>mr <br>bill <br>yeah <br>ford <br>wink <br>to <br>jean <br>steve <br>mom <br>ice <br>"
          ],
          [
           11,
           -3.7702796459198,
           -8.396513938903809,
           3.1552696228027344,
           "charlie <br>arthur <br>draft <br>stark <br>cont'd <br>william <br>mumble <br>okay <br>johnny <br>dr <br>mr <br>bill <br>yeah <br>ford <br>wink <br>to <br>jean <br>steve <br>mom <br>ice <br>"
          ],
          [
           11,
           -4.693003177642822,
           -8.743618965148926,
           3.8305816650390625,
           "charlie <br>arthur <br>draft <br>stark <br>cont'd <br>william <br>mumble <br>okay <br>johnny <br>dr <br>mr <br>bill <br>yeah <br>ford <br>wink <br>to <br>jean <br>steve <br>mom <br>ice <br>"
          ],
          [
           11,
           -4.714363098144531,
           -7.256141662597656,
           3.19635272026062,
           "charlie <br>arthur <br>draft <br>stark <br>cont'd <br>william <br>mumble <br>okay <br>johnny <br>dr <br>mr <br>bill <br>yeah <br>ford <br>wink <br>to <br>jean <br>steve <br>mom <br>ice <br>"
          ],
          [
           11,
           -4.590982437133789,
           -7.389904022216797,
           2.1174983978271484,
           "charlie <br>arthur <br>draft <br>stark <br>cont'd <br>william <br>mumble <br>okay <br>johnny <br>dr <br>mr <br>bill <br>yeah <br>ford <br>wink <br>to <br>jean <br>steve <br>mom <br>ice <br>"
          ],
          [
           11,
           -4.658005237579346,
           -8.675570487976074,
           3.9394850730895996,
           "charlie <br>arthur <br>draft <br>stark <br>cont'd <br>william <br>mumble <br>okay <br>johnny <br>dr <br>mr <br>bill <br>yeah <br>ford <br>wink <br>to <br>jean <br>steve <br>mom <br>ice <br>"
          ],
          [
           11,
           -4.655770301818848,
           -7.419189453125,
           1.8100736141204834,
           "charlie <br>arthur <br>draft <br>stark <br>cont'd <br>william <br>mumble <br>okay <br>johnny <br>dr <br>mr <br>bill <br>yeah <br>ford <br>wink <br>to <br>jean <br>steve <br>mom <br>ice <br>"
          ],
          [
           11,
           -4.7997660636901855,
           -9.546271324157715,
           3.1234867572784424,
           "charlie <br>arthur <br>draft <br>stark <br>cont'd <br>william <br>mumble <br>okay <br>johnny <br>dr <br>mr <br>bill <br>yeah <br>ford <br>wink <br>to <br>jean <br>steve <br>mom <br>ice <br>"
          ],
          [
           11,
           -4.442912578582764,
           -8.942380905151367,
           3.591243028640747,
           "charlie <br>arthur <br>draft <br>stark <br>cont'd <br>william <br>mumble <br>okay <br>johnny <br>dr <br>mr <br>bill <br>yeah <br>ford <br>wink <br>to <br>jean <br>steve <br>mom <br>ice <br>"
          ],
          [
           11,
           -4.922275066375732,
           -9.324111938476562,
           2.6134209632873535,
           "charlie <br>arthur <br>draft <br>stark <br>cont'd <br>william <br>mumble <br>okay <br>johnny <br>dr <br>mr <br>bill <br>yeah <br>ford <br>wink <br>to <br>jean <br>steve <br>mom <br>ice <br>"
          ],
          [
           11,
           -5.165362358093262,
           -8.920737266540527,
           3.1578378677368164,
           "charlie <br>arthur <br>draft <br>stark <br>cont'd <br>william <br>mumble <br>okay <br>johnny <br>dr <br>mr <br>bill <br>yeah <br>ford <br>wink <br>to <br>jean <br>steve <br>mom <br>ice <br>"
          ],
          [
           11,
           -4.361320972442627,
           -5.6775803565979,
           3.104630947113037,
           "charlie <br>arthur <br>draft <br>stark <br>cont'd <br>william <br>mumble <br>okay <br>johnny <br>dr <br>mr <br>bill <br>yeah <br>ford <br>wink <br>to <br>jean <br>steve <br>mom <br>ice <br>"
          ],
          [
           11,
           -4.213827610015869,
           -8.995892524719238,
           3.448450803756714,
           "charlie <br>arthur <br>draft <br>stark <br>cont'd <br>william <br>mumble <br>okay <br>johnny <br>dr <br>mr <br>bill <br>yeah <br>ford <br>wink <br>to <br>jean <br>steve <br>mom <br>ice <br>"
          ],
          [
           11,
           -4.899643898010254,
           -8.333905220031738,
           3.153224229812622,
           "charlie <br>arthur <br>draft <br>stark <br>cont'd <br>william <br>mumble <br>okay <br>johnny <br>dr <br>mr <br>bill <br>yeah <br>ford <br>wink <br>to <br>jean <br>steve <br>mom <br>ice <br>"
          ],
          [
           11,
           -4.409934043884277,
           -7.110105991363525,
           3.148911714553833,
           "charlie <br>arthur <br>draft <br>stark <br>cont'd <br>william <br>mumble <br>okay <br>johnny <br>dr <br>mr <br>bill <br>yeah <br>ford <br>wink <br>to <br>jean <br>steve <br>mom <br>ice <br>"
          ]
         ],
         "mode": "markers",
         "showlegend": false,
         "type": "scatter3d",
         "x": [
          -3.5450005531311035,
          -3.964312791824341,
          -4.9417595863342285,
          -4.669947624206543,
          -3.9997520446777344,
          -4.173559665679932,
          -4.855515480041504,
          -3.7702796459198,
          -4.693003177642822,
          -4.714363098144531,
          -4.590982437133789,
          -4.658005237579346,
          -4.655770301818848,
          -4.7997660636901855,
          -4.442912578582764,
          -4.922275066375732,
          -5.165362358093262,
          -4.361320972442627,
          -4.213827610015869,
          -4.899643898010254,
          -4.409934043884277
         ],
         "y": [
          -9.041714668273926,
          -6.600677967071533,
          -10.1467866897583,
          -9.83983039855957,
          -6.78446102142334,
          -9.411535263061523,
          -9.36676025390625,
          -8.396513938903809,
          -8.743618965148926,
          -7.256141662597656,
          -7.389904022216797,
          -8.675570487976074,
          -7.419189453125,
          -9.546271324157715,
          -8.942380905151367,
          -9.324111938476562,
          -8.920737266540527,
          -5.6775803565979,
          -8.995892524719238,
          -8.333905220031738,
          -7.110105991363525
         ],
         "z": [
          1.5748549699783325,
          3.508333683013916,
          3.1624536514282227,
          3.145798444747925,
          3.4831387996673584,
          2.4599156379699707,
          3.6890039443969727,
          3.1552696228027344,
          3.8305816650390625,
          3.19635272026062,
          2.1174983978271484,
          3.9394850730895996,
          1.8100736141204834,
          3.1234867572784424,
          3.591243028640747,
          2.6134209632873535,
          3.1578378677368164,
          3.104630947113037,
          3.448450803756714,
          3.153224229812622,
          3.148911714553833
         ]
        },
        {
         "hovertemplate": "%{meta[4]}<extra></extra>",
         "meta": [
          [
           12,
           -13.431931495666504,
           2.591827392578125,
           3.866225242614746,
           "cont'd <br>continue continue <br>boat <br>martin <br>continuous <br>smith <br>draw <br>v.o <br>dragon <br>blue <br>king <br>beach <br>angle <br>chase <br>dog <br>final <br>o.s <br>sea <br>crowd <br>land <br>"
          ],
          [
           12,
           -12.723672866821289,
           3.500276565551758,
           4.034658432006836,
           "cont'd <br>continue continue <br>boat <br>martin <br>continuous <br>smith <br>draw <br>v.o <br>dragon <br>blue <br>king <br>beach <br>angle <br>chase <br>dog <br>final <br>o.s <br>sea <br>crowd <br>land <br>"
          ],
          [
           12,
           -11.621322631835938,
           3.442237138748169,
           4.623394012451172,
           "cont'd <br>continue continue <br>boat <br>martin <br>continuous <br>smith <br>draw <br>v.o <br>dragon <br>blue <br>king <br>beach <br>angle <br>chase <br>dog <br>final <br>o.s <br>sea <br>crowd <br>land <br>"
          ],
          [
           12,
           -12.832314491271973,
           1.9158107042312622,
           2.6578781604766846,
           "cont'd <br>continue continue <br>boat <br>martin <br>continuous <br>smith <br>draw <br>v.o <br>dragon <br>blue <br>king <br>beach <br>angle <br>chase <br>dog <br>final <br>o.s <br>sea <br>crowd <br>land <br>"
          ],
          [
           12,
           -13.856834411621094,
           2.774980306625366,
           2.22615647315979,
           "cont'd <br>continue continue <br>boat <br>martin <br>continuous <br>smith <br>draw <br>v.o <br>dragon <br>blue <br>king <br>beach <br>angle <br>chase <br>dog <br>final <br>o.s <br>sea <br>crowd <br>land <br>"
          ],
          [
           12,
           -11.446467399597168,
           3.5025370121002197,
           4.644241809844971,
           "cont'd <br>continue continue <br>boat <br>martin <br>continuous <br>smith <br>draw <br>v.o <br>dragon <br>blue <br>king <br>beach <br>angle <br>chase <br>dog <br>final <br>o.s <br>sea <br>crowd <br>land <br>"
          ],
          [
           12,
           -11.876749992370605,
           2.716578483581543,
           3.4881532192230225,
           "cont'd <br>continue continue <br>boat <br>martin <br>continuous <br>smith <br>draw <br>v.o <br>dragon <br>blue <br>king <br>beach <br>angle <br>chase <br>dog <br>final <br>o.s <br>sea <br>crowd <br>land <br>"
          ],
          [
           12,
           -14.401175498962402,
           2.1086199283599854,
           2.638200521469116,
           "cont'd <br>continue continue <br>boat <br>martin <br>continuous <br>smith <br>draw <br>v.o <br>dragon <br>blue <br>king <br>beach <br>angle <br>chase <br>dog <br>final <br>o.s <br>sea <br>crowd <br>land <br>"
          ],
          [
           12,
           -12.191732406616211,
           2.627455472946167,
           3.469038724899292,
           "cont'd <br>continue continue <br>boat <br>martin <br>continuous <br>smith <br>draw <br>v.o <br>dragon <br>blue <br>king <br>beach <br>angle <br>chase <br>dog <br>final <br>o.s <br>sea <br>crowd <br>land <br>"
          ],
          [
           12,
           -12.779250144958496,
           1.910620093345642,
           2.6616995334625244,
           "cont'd <br>continue continue <br>boat <br>martin <br>continuous <br>smith <br>draw <br>v.o <br>dragon <br>blue <br>king <br>beach <br>angle <br>chase <br>dog <br>final <br>o.s <br>sea <br>crowd <br>land <br>"
          ],
          [
           12,
           -13.003780364990234,
           2.021711587905884,
           2.7456064224243164,
           "cont'd <br>continue continue <br>boat <br>martin <br>continuous <br>smith <br>draw <br>v.o <br>dragon <br>blue <br>king <br>beach <br>angle <br>chase <br>dog <br>final <br>o.s <br>sea <br>crowd <br>land <br>"
          ],
          [
           12,
           -14.022096633911133,
           2.446179151535034,
           2.9617760181427,
           "cont'd <br>continue continue <br>boat <br>martin <br>continuous <br>smith <br>draw <br>v.o <br>dragon <br>blue <br>king <br>beach <br>angle <br>chase <br>dog <br>final <br>o.s <br>sea <br>crowd <br>land <br>"
          ],
          [
           12,
           -12.540372848510742,
           3.0671963691711426,
           4.089658737182617,
           "cont'd <br>continue continue <br>boat <br>martin <br>continuous <br>smith <br>draw <br>v.o <br>dragon <br>blue <br>king <br>beach <br>angle <br>chase <br>dog <br>final <br>o.s <br>sea <br>crowd <br>land <br>"
          ],
          [
           12,
           -13.353301048278809,
           2.7457566261291504,
           3.432908773422241,
           "cont'd <br>continue continue <br>boat <br>martin <br>continuous <br>smith <br>draw <br>v.o <br>dragon <br>blue <br>king <br>beach <br>angle <br>chase <br>dog <br>final <br>o.s <br>sea <br>crowd <br>land <br>"
          ],
          [
           12,
           -13.634947776794434,
           2.3323612213134766,
           3.105787515640259,
           "cont'd <br>continue continue <br>boat <br>martin <br>continuous <br>smith <br>draw <br>v.o <br>dragon <br>blue <br>king <br>beach <br>angle <br>chase <br>dog <br>final <br>o.s <br>sea <br>crowd <br>land <br>"
          ],
          [
           12,
           -14.002886772155762,
           2.050257444381714,
           2.852797508239746,
           "cont'd <br>continue continue <br>boat <br>martin <br>continuous <br>smith <br>draw <br>v.o <br>dragon <br>blue <br>king <br>beach <br>angle <br>chase <br>dog <br>final <br>o.s <br>sea <br>crowd <br>land <br>"
          ],
          [
           12,
           -13.358526229858398,
           2.6677534580230713,
           3.6810495853424072,
           "cont'd <br>continue continue <br>boat <br>martin <br>continuous <br>smith <br>draw <br>v.o <br>dragon <br>blue <br>king <br>beach <br>angle <br>chase <br>dog <br>final <br>o.s <br>sea <br>crowd <br>land <br>"
          ],
          [
           12,
           -14.687715530395508,
           1.9743000268936157,
           2.5766050815582275,
           "cont'd <br>continue continue <br>boat <br>martin <br>continuous <br>smith <br>draw <br>v.o <br>dragon <br>blue <br>king <br>beach <br>angle <br>chase <br>dog <br>final <br>o.s <br>sea <br>crowd <br>land <br>"
          ],
          [
           12,
           -12.831653594970703,
           3.383849859237671,
           3.3165698051452637,
           "cont'd <br>continue continue <br>boat <br>martin <br>continuous <br>smith <br>draw <br>v.o <br>dragon <br>blue <br>king <br>beach <br>angle <br>chase <br>dog <br>final <br>o.s <br>sea <br>crowd <br>land <br>"
          ]
         ],
         "mode": "markers",
         "showlegend": false,
         "type": "scatter3d",
         "x": [
          -13.431931495666504,
          -12.723672866821289,
          -11.621322631835938,
          -12.832314491271973,
          -13.856834411621094,
          -11.446467399597168,
          -11.876749992370605,
          -14.401175498962402,
          -12.191732406616211,
          -12.779250144958496,
          -13.003780364990234,
          -14.022096633911133,
          -12.540372848510742,
          -13.353301048278809,
          -13.634947776794434,
          -14.002886772155762,
          -13.358526229858398,
          -14.687715530395508,
          -12.831653594970703
         ],
         "y": [
          2.591827392578125,
          3.500276565551758,
          3.442237138748169,
          1.9158107042312622,
          2.774980306625366,
          3.5025370121002197,
          2.716578483581543,
          2.1086199283599854,
          2.627455472946167,
          1.910620093345642,
          2.021711587905884,
          2.446179151535034,
          3.0671963691711426,
          2.7457566261291504,
          2.3323612213134766,
          2.050257444381714,
          2.6677534580230713,
          1.9743000268936157,
          3.383849859237671
         ],
         "z": [
          3.866225242614746,
          4.034658432006836,
          4.623394012451172,
          2.6578781604766846,
          2.22615647315979,
          4.644241809844971,
          3.4881532192230225,
          2.638200521469116,
          3.469038724899292,
          2.6616995334625244,
          2.7456064224243164,
          2.9617760181427,
          4.089658737182617,
          3.432908773422241,
          3.105787515640259,
          2.852797508239746,
          3.6810495853424072,
          2.5766050815582275,
          3.3165698051452637
         ]
        },
        {
         "hovertemplate": "%{meta[4]}<extra></extra>",
         "meta": [
          [
           13,
           -8.08674430847168,
           -5.155705451965332,
           -1.4210968017578125,
           "mrs <br>father <br>tree <br>baby <br>child <br>precious <br>prince <br>camera <br>mr <br>lord <br>jack <br>wife <br>witch <br>round <br>o.s <br>egg <br>rain <br>edward <br>short <br>sword <br>"
          ],
          [
           13,
           -6.511449813842773,
           -5.698183536529541,
           -2.0895895957946777,
           "mrs <br>father <br>tree <br>baby <br>child <br>precious <br>prince <br>camera <br>mr <br>lord <br>jack <br>wife <br>witch <br>round <br>o.s <br>egg <br>rain <br>edward <br>short <br>sword <br>"
          ],
          [
           13,
           -4.694868564605713,
           -2.508430004119873,
           -0.14793848991394043,
           "mrs <br>father <br>tree <br>baby <br>child <br>precious <br>prince <br>camera <br>mr <br>lord <br>jack <br>wife <br>witch <br>round <br>o.s <br>egg <br>rain <br>edward <br>short <br>sword <br>"
          ],
          [
           13,
           -6.011356830596924,
           -4.906548023223877,
           -1.5501959323883057,
           "mrs <br>father <br>tree <br>baby <br>child <br>precious <br>prince <br>camera <br>mr <br>lord <br>jack <br>wife <br>witch <br>round <br>o.s <br>egg <br>rain <br>edward <br>short <br>sword <br>"
          ],
          [
           13,
           -7.63494348526001,
           -4.693637371063232,
           -3.2174549102783203,
           "mrs <br>father <br>tree <br>baby <br>child <br>precious <br>prince <br>camera <br>mr <br>lord <br>jack <br>wife <br>witch <br>round <br>o.s <br>egg <br>rain <br>edward <br>short <br>sword <br>"
          ],
          [
           13,
           -7.620701789855957,
           -4.475024700164795,
           -2.0702033042907715,
           "mrs <br>father <br>tree <br>baby <br>child <br>precious <br>prince <br>camera <br>mr <br>lord <br>jack <br>wife <br>witch <br>round <br>o.s <br>egg <br>rain <br>edward <br>short <br>sword <br>"
          ],
          [
           13,
           -6.7080464363098145,
           -4.991145133972168,
           -1.5871822834014893,
           "mrs <br>father <br>tree <br>baby <br>child <br>precious <br>prince <br>camera <br>mr <br>lord <br>jack <br>wife <br>witch <br>round <br>o.s <br>egg <br>rain <br>edward <br>short <br>sword <br>"
          ],
          [
           13,
           -6.878888130187988,
           -4.8115458488464355,
           -1.130054235458374,
           "mrs <br>father <br>tree <br>baby <br>child <br>precious <br>prince <br>camera <br>mr <br>lord <br>jack <br>wife <br>witch <br>round <br>o.s <br>egg <br>rain <br>edward <br>short <br>sword <br>"
          ],
          [
           13,
           -7.27739143371582,
           -5.287169933319092,
           -1.5283195972442627,
           "mrs <br>father <br>tree <br>baby <br>child <br>precious <br>prince <br>camera <br>mr <br>lord <br>jack <br>wife <br>witch <br>round <br>o.s <br>egg <br>rain <br>edward <br>short <br>sword <br>"
          ],
          [
           13,
           -7.645617961883545,
           -4.959766387939453,
           -1.9699944257736206,
           "mrs <br>father <br>tree <br>baby <br>child <br>precious <br>prince <br>camera <br>mr <br>lord <br>jack <br>wife <br>witch <br>round <br>o.s <br>egg <br>rain <br>edward <br>short <br>sword <br>"
          ],
          [
           13,
           -5.462355613708496,
           -3.0806047916412354,
           0.05176187679171562,
           "mrs <br>father <br>tree <br>baby <br>child <br>precious <br>prince <br>camera <br>mr <br>lord <br>jack <br>wife <br>witch <br>round <br>o.s <br>egg <br>rain <br>edward <br>short <br>sword <br>"
          ],
          [
           13,
           -7.812977313995361,
           -4.95186710357666,
           -2.9120328426361084,
           "mrs <br>father <br>tree <br>baby <br>child <br>precious <br>prince <br>camera <br>mr <br>lord <br>jack <br>wife <br>witch <br>round <br>o.s <br>egg <br>rain <br>edward <br>short <br>sword <br>"
          ],
          [
           13,
           -5.320901870727539,
           -5.916682720184326,
           -2.1932532787323,
           "mrs <br>father <br>tree <br>baby <br>child <br>precious <br>prince <br>camera <br>mr <br>lord <br>jack <br>wife <br>witch <br>round <br>o.s <br>egg <br>rain <br>edward <br>short <br>sword <br>"
          ],
          [
           13,
           -5.167679309844971,
           -5.849454402923584,
           -2.286367416381836,
           "mrs <br>father <br>tree <br>baby <br>child <br>precious <br>prince <br>camera <br>mr <br>lord <br>jack <br>wife <br>witch <br>round <br>o.s <br>egg <br>rain <br>edward <br>short <br>sword <br>"
          ],
          [
           13,
           -6.9764275550842285,
           -5.046713352203369,
           -2.4272618293762207,
           "mrs <br>father <br>tree <br>baby <br>child <br>precious <br>prince <br>camera <br>mr <br>lord <br>jack <br>wife <br>witch <br>round <br>o.s <br>egg <br>rain <br>edward <br>short <br>sword <br>"
          ],
          [
           13,
           -7.902390956878662,
           -6.218191623687744,
           -1.2782052755355835,
           "mrs <br>father <br>tree <br>baby <br>child <br>precious <br>prince <br>camera <br>mr <br>lord <br>jack <br>wife <br>witch <br>round <br>o.s <br>egg <br>rain <br>edward <br>short <br>sword <br>"
          ],
          [
           13,
           -4.831883907318115,
           -2.1145575046539307,
           -0.709297776222229,
           "mrs <br>father <br>tree <br>baby <br>child <br>precious <br>prince <br>camera <br>mr <br>lord <br>jack <br>wife <br>witch <br>round <br>o.s <br>egg <br>rain <br>edward <br>short <br>sword <br>"
          ],
          [
           13,
           -6.848723411560059,
           -6.244594097137451,
           -2.7945799827575684,
           "mrs <br>father <br>tree <br>baby <br>child <br>precious <br>prince <br>camera <br>mr <br>lord <br>jack <br>wife <br>witch <br>round <br>o.s <br>egg <br>rain <br>edward <br>short <br>sword <br>"
          ],
          [
           13,
           -6.605170249938965,
           -5.455521106719971,
           -3.3085708618164062,
           "mrs <br>father <br>tree <br>baby <br>child <br>precious <br>prince <br>camera <br>mr <br>lord <br>jack <br>wife <br>witch <br>round <br>o.s <br>egg <br>rain <br>edward <br>short <br>sword <br>"
          ],
          [
           13,
           -7.634485244750977,
           -5.043540954589844,
           -1.1596596240997314,
           "mrs <br>father <br>tree <br>baby <br>child <br>precious <br>prince <br>camera <br>mr <br>lord <br>jack <br>wife <br>witch <br>round <br>o.s <br>egg <br>rain <br>edward <br>short <br>sword <br>"
          ],
          [
           13,
           -5.054026126861572,
           -6.01677942276001,
           -2.20682954788208,
           "mrs <br>father <br>tree <br>baby <br>child <br>precious <br>prince <br>camera <br>mr <br>lord <br>jack <br>wife <br>witch <br>round <br>o.s <br>egg <br>rain <br>edward <br>short <br>sword <br>"
          ],
          [
           13,
           -7.255764484405518,
           -5.954130172729492,
           -2.074212074279785,
           "mrs <br>father <br>tree <br>baby <br>child <br>precious <br>prince <br>camera <br>mr <br>lord <br>jack <br>wife <br>witch <br>round <br>o.s <br>egg <br>rain <br>edward <br>short <br>sword <br>"
          ],
          [
           13,
           -8.010680198669434,
           -5.442172050476074,
           -1.9141968488693237,
           "mrs <br>father <br>tree <br>baby <br>child <br>precious <br>prince <br>camera <br>mr <br>lord <br>jack <br>wife <br>witch <br>round <br>o.s <br>egg <br>rain <br>edward <br>short <br>sword <br>"
          ],
          [
           13,
           -6.96926212310791,
           -4.353161334991455,
           -3.0219998359680176,
           "mrs <br>father <br>tree <br>baby <br>child <br>precious <br>prince <br>camera <br>mr <br>lord <br>jack <br>wife <br>witch <br>round <br>o.s <br>egg <br>rain <br>edward <br>short <br>sword <br>"
          ],
          [
           13,
           -5.668508052825928,
           -2.4447038173675537,
           -2.584146499633789,
           "mrs <br>father <br>tree <br>baby <br>child <br>precious <br>prince <br>camera <br>mr <br>lord <br>jack <br>wife <br>witch <br>round <br>o.s <br>egg <br>rain <br>edward <br>short <br>sword <br>"
          ],
          [
           13,
           -7.354109764099121,
           -5.0230793952941895,
           -2.9859509468078613,
           "mrs <br>father <br>tree <br>baby <br>child <br>precious <br>prince <br>camera <br>mr <br>lord <br>jack <br>wife <br>witch <br>round <br>o.s <br>egg <br>rain <br>edward <br>short <br>sword <br>"
          ],
          [
           13,
           -6.223293781280518,
           -3.263883113861084,
           -2.4742138385772705,
           "mrs <br>father <br>tree <br>baby <br>child <br>precious <br>prince <br>camera <br>mr <br>lord <br>jack <br>wife <br>witch <br>round <br>o.s <br>egg <br>rain <br>edward <br>short <br>sword <br>"
          ],
          [
           13,
           -7.94118070602417,
           -5.877031326293945,
           -2.6267917156219482,
           "mrs <br>father <br>tree <br>baby <br>child <br>precious <br>prince <br>camera <br>mr <br>lord <br>jack <br>wife <br>witch <br>round <br>o.s <br>egg <br>rain <br>edward <br>short <br>sword <br>"
          ],
          [
           13,
           -8.243453979492188,
           -5.13724422454834,
           -2.02042293548584,
           "mrs <br>father <br>tree <br>baby <br>child <br>precious <br>prince <br>camera <br>mr <br>lord <br>jack <br>wife <br>witch <br>round <br>o.s <br>egg <br>rain <br>edward <br>short <br>sword <br>"
          ]
         ],
         "mode": "markers",
         "showlegend": false,
         "type": "scatter3d",
         "x": [
          -8.08674430847168,
          -6.511449813842773,
          -4.694868564605713,
          -6.011356830596924,
          -7.63494348526001,
          -7.620701789855957,
          -6.7080464363098145,
          -6.878888130187988,
          -7.27739143371582,
          -7.645617961883545,
          -5.462355613708496,
          -7.812977313995361,
          -5.320901870727539,
          -5.167679309844971,
          -6.9764275550842285,
          -7.902390956878662,
          -4.831883907318115,
          -6.848723411560059,
          -6.605170249938965,
          -7.634485244750977,
          -5.054026126861572,
          -7.255764484405518,
          -8.010680198669434,
          -6.96926212310791,
          -5.668508052825928,
          -7.354109764099121,
          -6.223293781280518,
          -7.94118070602417,
          -8.243453979492188
         ],
         "y": [
          -5.155705451965332,
          -5.698183536529541,
          -2.508430004119873,
          -4.906548023223877,
          -4.693637371063232,
          -4.475024700164795,
          -4.991145133972168,
          -4.8115458488464355,
          -5.287169933319092,
          -4.959766387939453,
          -3.0806047916412354,
          -4.95186710357666,
          -5.916682720184326,
          -5.849454402923584,
          -5.046713352203369,
          -6.218191623687744,
          -2.1145575046539307,
          -6.244594097137451,
          -5.455521106719971,
          -5.043540954589844,
          -6.01677942276001,
          -5.954130172729492,
          -5.442172050476074,
          -4.353161334991455,
          -2.4447038173675537,
          -5.0230793952941895,
          -3.263883113861084,
          -5.877031326293945,
          -5.13724422454834
         ],
         "z": [
          -1.4210968017578125,
          -2.0895895957946777,
          -0.14793848991394043,
          -1.5501959323883057,
          -3.2174549102783203,
          -2.0702033042907715,
          -1.5871822834014893,
          -1.130054235458374,
          -1.5283195972442627,
          -1.9699944257736206,
          0.05176187679171562,
          -2.9120328426361084,
          -2.1932532787323,
          -2.286367416381836,
          -2.4272618293762207,
          -1.2782052755355835,
          -0.709297776222229,
          -2.7945799827575684,
          -3.3085708618164062,
          -1.1596596240997314,
          -2.20682954788208,
          -2.074212074279785,
          -1.9141968488693237,
          -3.0219998359680176,
          -2.584146499633789,
          -2.9859509468078613,
          -2.4742138385772705,
          -2.6267917156219482,
          -2.02042293548584
         ]
        },
        {
         "hovertemplate": "%{meta[4]}<extra></extra>",
         "meta": [
          [
           14,
           -5.410925388336182,
           7.454742908477783,
           -0.33189690113067627,
           "paul <br>harry <br>joe <br>billy <br>cont'd <br>phone <br>august <br>okay <br>hotel <br>camera <br>draw <br>field <br>office <br>jean <br>furious <br>rev <br>building <br>mr <br>guy <br>apartment <br>"
          ],
          [
           14,
           -5.32337760925293,
           4.133946418762207,
           -2.2270655632019043,
           "paul <br>harry <br>joe <br>billy <br>cont'd <br>phone <br>august <br>okay <br>hotel <br>camera <br>draw <br>field <br>office <br>jean <br>furious <br>rev <br>building <br>mr <br>guy <br>apartment <br>"
          ],
          [
           14,
           -7.777828693389893,
           6.381640434265137,
           -1.0388909578323364,
           "paul <br>harry <br>joe <br>billy <br>cont'd <br>phone <br>august <br>okay <br>hotel <br>camera <br>draw <br>field <br>office <br>jean <br>furious <br>rev <br>building <br>mr <br>guy <br>apartment <br>"
          ],
          [
           14,
           -6.736598968505859,
           6.194070816040039,
           -1.6020961999893188,
           "paul <br>harry <br>joe <br>billy <br>cont'd <br>phone <br>august <br>okay <br>hotel <br>camera <br>draw <br>field <br>office <br>jean <br>furious <br>rev <br>building <br>mr <br>guy <br>apartment <br>"
          ],
          [
           14,
           -6.550011157989502,
           6.2219929695129395,
           -0.6269164681434631,
           "paul <br>harry <br>joe <br>billy <br>cont'd <br>phone <br>august <br>okay <br>hotel <br>camera <br>draw <br>field <br>office <br>jean <br>furious <br>rev <br>building <br>mr <br>guy <br>apartment <br>"
          ],
          [
           14,
           -5.730963230133057,
           5.2932820320129395,
           -1.48918879032135,
           "paul <br>harry <br>joe <br>billy <br>cont'd <br>phone <br>august <br>okay <br>hotel <br>camera <br>draw <br>field <br>office <br>jean <br>furious <br>rev <br>building <br>mr <br>guy <br>apartment <br>"
          ],
          [
           14,
           -7.952420234680176,
           6.888127326965332,
           -1.3481037616729736,
           "paul <br>harry <br>joe <br>billy <br>cont'd <br>phone <br>august <br>okay <br>hotel <br>camera <br>draw <br>field <br>office <br>jean <br>furious <br>rev <br>building <br>mr <br>guy <br>apartment <br>"
          ],
          [
           14,
           -5.9190850257873535,
           5.068552017211914,
           0.857456624507904,
           "paul <br>harry <br>joe <br>billy <br>cont'd <br>phone <br>august <br>okay <br>hotel <br>camera <br>draw <br>field <br>office <br>jean <br>furious <br>rev <br>building <br>mr <br>guy <br>apartment <br>"
          ],
          [
           14,
           -6.21498441696167,
           6.3928542137146,
           -1.6001604795455933,
           "paul <br>harry <br>joe <br>billy <br>cont'd <br>phone <br>august <br>okay <br>hotel <br>camera <br>draw <br>field <br>office <br>jean <br>furious <br>rev <br>building <br>mr <br>guy <br>apartment <br>"
          ],
          [
           14,
           -4.679220199584961,
           6.556557655334473,
           -1.544424057006836,
           "paul <br>harry <br>joe <br>billy <br>cont'd <br>phone <br>august <br>okay <br>hotel <br>camera <br>draw <br>field <br>office <br>jean <br>furious <br>rev <br>building <br>mr <br>guy <br>apartment <br>"
          ],
          [
           14,
           -6.829536437988281,
           7.0574493408203125,
           -0.7308229804039001,
           "paul <br>harry <br>joe <br>billy <br>cont'd <br>phone <br>august <br>okay <br>hotel <br>camera <br>draw <br>field <br>office <br>jean <br>furious <br>rev <br>building <br>mr <br>guy <br>apartment <br>"
          ],
          [
           14,
           -7.801332473754883,
           6.643362998962402,
           -1.7049119472503662,
           "paul <br>harry <br>joe <br>billy <br>cont'd <br>phone <br>august <br>okay <br>hotel <br>camera <br>draw <br>field <br>office <br>jean <br>furious <br>rev <br>building <br>mr <br>guy <br>apartment <br>"
          ],
          [
           14,
           -5.135263919830322,
           6.0433669090271,
           -0.6037861704826355,
           "paul <br>harry <br>joe <br>billy <br>cont'd <br>phone <br>august <br>okay <br>hotel <br>camera <br>draw <br>field <br>office <br>jean <br>furious <br>rev <br>building <br>mr <br>guy <br>apartment <br>"
          ],
          [
           14,
           -7.2273850440979,
           7.0359320640563965,
           -0.4654378592967987,
           "paul <br>harry <br>joe <br>billy <br>cont'd <br>phone <br>august <br>okay <br>hotel <br>camera <br>draw <br>field <br>office <br>jean <br>furious <br>rev <br>building <br>mr <br>guy <br>apartment <br>"
          ],
          [
           14,
           -5.669007778167725,
           6.698418140411377,
           -1.7894697189331055,
           "paul <br>harry <br>joe <br>billy <br>cont'd <br>phone <br>august <br>okay <br>hotel <br>camera <br>draw <br>field <br>office <br>jean <br>furious <br>rev <br>building <br>mr <br>guy <br>apartment <br>"
          ],
          [
           14,
           -6.936276435852051,
           6.5137810707092285,
           -1.06093168258667,
           "paul <br>harry <br>joe <br>billy <br>cont'd <br>phone <br>august <br>okay <br>hotel <br>camera <br>draw <br>field <br>office <br>jean <br>furious <br>rev <br>building <br>mr <br>guy <br>apartment <br>"
          ],
          [
           14,
           -6.073066234588623,
           4.684852123260498,
           -0.09063728153705597,
           "paul <br>harry <br>joe <br>billy <br>cont'd <br>phone <br>august <br>okay <br>hotel <br>camera <br>draw <br>field <br>office <br>jean <br>furious <br>rev <br>building <br>mr <br>guy <br>apartment <br>"
          ],
          [
           14,
           -6.511139392852783,
           6.786012172698975,
           -0.11972497403621674,
           "paul <br>harry <br>joe <br>billy <br>cont'd <br>phone <br>august <br>okay <br>hotel <br>camera <br>draw <br>field <br>office <br>jean <br>furious <br>rev <br>building <br>mr <br>guy <br>apartment <br>"
          ],
          [
           14,
           -6.366129398345947,
           4.975788116455078,
           -0.6237748861312866,
           "paul <br>harry <br>joe <br>billy <br>cont'd <br>phone <br>august <br>okay <br>hotel <br>camera <br>draw <br>field <br>office <br>jean <br>furious <br>rev <br>building <br>mr <br>guy <br>apartment <br>"
          ],
          [
           14,
           -6.8318095207214355,
           5.316239833831787,
           -0.6526234745979309,
           "paul <br>harry <br>joe <br>billy <br>cont'd <br>phone <br>august <br>okay <br>hotel <br>camera <br>draw <br>field <br>office <br>jean <br>furious <br>rev <br>building <br>mr <br>guy <br>apartment <br>"
          ],
          [
           14,
           -5.30920934677124,
           3.7608883380889893,
           -0.3375861644744873,
           "paul <br>harry <br>joe <br>billy <br>cont'd <br>phone <br>august <br>okay <br>hotel <br>camera <br>draw <br>field <br>office <br>jean <br>furious <br>rev <br>building <br>mr <br>guy <br>apartment <br>"
          ],
          [
           14,
           -6.499756336212158,
           8.148813247680664,
           -1.4532239437103271,
           "paul <br>harry <br>joe <br>billy <br>cont'd <br>phone <br>august <br>okay <br>hotel <br>camera <br>draw <br>field <br>office <br>jean <br>furious <br>rev <br>building <br>mr <br>guy <br>apartment <br>"
          ],
          [
           14,
           -8.277896881103516,
           6.888481616973877,
           -1.6404025554656982,
           "paul <br>harry <br>joe <br>billy <br>cont'd <br>phone <br>august <br>okay <br>hotel <br>camera <br>draw <br>field <br>office <br>jean <br>furious <br>rev <br>building <br>mr <br>guy <br>apartment <br>"
          ],
          [
           14,
           -5.757369518280029,
           4.71704626083374,
           -0.8599343299865723,
           "paul <br>harry <br>joe <br>billy <br>cont'd <br>phone <br>august <br>okay <br>hotel <br>camera <br>draw <br>field <br>office <br>jean <br>furious <br>rev <br>building <br>mr <br>guy <br>apartment <br>"
          ],
          [
           14,
           -5.729240894317627,
           4.7089715003967285,
           -2.015291690826416,
           "paul <br>harry <br>joe <br>billy <br>cont'd <br>phone <br>august <br>okay <br>hotel <br>camera <br>draw <br>field <br>office <br>jean <br>furious <br>rev <br>building <br>mr <br>guy <br>apartment <br>"
          ],
          [
           14,
           -5.676697731018066,
           4.609019756317139,
           -1.3603273630142212,
           "paul <br>harry <br>joe <br>billy <br>cont'd <br>phone <br>august <br>okay <br>hotel <br>camera <br>draw <br>field <br>office <br>jean <br>furious <br>rev <br>building <br>mr <br>guy <br>apartment <br>"
          ],
          [
           14,
           -5.208891868591309,
           3.934727668762207,
           -2.5549912452697754,
           "paul <br>harry <br>joe <br>billy <br>cont'd <br>phone <br>august <br>okay <br>hotel <br>camera <br>draw <br>field <br>office <br>jean <br>furious <br>rev <br>building <br>mr <br>guy <br>apartment <br>"
          ],
          [
           14,
           -5.651801586151123,
           7.43066930770874,
           -0.7820580005645752,
           "paul <br>harry <br>joe <br>billy <br>cont'd <br>phone <br>august <br>okay <br>hotel <br>camera <br>draw <br>field <br>office <br>jean <br>furious <br>rev <br>building <br>mr <br>guy <br>apartment <br>"
          ],
          [
           14,
           -5.698856830596924,
           7.093434810638428,
           0.9664491415023804,
           "paul <br>harry <br>joe <br>billy <br>cont'd <br>phone <br>august <br>okay <br>hotel <br>camera <br>draw <br>field <br>office <br>jean <br>furious <br>rev <br>building <br>mr <br>guy <br>apartment <br>"
          ],
          [
           14,
           -5.489171981811523,
           4.239084243774414,
           -1.5472315549850464,
           "paul <br>harry <br>joe <br>billy <br>cont'd <br>phone <br>august <br>okay <br>hotel <br>camera <br>draw <br>field <br>office <br>jean <br>furious <br>rev <br>building <br>mr <br>guy <br>apartment <br>"
          ],
          [
           14,
           -6.373492240905762,
           7.317841529846191,
           -0.6511351466178894,
           "paul <br>harry <br>joe <br>billy <br>cont'd <br>phone <br>august <br>okay <br>hotel <br>camera <br>draw <br>field <br>office <br>jean <br>furious <br>rev <br>building <br>mr <br>guy <br>apartment <br>"
          ],
          [
           14,
           -6.2286152839660645,
           5.688830375671387,
           0.029006170108914375,
           "paul <br>harry <br>joe <br>billy <br>cont'd <br>phone <br>august <br>okay <br>hotel <br>camera <br>draw <br>field <br>office <br>jean <br>furious <br>rev <br>building <br>mr <br>guy <br>apartment <br>"
          ],
          [
           14,
           -5.298856258392334,
           7.344383239746094,
           -0.4178773760795593,
           "paul <br>harry <br>joe <br>billy <br>cont'd <br>phone <br>august <br>okay <br>hotel <br>camera <br>draw <br>field <br>office <br>jean <br>furious <br>rev <br>building <br>mr <br>guy <br>apartment <br>"
          ]
         ],
         "mode": "markers",
         "showlegend": false,
         "type": "scatter3d",
         "x": [
          -5.410925388336182,
          -5.32337760925293,
          -7.777828693389893,
          -6.736598968505859,
          -6.550011157989502,
          -5.730963230133057,
          -7.952420234680176,
          -5.9190850257873535,
          -6.21498441696167,
          -4.679220199584961,
          -6.829536437988281,
          -7.801332473754883,
          -5.135263919830322,
          -7.2273850440979,
          -5.669007778167725,
          -6.936276435852051,
          -6.073066234588623,
          -6.511139392852783,
          -6.366129398345947,
          -6.8318095207214355,
          -5.30920934677124,
          -6.499756336212158,
          -8.277896881103516,
          -5.757369518280029,
          -5.729240894317627,
          -5.676697731018066,
          -5.208891868591309,
          -5.651801586151123,
          -5.698856830596924,
          -5.489171981811523,
          -6.373492240905762,
          -6.2286152839660645,
          -5.298856258392334
         ],
         "y": [
          7.454742908477783,
          4.133946418762207,
          6.381640434265137,
          6.194070816040039,
          6.2219929695129395,
          5.2932820320129395,
          6.888127326965332,
          5.068552017211914,
          6.3928542137146,
          6.556557655334473,
          7.0574493408203125,
          6.643362998962402,
          6.0433669090271,
          7.0359320640563965,
          6.698418140411377,
          6.5137810707092285,
          4.684852123260498,
          6.786012172698975,
          4.975788116455078,
          5.316239833831787,
          3.7608883380889893,
          8.148813247680664,
          6.888481616973877,
          4.71704626083374,
          4.7089715003967285,
          4.609019756317139,
          3.934727668762207,
          7.43066930770874,
          7.093434810638428,
          4.239084243774414,
          7.317841529846191,
          5.688830375671387,
          7.344383239746094
         ],
         "z": [
          -0.33189690113067627,
          -2.2270655632019043,
          -1.0388909578323364,
          -1.6020961999893188,
          -0.6269164681434631,
          -1.48918879032135,
          -1.3481037616729736,
          0.857456624507904,
          -1.6001604795455933,
          -1.544424057006836,
          -0.7308229804039001,
          -1.7049119472503662,
          -0.6037861704826355,
          -0.4654378592967987,
          -1.7894697189331055,
          -1.06093168258667,
          -0.09063728153705597,
          -0.11972497403621674,
          -0.6237748861312866,
          -0.6526234745979309,
          -0.3375861644744873,
          -1.4532239437103271,
          -1.6404025554656982,
          -0.8599343299865723,
          -2.015291690826416,
          -1.3603273630142212,
          -2.5549912452697754,
          -0.7820580005645752,
          0.9664491415023804,
          -1.5472315549850464,
          -0.6511351466178894,
          0.029006170108914375,
          -0.4178773760795593
         ]
        },
        {
         "hovertemplate": "%{meta[4]}<extra></extra>",
         "meta": [
          [
           15,
           3.1709420680999756,
           -5.013505458831787,
           -4.8459577560424805,
           "mary <br>walter <br>mr <br>mrs <br>v.o <br>steve <br>cont'd <br>camera <br>apartment <br>book <br>thomas <br>office <br>bedroom <br>music <br>child <br>stage <br>pause <br>desk <br>phone <br>father <br>"
          ],
          [
           15,
           3.0207974910736084,
           -3.4699690341949463,
           -2.5211098194122314,
           "mary <br>walter <br>mr <br>mrs <br>v.o <br>steve <br>cont'd <br>camera <br>apartment <br>book <br>thomas <br>office <br>bedroom <br>music <br>child <br>stage <br>pause <br>desk <br>phone <br>father <br>"
          ],
          [
           15,
           6.990118503570557,
           -5.360264301300049,
           -2.3668205738067627,
           "mary <br>walter <br>mr <br>mrs <br>v.o <br>steve <br>cont'd <br>camera <br>apartment <br>book <br>thomas <br>office <br>bedroom <br>music <br>child <br>stage <br>pause <br>desk <br>phone <br>father <br>"
          ],
          [
           15,
           5.812138080596924,
           -5.550046443939209,
           -4.482479572296143,
           "mary <br>walter <br>mr <br>mrs <br>v.o <br>steve <br>cont'd <br>camera <br>apartment <br>book <br>thomas <br>office <br>bedroom <br>music <br>child <br>stage <br>pause <br>desk <br>phone <br>father <br>"
          ],
          [
           15,
           6.957927227020264,
           -6.008697032928467,
           -3.779343605041504,
           "mary <br>walter <br>mr <br>mrs <br>v.o <br>steve <br>cont'd <br>camera <br>apartment <br>book <br>thomas <br>office <br>bedroom <br>music <br>child <br>stage <br>pause <br>desk <br>phone <br>father <br>"
          ],
          [
           15,
           4.256104469299316,
           -3.964979410171509,
           -2.224756956100464,
           "mary <br>walter <br>mr <br>mrs <br>v.o <br>steve <br>cont'd <br>camera <br>apartment <br>book <br>thomas <br>office <br>bedroom <br>music <br>child <br>stage <br>pause <br>desk <br>phone <br>father <br>"
          ],
          [
           15,
           3.5888636112213135,
           -2.7006049156188965,
           -2.556532144546509,
           "mary <br>walter <br>mr <br>mrs <br>v.o <br>steve <br>cont'd <br>camera <br>apartment <br>book <br>thomas <br>office <br>bedroom <br>music <br>child <br>stage <br>pause <br>desk <br>phone <br>father <br>"
          ],
          [
           15,
           6.5716938972473145,
           -5.558250904083252,
           -3.488811492919922,
           "mary <br>walter <br>mr <br>mrs <br>v.o <br>steve <br>cont'd <br>camera <br>apartment <br>book <br>thomas <br>office <br>bedroom <br>music <br>child <br>stage <br>pause <br>desk <br>phone <br>father <br>"
          ],
          [
           15,
           3.793994426727295,
           -1.712217926979065,
           -2.2843949794769287,
           "mary <br>walter <br>mr <br>mrs <br>v.o <br>steve <br>cont'd <br>camera <br>apartment <br>book <br>thomas <br>office <br>bedroom <br>music <br>child <br>stage <br>pause <br>desk <br>phone <br>father <br>"
          ],
          [
           15,
           1.728286862373352,
           -3.9079155921936035,
           -2.384366512298584,
           "mary <br>walter <br>mr <br>mrs <br>v.o <br>steve <br>cont'd <br>camera <br>apartment <br>book <br>thomas <br>office <br>bedroom <br>music <br>child <br>stage <br>pause <br>desk <br>phone <br>father <br>"
          ],
          [
           15,
           6.065130710601807,
           -5.099216461181641,
           -4.5741424560546875,
           "mary <br>walter <br>mr <br>mrs <br>v.o <br>steve <br>cont'd <br>camera <br>apartment <br>book <br>thomas <br>office <br>bedroom <br>music <br>child <br>stage <br>pause <br>desk <br>phone <br>father <br>"
          ],
          [
           15,
           4.573474884033203,
           -6.0448222160339355,
           -4.6980977058410645,
           "mary <br>walter <br>mr <br>mrs <br>v.o <br>steve <br>cont'd <br>camera <br>apartment <br>book <br>thomas <br>office <br>bedroom <br>music <br>child <br>stage <br>pause <br>desk <br>phone <br>father <br>"
          ],
          [
           15,
           6.0525922775268555,
           -5.261528968811035,
           -3.573852062225342,
           "mary <br>walter <br>mr <br>mrs <br>v.o <br>steve <br>cont'd <br>camera <br>apartment <br>book <br>thomas <br>office <br>bedroom <br>music <br>child <br>stage <br>pause <br>desk <br>phone <br>father <br>"
          ],
          [
           15,
           1.8612473011016846,
           -1.3321163654327393,
           -2.7444324493408203,
           "mary <br>walter <br>mr <br>mrs <br>v.o <br>steve <br>cont'd <br>camera <br>apartment <br>book <br>thomas <br>office <br>bedroom <br>music <br>child <br>stage <br>pause <br>desk <br>phone <br>father <br>"
          ],
          [
           15,
           4.421030521392822,
           -3.353728771209717,
           -3.0798256397247314,
           "mary <br>walter <br>mr <br>mrs <br>v.o <br>steve <br>cont'd <br>camera <br>apartment <br>book <br>thomas <br>office <br>bedroom <br>music <br>child <br>stage <br>pause <br>desk <br>phone <br>father <br>"
          ],
          [
           15,
           6.930087566375732,
           -3.6299009323120117,
           -4.077732563018799,
           "mary <br>walter <br>mr <br>mrs <br>v.o <br>steve <br>cont'd <br>camera <br>apartment <br>book <br>thomas <br>office <br>bedroom <br>music <br>child <br>stage <br>pause <br>desk <br>phone <br>father <br>"
          ],
          [
           15,
           5.390527725219727,
           -4.187626838684082,
           -4.1831841468811035,
           "mary <br>walter <br>mr <br>mrs <br>v.o <br>steve <br>cont'd <br>camera <br>apartment <br>book <br>thomas <br>office <br>bedroom <br>music <br>child <br>stage <br>pause <br>desk <br>phone <br>father <br>"
          ],
          [
           15,
           1.4524730443954468,
           -1.0169881582260132,
           -2.6412038803100586,
           "mary <br>walter <br>mr <br>mrs <br>v.o <br>steve <br>cont'd <br>camera <br>apartment <br>book <br>thomas <br>office <br>bedroom <br>music <br>child <br>stage <br>pause <br>desk <br>phone <br>father <br>"
          ],
          [
           15,
           2.99953293800354,
           -5.71891450881958,
           -4.542251110076904,
           "mary <br>walter <br>mr <br>mrs <br>v.o <br>steve <br>cont'd <br>camera <br>apartment <br>book <br>thomas <br>office <br>bedroom <br>music <br>child <br>stage <br>pause <br>desk <br>phone <br>father <br>"
          ],
          [
           15,
           4.487493515014648,
           -0.0591856986284256,
           -2.903843879699707,
           "mary <br>walter <br>mr <br>mrs <br>v.o <br>steve <br>cont'd <br>camera <br>apartment <br>book <br>thomas <br>office <br>bedroom <br>music <br>child <br>stage <br>pause <br>desk <br>phone <br>father <br>"
          ],
          [
           15,
           6.364487648010254,
           -4.869266986846924,
           -3.2375309467315674,
           "mary <br>walter <br>mr <br>mrs <br>v.o <br>steve <br>cont'd <br>camera <br>apartment <br>book <br>thomas <br>office <br>bedroom <br>music <br>child <br>stage <br>pause <br>desk <br>phone <br>father <br>"
          ],
          [
           15,
           6.491105079650879,
           -6.248274326324463,
           -4.0097455978393555,
           "mary <br>walter <br>mr <br>mrs <br>v.o <br>steve <br>cont'd <br>camera <br>apartment <br>book <br>thomas <br>office <br>bedroom <br>music <br>child <br>stage <br>pause <br>desk <br>phone <br>father <br>"
          ],
          [
           15,
           6.746889114379883,
           -5.897601127624512,
           -4.331029415130615,
           "mary <br>walter <br>mr <br>mrs <br>v.o <br>steve <br>cont'd <br>camera <br>apartment <br>book <br>thomas <br>office <br>bedroom <br>music <br>child <br>stage <br>pause <br>desk <br>phone <br>father <br>"
          ],
          [
           15,
           6.642953395843506,
           -6.333564758300781,
           -3.5903851985931396,
           "mary <br>walter <br>mr <br>mrs <br>v.o <br>steve <br>cont'd <br>camera <br>apartment <br>book <br>thomas <br>office <br>bedroom <br>music <br>child <br>stage <br>pause <br>desk <br>phone <br>father <br>"
          ],
          [
           15,
           5.926475524902344,
           -3.1410536766052246,
           -2.6504971981048584,
           "mary <br>walter <br>mr <br>mrs <br>v.o <br>steve <br>cont'd <br>camera <br>apartment <br>book <br>thomas <br>office <br>bedroom <br>music <br>child <br>stage <br>pause <br>desk <br>phone <br>father <br>"
          ],
          [
           15,
           5.200181484222412,
           -2.876507043838501,
           -0.14809557795524597,
           "mary <br>walter <br>mr <br>mrs <br>v.o <br>steve <br>cont'd <br>camera <br>apartment <br>book <br>thomas <br>office <br>bedroom <br>music <br>child <br>stage <br>pause <br>desk <br>phone <br>father <br>"
          ],
          [
           15,
           5.423205852508545,
           -6.014925479888916,
           -4.210507392883301,
           "mary <br>walter <br>mr <br>mrs <br>v.o <br>steve <br>cont'd <br>camera <br>apartment <br>book <br>thomas <br>office <br>bedroom <br>music <br>child <br>stage <br>pause <br>desk <br>phone <br>father <br>"
          ],
          [
           15,
           6.742794513702393,
           -5.436643600463867,
           -3.171274185180664,
           "mary <br>walter <br>mr <br>mrs <br>v.o <br>steve <br>cont'd <br>camera <br>apartment <br>book <br>thomas <br>office <br>bedroom <br>music <br>child <br>stage <br>pause <br>desk <br>phone <br>father <br>"
          ],
          [
           15,
           4.1149516105651855,
           -2.331183433532715,
           -2.5830202102661133,
           "mary <br>walter <br>mr <br>mrs <br>v.o <br>steve <br>cont'd <br>camera <br>apartment <br>book <br>thomas <br>office <br>bedroom <br>music <br>child <br>stage <br>pause <br>desk <br>phone <br>father <br>"
          ],
          [
           15,
           1.499690294265747,
           -1.1045259237289429,
           -2.6634268760681152,
           "mary <br>walter <br>mr <br>mrs <br>v.o <br>steve <br>cont'd <br>camera <br>apartment <br>book <br>thomas <br>office <br>bedroom <br>music <br>child <br>stage <br>pause <br>desk <br>phone <br>father <br>"
          ],
          [
           15,
           5.899796962738037,
           -1.918492078781128,
           -3.3019802570343018,
           "mary <br>walter <br>mr <br>mrs <br>v.o <br>steve <br>cont'd <br>camera <br>apartment <br>book <br>thomas <br>office <br>bedroom <br>music <br>child <br>stage <br>pause <br>desk <br>phone <br>father <br>"
          ],
          [
           15,
           4.553134441375732,
           -4.0807576179504395,
           -2.312746524810791,
           "mary <br>walter <br>mr <br>mrs <br>v.o <br>steve <br>cont'd <br>camera <br>apartment <br>book <br>thomas <br>office <br>bedroom <br>music <br>child <br>stage <br>pause <br>desk <br>phone <br>father <br>"
          ],
          [
           15,
           2.7895665168762207,
           -5.6406989097595215,
           -4.53508996963501,
           "mary <br>walter <br>mr <br>mrs <br>v.o <br>steve <br>cont'd <br>camera <br>apartment <br>book <br>thomas <br>office <br>bedroom <br>music <br>child <br>stage <br>pause <br>desk <br>phone <br>father <br>"
          ],
          [
           15,
           3.898827075958252,
           -1.6869834661483765,
           -2.0072991847991943,
           "mary <br>walter <br>mr <br>mrs <br>v.o <br>steve <br>cont'd <br>camera <br>apartment <br>book <br>thomas <br>office <br>bedroom <br>music <br>child <br>stage <br>pause <br>desk <br>phone <br>father <br>"
          ],
          [
           15,
           5.024174213409424,
           -3.132823944091797,
           -3.2713260650634766,
           "mary <br>walter <br>mr <br>mrs <br>v.o <br>steve <br>cont'd <br>camera <br>apartment <br>book <br>thomas <br>office <br>bedroom <br>music <br>child <br>stage <br>pause <br>desk <br>phone <br>father <br>"
          ],
          [
           15,
           5.287270545959473,
           -5.819464206695557,
           -4.165340900421143,
           "mary <br>walter <br>mr <br>mrs <br>v.o <br>steve <br>cont'd <br>camera <br>apartment <br>book <br>thomas <br>office <br>bedroom <br>music <br>child <br>stage <br>pause <br>desk <br>phone <br>father <br>"
          ],
          [
           15,
           3.3738715648651123,
           -3.3235363960266113,
           -2.789757251739502,
           "mary <br>walter <br>mr <br>mrs <br>v.o <br>steve <br>cont'd <br>camera <br>apartment <br>book <br>thomas <br>office <br>bedroom <br>music <br>child <br>stage <br>pause <br>desk <br>phone <br>father <br>"
          ],
          [
           15,
           4.3683319091796875,
           -4.50499153137207,
           -1.6512017250061035,
           "mary <br>walter <br>mr <br>mrs <br>v.o <br>steve <br>cont'd <br>camera <br>apartment <br>book <br>thomas <br>office <br>bedroom <br>music <br>child <br>stage <br>pause <br>desk <br>phone <br>father <br>"
          ],
          [
           15,
           5.16636848449707,
           -5.2729926109313965,
           -2.4900083541870117,
           "mary <br>walter <br>mr <br>mrs <br>v.o <br>steve <br>cont'd <br>camera <br>apartment <br>book <br>thomas <br>office <br>bedroom <br>music <br>child <br>stage <br>pause <br>desk <br>phone <br>father <br>"
          ],
          [
           15,
           7.010932922363281,
           -5.774831771850586,
           -4.037004470825195,
           "mary <br>walter <br>mr <br>mrs <br>v.o <br>steve <br>cont'd <br>camera <br>apartment <br>book <br>thomas <br>office <br>bedroom <br>music <br>child <br>stage <br>pause <br>desk <br>phone <br>father <br>"
          ],
          [
           15,
           6.487905025482178,
           -3.9994447231292725,
           -3.763674259185791,
           "mary <br>walter <br>mr <br>mrs <br>v.o <br>steve <br>cont'd <br>camera <br>apartment <br>book <br>thomas <br>office <br>bedroom <br>music <br>child <br>stage <br>pause <br>desk <br>phone <br>father <br>"
          ],
          [
           15,
           4.31450891494751,
           -1.1800416707992554,
           -1.4087713956832886,
           "mary <br>walter <br>mr <br>mrs <br>v.o <br>steve <br>cont'd <br>camera <br>apartment <br>book <br>thomas <br>office <br>bedroom <br>music <br>child <br>stage <br>pause <br>desk <br>phone <br>father <br>"
          ],
          [
           15,
           3.293715715408325,
           -2.081937313079834,
           -3.2311618328094482,
           "mary <br>walter <br>mr <br>mrs <br>v.o <br>steve <br>cont'd <br>camera <br>apartment <br>book <br>thomas <br>office <br>bedroom <br>music <br>child <br>stage <br>pause <br>desk <br>phone <br>father <br>"
          ],
          [
           15,
           5.434574604034424,
           -3.2787439823150635,
           -1.8944264650344849,
           "mary <br>walter <br>mr <br>mrs <br>v.o <br>steve <br>cont'd <br>camera <br>apartment <br>book <br>thomas <br>office <br>bedroom <br>music <br>child <br>stage <br>pause <br>desk <br>phone <br>father <br>"
          ],
          [
           15,
           4.972330093383789,
           -5.257360458374023,
           -3.6612389087677,
           "mary <br>walter <br>mr <br>mrs <br>v.o <br>steve <br>cont'd <br>camera <br>apartment <br>book <br>thomas <br>office <br>bedroom <br>music <br>child <br>stage <br>pause <br>desk <br>phone <br>father <br>"
          ],
          [
           15,
           3.401262044906616,
           -5.433938503265381,
           -2.9664251804351807,
           "mary <br>walter <br>mr <br>mrs <br>v.o <br>steve <br>cont'd <br>camera <br>apartment <br>book <br>thomas <br>office <br>bedroom <br>music <br>child <br>stage <br>pause <br>desk <br>phone <br>father <br>"
          ],
          [
           15,
           5.16891622543335,
           -3.287360191345215,
           -2.1087803840637207,
           "mary <br>walter <br>mr <br>mrs <br>v.o <br>steve <br>cont'd <br>camera <br>apartment <br>book <br>thomas <br>office <br>bedroom <br>music <br>child <br>stage <br>pause <br>desk <br>phone <br>father <br>"
          ],
          [
           15,
           3.425476551055908,
           -4.893743991851807,
           -4.791776180267334,
           "mary <br>walter <br>mr <br>mrs <br>v.o <br>steve <br>cont'd <br>camera <br>apartment <br>book <br>thomas <br>office <br>bedroom <br>music <br>child <br>stage <br>pause <br>desk <br>phone <br>father <br>"
          ],
          [
           15,
           4.832169532775879,
           -5.091892242431641,
           -3.2933685779571533,
           "mary <br>walter <br>mr <br>mrs <br>v.o <br>steve <br>cont'd <br>camera <br>apartment <br>book <br>thomas <br>office <br>bedroom <br>music <br>child <br>stage <br>pause <br>desk <br>phone <br>father <br>"
          ],
          [
           15,
           5.811483383178711,
           -5.102678298950195,
           -2.779759407043457,
           "mary <br>walter <br>mr <br>mrs <br>v.o <br>steve <br>cont'd <br>camera <br>apartment <br>book <br>thomas <br>office <br>bedroom <br>music <br>child <br>stage <br>pause <br>desk <br>phone <br>father <br>"
          ],
          [
           15,
           5.980688095092773,
           -5.150050640106201,
           -4.586305618286133,
           "mary <br>walter <br>mr <br>mrs <br>v.o <br>steve <br>cont'd <br>camera <br>apartment <br>book <br>thomas <br>office <br>bedroom <br>music <br>child <br>stage <br>pause <br>desk <br>phone <br>father <br>"
          ],
          [
           15,
           2.5267393589019775,
           -4.478919506072998,
           -5.546582221984863,
           "mary <br>walter <br>mr <br>mrs <br>v.o <br>steve <br>cont'd <br>camera <br>apartment <br>book <br>thomas <br>office <br>bedroom <br>music <br>child <br>stage <br>pause <br>desk <br>phone <br>father <br>"
          ]
         ],
         "mode": "markers",
         "showlegend": false,
         "type": "scatter3d",
         "x": [
          3.1709420680999756,
          3.0207974910736084,
          6.990118503570557,
          5.812138080596924,
          6.957927227020264,
          4.256104469299316,
          3.5888636112213135,
          6.5716938972473145,
          3.793994426727295,
          1.728286862373352,
          6.065130710601807,
          4.573474884033203,
          6.0525922775268555,
          1.8612473011016846,
          4.421030521392822,
          6.930087566375732,
          5.390527725219727,
          1.4524730443954468,
          2.99953293800354,
          4.487493515014648,
          6.364487648010254,
          6.491105079650879,
          6.746889114379883,
          6.642953395843506,
          5.926475524902344,
          5.200181484222412,
          5.423205852508545,
          6.742794513702393,
          4.1149516105651855,
          1.499690294265747,
          5.899796962738037,
          4.553134441375732,
          2.7895665168762207,
          3.898827075958252,
          5.024174213409424,
          5.287270545959473,
          3.3738715648651123,
          4.3683319091796875,
          5.16636848449707,
          7.010932922363281,
          6.487905025482178,
          4.31450891494751,
          3.293715715408325,
          5.434574604034424,
          4.972330093383789,
          3.401262044906616,
          5.16891622543335,
          3.425476551055908,
          4.832169532775879,
          5.811483383178711,
          5.980688095092773,
          2.5267393589019775
         ],
         "y": [
          -5.013505458831787,
          -3.4699690341949463,
          -5.360264301300049,
          -5.550046443939209,
          -6.008697032928467,
          -3.964979410171509,
          -2.7006049156188965,
          -5.558250904083252,
          -1.712217926979065,
          -3.9079155921936035,
          -5.099216461181641,
          -6.0448222160339355,
          -5.261528968811035,
          -1.3321163654327393,
          -3.353728771209717,
          -3.6299009323120117,
          -4.187626838684082,
          -1.0169881582260132,
          -5.71891450881958,
          -0.0591856986284256,
          -4.869266986846924,
          -6.248274326324463,
          -5.897601127624512,
          -6.333564758300781,
          -3.1410536766052246,
          -2.876507043838501,
          -6.014925479888916,
          -5.436643600463867,
          -2.331183433532715,
          -1.1045259237289429,
          -1.918492078781128,
          -4.0807576179504395,
          -5.6406989097595215,
          -1.6869834661483765,
          -3.132823944091797,
          -5.819464206695557,
          -3.3235363960266113,
          -4.50499153137207,
          -5.2729926109313965,
          -5.774831771850586,
          -3.9994447231292725,
          -1.1800416707992554,
          -2.081937313079834,
          -3.2787439823150635,
          -5.257360458374023,
          -5.433938503265381,
          -3.287360191345215,
          -4.893743991851807,
          -5.091892242431641,
          -5.102678298950195,
          -5.150050640106201,
          -4.478919506072998
         ],
         "z": [
          -4.8459577560424805,
          -2.5211098194122314,
          -2.3668205738067627,
          -4.482479572296143,
          -3.779343605041504,
          -2.224756956100464,
          -2.556532144546509,
          -3.488811492919922,
          -2.2843949794769287,
          -2.384366512298584,
          -4.5741424560546875,
          -4.6980977058410645,
          -3.573852062225342,
          -2.7444324493408203,
          -3.0798256397247314,
          -4.077732563018799,
          -4.1831841468811035,
          -2.6412038803100586,
          -4.542251110076904,
          -2.903843879699707,
          -3.2375309467315674,
          -4.0097455978393555,
          -4.331029415130615,
          -3.5903851985931396,
          -2.6504971981048584,
          -0.14809557795524597,
          -4.210507392883301,
          -3.171274185180664,
          -2.5830202102661133,
          -2.6634268760681152,
          -3.3019802570343018,
          -2.312746524810791,
          -4.53508996963501,
          -2.0072991847991943,
          -3.2713260650634766,
          -4.165340900421143,
          -2.789757251739502,
          -1.6512017250061035,
          -2.4900083541870117,
          -4.037004470825195,
          -3.763674259185791,
          -1.4087713956832886,
          -3.2311618328094482,
          -1.8944264650344849,
          -3.6612389087677,
          -2.9664251804351807,
          -2.1087803840637207,
          -4.791776180267334,
          -3.2933685779571533,
          -2.779759407043457,
          -4.586305618286133,
          -5.546582221984863
         ]
        },
        {
         "hovertemplate": "%{meta[4]}<extra></extra>",
         "meta": [
          [
           16,
           1.8798919916152954,
           0.7978664040565491,
           -4.693364143371582,
           "max <br>nick <br>eddie <br>louis <br>peter <br>lee <br>eve <br>rob <br>henry <br>roger <br>bill <br>mr <br>camera <br>draw <br>steve <br>guy <br>v.o <br>rabbit <br>cop <br>apartment <br>"
          ],
          [
           16,
           -0.9849809408187866,
           5.1659440994262695,
           -7.892426490783691,
           "max <br>nick <br>eddie <br>louis <br>peter <br>lee <br>eve <br>rob <br>henry <br>roger <br>bill <br>mr <br>camera <br>draw <br>steve <br>guy <br>v.o <br>rabbit <br>cop <br>apartment <br>"
          ],
          [
           16,
           -0.4395464062690735,
           3.3511602878570557,
           -4.661357402801514,
           "max <br>nick <br>eddie <br>louis <br>peter <br>lee <br>eve <br>rob <br>henry <br>roger <br>bill <br>mr <br>camera <br>draw <br>steve <br>guy <br>v.o <br>rabbit <br>cop <br>apartment <br>"
          ],
          [
           16,
           -1.1333619356155396,
           5.269380569458008,
           -4.0940656661987305,
           "max <br>nick <br>eddie <br>louis <br>peter <br>lee <br>eve <br>rob <br>henry <br>roger <br>bill <br>mr <br>camera <br>draw <br>steve <br>guy <br>v.o <br>rabbit <br>cop <br>apartment <br>"
          ],
          [
           16,
           0.5687240958213806,
           5.816462516784668,
           -4.977041721343994,
           "max <br>nick <br>eddie <br>louis <br>peter <br>lee <br>eve <br>rob <br>henry <br>roger <br>bill <br>mr <br>camera <br>draw <br>steve <br>guy <br>v.o <br>rabbit <br>cop <br>apartment <br>"
          ],
          [
           16,
           -1.116050362586975,
           3.1215450763702393,
           -3.4691758155822754,
           "max <br>nick <br>eddie <br>louis <br>peter <br>lee <br>eve <br>rob <br>henry <br>roger <br>bill <br>mr <br>camera <br>draw <br>steve <br>guy <br>v.o <br>rabbit <br>cop <br>apartment <br>"
          ],
          [
           16,
           -0.09981454163789749,
           5.47499942779541,
           -6.920531272888184,
           "max <br>nick <br>eddie <br>louis <br>peter <br>lee <br>eve <br>rob <br>henry <br>roger <br>bill <br>mr <br>camera <br>draw <br>steve <br>guy <br>v.o <br>rabbit <br>cop <br>apartment <br>"
          ],
          [
           16,
           -1.2236636877059937,
           4.362569332122803,
           -6.493429660797119,
           "max <br>nick <br>eddie <br>louis <br>peter <br>lee <br>eve <br>rob <br>henry <br>roger <br>bill <br>mr <br>camera <br>draw <br>steve <br>guy <br>v.o <br>rabbit <br>cop <br>apartment <br>"
          ],
          [
           16,
           0.5513296723365784,
           4.472463130950928,
           -6.857667446136475,
           "max <br>nick <br>eddie <br>louis <br>peter <br>lee <br>eve <br>rob <br>henry <br>roger <br>bill <br>mr <br>camera <br>draw <br>steve <br>guy <br>v.o <br>rabbit <br>cop <br>apartment <br>"
          ],
          [
           16,
           -0.8148708343505859,
           5.110294818878174,
           -7.621243000030518,
           "max <br>nick <br>eddie <br>louis <br>peter <br>lee <br>eve <br>rob <br>henry <br>roger <br>bill <br>mr <br>camera <br>draw <br>steve <br>guy <br>v.o <br>rabbit <br>cop <br>apartment <br>"
          ],
          [
           16,
           0.9738044738769531,
           3.673539161682129,
           -5.81447696685791,
           "max <br>nick <br>eddie <br>louis <br>peter <br>lee <br>eve <br>rob <br>henry <br>roger <br>bill <br>mr <br>camera <br>draw <br>steve <br>guy <br>v.o <br>rabbit <br>cop <br>apartment <br>"
          ],
          [
           16,
           -0.9814170598983765,
           5.163838863372803,
           -7.888038158416748,
           "max <br>nick <br>eddie <br>louis <br>peter <br>lee <br>eve <br>rob <br>henry <br>roger <br>bill <br>mr <br>camera <br>draw <br>steve <br>guy <br>v.o <br>rabbit <br>cop <br>apartment <br>"
          ],
          [
           16,
           -0.2592929005622864,
           4.216360569000244,
           -6.116580963134766,
           "max <br>nick <br>eddie <br>louis <br>peter <br>lee <br>eve <br>rob <br>henry <br>roger <br>bill <br>mr <br>camera <br>draw <br>steve <br>guy <br>v.o <br>rabbit <br>cop <br>apartment <br>"
          ],
          [
           16,
           -0.04358256980776787,
           3.772202968597412,
           -6.339016914367676,
           "max <br>nick <br>eddie <br>louis <br>peter <br>lee <br>eve <br>rob <br>henry <br>roger <br>bill <br>mr <br>camera <br>draw <br>steve <br>guy <br>v.o <br>rabbit <br>cop <br>apartment <br>"
          ],
          [
           16,
           -1.2987440824508667,
           4.661442756652832,
           -3.9248828887939453,
           "max <br>nick <br>eddie <br>louis <br>peter <br>lee <br>eve <br>rob <br>henry <br>roger <br>bill <br>mr <br>camera <br>draw <br>steve <br>guy <br>v.o <br>rabbit <br>cop <br>apartment <br>"
          ],
          [
           16,
           0.8963560461997986,
           4.094438076019287,
           -6.414276123046875,
           "max <br>nick <br>eddie <br>louis <br>peter <br>lee <br>eve <br>rob <br>henry <br>roger <br>bill <br>mr <br>camera <br>draw <br>steve <br>guy <br>v.o <br>rabbit <br>cop <br>apartment <br>"
          ],
          [
           16,
           1.9701756238937378,
           1.318764090538025,
           -7.4091362953186035,
           "max <br>nick <br>eddie <br>louis <br>peter <br>lee <br>eve <br>rob <br>henry <br>roger <br>bill <br>mr <br>camera <br>draw <br>steve <br>guy <br>v.o <br>rabbit <br>cop <br>apartment <br>"
          ],
          [
           16,
           0.7009251117706299,
           4.765366077423096,
           -6.282291412353516,
           "max <br>nick <br>eddie <br>louis <br>peter <br>lee <br>eve <br>rob <br>henry <br>roger <br>bill <br>mr <br>camera <br>draw <br>steve <br>guy <br>v.o <br>rabbit <br>cop <br>apartment <br>"
          ],
          [
           16,
           0.8689655661582947,
           3.1768600940704346,
           -5.664157867431641,
           "max <br>nick <br>eddie <br>louis <br>peter <br>lee <br>eve <br>rob <br>henry <br>roger <br>bill <br>mr <br>camera <br>draw <br>steve <br>guy <br>v.o <br>rabbit <br>cop <br>apartment <br>"
          ],
          [
           16,
           -0.7726629376411438,
           4.92134952545166,
           -7.2920989990234375,
           "max <br>nick <br>eddie <br>louis <br>peter <br>lee <br>eve <br>rob <br>henry <br>roger <br>bill <br>mr <br>camera <br>draw <br>steve <br>guy <br>v.o <br>rabbit <br>cop <br>apartment <br>"
          ],
          [
           16,
           -0.048668745905160904,
           4.07803201675415,
           -5.284753322601318,
           "max <br>nick <br>eddie <br>louis <br>peter <br>lee <br>eve <br>rob <br>henry <br>roger <br>bill <br>mr <br>camera <br>draw <br>steve <br>guy <br>v.o <br>rabbit <br>cop <br>apartment <br>"
          ],
          [
           16,
           2.664379119873047,
           3.7553162574768066,
           -5.593226432800293,
           "max <br>nick <br>eddie <br>louis <br>peter <br>lee <br>eve <br>rob <br>henry <br>roger <br>bill <br>mr <br>camera <br>draw <br>steve <br>guy <br>v.o <br>rabbit <br>cop <br>apartment <br>"
          ],
          [
           16,
           1.6935851573944092,
           3.4554407596588135,
           -6.386378765106201,
           "max <br>nick <br>eddie <br>louis <br>peter <br>lee <br>eve <br>rob <br>henry <br>roger <br>bill <br>mr <br>camera <br>draw <br>steve <br>guy <br>v.o <br>rabbit <br>cop <br>apartment <br>"
          ],
          [
           16,
           3.1411213874816895,
           0.48139771819114685,
           -4.8679633140563965,
           "max <br>nick <br>eddie <br>louis <br>peter <br>lee <br>eve <br>rob <br>henry <br>roger <br>bill <br>mr <br>camera <br>draw <br>steve <br>guy <br>v.o <br>rabbit <br>cop <br>apartment <br>"
          ],
          [
           16,
           1.3499195575714111,
           4.162510871887207,
           -5.927185535430908,
           "max <br>nick <br>eddie <br>louis <br>peter <br>lee <br>eve <br>rob <br>henry <br>roger <br>bill <br>mr <br>camera <br>draw <br>steve <br>guy <br>v.o <br>rabbit <br>cop <br>apartment <br>"
          ],
          [
           16,
           -0.27157220244407654,
           4.864877700805664,
           -7.336755752563477,
           "max <br>nick <br>eddie <br>louis <br>peter <br>lee <br>eve <br>rob <br>henry <br>roger <br>bill <br>mr <br>camera <br>draw <br>steve <br>guy <br>v.o <br>rabbit <br>cop <br>apartment <br>"
          ],
          [
           16,
           -0.03581145405769348,
           4.100681304931641,
           -6.7597479820251465,
           "max <br>nick <br>eddie <br>louis <br>peter <br>lee <br>eve <br>rob <br>henry <br>roger <br>bill <br>mr <br>camera <br>draw <br>steve <br>guy <br>v.o <br>rabbit <br>cop <br>apartment <br>"
          ],
          [
           16,
           1.6926333904266357,
           3.263960838317871,
           -6.417440891265869,
           "max <br>nick <br>eddie <br>louis <br>peter <br>lee <br>eve <br>rob <br>henry <br>roger <br>bill <br>mr <br>camera <br>draw <br>steve <br>guy <br>v.o <br>rabbit <br>cop <br>apartment <br>"
          ],
          [
           16,
           1.00639009475708,
           2.8678715229034424,
           -5.169140338897705,
           "max <br>nick <br>eddie <br>louis <br>peter <br>lee <br>eve <br>rob <br>henry <br>roger <br>bill <br>mr <br>camera <br>draw <br>steve <br>guy <br>v.o <br>rabbit <br>cop <br>apartment <br>"
          ],
          [
           16,
           1.0491180419921875,
           2.557676076889038,
           -4.941311836242676,
           "max <br>nick <br>eddie <br>louis <br>peter <br>lee <br>eve <br>rob <br>henry <br>roger <br>bill <br>mr <br>camera <br>draw <br>steve <br>guy <br>v.o <br>rabbit <br>cop <br>apartment <br>"
          ],
          [
           16,
           1.5799980163574219,
           2.060779571533203,
           -7.05267858505249,
           "max <br>nick <br>eddie <br>louis <br>peter <br>lee <br>eve <br>rob <br>henry <br>roger <br>bill <br>mr <br>camera <br>draw <br>steve <br>guy <br>v.o <br>rabbit <br>cop <br>apartment <br>"
          ],
          [
           16,
           2.7339510917663574,
           3.507922649383545,
           -5.626787185668945,
           "max <br>nick <br>eddie <br>louis <br>peter <br>lee <br>eve <br>rob <br>henry <br>roger <br>bill <br>mr <br>camera <br>draw <br>steve <br>guy <br>v.o <br>rabbit <br>cop <br>apartment <br>"
          ],
          [
           16,
           2.626019239425659,
           0.3476191461086273,
           -4.923673152923584,
           "max <br>nick <br>eddie <br>louis <br>peter <br>lee <br>eve <br>rob <br>henry <br>roger <br>bill <br>mr <br>camera <br>draw <br>steve <br>guy <br>v.o <br>rabbit <br>cop <br>apartment <br>"
          ],
          [
           16,
           0.09537647664546967,
           4.931818008422852,
           -5.676848411560059,
           "max <br>nick <br>eddie <br>louis <br>peter <br>lee <br>eve <br>rob <br>henry <br>roger <br>bill <br>mr <br>camera <br>draw <br>steve <br>guy <br>v.o <br>rabbit <br>cop <br>apartment <br>"
          ],
          [
           16,
           1.4520111083984375,
           1.9843748807907104,
           -4.810079097747803,
           "max <br>nick <br>eddie <br>louis <br>peter <br>lee <br>eve <br>rob <br>henry <br>roger <br>bill <br>mr <br>camera <br>draw <br>steve <br>guy <br>v.o <br>rabbit <br>cop <br>apartment <br>"
          ]
         ],
         "mode": "markers",
         "showlegend": false,
         "type": "scatter3d",
         "x": [
          1.8798919916152954,
          -0.9849809408187866,
          -0.4395464062690735,
          -1.1333619356155396,
          0.5687240958213806,
          -1.116050362586975,
          -0.09981454163789749,
          -1.2236636877059937,
          0.5513296723365784,
          -0.8148708343505859,
          0.9738044738769531,
          -0.9814170598983765,
          -0.2592929005622864,
          -0.04358256980776787,
          -1.2987440824508667,
          0.8963560461997986,
          1.9701756238937378,
          0.7009251117706299,
          0.8689655661582947,
          -0.7726629376411438,
          -0.048668745905160904,
          2.664379119873047,
          1.6935851573944092,
          3.1411213874816895,
          1.3499195575714111,
          -0.27157220244407654,
          -0.03581145405769348,
          1.6926333904266357,
          1.00639009475708,
          1.0491180419921875,
          1.5799980163574219,
          2.7339510917663574,
          2.626019239425659,
          0.09537647664546967,
          1.4520111083984375
         ],
         "y": [
          0.7978664040565491,
          5.1659440994262695,
          3.3511602878570557,
          5.269380569458008,
          5.816462516784668,
          3.1215450763702393,
          5.47499942779541,
          4.362569332122803,
          4.472463130950928,
          5.110294818878174,
          3.673539161682129,
          5.163838863372803,
          4.216360569000244,
          3.772202968597412,
          4.661442756652832,
          4.094438076019287,
          1.318764090538025,
          4.765366077423096,
          3.1768600940704346,
          4.92134952545166,
          4.07803201675415,
          3.7553162574768066,
          3.4554407596588135,
          0.48139771819114685,
          4.162510871887207,
          4.864877700805664,
          4.100681304931641,
          3.263960838317871,
          2.8678715229034424,
          2.557676076889038,
          2.060779571533203,
          3.507922649383545,
          0.3476191461086273,
          4.931818008422852,
          1.9843748807907104
         ],
         "z": [
          -4.693364143371582,
          -7.892426490783691,
          -4.661357402801514,
          -4.0940656661987305,
          -4.977041721343994,
          -3.4691758155822754,
          -6.920531272888184,
          -6.493429660797119,
          -6.857667446136475,
          -7.621243000030518,
          -5.81447696685791,
          -7.888038158416748,
          -6.116580963134766,
          -6.339016914367676,
          -3.9248828887939453,
          -6.414276123046875,
          -7.4091362953186035,
          -6.282291412353516,
          -5.664157867431641,
          -7.2920989990234375,
          -5.284753322601318,
          -5.593226432800293,
          -6.386378765106201,
          -4.8679633140563965,
          -5.927185535430908,
          -7.336755752563477,
          -6.7597479820251465,
          -6.417440891265869,
          -5.169140338897705,
          -4.941311836242676,
          -7.05267858505249,
          -5.626787185668945,
          -4.923673152923584,
          -5.676848411560059,
          -4.810079097747803
         ]
        },
        {
         "hovertemplate": "%{meta[4]}<extra></extra>",
         "meta": [
          [
           17,
           -0.8907907009124756,
           -3.953342914581299,
           8.107178688049316,
           "frank <br>george <br>mary <br>bush <br>crash <br>larry <br>bank <br>dance <br>buddy <br>wolf <br>bird <br>cont'd <br>henry <br>money <br>uncle <br>mr <br>kicking <br>glance <br>wind <br>rain <br>"
          ],
          [
           17,
           -0.33898481726646423,
           -4.267471790313721,
           7.62602424621582,
           "frank <br>george <br>mary <br>bush <br>crash <br>larry <br>bank <br>dance <br>buddy <br>wolf <br>bird <br>cont'd <br>henry <br>money <br>uncle <br>mr <br>kicking <br>glance <br>wind <br>rain <br>"
          ],
          [
           17,
           0.4004939794540405,
           -4.904941558837891,
           7.990642547607422,
           "frank <br>george <br>mary <br>bush <br>crash <br>larry <br>bank <br>dance <br>buddy <br>wolf <br>bird <br>cont'd <br>henry <br>money <br>uncle <br>mr <br>kicking <br>glance <br>wind <br>rain <br>"
          ],
          [
           17,
           -0.09927568584680557,
           -4.791954040527344,
           7.943476676940918,
           "frank <br>george <br>mary <br>bush <br>crash <br>larry <br>bank <br>dance <br>buddy <br>wolf <br>bird <br>cont'd <br>henry <br>money <br>uncle <br>mr <br>kicking <br>glance <br>wind <br>rain <br>"
          ],
          [
           17,
           -1.3445566892623901,
           -2.6381819248199463,
           4.955331325531006,
           "frank <br>george <br>mary <br>bush <br>crash <br>larry <br>bank <br>dance <br>buddy <br>wolf <br>bird <br>cont'd <br>henry <br>money <br>uncle <br>mr <br>kicking <br>glance <br>wind <br>rain <br>"
          ],
          [
           17,
           -1.4160088300704956,
           -4.2062177658081055,
           7.08773136138916,
           "frank <br>george <br>mary <br>bush <br>crash <br>larry <br>bank <br>dance <br>buddy <br>wolf <br>bird <br>cont'd <br>henry <br>money <br>uncle <br>mr <br>kicking <br>glance <br>wind <br>rain <br>"
          ],
          [
           17,
           0.0819118469953537,
           -4.293725490570068,
           7.12649393081665,
           "frank <br>george <br>mary <br>bush <br>crash <br>larry <br>bank <br>dance <br>buddy <br>wolf <br>bird <br>cont'd <br>henry <br>money <br>uncle <br>mr <br>kicking <br>glance <br>wind <br>rain <br>"
          ],
          [
           17,
           1.0041749477386475,
           -5.0474853515625,
           6.010312557220459,
           "frank <br>george <br>mary <br>bush <br>crash <br>larry <br>bank <br>dance <br>buddy <br>wolf <br>bird <br>cont'd <br>henry <br>money <br>uncle <br>mr <br>kicking <br>glance <br>wind <br>rain <br>"
          ],
          [
           17,
           0.23461337387561798,
           -4.5113091468811035,
           7.129755020141602,
           "frank <br>george <br>mary <br>bush <br>crash <br>larry <br>bank <br>dance <br>buddy <br>wolf <br>bird <br>cont'd <br>henry <br>money <br>uncle <br>mr <br>kicking <br>glance <br>wind <br>rain <br>"
          ],
          [
           17,
           1.2327845096588135,
           -1.922613501548767,
           6.49817419052124,
           "frank <br>george <br>mary <br>bush <br>crash <br>larry <br>bank <br>dance <br>buddy <br>wolf <br>bird <br>cont'd <br>henry <br>money <br>uncle <br>mr <br>kicking <br>glance <br>wind <br>rain <br>"
          ],
          [
           17,
           -1.1050469875335693,
           -2.942842960357666,
           5.947818279266357,
           "frank <br>george <br>mary <br>bush <br>crash <br>larry <br>bank <br>dance <br>buddy <br>wolf <br>bird <br>cont'd <br>henry <br>money <br>uncle <br>mr <br>kicking <br>glance <br>wind <br>rain <br>"
          ],
          [
           17,
           -0.5769555568695068,
           -3.260098934173584,
           7.381443977355957,
           "frank <br>george <br>mary <br>bush <br>crash <br>larry <br>bank <br>dance <br>buddy <br>wolf <br>bird <br>cont'd <br>henry <br>money <br>uncle <br>mr <br>kicking <br>glance <br>wind <br>rain <br>"
          ],
          [
           17,
           -1.2386677265167236,
           -4.394143581390381,
           7.245193004608154,
           "frank <br>george <br>mary <br>bush <br>crash <br>larry <br>bank <br>dance <br>buddy <br>wolf <br>bird <br>cont'd <br>henry <br>money <br>uncle <br>mr <br>kicking <br>glance <br>wind <br>rain <br>"
          ],
          [
           17,
           0.43517938256263733,
           -4.246870517730713,
           7.6648077964782715,
           "frank <br>george <br>mary <br>bush <br>crash <br>larry <br>bank <br>dance <br>buddy <br>wolf <br>bird <br>cont'd <br>henry <br>money <br>uncle <br>mr <br>kicking <br>glance <br>wind <br>rain <br>"
          ],
          [
           17,
           -0.15200312435626984,
           -3.2239973545074463,
           6.696426868438721,
           "frank <br>george <br>mary <br>bush <br>crash <br>larry <br>bank <br>dance <br>buddy <br>wolf <br>bird <br>cont'd <br>henry <br>money <br>uncle <br>mr <br>kicking <br>glance <br>wind <br>rain <br>"
          ],
          [
           17,
           -0.4353910982608795,
           -3.019465923309326,
           6.396424293518066,
           "frank <br>george <br>mary <br>bush <br>crash <br>larry <br>bank <br>dance <br>buddy <br>wolf <br>bird <br>cont'd <br>henry <br>money <br>uncle <br>mr <br>kicking <br>glance <br>wind <br>rain <br>"
          ],
          [
           17,
           -0.11316218972206116,
           -4.726511478424072,
           8.164219856262207,
           "frank <br>george <br>mary <br>bush <br>crash <br>larry <br>bank <br>dance <br>buddy <br>wolf <br>bird <br>cont'd <br>henry <br>money <br>uncle <br>mr <br>kicking <br>glance <br>wind <br>rain <br>"
          ],
          [
           17,
           0.9048043489456177,
           -2.1193289756774902,
           6.491296291351318,
           "frank <br>george <br>mary <br>bush <br>crash <br>larry <br>bank <br>dance <br>buddy <br>wolf <br>bird <br>cont'd <br>henry <br>money <br>uncle <br>mr <br>kicking <br>glance <br>wind <br>rain <br>"
          ],
          [
           17,
           1.4051891565322876,
           -5.2599992752075195,
           5.371911525726318,
           "frank <br>george <br>mary <br>bush <br>crash <br>larry <br>bank <br>dance <br>buddy <br>wolf <br>bird <br>cont'd <br>henry <br>money <br>uncle <br>mr <br>kicking <br>glance <br>wind <br>rain <br>"
          ],
          [
           17,
           -0.4289476275444031,
           -4.372459888458252,
           7.762956142425537,
           "frank <br>george <br>mary <br>bush <br>crash <br>larry <br>bank <br>dance <br>buddy <br>wolf <br>bird <br>cont'd <br>henry <br>money <br>uncle <br>mr <br>kicking <br>glance <br>wind <br>rain <br>"
          ],
          [
           17,
           -1.3573765754699707,
           -2.931403398513794,
           5.889183044433594,
           "frank <br>george <br>mary <br>bush <br>crash <br>larry <br>bank <br>dance <br>buddy <br>wolf <br>bird <br>cont'd <br>henry <br>money <br>uncle <br>mr <br>kicking <br>glance <br>wind <br>rain <br>"
          ],
          [
           17,
           0.5266020894050598,
           -4.921952247619629,
           8.24188232421875,
           "frank <br>george <br>mary <br>bush <br>crash <br>larry <br>bank <br>dance <br>buddy <br>wolf <br>bird <br>cont'd <br>henry <br>money <br>uncle <br>mr <br>kicking <br>glance <br>wind <br>rain <br>"
          ],
          [
           17,
           0.4710274338722229,
           -5.153207778930664,
           8.605207443237305,
           "frank <br>george <br>mary <br>bush <br>crash <br>larry <br>bank <br>dance <br>buddy <br>wolf <br>bird <br>cont'd <br>henry <br>money <br>uncle <br>mr <br>kicking <br>glance <br>wind <br>rain <br>"
          ],
          [
           17,
           -1.1340374946594238,
           -2.7877724170684814,
           3.162238836288452,
           "frank <br>george <br>mary <br>bush <br>crash <br>larry <br>bank <br>dance <br>buddy <br>wolf <br>bird <br>cont'd <br>henry <br>money <br>uncle <br>mr <br>kicking <br>glance <br>wind <br>rain <br>"
          ]
         ],
         "mode": "markers",
         "showlegend": false,
         "type": "scatter3d",
         "x": [
          -0.8907907009124756,
          -0.33898481726646423,
          0.4004939794540405,
          -0.09927568584680557,
          -1.3445566892623901,
          -1.4160088300704956,
          0.0819118469953537,
          1.0041749477386475,
          0.23461337387561798,
          1.2327845096588135,
          -1.1050469875335693,
          -0.5769555568695068,
          -1.2386677265167236,
          0.43517938256263733,
          -0.15200312435626984,
          -0.4353910982608795,
          -0.11316218972206116,
          0.9048043489456177,
          1.4051891565322876,
          -0.4289476275444031,
          -1.3573765754699707,
          0.5266020894050598,
          0.4710274338722229,
          -1.1340374946594238
         ],
         "y": [
          -3.953342914581299,
          -4.267471790313721,
          -4.904941558837891,
          -4.791954040527344,
          -2.6381819248199463,
          -4.2062177658081055,
          -4.293725490570068,
          -5.0474853515625,
          -4.5113091468811035,
          -1.922613501548767,
          -2.942842960357666,
          -3.260098934173584,
          -4.394143581390381,
          -4.246870517730713,
          -3.2239973545074463,
          -3.019465923309326,
          -4.726511478424072,
          -2.1193289756774902,
          -5.2599992752075195,
          -4.372459888458252,
          -2.931403398513794,
          -4.921952247619629,
          -5.153207778930664,
          -2.7877724170684814
         ],
         "z": [
          8.107178688049316,
          7.62602424621582,
          7.990642547607422,
          7.943476676940918,
          4.955331325531006,
          7.08773136138916,
          7.12649393081665,
          6.010312557220459,
          7.129755020141602,
          6.49817419052124,
          5.947818279266357,
          7.381443977355957,
          7.245193004608154,
          7.6648077964782715,
          6.696426868438721,
          6.396424293518066,
          8.164219856262207,
          6.491296291351318,
          5.371911525726318,
          7.762956142425537,
          5.889183044433594,
          8.24188232421875,
          8.605207443237305,
          3.162238836288452
         ]
        },
        {
         "hovertemplate": "%{meta[4]}<extra></extra>",
         "meta": [
          [
           18,
           3.912975788116455,
           7.425717830657959,
           -0.8912294507026672,
           "john <br>david <br>mark <br>jerry <br>bud <br>chuck <br>president <br>dr <br>shepherd <br>phone <br>bean <br>mr <br>office <br>evil <br>cut int <br>sir <br>snake <br>okay <br>guy <br>pause <br>"
          ],
          [
           18,
           5.262043476104736,
           7.245458602905273,
           -1.8642950057983398,
           "john <br>david <br>mark <br>jerry <br>bud <br>chuck <br>president <br>dr <br>shepherd <br>phone <br>bean <br>mr <br>office <br>evil <br>cut int <br>sir <br>snake <br>okay <br>guy <br>pause <br>"
          ],
          [
           18,
           4.331017017364502,
           6.923165798187256,
           -2.259373426437378,
           "john <br>david <br>mark <br>jerry <br>bud <br>chuck <br>president <br>dr <br>shepherd <br>phone <br>bean <br>mr <br>office <br>evil <br>cut int <br>sir <br>snake <br>okay <br>guy <br>pause <br>"
          ],
          [
           18,
           4.093286037445068,
           5.7693190574646,
           -2.116006851196289,
           "john <br>david <br>mark <br>jerry <br>bud <br>chuck <br>president <br>dr <br>shepherd <br>phone <br>bean <br>mr <br>office <br>evil <br>cut int <br>sir <br>snake <br>okay <br>guy <br>pause <br>"
          ],
          [
           18,
           4.750142574310303,
           6.185729503631592,
           -1.9378818273544312,
           "john <br>david <br>mark <br>jerry <br>bud <br>chuck <br>president <br>dr <br>shepherd <br>phone <br>bean <br>mr <br>office <br>evil <br>cut int <br>sir <br>snake <br>okay <br>guy <br>pause <br>"
          ],
          [
           18,
           5.944470405578613,
           7.582967758178711,
           -1.4026790857315063,
           "john <br>david <br>mark <br>jerry <br>bud <br>chuck <br>president <br>dr <br>shepherd <br>phone <br>bean <br>mr <br>office <br>evil <br>cut int <br>sir <br>snake <br>okay <br>guy <br>pause <br>"
          ],
          [
           18,
           5.13964319229126,
           5.632096290588379,
           -2.3002164363861084,
           "john <br>david <br>mark <br>jerry <br>bud <br>chuck <br>president <br>dr <br>shepherd <br>phone <br>bean <br>mr <br>office <br>evil <br>cut int <br>sir <br>snake <br>okay <br>guy <br>pause <br>"
          ],
          [
           18,
           4.846203804016113,
           6.41676664352417,
           -1.5338542461395264,
           "john <br>david <br>mark <br>jerry <br>bud <br>chuck <br>president <br>dr <br>shepherd <br>phone <br>bean <br>mr <br>office <br>evil <br>cut int <br>sir <br>snake <br>okay <br>guy <br>pause <br>"
          ],
          [
           18,
           4.9272141456604,
           5.404156684875488,
           -2.315495014190674,
           "john <br>david <br>mark <br>jerry <br>bud <br>chuck <br>president <br>dr <br>shepherd <br>phone <br>bean <br>mr <br>office <br>evil <br>cut int <br>sir <br>snake <br>okay <br>guy <br>pause <br>"
          ],
          [
           18,
           4.577713966369629,
           7.0545735359191895,
           -1.986867070198059,
           "john <br>david <br>mark <br>jerry <br>bud <br>chuck <br>president <br>dr <br>shepherd <br>phone <br>bean <br>mr <br>office <br>evil <br>cut int <br>sir <br>snake <br>okay <br>guy <br>pause <br>"
          ],
          [
           18,
           4.158803462982178,
           5.87434196472168,
           -2.033702850341797,
           "john <br>david <br>mark <br>jerry <br>bud <br>chuck <br>president <br>dr <br>shepherd <br>phone <br>bean <br>mr <br>office <br>evil <br>cut int <br>sir <br>snake <br>okay <br>guy <br>pause <br>"
          ],
          [
           18,
           4.370359897613525,
           5.686710834503174,
           -1.4866617918014526,
           "john <br>david <br>mark <br>jerry <br>bud <br>chuck <br>president <br>dr <br>shepherd <br>phone <br>bean <br>mr <br>office <br>evil <br>cut int <br>sir <br>snake <br>okay <br>guy <br>pause <br>"
          ],
          [
           18,
           5.128968238830566,
           4.649675369262695,
           -2.834338426589966,
           "john <br>david <br>mark <br>jerry <br>bud <br>chuck <br>president <br>dr <br>shepherd <br>phone <br>bean <br>mr <br>office <br>evil <br>cut int <br>sir <br>snake <br>okay <br>guy <br>pause <br>"
          ],
          [
           18,
           4.9406633377075195,
           6.858061790466309,
           -1.2564682960510254,
           "john <br>david <br>mark <br>jerry <br>bud <br>chuck <br>president <br>dr <br>shepherd <br>phone <br>bean <br>mr <br>office <br>evil <br>cut int <br>sir <br>snake <br>okay <br>guy <br>pause <br>"
          ],
          [
           18,
           4.89296817779541,
           7.057912826538086,
           -1.4983915090560913,
           "john <br>david <br>mark <br>jerry <br>bud <br>chuck <br>president <br>dr <br>shepherd <br>phone <br>bean <br>mr <br>office <br>evil <br>cut int <br>sir <br>snake <br>okay <br>guy <br>pause <br>"
          ],
          [
           18,
           5.439312934875488,
           7.128755569458008,
           -1.422040581703186,
           "john <br>david <br>mark <br>jerry <br>bud <br>chuck <br>president <br>dr <br>shepherd <br>phone <br>bean <br>mr <br>office <br>evil <br>cut int <br>sir <br>snake <br>okay <br>guy <br>pause <br>"
          ],
          [
           18,
           4.965193271636963,
           7.132626056671143,
           -1.945659875869751,
           "john <br>david <br>mark <br>jerry <br>bud <br>chuck <br>president <br>dr <br>shepherd <br>phone <br>bean <br>mr <br>office <br>evil <br>cut int <br>sir <br>snake <br>okay <br>guy <br>pause <br>"
          ]
         ],
         "mode": "markers",
         "showlegend": false,
         "type": "scatter3d",
         "x": [
          3.912975788116455,
          5.262043476104736,
          4.331017017364502,
          4.093286037445068,
          4.750142574310303,
          5.944470405578613,
          5.13964319229126,
          4.846203804016113,
          4.9272141456604,
          4.577713966369629,
          4.158803462982178,
          4.370359897613525,
          5.128968238830566,
          4.9406633377075195,
          4.89296817779541,
          5.439312934875488,
          4.965193271636963
         ],
         "y": [
          7.425717830657959,
          7.245458602905273,
          6.923165798187256,
          5.7693190574646,
          6.185729503631592,
          7.582967758178711,
          5.632096290588379,
          6.41676664352417,
          5.404156684875488,
          7.0545735359191895,
          5.87434196472168,
          5.686710834503174,
          4.649675369262695,
          6.858061790466309,
          7.057912826538086,
          7.128755569458008,
          7.132626056671143
         ],
         "z": [
          -0.8912294507026672,
          -1.8642950057983398,
          -2.259373426437378,
          -2.116006851196289,
          -1.9378818273544312,
          -1.4026790857315063,
          -2.3002164363861084,
          -1.5338542461395264,
          -2.315495014190674,
          -1.986867070198059,
          -2.033702850341797,
          -1.4866617918014526,
          -2.834338426589966,
          -1.2564682960510254,
          -1.4983915090560913,
          -1.422040581703186,
          -1.945659875869751
         ]
        },
        {
         "hovertemplate": "%{meta[4]}<extra></extra>",
         "meta": [
          [
           19,
           0.5423510670661926,
           5.583139896392822,
           6.974923133850098,
           "bob <br>larry <br>scott <br>e <br>t <br>s <br>o <br>edward <br>n <br>r <br>bill <br>d <br>james <br>c <br>h <br>b <br>l <br>m <br>lincoln <br>g <br>"
          ],
          [
           19,
           -0.05413180589675903,
           5.206193923950195,
           9.120931625366211,
           "bob <br>larry <br>scott <br>e <br>t <br>s <br>o <br>edward <br>n <br>r <br>bill <br>d <br>james <br>c <br>h <br>b <br>l <br>m <br>lincoln <br>g <br>"
          ],
          [
           19,
           -0.7028456926345825,
           6.109956741333008,
           8.490739822387695,
           "bob <br>larry <br>scott <br>e <br>t <br>s <br>o <br>edward <br>n <br>r <br>bill <br>d <br>james <br>c <br>h <br>b <br>l <br>m <br>lincoln <br>g <br>"
          ],
          [
           19,
           0.44422662258148193,
           5.544346332550049,
           7.182444095611572,
           "bob <br>larry <br>scott <br>e <br>t <br>s <br>o <br>edward <br>n <br>r <br>bill <br>d <br>james <br>c <br>h <br>b <br>l <br>m <br>lincoln <br>g <br>"
          ],
          [
           19,
           1.4224683046340942,
           6.009215354919434,
           7.70369291305542,
           "bob <br>larry <br>scott <br>e <br>t <br>s <br>o <br>edward <br>n <br>r <br>bill <br>d <br>james <br>c <br>h <br>b <br>l <br>m <br>lincoln <br>g <br>"
          ],
          [
           19,
           0.6410716772079468,
           6.539208889007568,
           7.042558670043945,
           "bob <br>larry <br>scott <br>e <br>t <br>s <br>o <br>edward <br>n <br>r <br>bill <br>d <br>james <br>c <br>h <br>b <br>l <br>m <br>lincoln <br>g <br>"
          ],
          [
           19,
           0.3783527612686157,
           3.02055287361145,
           6.764073848724365,
           "bob <br>larry <br>scott <br>e <br>t <br>s <br>o <br>edward <br>n <br>r <br>bill <br>d <br>james <br>c <br>h <br>b <br>l <br>m <br>lincoln <br>g <br>"
          ],
          [
           19,
           -0.3802728056907654,
           6.894579887390137,
           7.821434020996094,
           "bob <br>larry <br>scott <br>e <br>t <br>s <br>o <br>edward <br>n <br>r <br>bill <br>d <br>james <br>c <br>h <br>b <br>l <br>m <br>lincoln <br>g <br>"
          ],
          [
           19,
           -0.46675485372543335,
           6.434618949890137,
           8.714712142944336,
           "bob <br>larry <br>scott <br>e <br>t <br>s <br>o <br>edward <br>n <br>r <br>bill <br>d <br>james <br>c <br>h <br>b <br>l <br>m <br>lincoln <br>g <br>"
          ],
          [
           19,
           -1.5056746006011963,
           4.706682205200195,
           8.158252716064453,
           "bob <br>larry <br>scott <br>e <br>t <br>s <br>o <br>edward <br>n <br>r <br>bill <br>d <br>james <br>c <br>h <br>b <br>l <br>m <br>lincoln <br>g <br>"
          ],
          [
           19,
           1.2703191041946411,
           4.302206516265869,
           5.798262119293213,
           "bob <br>larry <br>scott <br>e <br>t <br>s <br>o <br>edward <br>n <br>r <br>bill <br>d <br>james <br>c <br>h <br>b <br>l <br>m <br>lincoln <br>g <br>"
          ],
          [
           19,
           0.15172924101352692,
           6.832016468048096,
           8.790993690490723,
           "bob <br>larry <br>scott <br>e <br>t <br>s <br>o <br>edward <br>n <br>r <br>bill <br>d <br>james <br>c <br>h <br>b <br>l <br>m <br>lincoln <br>g <br>"
          ],
          [
           19,
           1.0804781913757324,
           3.3528668880462646,
           5.64907693862915,
           "bob <br>larry <br>scott <br>e <br>t <br>s <br>o <br>edward <br>n <br>r <br>bill <br>d <br>james <br>c <br>h <br>b <br>l <br>m <br>lincoln <br>g <br>"
          ],
          [
           19,
           0.6650099158287048,
           7.715535640716553,
           8.04255199432373,
           "bob <br>larry <br>scott <br>e <br>t <br>s <br>o <br>edward <br>n <br>r <br>bill <br>d <br>james <br>c <br>h <br>b <br>l <br>m <br>lincoln <br>g <br>"
          ],
          [
           19,
           -0.21802927553653717,
           4.487915992736816,
           6.133734703063965,
           "bob <br>larry <br>scott <br>e <br>t <br>s <br>o <br>edward <br>n <br>r <br>bill <br>d <br>james <br>c <br>h <br>b <br>l <br>m <br>lincoln <br>g <br>"
          ],
          [
           19,
           -1.181359052658081,
           5.448062896728516,
           8.530409812927246,
           "bob <br>larry <br>scott <br>e <br>t <br>s <br>o <br>edward <br>n <br>r <br>bill <br>d <br>james <br>c <br>h <br>b <br>l <br>m <br>lincoln <br>g <br>"
          ],
          [
           19,
           -0.14981941878795624,
           4.4188666343688965,
           9.400193214416504,
           "bob <br>larry <br>scott <br>e <br>t <br>s <br>o <br>edward <br>n <br>r <br>bill <br>d <br>james <br>c <br>h <br>b <br>l <br>m <br>lincoln <br>g <br>"
          ],
          [
           19,
           -0.8526430130004883,
           4.5112624168396,
           6.595330238342285,
           "bob <br>larry <br>scott <br>e <br>t <br>s <br>o <br>edward <br>n <br>r <br>bill <br>d <br>james <br>c <br>h <br>b <br>l <br>m <br>lincoln <br>g <br>"
          ],
          [
           19,
           -0.06955645233392715,
           7.603250980377197,
           7.806218147277832,
           "bob <br>larry <br>scott <br>e <br>t <br>s <br>o <br>edward <br>n <br>r <br>bill <br>d <br>james <br>c <br>h <br>b <br>l <br>m <br>lincoln <br>g <br>"
          ],
          [
           19,
           -2.8652966022491455,
           3.2218408584594727,
           5.432923316955566,
           "bob <br>larry <br>scott <br>e <br>t <br>s <br>o <br>edward <br>n <br>r <br>bill <br>d <br>james <br>c <br>h <br>b <br>l <br>m <br>lincoln <br>g <br>"
          ],
          [
           19,
           0.6283701658248901,
           7.7650346755981445,
           8.63693618774414,
           "bob <br>larry <br>scott <br>e <br>t <br>s <br>o <br>edward <br>n <br>r <br>bill <br>d <br>james <br>c <br>h <br>b <br>l <br>m <br>lincoln <br>g <br>"
          ],
          [
           19,
           0.3952677845954895,
           4.742239475250244,
           5.261223316192627,
           "bob <br>larry <br>scott <br>e <br>t <br>s <br>o <br>edward <br>n <br>r <br>bill <br>d <br>james <br>c <br>h <br>b <br>l <br>m <br>lincoln <br>g <br>"
          ],
          [
           19,
           -0.308153361082077,
           3.9430150985717773,
           7.752269268035889,
           "bob <br>larry <br>scott <br>e <br>t <br>s <br>o <br>edward <br>n <br>r <br>bill <br>d <br>james <br>c <br>h <br>b <br>l <br>m <br>lincoln <br>g <br>"
          ],
          [
           19,
           0.20840761065483093,
           6.491345405578613,
           7.500855445861816,
           "bob <br>larry <br>scott <br>e <br>t <br>s <br>o <br>edward <br>n <br>r <br>bill <br>d <br>james <br>c <br>h <br>b <br>l <br>m <br>lincoln <br>g <br>"
          ],
          [
           19,
           -1.8542046546936035,
           7.0957255363464355,
           8.543435096740723,
           "bob <br>larry <br>scott <br>e <br>t <br>s <br>o <br>edward <br>n <br>r <br>bill <br>d <br>james <br>c <br>h <br>b <br>l <br>m <br>lincoln <br>g <br>"
          ],
          [
           19,
           -1.8016226291656494,
           5.933656215667725,
           6.879454612731934,
           "bob <br>larry <br>scott <br>e <br>t <br>s <br>o <br>edward <br>n <br>r <br>bill <br>d <br>james <br>c <br>h <br>b <br>l <br>m <br>lincoln <br>g <br>"
          ],
          [
           19,
           -1.3605953454971313,
           4.290677070617676,
           6.409434795379639,
           "bob <br>larry <br>scott <br>e <br>t <br>s <br>o <br>edward <br>n <br>r <br>bill <br>d <br>james <br>c <br>h <br>b <br>l <br>m <br>lincoln <br>g <br>"
          ],
          [
           19,
           -0.5749049782752991,
           5.135364532470703,
           8.317228317260742,
           "bob <br>larry <br>scott <br>e <br>t <br>s <br>o <br>edward <br>n <br>r <br>bill <br>d <br>james <br>c <br>h <br>b <br>l <br>m <br>lincoln <br>g <br>"
          ],
          [
           19,
           -1.1803871393203735,
           6.356269836425781,
           7.190168857574463,
           "bob <br>larry <br>scott <br>e <br>t <br>s <br>o <br>edward <br>n <br>r <br>bill <br>d <br>james <br>c <br>h <br>b <br>l <br>m <br>lincoln <br>g <br>"
          ],
          [
           19,
           -2.118739604949951,
           5.927310943603516,
           6.5501227378845215,
           "bob <br>larry <br>scott <br>e <br>t <br>s <br>o <br>edward <br>n <br>r <br>bill <br>d <br>james <br>c <br>h <br>b <br>l <br>m <br>lincoln <br>g <br>"
          ],
          [
           19,
           -0.6575390100479126,
           6.9537248611450195,
           7.557415008544922,
           "bob <br>larry <br>scott <br>e <br>t <br>s <br>o <br>edward <br>n <br>r <br>bill <br>d <br>james <br>c <br>h <br>b <br>l <br>m <br>lincoln <br>g <br>"
          ],
          [
           19,
           0.7258087396621704,
           6.5311713218688965,
           8.357442855834961,
           "bob <br>larry <br>scott <br>e <br>t <br>s <br>o <br>edward <br>n <br>r <br>bill <br>d <br>james <br>c <br>h <br>b <br>l <br>m <br>lincoln <br>g <br>"
          ],
          [
           19,
           -2.1459975242614746,
           7.458352088928223,
           8.533583641052246,
           "bob <br>larry <br>scott <br>e <br>t <br>s <br>o <br>edward <br>n <br>r <br>bill <br>d <br>james <br>c <br>h <br>b <br>l <br>m <br>lincoln <br>g <br>"
          ],
          [
           19,
           0.27423182129859924,
           5.815704822540283,
           8.750605583190918,
           "bob <br>larry <br>scott <br>e <br>t <br>s <br>o <br>edward <br>n <br>r <br>bill <br>d <br>james <br>c <br>h <br>b <br>l <br>m <br>lincoln <br>g <br>"
          ],
          [
           19,
           -1.43191397190094,
           4.274481296539307,
           6.371903896331787,
           "bob <br>larry <br>scott <br>e <br>t <br>s <br>o <br>edward <br>n <br>r <br>bill <br>d <br>james <br>c <br>h <br>b <br>l <br>m <br>lincoln <br>g <br>"
          ],
          [
           19,
           0.1306537687778473,
           3.5693020820617676,
           6.719377517700195,
           "bob <br>larry <br>scott <br>e <br>t <br>s <br>o <br>edward <br>n <br>r <br>bill <br>d <br>james <br>c <br>h <br>b <br>l <br>m <br>lincoln <br>g <br>"
          ],
          [
           19,
           0.9081913232803345,
           3.10623836517334,
           5.920487880706787,
           "bob <br>larry <br>scott <br>e <br>t <br>s <br>o <br>edward <br>n <br>r <br>bill <br>d <br>james <br>c <br>h <br>b <br>l <br>m <br>lincoln <br>g <br>"
          ],
          [
           19,
           0.7350765466690063,
           4.620467662811279,
           6.112586498260498,
           "bob <br>larry <br>scott <br>e <br>t <br>s <br>o <br>edward <br>n <br>r <br>bill <br>d <br>james <br>c <br>h <br>b <br>l <br>m <br>lincoln <br>g <br>"
          ],
          [
           19,
           -0.8063948154449463,
           6.275953769683838,
           7.936391353607178,
           "bob <br>larry <br>scott <br>e <br>t <br>s <br>o <br>edward <br>n <br>r <br>bill <br>d <br>james <br>c <br>h <br>b <br>l <br>m <br>lincoln <br>g <br>"
          ],
          [
           19,
           0.5654507279396057,
           2.1751046180725098,
           6.730870246887207,
           "bob <br>larry <br>scott <br>e <br>t <br>s <br>o <br>edward <br>n <br>r <br>bill <br>d <br>james <br>c <br>h <br>b <br>l <br>m <br>lincoln <br>g <br>"
          ],
          [
           19,
           0.27346566319465637,
           8.015932083129883,
           8.707355499267578,
           "bob <br>larry <br>scott <br>e <br>t <br>s <br>o <br>edward <br>n <br>r <br>bill <br>d <br>james <br>c <br>h <br>b <br>l <br>m <br>lincoln <br>g <br>"
          ],
          [
           19,
           -0.3341594636440277,
           6.100623607635498,
           7.1895928382873535,
           "bob <br>larry <br>scott <br>e <br>t <br>s <br>o <br>edward <br>n <br>r <br>bill <br>d <br>james <br>c <br>h <br>b <br>l <br>m <br>lincoln <br>g <br>"
          ],
          [
           19,
           -0.11372768878936768,
           7.538164138793945,
           8.082479476928711,
           "bob <br>larry <br>scott <br>e <br>t <br>s <br>o <br>edward <br>n <br>r <br>bill <br>d <br>james <br>c <br>h <br>b <br>l <br>m <br>lincoln <br>g <br>"
          ],
          [
           19,
           0.18736381828784943,
           7.291354656219482,
           8.449640274047852,
           "bob <br>larry <br>scott <br>e <br>t <br>s <br>o <br>edward <br>n <br>r <br>bill <br>d <br>james <br>c <br>h <br>b <br>l <br>m <br>lincoln <br>g <br>"
          ],
          [
           19,
           1.0652512311935425,
           4.169607162475586,
           5.632991313934326,
           "bob <br>larry <br>scott <br>e <br>t <br>s <br>o <br>edward <br>n <br>r <br>bill <br>d <br>james <br>c <br>h <br>b <br>l <br>m <br>lincoln <br>g <br>"
          ],
          [
           19,
           -0.7187039852142334,
           5.028452396392822,
           7.108798980712891,
           "bob <br>larry <br>scott <br>e <br>t <br>s <br>o <br>edward <br>n <br>r <br>bill <br>d <br>james <br>c <br>h <br>b <br>l <br>m <br>lincoln <br>g <br>"
          ],
          [
           19,
           -2.120378255844116,
           2.928208351135254,
           5.422863483428955,
           "bob <br>larry <br>scott <br>e <br>t <br>s <br>o <br>edward <br>n <br>r <br>bill <br>d <br>james <br>c <br>h <br>b <br>l <br>m <br>lincoln <br>g <br>"
          ]
         ],
         "mode": "markers",
         "showlegend": false,
         "type": "scatter3d",
         "x": [
          0.5423510670661926,
          -0.05413180589675903,
          -0.7028456926345825,
          0.44422662258148193,
          1.4224683046340942,
          0.6410716772079468,
          0.3783527612686157,
          -0.3802728056907654,
          -0.46675485372543335,
          -1.5056746006011963,
          1.2703191041946411,
          0.15172924101352692,
          1.0804781913757324,
          0.6650099158287048,
          -0.21802927553653717,
          -1.181359052658081,
          -0.14981941878795624,
          -0.8526430130004883,
          -0.06955645233392715,
          -2.8652966022491455,
          0.6283701658248901,
          0.3952677845954895,
          -0.308153361082077,
          0.20840761065483093,
          -1.8542046546936035,
          -1.8016226291656494,
          -1.3605953454971313,
          -0.5749049782752991,
          -1.1803871393203735,
          -2.118739604949951,
          -0.6575390100479126,
          0.7258087396621704,
          -2.1459975242614746,
          0.27423182129859924,
          -1.43191397190094,
          0.1306537687778473,
          0.9081913232803345,
          0.7350765466690063,
          -0.8063948154449463,
          0.5654507279396057,
          0.27346566319465637,
          -0.3341594636440277,
          -0.11372768878936768,
          0.18736381828784943,
          1.0652512311935425,
          -0.7187039852142334,
          -2.120378255844116
         ],
         "y": [
          5.583139896392822,
          5.206193923950195,
          6.109956741333008,
          5.544346332550049,
          6.009215354919434,
          6.539208889007568,
          3.02055287361145,
          6.894579887390137,
          6.434618949890137,
          4.706682205200195,
          4.302206516265869,
          6.832016468048096,
          3.3528668880462646,
          7.715535640716553,
          4.487915992736816,
          5.448062896728516,
          4.4188666343688965,
          4.5112624168396,
          7.603250980377197,
          3.2218408584594727,
          7.7650346755981445,
          4.742239475250244,
          3.9430150985717773,
          6.491345405578613,
          7.0957255363464355,
          5.933656215667725,
          4.290677070617676,
          5.135364532470703,
          6.356269836425781,
          5.927310943603516,
          6.9537248611450195,
          6.5311713218688965,
          7.458352088928223,
          5.815704822540283,
          4.274481296539307,
          3.5693020820617676,
          3.10623836517334,
          4.620467662811279,
          6.275953769683838,
          2.1751046180725098,
          8.015932083129883,
          6.100623607635498,
          7.538164138793945,
          7.291354656219482,
          4.169607162475586,
          5.028452396392822,
          2.928208351135254
         ],
         "z": [
          6.974923133850098,
          9.120931625366211,
          8.490739822387695,
          7.182444095611572,
          7.70369291305542,
          7.042558670043945,
          6.764073848724365,
          7.821434020996094,
          8.714712142944336,
          8.158252716064453,
          5.798262119293213,
          8.790993690490723,
          5.64907693862915,
          8.04255199432373,
          6.133734703063965,
          8.530409812927246,
          9.400193214416504,
          6.595330238342285,
          7.806218147277832,
          5.432923316955566,
          8.63693618774414,
          5.261223316192627,
          7.752269268035889,
          7.500855445861816,
          8.543435096740723,
          6.879454612731934,
          6.409434795379639,
          8.317228317260742,
          7.190168857574463,
          6.5501227378845215,
          7.557415008544922,
          8.357442855834961,
          8.533583641052246,
          8.750605583190918,
          6.371903896331787,
          6.719377517700195,
          5.920487880706787,
          6.112586498260498,
          7.936391353607178,
          6.730870246887207,
          8.707355499267578,
          7.1895928382873535,
          8.082479476928711,
          8.449640274047852,
          5.632991313934326,
          7.108798980712891,
          5.422863483428955
         ]
        }
       ],
       "layout": {
        "height": 600,
        "margin": {
         "b": 0,
         "l": 0,
         "r": 0,
         "t": 30
        },
        "scene": {
         "camera": {
          "eye": {
           "x": 1,
           "y": 2,
           "z": 0.2
          }
         }
        },
        "template": {
         "data": {
          "bar": [
           {
            "error_x": {
             "color": "#2a3f5f"
            },
            "error_y": {
             "color": "#2a3f5f"
            },
            "marker": {
             "line": {
              "color": "#E5ECF6",
              "width": 0.5
             }
            },
            "type": "bar"
           }
          ],
          "barpolar": [
           {
            "marker": {
             "line": {
              "color": "#E5ECF6",
              "width": 0.5
             }
            },
            "type": "barpolar"
           }
          ],
          "carpet": [
           {
            "aaxis": {
             "endlinecolor": "#2a3f5f",
             "gridcolor": "white",
             "linecolor": "white",
             "minorgridcolor": "white",
             "startlinecolor": "#2a3f5f"
            },
            "baxis": {
             "endlinecolor": "#2a3f5f",
             "gridcolor": "white",
             "linecolor": "white",
             "minorgridcolor": "white",
             "startlinecolor": "#2a3f5f"
            },
            "type": "carpet"
           }
          ],
          "choropleth": [
           {
            "colorbar": {
             "outlinewidth": 0,
             "ticks": ""
            },
            "type": "choropleth"
           }
          ],
          "contour": [
           {
            "colorbar": {
             "outlinewidth": 0,
             "ticks": ""
            },
            "colorscale": [
             [
              0,
              "#0d0887"
             ],
             [
              0.1111111111111111,
              "#46039f"
             ],
             [
              0.2222222222222222,
              "#7201a8"
             ],
             [
              0.3333333333333333,
              "#9c179e"
             ],
             [
              0.4444444444444444,
              "#bd3786"
             ],
             [
              0.5555555555555556,
              "#d8576b"
             ],
             [
              0.6666666666666666,
              "#ed7953"
             ],
             [
              0.7777777777777778,
              "#fb9f3a"
             ],
             [
              0.8888888888888888,
              "#fdca26"
             ],
             [
              1,
              "#f0f921"
             ]
            ],
            "type": "contour"
           }
          ],
          "contourcarpet": [
           {
            "colorbar": {
             "outlinewidth": 0,
             "ticks": ""
            },
            "type": "contourcarpet"
           }
          ],
          "heatmap": [
           {
            "colorbar": {
             "outlinewidth": 0,
             "ticks": ""
            },
            "colorscale": [
             [
              0,
              "#0d0887"
             ],
             [
              0.1111111111111111,
              "#46039f"
             ],
             [
              0.2222222222222222,
              "#7201a8"
             ],
             [
              0.3333333333333333,
              "#9c179e"
             ],
             [
              0.4444444444444444,
              "#bd3786"
             ],
             [
              0.5555555555555556,
              "#d8576b"
             ],
             [
              0.6666666666666666,
              "#ed7953"
             ],
             [
              0.7777777777777778,
              "#fb9f3a"
             ],
             [
              0.8888888888888888,
              "#fdca26"
             ],
             [
              1,
              "#f0f921"
             ]
            ],
            "type": "heatmap"
           }
          ],
          "heatmapgl": [
           {
            "colorbar": {
             "outlinewidth": 0,
             "ticks": ""
            },
            "colorscale": [
             [
              0,
              "#0d0887"
             ],
             [
              0.1111111111111111,
              "#46039f"
             ],
             [
              0.2222222222222222,
              "#7201a8"
             ],
             [
              0.3333333333333333,
              "#9c179e"
             ],
             [
              0.4444444444444444,
              "#bd3786"
             ],
             [
              0.5555555555555556,
              "#d8576b"
             ],
             [
              0.6666666666666666,
              "#ed7953"
             ],
             [
              0.7777777777777778,
              "#fb9f3a"
             ],
             [
              0.8888888888888888,
              "#fdca26"
             ],
             [
              1,
              "#f0f921"
             ]
            ],
            "type": "heatmapgl"
           }
          ],
          "histogram": [
           {
            "marker": {
             "colorbar": {
              "outlinewidth": 0,
              "ticks": ""
             }
            },
            "type": "histogram"
           }
          ],
          "histogram2d": [
           {
            "colorbar": {
             "outlinewidth": 0,
             "ticks": ""
            },
            "colorscale": [
             [
              0,
              "#0d0887"
             ],
             [
              0.1111111111111111,
              "#46039f"
             ],
             [
              0.2222222222222222,
              "#7201a8"
             ],
             [
              0.3333333333333333,
              "#9c179e"
             ],
             [
              0.4444444444444444,
              "#bd3786"
             ],
             [
              0.5555555555555556,
              "#d8576b"
             ],
             [
              0.6666666666666666,
              "#ed7953"
             ],
             [
              0.7777777777777778,
              "#fb9f3a"
             ],
             [
              0.8888888888888888,
              "#fdca26"
             ],
             [
              1,
              "#f0f921"
             ]
            ],
            "type": "histogram2d"
           }
          ],
          "histogram2dcontour": [
           {
            "colorbar": {
             "outlinewidth": 0,
             "ticks": ""
            },
            "colorscale": [
             [
              0,
              "#0d0887"
             ],
             [
              0.1111111111111111,
              "#46039f"
             ],
             [
              0.2222222222222222,
              "#7201a8"
             ],
             [
              0.3333333333333333,
              "#9c179e"
             ],
             [
              0.4444444444444444,
              "#bd3786"
             ],
             [
              0.5555555555555556,
              "#d8576b"
             ],
             [
              0.6666666666666666,
              "#ed7953"
             ],
             [
              0.7777777777777778,
              "#fb9f3a"
             ],
             [
              0.8888888888888888,
              "#fdca26"
             ],
             [
              1,
              "#f0f921"
             ]
            ],
            "type": "histogram2dcontour"
           }
          ],
          "mesh3d": [
           {
            "colorbar": {
             "outlinewidth": 0,
             "ticks": ""
            },
            "type": "mesh3d"
           }
          ],
          "parcoords": [
           {
            "line": {
             "colorbar": {
              "outlinewidth": 0,
              "ticks": ""
             }
            },
            "type": "parcoords"
           }
          ],
          "pie": [
           {
            "automargin": true,
            "type": "pie"
           }
          ],
          "scatter": [
           {
            "marker": {
             "colorbar": {
              "outlinewidth": 0,
              "ticks": ""
             }
            },
            "type": "scatter"
           }
          ],
          "scatter3d": [
           {
            "line": {
             "colorbar": {
              "outlinewidth": 0,
              "ticks": ""
             }
            },
            "marker": {
             "colorbar": {
              "outlinewidth": 0,
              "ticks": ""
             }
            },
            "type": "scatter3d"
           }
          ],
          "scattercarpet": [
           {
            "marker": {
             "colorbar": {
              "outlinewidth": 0,
              "ticks": ""
             }
            },
            "type": "scattercarpet"
           }
          ],
          "scattergeo": [
           {
            "marker": {
             "colorbar": {
              "outlinewidth": 0,
              "ticks": ""
             }
            },
            "type": "scattergeo"
           }
          ],
          "scattergl": [
           {
            "marker": {
             "colorbar": {
              "outlinewidth": 0,
              "ticks": ""
             }
            },
            "type": "scattergl"
           }
          ],
          "scattermapbox": [
           {
            "marker": {
             "colorbar": {
              "outlinewidth": 0,
              "ticks": ""
             }
            },
            "type": "scattermapbox"
           }
          ],
          "scatterpolar": [
           {
            "marker": {
             "colorbar": {
              "outlinewidth": 0,
              "ticks": ""
             }
            },
            "type": "scatterpolar"
           }
          ],
          "scatterpolargl": [
           {
            "marker": {
             "colorbar": {
              "outlinewidth": 0,
              "ticks": ""
             }
            },
            "type": "scatterpolargl"
           }
          ],
          "scatterternary": [
           {
            "marker": {
             "colorbar": {
              "outlinewidth": 0,
              "ticks": ""
             }
            },
            "type": "scatterternary"
           }
          ],
          "surface": [
           {
            "colorbar": {
             "outlinewidth": 0,
             "ticks": ""
            },
            "colorscale": [
             [
              0,
              "#0d0887"
             ],
             [
              0.1111111111111111,
              "#46039f"
             ],
             [
              0.2222222222222222,
              "#7201a8"
             ],
             [
              0.3333333333333333,
              "#9c179e"
             ],
             [
              0.4444444444444444,
              "#bd3786"
             ],
             [
              0.5555555555555556,
              "#d8576b"
             ],
             [
              0.6666666666666666,
              "#ed7953"
             ],
             [
              0.7777777777777778,
              "#fb9f3a"
             ],
             [
              0.8888888888888888,
              "#fdca26"
             ],
             [
              1,
              "#f0f921"
             ]
            ],
            "type": "surface"
           }
          ],
          "table": [
           {
            "cells": {
             "fill": {
              "color": "#EBF0F8"
             },
             "line": {
              "color": "white"
             }
            },
            "header": {
             "fill": {
              "color": "#C8D4E3"
             },
             "line": {
              "color": "white"
             }
            },
            "type": "table"
           }
          ]
         },
         "layout": {
          "annotationdefaults": {
           "arrowcolor": "#2a3f5f",
           "arrowhead": 0,
           "arrowwidth": 1
          },
          "coloraxis": {
           "colorbar": {
            "outlinewidth": 0,
            "ticks": ""
           }
          },
          "colorscale": {
           "diverging": [
            [
             0,
             "#8e0152"
            ],
            [
             0.1,
             "#c51b7d"
            ],
            [
             0.2,
             "#de77ae"
            ],
            [
             0.3,
             "#f1b6da"
            ],
            [
             0.4,
             "#fde0ef"
            ],
            [
             0.5,
             "#f7f7f7"
            ],
            [
             0.6,
             "#e6f5d0"
            ],
            [
             0.7,
             "#b8e186"
            ],
            [
             0.8,
             "#7fbc41"
            ],
            [
             0.9,
             "#4d9221"
            ],
            [
             1,
             "#276419"
            ]
           ],
           "sequential": [
            [
             0,
             "#0d0887"
            ],
            [
             0.1111111111111111,
             "#46039f"
            ],
            [
             0.2222222222222222,
             "#7201a8"
            ],
            [
             0.3333333333333333,
             "#9c179e"
            ],
            [
             0.4444444444444444,
             "#bd3786"
            ],
            [
             0.5555555555555556,
             "#d8576b"
            ],
            [
             0.6666666666666666,
             "#ed7953"
            ],
            [
             0.7777777777777778,
             "#fb9f3a"
            ],
            [
             0.8888888888888888,
             "#fdca26"
            ],
            [
             1,
             "#f0f921"
            ]
           ],
           "sequentialminus": [
            [
             0,
             "#0d0887"
            ],
            [
             0.1111111111111111,
             "#46039f"
            ],
            [
             0.2222222222222222,
             "#7201a8"
            ],
            [
             0.3333333333333333,
             "#9c179e"
            ],
            [
             0.4444444444444444,
             "#bd3786"
            ],
            [
             0.5555555555555556,
             "#d8576b"
            ],
            [
             0.6666666666666666,
             "#ed7953"
            ],
            [
             0.7777777777777778,
             "#fb9f3a"
            ],
            [
             0.8888888888888888,
             "#fdca26"
            ],
            [
             1,
             "#f0f921"
            ]
           ]
          },
          "colorway": [
           "#636efa",
           "#EF553B",
           "#00cc96",
           "#ab63fa",
           "#FFA15A",
           "#19d3f3",
           "#FF6692",
           "#B6E880",
           "#FF97FF",
           "#FECB52"
          ],
          "font": {
           "color": "#2a3f5f"
          },
          "geo": {
           "bgcolor": "white",
           "lakecolor": "white",
           "landcolor": "#E5ECF6",
           "showlakes": true,
           "showland": true,
           "subunitcolor": "white"
          },
          "hoverlabel": {
           "align": "left"
          },
          "hovermode": "closest",
          "mapbox": {
           "style": "light"
          },
          "paper_bgcolor": "white",
          "plot_bgcolor": "#E5ECF6",
          "polar": {
           "angularaxis": {
            "gridcolor": "white",
            "linecolor": "white",
            "ticks": ""
           },
           "bgcolor": "#E5ECF6",
           "radialaxis": {
            "gridcolor": "white",
            "linecolor": "white",
            "ticks": ""
           }
          },
          "scene": {
           "xaxis": {
            "backgroundcolor": "#E5ECF6",
            "gridcolor": "white",
            "gridwidth": 2,
            "linecolor": "white",
            "showbackground": true,
            "ticks": "",
            "zerolinecolor": "white"
           },
           "yaxis": {
            "backgroundcolor": "#E5ECF6",
            "gridcolor": "white",
            "gridwidth": 2,
            "linecolor": "white",
            "showbackground": true,
            "ticks": "",
            "zerolinecolor": "white"
           },
           "zaxis": {
            "backgroundcolor": "#E5ECF6",
            "gridcolor": "white",
            "gridwidth": 2,
            "linecolor": "white",
            "showbackground": true,
            "ticks": "",
            "zerolinecolor": "white"
           }
          },
          "shapedefaults": {
           "line": {
            "color": "#2a3f5f"
           }
          },
          "ternary": {
           "aaxis": {
            "gridcolor": "white",
            "linecolor": "white",
            "ticks": ""
           },
           "baxis": {
            "gridcolor": "white",
            "linecolor": "white",
            "ticks": ""
           },
           "bgcolor": "#E5ECF6",
           "caxis": {
            "gridcolor": "white",
            "linecolor": "white",
            "ticks": ""
           }
          },
          "title": {
           "x": 0.05
          },
          "xaxis": {
           "automargin": true,
           "gridcolor": "white",
           "linecolor": "white",
           "ticks": "",
           "title": {
            "standoff": 15
           },
           "zerolinecolor": "white",
           "zerolinewidth": 2
          },
          "yaxis": {
           "automargin": true,
           "gridcolor": "white",
           "linecolor": "white",
           "ticks": "",
           "title": {
            "standoff": 15
           },
           "zerolinecolor": "white",
           "zerolinewidth": 2
          }
         }
        },
        "title": {
         "text": "t-SNE Visualization of LDA Groupings"
        },
        "width": 600
       }
      },
      "text/html": [
       "<div>\n",
       "        \n",
       "        \n",
       "            <div id=\"29dc188a-1d87-4d6b-97fa-bc0457507821\" class=\"plotly-graph-div\" style=\"height:600px; width:600px;\"></div>\n",
       "            <script type=\"text/javascript\">\n",
       "                require([\"plotly\"], function(Plotly) {\n",
       "                    window.PLOTLYENV=window.PLOTLYENV || {};\n",
       "                    \n",
       "                if (document.getElementById(\"29dc188a-1d87-4d6b-97fa-bc0457507821\")) {\n",
       "                    Plotly.newPlot(\n",
       "                        '29dc188a-1d87-4d6b-97fa-bc0457507821',\n",
       "                        [{\"hovertemplate\": \"%{meta[4]}<extra></extra>\", \"meta\": [[0, -2.773916482925415, 0.5524457693099976, -5.385669231414795, \"cont'd <br>phone <br>gun <br>pete <br>driver <br>kitchen <br>wade <br>o.s <br>bedroom <br>police <br>guy <br>fuck <br>cat <br>road <br>hallway <br>v.o <br>pov <br>okay <br>blood <br>bathroom <br>\"], [0, -4.21027135848999, -0.11228018254041672, -5.06404447555542, \"cont'd <br>phone <br>gun <br>pete <br>driver <br>kitchen <br>wade <br>o.s <br>bedroom <br>police <br>guy <br>fuck <br>cat <br>road <br>hallway <br>v.o <br>pov <br>okay <br>blood <br>bathroom <br>\"], [0, -5.1250739097595215, 0.8672290444374084, -3.191108226776123, \"cont'd <br>phone <br>gun <br>pete <br>driver <br>kitchen <br>wade <br>o.s <br>bedroom <br>police <br>guy <br>fuck <br>cat <br>road <br>hallway <br>v.o <br>pov <br>okay <br>blood <br>bathroom <br>\"], [0, -3.3727927207946777, 1.7191284894943237, -1.6380677223205566, \"cont'd <br>phone <br>gun <br>pete <br>driver <br>kitchen <br>wade <br>o.s <br>bedroom <br>police <br>guy <br>fuck <br>cat <br>road <br>hallway <br>v.o <br>pov <br>okay <br>blood <br>bathroom <br>\"], [0, -3.167945146560669, -1.0607719421386719, -3.864149570465088, \"cont'd <br>phone <br>gun <br>pete <br>driver <br>kitchen <br>wade <br>o.s <br>bedroom <br>police <br>guy <br>fuck <br>cat <br>road <br>hallway <br>v.o <br>pov <br>okay <br>blood <br>bathroom <br>\"], [0, -4.327767848968506, -0.12381301820278168, -2.9645419120788574, \"cont'd <br>phone <br>gun <br>pete <br>driver <br>kitchen <br>wade <br>o.s <br>bedroom <br>police <br>guy <br>fuck <br>cat <br>road <br>hallway <br>v.o <br>pov <br>okay <br>blood <br>bathroom <br>\"], [0, -2.9390735626220703, 2.0916082859039307, -3.529609203338623, \"cont'd <br>phone <br>gun <br>pete <br>driver <br>kitchen <br>wade <br>o.s <br>bedroom <br>police <br>guy <br>fuck <br>cat <br>road <br>hallway <br>v.o <br>pov <br>okay <br>blood <br>bathroom <br>\"], [0, -4.6639275550842285, -0.6026146411895752, -4.746522426605225, \"cont'd <br>phone <br>gun <br>pete <br>driver <br>kitchen <br>wade <br>o.s <br>bedroom <br>police <br>guy <br>fuck <br>cat <br>road <br>hallway <br>v.o <br>pov <br>okay <br>blood <br>bathroom <br>\"], [0, -4.28416109085083, 0.49959054589271545, -4.604885101318359, \"cont'd <br>phone <br>gun <br>pete <br>driver <br>kitchen <br>wade <br>o.s <br>bedroom <br>police <br>guy <br>fuck <br>cat <br>road <br>hallway <br>v.o <br>pov <br>okay <br>blood <br>bathroom <br>\"], [0, 0.6520031094551086, -1.120383858680725, -3.7656173706054688, \"cont'd <br>phone <br>gun <br>pete <br>driver <br>kitchen <br>wade <br>o.s <br>bedroom <br>police <br>guy <br>fuck <br>cat <br>road <br>hallway <br>v.o <br>pov <br>okay <br>blood <br>bathroom <br>\"], [0, -3.391636610031128, 0.7010658979415894, -5.355551242828369, \"cont'd <br>phone <br>gun <br>pete <br>driver <br>kitchen <br>wade <br>o.s <br>bedroom <br>police <br>guy <br>fuck <br>cat <br>road <br>hallway <br>v.o <br>pov <br>okay <br>blood <br>bathroom <br>\"], [0, -2.7863352298736572, -0.46830594539642334, -5.839709758758545, \"cont'd <br>phone <br>gun <br>pete <br>driver <br>kitchen <br>wade <br>o.s <br>bedroom <br>police <br>guy <br>fuck <br>cat <br>road <br>hallway <br>v.o <br>pov <br>okay <br>blood <br>bathroom <br>\"], [0, -3.742736577987671, 0.9724864363670349, -1.6331398487091064, \"cont'd <br>phone <br>gun <br>pete <br>driver <br>kitchen <br>wade <br>o.s <br>bedroom <br>police <br>guy <br>fuck <br>cat <br>road <br>hallway <br>v.o <br>pov <br>okay <br>blood <br>bathroom <br>\"], [0, -2.9221866130828857, 1.9250787496566772, -2.0243661403656006, \"cont'd <br>phone <br>gun <br>pete <br>driver <br>kitchen <br>wade <br>o.s <br>bedroom <br>police <br>guy <br>fuck <br>cat <br>road <br>hallway <br>v.o <br>pov <br>okay <br>blood <br>bathroom <br>\"], [0, -3.7574198246002197, 1.3512312173843384, -1.2944996356964111, \"cont'd <br>phone <br>gun <br>pete <br>driver <br>kitchen <br>wade <br>o.s <br>bedroom <br>police <br>guy <br>fuck <br>cat <br>road <br>hallway <br>v.o <br>pov <br>okay <br>blood <br>bathroom <br>\"], [0, -3.9819130897521973, 0.16436223685741425, -5.961615562438965, \"cont'd <br>phone <br>gun <br>pete <br>driver <br>kitchen <br>wade <br>o.s <br>bedroom <br>police <br>guy <br>fuck <br>cat <br>road <br>hallway <br>v.o <br>pov <br>okay <br>blood <br>bathroom <br>\"], [0, -1.8294868469238281, -2.7192325592041016, -3.7321107387542725, \"cont'd <br>phone <br>gun <br>pete <br>driver <br>kitchen <br>wade <br>o.s <br>bedroom <br>police <br>guy <br>fuck <br>cat <br>road <br>hallway <br>v.o <br>pov <br>okay <br>blood <br>bathroom <br>\"], [0, -4.158889293670654, 0.19271256029605865, -6.835458278656006, \"cont'd <br>phone <br>gun <br>pete <br>driver <br>kitchen <br>wade <br>o.s <br>bedroom <br>police <br>guy <br>fuck <br>cat <br>road <br>hallway <br>v.o <br>pov <br>okay <br>blood <br>bathroom <br>\"], [0, 0.17827767133712769, -0.5980620384216309, -2.1865086555480957, \"cont'd <br>phone <br>gun <br>pete <br>driver <br>kitchen <br>wade <br>o.s <br>bedroom <br>police <br>guy <br>fuck <br>cat <br>road <br>hallway <br>v.o <br>pov <br>okay <br>blood <br>bathroom <br>\"], [0, -4.497466564178467, -0.3942933976650238, -4.249601364135742, \"cont'd <br>phone <br>gun <br>pete <br>driver <br>kitchen <br>wade <br>o.s <br>bedroom <br>police <br>guy <br>fuck <br>cat <br>road <br>hallway <br>v.o <br>pov <br>okay <br>blood <br>bathroom <br>\"], [0, -3.8633229732513428, 1.2660146951675415, -1.286348581314087, \"cont'd <br>phone <br>gun <br>pete <br>driver <br>kitchen <br>wade <br>o.s <br>bedroom <br>police <br>guy <br>fuck <br>cat <br>road <br>hallway <br>v.o <br>pov <br>okay <br>blood <br>bathroom <br>\"], [0, 0.794639527797699, -0.852004885673523, -2.636439323425293, \"cont'd <br>phone <br>gun <br>pete <br>driver <br>kitchen <br>wade <br>o.s <br>bedroom <br>police <br>guy <br>fuck <br>cat <br>road <br>hallway <br>v.o <br>pov <br>okay <br>blood <br>bathroom <br>\"], [0, -1.167622685432434, -2.7216575145721436, -3.2115225791931152, \"cont'd <br>phone <br>gun <br>pete <br>driver <br>kitchen <br>wade <br>o.s <br>bedroom <br>police <br>guy <br>fuck <br>cat <br>road <br>hallway <br>v.o <br>pov <br>okay <br>blood <br>bathroom <br>\"], [0, -1.6192119121551514, -0.4621458351612091, -2.809603452682495, \"cont'd <br>phone <br>gun <br>pete <br>driver <br>kitchen <br>wade <br>o.s <br>bedroom <br>police <br>guy <br>fuck <br>cat <br>road <br>hallway <br>v.o <br>pov <br>okay <br>blood <br>bathroom <br>\"], [0, -3.705069065093994, -0.36763355135917664, -1.8566209077835083, \"cont'd <br>phone <br>gun <br>pete <br>driver <br>kitchen <br>wade <br>o.s <br>bedroom <br>police <br>guy <br>fuck <br>cat <br>road <br>hallway <br>v.o <br>pov <br>okay <br>blood <br>bathroom <br>\"], [0, -3.072525978088379, -0.42094704508781433, -5.694286823272705, \"cont'd <br>phone <br>gun <br>pete <br>driver <br>kitchen <br>wade <br>o.s <br>bedroom <br>police <br>guy <br>fuck <br>cat <br>road <br>hallway <br>v.o <br>pov <br>okay <br>blood <br>bathroom <br>\"], [0, -5.706271648406982, 0.7856248021125793, -3.668503522872925, \"cont'd <br>phone <br>gun <br>pete <br>driver <br>kitchen <br>wade <br>o.s <br>bedroom <br>police <br>guy <br>fuck <br>cat <br>road <br>hallway <br>v.o <br>pov <br>okay <br>blood <br>bathroom <br>\"], [0, -5.5726847648620605, -1.3439364433288574, -5.0516533851623535, \"cont'd <br>phone <br>gun <br>pete <br>driver <br>kitchen <br>wade <br>o.s <br>bedroom <br>police <br>guy <br>fuck <br>cat <br>road <br>hallway <br>v.o <br>pov <br>okay <br>blood <br>bathroom <br>\"], [0, -3.709038257598877, -0.25838807225227356, -6.309963226318359, \"cont'd <br>phone <br>gun <br>pete <br>driver <br>kitchen <br>wade <br>o.s <br>bedroom <br>police <br>guy <br>fuck <br>cat <br>road <br>hallway <br>v.o <br>pov <br>okay <br>blood <br>bathroom <br>\"], [0, -4.023015975952148, 2.632841110229492, -4.71905517578125, \"cont'd <br>phone <br>gun <br>pete <br>driver <br>kitchen <br>wade <br>o.s <br>bedroom <br>police <br>guy <br>fuck <br>cat <br>road <br>hallway <br>v.o <br>pov <br>okay <br>blood <br>bathroom <br>\"], [0, -2.5582425594329834, -0.9877042174339294, -3.2155919075012207, \"cont'd <br>phone <br>gun <br>pete <br>driver <br>kitchen <br>wade <br>o.s <br>bedroom <br>police <br>guy <br>fuck <br>cat <br>road <br>hallway <br>v.o <br>pov <br>okay <br>blood <br>bathroom <br>\"], [0, -3.1155152320861816, -0.23563216626644135, -5.927921295166016, \"cont'd <br>phone <br>gun <br>pete <br>driver <br>kitchen <br>wade <br>o.s <br>bedroom <br>police <br>guy <br>fuck <br>cat <br>road <br>hallway <br>v.o <br>pov <br>okay <br>blood <br>bathroom <br>\"], [0, -5.830923080444336, 0.8160958886146545, -3.778303861618042, \"cont'd <br>phone <br>gun <br>pete <br>driver <br>kitchen <br>wade <br>o.s <br>bedroom <br>police <br>guy <br>fuck <br>cat <br>road <br>hallway <br>v.o <br>pov <br>okay <br>blood <br>bathroom <br>\"], [0, -4.2248125076293945, -0.26124438643455505, -2.7035796642303467, \"cont'd <br>phone <br>gun <br>pete <br>driver <br>kitchen <br>wade <br>o.s <br>bedroom <br>police <br>guy <br>fuck <br>cat <br>road <br>hallway <br>v.o <br>pov <br>okay <br>blood <br>bathroom <br>\"], [0, -0.2198270857334137, -0.7180726528167725, -3.0045323371887207, \"cont'd <br>phone <br>gun <br>pete <br>driver <br>kitchen <br>wade <br>o.s <br>bedroom <br>police <br>guy <br>fuck <br>cat <br>road <br>hallway <br>v.o <br>pov <br>okay <br>blood <br>bathroom <br>\"], [0, -2.5911483764648438, 2.0676326751708984, -2.283787965774536, \"cont'd <br>phone <br>gun <br>pete <br>driver <br>kitchen <br>wade <br>o.s <br>bedroom <br>police <br>guy <br>fuck <br>cat <br>road <br>hallway <br>v.o <br>pov <br>okay <br>blood <br>bathroom <br>\"], [0, -3.347142219543457, 1.4885019063949585, -4.7896623611450195, \"cont'd <br>phone <br>gun <br>pete <br>driver <br>kitchen <br>wade <br>o.s <br>bedroom <br>police <br>guy <br>fuck <br>cat <br>road <br>hallway <br>v.o <br>pov <br>okay <br>blood <br>bathroom <br>\"], [0, -3.5918030738830566, 0.7071067094802856, -4.501105308532715, \"cont'd <br>phone <br>gun <br>pete <br>driver <br>kitchen <br>wade <br>o.s <br>bedroom <br>police <br>guy <br>fuck <br>cat <br>road <br>hallway <br>v.o <br>pov <br>okay <br>blood <br>bathroom <br>\"], [0, -3.492981195449829, 1.2620770931243896, -4.785384178161621, \"cont'd <br>phone <br>gun <br>pete <br>driver <br>kitchen <br>wade <br>o.s <br>bedroom <br>police <br>guy <br>fuck <br>cat <br>road <br>hallway <br>v.o <br>pov <br>okay <br>blood <br>bathroom <br>\"], [0, -2.456791639328003, 2.6962952613830566, -5.042272567749023, \"cont'd <br>phone <br>gun <br>pete <br>driver <br>kitchen <br>wade <br>o.s <br>bedroom <br>police <br>guy <br>fuck <br>cat <br>road <br>hallway <br>v.o <br>pov <br>okay <br>blood <br>bathroom <br>\"], [0, -1.7982113361358643, 2.1626925468444824, -4.030780792236328, \"cont'd <br>phone <br>gun <br>pete <br>driver <br>kitchen <br>wade <br>o.s <br>bedroom <br>police <br>guy <br>fuck <br>cat <br>road <br>hallway <br>v.o <br>pov <br>okay <br>blood <br>bathroom <br>\"], [0, -7.723388195037842, 0.6295998692512512, -1.5855927467346191, \"cont'd <br>phone <br>gun <br>pete <br>driver <br>kitchen <br>wade <br>o.s <br>bedroom <br>police <br>guy <br>fuck <br>cat <br>road <br>hallway <br>v.o <br>pov <br>okay <br>blood <br>bathroom <br>\"], [0, -4.229582786560059, -0.13318201899528503, -5.893678188323975, \"cont'd <br>phone <br>gun <br>pete <br>driver <br>kitchen <br>wade <br>o.s <br>bedroom <br>police <br>guy <br>fuck <br>cat <br>road <br>hallway <br>v.o <br>pov <br>okay <br>blood <br>bathroom <br>\"], [0, -0.41189998388290405, -0.8720886707305908, -2.872631072998047, \"cont'd <br>phone <br>gun <br>pete <br>driver <br>kitchen <br>wade <br>o.s <br>bedroom <br>police <br>guy <br>fuck <br>cat <br>road <br>hallway <br>v.o <br>pov <br>okay <br>blood <br>bathroom <br>\"], [0, -4.282111167907715, -0.7944200038909912, -2.5714216232299805, \"cont'd <br>phone <br>gun <br>pete <br>driver <br>kitchen <br>wade <br>o.s <br>bedroom <br>police <br>guy <br>fuck <br>cat <br>road <br>hallway <br>v.o <br>pov <br>okay <br>blood <br>bathroom <br>\"], [0, -4.6408162117004395, 3.38340425491333, -2.9656007289886475, \"cont'd <br>phone <br>gun <br>pete <br>driver <br>kitchen <br>wade <br>o.s <br>bedroom <br>police <br>guy <br>fuck <br>cat <br>road <br>hallway <br>v.o <br>pov <br>okay <br>blood <br>bathroom <br>\"], [0, -2.2951290607452393, -0.42209696769714355, -2.9107673168182373, \"cont'd <br>phone <br>gun <br>pete <br>driver <br>kitchen <br>wade <br>o.s <br>bedroom <br>police <br>guy <br>fuck <br>cat <br>road <br>hallway <br>v.o <br>pov <br>okay <br>blood <br>bathroom <br>\"], [0, -3.727936029434204, -0.4866403639316559, -3.3544232845306396, \"cont'd <br>phone <br>gun <br>pete <br>driver <br>kitchen <br>wade <br>o.s <br>bedroom <br>police <br>guy <br>fuck <br>cat <br>road <br>hallway <br>v.o <br>pov <br>okay <br>blood <br>bathroom <br>\"], [0, -4.798170566558838, -0.5247809290885925, -4.510330677032471, \"cont'd <br>phone <br>gun <br>pete <br>driver <br>kitchen <br>wade <br>o.s <br>bedroom <br>police <br>guy <br>fuck <br>cat <br>road <br>hallway <br>v.o <br>pov <br>okay <br>blood <br>bathroom <br>\"], [0, -4.790224552154541, 0.12226478010416031, -0.5899876356124878, \"cont'd <br>phone <br>gun <br>pete <br>driver <br>kitchen <br>wade <br>o.s <br>bedroom <br>police <br>guy <br>fuck <br>cat <br>road <br>hallway <br>v.o <br>pov <br>okay <br>blood <br>bathroom <br>\"], [0, -3.4376745223999023, 2.927513599395752, -3.7425694465637207, \"cont'd <br>phone <br>gun <br>pete <br>driver <br>kitchen <br>wade <br>o.s <br>bedroom <br>police <br>guy <br>fuck <br>cat <br>road <br>hallway <br>v.o <br>pov <br>okay <br>blood <br>bathroom <br>\"], [0, -4.335464954376221, -0.3186534345149994, -5.664992332458496, \"cont'd <br>phone <br>gun <br>pete <br>driver <br>kitchen <br>wade <br>o.s <br>bedroom <br>police <br>guy <br>fuck <br>cat <br>road <br>hallway <br>v.o <br>pov <br>okay <br>blood <br>bathroom <br>\"], [0, -5.107900619506836, 0.2546805739402771, -4.0513224601745605, \"cont'd <br>phone <br>gun <br>pete <br>driver <br>kitchen <br>wade <br>o.s <br>bedroom <br>police <br>guy <br>fuck <br>cat <br>road <br>hallway <br>v.o <br>pov <br>okay <br>blood <br>bathroom <br>\"], [0, -4.789663791656494, -0.29164406657218933, -4.45546817779541, \"cont'd <br>phone <br>gun <br>pete <br>driver <br>kitchen <br>wade <br>o.s <br>bedroom <br>police <br>guy <br>fuck <br>cat <br>road <br>hallway <br>v.o <br>pov <br>okay <br>blood <br>bathroom <br>\"]], \"mode\": \"markers\", \"showlegend\": false, \"type\": \"scatter3d\", \"x\": [-2.773916482925415, -4.21027135848999, -5.1250739097595215, -3.3727927207946777, -3.167945146560669, -4.327767848968506, -2.9390735626220703, -4.6639275550842285, -4.28416109085083, 0.6520031094551086, -3.391636610031128, -2.7863352298736572, -3.742736577987671, -2.9221866130828857, -3.7574198246002197, -3.9819130897521973, -1.8294868469238281, -4.158889293670654, 0.17827767133712769, -4.497466564178467, -3.8633229732513428, 0.794639527797699, -1.167622685432434, -1.6192119121551514, -3.705069065093994, -3.072525978088379, -5.706271648406982, -5.5726847648620605, -3.709038257598877, -4.023015975952148, -2.5582425594329834, -3.1155152320861816, -5.830923080444336, -4.2248125076293945, -0.2198270857334137, -2.5911483764648438, -3.347142219543457, -3.5918030738830566, -3.492981195449829, -2.456791639328003, -1.7982113361358643, -7.723388195037842, -4.229582786560059, -0.41189998388290405, -4.282111167907715, -4.6408162117004395, -2.2951290607452393, -3.727936029434204, -4.798170566558838, -4.790224552154541, -3.4376745223999023, -4.335464954376221, -5.107900619506836, -4.789663791656494], \"y\": [0.5524457693099976, -0.11228018254041672, 0.8672290444374084, 1.7191284894943237, -1.0607719421386719, -0.12381301820278168, 2.0916082859039307, -0.6026146411895752, 0.49959054589271545, -1.120383858680725, 0.7010658979415894, -0.46830594539642334, 0.9724864363670349, 1.9250787496566772, 1.3512312173843384, 0.16436223685741425, -2.7192325592041016, 0.19271256029605865, -0.5980620384216309, -0.3942933976650238, 1.2660146951675415, -0.852004885673523, -2.7216575145721436, -0.4621458351612091, -0.36763355135917664, -0.42094704508781433, 0.7856248021125793, -1.3439364433288574, -0.25838807225227356, 2.632841110229492, -0.9877042174339294, -0.23563216626644135, 0.8160958886146545, -0.26124438643455505, -0.7180726528167725, 2.0676326751708984, 1.4885019063949585, 0.7071067094802856, 1.2620770931243896, 2.6962952613830566, 2.1626925468444824, 0.6295998692512512, -0.13318201899528503, -0.8720886707305908, -0.7944200038909912, 3.38340425491333, -0.42209696769714355, -0.4866403639316559, -0.5247809290885925, 0.12226478010416031, 2.927513599395752, -0.3186534345149994, 0.2546805739402771, -0.29164406657218933], \"z\": [-5.385669231414795, -5.06404447555542, -3.191108226776123, -1.6380677223205566, -3.864149570465088, -2.9645419120788574, -3.529609203338623, -4.746522426605225, -4.604885101318359, -3.7656173706054688, -5.355551242828369, -5.839709758758545, -1.6331398487091064, -2.0243661403656006, -1.2944996356964111, -5.961615562438965, -3.7321107387542725, -6.835458278656006, -2.1865086555480957, -4.249601364135742, -1.286348581314087, -2.636439323425293, -3.2115225791931152, -2.809603452682495, -1.8566209077835083, -5.694286823272705, -3.668503522872925, -5.0516533851623535, -6.309963226318359, -4.71905517578125, -3.2155919075012207, -5.927921295166016, -3.778303861618042, -2.7035796642303467, -3.0045323371887207, -2.283787965774536, -4.7896623611450195, -4.501105308532715, -4.785384178161621, -5.042272567749023, -4.030780792236328, -1.5855927467346191, -5.893678188323975, -2.872631072998047, -2.5714216232299805, -2.9656007289886475, -2.9107673168182373, -3.3544232845306396, -4.510330677032471, -0.5899876356124878, -3.7425694465637207, -5.664992332458496, -4.0513224601745605, -4.45546817779541]}, {\"hovertemplate\": \"%{meta[4]}<extra></extra>\", \"meta\": [[1, 4.776154518127441, 2.234632968902588, -3.4707934856414795, \"cont'd <br>ben <br>yeah <br>guy <br>okay <br>phone <br>richard <br>to <br>fuck <br>go to <br>office <br>shit <br>apartment <br>cut int <br>whip <br>fucking <br>money <br>ok <br>hi <br>dr <br>\"], [1, 7.883744716644287, 2.4788572788238525, -6.252344131469727, \"cont'd <br>ben <br>yeah <br>guy <br>okay <br>phone <br>richard <br>to <br>fuck <br>go to <br>office <br>shit <br>apartment <br>cut int <br>whip <br>fucking <br>money <br>ok <br>hi <br>dr <br>\"], [1, 6.196647644042969, 0.6678088307380676, -5.547926902770996, \"cont'd <br>ben <br>yeah <br>guy <br>okay <br>phone <br>richard <br>to <br>fuck <br>go to <br>office <br>shit <br>apartment <br>cut int <br>whip <br>fucking <br>money <br>ok <br>hi <br>dr <br>\"], [1, 8.634909629821777, 2.2834911346435547, -6.767759323120117, \"cont'd <br>ben <br>yeah <br>guy <br>okay <br>phone <br>richard <br>to <br>fuck <br>go to <br>office <br>shit <br>apartment <br>cut int <br>whip <br>fucking <br>money <br>ok <br>hi <br>dr <br>\"], [1, 8.044384002685547, 3.2658236026763916, -6.594672203063965, \"cont'd <br>ben <br>yeah <br>guy <br>okay <br>phone <br>richard <br>to <br>fuck <br>go to <br>office <br>shit <br>apartment <br>cut int <br>whip <br>fucking <br>money <br>ok <br>hi <br>dr <br>\"], [1, 8.287467956542969, 2.541696310043335, -7.77677059173584, \"cont'd <br>ben <br>yeah <br>guy <br>okay <br>phone <br>richard <br>to <br>fuck <br>go to <br>office <br>shit <br>apartment <br>cut int <br>whip <br>fucking <br>money <br>ok <br>hi <br>dr <br>\"], [1, 7.962007522583008, 2.249023675918579, -6.104575157165527, \"cont'd <br>ben <br>yeah <br>guy <br>okay <br>phone <br>richard <br>to <br>fuck <br>go to <br>office <br>shit <br>apartment <br>cut int <br>whip <br>fucking <br>money <br>ok <br>hi <br>dr <br>\"], [1, 8.53027629852295, 1.9098846912384033, -7.625213623046875, \"cont'd <br>ben <br>yeah <br>guy <br>okay <br>phone <br>richard <br>to <br>fuck <br>go to <br>office <br>shit <br>apartment <br>cut int <br>whip <br>fucking <br>money <br>ok <br>hi <br>dr <br>\"], [1, 8.779655456542969, 2.18700909614563, -6.8453474044799805, \"cont'd <br>ben <br>yeah <br>guy <br>okay <br>phone <br>richard <br>to <br>fuck <br>go to <br>office <br>shit <br>apartment <br>cut int <br>whip <br>fucking <br>money <br>ok <br>hi <br>dr <br>\"], [1, 7.1944146156311035, 1.8315801620483398, -5.863833427429199, \"cont'd <br>ben <br>yeah <br>guy <br>okay <br>phone <br>richard <br>to <br>fuck <br>go to <br>office <br>shit <br>apartment <br>cut int <br>whip <br>fucking <br>money <br>ok <br>hi <br>dr <br>\"], [1, 7.147743225097656, 2.10286021232605, -5.666621208190918, \"cont'd <br>ben <br>yeah <br>guy <br>okay <br>phone <br>richard <br>to <br>fuck <br>go to <br>office <br>shit <br>apartment <br>cut int <br>whip <br>fucking <br>money <br>ok <br>hi <br>dr <br>\"], [1, 4.578421115875244, 1.8137580156326294, -4.4477152824401855, \"cont'd <br>ben <br>yeah <br>guy <br>okay <br>phone <br>richard <br>to <br>fuck <br>go to <br>office <br>shit <br>apartment <br>cut int <br>whip <br>fucking <br>money <br>ok <br>hi <br>dr <br>\"], [1, 6.00338888168335, 0.36145249009132385, -5.47242546081543, \"cont'd <br>ben <br>yeah <br>guy <br>okay <br>phone <br>richard <br>to <br>fuck <br>go to <br>office <br>shit <br>apartment <br>cut int <br>whip <br>fucking <br>money <br>ok <br>hi <br>dr <br>\"], [1, 9.645037651062012, 2.1656484603881836, -7.342347621917725, \"cont'd <br>ben <br>yeah <br>guy <br>okay <br>phone <br>richard <br>to <br>fuck <br>go to <br>office <br>shit <br>apartment <br>cut int <br>whip <br>fucking <br>money <br>ok <br>hi <br>dr <br>\"], [1, 9.559967994689941, 2.0091562271118164, -7.549637317657471, \"cont'd <br>ben <br>yeah <br>guy <br>okay <br>phone <br>richard <br>to <br>fuck <br>go to <br>office <br>shit <br>apartment <br>cut int <br>whip <br>fucking <br>money <br>ok <br>hi <br>dr <br>\"], [1, 7.316112041473389, 2.216198444366455, -7.766341686248779, \"cont'd <br>ben <br>yeah <br>guy <br>okay <br>phone <br>richard <br>to <br>fuck <br>go to <br>office <br>shit <br>apartment <br>cut int <br>whip <br>fucking <br>money <br>ok <br>hi <br>dr <br>\"], [1, 9.20567512512207, 2.9679367542266846, -7.598031520843506, \"cont'd <br>ben <br>yeah <br>guy <br>okay <br>phone <br>richard <br>to <br>fuck <br>go to <br>office <br>shit <br>apartment <br>cut int <br>whip <br>fucking <br>money <br>ok <br>hi <br>dr <br>\"], [1, 7.2074713706970215, 2.26387619972229, -7.566955089569092, \"cont'd <br>ben <br>yeah <br>guy <br>okay <br>phone <br>richard <br>to <br>fuck <br>go to <br>office <br>shit <br>apartment <br>cut int <br>whip <br>fucking <br>money <br>ok <br>hi <br>dr <br>\"], [1, 8.35334587097168, 1.2866535186767578, -7.193533420562744, \"cont'd <br>ben <br>yeah <br>guy <br>okay <br>phone <br>richard <br>to <br>fuck <br>go to <br>office <br>shit <br>apartment <br>cut int <br>whip <br>fucking <br>money <br>ok <br>hi <br>dr <br>\"], [1, 7.445015907287598, 3.052541971206665, -4.089228630065918, \"cont'd <br>ben <br>yeah <br>guy <br>okay <br>phone <br>richard <br>to <br>fuck <br>go to <br>office <br>shit <br>apartment <br>cut int <br>whip <br>fucking <br>money <br>ok <br>hi <br>dr <br>\"], [1, 4.442690372467041, 1.8196080923080444, -4.3759660720825195, \"cont'd <br>ben <br>yeah <br>guy <br>okay <br>phone <br>richard <br>to <br>fuck <br>go to <br>office <br>shit <br>apartment <br>cut int <br>whip <br>fucking <br>money <br>ok <br>hi <br>dr <br>\"], [1, 8.274892807006836, 1.0880050659179688, -7.056288242340088, \"cont'd <br>ben <br>yeah <br>guy <br>okay <br>phone <br>richard <br>to <br>fuck <br>go to <br>office <br>shit <br>apartment <br>cut int <br>whip <br>fucking <br>money <br>ok <br>hi <br>dr <br>\"], [1, 7.266366004943848, 1.736040711402893, -5.583029270172119, \"cont'd <br>ben <br>yeah <br>guy <br>okay <br>phone <br>richard <br>to <br>fuck <br>go to <br>office <br>shit <br>apartment <br>cut int <br>whip <br>fucking <br>money <br>ok <br>hi <br>dr <br>\"], [1, 9.933365821838379, 2.5798709392547607, -7.703200817108154, \"cont'd <br>ben <br>yeah <br>guy <br>okay <br>phone <br>richard <br>to <br>fuck <br>go to <br>office <br>shit <br>apartment <br>cut int <br>whip <br>fucking <br>money <br>ok <br>hi <br>dr <br>\"], [1, 9.489516258239746, 2.1747190952301025, -5.9819464683532715, \"cont'd <br>ben <br>yeah <br>guy <br>okay <br>phone <br>richard <br>to <br>fuck <br>go to <br>office <br>shit <br>apartment <br>cut int <br>whip <br>fucking <br>money <br>ok <br>hi <br>dr <br>\"], [1, 5.898434162139893, 1.193588376045227, -5.253560543060303, \"cont'd <br>ben <br>yeah <br>guy <br>okay <br>phone <br>richard <br>to <br>fuck <br>go to <br>office <br>shit <br>apartment <br>cut int <br>whip <br>fucking <br>money <br>ok <br>hi <br>dr <br>\"], [1, 8.212814331054688, 1.8913249969482422, -6.773958206176758, \"cont'd <br>ben <br>yeah <br>guy <br>okay <br>phone <br>richard <br>to <br>fuck <br>go to <br>office <br>shit <br>apartment <br>cut int <br>whip <br>fucking <br>money <br>ok <br>hi <br>dr <br>\"], [1, 8.74120044708252, 2.8569061756134033, -6.980470657348633, \"cont'd <br>ben <br>yeah <br>guy <br>okay <br>phone <br>richard <br>to <br>fuck <br>go to <br>office <br>shit <br>apartment <br>cut int <br>whip <br>fucking <br>money <br>ok <br>hi <br>dr <br>\"], [1, 7.496932029724121, 2.9779276847839355, -4.34354829788208, \"cont'd <br>ben <br>yeah <br>guy <br>okay <br>phone <br>richard <br>to <br>fuck <br>go to <br>office <br>shit <br>apartment <br>cut int <br>whip <br>fucking <br>money <br>ok <br>hi <br>dr <br>\"], [1, 9.362780570983887, 2.65094256401062, -7.816752910614014, \"cont'd <br>ben <br>yeah <br>guy <br>okay <br>phone <br>richard <br>to <br>fuck <br>go to <br>office <br>shit <br>apartment <br>cut int <br>whip <br>fucking <br>money <br>ok <br>hi <br>dr <br>\"], [1, 7.647597789764404, 2.963172435760498, -6.2285847663879395, \"cont'd <br>ben <br>yeah <br>guy <br>okay <br>phone <br>richard <br>to <br>fuck <br>go to <br>office <br>shit <br>apartment <br>cut int <br>whip <br>fucking <br>money <br>ok <br>hi <br>dr <br>\"], [1, 5.2962846755981445, -0.8674167990684509, -5.475606441497803, \"cont'd <br>ben <br>yeah <br>guy <br>okay <br>phone <br>richard <br>to <br>fuck <br>go to <br>office <br>shit <br>apartment <br>cut int <br>whip <br>fucking <br>money <br>ok <br>hi <br>dr <br>\"], [1, 7.929023265838623, 3.0344934463500977, -7.984020233154297, \"cont'd <br>ben <br>yeah <br>guy <br>okay <br>phone <br>richard <br>to <br>fuck <br>go to <br>office <br>shit <br>apartment <br>cut int <br>whip <br>fucking <br>money <br>ok <br>hi <br>dr <br>\"], [1, 7.687893867492676, 2.614480495452881, -7.427860260009766, \"cont'd <br>ben <br>yeah <br>guy <br>okay <br>phone <br>richard <br>to <br>fuck <br>go to <br>office <br>shit <br>apartment <br>cut int <br>whip <br>fucking <br>money <br>ok <br>hi <br>dr <br>\"]], \"mode\": \"markers\", \"showlegend\": false, \"type\": \"scatter3d\", \"x\": [4.776154518127441, 7.883744716644287, 6.196647644042969, 8.634909629821777, 8.044384002685547, 8.287467956542969, 7.962007522583008, 8.53027629852295, 8.779655456542969, 7.1944146156311035, 7.147743225097656, 4.578421115875244, 6.00338888168335, 9.645037651062012, 9.559967994689941, 7.316112041473389, 9.20567512512207, 7.2074713706970215, 8.35334587097168, 7.445015907287598, 4.442690372467041, 8.274892807006836, 7.266366004943848, 9.933365821838379, 9.489516258239746, 5.898434162139893, 8.212814331054688, 8.74120044708252, 7.496932029724121, 9.362780570983887, 7.647597789764404, 5.2962846755981445, 7.929023265838623, 7.687893867492676], \"y\": [2.234632968902588, 2.4788572788238525, 0.6678088307380676, 2.2834911346435547, 3.2658236026763916, 2.541696310043335, 2.249023675918579, 1.9098846912384033, 2.18700909614563, 1.8315801620483398, 2.10286021232605, 1.8137580156326294, 0.36145249009132385, 2.1656484603881836, 2.0091562271118164, 2.216198444366455, 2.9679367542266846, 2.26387619972229, 1.2866535186767578, 3.052541971206665, 1.8196080923080444, 1.0880050659179688, 1.736040711402893, 2.5798709392547607, 2.1747190952301025, 1.193588376045227, 1.8913249969482422, 2.8569061756134033, 2.9779276847839355, 2.65094256401062, 2.963172435760498, -0.8674167990684509, 3.0344934463500977, 2.614480495452881], \"z\": [-3.4707934856414795, -6.252344131469727, -5.547926902770996, -6.767759323120117, -6.594672203063965, -7.77677059173584, -6.104575157165527, -7.625213623046875, -6.8453474044799805, -5.863833427429199, -5.666621208190918, -4.4477152824401855, -5.47242546081543, -7.342347621917725, -7.549637317657471, -7.766341686248779, -7.598031520843506, -7.566955089569092, -7.193533420562744, -4.089228630065918, -4.3759660720825195, -7.056288242340088, -5.583029270172119, -7.703200817108154, -5.9819464683532715, -5.253560543060303, -6.773958206176758, -6.980470657348633, -4.34354829788208, -7.816752910614014, -6.2285847663879395, -5.475606441497803, -7.984020233154297, -7.427860260009766]}, {\"hovertemplate\": \"%{meta[4]}<extra></extra>\", \"meta\": [[2, -3.060560703277588, -0.8247209191322327, 12.773124694824219, \"gun <br>blood <br>shadow <br>blade <br>storm <br>corridor <br>agent <br>star <br>slam <br>radio <br>guard <br>truck <br>creature <br>climb <br>weapon <br>rush <br>edge <br>metal <br>control <br>spin <br>\"], [2, -3.292250871658325, -1.9738521575927734, 13.779025077819824, \"gun <br>blood <br>shadow <br>blade <br>storm <br>corridor <br>agent <br>star <br>slam <br>radio <br>guard <br>truck <br>creature <br>climb <br>weapon <br>rush <br>edge <br>metal <br>control <br>spin <br>\"], [2, -2.2112388610839844, -1.9262665510177612, 11.493132591247559, \"gun <br>blood <br>shadow <br>blade <br>storm <br>corridor <br>agent <br>star <br>slam <br>radio <br>guard <br>truck <br>creature <br>climb <br>weapon <br>rush <br>edge <br>metal <br>control <br>spin <br>\"], [2, -2.463921546936035, -1.7448891401290894, 13.199382781982422, \"gun <br>blood <br>shadow <br>blade <br>storm <br>corridor <br>agent <br>star <br>slam <br>radio <br>guard <br>truck <br>creature <br>climb <br>weapon <br>rush <br>edge <br>metal <br>control <br>spin <br>\"], [2, -2.3915634155273438, -0.6628581881523132, 10.966151237487793, \"gun <br>blood <br>shadow <br>blade <br>storm <br>corridor <br>agent <br>star <br>slam <br>radio <br>guard <br>truck <br>creature <br>climb <br>weapon <br>rush <br>edge <br>metal <br>control <br>spin <br>\"], [2, -2.6401941776275635, -1.0804325342178345, 13.407118797302246, \"gun <br>blood <br>shadow <br>blade <br>storm <br>corridor <br>agent <br>star <br>slam <br>radio <br>guard <br>truck <br>creature <br>climb <br>weapon <br>rush <br>edge <br>metal <br>control <br>spin <br>\"], [2, -3.288723945617676, -1.8401377201080322, 12.762288093566895, \"gun <br>blood <br>shadow <br>blade <br>storm <br>corridor <br>agent <br>star <br>slam <br>radio <br>guard <br>truck <br>creature <br>climb <br>weapon <br>rush <br>edge <br>metal <br>control <br>spin <br>\"], [2, -2.890469551086426, -0.9852780103683472, 11.699254989624023, \"gun <br>blood <br>shadow <br>blade <br>storm <br>corridor <br>agent <br>star <br>slam <br>radio <br>guard <br>truck <br>creature <br>climb <br>weapon <br>rush <br>edge <br>metal <br>control <br>spin <br>\"], [2, -2.0468575954437256, -1.4207345247268677, 10.079730987548828, \"gun <br>blood <br>shadow <br>blade <br>storm <br>corridor <br>agent <br>star <br>slam <br>radio <br>guard <br>truck <br>creature <br>climb <br>weapon <br>rush <br>edge <br>metal <br>control <br>spin <br>\"], [2, -2.147937059402466, -0.8359391093254089, 12.325138092041016, \"gun <br>blood <br>shadow <br>blade <br>storm <br>corridor <br>agent <br>star <br>slam <br>radio <br>guard <br>truck <br>creature <br>climb <br>weapon <br>rush <br>edge <br>metal <br>control <br>spin <br>\"], [2, -3.4782190322875977, -2.1961400508880615, 13.896578788757324, \"gun <br>blood <br>shadow <br>blade <br>storm <br>corridor <br>agent <br>star <br>slam <br>radio <br>guard <br>truck <br>creature <br>climb <br>weapon <br>rush <br>edge <br>metal <br>control <br>spin <br>\"], [2, -3.020632743835449, -1.7904361486434937, 12.888325691223145, \"gun <br>blood <br>shadow <br>blade <br>storm <br>corridor <br>agent <br>star <br>slam <br>radio <br>guard <br>truck <br>creature <br>climb <br>weapon <br>rush <br>edge <br>metal <br>control <br>spin <br>\"], [2, -3.367619514465332, -1.1154972314834595, 13.052729606628418, \"gun <br>blood <br>shadow <br>blade <br>storm <br>corridor <br>agent <br>star <br>slam <br>radio <br>guard <br>truck <br>creature <br>climb <br>weapon <br>rush <br>edge <br>metal <br>control <br>spin <br>\"], [2, -2.4456801414489746, -1.9273213148117065, 12.70546817779541, \"gun <br>blood <br>shadow <br>blade <br>storm <br>corridor <br>agent <br>star <br>slam <br>radio <br>guard <br>truck <br>creature <br>climb <br>weapon <br>rush <br>edge <br>metal <br>control <br>spin <br>\"], [2, -2.7325799465179443, -1.3348257541656494, 13.607220649719238, \"gun <br>blood <br>shadow <br>blade <br>storm <br>corridor <br>agent <br>star <br>slam <br>radio <br>guard <br>truck <br>creature <br>climb <br>weapon <br>rush <br>edge <br>metal <br>control <br>spin <br>\"], [2, -2.647402763366699, -1.0728962421417236, 11.312070846557617, \"gun <br>blood <br>shadow <br>blade <br>storm <br>corridor <br>agent <br>star <br>slam <br>radio <br>guard <br>truck <br>creature <br>climb <br>weapon <br>rush <br>edge <br>metal <br>control <br>spin <br>\"], [2, -3.1462182998657227, -1.3995147943496704, 11.839956283569336, \"gun <br>blood <br>shadow <br>blade <br>storm <br>corridor <br>agent <br>star <br>slam <br>radio <br>guard <br>truck <br>creature <br>climb <br>weapon <br>rush <br>edge <br>metal <br>control <br>spin <br>\"], [2, -2.1461493968963623, -0.850718080997467, 12.371682167053223, \"gun <br>blood <br>shadow <br>blade <br>storm <br>corridor <br>agent <br>star <br>slam <br>radio <br>guard <br>truck <br>creature <br>climb <br>weapon <br>rush <br>edge <br>metal <br>control <br>spin <br>\"], [2, -3.3359410762786865, -1.2643883228302002, 11.640809059143066, \"gun <br>blood <br>shadow <br>blade <br>storm <br>corridor <br>agent <br>star <br>slam <br>radio <br>guard <br>truck <br>creature <br>climb <br>weapon <br>rush <br>edge <br>metal <br>control <br>spin <br>\"], [2, -3.325049638748169, -1.5357953310012817, 12.54428768157959, \"gun <br>blood <br>shadow <br>blade <br>storm <br>corridor <br>agent <br>star <br>slam <br>radio <br>guard <br>truck <br>creature <br>climb <br>weapon <br>rush <br>edge <br>metal <br>control <br>spin <br>\"], [2, -2.3161861896514893, -1.3895220756530762, 12.853742599487305, \"gun <br>blood <br>shadow <br>blade <br>storm <br>corridor <br>agent <br>star <br>slam <br>radio <br>guard <br>truck <br>creature <br>climb <br>weapon <br>rush <br>edge <br>metal <br>control <br>spin <br>\"]], \"mode\": \"markers\", \"showlegend\": false, \"type\": \"scatter3d\", \"x\": [-3.060560703277588, -3.292250871658325, -2.2112388610839844, -2.463921546936035, -2.3915634155273438, -2.6401941776275635, -3.288723945617676, -2.890469551086426, -2.0468575954437256, -2.147937059402466, -3.4782190322875977, -3.020632743835449, -3.367619514465332, -2.4456801414489746, -2.7325799465179443, -2.647402763366699, -3.1462182998657227, -2.1461493968963623, -3.3359410762786865, -3.325049638748169, -2.3161861896514893], \"y\": [-0.8247209191322327, -1.9738521575927734, -1.9262665510177612, -1.7448891401290894, -0.6628581881523132, -1.0804325342178345, -1.8401377201080322, -0.9852780103683472, -1.4207345247268677, -0.8359391093254089, -2.1961400508880615, -1.7904361486434937, -1.1154972314834595, -1.9273213148117065, -1.3348257541656494, -1.0728962421417236, -1.3995147943496704, -0.850718080997467, -1.2643883228302002, -1.5357953310012817, -1.3895220756530762], \"z\": [12.773124694824219, 13.779025077819824, 11.493132591247559, 13.199382781982422, 10.966151237487793, 13.407118797302246, 12.762288093566895, 11.699254989624023, 10.079730987548828, 12.325138092041016, 13.896578788757324, 12.888325691223145, 13.052729606628418, 12.70546817779541, 13.607220649719238, 11.312070846557617, 11.839956283569336, 12.371682167053223, 11.640809059143066, 12.54428768157959, 12.853742599487305]}, {\"hovertemplate\": \"%{meta[4]}<extra></extra>\", \"meta\": [[3, -4.4846415519714355, 1.86565101146698, 4.134425163269043, \"tom <br>michael <br>ed <br>peter <br>elizabeth <br>summer <br>milk <br>yeah <br>to <br>school <br>scott <br>go to <br>money <br>guy <br>phone <br>mayor <br>sheriff <br>uh <br>office <br>dog <br>\"], [3, -4.220921039581299, 0.05110183730721474, 4.799983978271484, \"tom <br>michael <br>ed <br>peter <br>elizabeth <br>summer <br>milk <br>yeah <br>to <br>school <br>scott <br>go to <br>money <br>guy <br>phone <br>mayor <br>sheriff <br>uh <br>office <br>dog <br>\"], [3, -6.39764928817749, 1.500755786895752, 3.174100160598755, \"tom <br>michael <br>ed <br>peter <br>elizabeth <br>summer <br>milk <br>yeah <br>to <br>school <br>scott <br>go to <br>money <br>guy <br>phone <br>mayor <br>sheriff <br>uh <br>office <br>dog <br>\"], [3, -4.683409214019775, 1.8311712741851807, 4.614071369171143, \"tom <br>michael <br>ed <br>peter <br>elizabeth <br>summer <br>milk <br>yeah <br>to <br>school <br>scott <br>go to <br>money <br>guy <br>phone <br>mayor <br>sheriff <br>uh <br>office <br>dog <br>\"], [3, -5.557034492492676, 0.6800798773765564, 4.692605018615723, \"tom <br>michael <br>ed <br>peter <br>elizabeth <br>summer <br>milk <br>yeah <br>to <br>school <br>scott <br>go to <br>money <br>guy <br>phone <br>mayor <br>sheriff <br>uh <br>office <br>dog <br>\"], [3, -2.674152135848999, -3.0344130992889404, 1.4838759899139404, \"tom <br>michael <br>ed <br>peter <br>elizabeth <br>summer <br>milk <br>yeah <br>to <br>school <br>scott <br>go to <br>money <br>guy <br>phone <br>mayor <br>sheriff <br>uh <br>office <br>dog <br>\"], [3, -4.2037577629089355, -0.003088835161179304, 2.104688882827759, \"tom <br>michael <br>ed <br>peter <br>elizabeth <br>summer <br>milk <br>yeah <br>to <br>school <br>scott <br>go to <br>money <br>guy <br>phone <br>mayor <br>sheriff <br>uh <br>office <br>dog <br>\"], [3, -1.4831594228744507, -2.870831251144409, 2.6932713985443115, \"tom <br>michael <br>ed <br>peter <br>elizabeth <br>summer <br>milk <br>yeah <br>to <br>school <br>scott <br>go to <br>money <br>guy <br>phone <br>mayor <br>sheriff <br>uh <br>office <br>dog <br>\"], [3, -1.2501285076141357, -0.1892022341489792, 3.318093776702881, \"tom <br>michael <br>ed <br>peter <br>elizabeth <br>summer <br>milk <br>yeah <br>to <br>school <br>scott <br>go to <br>money <br>guy <br>phone <br>mayor <br>sheriff <br>uh <br>office <br>dog <br>\"], [3, -6.367787837982178, 0.6872012615203857, 4.64148473739624, \"tom <br>michael <br>ed <br>peter <br>elizabeth <br>summer <br>milk <br>yeah <br>to <br>school <br>scott <br>go to <br>money <br>guy <br>phone <br>mayor <br>sheriff <br>uh <br>office <br>dog <br>\"], [3, -5.260667324066162, 1.187402606010437, 4.460404872894287, \"tom <br>michael <br>ed <br>peter <br>elizabeth <br>summer <br>milk <br>yeah <br>to <br>school <br>scott <br>go to <br>money <br>guy <br>phone <br>mayor <br>sheriff <br>uh <br>office <br>dog <br>\"], [3, -4.902989387512207, 1.8050156831741333, 3.9806578159332275, \"tom <br>michael <br>ed <br>peter <br>elizabeth <br>summer <br>milk <br>yeah <br>to <br>school <br>scott <br>go to <br>money <br>guy <br>phone <br>mayor <br>sheriff <br>uh <br>office <br>dog <br>\"], [3, -5.172635078430176, -0.5647460222244263, 2.935558557510376, \"tom <br>michael <br>ed <br>peter <br>elizabeth <br>summer <br>milk <br>yeah <br>to <br>school <br>scott <br>go to <br>money <br>guy <br>phone <br>mayor <br>sheriff <br>uh <br>office <br>dog <br>\"], [3, -4.256024360656738, -2.135985851287842, 0.14183567464351654, \"tom <br>michael <br>ed <br>peter <br>elizabeth <br>summer <br>milk <br>yeah <br>to <br>school <br>scott <br>go to <br>money <br>guy <br>phone <br>mayor <br>sheriff <br>uh <br>office <br>dog <br>\"], [3, -2.4594738483428955, -0.09079567342996597, 1.8506088256835938, \"tom <br>michael <br>ed <br>peter <br>elizabeth <br>summer <br>milk <br>yeah <br>to <br>school <br>scott <br>go to <br>money <br>guy <br>phone <br>mayor <br>sheriff <br>uh <br>office <br>dog <br>\"], [3, -6.210224151611328, 0.821092426776886, 2.6418161392211914, \"tom <br>michael <br>ed <br>peter <br>elizabeth <br>summer <br>milk <br>yeah <br>to <br>school <br>scott <br>go to <br>money <br>guy <br>phone <br>mayor <br>sheriff <br>uh <br>office <br>dog <br>\"], [3, -6.225177764892578, 0.2686239778995514, 1.719079613685608, \"tom <br>michael <br>ed <br>peter <br>elizabeth <br>summer <br>milk <br>yeah <br>to <br>school <br>scott <br>go to <br>money <br>guy <br>phone <br>mayor <br>sheriff <br>uh <br>office <br>dog <br>\"], [3, -3.977149724960327, 1.8961944580078125, 3.746532917022705, \"tom <br>michael <br>ed <br>peter <br>elizabeth <br>summer <br>milk <br>yeah <br>to <br>school <br>scott <br>go to <br>money <br>guy <br>phone <br>mayor <br>sheriff <br>uh <br>office <br>dog <br>\"], [3, -4.434399127960205, 0.28086987137794495, 2.926548719406128, \"tom <br>michael <br>ed <br>peter <br>elizabeth <br>summer <br>milk <br>yeah <br>to <br>school <br>scott <br>go to <br>money <br>guy <br>phone <br>mayor <br>sheriff <br>uh <br>office <br>dog <br>\"], [3, -5.159825801849365, 0.5198825597763062, 2.158114433288574, \"tom <br>michael <br>ed <br>peter <br>elizabeth <br>summer <br>milk <br>yeah <br>to <br>school <br>scott <br>go to <br>money <br>guy <br>phone <br>mayor <br>sheriff <br>uh <br>office <br>dog <br>\"], [3, -2.2360024452209473, -2.2635176181793213, 1.9262293577194214, \"tom <br>michael <br>ed <br>peter <br>elizabeth <br>summer <br>milk <br>yeah <br>to <br>school <br>scott <br>go to <br>money <br>guy <br>phone <br>mayor <br>sheriff <br>uh <br>office <br>dog <br>\"], [3, -5.884974479675293, 0.2040804624557495, 5.6742119789123535, \"tom <br>michael <br>ed <br>peter <br>elizabeth <br>summer <br>milk <br>yeah <br>to <br>school <br>scott <br>go to <br>money <br>guy <br>phone <br>mayor <br>sheriff <br>uh <br>office <br>dog <br>\"], [3, -5.532390117645264, 0.31745001673698425, 3.7601418495178223, \"tom <br>michael <br>ed <br>peter <br>elizabeth <br>summer <br>milk <br>yeah <br>to <br>school <br>scott <br>go to <br>money <br>guy <br>phone <br>mayor <br>sheriff <br>uh <br>office <br>dog <br>\"], [3, -4.703983306884766, 0.22004200518131256, 0.08634413033723831, \"tom <br>michael <br>ed <br>peter <br>elizabeth <br>summer <br>milk <br>yeah <br>to <br>school <br>scott <br>go to <br>money <br>guy <br>phone <br>mayor <br>sheriff <br>uh <br>office <br>dog <br>\"], [3, -6.94641637802124, 0.6030827164649963, 4.049796104431152, \"tom <br>michael <br>ed <br>peter <br>elizabeth <br>summer <br>milk <br>yeah <br>to <br>school <br>scott <br>go to <br>money <br>guy <br>phone <br>mayor <br>sheriff <br>uh <br>office <br>dog <br>\"], [3, -5.808567523956299, 0.14227190613746643, 5.015992641448975, \"tom <br>michael <br>ed <br>peter <br>elizabeth <br>summer <br>milk <br>yeah <br>to <br>school <br>scott <br>go to <br>money <br>guy <br>phone <br>mayor <br>sheriff <br>uh <br>office <br>dog <br>\"], [3, -2.815887212753296, 2.74406361579895, 5.135493278503418, \"tom <br>michael <br>ed <br>peter <br>elizabeth <br>summer <br>milk <br>yeah <br>to <br>school <br>scott <br>go to <br>money <br>guy <br>phone <br>mayor <br>sheriff <br>uh <br>office <br>dog <br>\"], [3, -6.431939601898193, 2.355783700942993, 2.6762771606445312, \"tom <br>michael <br>ed <br>peter <br>elizabeth <br>summer <br>milk <br>yeah <br>to <br>school <br>scott <br>go to <br>money <br>guy <br>phone <br>mayor <br>sheriff <br>uh <br>office <br>dog <br>\"], [3, -5.204980373382568, 1.1189358234405518, 4.862292766571045, \"tom <br>michael <br>ed <br>peter <br>elizabeth <br>summer <br>milk <br>yeah <br>to <br>school <br>scott <br>go to <br>money <br>guy <br>phone <br>mayor <br>sheriff <br>uh <br>office <br>dog <br>\"], [3, -6.699579238891602, 0.8969588875770569, 2.4161834716796875, \"tom <br>michael <br>ed <br>peter <br>elizabeth <br>summer <br>milk <br>yeah <br>to <br>school <br>scott <br>go to <br>money <br>guy <br>phone <br>mayor <br>sheriff <br>uh <br>office <br>dog <br>\"], [3, -4.98502779006958, 0.9803237318992615, 3.0452003479003906, \"tom <br>michael <br>ed <br>peter <br>elizabeth <br>summer <br>milk <br>yeah <br>to <br>school <br>scott <br>go to <br>money <br>guy <br>phone <br>mayor <br>sheriff <br>uh <br>office <br>dog <br>\"], [3, -3.0924410820007324, 2.295621871948242, 4.619145393371582, \"tom <br>michael <br>ed <br>peter <br>elizabeth <br>summer <br>milk <br>yeah <br>to <br>school <br>scott <br>go to <br>money <br>guy <br>phone <br>mayor <br>sheriff <br>uh <br>office <br>dog <br>\"], [3, -4.06689453125, 0.4956589937210083, 1.175855040550232, \"tom <br>michael <br>ed <br>peter <br>elizabeth <br>summer <br>milk <br>yeah <br>to <br>school <br>scott <br>go to <br>money <br>guy <br>phone <br>mayor <br>sheriff <br>uh <br>office <br>dog <br>\"], [3, -1.25767982006073, -0.27762123942375183, 4.760843276977539, \"tom <br>michael <br>ed <br>peter <br>elizabeth <br>summer <br>milk <br>yeah <br>to <br>school <br>scott <br>go to <br>money <br>guy <br>phone <br>mayor <br>sheriff <br>uh <br>office <br>dog <br>\"], [3, -6.5467634201049805, 1.395487904548645, 4.334614276885986, \"tom <br>michael <br>ed <br>peter <br>elizabeth <br>summer <br>milk <br>yeah <br>to <br>school <br>scott <br>go to <br>money <br>guy <br>phone <br>mayor <br>sheriff <br>uh <br>office <br>dog <br>\"], [3, -5.0145039558410645, -0.610725462436676, 3.956653594970703, \"tom <br>michael <br>ed <br>peter <br>elizabeth <br>summer <br>milk <br>yeah <br>to <br>school <br>scott <br>go to <br>money <br>guy <br>phone <br>mayor <br>sheriff <br>uh <br>office <br>dog <br>\"], [3, -4.598586082458496, 0.09417706727981567, -0.2840594947338104, \"tom <br>michael <br>ed <br>peter <br>elizabeth <br>summer <br>milk <br>yeah <br>to <br>school <br>scott <br>go to <br>money <br>guy <br>phone <br>mayor <br>sheriff <br>uh <br>office <br>dog <br>\"], [3, -3.2769858837127686, -2.200902223587036, 4.250349998474121, \"tom <br>michael <br>ed <br>peter <br>elizabeth <br>summer <br>milk <br>yeah <br>to <br>school <br>scott <br>go to <br>money <br>guy <br>phone <br>mayor <br>sheriff <br>uh <br>office <br>dog <br>\"], [3, -2.0705859661102295, -0.2401115894317627, 0.7241157293319702, \"tom <br>michael <br>ed <br>peter <br>elizabeth <br>summer <br>milk <br>yeah <br>to <br>school <br>scott <br>go to <br>money <br>guy <br>phone <br>mayor <br>sheriff <br>uh <br>office <br>dog <br>\"], [3, -2.3876917362213135, -2.840146064758301, 3.4122626781463623, \"tom <br>michael <br>ed <br>peter <br>elizabeth <br>summer <br>milk <br>yeah <br>to <br>school <br>scott <br>go to <br>money <br>guy <br>phone <br>mayor <br>sheriff <br>uh <br>office <br>dog <br>\"], [3, -5.5538010597229, 0.6382587552070618, 4.3479743003845215, \"tom <br>michael <br>ed <br>peter <br>elizabeth <br>summer <br>milk <br>yeah <br>to <br>school <br>scott <br>go to <br>money <br>guy <br>phone <br>mayor <br>sheriff <br>uh <br>office <br>dog <br>\"], [3, -1.1321258544921875, 0.05194675922393799, 3.348555088043213, \"tom <br>michael <br>ed <br>peter <br>elizabeth <br>summer <br>milk <br>yeah <br>to <br>school <br>scott <br>go to <br>money <br>guy <br>phone <br>mayor <br>sheriff <br>uh <br>office <br>dog <br>\"], [3, -3.5984835624694824, 0.26537802815437317, 3.8284268379211426, \"tom <br>michael <br>ed <br>peter <br>elizabeth <br>summer <br>milk <br>yeah <br>to <br>school <br>scott <br>go to <br>money <br>guy <br>phone <br>mayor <br>sheriff <br>uh <br>office <br>dog <br>\"], [3, -3.9793541431427, -2.2369444370269775, 0.33418506383895874, \"tom <br>michael <br>ed <br>peter <br>elizabeth <br>summer <br>milk <br>yeah <br>to <br>school <br>scott <br>go to <br>money <br>guy <br>phone <br>mayor <br>sheriff <br>uh <br>office <br>dog <br>\"], [3, -2.9278016090393066, 0.36133715510368347, 4.066051959991455, \"tom <br>michael <br>ed <br>peter <br>elizabeth <br>summer <br>milk <br>yeah <br>to <br>school <br>scott <br>go to <br>money <br>guy <br>phone <br>mayor <br>sheriff <br>uh <br>office <br>dog <br>\"], [3, -5.17133092880249, 1.0190786123275757, 3.907010555267334, \"tom <br>michael <br>ed <br>peter <br>elizabeth <br>summer <br>milk <br>yeah <br>to <br>school <br>scott <br>go to <br>money <br>guy <br>phone <br>mayor <br>sheriff <br>uh <br>office <br>dog <br>\"], [3, -4.6577863693237305, 0.3976992666721344, 0.6204546093940735, \"tom <br>michael <br>ed <br>peter <br>elizabeth <br>summer <br>milk <br>yeah <br>to <br>school <br>scott <br>go to <br>money <br>guy <br>phone <br>mayor <br>sheriff <br>uh <br>office <br>dog <br>\"], [3, -3.935969829559326, -1.0412968397140503, 2.578779935836792, \"tom <br>michael <br>ed <br>peter <br>elizabeth <br>summer <br>milk <br>yeah <br>to <br>school <br>scott <br>go to <br>money <br>guy <br>phone <br>mayor <br>sheriff <br>uh <br>office <br>dog <br>\"], [3, -4.989021301269531, 2.89650297164917, 0.8818517923355103, \"tom <br>michael <br>ed <br>peter <br>elizabeth <br>summer <br>milk <br>yeah <br>to <br>school <br>scott <br>go to <br>money <br>guy <br>phone <br>mayor <br>sheriff <br>uh <br>office <br>dog <br>\"], [3, -5.286147594451904, 0.18847821652889252, 0.5267022848129272, \"tom <br>michael <br>ed <br>peter <br>elizabeth <br>summer <br>milk <br>yeah <br>to <br>school <br>scott <br>go to <br>money <br>guy <br>phone <br>mayor <br>sheriff <br>uh <br>office <br>dog <br>\"], [3, -5.54226541519165, -0.16331186890602112, -0.14044803380966187, \"tom <br>michael <br>ed <br>peter <br>elizabeth <br>summer <br>milk <br>yeah <br>to <br>school <br>scott <br>go to <br>money <br>guy <br>phone <br>mayor <br>sheriff <br>uh <br>office <br>dog <br>\"], [3, -1.9068204164505005, 0.09739115834236145, 4.087394714355469, \"tom <br>michael <br>ed <br>peter <br>elizabeth <br>summer <br>milk <br>yeah <br>to <br>school <br>scott <br>go to <br>money <br>guy <br>phone <br>mayor <br>sheriff <br>uh <br>office <br>dog <br>\"], [3, -2.4055938720703125, -0.11091215908527374, 1.2410857677459717, \"tom <br>michael <br>ed <br>peter <br>elizabeth <br>summer <br>milk <br>yeah <br>to <br>school <br>scott <br>go to <br>money <br>guy <br>phone <br>mayor <br>sheriff <br>uh <br>office <br>dog <br>\"], [3, -6.849273204803467, 0.5586077570915222, 4.0168657302856445, \"tom <br>michael <br>ed <br>peter <br>elizabeth <br>summer <br>milk <br>yeah <br>to <br>school <br>scott <br>go to <br>money <br>guy <br>phone <br>mayor <br>sheriff <br>uh <br>office <br>dog <br>\"], [3, -2.3573246002197266, -1.9941861629486084, 1.806117296218872, \"tom <br>michael <br>ed <br>peter <br>elizabeth <br>summer <br>milk <br>yeah <br>to <br>school <br>scott <br>go to <br>money <br>guy <br>phone <br>mayor <br>sheriff <br>uh <br>office <br>dog <br>\"], [3, -3.86787486076355, 2.066229820251465, 3.8791921138763428, \"tom <br>michael <br>ed <br>peter <br>elizabeth <br>summer <br>milk <br>yeah <br>to <br>school <br>scott <br>go to <br>money <br>guy <br>phone <br>mayor <br>sheriff <br>uh <br>office <br>dog <br>\"], [3, -5.0663580894470215, 0.07781051099300385, 4.977497100830078, \"tom <br>michael <br>ed <br>peter <br>elizabeth <br>summer <br>milk <br>yeah <br>to <br>school <br>scott <br>go to <br>money <br>guy <br>phone <br>mayor <br>sheriff <br>uh <br>office <br>dog <br>\"], [3, -5.9190592765808105, 0.2846086919307709, 5.389311790466309, \"tom <br>michael <br>ed <br>peter <br>elizabeth <br>summer <br>milk <br>yeah <br>to <br>school <br>scott <br>go to <br>money <br>guy <br>phone <br>mayor <br>sheriff <br>uh <br>office <br>dog <br>\"], [3, -4.8667449951171875, 0.4445223808288574, 0.85606849193573, \"tom <br>michael <br>ed <br>peter <br>elizabeth <br>summer <br>milk <br>yeah <br>to <br>school <br>scott <br>go to <br>money <br>guy <br>phone <br>mayor <br>sheriff <br>uh <br>office <br>dog <br>\"], [3, -4.210104942321777, 1.8317248821258545, 2.042163133621216, \"tom <br>michael <br>ed <br>peter <br>elizabeth <br>summer <br>milk <br>yeah <br>to <br>school <br>scott <br>go to <br>money <br>guy <br>phone <br>mayor <br>sheriff <br>uh <br>office <br>dog <br>\"], [3, -5.133763790130615, 0.36470773816108704, 3.0069565773010254, \"tom <br>michael <br>ed <br>peter <br>elizabeth <br>summer <br>milk <br>yeah <br>to <br>school <br>scott <br>go to <br>money <br>guy <br>phone <br>mayor <br>sheriff <br>uh <br>office <br>dog <br>\"], [3, -5.550694465637207, 2.721928119659424, 1.829126000404358, \"tom <br>michael <br>ed <br>peter <br>elizabeth <br>summer <br>milk <br>yeah <br>to <br>school <br>scott <br>go to <br>money <br>guy <br>phone <br>mayor <br>sheriff <br>uh <br>office <br>dog <br>\"]], \"mode\": \"markers\", \"showlegend\": false, \"type\": \"scatter3d\", \"x\": [-4.4846415519714355, -4.220921039581299, -6.39764928817749, -4.683409214019775, -5.557034492492676, -2.674152135848999, -4.2037577629089355, -1.4831594228744507, -1.2501285076141357, -6.367787837982178, -5.260667324066162, -4.902989387512207, -5.172635078430176, -4.256024360656738, -2.4594738483428955, -6.210224151611328, -6.225177764892578, -3.977149724960327, -4.434399127960205, -5.159825801849365, -2.2360024452209473, -5.884974479675293, -5.532390117645264, -4.703983306884766, -6.94641637802124, -5.808567523956299, -2.815887212753296, -6.431939601898193, -5.204980373382568, -6.699579238891602, -4.98502779006958, -3.0924410820007324, -4.06689453125, -1.25767982006073, -6.5467634201049805, -5.0145039558410645, -4.598586082458496, -3.2769858837127686, -2.0705859661102295, -2.3876917362213135, -5.5538010597229, -1.1321258544921875, -3.5984835624694824, -3.9793541431427, -2.9278016090393066, -5.17133092880249, -4.6577863693237305, -3.935969829559326, -4.989021301269531, -5.286147594451904, -5.54226541519165, -1.9068204164505005, -2.4055938720703125, -6.849273204803467, -2.3573246002197266, -3.86787486076355, -5.0663580894470215, -5.9190592765808105, -4.8667449951171875, -4.210104942321777, -5.133763790130615, -5.550694465637207], \"y\": [1.86565101146698, 0.05110183730721474, 1.500755786895752, 1.8311712741851807, 0.6800798773765564, -3.0344130992889404, -0.003088835161179304, -2.870831251144409, -0.1892022341489792, 0.6872012615203857, 1.187402606010437, 1.8050156831741333, -0.5647460222244263, -2.135985851287842, -0.09079567342996597, 0.821092426776886, 0.2686239778995514, 1.8961944580078125, 0.28086987137794495, 0.5198825597763062, -2.2635176181793213, 0.2040804624557495, 0.31745001673698425, 0.22004200518131256, 0.6030827164649963, 0.14227190613746643, 2.74406361579895, 2.355783700942993, 1.1189358234405518, 0.8969588875770569, 0.9803237318992615, 2.295621871948242, 0.4956589937210083, -0.27762123942375183, 1.395487904548645, -0.610725462436676, 0.09417706727981567, -2.200902223587036, -0.2401115894317627, -2.840146064758301, 0.6382587552070618, 0.05194675922393799, 0.26537802815437317, -2.2369444370269775, 0.36133715510368347, 1.0190786123275757, 0.3976992666721344, -1.0412968397140503, 2.89650297164917, 0.18847821652889252, -0.16331186890602112, 0.09739115834236145, -0.11091215908527374, 0.5586077570915222, -1.9941861629486084, 2.066229820251465, 0.07781051099300385, 0.2846086919307709, 0.4445223808288574, 1.8317248821258545, 0.36470773816108704, 2.721928119659424], \"z\": [4.134425163269043, 4.799983978271484, 3.174100160598755, 4.614071369171143, 4.692605018615723, 1.4838759899139404, 2.104688882827759, 2.6932713985443115, 3.318093776702881, 4.64148473739624, 4.460404872894287, 3.9806578159332275, 2.935558557510376, 0.14183567464351654, 1.8506088256835938, 2.6418161392211914, 1.719079613685608, 3.746532917022705, 2.926548719406128, 2.158114433288574, 1.9262293577194214, 5.6742119789123535, 3.7601418495178223, 0.08634413033723831, 4.049796104431152, 5.015992641448975, 5.135493278503418, 2.6762771606445312, 4.862292766571045, 2.4161834716796875, 3.0452003479003906, 4.619145393371582, 1.175855040550232, 4.760843276977539, 4.334614276885986, 3.956653594970703, -0.2840594947338104, 4.250349998474121, 0.7241157293319702, 3.4122626781463623, 4.3479743003845215, 3.348555088043213, 3.8284268379211426, 0.33418506383895874, 4.066051959991455, 3.907010555267334, 0.6204546093940735, 2.578779935836792, 0.8818517923355103, 0.5267022848129272, -0.14044803380966187, 4.087394714355469, 1.2410857677459717, 4.0168657302856445, 1.806117296218872, 3.8791921138763428, 4.977497100830078, 5.389311790466309, 0.85606849193573, 2.042163133621216, 3.0069565773010254, 1.829126000404358]}, {\"hovertemplate\": \"%{meta[4]}<extra></extra>\", \"meta\": [[4, -7.229425430297852, 9.253779411315918, 9.085867881774902, \"jack <br>ace <br>adam <br>camera <br>mile <br>price <br>ma <br>bloom <br>alike <br>apartment <br>v.o <br>yeah <br>phone <br>hotel <br>cut int <br>to <br>okay <br>telephone <br>money <br>guy <br>\"], [4, -7.531777381896973, 9.215408325195312, 7.877636432647705, \"jack <br>ace <br>adam <br>camera <br>mile <br>price <br>ma <br>bloom <br>alike <br>apartment <br>v.o <br>yeah <br>phone <br>hotel <br>cut int <br>to <br>okay <br>telephone <br>money <br>guy <br>\"], [4, -6.279688358306885, 9.376289367675781, 8.447184562683105, \"jack <br>ace <br>adam <br>camera <br>mile <br>price <br>ma <br>bloom <br>alike <br>apartment <br>v.o <br>yeah <br>phone <br>hotel <br>cut int <br>to <br>okay <br>telephone <br>money <br>guy <br>\"], [4, -7.081489562988281, 9.172412872314453, 9.646921157836914, \"jack <br>ace <br>adam <br>camera <br>mile <br>price <br>ma <br>bloom <br>alike <br>apartment <br>v.o <br>yeah <br>phone <br>hotel <br>cut int <br>to <br>okay <br>telephone <br>money <br>guy <br>\"], [4, -7.634933948516846, 9.618156433105469, 9.510843276977539, \"jack <br>ace <br>adam <br>camera <br>mile <br>price <br>ma <br>bloom <br>alike <br>apartment <br>v.o <br>yeah <br>phone <br>hotel <br>cut int <br>to <br>okay <br>telephone <br>money <br>guy <br>\"], [4, -6.3075408935546875, 9.230854034423828, 8.254379272460938, \"jack <br>ace <br>adam <br>camera <br>mile <br>price <br>ma <br>bloom <br>alike <br>apartment <br>v.o <br>yeah <br>phone <br>hotel <br>cut int <br>to <br>okay <br>telephone <br>money <br>guy <br>\"], [4, -7.85377311706543, 9.826217651367188, 9.93472671508789, \"jack <br>ace <br>adam <br>camera <br>mile <br>price <br>ma <br>bloom <br>alike <br>apartment <br>v.o <br>yeah <br>phone <br>hotel <br>cut int <br>to <br>okay <br>telephone <br>money <br>guy <br>\"], [4, -6.392448902130127, 7.663220405578613, 6.781622886657715, \"jack <br>ace <br>adam <br>camera <br>mile <br>price <br>ma <br>bloom <br>alike <br>apartment <br>v.o <br>yeah <br>phone <br>hotel <br>cut int <br>to <br>okay <br>telephone <br>money <br>guy <br>\"], [4, -7.472623825073242, 9.44745922088623, 9.476884841918945, \"jack <br>ace <br>adam <br>camera <br>mile <br>price <br>ma <br>bloom <br>alike <br>apartment <br>v.o <br>yeah <br>phone <br>hotel <br>cut int <br>to <br>okay <br>telephone <br>money <br>guy <br>\"], [4, -6.346491813659668, 7.747242450714111, 6.912530899047852, \"jack <br>ace <br>adam <br>camera <br>mile <br>price <br>ma <br>bloom <br>alike <br>apartment <br>v.o <br>yeah <br>phone <br>hotel <br>cut int <br>to <br>okay <br>telephone <br>money <br>guy <br>\"], [4, -7.396313190460205, 9.278122901916504, 8.923927307128906, \"jack <br>ace <br>adam <br>camera <br>mile <br>price <br>ma <br>bloom <br>alike <br>apartment <br>v.o <br>yeah <br>phone <br>hotel <br>cut int <br>to <br>okay <br>telephone <br>money <br>guy <br>\"], [4, -5.775644302368164, 8.562297821044922, 7.456472873687744, \"jack <br>ace <br>adam <br>camera <br>mile <br>price <br>ma <br>bloom <br>alike <br>apartment <br>v.o <br>yeah <br>phone <br>hotel <br>cut int <br>to <br>okay <br>telephone <br>money <br>guy <br>\"], [4, -7.12559175491333, 8.53721809387207, 7.865501880645752, \"jack <br>ace <br>adam <br>camera <br>mile <br>price <br>ma <br>bloom <br>alike <br>apartment <br>v.o <br>yeah <br>phone <br>hotel <br>cut int <br>to <br>okay <br>telephone <br>money <br>guy <br>\"], [4, -5.547668933868408, 9.193156242370605, 7.92691707611084, \"jack <br>ace <br>adam <br>camera <br>mile <br>price <br>ma <br>bloom <br>alike <br>apartment <br>v.o <br>yeah <br>phone <br>hotel <br>cut int <br>to <br>okay <br>telephone <br>money <br>guy <br>\"], [4, -6.048357963562012, 7.934023857116699, 6.9885993003845215, \"jack <br>ace <br>adam <br>camera <br>mile <br>price <br>ma <br>bloom <br>alike <br>apartment <br>v.o <br>yeah <br>phone <br>hotel <br>cut int <br>to <br>okay <br>telephone <br>money <br>guy <br>\"], [4, -7.810037612915039, 9.656100273132324, 8.205290794372559, \"jack <br>ace <br>adam <br>camera <br>mile <br>price <br>ma <br>bloom <br>alike <br>apartment <br>v.o <br>yeah <br>phone <br>hotel <br>cut int <br>to <br>okay <br>telephone <br>money <br>guy <br>\"], [4, -7.333704471588135, 9.753978729248047, 9.344776153564453, \"jack <br>ace <br>adam <br>camera <br>mile <br>price <br>ma <br>bloom <br>alike <br>apartment <br>v.o <br>yeah <br>phone <br>hotel <br>cut int <br>to <br>okay <br>telephone <br>money <br>guy <br>\"], [4, -5.243413925170898, 8.506014823913574, 7.901357650756836, \"jack <br>ace <br>adam <br>camera <br>mile <br>price <br>ma <br>bloom <br>alike <br>apartment <br>v.o <br>yeah <br>phone <br>hotel <br>cut int <br>to <br>okay <br>telephone <br>money <br>guy <br>\"], [4, -7.057484149932861, 9.27746868133545, 8.768702507019043, \"jack <br>ace <br>adam <br>camera <br>mile <br>price <br>ma <br>bloom <br>alike <br>apartment <br>v.o <br>yeah <br>phone <br>hotel <br>cut int <br>to <br>okay <br>telephone <br>money <br>guy <br>\"], [4, -6.901804447174072, 10.098153114318848, 9.005455017089844, \"jack <br>ace <br>adam <br>camera <br>mile <br>price <br>ma <br>bloom <br>alike <br>apartment <br>v.o <br>yeah <br>phone <br>hotel <br>cut int <br>to <br>okay <br>telephone <br>money <br>guy <br>\"], [4, -5.622654914855957, 8.473827362060547, 7.454720497131348, \"jack <br>ace <br>adam <br>camera <br>mile <br>price <br>ma <br>bloom <br>alike <br>apartment <br>v.o <br>yeah <br>phone <br>hotel <br>cut int <br>to <br>okay <br>telephone <br>money <br>guy <br>\"], [4, -6.443532943725586, 7.484720230102539, 7.726707935333252, \"jack <br>ace <br>adam <br>camera <br>mile <br>price <br>ma <br>bloom <br>alike <br>apartment <br>v.o <br>yeah <br>phone <br>hotel <br>cut int <br>to <br>okay <br>telephone <br>money <br>guy <br>\"]], \"mode\": \"markers\", \"showlegend\": false, \"type\": \"scatter3d\", \"x\": [-7.229425430297852, -7.531777381896973, -6.279688358306885, -7.081489562988281, -7.634933948516846, -6.3075408935546875, -7.85377311706543, -6.392448902130127, -7.472623825073242, -6.346491813659668, -7.396313190460205, -5.775644302368164, -7.12559175491333, -5.547668933868408, -6.048357963562012, -7.810037612915039, -7.333704471588135, -5.243413925170898, -7.057484149932861, -6.901804447174072, -5.622654914855957, -6.443532943725586], \"y\": [9.253779411315918, 9.215408325195312, 9.376289367675781, 9.172412872314453, 9.618156433105469, 9.230854034423828, 9.826217651367188, 7.663220405578613, 9.44745922088623, 7.747242450714111, 9.278122901916504, 8.562297821044922, 8.53721809387207, 9.193156242370605, 7.934023857116699, 9.656100273132324, 9.753978729248047, 8.506014823913574, 9.27746868133545, 10.098153114318848, 8.473827362060547, 7.484720230102539], \"z\": [9.085867881774902, 7.877636432647705, 8.447184562683105, 9.646921157836914, 9.510843276977539, 8.254379272460938, 9.93472671508789, 6.781622886657715, 9.476884841918945, 6.912530899047852, 8.923927307128906, 7.456472873687744, 7.865501880645752, 7.92691707611084, 6.9885993003845215, 8.205290794372559, 9.344776153564453, 7.901357650756836, 8.768702507019043, 9.005455017089844, 7.454720497131348, 7.726707935333252]}, {\"hovertemplate\": \"%{meta[4]}<extra></extra>\", \"meta\": [[5, 3.547712564468384, -5.067800045013428, -0.18972645699977875, \"ship <br>tommy <br>sir <br>johnny <br>space <br>control <br>captain <br>bridge <br>angle <br>grant <br>x <br>pilot <br>president <br>power <br>west <br>screen <br>plane <br>deck <br>smith <br>dr <br>\"], [5, 2.8282089233398438, -5.245742321014404, 3.2495837211608887, \"ship <br>tommy <br>sir <br>johnny <br>space <br>control <br>captain <br>bridge <br>angle <br>grant <br>x <br>pilot <br>president <br>power <br>west <br>screen <br>plane <br>deck <br>smith <br>dr <br>\"], [5, 3.9492523670196533, -4.936412811279297, -0.3502214252948761, \"ship <br>tommy <br>sir <br>johnny <br>space <br>control <br>captain <br>bridge <br>angle <br>grant <br>x <br>pilot <br>president <br>power <br>west <br>screen <br>plane <br>deck <br>smith <br>dr <br>\"], [5, 2.0130436420440674, -6.709551811218262, 0.9523513317108154, \"ship <br>tommy <br>sir <br>johnny <br>space <br>control <br>captain <br>bridge <br>angle <br>grant <br>x <br>pilot <br>president <br>power <br>west <br>screen <br>plane <br>deck <br>smith <br>dr <br>\"], [5, 3.8208742141723633, -4.008091449737549, 1.6709716320037842, \"ship <br>tommy <br>sir <br>johnny <br>space <br>control <br>captain <br>bridge <br>angle <br>grant <br>x <br>pilot <br>president <br>power <br>west <br>screen <br>plane <br>deck <br>smith <br>dr <br>\"], [5, 2.5405495166778564, -5.5127034187316895, 2.4864611625671387, \"ship <br>tommy <br>sir <br>johnny <br>space <br>control <br>captain <br>bridge <br>angle <br>grant <br>x <br>pilot <br>president <br>power <br>west <br>screen <br>plane <br>deck <br>smith <br>dr <br>\"], [5, 2.3240702152252197, -3.2317121028900146, 1.833185076713562, \"ship <br>tommy <br>sir <br>johnny <br>space <br>control <br>captain <br>bridge <br>angle <br>grant <br>x <br>pilot <br>president <br>power <br>west <br>screen <br>plane <br>deck <br>smith <br>dr <br>\"], [5, 1.3121196031570435, -6.992545127868652, 3.4322614669799805, \"ship <br>tommy <br>sir <br>johnny <br>space <br>control <br>captain <br>bridge <br>angle <br>grant <br>x <br>pilot <br>president <br>power <br>west <br>screen <br>plane <br>deck <br>smith <br>dr <br>\"], [5, 2.131636619567871, -2.960115671157837, 1.6029353141784668, \"ship <br>tommy <br>sir <br>johnny <br>space <br>control <br>captain <br>bridge <br>angle <br>grant <br>x <br>pilot <br>president <br>power <br>west <br>screen <br>plane <br>deck <br>smith <br>dr <br>\"], [5, 1.9983766078948975, -6.695428848266602, 1.3263661861419678, \"ship <br>tommy <br>sir <br>johnny <br>space <br>control <br>captain <br>bridge <br>angle <br>grant <br>x <br>pilot <br>president <br>power <br>west <br>screen <br>plane <br>deck <br>smith <br>dr <br>\"], [5, 0.09774907678365707, -5.558743000030518, 2.1601762771606445, \"ship <br>tommy <br>sir <br>johnny <br>space <br>control <br>captain <br>bridge <br>angle <br>grant <br>x <br>pilot <br>president <br>power <br>west <br>screen <br>plane <br>deck <br>smith <br>dr <br>\"], [5, 3.1254429817199707, -7.580899715423584, 2.8015313148498535, \"ship <br>tommy <br>sir <br>johnny <br>space <br>control <br>captain <br>bridge <br>angle <br>grant <br>x <br>pilot <br>president <br>power <br>west <br>screen <br>plane <br>deck <br>smith <br>dr <br>\"], [5, 3.761178970336914, -6.272369861602783, 2.8039662837982178, \"ship <br>tommy <br>sir <br>johnny <br>space <br>control <br>captain <br>bridge <br>angle <br>grant <br>x <br>pilot <br>president <br>power <br>west <br>screen <br>plane <br>deck <br>smith <br>dr <br>\"], [5, 3.3547441959381104, -5.987918853759766, 2.4830636978149414, \"ship <br>tommy <br>sir <br>johnny <br>space <br>control <br>captain <br>bridge <br>angle <br>grant <br>x <br>pilot <br>president <br>power <br>west <br>screen <br>plane <br>deck <br>smith <br>dr <br>\"], [5, 1.3569741249084473, -3.383432626724243, 1.4800482988357544, \"ship <br>tommy <br>sir <br>johnny <br>space <br>control <br>captain <br>bridge <br>angle <br>grant <br>x <br>pilot <br>president <br>power <br>west <br>screen <br>plane <br>deck <br>smith <br>dr <br>\"], [5, 1.6159433126449585, -3.3715388774871826, 1.2838413715362549, \"ship <br>tommy <br>sir <br>johnny <br>space <br>control <br>captain <br>bridge <br>angle <br>grant <br>x <br>pilot <br>president <br>power <br>west <br>screen <br>plane <br>deck <br>smith <br>dr <br>\"], [5, 3.5238656997680664, -4.842329025268555, 0.40332409739494324, \"ship <br>tommy <br>sir <br>johnny <br>space <br>control <br>captain <br>bridge <br>angle <br>grant <br>x <br>pilot <br>president <br>power <br>west <br>screen <br>plane <br>deck <br>smith <br>dr <br>\"], [5, 2.6190390586853027, -6.659812927246094, 3.4425361156463623, \"ship <br>tommy <br>sir <br>johnny <br>space <br>control <br>captain <br>bridge <br>angle <br>grant <br>x <br>pilot <br>president <br>power <br>west <br>screen <br>plane <br>deck <br>smith <br>dr <br>\"], [5, 3.1283349990844727, -6.293751239776611, 2.625105142593384, \"ship <br>tommy <br>sir <br>johnny <br>space <br>control <br>captain <br>bridge <br>angle <br>grant <br>x <br>pilot <br>president <br>power <br>west <br>screen <br>plane <br>deck <br>smith <br>dr <br>\"], [5, 0.1130140945315361, -5.545353412628174, 2.1638078689575195, \"ship <br>tommy <br>sir <br>johnny <br>space <br>control <br>captain <br>bridge <br>angle <br>grant <br>x <br>pilot <br>president <br>power <br>west <br>screen <br>plane <br>deck <br>smith <br>dr <br>\"], [5, 3.73374605178833, -6.092761516571045, 3.864100694656372, \"ship <br>tommy <br>sir <br>johnny <br>space <br>control <br>captain <br>bridge <br>angle <br>grant <br>x <br>pilot <br>president <br>power <br>west <br>screen <br>plane <br>deck <br>smith <br>dr <br>\"], [5, 0.696773886680603, -3.964089870452881, 1.8003774881362915, \"ship <br>tommy <br>sir <br>johnny <br>space <br>control <br>captain <br>bridge <br>angle <br>grant <br>x <br>pilot <br>president <br>power <br>west <br>screen <br>plane <br>deck <br>smith <br>dr <br>\"], [5, 2.028135061264038, -2.5326054096221924, 2.1138362884521484, \"ship <br>tommy <br>sir <br>johnny <br>space <br>control <br>captain <br>bridge <br>angle <br>grant <br>x <br>pilot <br>president <br>power <br>west <br>screen <br>plane <br>deck <br>smith <br>dr <br>\"], [5, 2.3171191215515137, -6.097367286682129, 4.423567295074463, \"ship <br>tommy <br>sir <br>johnny <br>space <br>control <br>captain <br>bridge <br>angle <br>grant <br>x <br>pilot <br>president <br>power <br>west <br>screen <br>plane <br>deck <br>smith <br>dr <br>\"], [5, 3.851630449295044, -6.548130035400391, 3.8015754222869873, \"ship <br>tommy <br>sir <br>johnny <br>space <br>control <br>captain <br>bridge <br>angle <br>grant <br>x <br>pilot <br>president <br>power <br>west <br>screen <br>plane <br>deck <br>smith <br>dr <br>\"], [5, 1.2136260271072388, -2.5227127075195312, 1.592167854309082, \"ship <br>tommy <br>sir <br>johnny <br>space <br>control <br>captain <br>bridge <br>angle <br>grant <br>x <br>pilot <br>president <br>power <br>west <br>screen <br>plane <br>deck <br>smith <br>dr <br>\"], [5, 2.6620171070098877, -6.875125408172607, 2.475543975830078, \"ship <br>tommy <br>sir <br>johnny <br>space <br>control <br>captain <br>bridge <br>angle <br>grant <br>x <br>pilot <br>president <br>power <br>west <br>screen <br>plane <br>deck <br>smith <br>dr <br>\"], [5, 3.241865873336792, -7.447629451751709, 2.9887969493865967, \"ship <br>tommy <br>sir <br>johnny <br>space <br>control <br>captain <br>bridge <br>angle <br>grant <br>x <br>pilot <br>president <br>power <br>west <br>screen <br>plane <br>deck <br>smith <br>dr <br>\"], [5, 2.916010856628418, -7.001242637634277, 3.1907525062561035, \"ship <br>tommy <br>sir <br>johnny <br>space <br>control <br>captain <br>bridge <br>angle <br>grant <br>x <br>pilot <br>president <br>power <br>west <br>screen <br>plane <br>deck <br>smith <br>dr <br>\"], [5, 1.2085561752319336, -3.5305655002593994, 1.79530668258667, \"ship <br>tommy <br>sir <br>johnny <br>space <br>control <br>captain <br>bridge <br>angle <br>grant <br>x <br>pilot <br>president <br>power <br>west <br>screen <br>plane <br>deck <br>smith <br>dr <br>\"], [5, 2.575556993484497, -4.808353900909424, 1.6512421369552612, \"ship <br>tommy <br>sir <br>johnny <br>space <br>control <br>captain <br>bridge <br>angle <br>grant <br>x <br>pilot <br>president <br>power <br>west <br>screen <br>plane <br>deck <br>smith <br>dr <br>\"], [5, 4.001689434051514, -6.673446178436279, 3.4322144985198975, \"ship <br>tommy <br>sir <br>johnny <br>space <br>control <br>captain <br>bridge <br>angle <br>grant <br>x <br>pilot <br>president <br>power <br>west <br>screen <br>plane <br>deck <br>smith <br>dr <br>\"], [5, 3.133333444595337, -6.064582824707031, 3.269214630126953, \"ship <br>tommy <br>sir <br>johnny <br>space <br>control <br>captain <br>bridge <br>angle <br>grant <br>x <br>pilot <br>president <br>power <br>west <br>screen <br>plane <br>deck <br>smith <br>dr <br>\"], [5, 1.2184745073318481, -3.9370176792144775, 3.5812883377075195, \"ship <br>tommy <br>sir <br>johnny <br>space <br>control <br>captain <br>bridge <br>angle <br>grant <br>x <br>pilot <br>president <br>power <br>west <br>screen <br>plane <br>deck <br>smith <br>dr <br>\"], [5, 2.2455756664276123, -3.9367833137512207, 2.4019012451171875, \"ship <br>tommy <br>sir <br>johnny <br>space <br>control <br>captain <br>bridge <br>angle <br>grant <br>x <br>pilot <br>president <br>power <br>west <br>screen <br>plane <br>deck <br>smith <br>dr <br>\"], [5, 1.8965201377868652, -6.8125810623168945, 1.249457597732544, \"ship <br>tommy <br>sir <br>johnny <br>space <br>control <br>captain <br>bridge <br>angle <br>grant <br>x <br>pilot <br>president <br>power <br>west <br>screen <br>plane <br>deck <br>smith <br>dr <br>\"], [5, 2.3450562953948975, -3.8616480827331543, 2.306273937225342, \"ship <br>tommy <br>sir <br>johnny <br>space <br>control <br>captain <br>bridge <br>angle <br>grant <br>x <br>pilot <br>president <br>power <br>west <br>screen <br>plane <br>deck <br>smith <br>dr <br>\"], [5, 3.287966012954712, -5.081790924072266, -0.4173879623413086, \"ship <br>tommy <br>sir <br>johnny <br>space <br>control <br>captain <br>bridge <br>angle <br>grant <br>x <br>pilot <br>president <br>power <br>west <br>screen <br>plane <br>deck <br>smith <br>dr <br>\"], [5, 2.6206209659576416, -5.423794746398926, -0.28059327602386475, \"ship <br>tommy <br>sir <br>johnny <br>space <br>control <br>captain <br>bridge <br>angle <br>grant <br>x <br>pilot <br>president <br>power <br>west <br>screen <br>plane <br>deck <br>smith <br>dr <br>\"], [5, 1.2953193187713623, -6.074783802032471, 0.8526400923728943, \"ship <br>tommy <br>sir <br>johnny <br>space <br>control <br>captain <br>bridge <br>angle <br>grant <br>x <br>pilot <br>president <br>power <br>west <br>screen <br>plane <br>deck <br>smith <br>dr <br>\"], [5, 2.855477809906006, -6.352893829345703, 2.065366268157959, \"ship <br>tommy <br>sir <br>johnny <br>space <br>control <br>captain <br>bridge <br>angle <br>grant <br>x <br>pilot <br>president <br>power <br>west <br>screen <br>plane <br>deck <br>smith <br>dr <br>\"], [5, 1.5646253824234009, -6.165132522583008, 4.204005718231201, \"ship <br>tommy <br>sir <br>johnny <br>space <br>control <br>captain <br>bridge <br>angle <br>grant <br>x <br>pilot <br>president <br>power <br>west <br>screen <br>plane <br>deck <br>smith <br>dr <br>\"], [5, 2.3003623485565186, -4.745262622833252, 2.774005889892578, \"ship <br>tommy <br>sir <br>johnny <br>space <br>control <br>captain <br>bridge <br>angle <br>grant <br>x <br>pilot <br>president <br>power <br>west <br>screen <br>plane <br>deck <br>smith <br>dr <br>\"], [5, 1.3274779319763184, -6.9781646728515625, 3.4193613529205322, \"ship <br>tommy <br>sir <br>johnny <br>space <br>control <br>captain <br>bridge <br>angle <br>grant <br>x <br>pilot <br>president <br>power <br>west <br>screen <br>plane <br>deck <br>smith <br>dr <br>\"]], \"mode\": \"markers\", \"showlegend\": false, \"type\": \"scatter3d\", \"x\": [3.547712564468384, 2.8282089233398438, 3.9492523670196533, 2.0130436420440674, 3.8208742141723633, 2.5405495166778564, 2.3240702152252197, 1.3121196031570435, 2.131636619567871, 1.9983766078948975, 0.09774907678365707, 3.1254429817199707, 3.761178970336914, 3.3547441959381104, 1.3569741249084473, 1.6159433126449585, 3.5238656997680664, 2.6190390586853027, 3.1283349990844727, 0.1130140945315361, 3.73374605178833, 0.696773886680603, 2.028135061264038, 2.3171191215515137, 3.851630449295044, 1.2136260271072388, 2.6620171070098877, 3.241865873336792, 2.916010856628418, 1.2085561752319336, 2.575556993484497, 4.001689434051514, 3.133333444595337, 1.2184745073318481, 2.2455756664276123, 1.8965201377868652, 2.3450562953948975, 3.287966012954712, 2.6206209659576416, 1.2953193187713623, 2.855477809906006, 1.5646253824234009, 2.3003623485565186, 1.3274779319763184], \"y\": [-5.067800045013428, -5.245742321014404, -4.936412811279297, -6.709551811218262, -4.008091449737549, -5.5127034187316895, -3.2317121028900146, -6.992545127868652, -2.960115671157837, -6.695428848266602, -5.558743000030518, -7.580899715423584, -6.272369861602783, -5.987918853759766, -3.383432626724243, -3.3715388774871826, -4.842329025268555, -6.659812927246094, -6.293751239776611, -5.545353412628174, -6.092761516571045, -3.964089870452881, -2.5326054096221924, -6.097367286682129, -6.548130035400391, -2.5227127075195312, -6.875125408172607, -7.447629451751709, -7.001242637634277, -3.5305655002593994, -4.808353900909424, -6.673446178436279, -6.064582824707031, -3.9370176792144775, -3.9367833137512207, -6.8125810623168945, -3.8616480827331543, -5.081790924072266, -5.423794746398926, -6.074783802032471, -6.352893829345703, -6.165132522583008, -4.745262622833252, -6.9781646728515625], \"z\": [-0.18972645699977875, 3.2495837211608887, -0.3502214252948761, 0.9523513317108154, 1.6709716320037842, 2.4864611625671387, 1.833185076713562, 3.4322614669799805, 1.6029353141784668, 1.3263661861419678, 2.1601762771606445, 2.8015313148498535, 2.8039662837982178, 2.4830636978149414, 1.4800482988357544, 1.2838413715362549, 0.40332409739494324, 3.4425361156463623, 2.625105142593384, 2.1638078689575195, 3.864100694656372, 1.8003774881362915, 2.1138362884521484, 4.423567295074463, 3.8015754222869873, 1.592167854309082, 2.475543975830078, 2.9887969493865967, 3.1907525062561035, 1.79530668258667, 1.6512421369552612, 3.4322144985198975, 3.269214630126953, 3.5812883377075195, 2.4019012451171875, 1.249457597732544, 2.306273937225342, -0.4173879623413086, -0.28059327602386475, 0.8526400923728943, 2.065366268157959, 4.204005718231201, 2.774005889892578, 3.4193613529205322]}, {\"hovertemplate\": \"%{meta[4]}<extra></extra>\", \"meta\": [[6, 2.0249862670898438, -1.710909128189087, -6.17055606842041, \"horse <br>soldier <br>master <br>hawk <br>easy <br>ride <br>sir <br>gun <br>captain <br>priest <br>war <br>guard <br>ash <br>german <br>v.o <br>father <br>army <br>river <br>general <br>rifle <br>\"], [6, 0.9833789467811584, -1.8350824117660522, -10.261882781982422, \"horse <br>soldier <br>master <br>hawk <br>easy <br>ride <br>sir <br>gun <br>captain <br>priest <br>war <br>guard <br>ash <br>german <br>v.o <br>father <br>army <br>river <br>general <br>rifle <br>\"], [6, 3.6412250995635986, -2.3229215145111084, -10.263427734375, \"horse <br>soldier <br>master <br>hawk <br>easy <br>ride <br>sir <br>gun <br>captain <br>priest <br>war <br>guard <br>ash <br>german <br>v.o <br>father <br>army <br>river <br>general <br>rifle <br>\"], [6, 3.1436104774475098, -1.3797335624694824, -10.319595336914062, \"horse <br>soldier <br>master <br>hawk <br>easy <br>ride <br>sir <br>gun <br>captain <br>priest <br>war <br>guard <br>ash <br>german <br>v.o <br>father <br>army <br>river <br>general <br>rifle <br>\"], [6, 3.413222074508667, -1.9583150148391724, -9.873574256896973, \"horse <br>soldier <br>master <br>hawk <br>easy <br>ride <br>sir <br>gun <br>captain <br>priest <br>war <br>guard <br>ash <br>german <br>v.o <br>father <br>army <br>river <br>general <br>rifle <br>\"], [6, 2.256143093109131, -2.009312629699707, -7.69274377822876, \"horse <br>soldier <br>master <br>hawk <br>easy <br>ride <br>sir <br>gun <br>captain <br>priest <br>war <br>guard <br>ash <br>german <br>v.o <br>father <br>army <br>river <br>general <br>rifle <br>\"], [6, 0.6407160758972168, -1.7593975067138672, -10.480406761169434, \"horse <br>soldier <br>master <br>hawk <br>easy <br>ride <br>sir <br>gun <br>captain <br>priest <br>war <br>guard <br>ash <br>german <br>v.o <br>father <br>army <br>river <br>general <br>rifle <br>\"], [6, 1.5645745992660522, -1.3264107704162598, -5.327952861785889, \"horse <br>soldier <br>master <br>hawk <br>easy <br>ride <br>sir <br>gun <br>captain <br>priest <br>war <br>guard <br>ash <br>german <br>v.o <br>father <br>army <br>river <br>general <br>rifle <br>\"], [6, 2.9543497562408447, -0.11906203627586365, -9.457996368408203, \"horse <br>soldier <br>master <br>hawk <br>easy <br>ride <br>sir <br>gun <br>captain <br>priest <br>war <br>guard <br>ash <br>german <br>v.o <br>father <br>army <br>river <br>general <br>rifle <br>\"], [6, 2.9753928184509277, -0.25870072841644287, -9.556229591369629, \"horse <br>soldier <br>master <br>hawk <br>easy <br>ride <br>sir <br>gun <br>captain <br>priest <br>war <br>guard <br>ash <br>german <br>v.o <br>father <br>army <br>river <br>general <br>rifle <br>\"], [6, 1.839059829711914, -4.196485996246338, -10.891456604003906, \"horse <br>soldier <br>master <br>hawk <br>easy <br>ride <br>sir <br>gun <br>captain <br>priest <br>war <br>guard <br>ash <br>german <br>v.o <br>father <br>army <br>river <br>general <br>rifle <br>\"], [6, 2.786269187927246, -2.498779773712158, -9.398168563842773, \"horse <br>soldier <br>master <br>hawk <br>easy <br>ride <br>sir <br>gun <br>captain <br>priest <br>war <br>guard <br>ash <br>german <br>v.o <br>father <br>army <br>river <br>general <br>rifle <br>\"], [6, 1.641103744506836, -1.8379828929901123, -8.498656272888184, \"horse <br>soldier <br>master <br>hawk <br>easy <br>ride <br>sir <br>gun <br>captain <br>priest <br>war <br>guard <br>ash <br>german <br>v.o <br>father <br>army <br>river <br>general <br>rifle <br>\"], [6, 2.0535030364990234, -1.8634504079818726, -7.465235233306885, \"horse <br>soldier <br>master <br>hawk <br>easy <br>ride <br>sir <br>gun <br>captain <br>priest <br>war <br>guard <br>ash <br>german <br>v.o <br>father <br>army <br>river <br>general <br>rifle <br>\"], [6, 3.1323606967926025, -0.8048408627510071, -10.372958183288574, \"horse <br>soldier <br>master <br>hawk <br>easy <br>ride <br>sir <br>gun <br>captain <br>priest <br>war <br>guard <br>ash <br>german <br>v.o <br>father <br>army <br>river <br>general <br>rifle <br>\"], [6, 1.6019471883773804, -2.8235788345336914, -8.296642303466797, \"horse <br>soldier <br>master <br>hawk <br>easy <br>ride <br>sir <br>gun <br>captain <br>priest <br>war <br>guard <br>ash <br>german <br>v.o <br>father <br>army <br>river <br>general <br>rifle <br>\"], [6, 0.12078623473644257, -0.7768450379371643, -8.222152709960938, \"horse <br>soldier <br>master <br>hawk <br>easy <br>ride <br>sir <br>gun <br>captain <br>priest <br>war <br>guard <br>ash <br>german <br>v.o <br>father <br>army <br>river <br>general <br>rifle <br>\"], [6, 2.1836915016174316, -1.7731280326843262, -7.244663238525391, \"horse <br>soldier <br>master <br>hawk <br>easy <br>ride <br>sir <br>gun <br>captain <br>priest <br>war <br>guard <br>ash <br>german <br>v.o <br>father <br>army <br>river <br>general <br>rifle <br>\"], [6, 1.7988070249557495, -1.1126357316970825, -7.043910503387451, \"horse <br>soldier <br>master <br>hawk <br>easy <br>ride <br>sir <br>gun <br>captain <br>priest <br>war <br>guard <br>ash <br>german <br>v.o <br>father <br>army <br>river <br>general <br>rifle <br>\"], [6, 2.171837329864502, -2.2903077602386475, -8.966824531555176, \"horse <br>soldier <br>master <br>hawk <br>easy <br>ride <br>sir <br>gun <br>captain <br>priest <br>war <br>guard <br>ash <br>german <br>v.o <br>father <br>army <br>river <br>general <br>rifle <br>\"], [6, 3.6617939472198486, -1.5577970743179321, -9.10706615447998, \"horse <br>soldier <br>master <br>hawk <br>easy <br>ride <br>sir <br>gun <br>captain <br>priest <br>war <br>guard <br>ash <br>german <br>v.o <br>father <br>army <br>river <br>general <br>rifle <br>\"], [6, 1.7032502889633179, -3.564159870147705, -7.478553771972656, \"horse <br>soldier <br>master <br>hawk <br>easy <br>ride <br>sir <br>gun <br>captain <br>priest <br>war <br>guard <br>ash <br>german <br>v.o <br>father <br>army <br>river <br>general <br>rifle <br>\"], [6, 3.7042927742004395, -0.7257009148597717, -8.661391258239746, \"horse <br>soldier <br>master <br>hawk <br>easy <br>ride <br>sir <br>gun <br>captain <br>priest <br>war <br>guard <br>ash <br>german <br>v.o <br>father <br>army <br>river <br>general <br>rifle <br>\"], [6, 2.5485241413116455, -2.0268616676330566, -9.171468734741211, \"horse <br>soldier <br>master <br>hawk <br>easy <br>ride <br>sir <br>gun <br>captain <br>priest <br>war <br>guard <br>ash <br>german <br>v.o <br>father <br>army <br>river <br>general <br>rifle <br>\"], [6, 3.2506580352783203, -1.907828688621521, -9.6044282913208, \"horse <br>soldier <br>master <br>hawk <br>easy <br>ride <br>sir <br>gun <br>captain <br>priest <br>war <br>guard <br>ash <br>german <br>v.o <br>father <br>army <br>river <br>general <br>rifle <br>\"], [6, 1.2678292989730835, -2.4389309883117676, -8.596181869506836, \"horse <br>soldier <br>master <br>hawk <br>easy <br>ride <br>sir <br>gun <br>captain <br>priest <br>war <br>guard <br>ash <br>german <br>v.o <br>father <br>army <br>river <br>general <br>rifle <br>\"], [6, 1.0081943273544312, -1.8082170486450195, -10.156773567199707, \"horse <br>soldier <br>master <br>hawk <br>easy <br>ride <br>sir <br>gun <br>captain <br>priest <br>war <br>guard <br>ash <br>german <br>v.o <br>father <br>army <br>river <br>general <br>rifle <br>\"], [6, 3.137144088745117, 0.5110464096069336, -9.2537260055542, \"horse <br>soldier <br>master <br>hawk <br>easy <br>ride <br>sir <br>gun <br>captain <br>priest <br>war <br>guard <br>ash <br>german <br>v.o <br>father <br>army <br>river <br>general <br>rifle <br>\"], [6, 0.40240320563316345, -0.7547740340232849, -8.163057327270508, \"horse <br>soldier <br>master <br>hawk <br>easy <br>ride <br>sir <br>gun <br>captain <br>priest <br>war <br>guard <br>ash <br>german <br>v.o <br>father <br>army <br>river <br>general <br>rifle <br>\"], [6, 1.4773582220077515, -2.167501211166382, -9.368453025817871, \"horse <br>soldier <br>master <br>hawk <br>easy <br>ride <br>sir <br>gun <br>captain <br>priest <br>war <br>guard <br>ash <br>german <br>v.o <br>father <br>army <br>river <br>general <br>rifle <br>\"], [6, 3.0355024337768555, -2.1051218509674072, -10.156088829040527, \"horse <br>soldier <br>master <br>hawk <br>easy <br>ride <br>sir <br>gun <br>captain <br>priest <br>war <br>guard <br>ash <br>german <br>v.o <br>father <br>army <br>river <br>general <br>rifle <br>\"], [6, 3.804368734359741, -2.617793083190918, -10.206388473510742, \"horse <br>soldier <br>master <br>hawk <br>easy <br>ride <br>sir <br>gun <br>captain <br>priest <br>war <br>guard <br>ash <br>german <br>v.o <br>father <br>army <br>river <br>general <br>rifle <br>\"], [6, 2.0714852809906006, -2.332160234451294, -9.14901065826416, \"horse <br>soldier <br>master <br>hawk <br>easy <br>ride <br>sir <br>gun <br>captain <br>priest <br>war <br>guard <br>ash <br>german <br>v.o <br>father <br>army <br>river <br>general <br>rifle <br>\"], [6, 2.1779119968414307, -0.33677682280540466, -7.595393180847168, \"horse <br>soldier <br>master <br>hawk <br>easy <br>ride <br>sir <br>gun <br>captain <br>priest <br>war <br>guard <br>ash <br>german <br>v.o <br>father <br>army <br>river <br>general <br>rifle <br>\"], [6, 3.925856828689575, -2.6014394760131836, -10.349029541015625, \"horse <br>soldier <br>master <br>hawk <br>easy <br>ride <br>sir <br>gun <br>captain <br>priest <br>war <br>guard <br>ash <br>german <br>v.o <br>father <br>army <br>river <br>general <br>rifle <br>\"], [6, 1.814968228340149, -4.214961528778076, -10.889991760253906, \"horse <br>soldier <br>master <br>hawk <br>easy <br>ride <br>sir <br>gun <br>captain <br>priest <br>war <br>guard <br>ash <br>german <br>v.o <br>father <br>army <br>river <br>general <br>rifle <br>\"], [6, 2.962205648422241, -0.12042460590600967, -9.95296573638916, \"horse <br>soldier <br>master <br>hawk <br>easy <br>ride <br>sir <br>gun <br>captain <br>priest <br>war <br>guard <br>ash <br>german <br>v.o <br>father <br>army <br>river <br>general <br>rifle <br>\"], [6, 1.741636037826538, -1.0912888050079346, -6.993844985961914, \"horse <br>soldier <br>master <br>hawk <br>easy <br>ride <br>sir <br>gun <br>captain <br>priest <br>war <br>guard <br>ash <br>german <br>v.o <br>father <br>army <br>river <br>general <br>rifle <br>\"], [6, 3.200860023498535, -0.8964506387710571, -10.578932762145996, \"horse <br>soldier <br>master <br>hawk <br>easy <br>ride <br>sir <br>gun <br>captain <br>priest <br>war <br>guard <br>ash <br>german <br>v.o <br>father <br>army <br>river <br>general <br>rifle <br>\"], [6, 2.6291720867156982, 1.3585740327835083, -7.803882598876953, \"horse <br>soldier <br>master <br>hawk <br>easy <br>ride <br>sir <br>gun <br>captain <br>priest <br>war <br>guard <br>ash <br>german <br>v.o <br>father <br>army <br>river <br>general <br>rifle <br>\"]], \"mode\": \"markers\", \"showlegend\": false, \"type\": \"scatter3d\", \"x\": [2.0249862670898438, 0.9833789467811584, 3.6412250995635986, 3.1436104774475098, 3.413222074508667, 2.256143093109131, 0.6407160758972168, 1.5645745992660522, 2.9543497562408447, 2.9753928184509277, 1.839059829711914, 2.786269187927246, 1.641103744506836, 2.0535030364990234, 3.1323606967926025, 1.6019471883773804, 0.12078623473644257, 2.1836915016174316, 1.7988070249557495, 2.171837329864502, 3.6617939472198486, 1.7032502889633179, 3.7042927742004395, 2.5485241413116455, 3.2506580352783203, 1.2678292989730835, 1.0081943273544312, 3.137144088745117, 0.40240320563316345, 1.4773582220077515, 3.0355024337768555, 3.804368734359741, 2.0714852809906006, 2.1779119968414307, 3.925856828689575, 1.814968228340149, 2.962205648422241, 1.741636037826538, 3.200860023498535, 2.6291720867156982], \"y\": [-1.710909128189087, -1.8350824117660522, -2.3229215145111084, -1.3797335624694824, -1.9583150148391724, -2.009312629699707, -1.7593975067138672, -1.3264107704162598, -0.11906203627586365, -0.25870072841644287, -4.196485996246338, -2.498779773712158, -1.8379828929901123, -1.8634504079818726, -0.8048408627510071, -2.8235788345336914, -0.7768450379371643, -1.7731280326843262, -1.1126357316970825, -2.2903077602386475, -1.5577970743179321, -3.564159870147705, -0.7257009148597717, -2.0268616676330566, -1.907828688621521, -2.4389309883117676, -1.8082170486450195, 0.5110464096069336, -0.7547740340232849, -2.167501211166382, -2.1051218509674072, -2.617793083190918, -2.332160234451294, -0.33677682280540466, -2.6014394760131836, -4.214961528778076, -0.12042460590600967, -1.0912888050079346, -0.8964506387710571, 1.3585740327835083], \"z\": [-6.17055606842041, -10.261882781982422, -10.263427734375, -10.319595336914062, -9.873574256896973, -7.69274377822876, -10.480406761169434, -5.327952861785889, -9.457996368408203, -9.556229591369629, -10.891456604003906, -9.398168563842773, -8.498656272888184, -7.465235233306885, -10.372958183288574, -8.296642303466797, -8.222152709960938, -7.244663238525391, -7.043910503387451, -8.966824531555176, -9.10706615447998, -7.478553771972656, -8.661391258239746, -9.171468734741211, -9.6044282913208, -8.596181869506836, -10.156773567199707, -9.2537260055542, -8.163057327270508, -9.368453025817871, -10.156088829040527, -10.206388473510742, -9.14901065826416, -7.595393180847168, -10.349029541015625, -10.889991760253906, -9.95296573638916, -6.993844985961914, -10.578932762145996, -7.803882598876953]}, {\"hovertemplate\": \"%{meta[4]}<extra></extra>\", \"meta\": [[7, 1.1658848524093628, 10.543865203857422, 2.8393032550811768, \"jim <br>pat <br>dan <br>camera <br>early <br>buzz <br>office <br>to <br>o.s <br>v.o <br>cont'd <br>guy <br>hooker <br>go to <br>yeah <br>fuck <br>page <br>okay <br>phone <br>agent <br>\"], [7, 0.6580862998962402, 10.178497314453125, 2.900283098220825, \"jim <br>pat <br>dan <br>camera <br>early <br>buzz <br>office <br>to <br>o.s <br>v.o <br>cont'd <br>guy <br>hooker <br>go to <br>yeah <br>fuck <br>page <br>okay <br>phone <br>agent <br>\"], [7, -1.2876842021942139, 9.4768705368042, 2.7193973064422607, \"jim <br>pat <br>dan <br>camera <br>early <br>buzz <br>office <br>to <br>o.s <br>v.o <br>cont'd <br>guy <br>hooker <br>go to <br>yeah <br>fuck <br>page <br>okay <br>phone <br>agent <br>\"], [7, -0.23965546488761902, 9.579572677612305, 2.512005567550659, \"jim <br>pat <br>dan <br>camera <br>early <br>buzz <br>office <br>to <br>o.s <br>v.o <br>cont'd <br>guy <br>hooker <br>go to <br>yeah <br>fuck <br>page <br>okay <br>phone <br>agent <br>\"], [7, 0.31253036856651306, 8.463200569152832, 4.583394527435303, \"jim <br>pat <br>dan <br>camera <br>early <br>buzz <br>office <br>to <br>o.s <br>v.o <br>cont'd <br>guy <br>hooker <br>go to <br>yeah <br>fuck <br>page <br>okay <br>phone <br>agent <br>\"], [7, 0.7693225145339966, 10.212791442871094, 2.861569404602051, \"jim <br>pat <br>dan <br>camera <br>early <br>buzz <br>office <br>to <br>o.s <br>v.o <br>cont'd <br>guy <br>hooker <br>go to <br>yeah <br>fuck <br>page <br>okay <br>phone <br>agent <br>\"], [7, 0.583992063999176, 8.894986152648926, 1.1418869495391846, \"jim <br>pat <br>dan <br>camera <br>early <br>buzz <br>office <br>to <br>o.s <br>v.o <br>cont'd <br>guy <br>hooker <br>go to <br>yeah <br>fuck <br>page <br>okay <br>phone <br>agent <br>\"], [7, 0.005902017932385206, 7.981074333190918, 1.8740233182907104, \"jim <br>pat <br>dan <br>camera <br>early <br>buzz <br>office <br>to <br>o.s <br>v.o <br>cont'd <br>guy <br>hooker <br>go to <br>yeah <br>fuck <br>page <br>okay <br>phone <br>agent <br>\"], [7, -0.49116188287734985, 9.534980773925781, 2.6900410652160645, \"jim <br>pat <br>dan <br>camera <br>early <br>buzz <br>office <br>to <br>o.s <br>v.o <br>cont'd <br>guy <br>hooker <br>go to <br>yeah <br>fuck <br>page <br>okay <br>phone <br>agent <br>\"], [7, 0.3168833255767822, 8.747489929199219, 3.7534143924713135, \"jim <br>pat <br>dan <br>camera <br>early <br>buzz <br>office <br>to <br>o.s <br>v.o <br>cont'd <br>guy <br>hooker <br>go to <br>yeah <br>fuck <br>page <br>okay <br>phone <br>agent <br>\"], [7, 0.2861834168434143, 10.016321182250977, 2.8402485847473145, \"jim <br>pat <br>dan <br>camera <br>early <br>buzz <br>office <br>to <br>o.s <br>v.o <br>cont'd <br>guy <br>hooker <br>go to <br>yeah <br>fuck <br>page <br>okay <br>phone <br>agent <br>\"], [7, 1.2952739000320435, 10.640907287597656, 2.834024429321289, \"jim <br>pat <br>dan <br>camera <br>early <br>buzz <br>office <br>to <br>o.s <br>v.o <br>cont'd <br>guy <br>hooker <br>go to <br>yeah <br>fuck <br>page <br>okay <br>phone <br>agent <br>\"], [7, 0.5143962502479553, 8.90855884552002, 1.3517030477523804, \"jim <br>pat <br>dan <br>camera <br>early <br>buzz <br>office <br>to <br>o.s <br>v.o <br>cont'd <br>guy <br>hooker <br>go to <br>yeah <br>fuck <br>page <br>okay <br>phone <br>agent <br>\"], [7, 0.21222761273384094, 8.361698150634766, 2.7615299224853516, \"jim <br>pat <br>dan <br>camera <br>early <br>buzz <br>office <br>to <br>o.s <br>v.o <br>cont'd <br>guy <br>hooker <br>go to <br>yeah <br>fuck <br>page <br>okay <br>phone <br>agent <br>\"], [7, -0.37435632944107056, 8.173318862915039, 2.2685906887054443, \"jim <br>pat <br>dan <br>camera <br>early <br>buzz <br>office <br>to <br>o.s <br>v.o <br>cont'd <br>guy <br>hooker <br>go to <br>yeah <br>fuck <br>page <br>okay <br>phone <br>agent <br>\"], [7, -0.012234426103532314, 7.706698894500732, 1.9036500453948975, \"jim <br>pat <br>dan <br>camera <br>early <br>buzz <br>office <br>to <br>o.s <br>v.o <br>cont'd <br>guy <br>hooker <br>go to <br>yeah <br>fuck <br>page <br>okay <br>phone <br>agent <br>\"], [7, 0.5510431528091431, 8.81852912902832, 1.1496679782867432, \"jim <br>pat <br>dan <br>camera <br>early <br>buzz <br>office <br>to <br>o.s <br>v.o <br>cont'd <br>guy <br>hooker <br>go to <br>yeah <br>fuck <br>page <br>okay <br>phone <br>agent <br>\"], [7, 0.4121101200580597, 9.729192733764648, 3.081639528274536, \"jim <br>pat <br>dan <br>camera <br>early <br>buzz <br>office <br>to <br>o.s <br>v.o <br>cont'd <br>guy <br>hooker <br>go to <br>yeah <br>fuck <br>page <br>okay <br>phone <br>agent <br>\"]], \"mode\": \"markers\", \"showlegend\": false, \"type\": \"scatter3d\", \"x\": [1.1658848524093628, 0.6580862998962402, -1.2876842021942139, -0.23965546488761902, 0.31253036856651306, 0.7693225145339966, 0.583992063999176, 0.005902017932385206, -0.49116188287734985, 0.3168833255767822, 0.2861834168434143, 1.2952739000320435, 0.5143962502479553, 0.21222761273384094, -0.37435632944107056, -0.012234426103532314, 0.5510431528091431, 0.4121101200580597], \"y\": [10.543865203857422, 10.178497314453125, 9.4768705368042, 9.579572677612305, 8.463200569152832, 10.212791442871094, 8.894986152648926, 7.981074333190918, 9.534980773925781, 8.747489929199219, 10.016321182250977, 10.640907287597656, 8.90855884552002, 8.361698150634766, 8.173318862915039, 7.706698894500732, 8.81852912902832, 9.729192733764648], \"z\": [2.8393032550811768, 2.900283098220825, 2.7193973064422607, 2.512005567550659, 4.583394527435303, 2.861569404602051, 1.1418869495391846, 1.8740233182907104, 2.6900410652160645, 3.7534143924713135, 2.8402485847473145, 2.834024429321289, 1.3517030477523804, 2.7615299224853516, 2.2685906887054443, 1.9036500453948975, 1.1496679782867432, 3.081639528274536]}, {\"hovertemplate\": \"%{meta[4]}<extra></extra>\", \"meta\": [[8, -0.6574371457099915, -5.857787132263184, -1.2871692180633545, \"tony <br>gun <br>bond <br>phone <br>doc <br>angle <br>guard <br>radio <br>cop <br>jackson <br>office <br>truck <br>hotel <br>building <br>agent <br>police <br>bank <br>security <br>tv <br>cut int <br>\"], [8, -0.2886199653148651, -7.125005722045898, -4.089006423950195, \"tony <br>gun <br>bond <br>phone <br>doc <br>angle <br>guard <br>radio <br>cop <br>jackson <br>office <br>truck <br>hotel <br>building <br>agent <br>police <br>bank <br>security <br>tv <br>cut int <br>\"], [8, -1.0412285327911377, -8.377643585205078, -5.621629238128662, \"tony <br>gun <br>bond <br>phone <br>doc <br>angle <br>guard <br>radio <br>cop <br>jackson <br>office <br>truck <br>hotel <br>building <br>agent <br>police <br>bank <br>security <br>tv <br>cut int <br>\"], [8, 0.029462451115250587, -6.049570083618164, -4.454092979431152, \"tony <br>gun <br>bond <br>phone <br>doc <br>angle <br>guard <br>radio <br>cop <br>jackson <br>office <br>truck <br>hotel <br>building <br>agent <br>police <br>bank <br>security <br>tv <br>cut int <br>\"], [8, 0.9407125115394592, -5.004204750061035, -5.883785724639893, \"tony <br>gun <br>bond <br>phone <br>doc <br>angle <br>guard <br>radio <br>cop <br>jackson <br>office <br>truck <br>hotel <br>building <br>agent <br>police <br>bank <br>security <br>tv <br>cut int <br>\"], [8, -1.4182525873184204, -7.908944129943848, -5.345700740814209, \"tony <br>gun <br>bond <br>phone <br>doc <br>angle <br>guard <br>radio <br>cop <br>jackson <br>office <br>truck <br>hotel <br>building <br>agent <br>police <br>bank <br>security <br>tv <br>cut int <br>\"], [8, 0.07225456833839417, -6.69012975692749, -5.488810062408447, \"tony <br>gun <br>bond <br>phone <br>doc <br>angle <br>guard <br>radio <br>cop <br>jackson <br>office <br>truck <br>hotel <br>building <br>agent <br>police <br>bank <br>security <br>tv <br>cut int <br>\"], [8, -0.2860844135284424, -7.235795974731445, -5.207887649536133, \"tony <br>gun <br>bond <br>phone <br>doc <br>angle <br>guard <br>radio <br>cop <br>jackson <br>office <br>truck <br>hotel <br>building <br>agent <br>police <br>bank <br>security <br>tv <br>cut int <br>\"], [8, -2.3990862369537354, -6.750550270080566, -3.9851906299591064, \"tony <br>gun <br>bond <br>phone <br>doc <br>angle <br>guard <br>radio <br>cop <br>jackson <br>office <br>truck <br>hotel <br>building <br>agent <br>police <br>bank <br>security <br>tv <br>cut int <br>\"], [8, 0.3364619016647339, -5.739863872528076, -5.5535712242126465, \"tony <br>gun <br>bond <br>phone <br>doc <br>angle <br>guard <br>radio <br>cop <br>jackson <br>office <br>truck <br>hotel <br>building <br>agent <br>police <br>bank <br>security <br>tv <br>cut int <br>\"], [8, 0.07058697938919067, -8.510866165161133, -4.1743388175964355, \"tony <br>gun <br>bond <br>phone <br>doc <br>angle <br>guard <br>radio <br>cop <br>jackson <br>office <br>truck <br>hotel <br>building <br>agent <br>police <br>bank <br>security <br>tv <br>cut int <br>\"], [8, 0.0874195322394371, -6.248393535614014, -3.7138633728027344, \"tony <br>gun <br>bond <br>phone <br>doc <br>angle <br>guard <br>radio <br>cop <br>jackson <br>office <br>truck <br>hotel <br>building <br>agent <br>police <br>bank <br>security <br>tv <br>cut int <br>\"], [8, -1.3049116134643555, -8.012442588806152, -5.429152488708496, \"tony <br>gun <br>bond <br>phone <br>doc <br>angle <br>guard <br>radio <br>cop <br>jackson <br>office <br>truck <br>hotel <br>building <br>agent <br>police <br>bank <br>security <br>tv <br>cut int <br>\"], [8, 1.6242587566375732, -4.792475700378418, -5.683162689208984, \"tony <br>gun <br>bond <br>phone <br>doc <br>angle <br>guard <br>radio <br>cop <br>jackson <br>office <br>truck <br>hotel <br>building <br>agent <br>police <br>bank <br>security <br>tv <br>cut int <br>\"], [8, -0.7374914884567261, -5.932835102081299, -1.2919731140136719, \"tony <br>gun <br>bond <br>phone <br>doc <br>angle <br>guard <br>radio <br>cop <br>jackson <br>office <br>truck <br>hotel <br>building <br>agent <br>police <br>bank <br>security <br>tv <br>cut int <br>\"], [8, -0.8095351457595825, -7.547047138214111, -5.443312644958496, \"tony <br>gun <br>bond <br>phone <br>doc <br>angle <br>guard <br>radio <br>cop <br>jackson <br>office <br>truck <br>hotel <br>building <br>agent <br>police <br>bank <br>security <br>tv <br>cut int <br>\"], [8, -0.6882075667381287, -7.915921688079834, -5.664096832275391, \"tony <br>gun <br>bond <br>phone <br>doc <br>angle <br>guard <br>radio <br>cop <br>jackson <br>office <br>truck <br>hotel <br>building <br>agent <br>police <br>bank <br>security <br>tv <br>cut int <br>\"], [8, -0.6417043805122375, -5.346424102783203, -2.7446675300598145, \"tony <br>gun <br>bond <br>phone <br>doc <br>angle <br>guard <br>radio <br>cop <br>jackson <br>office <br>truck <br>hotel <br>building <br>agent <br>police <br>bank <br>security <br>tv <br>cut int <br>\"], [8, 0.4795871376991272, -5.859979152679443, -4.15045166015625, \"tony <br>gun <br>bond <br>phone <br>doc <br>angle <br>guard <br>radio <br>cop <br>jackson <br>office <br>truck <br>hotel <br>building <br>agent <br>police <br>bank <br>security <br>tv <br>cut int <br>\"], [8, -1.0606334209442139, -8.065972328186035, -5.790271282196045, \"tony <br>gun <br>bond <br>phone <br>doc <br>angle <br>guard <br>radio <br>cop <br>jackson <br>office <br>truck <br>hotel <br>building <br>agent <br>police <br>bank <br>security <br>tv <br>cut int <br>\"], [8, -1.924600601196289, -6.85225772857666, -4.213370323181152, \"tony <br>gun <br>bond <br>phone <br>doc <br>angle <br>guard <br>radio <br>cop <br>jackson <br>office <br>truck <br>hotel <br>building <br>agent <br>police <br>bank <br>security <br>tv <br>cut int <br>\"], [8, 1.197623372077942, -4.178101539611816, -2.5725343227386475, \"tony <br>gun <br>bond <br>phone <br>doc <br>angle <br>guard <br>radio <br>cop <br>jackson <br>office <br>truck <br>hotel <br>building <br>agent <br>police <br>bank <br>security <br>tv <br>cut int <br>\"], [8, -0.02225545421242714, -6.991575241088867, -4.458567142486572, \"tony <br>gun <br>bond <br>phone <br>doc <br>angle <br>guard <br>radio <br>cop <br>jackson <br>office <br>truck <br>hotel <br>building <br>agent <br>police <br>bank <br>security <br>tv <br>cut int <br>\"], [8, 1.3650413751602173, -6.37678861618042, -4.833434104919434, \"tony <br>gun <br>bond <br>phone <br>doc <br>angle <br>guard <br>radio <br>cop <br>jackson <br>office <br>truck <br>hotel <br>building <br>agent <br>police <br>bank <br>security <br>tv <br>cut int <br>\"], [8, -0.18867091834545135, -5.413796424865723, -3.8289663791656494, \"tony <br>gun <br>bond <br>phone <br>doc <br>angle <br>guard <br>radio <br>cop <br>jackson <br>office <br>truck <br>hotel <br>building <br>agent <br>police <br>bank <br>security <br>tv <br>cut int <br>\"], [8, 0.7227146625518799, -4.697196006774902, -4.169527530670166, \"tony <br>gun <br>bond <br>phone <br>doc <br>angle <br>guard <br>radio <br>cop <br>jackson <br>office <br>truck <br>hotel <br>building <br>agent <br>police <br>bank <br>security <br>tv <br>cut int <br>\"], [8, 1.2490196228027344, -5.669677734375, -3.1192541122436523, \"tony <br>gun <br>bond <br>phone <br>doc <br>angle <br>guard <br>radio <br>cop <br>jackson <br>office <br>truck <br>hotel <br>building <br>agent <br>police <br>bank <br>security <br>tv <br>cut int <br>\"], [8, -0.2791920304298401, -8.322383880615234, -4.581129550933838, \"tony <br>gun <br>bond <br>phone <br>doc <br>angle <br>guard <br>radio <br>cop <br>jackson <br>office <br>truck <br>hotel <br>building <br>agent <br>police <br>bank <br>security <br>tv <br>cut int <br>\"], [8, -0.7295460104942322, -6.041077136993408, -3.994406223297119, \"tony <br>gun <br>bond <br>phone <br>doc <br>angle <br>guard <br>radio <br>cop <br>jackson <br>office <br>truck <br>hotel <br>building <br>agent <br>police <br>bank <br>security <br>tv <br>cut int <br>\"], [8, -0.5859484076499939, -8.017244338989258, -4.983767032623291, \"tony <br>gun <br>bond <br>phone <br>doc <br>angle <br>guard <br>radio <br>cop <br>jackson <br>office <br>truck <br>hotel <br>building <br>agent <br>police <br>bank <br>security <br>tv <br>cut int <br>\"], [8, -0.8048164248466492, -3.7602124214172363, -3.3572371006011963, \"tony <br>gun <br>bond <br>phone <br>doc <br>angle <br>guard <br>radio <br>cop <br>jackson <br>office <br>truck <br>hotel <br>building <br>agent <br>police <br>bank <br>security <br>tv <br>cut int <br>\"], [8, -0.748876690864563, -5.176381587982178, -3.3441669940948486, \"tony <br>gun <br>bond <br>phone <br>doc <br>angle <br>guard <br>radio <br>cop <br>jackson <br>office <br>truck <br>hotel <br>building <br>agent <br>police <br>bank <br>security <br>tv <br>cut int <br>\"], [8, -0.9413747787475586, -4.3259053230285645, -3.7317123413085938, \"tony <br>gun <br>bond <br>phone <br>doc <br>angle <br>guard <br>radio <br>cop <br>jackson <br>office <br>truck <br>hotel <br>building <br>agent <br>police <br>bank <br>security <br>tv <br>cut int <br>\"], [8, -1.069926142692566, -7.108323574066162, -4.844864845275879, \"tony <br>gun <br>bond <br>phone <br>doc <br>angle <br>guard <br>radio <br>cop <br>jackson <br>office <br>truck <br>hotel <br>building <br>agent <br>police <br>bank <br>security <br>tv <br>cut int <br>\"], [8, -0.9111401438713074, -6.259334087371826, -3.948321580886841, \"tony <br>gun <br>bond <br>phone <br>doc <br>angle <br>guard <br>radio <br>cop <br>jackson <br>office <br>truck <br>hotel <br>building <br>agent <br>police <br>bank <br>security <br>tv <br>cut int <br>\"]], \"mode\": \"markers\", \"showlegend\": false, \"type\": \"scatter3d\", \"x\": [-0.6574371457099915, -0.2886199653148651, -1.0412285327911377, 0.029462451115250587, 0.9407125115394592, -1.4182525873184204, 0.07225456833839417, -0.2860844135284424, -2.3990862369537354, 0.3364619016647339, 0.07058697938919067, 0.0874195322394371, -1.3049116134643555, 1.6242587566375732, -0.7374914884567261, -0.8095351457595825, -0.6882075667381287, -0.6417043805122375, 0.4795871376991272, -1.0606334209442139, -1.924600601196289, 1.197623372077942, -0.02225545421242714, 1.3650413751602173, -0.18867091834545135, 0.7227146625518799, 1.2490196228027344, -0.2791920304298401, -0.7295460104942322, -0.5859484076499939, -0.8048164248466492, -0.748876690864563, -0.9413747787475586, -1.069926142692566, -0.9111401438713074], \"y\": [-5.857787132263184, -7.125005722045898, -8.377643585205078, -6.049570083618164, -5.004204750061035, -7.908944129943848, -6.69012975692749, -7.235795974731445, -6.750550270080566, -5.739863872528076, -8.510866165161133, -6.248393535614014, -8.012442588806152, -4.792475700378418, -5.932835102081299, -7.547047138214111, -7.915921688079834, -5.346424102783203, -5.859979152679443, -8.065972328186035, -6.85225772857666, -4.178101539611816, -6.991575241088867, -6.37678861618042, -5.413796424865723, -4.697196006774902, -5.669677734375, -8.322383880615234, -6.041077136993408, -8.017244338989258, -3.7602124214172363, -5.176381587982178, -4.3259053230285645, -7.108323574066162, -6.259334087371826], \"z\": [-1.2871692180633545, -4.089006423950195, -5.621629238128662, -4.454092979431152, -5.883785724639893, -5.345700740814209, -5.488810062408447, -5.207887649536133, -3.9851906299591064, -5.5535712242126465, -4.1743388175964355, -3.7138633728027344, -5.429152488708496, -5.683162689208984, -1.2919731140136719, -5.443312644958496, -5.664096832275391, -2.7446675300598145, -4.15045166015625, -5.790271282196045, -4.213370323181152, -2.5725343227386475, -4.458567142486572, -4.833434104919434, -3.8289663791656494, -4.169527530670166, -3.1192541122436523, -4.581129550933838, -3.994406223297119, -4.983767032623291, -3.3572371006011963, -3.3441669940948486, -3.7317123413085938, -4.844864845275879, -3.948321580886841]}, {\"hovertemplate\": \"%{meta[4]}<extra></extra>\", \"meta\": [[9, 11.862083435058594, -2.1845061779022217, -0.12990693747997284, \"ray <br>mike <br>dave <br>whale <br>daddy <br>buddy <br>angle <br>mr <br>cont'd <br>slim <br>jimmy <br>crow <br>charles <br>to <br>baby <br>rod <br>cont <br>kitchen <br>horse <br>shooting <br>\"], [9, 9.825353622436523, -2.5083370208740234, 0.5082674622535706, \"ray <br>mike <br>dave <br>whale <br>daddy <br>buddy <br>angle <br>mr <br>cont'd <br>slim <br>jimmy <br>crow <br>charles <br>to <br>baby <br>rod <br>cont <br>kitchen <br>horse <br>shooting <br>\"], [9, 11.254849433898926, -1.876344084739685, -0.7598122358322144, \"ray <br>mike <br>dave <br>whale <br>daddy <br>buddy <br>angle <br>mr <br>cont'd <br>slim <br>jimmy <br>crow <br>charles <br>to <br>baby <br>rod <br>cont <br>kitchen <br>horse <br>shooting <br>\"], [9, 9.890451431274414, -1.9445520639419556, -1.7288200855255127, \"ray <br>mike <br>dave <br>whale <br>daddy <br>buddy <br>angle <br>mr <br>cont'd <br>slim <br>jimmy <br>crow <br>charles <br>to <br>baby <br>rod <br>cont <br>kitchen <br>horse <br>shooting <br>\"], [9, 12.316036224365234, -2.0474612712860107, 0.06062491238117218, \"ray <br>mike <br>dave <br>whale <br>daddy <br>buddy <br>angle <br>mr <br>cont'd <br>slim <br>jimmy <br>crow <br>charles <br>to <br>baby <br>rod <br>cont <br>kitchen <br>horse <br>shooting <br>\"], [9, 11.019121170043945, -1.5795241594314575, 0.0751999169588089, \"ray <br>mike <br>dave <br>whale <br>daddy <br>buddy <br>angle <br>mr <br>cont'd <br>slim <br>jimmy <br>crow <br>charles <br>to <br>baby <br>rod <br>cont <br>kitchen <br>horse <br>shooting <br>\"], [9, 10.12801742553711, -2.714975595474243, -0.07988391071557999, \"ray <br>mike <br>dave <br>whale <br>daddy <br>buddy <br>angle <br>mr <br>cont'd <br>slim <br>jimmy <br>crow <br>charles <br>to <br>baby <br>rod <br>cont <br>kitchen <br>horse <br>shooting <br>\"], [9, 12.013998985290527, -2.028743267059326, -0.11414888501167297, \"ray <br>mike <br>dave <br>whale <br>daddy <br>buddy <br>angle <br>mr <br>cont'd <br>slim <br>jimmy <br>crow <br>charles <br>to <br>baby <br>rod <br>cont <br>kitchen <br>horse <br>shooting <br>\"], [9, 11.064678192138672, -1.385021448135376, -0.9892048239707947, \"ray <br>mike <br>dave <br>whale <br>daddy <br>buddy <br>angle <br>mr <br>cont'd <br>slim <br>jimmy <br>crow <br>charles <br>to <br>baby <br>rod <br>cont <br>kitchen <br>horse <br>shooting <br>\"], [9, 11.83603286743164, -2.6521518230438232, -1.4934380054473877, \"ray <br>mike <br>dave <br>whale <br>daddy <br>buddy <br>angle <br>mr <br>cont'd <br>slim <br>jimmy <br>crow <br>charles <br>to <br>baby <br>rod <br>cont <br>kitchen <br>horse <br>shooting <br>\"], [9, 8.454176902770996, -3.5158286094665527, -1.8044142723083496, \"ray <br>mike <br>dave <br>whale <br>daddy <br>buddy <br>angle <br>mr <br>cont'd <br>slim <br>jimmy <br>crow <br>charles <br>to <br>baby <br>rod <br>cont <br>kitchen <br>horse <br>shooting <br>\"], [9, 8.260614395141602, -3.6456050872802734, -1.9242409467697144, \"ray <br>mike <br>dave <br>whale <br>daddy <br>buddy <br>angle <br>mr <br>cont'd <br>slim <br>jimmy <br>crow <br>charles <br>to <br>baby <br>rod <br>cont <br>kitchen <br>horse <br>shooting <br>\"], [9, 10.647982597351074, -1.0416392087936401, -1.9237464666366577, \"ray <br>mike <br>dave <br>whale <br>daddy <br>buddy <br>angle <br>mr <br>cont'd <br>slim <br>jimmy <br>crow <br>charles <br>to <br>baby <br>rod <br>cont <br>kitchen <br>horse <br>shooting <br>\"], [9, 10.507597923278809, -1.6392524242401123, -1.4969910383224487, \"ray <br>mike <br>dave <br>whale <br>daddy <br>buddy <br>angle <br>mr <br>cont'd <br>slim <br>jimmy <br>crow <br>charles <br>to <br>baby <br>rod <br>cont <br>kitchen <br>horse <br>shooting <br>\"], [9, 11.883394241333008, -2.290118932723999, -0.7532526850700378, \"ray <br>mike <br>dave <br>whale <br>daddy <br>buddy <br>angle <br>mr <br>cont'd <br>slim <br>jimmy <br>crow <br>charles <br>to <br>baby <br>rod <br>cont <br>kitchen <br>horse <br>shooting <br>\"], [9, 12.486296653747559, -1.708372950553894, -0.19489321112632751, \"ray <br>mike <br>dave <br>whale <br>daddy <br>buddy <br>angle <br>mr <br>cont'd <br>slim <br>jimmy <br>crow <br>charles <br>to <br>baby <br>rod <br>cont <br>kitchen <br>horse <br>shooting <br>\"], [9, 9.87781047821045, -2.6079905033111572, 0.7153732776641846, \"ray <br>mike <br>dave <br>whale <br>daddy <br>buddy <br>angle <br>mr <br>cont'd <br>slim <br>jimmy <br>crow <br>charles <br>to <br>baby <br>rod <br>cont <br>kitchen <br>horse <br>shooting <br>\"], [9, 10.065286636352539, -1.086377501487732, 0.7653697729110718, \"ray <br>mike <br>dave <br>whale <br>daddy <br>buddy <br>angle <br>mr <br>cont'd <br>slim <br>jimmy <br>crow <br>charles <br>to <br>baby <br>rod <br>cont <br>kitchen <br>horse <br>shooting <br>\"], [9, 12.6151762008667, -1.9336037635803223, -0.11199084669351578, \"ray <br>mike <br>dave <br>whale <br>daddy <br>buddy <br>angle <br>mr <br>cont'd <br>slim <br>jimmy <br>crow <br>charles <br>to <br>baby <br>rod <br>cont <br>kitchen <br>horse <br>shooting <br>\"], [9, 9.942665100097656, -2.3679451942443848, -1.0184376239776611, \"ray <br>mike <br>dave <br>whale <br>daddy <br>buddy <br>angle <br>mr <br>cont'd <br>slim <br>jimmy <br>crow <br>charles <br>to <br>baby <br>rod <br>cont <br>kitchen <br>horse <br>shooting <br>\"], [9, 11.58756160736084, -1.4972413778305054, -0.1711847335100174, \"ray <br>mike <br>dave <br>whale <br>daddy <br>buddy <br>angle <br>mr <br>cont'd <br>slim <br>jimmy <br>crow <br>charles <br>to <br>baby <br>rod <br>cont <br>kitchen <br>horse <br>shooting <br>\"], [9, 9.101926803588867, -3.0644912719726562, -1.4339102506637573, \"ray <br>mike <br>dave <br>whale <br>daddy <br>buddy <br>angle <br>mr <br>cont'd <br>slim <br>jimmy <br>crow <br>charles <br>to <br>baby <br>rod <br>cont <br>kitchen <br>horse <br>shooting <br>\"], [9, 10.485854148864746, -3.0310566425323486, 0.4160017669200897, \"ray <br>mike <br>dave <br>whale <br>daddy <br>buddy <br>angle <br>mr <br>cont'd <br>slim <br>jimmy <br>crow <br>charles <br>to <br>baby <br>rod <br>cont <br>kitchen <br>horse <br>shooting <br>\"], [9, 10.39862060546875, -1.82122004032135, 0.36784711480140686, \"ray <br>mike <br>dave <br>whale <br>daddy <br>buddy <br>angle <br>mr <br>cont'd <br>slim <br>jimmy <br>crow <br>charles <br>to <br>baby <br>rod <br>cont <br>kitchen <br>horse <br>shooting <br>\"], [9, 11.159619331359863, -2.9405741691589355, 0.2629219591617584, \"ray <br>mike <br>dave <br>whale <br>daddy <br>buddy <br>angle <br>mr <br>cont'd <br>slim <br>jimmy <br>crow <br>charles <br>to <br>baby <br>rod <br>cont <br>kitchen <br>horse <br>shooting <br>\"], [9, 10.158689498901367, -1.2221739292144775, 0.5934601426124573, \"ray <br>mike <br>dave <br>whale <br>daddy <br>buddy <br>angle <br>mr <br>cont'd <br>slim <br>jimmy <br>crow <br>charles <br>to <br>baby <br>rod <br>cont <br>kitchen <br>horse <br>shooting <br>\"]], \"mode\": \"markers\", \"showlegend\": false, \"type\": \"scatter3d\", \"x\": [11.862083435058594, 9.825353622436523, 11.254849433898926, 9.890451431274414, 12.316036224365234, 11.019121170043945, 10.12801742553711, 12.013998985290527, 11.064678192138672, 11.83603286743164, 8.454176902770996, 8.260614395141602, 10.647982597351074, 10.507597923278809, 11.883394241333008, 12.486296653747559, 9.87781047821045, 10.065286636352539, 12.6151762008667, 9.942665100097656, 11.58756160736084, 9.101926803588867, 10.485854148864746, 10.39862060546875, 11.159619331359863, 10.158689498901367], \"y\": [-2.1845061779022217, -2.5083370208740234, -1.876344084739685, -1.9445520639419556, -2.0474612712860107, -1.5795241594314575, -2.714975595474243, -2.028743267059326, -1.385021448135376, -2.6521518230438232, -3.5158286094665527, -3.6456050872802734, -1.0416392087936401, -1.6392524242401123, -2.290118932723999, -1.708372950553894, -2.6079905033111572, -1.086377501487732, -1.9336037635803223, -2.3679451942443848, -1.4972413778305054, -3.0644912719726562, -3.0310566425323486, -1.82122004032135, -2.9405741691589355, -1.2221739292144775], \"z\": [-0.12990693747997284, 0.5082674622535706, -0.7598122358322144, -1.7288200855255127, 0.06062491238117218, 0.0751999169588089, -0.07988391071557999, -0.11414888501167297, -0.9892048239707947, -1.4934380054473877, -1.8044142723083496, -1.9242409467697144, -1.9237464666366577, -1.4969910383224487, -0.7532526850700378, -0.19489321112632751, 0.7153732776641846, 0.7653697729110718, -0.11199084669351578, -1.0184376239776611, -0.1711847335100174, -1.4339102506637573, 0.4160017669200897, 0.36784711480140686, 0.2629219591617584, 0.5934601426124573]}, {\"hovertemplate\": \"%{meta[4]}<extra></extra>\", \"meta\": [[10, 1.7544082403182983, 0.20885591208934784, 0.4705810546875, \"sam <br>to <br>go to <br>bobby <br>guy <br>yeah <br>mr <br>mom <br>grace <br>fuck <br>shit <br>dad <br>be <br>okay <br>ya <br>get to <br>fuckin <br>cont'd <br>green <br>-PRON- <br>\"], [10, 0.8002125024795532, 1.9835468530654907, 3.8967106342315674, \"sam <br>to <br>go to <br>bobby <br>guy <br>yeah <br>mr <br>mom <br>grace <br>fuck <br>shit <br>dad <br>be <br>okay <br>ya <br>get to <br>fuckin <br>cont'd <br>green <br>-PRON- <br>\"], [10, -0.48101386427879333, 0.666580080986023, -0.5765237212181091, \"sam <br>to <br>go to <br>bobby <br>guy <br>yeah <br>mr <br>mom <br>grace <br>fuck <br>shit <br>dad <br>be <br>okay <br>ya <br>get to <br>fuckin <br>cont'd <br>green <br>-PRON- <br>\"], [10, 0.6063399314880371, 1.2627862691879272, 1.5622235536575317, \"sam <br>to <br>go to <br>bobby <br>guy <br>yeah <br>mr <br>mom <br>grace <br>fuck <br>shit <br>dad <br>be <br>okay <br>ya <br>get to <br>fuckin <br>cont'd <br>green <br>-PRON- <br>\"], [10, 4.803088665008545, 1.2323311567306519, 2.382215738296509, \"sam <br>to <br>go to <br>bobby <br>guy <br>yeah <br>mr <br>mom <br>grace <br>fuck <br>shit <br>dad <br>be <br>okay <br>ya <br>get to <br>fuckin <br>cont'd <br>green <br>-PRON- <br>\"], [10, 3.3572659492492676, 2.452918291091919, 2.3961615562438965, \"sam <br>to <br>go to <br>bobby <br>guy <br>yeah <br>mr <br>mom <br>grace <br>fuck <br>shit <br>dad <br>be <br>okay <br>ya <br>get to <br>fuckin <br>cont'd <br>green <br>-PRON- <br>\"], [10, -0.007435913663357496, 1.7069729566574097, 2.626420021057129, \"sam <br>to <br>go to <br>bobby <br>guy <br>yeah <br>mr <br>mom <br>grace <br>fuck <br>shit <br>dad <br>be <br>okay <br>ya <br>get to <br>fuckin <br>cont'd <br>green <br>-PRON- <br>\"], [10, 4.3037495613098145, 1.7518236637115479, 2.425936460494995, \"sam <br>to <br>go to <br>bobby <br>guy <br>yeah <br>mr <br>mom <br>grace <br>fuck <br>shit <br>dad <br>be <br>okay <br>ya <br>get to <br>fuckin <br>cont'd <br>green <br>-PRON- <br>\"], [10, 1.1521294116973877, 2.636497735977173, 0.7507421970367432, \"sam <br>to <br>go to <br>bobby <br>guy <br>yeah <br>mr <br>mom <br>grace <br>fuck <br>shit <br>dad <br>be <br>okay <br>ya <br>get to <br>fuckin <br>cont'd <br>green <br>-PRON- <br>\"], [10, -0.03925077244639397, -0.7252169251441956, -0.25320374965667725, \"sam <br>to <br>go to <br>bobby <br>guy <br>yeah <br>mr <br>mom <br>grace <br>fuck <br>shit <br>dad <br>be <br>okay <br>ya <br>get to <br>fuckin <br>cont'd <br>green <br>-PRON- <br>\"], [10, 3.1317286491394043, 2.4066882133483887, 3.1010196208953857, \"sam <br>to <br>go to <br>bobby <br>guy <br>yeah <br>mr <br>mom <br>grace <br>fuck <br>shit <br>dad <br>be <br>okay <br>ya <br>get to <br>fuckin <br>cont'd <br>green <br>-PRON- <br>\"], [10, 0.36195334792137146, 1.0159661769866943, 1.5010169744491577, \"sam <br>to <br>go to <br>bobby <br>guy <br>yeah <br>mr <br>mom <br>grace <br>fuck <br>shit <br>dad <br>be <br>okay <br>ya <br>get to <br>fuckin <br>cont'd <br>green <br>-PRON- <br>\"], [10, 4.619823932647705, 1.4151692390441895, 2.3957712650299072, \"sam <br>to <br>go to <br>bobby <br>guy <br>yeah <br>mr <br>mom <br>grace <br>fuck <br>shit <br>dad <br>be <br>okay <br>ya <br>get to <br>fuckin <br>cont'd <br>green <br>-PRON- <br>\"], [10, 0.04568243771791458, 0.4658430814743042, -1.3264880180358887, \"sam <br>to <br>go to <br>bobby <br>guy <br>yeah <br>mr <br>mom <br>grace <br>fuck <br>shit <br>dad <br>be <br>okay <br>ya <br>get to <br>fuckin <br>cont'd <br>green <br>-PRON- <br>\"], [10, 1.0489898920059204, 1.1209566593170166, -0.11272203177213669, \"sam <br>to <br>go to <br>bobby <br>guy <br>yeah <br>mr <br>mom <br>grace <br>fuck <br>shit <br>dad <br>be <br>okay <br>ya <br>get to <br>fuckin <br>cont'd <br>green <br>-PRON- <br>\"], [10, 2.7421698570251465, 2.0022573471069336, 1.8430891036987305, \"sam <br>to <br>go to <br>bobby <br>guy <br>yeah <br>mr <br>mom <br>grace <br>fuck <br>shit <br>dad <br>be <br>okay <br>ya <br>get to <br>fuckin <br>cont'd <br>green <br>-PRON- <br>\"], [10, 2.5712480545043945, -1.3385463953018188, 1.3916047811508179, \"sam <br>to <br>go to <br>bobby <br>guy <br>yeah <br>mr <br>mom <br>grace <br>fuck <br>shit <br>dad <br>be <br>okay <br>ya <br>get to <br>fuckin <br>cont'd <br>green <br>-PRON- <br>\"], [10, -0.5984542965888977, 0.7667403817176819, 3.0541365146636963, \"sam <br>to <br>go to <br>bobby <br>guy <br>yeah <br>mr <br>mom <br>grace <br>fuck <br>shit <br>dad <br>be <br>okay <br>ya <br>get to <br>fuckin <br>cont'd <br>green <br>-PRON- <br>\"], [10, -0.1984531730413437, 0.6798589825630188, -1.577135682106018, \"sam <br>to <br>go to <br>bobby <br>guy <br>yeah <br>mr <br>mom <br>grace <br>fuck <br>shit <br>dad <br>be <br>okay <br>ya <br>get to <br>fuckin <br>cont'd <br>green <br>-PRON- <br>\"], [10, 4.032869815826416, 2.490886688232422, 3.0892226696014404, \"sam <br>to <br>go to <br>bobby <br>guy <br>yeah <br>mr <br>mom <br>grace <br>fuck <br>shit <br>dad <br>be <br>okay <br>ya <br>get to <br>fuckin <br>cont'd <br>green <br>-PRON- <br>\"], [10, 3.564241886138916, 2.144530773162842, 3.2401154041290283, \"sam <br>to <br>go to <br>bobby <br>guy <br>yeah <br>mr <br>mom <br>grace <br>fuck <br>shit <br>dad <br>be <br>okay <br>ya <br>get to <br>fuckin <br>cont'd <br>green <br>-PRON- <br>\"], [10, 3.8386332988739014, 2.497159242630005, 2.6187102794647217, \"sam <br>to <br>go to <br>bobby <br>guy <br>yeah <br>mr <br>mom <br>grace <br>fuck <br>shit <br>dad <br>be <br>okay <br>ya <br>get to <br>fuckin <br>cont'd <br>green <br>-PRON- <br>\"], [10, -0.3538600504398346, -1.259655237197876, -0.7480136156082153, \"sam <br>to <br>go to <br>bobby <br>guy <br>yeah <br>mr <br>mom <br>grace <br>fuck <br>shit <br>dad <br>be <br>okay <br>ya <br>get to <br>fuckin <br>cont'd <br>green <br>-PRON- <br>\"], [10, 2.1747186183929443, 3.638556957244873, 2.357006549835205, \"sam <br>to <br>go to <br>bobby <br>guy <br>yeah <br>mr <br>mom <br>grace <br>fuck <br>shit <br>dad <br>be <br>okay <br>ya <br>get to <br>fuckin <br>cont'd <br>green <br>-PRON- <br>\"], [10, 2.35422420501709, 0.8906143307685852, 3.0977861881256104, \"sam <br>to <br>go to <br>bobby <br>guy <br>yeah <br>mr <br>mom <br>grace <br>fuck <br>shit <br>dad <br>be <br>okay <br>ya <br>get to <br>fuckin <br>cont'd <br>green <br>-PRON- <br>\"], [10, 2.868725061416626, 0.9398513436317444, 3.329021692276001, \"sam <br>to <br>go to <br>bobby <br>guy <br>yeah <br>mr <br>mom <br>grace <br>fuck <br>shit <br>dad <br>be <br>okay <br>ya <br>get to <br>fuckin <br>cont'd <br>green <br>-PRON- <br>\"], [10, 2.9295883178710938, 1.005448579788208, -0.6509871482849121, \"sam <br>to <br>go to <br>bobby <br>guy <br>yeah <br>mr <br>mom <br>grace <br>fuck <br>shit <br>dad <br>be <br>okay <br>ya <br>get to <br>fuckin <br>cont'd <br>green <br>-PRON- <br>\"], [10, -0.12356220930814743, 0.7127481698989868, 2.9515113830566406, \"sam <br>to <br>go to <br>bobby <br>guy <br>yeah <br>mr <br>mom <br>grace <br>fuck <br>shit <br>dad <br>be <br>okay <br>ya <br>get to <br>fuckin <br>cont'd <br>green <br>-PRON- <br>\"], [10, 2.7186737060546875, 0.976530134677887, -0.3449189364910126, \"sam <br>to <br>go to <br>bobby <br>guy <br>yeah <br>mr <br>mom <br>grace <br>fuck <br>shit <br>dad <br>be <br>okay <br>ya <br>get to <br>fuckin <br>cont'd <br>green <br>-PRON- <br>\"], [10, 2.598217725753784, 2.4211697578430176, 3.4044384956359863, \"sam <br>to <br>go to <br>bobby <br>guy <br>yeah <br>mr <br>mom <br>grace <br>fuck <br>shit <br>dad <br>be <br>okay <br>ya <br>get to <br>fuckin <br>cont'd <br>green <br>-PRON- <br>\"], [10, 2.8876514434814453, 2.195885419845581, 2.1799893379211426, \"sam <br>to <br>go to <br>bobby <br>guy <br>yeah <br>mr <br>mom <br>grace <br>fuck <br>shit <br>dad <br>be <br>okay <br>ya <br>get to <br>fuckin <br>cont'd <br>green <br>-PRON- <br>\"], [10, 3.169071674346924, -0.5652716755867004, 0.8169811964035034, \"sam <br>to <br>go to <br>bobby <br>guy <br>yeah <br>mr <br>mom <br>grace <br>fuck <br>shit <br>dad <br>be <br>okay <br>ya <br>get to <br>fuckin <br>cont'd <br>green <br>-PRON- <br>\"], [10, 0.9422063827514648, 0.9838249683380127, 2.407022476196289, \"sam <br>to <br>go to <br>bobby <br>guy <br>yeah <br>mr <br>mom <br>grace <br>fuck <br>shit <br>dad <br>be <br>okay <br>ya <br>get to <br>fuckin <br>cont'd <br>green <br>-PRON- <br>\"], [10, 1.0660178661346436, 2.179185628890991, 0.8376731276512146, \"sam <br>to <br>go to <br>bobby <br>guy <br>yeah <br>mr <br>mom <br>grace <br>fuck <br>shit <br>dad <br>be <br>okay <br>ya <br>get to <br>fuckin <br>cont'd <br>green <br>-PRON- <br>\"], [10, 2.780933141708374, 1.3332726955413818, 2.4050028324127197, \"sam <br>to <br>go to <br>bobby <br>guy <br>yeah <br>mr <br>mom <br>grace <br>fuck <br>shit <br>dad <br>be <br>okay <br>ya <br>get to <br>fuckin <br>cont'd <br>green <br>-PRON- <br>\"], [10, 2.291079044342041, 1.1183632612228394, 0.9625120162963867, \"sam <br>to <br>go to <br>bobby <br>guy <br>yeah <br>mr <br>mom <br>grace <br>fuck <br>shit <br>dad <br>be <br>okay <br>ya <br>get to <br>fuckin <br>cont'd <br>green <br>-PRON- <br>\"], [10, -1.1947300434112549, -0.3855086863040924, 0.22347897291183472, \"sam <br>to <br>go to <br>bobby <br>guy <br>yeah <br>mr <br>mom <br>grace <br>fuck <br>shit <br>dad <br>be <br>okay <br>ya <br>get to <br>fuckin <br>cont'd <br>green <br>-PRON- <br>\"], [10, 3.932582378387451, 2.9597854614257812, 1.529143214225769, \"sam <br>to <br>go to <br>bobby <br>guy <br>yeah <br>mr <br>mom <br>grace <br>fuck <br>shit <br>dad <br>be <br>okay <br>ya <br>get to <br>fuckin <br>cont'd <br>green <br>-PRON- <br>\"], [10, 0.762880802154541, 2.1383447647094727, 2.3749334812164307, \"sam <br>to <br>go to <br>bobby <br>guy <br>yeah <br>mr <br>mom <br>grace <br>fuck <br>shit <br>dad <br>be <br>okay <br>ya <br>get to <br>fuckin <br>cont'd <br>green <br>-PRON- <br>\"], [10, 1.432275652885437, 0.9192761182785034, -0.5830029845237732, \"sam <br>to <br>go to <br>bobby <br>guy <br>yeah <br>mr <br>mom <br>grace <br>fuck <br>shit <br>dad <br>be <br>okay <br>ya <br>get to <br>fuckin <br>cont'd <br>green <br>-PRON- <br>\"], [10, 1.9711275100708008, 1.3740566968917847, 1.0092754364013672, \"sam <br>to <br>go to <br>bobby <br>guy <br>yeah <br>mr <br>mom <br>grace <br>fuck <br>shit <br>dad <br>be <br>okay <br>ya <br>get to <br>fuckin <br>cont'd <br>green <br>-PRON- <br>\"], [10, 3.106084108352661, -0.3591529130935669, 0.7694433927536011, \"sam <br>to <br>go to <br>bobby <br>guy <br>yeah <br>mr <br>mom <br>grace <br>fuck <br>shit <br>dad <br>be <br>okay <br>ya <br>get to <br>fuckin <br>cont'd <br>green <br>-PRON- <br>\"], [10, 2.323474884033203, 2.5531115531921387, 1.8534002304077148, \"sam <br>to <br>go to <br>bobby <br>guy <br>yeah <br>mr <br>mom <br>grace <br>fuck <br>shit <br>dad <br>be <br>okay <br>ya <br>get to <br>fuckin <br>cont'd <br>green <br>-PRON- <br>\"], [10, 2.4607324600219727, 1.4968361854553223, 0.032801851630210876, \"sam <br>to <br>go to <br>bobby <br>guy <br>yeah <br>mr <br>mom <br>grace <br>fuck <br>shit <br>dad <br>be <br>okay <br>ya <br>get to <br>fuckin <br>cont'd <br>green <br>-PRON- <br>\"], [10, 1.6442748308181763, 3.529449462890625, 3.853126287460327, \"sam <br>to <br>go to <br>bobby <br>guy <br>yeah <br>mr <br>mom <br>grace <br>fuck <br>shit <br>dad <br>be <br>okay <br>ya <br>get to <br>fuckin <br>cont'd <br>green <br>-PRON- <br>\"], [10, 0.7247126698493958, 1.0179762840270996, -0.4757276177406311, \"sam <br>to <br>go to <br>bobby <br>guy <br>yeah <br>mr <br>mom <br>grace <br>fuck <br>shit <br>dad <br>be <br>okay <br>ya <br>get to <br>fuckin <br>cont'd <br>green <br>-PRON- <br>\"], [10, 1.7578811645507812, 1.2514911890029907, 0.8718441128730774, \"sam <br>to <br>go to <br>bobby <br>guy <br>yeah <br>mr <br>mom <br>grace <br>fuck <br>shit <br>dad <br>be <br>okay <br>ya <br>get to <br>fuckin <br>cont'd <br>green <br>-PRON- <br>\"], [10, 2.7753055095672607, 0.8927571177482605, 3.250772714614868, \"sam <br>to <br>go to <br>bobby <br>guy <br>yeah <br>mr <br>mom <br>grace <br>fuck <br>shit <br>dad <br>be <br>okay <br>ya <br>get to <br>fuckin <br>cont'd <br>green <br>-PRON- <br>\"], [10, 3.7996652126312256, 2.9475033283233643, 1.235300898551941, \"sam <br>to <br>go to <br>bobby <br>guy <br>yeah <br>mr <br>mom <br>grace <br>fuck <br>shit <br>dad <br>be <br>okay <br>ya <br>get to <br>fuckin <br>cont'd <br>green <br>-PRON- <br>\"], [10, -0.45453858375549316, -1.0234665870666504, -0.8571218252182007, \"sam <br>to <br>go to <br>bobby <br>guy <br>yeah <br>mr <br>mom <br>grace <br>fuck <br>shit <br>dad <br>be <br>okay <br>ya <br>get to <br>fuckin <br>cont'd <br>green <br>-PRON- <br>\"], [10, 3.778738498687744, 3.2156620025634766, 2.765886068344116, \"sam <br>to <br>go to <br>bobby <br>guy <br>yeah <br>mr <br>mom <br>grace <br>fuck <br>shit <br>dad <br>be <br>okay <br>ya <br>get to <br>fuckin <br>cont'd <br>green <br>-PRON- <br>\"], [10, 1.4364897012710571, -1.3234819173812866, 2.1455068588256836, \"sam <br>to <br>go to <br>bobby <br>guy <br>yeah <br>mr <br>mom <br>grace <br>fuck <br>shit <br>dad <br>be <br>okay <br>ya <br>get to <br>fuckin <br>cont'd <br>green <br>-PRON- <br>\"], [10, 3.3387391567230225, 2.954090118408203, -0.22937944531440735, \"sam <br>to <br>go to <br>bobby <br>guy <br>yeah <br>mr <br>mom <br>grace <br>fuck <br>shit <br>dad <br>be <br>okay <br>ya <br>get to <br>fuckin <br>cont'd <br>green <br>-PRON- <br>\"], [10, 3.860319137573242, 3.300029993057251, 0.3650818169116974, \"sam <br>to <br>go to <br>bobby <br>guy <br>yeah <br>mr <br>mom <br>grace <br>fuck <br>shit <br>dad <br>be <br>okay <br>ya <br>get to <br>fuckin <br>cont'd <br>green <br>-PRON- <br>\"], [10, -0.5386582016944885, 1.3810313940048218, 3.560331106185913, \"sam <br>to <br>go to <br>bobby <br>guy <br>yeah <br>mr <br>mom <br>grace <br>fuck <br>shit <br>dad <br>be <br>okay <br>ya <br>get to <br>fuckin <br>cont'd <br>green <br>-PRON- <br>\"], [10, 2.0785820484161377, 0.5665289759635925, 1.074151873588562, \"sam <br>to <br>go to <br>bobby <br>guy <br>yeah <br>mr <br>mom <br>grace <br>fuck <br>shit <br>dad <br>be <br>okay <br>ya <br>get to <br>fuckin <br>cont'd <br>green <br>-PRON- <br>\"], [10, 1.246967077255249, 0.9837726950645447, 0.24802976846694946, \"sam <br>to <br>go to <br>bobby <br>guy <br>yeah <br>mr <br>mom <br>grace <br>fuck <br>shit <br>dad <br>be <br>okay <br>ya <br>get to <br>fuckin <br>cont'd <br>green <br>-PRON- <br>\"], [10, 1.613743543624878, 2.4397552013397217, 2.242335796356201, \"sam <br>to <br>go to <br>bobby <br>guy <br>yeah <br>mr <br>mom <br>grace <br>fuck <br>shit <br>dad <br>be <br>okay <br>ya <br>get to <br>fuckin <br>cont'd <br>green <br>-PRON- <br>\"]], \"mode\": \"markers\", \"showlegend\": false, \"type\": \"scatter3d\", \"x\": [1.7544082403182983, 0.8002125024795532, -0.48101386427879333, 0.6063399314880371, 4.803088665008545, 3.3572659492492676, -0.007435913663357496, 4.3037495613098145, 1.1521294116973877, -0.03925077244639397, 3.1317286491394043, 0.36195334792137146, 4.619823932647705, 0.04568243771791458, 1.0489898920059204, 2.7421698570251465, 2.5712480545043945, -0.5984542965888977, -0.1984531730413437, 4.032869815826416, 3.564241886138916, 3.8386332988739014, -0.3538600504398346, 2.1747186183929443, 2.35422420501709, 2.868725061416626, 2.9295883178710938, -0.12356220930814743, 2.7186737060546875, 2.598217725753784, 2.8876514434814453, 3.169071674346924, 0.9422063827514648, 1.0660178661346436, 2.780933141708374, 2.291079044342041, -1.1947300434112549, 3.932582378387451, 0.762880802154541, 1.432275652885437, 1.9711275100708008, 3.106084108352661, 2.323474884033203, 2.4607324600219727, 1.6442748308181763, 0.7247126698493958, 1.7578811645507812, 2.7753055095672607, 3.7996652126312256, -0.45453858375549316, 3.778738498687744, 1.4364897012710571, 3.3387391567230225, 3.860319137573242, -0.5386582016944885, 2.0785820484161377, 1.246967077255249, 1.613743543624878], \"y\": [0.20885591208934784, 1.9835468530654907, 0.666580080986023, 1.2627862691879272, 1.2323311567306519, 2.452918291091919, 1.7069729566574097, 1.7518236637115479, 2.636497735977173, -0.7252169251441956, 2.4066882133483887, 1.0159661769866943, 1.4151692390441895, 0.4658430814743042, 1.1209566593170166, 2.0022573471069336, -1.3385463953018188, 0.7667403817176819, 0.6798589825630188, 2.490886688232422, 2.144530773162842, 2.497159242630005, -1.259655237197876, 3.638556957244873, 0.8906143307685852, 0.9398513436317444, 1.005448579788208, 0.7127481698989868, 0.976530134677887, 2.4211697578430176, 2.195885419845581, -0.5652716755867004, 0.9838249683380127, 2.179185628890991, 1.3332726955413818, 1.1183632612228394, -0.3855086863040924, 2.9597854614257812, 2.1383447647094727, 0.9192761182785034, 1.3740566968917847, -0.3591529130935669, 2.5531115531921387, 1.4968361854553223, 3.529449462890625, 1.0179762840270996, 1.2514911890029907, 0.8927571177482605, 2.9475033283233643, -1.0234665870666504, 3.2156620025634766, -1.3234819173812866, 2.954090118408203, 3.300029993057251, 1.3810313940048218, 0.5665289759635925, 0.9837726950645447, 2.4397552013397217], \"z\": [0.4705810546875, 3.8967106342315674, -0.5765237212181091, 1.5622235536575317, 2.382215738296509, 2.3961615562438965, 2.626420021057129, 2.425936460494995, 0.7507421970367432, -0.25320374965667725, 3.1010196208953857, 1.5010169744491577, 2.3957712650299072, -1.3264880180358887, -0.11272203177213669, 1.8430891036987305, 1.3916047811508179, 3.0541365146636963, -1.577135682106018, 3.0892226696014404, 3.2401154041290283, 2.6187102794647217, -0.7480136156082153, 2.357006549835205, 3.0977861881256104, 3.329021692276001, -0.6509871482849121, 2.9515113830566406, -0.3449189364910126, 3.4044384956359863, 2.1799893379211426, 0.8169811964035034, 2.407022476196289, 0.8376731276512146, 2.4050028324127197, 0.9625120162963867, 0.22347897291183472, 1.529143214225769, 2.3749334812164307, -0.5830029845237732, 1.0092754364013672, 0.7694433927536011, 1.8534002304077148, 0.032801851630210876, 3.853126287460327, -0.4757276177406311, 0.8718441128730774, 3.250772714614868, 1.235300898551941, -0.8571218252182007, 2.765886068344116, 2.1455068588256836, -0.22937944531440735, 0.3650818169116974, 3.560331106185913, 1.074151873588562, 0.24802976846694946, 2.242335796356201]}, {\"hovertemplate\": \"%{meta[4]}<extra></extra>\", \"meta\": [[11, -3.5450005531311035, -9.041714668273926, 1.5748549699783325, \"charlie <br>arthur <br>draft <br>stark <br>cont'd <br>william <br>mumble <br>okay <br>johnny <br>dr <br>mr <br>bill <br>yeah <br>ford <br>wink <br>to <br>jean <br>steve <br>mom <br>ice <br>\"], [11, -3.964312791824341, -6.600677967071533, 3.508333683013916, \"charlie <br>arthur <br>draft <br>stark <br>cont'd <br>william <br>mumble <br>okay <br>johnny <br>dr <br>mr <br>bill <br>yeah <br>ford <br>wink <br>to <br>jean <br>steve <br>mom <br>ice <br>\"], [11, -4.9417595863342285, -10.1467866897583, 3.1624536514282227, \"charlie <br>arthur <br>draft <br>stark <br>cont'd <br>william <br>mumble <br>okay <br>johnny <br>dr <br>mr <br>bill <br>yeah <br>ford <br>wink <br>to <br>jean <br>steve <br>mom <br>ice <br>\"], [11, -4.669947624206543, -9.83983039855957, 3.145798444747925, \"charlie <br>arthur <br>draft <br>stark <br>cont'd <br>william <br>mumble <br>okay <br>johnny <br>dr <br>mr <br>bill <br>yeah <br>ford <br>wink <br>to <br>jean <br>steve <br>mom <br>ice <br>\"], [11, -3.9997520446777344, -6.78446102142334, 3.4831387996673584, \"charlie <br>arthur <br>draft <br>stark <br>cont'd <br>william <br>mumble <br>okay <br>johnny <br>dr <br>mr <br>bill <br>yeah <br>ford <br>wink <br>to <br>jean <br>steve <br>mom <br>ice <br>\"], [11, -4.173559665679932, -9.411535263061523, 2.4599156379699707, \"charlie <br>arthur <br>draft <br>stark <br>cont'd <br>william <br>mumble <br>okay <br>johnny <br>dr <br>mr <br>bill <br>yeah <br>ford <br>wink <br>to <br>jean <br>steve <br>mom <br>ice <br>\"], [11, -4.855515480041504, -9.36676025390625, 3.6890039443969727, \"charlie <br>arthur <br>draft <br>stark <br>cont'd <br>william <br>mumble <br>okay <br>johnny <br>dr <br>mr <br>bill <br>yeah <br>ford <br>wink <br>to <br>jean <br>steve <br>mom <br>ice <br>\"], [11, -3.7702796459198, -8.396513938903809, 3.1552696228027344, \"charlie <br>arthur <br>draft <br>stark <br>cont'd <br>william <br>mumble <br>okay <br>johnny <br>dr <br>mr <br>bill <br>yeah <br>ford <br>wink <br>to <br>jean <br>steve <br>mom <br>ice <br>\"], [11, -4.693003177642822, -8.743618965148926, 3.8305816650390625, \"charlie <br>arthur <br>draft <br>stark <br>cont'd <br>william <br>mumble <br>okay <br>johnny <br>dr <br>mr <br>bill <br>yeah <br>ford <br>wink <br>to <br>jean <br>steve <br>mom <br>ice <br>\"], [11, -4.714363098144531, -7.256141662597656, 3.19635272026062, \"charlie <br>arthur <br>draft <br>stark <br>cont'd <br>william <br>mumble <br>okay <br>johnny <br>dr <br>mr <br>bill <br>yeah <br>ford <br>wink <br>to <br>jean <br>steve <br>mom <br>ice <br>\"], [11, -4.590982437133789, -7.389904022216797, 2.1174983978271484, \"charlie <br>arthur <br>draft <br>stark <br>cont'd <br>william <br>mumble <br>okay <br>johnny <br>dr <br>mr <br>bill <br>yeah <br>ford <br>wink <br>to <br>jean <br>steve <br>mom <br>ice <br>\"], [11, -4.658005237579346, -8.675570487976074, 3.9394850730895996, \"charlie <br>arthur <br>draft <br>stark <br>cont'd <br>william <br>mumble <br>okay <br>johnny <br>dr <br>mr <br>bill <br>yeah <br>ford <br>wink <br>to <br>jean <br>steve <br>mom <br>ice <br>\"], [11, -4.655770301818848, -7.419189453125, 1.8100736141204834, \"charlie <br>arthur <br>draft <br>stark <br>cont'd <br>william <br>mumble <br>okay <br>johnny <br>dr <br>mr <br>bill <br>yeah <br>ford <br>wink <br>to <br>jean <br>steve <br>mom <br>ice <br>\"], [11, -4.7997660636901855, -9.546271324157715, 3.1234867572784424, \"charlie <br>arthur <br>draft <br>stark <br>cont'd <br>william <br>mumble <br>okay <br>johnny <br>dr <br>mr <br>bill <br>yeah <br>ford <br>wink <br>to <br>jean <br>steve <br>mom <br>ice <br>\"], [11, -4.442912578582764, -8.942380905151367, 3.591243028640747, \"charlie <br>arthur <br>draft <br>stark <br>cont'd <br>william <br>mumble <br>okay <br>johnny <br>dr <br>mr <br>bill <br>yeah <br>ford <br>wink <br>to <br>jean <br>steve <br>mom <br>ice <br>\"], [11, -4.922275066375732, -9.324111938476562, 2.6134209632873535, \"charlie <br>arthur <br>draft <br>stark <br>cont'd <br>william <br>mumble <br>okay <br>johnny <br>dr <br>mr <br>bill <br>yeah <br>ford <br>wink <br>to <br>jean <br>steve <br>mom <br>ice <br>\"], [11, -5.165362358093262, -8.920737266540527, 3.1578378677368164, \"charlie <br>arthur <br>draft <br>stark <br>cont'd <br>william <br>mumble <br>okay <br>johnny <br>dr <br>mr <br>bill <br>yeah <br>ford <br>wink <br>to <br>jean <br>steve <br>mom <br>ice <br>\"], [11, -4.361320972442627, -5.6775803565979, 3.104630947113037, \"charlie <br>arthur <br>draft <br>stark <br>cont'd <br>william <br>mumble <br>okay <br>johnny <br>dr <br>mr <br>bill <br>yeah <br>ford <br>wink <br>to <br>jean <br>steve <br>mom <br>ice <br>\"], [11, -4.213827610015869, -8.995892524719238, 3.448450803756714, \"charlie <br>arthur <br>draft <br>stark <br>cont'd <br>william <br>mumble <br>okay <br>johnny <br>dr <br>mr <br>bill <br>yeah <br>ford <br>wink <br>to <br>jean <br>steve <br>mom <br>ice <br>\"], [11, -4.899643898010254, -8.333905220031738, 3.153224229812622, \"charlie <br>arthur <br>draft <br>stark <br>cont'd <br>william <br>mumble <br>okay <br>johnny <br>dr <br>mr <br>bill <br>yeah <br>ford <br>wink <br>to <br>jean <br>steve <br>mom <br>ice <br>\"], [11, -4.409934043884277, -7.110105991363525, 3.148911714553833, \"charlie <br>arthur <br>draft <br>stark <br>cont'd <br>william <br>mumble <br>okay <br>johnny <br>dr <br>mr <br>bill <br>yeah <br>ford <br>wink <br>to <br>jean <br>steve <br>mom <br>ice <br>\"]], \"mode\": \"markers\", \"showlegend\": false, \"type\": \"scatter3d\", \"x\": [-3.5450005531311035, -3.964312791824341, -4.9417595863342285, -4.669947624206543, -3.9997520446777344, -4.173559665679932, -4.855515480041504, -3.7702796459198, -4.693003177642822, -4.714363098144531, -4.590982437133789, -4.658005237579346, -4.655770301818848, -4.7997660636901855, -4.442912578582764, -4.922275066375732, -5.165362358093262, -4.361320972442627, -4.213827610015869, -4.899643898010254, -4.409934043884277], \"y\": [-9.041714668273926, -6.600677967071533, -10.1467866897583, -9.83983039855957, -6.78446102142334, -9.411535263061523, -9.36676025390625, -8.396513938903809, -8.743618965148926, -7.256141662597656, -7.389904022216797, -8.675570487976074, -7.419189453125, -9.546271324157715, -8.942380905151367, -9.324111938476562, -8.920737266540527, -5.6775803565979, -8.995892524719238, -8.333905220031738, -7.110105991363525], \"z\": [1.5748549699783325, 3.508333683013916, 3.1624536514282227, 3.145798444747925, 3.4831387996673584, 2.4599156379699707, 3.6890039443969727, 3.1552696228027344, 3.8305816650390625, 3.19635272026062, 2.1174983978271484, 3.9394850730895996, 1.8100736141204834, 3.1234867572784424, 3.591243028640747, 2.6134209632873535, 3.1578378677368164, 3.104630947113037, 3.448450803756714, 3.153224229812622, 3.148911714553833]}, {\"hovertemplate\": \"%{meta[4]}<extra></extra>\", \"meta\": [[12, -13.431931495666504, 2.591827392578125, 3.866225242614746, \"cont'd <br>continue continue <br>boat <br>martin <br>continuous <br>smith <br>draw <br>v.o <br>dragon <br>blue <br>king <br>beach <br>angle <br>chase <br>dog <br>final <br>o.s <br>sea <br>crowd <br>land <br>\"], [12, -12.723672866821289, 3.500276565551758, 4.034658432006836, \"cont'd <br>continue continue <br>boat <br>martin <br>continuous <br>smith <br>draw <br>v.o <br>dragon <br>blue <br>king <br>beach <br>angle <br>chase <br>dog <br>final <br>o.s <br>sea <br>crowd <br>land <br>\"], [12, -11.621322631835938, 3.442237138748169, 4.623394012451172, \"cont'd <br>continue continue <br>boat <br>martin <br>continuous <br>smith <br>draw <br>v.o <br>dragon <br>blue <br>king <br>beach <br>angle <br>chase <br>dog <br>final <br>o.s <br>sea <br>crowd <br>land <br>\"], [12, -12.832314491271973, 1.9158107042312622, 2.6578781604766846, \"cont'd <br>continue continue <br>boat <br>martin <br>continuous <br>smith <br>draw <br>v.o <br>dragon <br>blue <br>king <br>beach <br>angle <br>chase <br>dog <br>final <br>o.s <br>sea <br>crowd <br>land <br>\"], [12, -13.856834411621094, 2.774980306625366, 2.22615647315979, \"cont'd <br>continue continue <br>boat <br>martin <br>continuous <br>smith <br>draw <br>v.o <br>dragon <br>blue <br>king <br>beach <br>angle <br>chase <br>dog <br>final <br>o.s <br>sea <br>crowd <br>land <br>\"], [12, -11.446467399597168, 3.5025370121002197, 4.644241809844971, \"cont'd <br>continue continue <br>boat <br>martin <br>continuous <br>smith <br>draw <br>v.o <br>dragon <br>blue <br>king <br>beach <br>angle <br>chase <br>dog <br>final <br>o.s <br>sea <br>crowd <br>land <br>\"], [12, -11.876749992370605, 2.716578483581543, 3.4881532192230225, \"cont'd <br>continue continue <br>boat <br>martin <br>continuous <br>smith <br>draw <br>v.o <br>dragon <br>blue <br>king <br>beach <br>angle <br>chase <br>dog <br>final <br>o.s <br>sea <br>crowd <br>land <br>\"], [12, -14.401175498962402, 2.1086199283599854, 2.638200521469116, \"cont'd <br>continue continue <br>boat <br>martin <br>continuous <br>smith <br>draw <br>v.o <br>dragon <br>blue <br>king <br>beach <br>angle <br>chase <br>dog <br>final <br>o.s <br>sea <br>crowd <br>land <br>\"], [12, -12.191732406616211, 2.627455472946167, 3.469038724899292, \"cont'd <br>continue continue <br>boat <br>martin <br>continuous <br>smith <br>draw <br>v.o <br>dragon <br>blue <br>king <br>beach <br>angle <br>chase <br>dog <br>final <br>o.s <br>sea <br>crowd <br>land <br>\"], [12, -12.779250144958496, 1.910620093345642, 2.6616995334625244, \"cont'd <br>continue continue <br>boat <br>martin <br>continuous <br>smith <br>draw <br>v.o <br>dragon <br>blue <br>king <br>beach <br>angle <br>chase <br>dog <br>final <br>o.s <br>sea <br>crowd <br>land <br>\"], [12, -13.003780364990234, 2.021711587905884, 2.7456064224243164, \"cont'd <br>continue continue <br>boat <br>martin <br>continuous <br>smith <br>draw <br>v.o <br>dragon <br>blue <br>king <br>beach <br>angle <br>chase <br>dog <br>final <br>o.s <br>sea <br>crowd <br>land <br>\"], [12, -14.022096633911133, 2.446179151535034, 2.9617760181427, \"cont'd <br>continue continue <br>boat <br>martin <br>continuous <br>smith <br>draw <br>v.o <br>dragon <br>blue <br>king <br>beach <br>angle <br>chase <br>dog <br>final <br>o.s <br>sea <br>crowd <br>land <br>\"], [12, -12.540372848510742, 3.0671963691711426, 4.089658737182617, \"cont'd <br>continue continue <br>boat <br>martin <br>continuous <br>smith <br>draw <br>v.o <br>dragon <br>blue <br>king <br>beach <br>angle <br>chase <br>dog <br>final <br>o.s <br>sea <br>crowd <br>land <br>\"], [12, -13.353301048278809, 2.7457566261291504, 3.432908773422241, \"cont'd <br>continue continue <br>boat <br>martin <br>continuous <br>smith <br>draw <br>v.o <br>dragon <br>blue <br>king <br>beach <br>angle <br>chase <br>dog <br>final <br>o.s <br>sea <br>crowd <br>land <br>\"], [12, -13.634947776794434, 2.3323612213134766, 3.105787515640259, \"cont'd <br>continue continue <br>boat <br>martin <br>continuous <br>smith <br>draw <br>v.o <br>dragon <br>blue <br>king <br>beach <br>angle <br>chase <br>dog <br>final <br>o.s <br>sea <br>crowd <br>land <br>\"], [12, -14.002886772155762, 2.050257444381714, 2.852797508239746, \"cont'd <br>continue continue <br>boat <br>martin <br>continuous <br>smith <br>draw <br>v.o <br>dragon <br>blue <br>king <br>beach <br>angle <br>chase <br>dog <br>final <br>o.s <br>sea <br>crowd <br>land <br>\"], [12, -13.358526229858398, 2.6677534580230713, 3.6810495853424072, \"cont'd <br>continue continue <br>boat <br>martin <br>continuous <br>smith <br>draw <br>v.o <br>dragon <br>blue <br>king <br>beach <br>angle <br>chase <br>dog <br>final <br>o.s <br>sea <br>crowd <br>land <br>\"], [12, -14.687715530395508, 1.9743000268936157, 2.5766050815582275, \"cont'd <br>continue continue <br>boat <br>martin <br>continuous <br>smith <br>draw <br>v.o <br>dragon <br>blue <br>king <br>beach <br>angle <br>chase <br>dog <br>final <br>o.s <br>sea <br>crowd <br>land <br>\"], [12, -12.831653594970703, 3.383849859237671, 3.3165698051452637, \"cont'd <br>continue continue <br>boat <br>martin <br>continuous <br>smith <br>draw <br>v.o <br>dragon <br>blue <br>king <br>beach <br>angle <br>chase <br>dog <br>final <br>o.s <br>sea <br>crowd <br>land <br>\"]], \"mode\": \"markers\", \"showlegend\": false, \"type\": \"scatter3d\", \"x\": [-13.431931495666504, -12.723672866821289, -11.621322631835938, -12.832314491271973, -13.856834411621094, -11.446467399597168, -11.876749992370605, -14.401175498962402, -12.191732406616211, -12.779250144958496, -13.003780364990234, -14.022096633911133, -12.540372848510742, -13.353301048278809, -13.634947776794434, -14.002886772155762, -13.358526229858398, -14.687715530395508, -12.831653594970703], \"y\": [2.591827392578125, 3.500276565551758, 3.442237138748169, 1.9158107042312622, 2.774980306625366, 3.5025370121002197, 2.716578483581543, 2.1086199283599854, 2.627455472946167, 1.910620093345642, 2.021711587905884, 2.446179151535034, 3.0671963691711426, 2.7457566261291504, 2.3323612213134766, 2.050257444381714, 2.6677534580230713, 1.9743000268936157, 3.383849859237671], \"z\": [3.866225242614746, 4.034658432006836, 4.623394012451172, 2.6578781604766846, 2.22615647315979, 4.644241809844971, 3.4881532192230225, 2.638200521469116, 3.469038724899292, 2.6616995334625244, 2.7456064224243164, 2.9617760181427, 4.089658737182617, 3.432908773422241, 3.105787515640259, 2.852797508239746, 3.6810495853424072, 2.5766050815582275, 3.3165698051452637]}, {\"hovertemplate\": \"%{meta[4]}<extra></extra>\", \"meta\": [[13, -8.08674430847168, -5.155705451965332, -1.4210968017578125, \"mrs <br>father <br>tree <br>baby <br>child <br>precious <br>prince <br>camera <br>mr <br>lord <br>jack <br>wife <br>witch <br>round <br>o.s <br>egg <br>rain <br>edward <br>short <br>sword <br>\"], [13, -6.511449813842773, -5.698183536529541, -2.0895895957946777, \"mrs <br>father <br>tree <br>baby <br>child <br>precious <br>prince <br>camera <br>mr <br>lord <br>jack <br>wife <br>witch <br>round <br>o.s <br>egg <br>rain <br>edward <br>short <br>sword <br>\"], [13, -4.694868564605713, -2.508430004119873, -0.14793848991394043, \"mrs <br>father <br>tree <br>baby <br>child <br>precious <br>prince <br>camera <br>mr <br>lord <br>jack <br>wife <br>witch <br>round <br>o.s <br>egg <br>rain <br>edward <br>short <br>sword <br>\"], [13, -6.011356830596924, -4.906548023223877, -1.5501959323883057, \"mrs <br>father <br>tree <br>baby <br>child <br>precious <br>prince <br>camera <br>mr <br>lord <br>jack <br>wife <br>witch <br>round <br>o.s <br>egg <br>rain <br>edward <br>short <br>sword <br>\"], [13, -7.63494348526001, -4.693637371063232, -3.2174549102783203, \"mrs <br>father <br>tree <br>baby <br>child <br>precious <br>prince <br>camera <br>mr <br>lord <br>jack <br>wife <br>witch <br>round <br>o.s <br>egg <br>rain <br>edward <br>short <br>sword <br>\"], [13, -7.620701789855957, -4.475024700164795, -2.0702033042907715, \"mrs <br>father <br>tree <br>baby <br>child <br>precious <br>prince <br>camera <br>mr <br>lord <br>jack <br>wife <br>witch <br>round <br>o.s <br>egg <br>rain <br>edward <br>short <br>sword <br>\"], [13, -6.7080464363098145, -4.991145133972168, -1.5871822834014893, \"mrs <br>father <br>tree <br>baby <br>child <br>precious <br>prince <br>camera <br>mr <br>lord <br>jack <br>wife <br>witch <br>round <br>o.s <br>egg <br>rain <br>edward <br>short <br>sword <br>\"], [13, -6.878888130187988, -4.8115458488464355, -1.130054235458374, \"mrs <br>father <br>tree <br>baby <br>child <br>precious <br>prince <br>camera <br>mr <br>lord <br>jack <br>wife <br>witch <br>round <br>o.s <br>egg <br>rain <br>edward <br>short <br>sword <br>\"], [13, -7.27739143371582, -5.287169933319092, -1.5283195972442627, \"mrs <br>father <br>tree <br>baby <br>child <br>precious <br>prince <br>camera <br>mr <br>lord <br>jack <br>wife <br>witch <br>round <br>o.s <br>egg <br>rain <br>edward <br>short <br>sword <br>\"], [13, -7.645617961883545, -4.959766387939453, -1.9699944257736206, \"mrs <br>father <br>tree <br>baby <br>child <br>precious <br>prince <br>camera <br>mr <br>lord <br>jack <br>wife <br>witch <br>round <br>o.s <br>egg <br>rain <br>edward <br>short <br>sword <br>\"], [13, -5.462355613708496, -3.0806047916412354, 0.05176187679171562, \"mrs <br>father <br>tree <br>baby <br>child <br>precious <br>prince <br>camera <br>mr <br>lord <br>jack <br>wife <br>witch <br>round <br>o.s <br>egg <br>rain <br>edward <br>short <br>sword <br>\"], [13, -7.812977313995361, -4.95186710357666, -2.9120328426361084, \"mrs <br>father <br>tree <br>baby <br>child <br>precious <br>prince <br>camera <br>mr <br>lord <br>jack <br>wife <br>witch <br>round <br>o.s <br>egg <br>rain <br>edward <br>short <br>sword <br>\"], [13, -5.320901870727539, -5.916682720184326, -2.1932532787323, \"mrs <br>father <br>tree <br>baby <br>child <br>precious <br>prince <br>camera <br>mr <br>lord <br>jack <br>wife <br>witch <br>round <br>o.s <br>egg <br>rain <br>edward <br>short <br>sword <br>\"], [13, -5.167679309844971, -5.849454402923584, -2.286367416381836, \"mrs <br>father <br>tree <br>baby <br>child <br>precious <br>prince <br>camera <br>mr <br>lord <br>jack <br>wife <br>witch <br>round <br>o.s <br>egg <br>rain <br>edward <br>short <br>sword <br>\"], [13, -6.9764275550842285, -5.046713352203369, -2.4272618293762207, \"mrs <br>father <br>tree <br>baby <br>child <br>precious <br>prince <br>camera <br>mr <br>lord <br>jack <br>wife <br>witch <br>round <br>o.s <br>egg <br>rain <br>edward <br>short <br>sword <br>\"], [13, -7.902390956878662, -6.218191623687744, -1.2782052755355835, \"mrs <br>father <br>tree <br>baby <br>child <br>precious <br>prince <br>camera <br>mr <br>lord <br>jack <br>wife <br>witch <br>round <br>o.s <br>egg <br>rain <br>edward <br>short <br>sword <br>\"], [13, -4.831883907318115, -2.1145575046539307, -0.709297776222229, \"mrs <br>father <br>tree <br>baby <br>child <br>precious <br>prince <br>camera <br>mr <br>lord <br>jack <br>wife <br>witch <br>round <br>o.s <br>egg <br>rain <br>edward <br>short <br>sword <br>\"], [13, -6.848723411560059, -6.244594097137451, -2.7945799827575684, \"mrs <br>father <br>tree <br>baby <br>child <br>precious <br>prince <br>camera <br>mr <br>lord <br>jack <br>wife <br>witch <br>round <br>o.s <br>egg <br>rain <br>edward <br>short <br>sword <br>\"], [13, -6.605170249938965, -5.455521106719971, -3.3085708618164062, \"mrs <br>father <br>tree <br>baby <br>child <br>precious <br>prince <br>camera <br>mr <br>lord <br>jack <br>wife <br>witch <br>round <br>o.s <br>egg <br>rain <br>edward <br>short <br>sword <br>\"], [13, -7.634485244750977, -5.043540954589844, -1.1596596240997314, \"mrs <br>father <br>tree <br>baby <br>child <br>precious <br>prince <br>camera <br>mr <br>lord <br>jack <br>wife <br>witch <br>round <br>o.s <br>egg <br>rain <br>edward <br>short <br>sword <br>\"], [13, -5.054026126861572, -6.01677942276001, -2.20682954788208, \"mrs <br>father <br>tree <br>baby <br>child <br>precious <br>prince <br>camera <br>mr <br>lord <br>jack <br>wife <br>witch <br>round <br>o.s <br>egg <br>rain <br>edward <br>short <br>sword <br>\"], [13, -7.255764484405518, -5.954130172729492, -2.074212074279785, \"mrs <br>father <br>tree <br>baby <br>child <br>precious <br>prince <br>camera <br>mr <br>lord <br>jack <br>wife <br>witch <br>round <br>o.s <br>egg <br>rain <br>edward <br>short <br>sword <br>\"], [13, -8.010680198669434, -5.442172050476074, -1.9141968488693237, \"mrs <br>father <br>tree <br>baby <br>child <br>precious <br>prince <br>camera <br>mr <br>lord <br>jack <br>wife <br>witch <br>round <br>o.s <br>egg <br>rain <br>edward <br>short <br>sword <br>\"], [13, -6.96926212310791, -4.353161334991455, -3.0219998359680176, \"mrs <br>father <br>tree <br>baby <br>child <br>precious <br>prince <br>camera <br>mr <br>lord <br>jack <br>wife <br>witch <br>round <br>o.s <br>egg <br>rain <br>edward <br>short <br>sword <br>\"], [13, -5.668508052825928, -2.4447038173675537, -2.584146499633789, \"mrs <br>father <br>tree <br>baby <br>child <br>precious <br>prince <br>camera <br>mr <br>lord <br>jack <br>wife <br>witch <br>round <br>o.s <br>egg <br>rain <br>edward <br>short <br>sword <br>\"], [13, -7.354109764099121, -5.0230793952941895, -2.9859509468078613, \"mrs <br>father <br>tree <br>baby <br>child <br>precious <br>prince <br>camera <br>mr <br>lord <br>jack <br>wife <br>witch <br>round <br>o.s <br>egg <br>rain <br>edward <br>short <br>sword <br>\"], [13, -6.223293781280518, -3.263883113861084, -2.4742138385772705, \"mrs <br>father <br>tree <br>baby <br>child <br>precious <br>prince <br>camera <br>mr <br>lord <br>jack <br>wife <br>witch <br>round <br>o.s <br>egg <br>rain <br>edward <br>short <br>sword <br>\"], [13, -7.94118070602417, -5.877031326293945, -2.6267917156219482, \"mrs <br>father <br>tree <br>baby <br>child <br>precious <br>prince <br>camera <br>mr <br>lord <br>jack <br>wife <br>witch <br>round <br>o.s <br>egg <br>rain <br>edward <br>short <br>sword <br>\"], [13, -8.243453979492188, -5.13724422454834, -2.02042293548584, \"mrs <br>father <br>tree <br>baby <br>child <br>precious <br>prince <br>camera <br>mr <br>lord <br>jack <br>wife <br>witch <br>round <br>o.s <br>egg <br>rain <br>edward <br>short <br>sword <br>\"]], \"mode\": \"markers\", \"showlegend\": false, \"type\": \"scatter3d\", \"x\": [-8.08674430847168, -6.511449813842773, -4.694868564605713, -6.011356830596924, -7.63494348526001, -7.620701789855957, -6.7080464363098145, -6.878888130187988, -7.27739143371582, -7.645617961883545, -5.462355613708496, -7.812977313995361, -5.320901870727539, -5.167679309844971, -6.9764275550842285, -7.902390956878662, -4.831883907318115, -6.848723411560059, -6.605170249938965, -7.634485244750977, -5.054026126861572, -7.255764484405518, -8.010680198669434, -6.96926212310791, -5.668508052825928, -7.354109764099121, -6.223293781280518, -7.94118070602417, -8.243453979492188], \"y\": [-5.155705451965332, -5.698183536529541, -2.508430004119873, -4.906548023223877, -4.693637371063232, -4.475024700164795, -4.991145133972168, -4.8115458488464355, -5.287169933319092, -4.959766387939453, -3.0806047916412354, -4.95186710357666, -5.916682720184326, -5.849454402923584, -5.046713352203369, -6.218191623687744, -2.1145575046539307, -6.244594097137451, -5.455521106719971, -5.043540954589844, -6.01677942276001, -5.954130172729492, -5.442172050476074, -4.353161334991455, -2.4447038173675537, -5.0230793952941895, -3.263883113861084, -5.877031326293945, -5.13724422454834], \"z\": [-1.4210968017578125, -2.0895895957946777, -0.14793848991394043, -1.5501959323883057, -3.2174549102783203, -2.0702033042907715, -1.5871822834014893, -1.130054235458374, -1.5283195972442627, -1.9699944257736206, 0.05176187679171562, -2.9120328426361084, -2.1932532787323, -2.286367416381836, -2.4272618293762207, -1.2782052755355835, -0.709297776222229, -2.7945799827575684, -3.3085708618164062, -1.1596596240997314, -2.20682954788208, -2.074212074279785, -1.9141968488693237, -3.0219998359680176, -2.584146499633789, -2.9859509468078613, -2.4742138385772705, -2.6267917156219482, -2.02042293548584]}, {\"hovertemplate\": \"%{meta[4]}<extra></extra>\", \"meta\": [[14, -5.410925388336182, 7.454742908477783, -0.33189690113067627, \"paul <br>harry <br>joe <br>billy <br>cont'd <br>phone <br>august <br>okay <br>hotel <br>camera <br>draw <br>field <br>office <br>jean <br>furious <br>rev <br>building <br>mr <br>guy <br>apartment <br>\"], [14, -5.32337760925293, 4.133946418762207, -2.2270655632019043, \"paul <br>harry <br>joe <br>billy <br>cont'd <br>phone <br>august <br>okay <br>hotel <br>camera <br>draw <br>field <br>office <br>jean <br>furious <br>rev <br>building <br>mr <br>guy <br>apartment <br>\"], [14, -7.777828693389893, 6.381640434265137, -1.0388909578323364, \"paul <br>harry <br>joe <br>billy <br>cont'd <br>phone <br>august <br>okay <br>hotel <br>camera <br>draw <br>field <br>office <br>jean <br>furious <br>rev <br>building <br>mr <br>guy <br>apartment <br>\"], [14, -6.736598968505859, 6.194070816040039, -1.6020961999893188, \"paul <br>harry <br>joe <br>billy <br>cont'd <br>phone <br>august <br>okay <br>hotel <br>camera <br>draw <br>field <br>office <br>jean <br>furious <br>rev <br>building <br>mr <br>guy <br>apartment <br>\"], [14, -6.550011157989502, 6.2219929695129395, -0.6269164681434631, \"paul <br>harry <br>joe <br>billy <br>cont'd <br>phone <br>august <br>okay <br>hotel <br>camera <br>draw <br>field <br>office <br>jean <br>furious <br>rev <br>building <br>mr <br>guy <br>apartment <br>\"], [14, -5.730963230133057, 5.2932820320129395, -1.48918879032135, \"paul <br>harry <br>joe <br>billy <br>cont'd <br>phone <br>august <br>okay <br>hotel <br>camera <br>draw <br>field <br>office <br>jean <br>furious <br>rev <br>building <br>mr <br>guy <br>apartment <br>\"], [14, -7.952420234680176, 6.888127326965332, -1.3481037616729736, \"paul <br>harry <br>joe <br>billy <br>cont'd <br>phone <br>august <br>okay <br>hotel <br>camera <br>draw <br>field <br>office <br>jean <br>furious <br>rev <br>building <br>mr <br>guy <br>apartment <br>\"], [14, -5.9190850257873535, 5.068552017211914, 0.857456624507904, \"paul <br>harry <br>joe <br>billy <br>cont'd <br>phone <br>august <br>okay <br>hotel <br>camera <br>draw <br>field <br>office <br>jean <br>furious <br>rev <br>building <br>mr <br>guy <br>apartment <br>\"], [14, -6.21498441696167, 6.3928542137146, -1.6001604795455933, \"paul <br>harry <br>joe <br>billy <br>cont'd <br>phone <br>august <br>okay <br>hotel <br>camera <br>draw <br>field <br>office <br>jean <br>furious <br>rev <br>building <br>mr <br>guy <br>apartment <br>\"], [14, -4.679220199584961, 6.556557655334473, -1.544424057006836, \"paul <br>harry <br>joe <br>billy <br>cont'd <br>phone <br>august <br>okay <br>hotel <br>camera <br>draw <br>field <br>office <br>jean <br>furious <br>rev <br>building <br>mr <br>guy <br>apartment <br>\"], [14, -6.829536437988281, 7.0574493408203125, -0.7308229804039001, \"paul <br>harry <br>joe <br>billy <br>cont'd <br>phone <br>august <br>okay <br>hotel <br>camera <br>draw <br>field <br>office <br>jean <br>furious <br>rev <br>building <br>mr <br>guy <br>apartment <br>\"], [14, -7.801332473754883, 6.643362998962402, -1.7049119472503662, \"paul <br>harry <br>joe <br>billy <br>cont'd <br>phone <br>august <br>okay <br>hotel <br>camera <br>draw <br>field <br>office <br>jean <br>furious <br>rev <br>building <br>mr <br>guy <br>apartment <br>\"], [14, -5.135263919830322, 6.0433669090271, -0.6037861704826355, \"paul <br>harry <br>joe <br>billy <br>cont'd <br>phone <br>august <br>okay <br>hotel <br>camera <br>draw <br>field <br>office <br>jean <br>furious <br>rev <br>building <br>mr <br>guy <br>apartment <br>\"], [14, -7.2273850440979, 7.0359320640563965, -0.4654378592967987, \"paul <br>harry <br>joe <br>billy <br>cont'd <br>phone <br>august <br>okay <br>hotel <br>camera <br>draw <br>field <br>office <br>jean <br>furious <br>rev <br>building <br>mr <br>guy <br>apartment <br>\"], [14, -5.669007778167725, 6.698418140411377, -1.7894697189331055, \"paul <br>harry <br>joe <br>billy <br>cont'd <br>phone <br>august <br>okay <br>hotel <br>camera <br>draw <br>field <br>office <br>jean <br>furious <br>rev <br>building <br>mr <br>guy <br>apartment <br>\"], [14, -6.936276435852051, 6.5137810707092285, -1.06093168258667, \"paul <br>harry <br>joe <br>billy <br>cont'd <br>phone <br>august <br>okay <br>hotel <br>camera <br>draw <br>field <br>office <br>jean <br>furious <br>rev <br>building <br>mr <br>guy <br>apartment <br>\"], [14, -6.073066234588623, 4.684852123260498, -0.09063728153705597, \"paul <br>harry <br>joe <br>billy <br>cont'd <br>phone <br>august <br>okay <br>hotel <br>camera <br>draw <br>field <br>office <br>jean <br>furious <br>rev <br>building <br>mr <br>guy <br>apartment <br>\"], [14, -6.511139392852783, 6.786012172698975, -0.11972497403621674, \"paul <br>harry <br>joe <br>billy <br>cont'd <br>phone <br>august <br>okay <br>hotel <br>camera <br>draw <br>field <br>office <br>jean <br>furious <br>rev <br>building <br>mr <br>guy <br>apartment <br>\"], [14, -6.366129398345947, 4.975788116455078, -0.6237748861312866, \"paul <br>harry <br>joe <br>billy <br>cont'd <br>phone <br>august <br>okay <br>hotel <br>camera <br>draw <br>field <br>office <br>jean <br>furious <br>rev <br>building <br>mr <br>guy <br>apartment <br>\"], [14, -6.8318095207214355, 5.316239833831787, -0.6526234745979309, \"paul <br>harry <br>joe <br>billy <br>cont'd <br>phone <br>august <br>okay <br>hotel <br>camera <br>draw <br>field <br>office <br>jean <br>furious <br>rev <br>building <br>mr <br>guy <br>apartment <br>\"], [14, -5.30920934677124, 3.7608883380889893, -0.3375861644744873, \"paul <br>harry <br>joe <br>billy <br>cont'd <br>phone <br>august <br>okay <br>hotel <br>camera <br>draw <br>field <br>office <br>jean <br>furious <br>rev <br>building <br>mr <br>guy <br>apartment <br>\"], [14, -6.499756336212158, 8.148813247680664, -1.4532239437103271, \"paul <br>harry <br>joe <br>billy <br>cont'd <br>phone <br>august <br>okay <br>hotel <br>camera <br>draw <br>field <br>office <br>jean <br>furious <br>rev <br>building <br>mr <br>guy <br>apartment <br>\"], [14, -8.277896881103516, 6.888481616973877, -1.6404025554656982, \"paul <br>harry <br>joe <br>billy <br>cont'd <br>phone <br>august <br>okay <br>hotel <br>camera <br>draw <br>field <br>office <br>jean <br>furious <br>rev <br>building <br>mr <br>guy <br>apartment <br>\"], [14, -5.757369518280029, 4.71704626083374, -0.8599343299865723, \"paul <br>harry <br>joe <br>billy <br>cont'd <br>phone <br>august <br>okay <br>hotel <br>camera <br>draw <br>field <br>office <br>jean <br>furious <br>rev <br>building <br>mr <br>guy <br>apartment <br>\"], [14, -5.729240894317627, 4.7089715003967285, -2.015291690826416, \"paul <br>harry <br>joe <br>billy <br>cont'd <br>phone <br>august <br>okay <br>hotel <br>camera <br>draw <br>field <br>office <br>jean <br>furious <br>rev <br>building <br>mr <br>guy <br>apartment <br>\"], [14, -5.676697731018066, 4.609019756317139, -1.3603273630142212, \"paul <br>harry <br>joe <br>billy <br>cont'd <br>phone <br>august <br>okay <br>hotel <br>camera <br>draw <br>field <br>office <br>jean <br>furious <br>rev <br>building <br>mr <br>guy <br>apartment <br>\"], [14, -5.208891868591309, 3.934727668762207, -2.5549912452697754, \"paul <br>harry <br>joe <br>billy <br>cont'd <br>phone <br>august <br>okay <br>hotel <br>camera <br>draw <br>field <br>office <br>jean <br>furious <br>rev <br>building <br>mr <br>guy <br>apartment <br>\"], [14, -5.651801586151123, 7.43066930770874, -0.7820580005645752, \"paul <br>harry <br>joe <br>billy <br>cont'd <br>phone <br>august <br>okay <br>hotel <br>camera <br>draw <br>field <br>office <br>jean <br>furious <br>rev <br>building <br>mr <br>guy <br>apartment <br>\"], [14, -5.698856830596924, 7.093434810638428, 0.9664491415023804, \"paul <br>harry <br>joe <br>billy <br>cont'd <br>phone <br>august <br>okay <br>hotel <br>camera <br>draw <br>field <br>office <br>jean <br>furious <br>rev <br>building <br>mr <br>guy <br>apartment <br>\"], [14, -5.489171981811523, 4.239084243774414, -1.5472315549850464, \"paul <br>harry <br>joe <br>billy <br>cont'd <br>phone <br>august <br>okay <br>hotel <br>camera <br>draw <br>field <br>office <br>jean <br>furious <br>rev <br>building <br>mr <br>guy <br>apartment <br>\"], [14, -6.373492240905762, 7.317841529846191, -0.6511351466178894, \"paul <br>harry <br>joe <br>billy <br>cont'd <br>phone <br>august <br>okay <br>hotel <br>camera <br>draw <br>field <br>office <br>jean <br>furious <br>rev <br>building <br>mr <br>guy <br>apartment <br>\"], [14, -6.2286152839660645, 5.688830375671387, 0.029006170108914375, \"paul <br>harry <br>joe <br>billy <br>cont'd <br>phone <br>august <br>okay <br>hotel <br>camera <br>draw <br>field <br>office <br>jean <br>furious <br>rev <br>building <br>mr <br>guy <br>apartment <br>\"], [14, -5.298856258392334, 7.344383239746094, -0.4178773760795593, \"paul <br>harry <br>joe <br>billy <br>cont'd <br>phone <br>august <br>okay <br>hotel <br>camera <br>draw <br>field <br>office <br>jean <br>furious <br>rev <br>building <br>mr <br>guy <br>apartment <br>\"]], \"mode\": \"markers\", \"showlegend\": false, \"type\": \"scatter3d\", \"x\": [-5.410925388336182, -5.32337760925293, -7.777828693389893, -6.736598968505859, -6.550011157989502, -5.730963230133057, -7.952420234680176, -5.9190850257873535, -6.21498441696167, -4.679220199584961, -6.829536437988281, -7.801332473754883, -5.135263919830322, -7.2273850440979, -5.669007778167725, -6.936276435852051, -6.073066234588623, -6.511139392852783, -6.366129398345947, -6.8318095207214355, -5.30920934677124, -6.499756336212158, -8.277896881103516, -5.757369518280029, -5.729240894317627, -5.676697731018066, -5.208891868591309, -5.651801586151123, -5.698856830596924, -5.489171981811523, -6.373492240905762, -6.2286152839660645, -5.298856258392334], \"y\": [7.454742908477783, 4.133946418762207, 6.381640434265137, 6.194070816040039, 6.2219929695129395, 5.2932820320129395, 6.888127326965332, 5.068552017211914, 6.3928542137146, 6.556557655334473, 7.0574493408203125, 6.643362998962402, 6.0433669090271, 7.0359320640563965, 6.698418140411377, 6.5137810707092285, 4.684852123260498, 6.786012172698975, 4.975788116455078, 5.316239833831787, 3.7608883380889893, 8.148813247680664, 6.888481616973877, 4.71704626083374, 4.7089715003967285, 4.609019756317139, 3.934727668762207, 7.43066930770874, 7.093434810638428, 4.239084243774414, 7.317841529846191, 5.688830375671387, 7.344383239746094], \"z\": [-0.33189690113067627, -2.2270655632019043, -1.0388909578323364, -1.6020961999893188, -0.6269164681434631, -1.48918879032135, -1.3481037616729736, 0.857456624507904, -1.6001604795455933, -1.544424057006836, -0.7308229804039001, -1.7049119472503662, -0.6037861704826355, -0.4654378592967987, -1.7894697189331055, -1.06093168258667, -0.09063728153705597, -0.11972497403621674, -0.6237748861312866, -0.6526234745979309, -0.3375861644744873, -1.4532239437103271, -1.6404025554656982, -0.8599343299865723, -2.015291690826416, -1.3603273630142212, -2.5549912452697754, -0.7820580005645752, 0.9664491415023804, -1.5472315549850464, -0.6511351466178894, 0.029006170108914375, -0.4178773760795593]}, {\"hovertemplate\": \"%{meta[4]}<extra></extra>\", \"meta\": [[15, 3.1709420680999756, -5.013505458831787, -4.8459577560424805, \"mary <br>walter <br>mr <br>mrs <br>v.o <br>steve <br>cont'd <br>camera <br>apartment <br>book <br>thomas <br>office <br>bedroom <br>music <br>child <br>stage <br>pause <br>desk <br>phone <br>father <br>\"], [15, 3.0207974910736084, -3.4699690341949463, -2.5211098194122314, \"mary <br>walter <br>mr <br>mrs <br>v.o <br>steve <br>cont'd <br>camera <br>apartment <br>book <br>thomas <br>office <br>bedroom <br>music <br>child <br>stage <br>pause <br>desk <br>phone <br>father <br>\"], [15, 6.990118503570557, -5.360264301300049, -2.3668205738067627, \"mary <br>walter <br>mr <br>mrs <br>v.o <br>steve <br>cont'd <br>camera <br>apartment <br>book <br>thomas <br>office <br>bedroom <br>music <br>child <br>stage <br>pause <br>desk <br>phone <br>father <br>\"], [15, 5.812138080596924, -5.550046443939209, -4.482479572296143, \"mary <br>walter <br>mr <br>mrs <br>v.o <br>steve <br>cont'd <br>camera <br>apartment <br>book <br>thomas <br>office <br>bedroom <br>music <br>child <br>stage <br>pause <br>desk <br>phone <br>father <br>\"], [15, 6.957927227020264, -6.008697032928467, -3.779343605041504, \"mary <br>walter <br>mr <br>mrs <br>v.o <br>steve <br>cont'd <br>camera <br>apartment <br>book <br>thomas <br>office <br>bedroom <br>music <br>child <br>stage <br>pause <br>desk <br>phone <br>father <br>\"], [15, 4.256104469299316, -3.964979410171509, -2.224756956100464, \"mary <br>walter <br>mr <br>mrs <br>v.o <br>steve <br>cont'd <br>camera <br>apartment <br>book <br>thomas <br>office <br>bedroom <br>music <br>child <br>stage <br>pause <br>desk <br>phone <br>father <br>\"], [15, 3.5888636112213135, -2.7006049156188965, -2.556532144546509, \"mary <br>walter <br>mr <br>mrs <br>v.o <br>steve <br>cont'd <br>camera <br>apartment <br>book <br>thomas <br>office <br>bedroom <br>music <br>child <br>stage <br>pause <br>desk <br>phone <br>father <br>\"], [15, 6.5716938972473145, -5.558250904083252, -3.488811492919922, \"mary <br>walter <br>mr <br>mrs <br>v.o <br>steve <br>cont'd <br>camera <br>apartment <br>book <br>thomas <br>office <br>bedroom <br>music <br>child <br>stage <br>pause <br>desk <br>phone <br>father <br>\"], [15, 3.793994426727295, -1.712217926979065, -2.2843949794769287, \"mary <br>walter <br>mr <br>mrs <br>v.o <br>steve <br>cont'd <br>camera <br>apartment <br>book <br>thomas <br>office <br>bedroom <br>music <br>child <br>stage <br>pause <br>desk <br>phone <br>father <br>\"], [15, 1.728286862373352, -3.9079155921936035, -2.384366512298584, \"mary <br>walter <br>mr <br>mrs <br>v.o <br>steve <br>cont'd <br>camera <br>apartment <br>book <br>thomas <br>office <br>bedroom <br>music <br>child <br>stage <br>pause <br>desk <br>phone <br>father <br>\"], [15, 6.065130710601807, -5.099216461181641, -4.5741424560546875, \"mary <br>walter <br>mr <br>mrs <br>v.o <br>steve <br>cont'd <br>camera <br>apartment <br>book <br>thomas <br>office <br>bedroom <br>music <br>child <br>stage <br>pause <br>desk <br>phone <br>father <br>\"], [15, 4.573474884033203, -6.0448222160339355, -4.6980977058410645, \"mary <br>walter <br>mr <br>mrs <br>v.o <br>steve <br>cont'd <br>camera <br>apartment <br>book <br>thomas <br>office <br>bedroom <br>music <br>child <br>stage <br>pause <br>desk <br>phone <br>father <br>\"], [15, 6.0525922775268555, -5.261528968811035, -3.573852062225342, \"mary <br>walter <br>mr <br>mrs <br>v.o <br>steve <br>cont'd <br>camera <br>apartment <br>book <br>thomas <br>office <br>bedroom <br>music <br>child <br>stage <br>pause <br>desk <br>phone <br>father <br>\"], [15, 1.8612473011016846, -1.3321163654327393, -2.7444324493408203, \"mary <br>walter <br>mr <br>mrs <br>v.o <br>steve <br>cont'd <br>camera <br>apartment <br>book <br>thomas <br>office <br>bedroom <br>music <br>child <br>stage <br>pause <br>desk <br>phone <br>father <br>\"], [15, 4.421030521392822, -3.353728771209717, -3.0798256397247314, \"mary <br>walter <br>mr <br>mrs <br>v.o <br>steve <br>cont'd <br>camera <br>apartment <br>book <br>thomas <br>office <br>bedroom <br>music <br>child <br>stage <br>pause <br>desk <br>phone <br>father <br>\"], [15, 6.930087566375732, -3.6299009323120117, -4.077732563018799, \"mary <br>walter <br>mr <br>mrs <br>v.o <br>steve <br>cont'd <br>camera <br>apartment <br>book <br>thomas <br>office <br>bedroom <br>music <br>child <br>stage <br>pause <br>desk <br>phone <br>father <br>\"], [15, 5.390527725219727, -4.187626838684082, -4.1831841468811035, \"mary <br>walter <br>mr <br>mrs <br>v.o <br>steve <br>cont'd <br>camera <br>apartment <br>book <br>thomas <br>office <br>bedroom <br>music <br>child <br>stage <br>pause <br>desk <br>phone <br>father <br>\"], [15, 1.4524730443954468, -1.0169881582260132, -2.6412038803100586, \"mary <br>walter <br>mr <br>mrs <br>v.o <br>steve <br>cont'd <br>camera <br>apartment <br>book <br>thomas <br>office <br>bedroom <br>music <br>child <br>stage <br>pause <br>desk <br>phone <br>father <br>\"], [15, 2.99953293800354, -5.71891450881958, -4.542251110076904, \"mary <br>walter <br>mr <br>mrs <br>v.o <br>steve <br>cont'd <br>camera <br>apartment <br>book <br>thomas <br>office <br>bedroom <br>music <br>child <br>stage <br>pause <br>desk <br>phone <br>father <br>\"], [15, 4.487493515014648, -0.0591856986284256, -2.903843879699707, \"mary <br>walter <br>mr <br>mrs <br>v.o <br>steve <br>cont'd <br>camera <br>apartment <br>book <br>thomas <br>office <br>bedroom <br>music <br>child <br>stage <br>pause <br>desk <br>phone <br>father <br>\"], [15, 6.364487648010254, -4.869266986846924, -3.2375309467315674, \"mary <br>walter <br>mr <br>mrs <br>v.o <br>steve <br>cont'd <br>camera <br>apartment <br>book <br>thomas <br>office <br>bedroom <br>music <br>child <br>stage <br>pause <br>desk <br>phone <br>father <br>\"], [15, 6.491105079650879, -6.248274326324463, -4.0097455978393555, \"mary <br>walter <br>mr <br>mrs <br>v.o <br>steve <br>cont'd <br>camera <br>apartment <br>book <br>thomas <br>office <br>bedroom <br>music <br>child <br>stage <br>pause <br>desk <br>phone <br>father <br>\"], [15, 6.746889114379883, -5.897601127624512, -4.331029415130615, \"mary <br>walter <br>mr <br>mrs <br>v.o <br>steve <br>cont'd <br>camera <br>apartment <br>book <br>thomas <br>office <br>bedroom <br>music <br>child <br>stage <br>pause <br>desk <br>phone <br>father <br>\"], [15, 6.642953395843506, -6.333564758300781, -3.5903851985931396, \"mary <br>walter <br>mr <br>mrs <br>v.o <br>steve <br>cont'd <br>camera <br>apartment <br>book <br>thomas <br>office <br>bedroom <br>music <br>child <br>stage <br>pause <br>desk <br>phone <br>father <br>\"], [15, 5.926475524902344, -3.1410536766052246, -2.6504971981048584, \"mary <br>walter <br>mr <br>mrs <br>v.o <br>steve <br>cont'd <br>camera <br>apartment <br>book <br>thomas <br>office <br>bedroom <br>music <br>child <br>stage <br>pause <br>desk <br>phone <br>father <br>\"], [15, 5.200181484222412, -2.876507043838501, -0.14809557795524597, \"mary <br>walter <br>mr <br>mrs <br>v.o <br>steve <br>cont'd <br>camera <br>apartment <br>book <br>thomas <br>office <br>bedroom <br>music <br>child <br>stage <br>pause <br>desk <br>phone <br>father <br>\"], [15, 5.423205852508545, -6.014925479888916, -4.210507392883301, \"mary <br>walter <br>mr <br>mrs <br>v.o <br>steve <br>cont'd <br>camera <br>apartment <br>book <br>thomas <br>office <br>bedroom <br>music <br>child <br>stage <br>pause <br>desk <br>phone <br>father <br>\"], [15, 6.742794513702393, -5.436643600463867, -3.171274185180664, \"mary <br>walter <br>mr <br>mrs <br>v.o <br>steve <br>cont'd <br>camera <br>apartment <br>book <br>thomas <br>office <br>bedroom <br>music <br>child <br>stage <br>pause <br>desk <br>phone <br>father <br>\"], [15, 4.1149516105651855, -2.331183433532715, -2.5830202102661133, \"mary <br>walter <br>mr <br>mrs <br>v.o <br>steve <br>cont'd <br>camera <br>apartment <br>book <br>thomas <br>office <br>bedroom <br>music <br>child <br>stage <br>pause <br>desk <br>phone <br>father <br>\"], [15, 1.499690294265747, -1.1045259237289429, -2.6634268760681152, \"mary <br>walter <br>mr <br>mrs <br>v.o <br>steve <br>cont'd <br>camera <br>apartment <br>book <br>thomas <br>office <br>bedroom <br>music <br>child <br>stage <br>pause <br>desk <br>phone <br>father <br>\"], [15, 5.899796962738037, -1.918492078781128, -3.3019802570343018, \"mary <br>walter <br>mr <br>mrs <br>v.o <br>steve <br>cont'd <br>camera <br>apartment <br>book <br>thomas <br>office <br>bedroom <br>music <br>child <br>stage <br>pause <br>desk <br>phone <br>father <br>\"], [15, 4.553134441375732, -4.0807576179504395, -2.312746524810791, \"mary <br>walter <br>mr <br>mrs <br>v.o <br>steve <br>cont'd <br>camera <br>apartment <br>book <br>thomas <br>office <br>bedroom <br>music <br>child <br>stage <br>pause <br>desk <br>phone <br>father <br>\"], [15, 2.7895665168762207, -5.6406989097595215, -4.53508996963501, \"mary <br>walter <br>mr <br>mrs <br>v.o <br>steve <br>cont'd <br>camera <br>apartment <br>book <br>thomas <br>office <br>bedroom <br>music <br>child <br>stage <br>pause <br>desk <br>phone <br>father <br>\"], [15, 3.898827075958252, -1.6869834661483765, -2.0072991847991943, \"mary <br>walter <br>mr <br>mrs <br>v.o <br>steve <br>cont'd <br>camera <br>apartment <br>book <br>thomas <br>office <br>bedroom <br>music <br>child <br>stage <br>pause <br>desk <br>phone <br>father <br>\"], [15, 5.024174213409424, -3.132823944091797, -3.2713260650634766, \"mary <br>walter <br>mr <br>mrs <br>v.o <br>steve <br>cont'd <br>camera <br>apartment <br>book <br>thomas <br>office <br>bedroom <br>music <br>child <br>stage <br>pause <br>desk <br>phone <br>father <br>\"], [15, 5.287270545959473, -5.819464206695557, -4.165340900421143, \"mary <br>walter <br>mr <br>mrs <br>v.o <br>steve <br>cont'd <br>camera <br>apartment <br>book <br>thomas <br>office <br>bedroom <br>music <br>child <br>stage <br>pause <br>desk <br>phone <br>father <br>\"], [15, 3.3738715648651123, -3.3235363960266113, -2.789757251739502, \"mary <br>walter <br>mr <br>mrs <br>v.o <br>steve <br>cont'd <br>camera <br>apartment <br>book <br>thomas <br>office <br>bedroom <br>music <br>child <br>stage <br>pause <br>desk <br>phone <br>father <br>\"], [15, 4.3683319091796875, -4.50499153137207, -1.6512017250061035, \"mary <br>walter <br>mr <br>mrs <br>v.o <br>steve <br>cont'd <br>camera <br>apartment <br>book <br>thomas <br>office <br>bedroom <br>music <br>child <br>stage <br>pause <br>desk <br>phone <br>father <br>\"], [15, 5.16636848449707, -5.2729926109313965, -2.4900083541870117, \"mary <br>walter <br>mr <br>mrs <br>v.o <br>steve <br>cont'd <br>camera <br>apartment <br>book <br>thomas <br>office <br>bedroom <br>music <br>child <br>stage <br>pause <br>desk <br>phone <br>father <br>\"], [15, 7.010932922363281, -5.774831771850586, -4.037004470825195, \"mary <br>walter <br>mr <br>mrs <br>v.o <br>steve <br>cont'd <br>camera <br>apartment <br>book <br>thomas <br>office <br>bedroom <br>music <br>child <br>stage <br>pause <br>desk <br>phone <br>father <br>\"], [15, 6.487905025482178, -3.9994447231292725, -3.763674259185791, \"mary <br>walter <br>mr <br>mrs <br>v.o <br>steve <br>cont'd <br>camera <br>apartment <br>book <br>thomas <br>office <br>bedroom <br>music <br>child <br>stage <br>pause <br>desk <br>phone <br>father <br>\"], [15, 4.31450891494751, -1.1800416707992554, -1.4087713956832886, \"mary <br>walter <br>mr <br>mrs <br>v.o <br>steve <br>cont'd <br>camera <br>apartment <br>book <br>thomas <br>office <br>bedroom <br>music <br>child <br>stage <br>pause <br>desk <br>phone <br>father <br>\"], [15, 3.293715715408325, -2.081937313079834, -3.2311618328094482, \"mary <br>walter <br>mr <br>mrs <br>v.o <br>steve <br>cont'd <br>camera <br>apartment <br>book <br>thomas <br>office <br>bedroom <br>music <br>child <br>stage <br>pause <br>desk <br>phone <br>father <br>\"], [15, 5.434574604034424, -3.2787439823150635, -1.8944264650344849, \"mary <br>walter <br>mr <br>mrs <br>v.o <br>steve <br>cont'd <br>camera <br>apartment <br>book <br>thomas <br>office <br>bedroom <br>music <br>child <br>stage <br>pause <br>desk <br>phone <br>father <br>\"], [15, 4.972330093383789, -5.257360458374023, -3.6612389087677, \"mary <br>walter <br>mr <br>mrs <br>v.o <br>steve <br>cont'd <br>camera <br>apartment <br>book <br>thomas <br>office <br>bedroom <br>music <br>child <br>stage <br>pause <br>desk <br>phone <br>father <br>\"], [15, 3.401262044906616, -5.433938503265381, -2.9664251804351807, \"mary <br>walter <br>mr <br>mrs <br>v.o <br>steve <br>cont'd <br>camera <br>apartment <br>book <br>thomas <br>office <br>bedroom <br>music <br>child <br>stage <br>pause <br>desk <br>phone <br>father <br>\"], [15, 5.16891622543335, -3.287360191345215, -2.1087803840637207, \"mary <br>walter <br>mr <br>mrs <br>v.o <br>steve <br>cont'd <br>camera <br>apartment <br>book <br>thomas <br>office <br>bedroom <br>music <br>child <br>stage <br>pause <br>desk <br>phone <br>father <br>\"], [15, 3.425476551055908, -4.893743991851807, -4.791776180267334, \"mary <br>walter <br>mr <br>mrs <br>v.o <br>steve <br>cont'd <br>camera <br>apartment <br>book <br>thomas <br>office <br>bedroom <br>music <br>child <br>stage <br>pause <br>desk <br>phone <br>father <br>\"], [15, 4.832169532775879, -5.091892242431641, -3.2933685779571533, \"mary <br>walter <br>mr <br>mrs <br>v.o <br>steve <br>cont'd <br>camera <br>apartment <br>book <br>thomas <br>office <br>bedroom <br>music <br>child <br>stage <br>pause <br>desk <br>phone <br>father <br>\"], [15, 5.811483383178711, -5.102678298950195, -2.779759407043457, \"mary <br>walter <br>mr <br>mrs <br>v.o <br>steve <br>cont'd <br>camera <br>apartment <br>book <br>thomas <br>office <br>bedroom <br>music <br>child <br>stage <br>pause <br>desk <br>phone <br>father <br>\"], [15, 5.980688095092773, -5.150050640106201, -4.586305618286133, \"mary <br>walter <br>mr <br>mrs <br>v.o <br>steve <br>cont'd <br>camera <br>apartment <br>book <br>thomas <br>office <br>bedroom <br>music <br>child <br>stage <br>pause <br>desk <br>phone <br>father <br>\"], [15, 2.5267393589019775, -4.478919506072998, -5.546582221984863, \"mary <br>walter <br>mr <br>mrs <br>v.o <br>steve <br>cont'd <br>camera <br>apartment <br>book <br>thomas <br>office <br>bedroom <br>music <br>child <br>stage <br>pause <br>desk <br>phone <br>father <br>\"]], \"mode\": \"markers\", \"showlegend\": false, \"type\": \"scatter3d\", \"x\": [3.1709420680999756, 3.0207974910736084, 6.990118503570557, 5.812138080596924, 6.957927227020264, 4.256104469299316, 3.5888636112213135, 6.5716938972473145, 3.793994426727295, 1.728286862373352, 6.065130710601807, 4.573474884033203, 6.0525922775268555, 1.8612473011016846, 4.421030521392822, 6.930087566375732, 5.390527725219727, 1.4524730443954468, 2.99953293800354, 4.487493515014648, 6.364487648010254, 6.491105079650879, 6.746889114379883, 6.642953395843506, 5.926475524902344, 5.200181484222412, 5.423205852508545, 6.742794513702393, 4.1149516105651855, 1.499690294265747, 5.899796962738037, 4.553134441375732, 2.7895665168762207, 3.898827075958252, 5.024174213409424, 5.287270545959473, 3.3738715648651123, 4.3683319091796875, 5.16636848449707, 7.010932922363281, 6.487905025482178, 4.31450891494751, 3.293715715408325, 5.434574604034424, 4.972330093383789, 3.401262044906616, 5.16891622543335, 3.425476551055908, 4.832169532775879, 5.811483383178711, 5.980688095092773, 2.5267393589019775], \"y\": [-5.013505458831787, -3.4699690341949463, -5.360264301300049, -5.550046443939209, -6.008697032928467, -3.964979410171509, -2.7006049156188965, -5.558250904083252, -1.712217926979065, -3.9079155921936035, -5.099216461181641, -6.0448222160339355, -5.261528968811035, -1.3321163654327393, -3.353728771209717, -3.6299009323120117, -4.187626838684082, -1.0169881582260132, -5.71891450881958, -0.0591856986284256, -4.869266986846924, -6.248274326324463, -5.897601127624512, -6.333564758300781, -3.1410536766052246, -2.876507043838501, -6.014925479888916, -5.436643600463867, -2.331183433532715, -1.1045259237289429, -1.918492078781128, -4.0807576179504395, -5.6406989097595215, -1.6869834661483765, -3.132823944091797, -5.819464206695557, -3.3235363960266113, -4.50499153137207, -5.2729926109313965, -5.774831771850586, -3.9994447231292725, -1.1800416707992554, -2.081937313079834, -3.2787439823150635, -5.257360458374023, -5.433938503265381, -3.287360191345215, -4.893743991851807, -5.091892242431641, -5.102678298950195, -5.150050640106201, -4.478919506072998], \"z\": [-4.8459577560424805, -2.5211098194122314, -2.3668205738067627, -4.482479572296143, -3.779343605041504, -2.224756956100464, -2.556532144546509, -3.488811492919922, -2.2843949794769287, -2.384366512298584, -4.5741424560546875, -4.6980977058410645, -3.573852062225342, -2.7444324493408203, -3.0798256397247314, -4.077732563018799, -4.1831841468811035, -2.6412038803100586, -4.542251110076904, -2.903843879699707, -3.2375309467315674, -4.0097455978393555, -4.331029415130615, -3.5903851985931396, -2.6504971981048584, -0.14809557795524597, -4.210507392883301, -3.171274185180664, -2.5830202102661133, -2.6634268760681152, -3.3019802570343018, -2.312746524810791, -4.53508996963501, -2.0072991847991943, -3.2713260650634766, -4.165340900421143, -2.789757251739502, -1.6512017250061035, -2.4900083541870117, -4.037004470825195, -3.763674259185791, -1.4087713956832886, -3.2311618328094482, -1.8944264650344849, -3.6612389087677, -2.9664251804351807, -2.1087803840637207, -4.791776180267334, -3.2933685779571533, -2.779759407043457, -4.586305618286133, -5.546582221984863]}, {\"hovertemplate\": \"%{meta[4]}<extra></extra>\", \"meta\": [[16, 1.8798919916152954, 0.7978664040565491, -4.693364143371582, \"max <br>nick <br>eddie <br>louis <br>peter <br>lee <br>eve <br>rob <br>henry <br>roger <br>bill <br>mr <br>camera <br>draw <br>steve <br>guy <br>v.o <br>rabbit <br>cop <br>apartment <br>\"], [16, -0.9849809408187866, 5.1659440994262695, -7.892426490783691, \"max <br>nick <br>eddie <br>louis <br>peter <br>lee <br>eve <br>rob <br>henry <br>roger <br>bill <br>mr <br>camera <br>draw <br>steve <br>guy <br>v.o <br>rabbit <br>cop <br>apartment <br>\"], [16, -0.4395464062690735, 3.3511602878570557, -4.661357402801514, \"max <br>nick <br>eddie <br>louis <br>peter <br>lee <br>eve <br>rob <br>henry <br>roger <br>bill <br>mr <br>camera <br>draw <br>steve <br>guy <br>v.o <br>rabbit <br>cop <br>apartment <br>\"], [16, -1.1333619356155396, 5.269380569458008, -4.0940656661987305, \"max <br>nick <br>eddie <br>louis <br>peter <br>lee <br>eve <br>rob <br>henry <br>roger <br>bill <br>mr <br>camera <br>draw <br>steve <br>guy <br>v.o <br>rabbit <br>cop <br>apartment <br>\"], [16, 0.5687240958213806, 5.816462516784668, -4.977041721343994, \"max <br>nick <br>eddie <br>louis <br>peter <br>lee <br>eve <br>rob <br>henry <br>roger <br>bill <br>mr <br>camera <br>draw <br>steve <br>guy <br>v.o <br>rabbit <br>cop <br>apartment <br>\"], [16, -1.116050362586975, 3.1215450763702393, -3.4691758155822754, \"max <br>nick <br>eddie <br>louis <br>peter <br>lee <br>eve <br>rob <br>henry <br>roger <br>bill <br>mr <br>camera <br>draw <br>steve <br>guy <br>v.o <br>rabbit <br>cop <br>apartment <br>\"], [16, -0.09981454163789749, 5.47499942779541, -6.920531272888184, \"max <br>nick <br>eddie <br>louis <br>peter <br>lee <br>eve <br>rob <br>henry <br>roger <br>bill <br>mr <br>camera <br>draw <br>steve <br>guy <br>v.o <br>rabbit <br>cop <br>apartment <br>\"], [16, -1.2236636877059937, 4.362569332122803, -6.493429660797119, \"max <br>nick <br>eddie <br>louis <br>peter <br>lee <br>eve <br>rob <br>henry <br>roger <br>bill <br>mr <br>camera <br>draw <br>steve <br>guy <br>v.o <br>rabbit <br>cop <br>apartment <br>\"], [16, 0.5513296723365784, 4.472463130950928, -6.857667446136475, \"max <br>nick <br>eddie <br>louis <br>peter <br>lee <br>eve <br>rob <br>henry <br>roger <br>bill <br>mr <br>camera <br>draw <br>steve <br>guy <br>v.o <br>rabbit <br>cop <br>apartment <br>\"], [16, -0.8148708343505859, 5.110294818878174, -7.621243000030518, \"max <br>nick <br>eddie <br>louis <br>peter <br>lee <br>eve <br>rob <br>henry <br>roger <br>bill <br>mr <br>camera <br>draw <br>steve <br>guy <br>v.o <br>rabbit <br>cop <br>apartment <br>\"], [16, 0.9738044738769531, 3.673539161682129, -5.81447696685791, \"max <br>nick <br>eddie <br>louis <br>peter <br>lee <br>eve <br>rob <br>henry <br>roger <br>bill <br>mr <br>camera <br>draw <br>steve <br>guy <br>v.o <br>rabbit <br>cop <br>apartment <br>\"], [16, -0.9814170598983765, 5.163838863372803, -7.888038158416748, \"max <br>nick <br>eddie <br>louis <br>peter <br>lee <br>eve <br>rob <br>henry <br>roger <br>bill <br>mr <br>camera <br>draw <br>steve <br>guy <br>v.o <br>rabbit <br>cop <br>apartment <br>\"], [16, -0.2592929005622864, 4.216360569000244, -6.116580963134766, \"max <br>nick <br>eddie <br>louis <br>peter <br>lee <br>eve <br>rob <br>henry <br>roger <br>bill <br>mr <br>camera <br>draw <br>steve <br>guy <br>v.o <br>rabbit <br>cop <br>apartment <br>\"], [16, -0.04358256980776787, 3.772202968597412, -6.339016914367676, \"max <br>nick <br>eddie <br>louis <br>peter <br>lee <br>eve <br>rob <br>henry <br>roger <br>bill <br>mr <br>camera <br>draw <br>steve <br>guy <br>v.o <br>rabbit <br>cop <br>apartment <br>\"], [16, -1.2987440824508667, 4.661442756652832, -3.9248828887939453, \"max <br>nick <br>eddie <br>louis <br>peter <br>lee <br>eve <br>rob <br>henry <br>roger <br>bill <br>mr <br>camera <br>draw <br>steve <br>guy <br>v.o <br>rabbit <br>cop <br>apartment <br>\"], [16, 0.8963560461997986, 4.094438076019287, -6.414276123046875, \"max <br>nick <br>eddie <br>louis <br>peter <br>lee <br>eve <br>rob <br>henry <br>roger <br>bill <br>mr <br>camera <br>draw <br>steve <br>guy <br>v.o <br>rabbit <br>cop <br>apartment <br>\"], [16, 1.9701756238937378, 1.318764090538025, -7.4091362953186035, \"max <br>nick <br>eddie <br>louis <br>peter <br>lee <br>eve <br>rob <br>henry <br>roger <br>bill <br>mr <br>camera <br>draw <br>steve <br>guy <br>v.o <br>rabbit <br>cop <br>apartment <br>\"], [16, 0.7009251117706299, 4.765366077423096, -6.282291412353516, \"max <br>nick <br>eddie <br>louis <br>peter <br>lee <br>eve <br>rob <br>henry <br>roger <br>bill <br>mr <br>camera <br>draw <br>steve <br>guy <br>v.o <br>rabbit <br>cop <br>apartment <br>\"], [16, 0.8689655661582947, 3.1768600940704346, -5.664157867431641, \"max <br>nick <br>eddie <br>louis <br>peter <br>lee <br>eve <br>rob <br>henry <br>roger <br>bill <br>mr <br>camera <br>draw <br>steve <br>guy <br>v.o <br>rabbit <br>cop <br>apartment <br>\"], [16, -0.7726629376411438, 4.92134952545166, -7.2920989990234375, \"max <br>nick <br>eddie <br>louis <br>peter <br>lee <br>eve <br>rob <br>henry <br>roger <br>bill <br>mr <br>camera <br>draw <br>steve <br>guy <br>v.o <br>rabbit <br>cop <br>apartment <br>\"], [16, -0.048668745905160904, 4.07803201675415, -5.284753322601318, \"max <br>nick <br>eddie <br>louis <br>peter <br>lee <br>eve <br>rob <br>henry <br>roger <br>bill <br>mr <br>camera <br>draw <br>steve <br>guy <br>v.o <br>rabbit <br>cop <br>apartment <br>\"], [16, 2.664379119873047, 3.7553162574768066, -5.593226432800293, \"max <br>nick <br>eddie <br>louis <br>peter <br>lee <br>eve <br>rob <br>henry <br>roger <br>bill <br>mr <br>camera <br>draw <br>steve <br>guy <br>v.o <br>rabbit <br>cop <br>apartment <br>\"], [16, 1.6935851573944092, 3.4554407596588135, -6.386378765106201, \"max <br>nick <br>eddie <br>louis <br>peter <br>lee <br>eve <br>rob <br>henry <br>roger <br>bill <br>mr <br>camera <br>draw <br>steve <br>guy <br>v.o <br>rabbit <br>cop <br>apartment <br>\"], [16, 3.1411213874816895, 0.48139771819114685, -4.8679633140563965, \"max <br>nick <br>eddie <br>louis <br>peter <br>lee <br>eve <br>rob <br>henry <br>roger <br>bill <br>mr <br>camera <br>draw <br>steve <br>guy <br>v.o <br>rabbit <br>cop <br>apartment <br>\"], [16, 1.3499195575714111, 4.162510871887207, -5.927185535430908, \"max <br>nick <br>eddie <br>louis <br>peter <br>lee <br>eve <br>rob <br>henry <br>roger <br>bill <br>mr <br>camera <br>draw <br>steve <br>guy <br>v.o <br>rabbit <br>cop <br>apartment <br>\"], [16, -0.27157220244407654, 4.864877700805664, -7.336755752563477, \"max <br>nick <br>eddie <br>louis <br>peter <br>lee <br>eve <br>rob <br>henry <br>roger <br>bill <br>mr <br>camera <br>draw <br>steve <br>guy <br>v.o <br>rabbit <br>cop <br>apartment <br>\"], [16, -0.03581145405769348, 4.100681304931641, -6.7597479820251465, \"max <br>nick <br>eddie <br>louis <br>peter <br>lee <br>eve <br>rob <br>henry <br>roger <br>bill <br>mr <br>camera <br>draw <br>steve <br>guy <br>v.o <br>rabbit <br>cop <br>apartment <br>\"], [16, 1.6926333904266357, 3.263960838317871, -6.417440891265869, \"max <br>nick <br>eddie <br>louis <br>peter <br>lee <br>eve <br>rob <br>henry <br>roger <br>bill <br>mr <br>camera <br>draw <br>steve <br>guy <br>v.o <br>rabbit <br>cop <br>apartment <br>\"], [16, 1.00639009475708, 2.8678715229034424, -5.169140338897705, \"max <br>nick <br>eddie <br>louis <br>peter <br>lee <br>eve <br>rob <br>henry <br>roger <br>bill <br>mr <br>camera <br>draw <br>steve <br>guy <br>v.o <br>rabbit <br>cop <br>apartment <br>\"], [16, 1.0491180419921875, 2.557676076889038, -4.941311836242676, \"max <br>nick <br>eddie <br>louis <br>peter <br>lee <br>eve <br>rob <br>henry <br>roger <br>bill <br>mr <br>camera <br>draw <br>steve <br>guy <br>v.o <br>rabbit <br>cop <br>apartment <br>\"], [16, 1.5799980163574219, 2.060779571533203, -7.05267858505249, \"max <br>nick <br>eddie <br>louis <br>peter <br>lee <br>eve <br>rob <br>henry <br>roger <br>bill <br>mr <br>camera <br>draw <br>steve <br>guy <br>v.o <br>rabbit <br>cop <br>apartment <br>\"], [16, 2.7339510917663574, 3.507922649383545, -5.626787185668945, \"max <br>nick <br>eddie <br>louis <br>peter <br>lee <br>eve <br>rob <br>henry <br>roger <br>bill <br>mr <br>camera <br>draw <br>steve <br>guy <br>v.o <br>rabbit <br>cop <br>apartment <br>\"], [16, 2.626019239425659, 0.3476191461086273, -4.923673152923584, \"max <br>nick <br>eddie <br>louis <br>peter <br>lee <br>eve <br>rob <br>henry <br>roger <br>bill <br>mr <br>camera <br>draw <br>steve <br>guy <br>v.o <br>rabbit <br>cop <br>apartment <br>\"], [16, 0.09537647664546967, 4.931818008422852, -5.676848411560059, \"max <br>nick <br>eddie <br>louis <br>peter <br>lee <br>eve <br>rob <br>henry <br>roger <br>bill <br>mr <br>camera <br>draw <br>steve <br>guy <br>v.o <br>rabbit <br>cop <br>apartment <br>\"], [16, 1.4520111083984375, 1.9843748807907104, -4.810079097747803, \"max <br>nick <br>eddie <br>louis <br>peter <br>lee <br>eve <br>rob <br>henry <br>roger <br>bill <br>mr <br>camera <br>draw <br>steve <br>guy <br>v.o <br>rabbit <br>cop <br>apartment <br>\"]], \"mode\": \"markers\", \"showlegend\": false, \"type\": \"scatter3d\", \"x\": [1.8798919916152954, -0.9849809408187866, -0.4395464062690735, -1.1333619356155396, 0.5687240958213806, -1.116050362586975, -0.09981454163789749, -1.2236636877059937, 0.5513296723365784, -0.8148708343505859, 0.9738044738769531, -0.9814170598983765, -0.2592929005622864, -0.04358256980776787, -1.2987440824508667, 0.8963560461997986, 1.9701756238937378, 0.7009251117706299, 0.8689655661582947, -0.7726629376411438, -0.048668745905160904, 2.664379119873047, 1.6935851573944092, 3.1411213874816895, 1.3499195575714111, -0.27157220244407654, -0.03581145405769348, 1.6926333904266357, 1.00639009475708, 1.0491180419921875, 1.5799980163574219, 2.7339510917663574, 2.626019239425659, 0.09537647664546967, 1.4520111083984375], \"y\": [0.7978664040565491, 5.1659440994262695, 3.3511602878570557, 5.269380569458008, 5.816462516784668, 3.1215450763702393, 5.47499942779541, 4.362569332122803, 4.472463130950928, 5.110294818878174, 3.673539161682129, 5.163838863372803, 4.216360569000244, 3.772202968597412, 4.661442756652832, 4.094438076019287, 1.318764090538025, 4.765366077423096, 3.1768600940704346, 4.92134952545166, 4.07803201675415, 3.7553162574768066, 3.4554407596588135, 0.48139771819114685, 4.162510871887207, 4.864877700805664, 4.100681304931641, 3.263960838317871, 2.8678715229034424, 2.557676076889038, 2.060779571533203, 3.507922649383545, 0.3476191461086273, 4.931818008422852, 1.9843748807907104], \"z\": [-4.693364143371582, -7.892426490783691, -4.661357402801514, -4.0940656661987305, -4.977041721343994, -3.4691758155822754, -6.920531272888184, -6.493429660797119, -6.857667446136475, -7.621243000030518, -5.81447696685791, -7.888038158416748, -6.116580963134766, -6.339016914367676, -3.9248828887939453, -6.414276123046875, -7.4091362953186035, -6.282291412353516, -5.664157867431641, -7.2920989990234375, -5.284753322601318, -5.593226432800293, -6.386378765106201, -4.8679633140563965, -5.927185535430908, -7.336755752563477, -6.7597479820251465, -6.417440891265869, -5.169140338897705, -4.941311836242676, -7.05267858505249, -5.626787185668945, -4.923673152923584, -5.676848411560059, -4.810079097747803]}, {\"hovertemplate\": \"%{meta[4]}<extra></extra>\", \"meta\": [[17, -0.8907907009124756, -3.953342914581299, 8.107178688049316, \"frank <br>george <br>mary <br>bush <br>crash <br>larry <br>bank <br>dance <br>buddy <br>wolf <br>bird <br>cont'd <br>henry <br>money <br>uncle <br>mr <br>kicking <br>glance <br>wind <br>rain <br>\"], [17, -0.33898481726646423, -4.267471790313721, 7.62602424621582, \"frank <br>george <br>mary <br>bush <br>crash <br>larry <br>bank <br>dance <br>buddy <br>wolf <br>bird <br>cont'd <br>henry <br>money <br>uncle <br>mr <br>kicking <br>glance <br>wind <br>rain <br>\"], [17, 0.4004939794540405, -4.904941558837891, 7.990642547607422, \"frank <br>george <br>mary <br>bush <br>crash <br>larry <br>bank <br>dance <br>buddy <br>wolf <br>bird <br>cont'd <br>henry <br>money <br>uncle <br>mr <br>kicking <br>glance <br>wind <br>rain <br>\"], [17, -0.09927568584680557, -4.791954040527344, 7.943476676940918, \"frank <br>george <br>mary <br>bush <br>crash <br>larry <br>bank <br>dance <br>buddy <br>wolf <br>bird <br>cont'd <br>henry <br>money <br>uncle <br>mr <br>kicking <br>glance <br>wind <br>rain <br>\"], [17, -1.3445566892623901, -2.6381819248199463, 4.955331325531006, \"frank <br>george <br>mary <br>bush <br>crash <br>larry <br>bank <br>dance <br>buddy <br>wolf <br>bird <br>cont'd <br>henry <br>money <br>uncle <br>mr <br>kicking <br>glance <br>wind <br>rain <br>\"], [17, -1.4160088300704956, -4.2062177658081055, 7.08773136138916, \"frank <br>george <br>mary <br>bush <br>crash <br>larry <br>bank <br>dance <br>buddy <br>wolf <br>bird <br>cont'd <br>henry <br>money <br>uncle <br>mr <br>kicking <br>glance <br>wind <br>rain <br>\"], [17, 0.0819118469953537, -4.293725490570068, 7.12649393081665, \"frank <br>george <br>mary <br>bush <br>crash <br>larry <br>bank <br>dance <br>buddy <br>wolf <br>bird <br>cont'd <br>henry <br>money <br>uncle <br>mr <br>kicking <br>glance <br>wind <br>rain <br>\"], [17, 1.0041749477386475, -5.0474853515625, 6.010312557220459, \"frank <br>george <br>mary <br>bush <br>crash <br>larry <br>bank <br>dance <br>buddy <br>wolf <br>bird <br>cont'd <br>henry <br>money <br>uncle <br>mr <br>kicking <br>glance <br>wind <br>rain <br>\"], [17, 0.23461337387561798, -4.5113091468811035, 7.129755020141602, \"frank <br>george <br>mary <br>bush <br>crash <br>larry <br>bank <br>dance <br>buddy <br>wolf <br>bird <br>cont'd <br>henry <br>money <br>uncle <br>mr <br>kicking <br>glance <br>wind <br>rain <br>\"], [17, 1.2327845096588135, -1.922613501548767, 6.49817419052124, \"frank <br>george <br>mary <br>bush <br>crash <br>larry <br>bank <br>dance <br>buddy <br>wolf <br>bird <br>cont'd <br>henry <br>money <br>uncle <br>mr <br>kicking <br>glance <br>wind <br>rain <br>\"], [17, -1.1050469875335693, -2.942842960357666, 5.947818279266357, \"frank <br>george <br>mary <br>bush <br>crash <br>larry <br>bank <br>dance <br>buddy <br>wolf <br>bird <br>cont'd <br>henry <br>money <br>uncle <br>mr <br>kicking <br>glance <br>wind <br>rain <br>\"], [17, -0.5769555568695068, -3.260098934173584, 7.381443977355957, \"frank <br>george <br>mary <br>bush <br>crash <br>larry <br>bank <br>dance <br>buddy <br>wolf <br>bird <br>cont'd <br>henry <br>money <br>uncle <br>mr <br>kicking <br>glance <br>wind <br>rain <br>\"], [17, -1.2386677265167236, -4.394143581390381, 7.245193004608154, \"frank <br>george <br>mary <br>bush <br>crash <br>larry <br>bank <br>dance <br>buddy <br>wolf <br>bird <br>cont'd <br>henry <br>money <br>uncle <br>mr <br>kicking <br>glance <br>wind <br>rain <br>\"], [17, 0.43517938256263733, -4.246870517730713, 7.6648077964782715, \"frank <br>george <br>mary <br>bush <br>crash <br>larry <br>bank <br>dance <br>buddy <br>wolf <br>bird <br>cont'd <br>henry <br>money <br>uncle <br>mr <br>kicking <br>glance <br>wind <br>rain <br>\"], [17, -0.15200312435626984, -3.2239973545074463, 6.696426868438721, \"frank <br>george <br>mary <br>bush <br>crash <br>larry <br>bank <br>dance <br>buddy <br>wolf <br>bird <br>cont'd <br>henry <br>money <br>uncle <br>mr <br>kicking <br>glance <br>wind <br>rain <br>\"], [17, -0.4353910982608795, -3.019465923309326, 6.396424293518066, \"frank <br>george <br>mary <br>bush <br>crash <br>larry <br>bank <br>dance <br>buddy <br>wolf <br>bird <br>cont'd <br>henry <br>money <br>uncle <br>mr <br>kicking <br>glance <br>wind <br>rain <br>\"], [17, -0.11316218972206116, -4.726511478424072, 8.164219856262207, \"frank <br>george <br>mary <br>bush <br>crash <br>larry <br>bank <br>dance <br>buddy <br>wolf <br>bird <br>cont'd <br>henry <br>money <br>uncle <br>mr <br>kicking <br>glance <br>wind <br>rain <br>\"], [17, 0.9048043489456177, -2.1193289756774902, 6.491296291351318, \"frank <br>george <br>mary <br>bush <br>crash <br>larry <br>bank <br>dance <br>buddy <br>wolf <br>bird <br>cont'd <br>henry <br>money <br>uncle <br>mr <br>kicking <br>glance <br>wind <br>rain <br>\"], [17, 1.4051891565322876, -5.2599992752075195, 5.371911525726318, \"frank <br>george <br>mary <br>bush <br>crash <br>larry <br>bank <br>dance <br>buddy <br>wolf <br>bird <br>cont'd <br>henry <br>money <br>uncle <br>mr <br>kicking <br>glance <br>wind <br>rain <br>\"], [17, -0.4289476275444031, -4.372459888458252, 7.762956142425537, \"frank <br>george <br>mary <br>bush <br>crash <br>larry <br>bank <br>dance <br>buddy <br>wolf <br>bird <br>cont'd <br>henry <br>money <br>uncle <br>mr <br>kicking <br>glance <br>wind <br>rain <br>\"], [17, -1.3573765754699707, -2.931403398513794, 5.889183044433594, \"frank <br>george <br>mary <br>bush <br>crash <br>larry <br>bank <br>dance <br>buddy <br>wolf <br>bird <br>cont'd <br>henry <br>money <br>uncle <br>mr <br>kicking <br>glance <br>wind <br>rain <br>\"], [17, 0.5266020894050598, -4.921952247619629, 8.24188232421875, \"frank <br>george <br>mary <br>bush <br>crash <br>larry <br>bank <br>dance <br>buddy <br>wolf <br>bird <br>cont'd <br>henry <br>money <br>uncle <br>mr <br>kicking <br>glance <br>wind <br>rain <br>\"], [17, 0.4710274338722229, -5.153207778930664, 8.605207443237305, \"frank <br>george <br>mary <br>bush <br>crash <br>larry <br>bank <br>dance <br>buddy <br>wolf <br>bird <br>cont'd <br>henry <br>money <br>uncle <br>mr <br>kicking <br>glance <br>wind <br>rain <br>\"], [17, -1.1340374946594238, -2.7877724170684814, 3.162238836288452, \"frank <br>george <br>mary <br>bush <br>crash <br>larry <br>bank <br>dance <br>buddy <br>wolf <br>bird <br>cont'd <br>henry <br>money <br>uncle <br>mr <br>kicking <br>glance <br>wind <br>rain <br>\"]], \"mode\": \"markers\", \"showlegend\": false, \"type\": \"scatter3d\", \"x\": [-0.8907907009124756, -0.33898481726646423, 0.4004939794540405, -0.09927568584680557, -1.3445566892623901, -1.4160088300704956, 0.0819118469953537, 1.0041749477386475, 0.23461337387561798, 1.2327845096588135, -1.1050469875335693, -0.5769555568695068, -1.2386677265167236, 0.43517938256263733, -0.15200312435626984, -0.4353910982608795, -0.11316218972206116, 0.9048043489456177, 1.4051891565322876, -0.4289476275444031, -1.3573765754699707, 0.5266020894050598, 0.4710274338722229, -1.1340374946594238], \"y\": [-3.953342914581299, -4.267471790313721, -4.904941558837891, -4.791954040527344, -2.6381819248199463, -4.2062177658081055, -4.293725490570068, -5.0474853515625, -4.5113091468811035, -1.922613501548767, -2.942842960357666, -3.260098934173584, -4.394143581390381, -4.246870517730713, -3.2239973545074463, -3.019465923309326, -4.726511478424072, -2.1193289756774902, -5.2599992752075195, -4.372459888458252, -2.931403398513794, -4.921952247619629, -5.153207778930664, -2.7877724170684814], \"z\": [8.107178688049316, 7.62602424621582, 7.990642547607422, 7.943476676940918, 4.955331325531006, 7.08773136138916, 7.12649393081665, 6.010312557220459, 7.129755020141602, 6.49817419052124, 5.947818279266357, 7.381443977355957, 7.245193004608154, 7.6648077964782715, 6.696426868438721, 6.396424293518066, 8.164219856262207, 6.491296291351318, 5.371911525726318, 7.762956142425537, 5.889183044433594, 8.24188232421875, 8.605207443237305, 3.162238836288452]}, {\"hovertemplate\": \"%{meta[4]}<extra></extra>\", \"meta\": [[18, 3.912975788116455, 7.425717830657959, -0.8912294507026672, \"john <br>david <br>mark <br>jerry <br>bud <br>chuck <br>president <br>dr <br>shepherd <br>phone <br>bean <br>mr <br>office <br>evil <br>cut int <br>sir <br>snake <br>okay <br>guy <br>pause <br>\"], [18, 5.262043476104736, 7.245458602905273, -1.8642950057983398, \"john <br>david <br>mark <br>jerry <br>bud <br>chuck <br>president <br>dr <br>shepherd <br>phone <br>bean <br>mr <br>office <br>evil <br>cut int <br>sir <br>snake <br>okay <br>guy <br>pause <br>\"], [18, 4.331017017364502, 6.923165798187256, -2.259373426437378, \"john <br>david <br>mark <br>jerry <br>bud <br>chuck <br>president <br>dr <br>shepherd <br>phone <br>bean <br>mr <br>office <br>evil <br>cut int <br>sir <br>snake <br>okay <br>guy <br>pause <br>\"], [18, 4.093286037445068, 5.7693190574646, -2.116006851196289, \"john <br>david <br>mark <br>jerry <br>bud <br>chuck <br>president <br>dr <br>shepherd <br>phone <br>bean <br>mr <br>office <br>evil <br>cut int <br>sir <br>snake <br>okay <br>guy <br>pause <br>\"], [18, 4.750142574310303, 6.185729503631592, -1.9378818273544312, \"john <br>david <br>mark <br>jerry <br>bud <br>chuck <br>president <br>dr <br>shepherd <br>phone <br>bean <br>mr <br>office <br>evil <br>cut int <br>sir <br>snake <br>okay <br>guy <br>pause <br>\"], [18, 5.944470405578613, 7.582967758178711, -1.4026790857315063, \"john <br>david <br>mark <br>jerry <br>bud <br>chuck <br>president <br>dr <br>shepherd <br>phone <br>bean <br>mr <br>office <br>evil <br>cut int <br>sir <br>snake <br>okay <br>guy <br>pause <br>\"], [18, 5.13964319229126, 5.632096290588379, -2.3002164363861084, \"john <br>david <br>mark <br>jerry <br>bud <br>chuck <br>president <br>dr <br>shepherd <br>phone <br>bean <br>mr <br>office <br>evil <br>cut int <br>sir <br>snake <br>okay <br>guy <br>pause <br>\"], [18, 4.846203804016113, 6.41676664352417, -1.5338542461395264, \"john <br>david <br>mark <br>jerry <br>bud <br>chuck <br>president <br>dr <br>shepherd <br>phone <br>bean <br>mr <br>office <br>evil <br>cut int <br>sir <br>snake <br>okay <br>guy <br>pause <br>\"], [18, 4.9272141456604, 5.404156684875488, -2.315495014190674, \"john <br>david <br>mark <br>jerry <br>bud <br>chuck <br>president <br>dr <br>shepherd <br>phone <br>bean <br>mr <br>office <br>evil <br>cut int <br>sir <br>snake <br>okay <br>guy <br>pause <br>\"], [18, 4.577713966369629, 7.0545735359191895, -1.986867070198059, \"john <br>david <br>mark <br>jerry <br>bud <br>chuck <br>president <br>dr <br>shepherd <br>phone <br>bean <br>mr <br>office <br>evil <br>cut int <br>sir <br>snake <br>okay <br>guy <br>pause <br>\"], [18, 4.158803462982178, 5.87434196472168, -2.033702850341797, \"john <br>david <br>mark <br>jerry <br>bud <br>chuck <br>president <br>dr <br>shepherd <br>phone <br>bean <br>mr <br>office <br>evil <br>cut int <br>sir <br>snake <br>okay <br>guy <br>pause <br>\"], [18, 4.370359897613525, 5.686710834503174, -1.4866617918014526, \"john <br>david <br>mark <br>jerry <br>bud <br>chuck <br>president <br>dr <br>shepherd <br>phone <br>bean <br>mr <br>office <br>evil <br>cut int <br>sir <br>snake <br>okay <br>guy <br>pause <br>\"], [18, 5.128968238830566, 4.649675369262695, -2.834338426589966, \"john <br>david <br>mark <br>jerry <br>bud <br>chuck <br>president <br>dr <br>shepherd <br>phone <br>bean <br>mr <br>office <br>evil <br>cut int <br>sir <br>snake <br>okay <br>guy <br>pause <br>\"], [18, 4.9406633377075195, 6.858061790466309, -1.2564682960510254, \"john <br>david <br>mark <br>jerry <br>bud <br>chuck <br>president <br>dr <br>shepherd <br>phone <br>bean <br>mr <br>office <br>evil <br>cut int <br>sir <br>snake <br>okay <br>guy <br>pause <br>\"], [18, 4.89296817779541, 7.057912826538086, -1.4983915090560913, \"john <br>david <br>mark <br>jerry <br>bud <br>chuck <br>president <br>dr <br>shepherd <br>phone <br>bean <br>mr <br>office <br>evil <br>cut int <br>sir <br>snake <br>okay <br>guy <br>pause <br>\"], [18, 5.439312934875488, 7.128755569458008, -1.422040581703186, \"john <br>david <br>mark <br>jerry <br>bud <br>chuck <br>president <br>dr <br>shepherd <br>phone <br>bean <br>mr <br>office <br>evil <br>cut int <br>sir <br>snake <br>okay <br>guy <br>pause <br>\"], [18, 4.965193271636963, 7.132626056671143, -1.945659875869751, \"john <br>david <br>mark <br>jerry <br>bud <br>chuck <br>president <br>dr <br>shepherd <br>phone <br>bean <br>mr <br>office <br>evil <br>cut int <br>sir <br>snake <br>okay <br>guy <br>pause <br>\"]], \"mode\": \"markers\", \"showlegend\": false, \"type\": \"scatter3d\", \"x\": [3.912975788116455, 5.262043476104736, 4.331017017364502, 4.093286037445068, 4.750142574310303, 5.944470405578613, 5.13964319229126, 4.846203804016113, 4.9272141456604, 4.577713966369629, 4.158803462982178, 4.370359897613525, 5.128968238830566, 4.9406633377075195, 4.89296817779541, 5.439312934875488, 4.965193271636963], \"y\": [7.425717830657959, 7.245458602905273, 6.923165798187256, 5.7693190574646, 6.185729503631592, 7.582967758178711, 5.632096290588379, 6.41676664352417, 5.404156684875488, 7.0545735359191895, 5.87434196472168, 5.686710834503174, 4.649675369262695, 6.858061790466309, 7.057912826538086, 7.128755569458008, 7.132626056671143], \"z\": [-0.8912294507026672, -1.8642950057983398, -2.259373426437378, -2.116006851196289, -1.9378818273544312, -1.4026790857315063, -2.3002164363861084, -1.5338542461395264, -2.315495014190674, -1.986867070198059, -2.033702850341797, -1.4866617918014526, -2.834338426589966, -1.2564682960510254, -1.4983915090560913, -1.422040581703186, -1.945659875869751]}, {\"hovertemplate\": \"%{meta[4]}<extra></extra>\", \"meta\": [[19, 0.5423510670661926, 5.583139896392822, 6.974923133850098, \"bob <br>larry <br>scott <br>e <br>t <br>s <br>o <br>edward <br>n <br>r <br>bill <br>d <br>james <br>c <br>h <br>b <br>l <br>m <br>lincoln <br>g <br>\"], [19, -0.05413180589675903, 5.206193923950195, 9.120931625366211, \"bob <br>larry <br>scott <br>e <br>t <br>s <br>o <br>edward <br>n <br>r <br>bill <br>d <br>james <br>c <br>h <br>b <br>l <br>m <br>lincoln <br>g <br>\"], [19, -0.7028456926345825, 6.109956741333008, 8.490739822387695, \"bob <br>larry <br>scott <br>e <br>t <br>s <br>o <br>edward <br>n <br>r <br>bill <br>d <br>james <br>c <br>h <br>b <br>l <br>m <br>lincoln <br>g <br>\"], [19, 0.44422662258148193, 5.544346332550049, 7.182444095611572, \"bob <br>larry <br>scott <br>e <br>t <br>s <br>o <br>edward <br>n <br>r <br>bill <br>d <br>james <br>c <br>h <br>b <br>l <br>m <br>lincoln <br>g <br>\"], [19, 1.4224683046340942, 6.009215354919434, 7.70369291305542, \"bob <br>larry <br>scott <br>e <br>t <br>s <br>o <br>edward <br>n <br>r <br>bill <br>d <br>james <br>c <br>h <br>b <br>l <br>m <br>lincoln <br>g <br>\"], [19, 0.6410716772079468, 6.539208889007568, 7.042558670043945, \"bob <br>larry <br>scott <br>e <br>t <br>s <br>o <br>edward <br>n <br>r <br>bill <br>d <br>james <br>c <br>h <br>b <br>l <br>m <br>lincoln <br>g <br>\"], [19, 0.3783527612686157, 3.02055287361145, 6.764073848724365, \"bob <br>larry <br>scott <br>e <br>t <br>s <br>o <br>edward <br>n <br>r <br>bill <br>d <br>james <br>c <br>h <br>b <br>l <br>m <br>lincoln <br>g <br>\"], [19, -0.3802728056907654, 6.894579887390137, 7.821434020996094, \"bob <br>larry <br>scott <br>e <br>t <br>s <br>o <br>edward <br>n <br>r <br>bill <br>d <br>james <br>c <br>h <br>b <br>l <br>m <br>lincoln <br>g <br>\"], [19, -0.46675485372543335, 6.434618949890137, 8.714712142944336, \"bob <br>larry <br>scott <br>e <br>t <br>s <br>o <br>edward <br>n <br>r <br>bill <br>d <br>james <br>c <br>h <br>b <br>l <br>m <br>lincoln <br>g <br>\"], [19, -1.5056746006011963, 4.706682205200195, 8.158252716064453, \"bob <br>larry <br>scott <br>e <br>t <br>s <br>o <br>edward <br>n <br>r <br>bill <br>d <br>james <br>c <br>h <br>b <br>l <br>m <br>lincoln <br>g <br>\"], [19, 1.2703191041946411, 4.302206516265869, 5.798262119293213, \"bob <br>larry <br>scott <br>e <br>t <br>s <br>o <br>edward <br>n <br>r <br>bill <br>d <br>james <br>c <br>h <br>b <br>l <br>m <br>lincoln <br>g <br>\"], [19, 0.15172924101352692, 6.832016468048096, 8.790993690490723, \"bob <br>larry <br>scott <br>e <br>t <br>s <br>o <br>edward <br>n <br>r <br>bill <br>d <br>james <br>c <br>h <br>b <br>l <br>m <br>lincoln <br>g <br>\"], [19, 1.0804781913757324, 3.3528668880462646, 5.64907693862915, \"bob <br>larry <br>scott <br>e <br>t <br>s <br>o <br>edward <br>n <br>r <br>bill <br>d <br>james <br>c <br>h <br>b <br>l <br>m <br>lincoln <br>g <br>\"], [19, 0.6650099158287048, 7.715535640716553, 8.04255199432373, \"bob <br>larry <br>scott <br>e <br>t <br>s <br>o <br>edward <br>n <br>r <br>bill <br>d <br>james <br>c <br>h <br>b <br>l <br>m <br>lincoln <br>g <br>\"], [19, -0.21802927553653717, 4.487915992736816, 6.133734703063965, \"bob <br>larry <br>scott <br>e <br>t <br>s <br>o <br>edward <br>n <br>r <br>bill <br>d <br>james <br>c <br>h <br>b <br>l <br>m <br>lincoln <br>g <br>\"], [19, -1.181359052658081, 5.448062896728516, 8.530409812927246, \"bob <br>larry <br>scott <br>e <br>t <br>s <br>o <br>edward <br>n <br>r <br>bill <br>d <br>james <br>c <br>h <br>b <br>l <br>m <br>lincoln <br>g <br>\"], [19, -0.14981941878795624, 4.4188666343688965, 9.400193214416504, \"bob <br>larry <br>scott <br>e <br>t <br>s <br>o <br>edward <br>n <br>r <br>bill <br>d <br>james <br>c <br>h <br>b <br>l <br>m <br>lincoln <br>g <br>\"], [19, -0.8526430130004883, 4.5112624168396, 6.595330238342285, \"bob <br>larry <br>scott <br>e <br>t <br>s <br>o <br>edward <br>n <br>r <br>bill <br>d <br>james <br>c <br>h <br>b <br>l <br>m <br>lincoln <br>g <br>\"], [19, -0.06955645233392715, 7.603250980377197, 7.806218147277832, \"bob <br>larry <br>scott <br>e <br>t <br>s <br>o <br>edward <br>n <br>r <br>bill <br>d <br>james <br>c <br>h <br>b <br>l <br>m <br>lincoln <br>g <br>\"], [19, -2.8652966022491455, 3.2218408584594727, 5.432923316955566, \"bob <br>larry <br>scott <br>e <br>t <br>s <br>o <br>edward <br>n <br>r <br>bill <br>d <br>james <br>c <br>h <br>b <br>l <br>m <br>lincoln <br>g <br>\"], [19, 0.6283701658248901, 7.7650346755981445, 8.63693618774414, \"bob <br>larry <br>scott <br>e <br>t <br>s <br>o <br>edward <br>n <br>r <br>bill <br>d <br>james <br>c <br>h <br>b <br>l <br>m <br>lincoln <br>g <br>\"], [19, 0.3952677845954895, 4.742239475250244, 5.261223316192627, \"bob <br>larry <br>scott <br>e <br>t <br>s <br>o <br>edward <br>n <br>r <br>bill <br>d <br>james <br>c <br>h <br>b <br>l <br>m <br>lincoln <br>g <br>\"], [19, -0.308153361082077, 3.9430150985717773, 7.752269268035889, \"bob <br>larry <br>scott <br>e <br>t <br>s <br>o <br>edward <br>n <br>r <br>bill <br>d <br>james <br>c <br>h <br>b <br>l <br>m <br>lincoln <br>g <br>\"], [19, 0.20840761065483093, 6.491345405578613, 7.500855445861816, \"bob <br>larry <br>scott <br>e <br>t <br>s <br>o <br>edward <br>n <br>r <br>bill <br>d <br>james <br>c <br>h <br>b <br>l <br>m <br>lincoln <br>g <br>\"], [19, -1.8542046546936035, 7.0957255363464355, 8.543435096740723, \"bob <br>larry <br>scott <br>e <br>t <br>s <br>o <br>edward <br>n <br>r <br>bill <br>d <br>james <br>c <br>h <br>b <br>l <br>m <br>lincoln <br>g <br>\"], [19, -1.8016226291656494, 5.933656215667725, 6.879454612731934, \"bob <br>larry <br>scott <br>e <br>t <br>s <br>o <br>edward <br>n <br>r <br>bill <br>d <br>james <br>c <br>h <br>b <br>l <br>m <br>lincoln <br>g <br>\"], [19, -1.3605953454971313, 4.290677070617676, 6.409434795379639, \"bob <br>larry <br>scott <br>e <br>t <br>s <br>o <br>edward <br>n <br>r <br>bill <br>d <br>james <br>c <br>h <br>b <br>l <br>m <br>lincoln <br>g <br>\"], [19, -0.5749049782752991, 5.135364532470703, 8.317228317260742, \"bob <br>larry <br>scott <br>e <br>t <br>s <br>o <br>edward <br>n <br>r <br>bill <br>d <br>james <br>c <br>h <br>b <br>l <br>m <br>lincoln <br>g <br>\"], [19, -1.1803871393203735, 6.356269836425781, 7.190168857574463, \"bob <br>larry <br>scott <br>e <br>t <br>s <br>o <br>edward <br>n <br>r <br>bill <br>d <br>james <br>c <br>h <br>b <br>l <br>m <br>lincoln <br>g <br>\"], [19, -2.118739604949951, 5.927310943603516, 6.5501227378845215, \"bob <br>larry <br>scott <br>e <br>t <br>s <br>o <br>edward <br>n <br>r <br>bill <br>d <br>james <br>c <br>h <br>b <br>l <br>m <br>lincoln <br>g <br>\"], [19, -0.6575390100479126, 6.9537248611450195, 7.557415008544922, \"bob <br>larry <br>scott <br>e <br>t <br>s <br>o <br>edward <br>n <br>r <br>bill <br>d <br>james <br>c <br>h <br>b <br>l <br>m <br>lincoln <br>g <br>\"], [19, 0.7258087396621704, 6.5311713218688965, 8.357442855834961, \"bob <br>larry <br>scott <br>e <br>t <br>s <br>o <br>edward <br>n <br>r <br>bill <br>d <br>james <br>c <br>h <br>b <br>l <br>m <br>lincoln <br>g <br>\"], [19, -2.1459975242614746, 7.458352088928223, 8.533583641052246, \"bob <br>larry <br>scott <br>e <br>t <br>s <br>o <br>edward <br>n <br>r <br>bill <br>d <br>james <br>c <br>h <br>b <br>l <br>m <br>lincoln <br>g <br>\"], [19, 0.27423182129859924, 5.815704822540283, 8.750605583190918, \"bob <br>larry <br>scott <br>e <br>t <br>s <br>o <br>edward <br>n <br>r <br>bill <br>d <br>james <br>c <br>h <br>b <br>l <br>m <br>lincoln <br>g <br>\"], [19, -1.43191397190094, 4.274481296539307, 6.371903896331787, \"bob <br>larry <br>scott <br>e <br>t <br>s <br>o <br>edward <br>n <br>r <br>bill <br>d <br>james <br>c <br>h <br>b <br>l <br>m <br>lincoln <br>g <br>\"], [19, 0.1306537687778473, 3.5693020820617676, 6.719377517700195, \"bob <br>larry <br>scott <br>e <br>t <br>s <br>o <br>edward <br>n <br>r <br>bill <br>d <br>james <br>c <br>h <br>b <br>l <br>m <br>lincoln <br>g <br>\"], [19, 0.9081913232803345, 3.10623836517334, 5.920487880706787, \"bob <br>larry <br>scott <br>e <br>t <br>s <br>o <br>edward <br>n <br>r <br>bill <br>d <br>james <br>c <br>h <br>b <br>l <br>m <br>lincoln <br>g <br>\"], [19, 0.7350765466690063, 4.620467662811279, 6.112586498260498, \"bob <br>larry <br>scott <br>e <br>t <br>s <br>o <br>edward <br>n <br>r <br>bill <br>d <br>james <br>c <br>h <br>b <br>l <br>m <br>lincoln <br>g <br>\"], [19, -0.8063948154449463, 6.275953769683838, 7.936391353607178, \"bob <br>larry <br>scott <br>e <br>t <br>s <br>o <br>edward <br>n <br>r <br>bill <br>d <br>james <br>c <br>h <br>b <br>l <br>m <br>lincoln <br>g <br>\"], [19, 0.5654507279396057, 2.1751046180725098, 6.730870246887207, \"bob <br>larry <br>scott <br>e <br>t <br>s <br>o <br>edward <br>n <br>r <br>bill <br>d <br>james <br>c <br>h <br>b <br>l <br>m <br>lincoln <br>g <br>\"], [19, 0.27346566319465637, 8.015932083129883, 8.707355499267578, \"bob <br>larry <br>scott <br>e <br>t <br>s <br>o <br>edward <br>n <br>r <br>bill <br>d <br>james <br>c <br>h <br>b <br>l <br>m <br>lincoln <br>g <br>\"], [19, -0.3341594636440277, 6.100623607635498, 7.1895928382873535, \"bob <br>larry <br>scott <br>e <br>t <br>s <br>o <br>edward <br>n <br>r <br>bill <br>d <br>james <br>c <br>h <br>b <br>l <br>m <br>lincoln <br>g <br>\"], [19, -0.11372768878936768, 7.538164138793945, 8.082479476928711, \"bob <br>larry <br>scott <br>e <br>t <br>s <br>o <br>edward <br>n <br>r <br>bill <br>d <br>james <br>c <br>h <br>b <br>l <br>m <br>lincoln <br>g <br>\"], [19, 0.18736381828784943, 7.291354656219482, 8.449640274047852, \"bob <br>larry <br>scott <br>e <br>t <br>s <br>o <br>edward <br>n <br>r <br>bill <br>d <br>james <br>c <br>h <br>b <br>l <br>m <br>lincoln <br>g <br>\"], [19, 1.0652512311935425, 4.169607162475586, 5.632991313934326, \"bob <br>larry <br>scott <br>e <br>t <br>s <br>o <br>edward <br>n <br>r <br>bill <br>d <br>james <br>c <br>h <br>b <br>l <br>m <br>lincoln <br>g <br>\"], [19, -0.7187039852142334, 5.028452396392822, 7.108798980712891, \"bob <br>larry <br>scott <br>e <br>t <br>s <br>o <br>edward <br>n <br>r <br>bill <br>d <br>james <br>c <br>h <br>b <br>l <br>m <br>lincoln <br>g <br>\"], [19, -2.120378255844116, 2.928208351135254, 5.422863483428955, \"bob <br>larry <br>scott <br>e <br>t <br>s <br>o <br>edward <br>n <br>r <br>bill <br>d <br>james <br>c <br>h <br>b <br>l <br>m <br>lincoln <br>g <br>\"]], \"mode\": \"markers\", \"showlegend\": false, \"type\": \"scatter3d\", \"x\": [0.5423510670661926, -0.05413180589675903, -0.7028456926345825, 0.44422662258148193, 1.4224683046340942, 0.6410716772079468, 0.3783527612686157, -0.3802728056907654, -0.46675485372543335, -1.5056746006011963, 1.2703191041946411, 0.15172924101352692, 1.0804781913757324, 0.6650099158287048, -0.21802927553653717, -1.181359052658081, -0.14981941878795624, -0.8526430130004883, -0.06955645233392715, -2.8652966022491455, 0.6283701658248901, 0.3952677845954895, -0.308153361082077, 0.20840761065483093, -1.8542046546936035, -1.8016226291656494, -1.3605953454971313, -0.5749049782752991, -1.1803871393203735, -2.118739604949951, -0.6575390100479126, 0.7258087396621704, -2.1459975242614746, 0.27423182129859924, -1.43191397190094, 0.1306537687778473, 0.9081913232803345, 0.7350765466690063, -0.8063948154449463, 0.5654507279396057, 0.27346566319465637, -0.3341594636440277, -0.11372768878936768, 0.18736381828784943, 1.0652512311935425, -0.7187039852142334, -2.120378255844116], \"y\": [5.583139896392822, 5.206193923950195, 6.109956741333008, 5.544346332550049, 6.009215354919434, 6.539208889007568, 3.02055287361145, 6.894579887390137, 6.434618949890137, 4.706682205200195, 4.302206516265869, 6.832016468048096, 3.3528668880462646, 7.715535640716553, 4.487915992736816, 5.448062896728516, 4.4188666343688965, 4.5112624168396, 7.603250980377197, 3.2218408584594727, 7.7650346755981445, 4.742239475250244, 3.9430150985717773, 6.491345405578613, 7.0957255363464355, 5.933656215667725, 4.290677070617676, 5.135364532470703, 6.356269836425781, 5.927310943603516, 6.9537248611450195, 6.5311713218688965, 7.458352088928223, 5.815704822540283, 4.274481296539307, 3.5693020820617676, 3.10623836517334, 4.620467662811279, 6.275953769683838, 2.1751046180725098, 8.015932083129883, 6.100623607635498, 7.538164138793945, 7.291354656219482, 4.169607162475586, 5.028452396392822, 2.928208351135254], \"z\": [6.974923133850098, 9.120931625366211, 8.490739822387695, 7.182444095611572, 7.70369291305542, 7.042558670043945, 6.764073848724365, 7.821434020996094, 8.714712142944336, 8.158252716064453, 5.798262119293213, 8.790993690490723, 5.64907693862915, 8.04255199432373, 6.133734703063965, 8.530409812927246, 9.400193214416504, 6.595330238342285, 7.806218147277832, 5.432923316955566, 8.63693618774414, 5.261223316192627, 7.752269268035889, 7.500855445861816, 8.543435096740723, 6.879454612731934, 6.409434795379639, 8.317228317260742, 7.190168857574463, 6.5501227378845215, 7.557415008544922, 8.357442855834961, 8.533583641052246, 8.750605583190918, 6.371903896331787, 6.719377517700195, 5.920487880706787, 6.112586498260498, 7.936391353607178, 6.730870246887207, 8.707355499267578, 7.1895928382873535, 8.082479476928711, 8.449640274047852, 5.632991313934326, 7.108798980712891, 5.422863483428955]}],\n",
       "                        {\"height\": 600, \"margin\": {\"b\": 0, \"l\": 0, \"r\": 0, \"t\": 30}, \"scene\": {\"camera\": {\"eye\": {\"x\": 1, \"y\": 2, \"z\": 0.2}}}, \"template\": {\"data\": {\"bar\": [{\"error_x\": {\"color\": \"#2a3f5f\"}, \"error_y\": {\"color\": \"#2a3f5f\"}, \"marker\": {\"line\": {\"color\": \"#E5ECF6\", \"width\": 0.5}}, \"type\": \"bar\"}], \"barpolar\": [{\"marker\": {\"line\": {\"color\": \"#E5ECF6\", \"width\": 0.5}}, \"type\": \"barpolar\"}], \"carpet\": [{\"aaxis\": {\"endlinecolor\": \"#2a3f5f\", \"gridcolor\": \"white\", \"linecolor\": \"white\", \"minorgridcolor\": \"white\", \"startlinecolor\": \"#2a3f5f\"}, \"baxis\": {\"endlinecolor\": \"#2a3f5f\", \"gridcolor\": \"white\", \"linecolor\": \"white\", \"minorgridcolor\": \"white\", \"startlinecolor\": \"#2a3f5f\"}, \"type\": \"carpet\"}], \"choropleth\": [{\"colorbar\": {\"outlinewidth\": 0, \"ticks\": \"\"}, \"type\": \"choropleth\"}], \"contour\": [{\"colorbar\": {\"outlinewidth\": 0, \"ticks\": \"\"}, \"colorscale\": [[0.0, \"#0d0887\"], [0.1111111111111111, \"#46039f\"], [0.2222222222222222, \"#7201a8\"], [0.3333333333333333, \"#9c179e\"], [0.4444444444444444, \"#bd3786\"], [0.5555555555555556, \"#d8576b\"], [0.6666666666666666, \"#ed7953\"], [0.7777777777777778, \"#fb9f3a\"], [0.8888888888888888, \"#fdca26\"], [1.0, \"#f0f921\"]], \"type\": \"contour\"}], \"contourcarpet\": [{\"colorbar\": {\"outlinewidth\": 0, \"ticks\": \"\"}, \"type\": \"contourcarpet\"}], \"heatmap\": [{\"colorbar\": {\"outlinewidth\": 0, \"ticks\": \"\"}, \"colorscale\": [[0.0, \"#0d0887\"], [0.1111111111111111, \"#46039f\"], [0.2222222222222222, \"#7201a8\"], [0.3333333333333333, \"#9c179e\"], [0.4444444444444444, \"#bd3786\"], [0.5555555555555556, \"#d8576b\"], [0.6666666666666666, \"#ed7953\"], [0.7777777777777778, \"#fb9f3a\"], [0.8888888888888888, \"#fdca26\"], [1.0, \"#f0f921\"]], \"type\": \"heatmap\"}], \"heatmapgl\": [{\"colorbar\": {\"outlinewidth\": 0, \"ticks\": \"\"}, \"colorscale\": [[0.0, \"#0d0887\"], [0.1111111111111111, \"#46039f\"], [0.2222222222222222, \"#7201a8\"], [0.3333333333333333, \"#9c179e\"], [0.4444444444444444, \"#bd3786\"], [0.5555555555555556, \"#d8576b\"], [0.6666666666666666, \"#ed7953\"], [0.7777777777777778, \"#fb9f3a\"], [0.8888888888888888, \"#fdca26\"], [1.0, \"#f0f921\"]], \"type\": \"heatmapgl\"}], \"histogram\": [{\"marker\": {\"colorbar\": {\"outlinewidth\": 0, \"ticks\": \"\"}}, \"type\": \"histogram\"}], \"histogram2d\": [{\"colorbar\": {\"outlinewidth\": 0, \"ticks\": \"\"}, \"colorscale\": [[0.0, \"#0d0887\"], [0.1111111111111111, \"#46039f\"], [0.2222222222222222, \"#7201a8\"], [0.3333333333333333, \"#9c179e\"], [0.4444444444444444, \"#bd3786\"], [0.5555555555555556, \"#d8576b\"], [0.6666666666666666, \"#ed7953\"], [0.7777777777777778, \"#fb9f3a\"], [0.8888888888888888, \"#fdca26\"], [1.0, \"#f0f921\"]], \"type\": \"histogram2d\"}], \"histogram2dcontour\": [{\"colorbar\": {\"outlinewidth\": 0, \"ticks\": \"\"}, \"colorscale\": [[0.0, \"#0d0887\"], [0.1111111111111111, \"#46039f\"], [0.2222222222222222, \"#7201a8\"], [0.3333333333333333, \"#9c179e\"], [0.4444444444444444, \"#bd3786\"], [0.5555555555555556, \"#d8576b\"], [0.6666666666666666, \"#ed7953\"], [0.7777777777777778, \"#fb9f3a\"], [0.8888888888888888, \"#fdca26\"], [1.0, \"#f0f921\"]], \"type\": \"histogram2dcontour\"}], \"mesh3d\": [{\"colorbar\": {\"outlinewidth\": 0, \"ticks\": \"\"}, \"type\": \"mesh3d\"}], \"parcoords\": [{\"line\": {\"colorbar\": {\"outlinewidth\": 0, \"ticks\": \"\"}}, \"type\": \"parcoords\"}], \"pie\": [{\"automargin\": true, \"type\": \"pie\"}], \"scatter\": [{\"marker\": {\"colorbar\": {\"outlinewidth\": 0, \"ticks\": \"\"}}, \"type\": \"scatter\"}], \"scatter3d\": [{\"line\": {\"colorbar\": {\"outlinewidth\": 0, \"ticks\": \"\"}}, \"marker\": {\"colorbar\": {\"outlinewidth\": 0, \"ticks\": \"\"}}, \"type\": \"scatter3d\"}], \"scattercarpet\": [{\"marker\": {\"colorbar\": {\"outlinewidth\": 0, \"ticks\": \"\"}}, \"type\": \"scattercarpet\"}], \"scattergeo\": [{\"marker\": {\"colorbar\": {\"outlinewidth\": 0, \"ticks\": \"\"}}, \"type\": \"scattergeo\"}], \"scattergl\": [{\"marker\": {\"colorbar\": {\"outlinewidth\": 0, \"ticks\": \"\"}}, \"type\": \"scattergl\"}], \"scattermapbox\": [{\"marker\": {\"colorbar\": {\"outlinewidth\": 0, \"ticks\": \"\"}}, \"type\": \"scattermapbox\"}], \"scatterpolar\": [{\"marker\": {\"colorbar\": {\"outlinewidth\": 0, \"ticks\": \"\"}}, \"type\": \"scatterpolar\"}], \"scatterpolargl\": [{\"marker\": {\"colorbar\": {\"outlinewidth\": 0, \"ticks\": \"\"}}, \"type\": \"scatterpolargl\"}], \"scatterternary\": [{\"marker\": {\"colorbar\": {\"outlinewidth\": 0, \"ticks\": \"\"}}, \"type\": \"scatterternary\"}], \"surface\": [{\"colorbar\": {\"outlinewidth\": 0, \"ticks\": \"\"}, \"colorscale\": [[0.0, \"#0d0887\"], [0.1111111111111111, \"#46039f\"], [0.2222222222222222, \"#7201a8\"], [0.3333333333333333, \"#9c179e\"], [0.4444444444444444, \"#bd3786\"], [0.5555555555555556, \"#d8576b\"], [0.6666666666666666, \"#ed7953\"], [0.7777777777777778, \"#fb9f3a\"], [0.8888888888888888, \"#fdca26\"], [1.0, \"#f0f921\"]], \"type\": \"surface\"}], \"table\": [{\"cells\": {\"fill\": {\"color\": \"#EBF0F8\"}, \"line\": {\"color\": \"white\"}}, \"header\": {\"fill\": {\"color\": \"#C8D4E3\"}, \"line\": {\"color\": \"white\"}}, \"type\": \"table\"}]}, \"layout\": {\"annotationdefaults\": {\"arrowcolor\": \"#2a3f5f\", \"arrowhead\": 0, \"arrowwidth\": 1}, \"coloraxis\": {\"colorbar\": {\"outlinewidth\": 0, \"ticks\": \"\"}}, \"colorscale\": {\"diverging\": [[0, \"#8e0152\"], [0.1, \"#c51b7d\"], [0.2, \"#de77ae\"], [0.3, \"#f1b6da\"], [0.4, \"#fde0ef\"], [0.5, \"#f7f7f7\"], [0.6, \"#e6f5d0\"], [0.7, \"#b8e186\"], [0.8, \"#7fbc41\"], [0.9, \"#4d9221\"], [1, \"#276419\"]], \"sequential\": [[0.0, \"#0d0887\"], [0.1111111111111111, \"#46039f\"], [0.2222222222222222, \"#7201a8\"], [0.3333333333333333, \"#9c179e\"], [0.4444444444444444, \"#bd3786\"], [0.5555555555555556, \"#d8576b\"], [0.6666666666666666, \"#ed7953\"], [0.7777777777777778, \"#fb9f3a\"], [0.8888888888888888, \"#fdca26\"], [1.0, \"#f0f921\"]], \"sequentialminus\": [[0.0, \"#0d0887\"], [0.1111111111111111, \"#46039f\"], [0.2222222222222222, \"#7201a8\"], [0.3333333333333333, \"#9c179e\"], [0.4444444444444444, \"#bd3786\"], [0.5555555555555556, \"#d8576b\"], [0.6666666666666666, \"#ed7953\"], [0.7777777777777778, \"#fb9f3a\"], [0.8888888888888888, \"#fdca26\"], [1.0, \"#f0f921\"]]}, \"colorway\": [\"#636efa\", \"#EF553B\", \"#00cc96\", \"#ab63fa\", \"#FFA15A\", \"#19d3f3\", \"#FF6692\", \"#B6E880\", \"#FF97FF\", \"#FECB52\"], \"font\": {\"color\": \"#2a3f5f\"}, \"geo\": {\"bgcolor\": \"white\", \"lakecolor\": \"white\", \"landcolor\": \"#E5ECF6\", \"showlakes\": true, \"showland\": true, \"subunitcolor\": \"white\"}, \"hoverlabel\": {\"align\": \"left\"}, \"hovermode\": \"closest\", \"mapbox\": {\"style\": \"light\"}, \"paper_bgcolor\": \"white\", \"plot_bgcolor\": \"#E5ECF6\", \"polar\": {\"angularaxis\": {\"gridcolor\": \"white\", \"linecolor\": \"white\", \"ticks\": \"\"}, \"bgcolor\": \"#E5ECF6\", \"radialaxis\": {\"gridcolor\": \"white\", \"linecolor\": \"white\", \"ticks\": \"\"}}, \"scene\": {\"xaxis\": {\"backgroundcolor\": \"#E5ECF6\", \"gridcolor\": \"white\", \"gridwidth\": 2, \"linecolor\": \"white\", \"showbackground\": true, \"ticks\": \"\", \"zerolinecolor\": \"white\"}, \"yaxis\": {\"backgroundcolor\": \"#E5ECF6\", \"gridcolor\": \"white\", \"gridwidth\": 2, \"linecolor\": \"white\", \"showbackground\": true, \"ticks\": \"\", \"zerolinecolor\": \"white\"}, \"zaxis\": {\"backgroundcolor\": \"#E5ECF6\", \"gridcolor\": \"white\", \"gridwidth\": 2, \"linecolor\": \"white\", \"showbackground\": true, \"ticks\": \"\", \"zerolinecolor\": \"white\"}}, \"shapedefaults\": {\"line\": {\"color\": \"#2a3f5f\"}}, \"ternary\": {\"aaxis\": {\"gridcolor\": \"white\", \"linecolor\": \"white\", \"ticks\": \"\"}, \"baxis\": {\"gridcolor\": \"white\", \"linecolor\": \"white\", \"ticks\": \"\"}, \"bgcolor\": \"#E5ECF6\", \"caxis\": {\"gridcolor\": \"white\", \"linecolor\": \"white\", \"ticks\": \"\"}}, \"title\": {\"x\": 0.05}, \"xaxis\": {\"automargin\": true, \"gridcolor\": \"white\", \"linecolor\": \"white\", \"ticks\": \"\", \"title\": {\"standoff\": 15}, \"zerolinecolor\": \"white\", \"zerolinewidth\": 2}, \"yaxis\": {\"automargin\": true, \"gridcolor\": \"white\", \"linecolor\": \"white\", \"ticks\": \"\", \"title\": {\"standoff\": 15}, \"zerolinecolor\": \"white\", \"zerolinewidth\": 2}}}, \"title\": {\"text\": \"t-SNE Visualization of LDA Groupings\"}, \"width\": 600},\n",
       "                        {\"responsive\": true}\n",
       "                    ).then(function(){\n",
       "                            \n",
       "var gd = document.getElementById('29dc188a-1d87-4d6b-97fa-bc0457507821');\n",
       "var x = new MutationObserver(function (mutations, observer) {{\n",
       "        var display = window.getComputedStyle(gd).display;\n",
       "        if (!display || display === 'none') {{\n",
       "            console.log([gd, 'removed!']);\n",
       "            Plotly.purge(gd);\n",
       "            observer.disconnect();\n",
       "        }}\n",
       "}});\n",
       "\n",
       "// Listen for the removal of the full notebook cells\n",
       "var notebookContainer = gd.closest('#notebook-container');\n",
       "if (notebookContainer) {{\n",
       "    x.observe(notebookContainer, {childList: true});\n",
       "}}\n",
       "\n",
       "// Listen for the clearing of the current output cell\n",
       "var outputEl = gd.closest('.output');\n",
       "if (outputEl) {{\n",
       "    x.observe(outputEl, {childList: true});\n",
       "}}\n",
       "\n",
       "                        })\n",
       "                };\n",
       "                });\n",
       "            </script>\n",
       "        </div>"
      ]
     },
     "metadata": {},
     "output_type": "display_data"
    }
   ],
   "source": [
    "fig = go.Figure()\n",
    "\n",
    "for i in range(20):\n",
    "    data = ref2[ref2[0] == i]\n",
    "    fig.add_trace(go.Scatter3d(\n",
    "                                    x=data[1],\n",
    "                                    y=data[2],\n",
    "                                    z=data[3],\n",
    "                                    mode='markers', \n",
    "                                    meta=data, \n",
    "                                    hovertemplate='%{meta[4]}' + \n",
    "                                                  '<extra></extra>', \n",
    "                                    showlegend=False \n",
    "                                    ))\n",
    "\n",
    "camera = dict(eye=dict(x=1, y=2, z=0.2))\n",
    "\n",
    "fig.update_layout(scene_camera=camera)\n",
    "\n",
    "# tight layout\n",
    "fig.update_layout(margin=dict(l=0, r=0, b=0, t=30), \n",
    "                  height=600, \n",
    "                  width=600, \n",
    "                  title_text=\"t-SNE Visualization of LDA Groupings\")\n",
    "fig.show()\n",
    "\n",
    "# Loading onto cloud\n",
    "#py.iplot(fig, filename=\"tSNE\")"
   ]
  },
  {
   "cell_type": "markdown",
   "metadata": {},
   "source": [
    "### Logistic Regression Models"
   ]
  },
  {
   "cell_type": "markdown",
   "metadata": {},
   "source": [
    "Formatting the targets for ingestion"
   ]
  },
  {
   "cell_type": "code",
   "execution_count": 33,
   "metadata": {},
   "outputs": [],
   "source": [
    "targets = [['IMDb', y_imdb_train, y_imdb_test], \n",
    "           ['Rotten Tomatoes', y_rt_train, y_rt_test], \n",
    "           ['Profit Margin', y_profit_train, y_profit_test]]"
   ]
  },
  {
   "cell_type": "code",
   "execution_count": 27,
   "metadata": {},
   "outputs": [],
   "source": [
    "def log_modeler(targets):\n",
    "    \n",
    "    scores = []\n",
    "    reports = []\n",
    "    \n",
    "    for source, y_train, y_test in targets:\n",
    "        # Pipeline\n",
    "        estimators = [('model', LogisticRegression())]\n",
    "\n",
    "        pipe = Pipeline(estimators)\n",
    "\n",
    "        # Grid search\n",
    "        param_grid = [{'model':[LogisticRegression()],\n",
    "                       'model__penalty':['l1', 'l2'],\n",
    "                       'model__C':np.logspace(-2, 2, 5, 10)}]\n",
    "\n",
    "        grid = GridSearchCV(pipe, param_grid, cv=5).fit(X_train_tfidf, y_train)\n",
    "        \n",
    "        # Pickling the model for reference when graphing\n",
    "        joblib.dump(grid, f'../models/{source.split()[0]}_logreg_ref.pkl')\n",
    "        \n",
    "        # Saving the scores\n",
    "        scores.append([grid.score(X_train_tfidf, y_train), grid.score(X_test_tfidf, y_test)])\n",
    "        \n",
    "        # Calculating prediction metrics\n",
    "        y_test_pred = grid.predict(X_test_tfidf)\n",
    "        \n",
    "        reports.append(classification_report(y_test, y_test_pred, output_dict=True))\n",
    "        \n",
    "    return scores, reports"
   ]
  },
  {
   "cell_type": "markdown",
   "metadata": {},
   "source": [
    "Calling the model function, and saving the scores, and precision reports as csvs"
   ]
  },
  {
   "cell_type": "code",
   "execution_count": 28,
   "metadata": {},
   "outputs": [],
   "source": [
    "logreg_scores, logreg_reports = log_modeler(targets)"
   ]
  },
  {
   "cell_type": "code",
   "execution_count": 77,
   "metadata": {},
   "outputs": [],
   "source": [
    "df_logreg_scores = pd.DataFrame(logreg_scores, columns=['train', 'test'], \n",
    "                                index=['IMDb', 'RT', 'Profit'])\n",
    "df_logreg_scores.to_csv('../../data/logreg_scores.csv')"
   ]
  },
  {
   "cell_type": "code",
   "execution_count": 76,
   "metadata": {},
   "outputs": [],
   "source": [
    "template = pd.DataFrame({'target':['IMDb', 'IMDb', 'RT', 'RT', 'Profit', 'Profit'], \n",
    "                         'class':[0,1,0,1,0,1]})\n",
    "df_logreg_results = pd.DataFrame([logreg_reports[0]['0'], logreg_reports[0]['1'], \n",
    "                                  logreg_reports[1]['0'], logreg_reports[1]['1'], \n",
    "                                  logreg_reports[2]['0'], logreg_reports[2]['1']], index=range(6))\n",
    "df_logreg = pd.concat([template, df_logreg_results], axis=1)\n",
    "df_logreg.to_csv('../../data/logreg_results.csv', index=False)"
   ]
  },
  {
   "cell_type": "code",
   "execution_count": 85,
   "metadata": {},
   "outputs": [
    {
     "name": "stdout",
     "output_type": "stream",
     "text": [
      "|        |    train |     test |\n",
      "|:-------|---------:|---------:|\n",
      "| IMDb   | 0.671491 | 0.632035 |\n",
      "| RT     | 0.68741  | 0.558442 |\n",
      "| Profit | 0.59479  | 0.627706 |\n",
      "|    | target   |   class |   precision |   recall |   f1-score |   support |\n",
      "|---:|:---------|--------:|------------:|---------:|-----------:|----------:|\n",
      "|  0 | IMDb     |       0 |    0.576923 | 0.463918 |   0.514286 |        97 |\n",
      "|  1 | IMDb     |       1 |    0.660131 | 0.753731 |   0.703833 |       134 |\n",
      "|  2 | RT       |       0 |    0.603896 | 0.69403  |   0.645833 |       134 |\n",
      "|  3 | RT       |       1 |    0.467532 | 0.371134 |   0.413793 |        97 |\n",
      "|  4 | Profit   |       0 |    0.347826 | 0.101266 |   0.156863 |        79 |\n",
      "|  5 | Profit   |       1 |    0.658654 | 0.901316 |   0.761111 |       152 |\n"
     ]
    }
   ],
   "source": [
    "print(df_logreg_scores.to_markdown())\n",
    "print(df_logreg.to_markdown())"
   ]
  },
  {
   "cell_type": "markdown",
   "metadata": {},
   "source": [
    "### Random Forest Model"
   ]
  },
  {
   "cell_type": "code",
   "execution_count": 56,
   "metadata": {},
   "outputs": [],
   "source": [
    "def rf_modeler(targets):\n",
    "    \n",
    "    scores = []\n",
    "    reports = []\n",
    "    \n",
    "    for source, y_train, y_test in targets:\n",
    "        \n",
    "        # Pipeline\n",
    "        estimators = [('model', RandomForestClassifier())]\n",
    "        pipe = Pipeline(estimators)\n",
    "        \n",
    "        # Grid search\n",
    "        param_grid = [{'model':[RandomForestClassifier()],\n",
    "                       'model__max_depth':[5, None],\n",
    "                       'model__n_estimators':[50, 100, 200, 500]}]\n",
    "\n",
    "        grid = GridSearchCV(pipe, param_grid, cv=5).fit(X_train_tfidf, y_train)\n",
    "\n",
    "        # Pickling the model\n",
    "        joblib.dump(grid, f'../models/{source.split()[0]}_rf_ref.pkl')\n",
    "        \n",
    "        # Saving the scores\n",
    "        scores.append([grid.score(X_train_tfidf, y_train), grid.score(X_test_tfidf, y_test)])\n",
    "        \n",
    "        # Calculating prediction metrics\n",
    "        y_test_pred = grid.predict(X_test_tfidf)\n",
    "        \n",
    "        reports.append(classification_report(y_test, y_test_pred, output_dict=True))\n",
    "        \n",
    "    return scores, reports"
   ]
  },
  {
   "cell_type": "markdown",
   "metadata": {},
   "source": [
    "Calling the model function, and saving the scores, and precision reports as csvs"
   ]
  },
  {
   "cell_type": "code",
   "execution_count": 57,
   "metadata": {},
   "outputs": [],
   "source": [
    "rf_scores, rf_reports = rf_modeler(targets)"
   ]
  },
  {
   "cell_type": "code",
   "execution_count": 61,
   "metadata": {},
   "outputs": [],
   "source": [
    "df_rf_scores = pd.DataFrame(rf_scores, columns=['train', 'test'], \n",
    "                              index=['IMDb', 'RT', 'Profit'])\n",
    "df_rf_scores.to_csv('../../data/rf_scores.csv')"
   ]
  },
  {
   "cell_type": "code",
   "execution_count": 62,
   "metadata": {},
   "outputs": [],
   "source": [
    "template = pd.DataFrame({'target':['IMDb', 'IMDb', 'RT', 'RT', 'Profit', 'Profit'], \n",
    "                         'class':[0,1,0,1,0,1]})\n",
    "df_rf_results = pd.DataFrame([rf_reports[0]['0'], rf_reports[0]['1'], \n",
    "                                rf_reports[1]['0'], rf_reports[1]['1'], \n",
    "                                rf_reports[2]['0'], rf_reports[2]['1']], index=range(6))\n",
    "df_rf = pd.concat([template, df_rf_results], axis=1)\n",
    "df_rf.to_csv('../../data/rf_results.csv', index=False)"
   ]
  },
  {
   "cell_type": "code",
   "execution_count": 63,
   "metadata": {},
   "outputs": [
    {
     "name": "stdout",
     "output_type": "stream",
     "text": [
      "|        |    train |     test |\n",
      "|:-------|---------:|---------:|\n",
      "| IMDb   | 0.892909 | 0.61039  |\n",
      "| RT     | 1        | 0.623377 |\n",
      "| Profit | 1        | 0.649351 |\n",
      "|    | target   |   class |   precision |   recall |   f1-score |   support |\n",
      "|---:|:---------|--------:|------------:|---------:|-----------:|----------:|\n",
      "|  0 | IMDb     |       0 |    0.6      | 0.216495 |   0.318182 |        97 |\n",
      "|  1 | IMDb     |       1 |    0.612245 | 0.895522 |   0.727273 |       134 |\n",
      "|  2 | RT       |       0 |    0.625668 | 0.873134 |   0.728972 |       134 |\n",
      "|  3 | RT       |       1 |    0.613636 | 0.278351 |   0.382979 |        97 |\n",
      "|  4 | Profit   |       0 |    0.444444 | 0.101266 |   0.164948 |        79 |\n",
      "|  5 | Profit   |       1 |    0.666667 | 0.934211 |   0.778082 |       152 |\n"
     ]
    }
   ],
   "source": [
    "print(df_rf_scores.to_markdown())\n",
    "print(df_rf.to_markdown())"
   ]
  },
  {
   "cell_type": "markdown",
   "metadata": {},
   "source": [
    "### ADA Boost Models"
   ]
  },
  {
   "cell_type": "code",
   "execution_count": 64,
   "metadata": {},
   "outputs": [],
   "source": [
    "def ada_modeler(targets):\n",
    "    \n",
    "    scores = []\n",
    "    reports = []\n",
    "    \n",
    "    for source, y_train, y_test in targets:\n",
    "        \n",
    "        # Pipeline\n",
    "        estimators = [('model', AdaBoostClassifier())]\n",
    "        pipe = Pipeline(estimators)\n",
    "        \n",
    "        # Grid search\n",
    "        param_grid = [{'model':[AdaBoostClassifier()],\n",
    "                       'model__learning_rate':[1, 0.1, 0.01],\n",
    "                       'model__n_estimators':[50, 100, 200]}]\n",
    "\n",
    "        grid = GridSearchCV(pipe, param_grid, cv=5).fit(X_train_tfidf, y_train)\n",
    "\n",
    "        # Pickling the model\n",
    "        joblib.dump(grid, f'../models/{source.split()[0]}_ada_ref.pkl')\n",
    "        \n",
    "        # Saving the scores\n",
    "        scores.append([grid.score(X_train_tfidf, y_train), grid.score(X_test_tfidf, y_test)])\n",
    "        \n",
    "        # Calculating prediction metrics\n",
    "        y_test_pred = grid.predict(X_test_tfidf)\n",
    "        \n",
    "        reports.append(classification_report(y_test, y_test_pred, output_dict=True))\n",
    "        \n",
    "    return scores, reports"
   ]
  },
  {
   "cell_type": "markdown",
   "metadata": {},
   "source": [
    "Calling the model function, and saving the scores, and precision reports as csvs"
   ]
  },
  {
   "cell_type": "code",
   "execution_count": 65,
   "metadata": {},
   "outputs": [],
   "source": [
    "ada_scores, ada_reports = ada_modeler(targets)"
   ]
  },
  {
   "cell_type": "code",
   "execution_count": 74,
   "metadata": {},
   "outputs": [],
   "source": [
    "df_ada_scores = pd.DataFrame(ada_scores, columns=['train', 'test'], \n",
    "                              index=['IMDb', 'RT', 'Profit'])\n",
    "df_ada_scores.to_csv('../../data/ada_scores.csv')"
   ]
  },
  {
   "cell_type": "code",
   "execution_count": 75,
   "metadata": {},
   "outputs": [],
   "source": [
    "template = pd.DataFrame({'target':['IMDb', 'IMDb', 'RT', 'RT', 'Profit', 'Profit'], \n",
    "                         'class':[0,1,0,1,0,1]})\n",
    "df_ada_results = pd.DataFrame([ada_reports[0]['0'], ada_reports[0]['1'], \n",
    "                                ada_reports[1]['0'], ada_reports[1]['1'], \n",
    "                                ada_reports[2]['0'], ada_reports[2]['1']], index=range(6))\n",
    "df_ada = pd.concat([template, df_ada_results], axis=1)\n",
    "df_ada.to_csv('../../data/ada_results.csv', index=False)"
   ]
  },
  {
   "cell_type": "code",
   "execution_count": 76,
   "metadata": {},
   "outputs": [
    {
     "name": "stdout",
     "output_type": "stream",
     "text": [
      "|        |    train |     test |\n",
      "|:-------|---------:|---------:|\n",
      "| IMDb   | 0.9233   | 0.601732 |\n",
      "| RT     | 1        | 0.575758 |\n",
      "| Profit | 0.723589 | 0.640693 |\n",
      "|    | target   |   class |   precision |   recall |   f1-score |   support |\n",
      "|---:|:---------|--------:|------------:|---------:|-----------:|----------:|\n",
      "|  0 | IMDb     |       0 |    0.537313 | 0.371134 |   0.439024 |        97 |\n",
      "|  1 | IMDb     |       1 |    0.628049 | 0.768657 |   0.691275 |       134 |\n",
      "|  2 | RT       |       0 |    0.621622 | 0.686567 |   0.652482 |       134 |\n",
      "|  3 | RT       |       1 |    0.493976 | 0.42268  |   0.455556 |        97 |\n",
      "|  4 | Profit   |       0 |    0.433333 | 0.164557 |   0.238532 |        79 |\n",
      "|  5 | Profit   |       1 |    0.671642 | 0.888158 |   0.764873 |       152 |\n"
     ]
    }
   ],
   "source": [
    "print(df_ada_scores.to_markdown())\n",
    "print(df_ada.to_markdown())"
   ]
  },
  {
   "cell_type": "markdown",
   "metadata": {},
   "source": [
    "### XG Boost Models"
   ]
  },
  {
   "cell_type": "code",
   "execution_count": 35,
   "metadata": {},
   "outputs": [],
   "source": [
    "def xgbc_modeler(targets):\n",
    "    \n",
    "    scores = []\n",
    "    reports = []\n",
    "    \n",
    "    for source, y_train, y_test in targets:\n",
    "        \n",
    "        # Pipeline\n",
    "        estimators = [('model', XGBClassifier())]\n",
    "        pipe = Pipeline(estimators)\n",
    "        \n",
    "        # Grid search\n",
    "        param_grid = [{'model':[XGBClassifier()],\n",
    "                       'model__max_depth':[4, 5, 6, 7],\n",
    "                       'model__learning_rate':[0.001, 0.01, 0.1],\n",
    "                       'model__n_estimators':[50, 80, 100, 200]}]\n",
    "\n",
    "        grid = GridSearchCV(pipe, param_grid, cv=5).fit(X_train_tfidf, y_train)\n",
    "\n",
    "        # Pickling the model\n",
    "        joblib.dump(grid, f'../models/{source.split()[0]}_xgbc_ref.pkl')\n",
    "        \n",
    "        # Saving the scores\n",
    "        scores.append([grid.score(X_train_tfidf, y_train), grid.score(X_test_tfidf, y_test)])\n",
    "        \n",
    "        # Calculating prediction metrics\n",
    "        y_test_pred = grid.predict(X_test_tfidf)\n",
    "        \n",
    "        reports.append(classification_report(y_test, y_test_pred, output_dict=True))\n",
    "        \n",
    "    return scores, reports"
   ]
  },
  {
   "cell_type": "markdown",
   "metadata": {},
   "source": [
    "Calling the model function, and saving the scores, and precision reports as csvs"
   ]
  },
  {
   "cell_type": "code",
   "execution_count": 36,
   "metadata": {},
   "outputs": [],
   "source": [
    "xgbc_scores, xgbc_reports = xgbc_modeler(targets)"
   ]
  },
  {
   "cell_type": "code",
   "execution_count": 67,
   "metadata": {},
   "outputs": [],
   "source": [
    "df_xgbc_scores = pd.DataFrame(xgbc_scores, columns=['train', 'test'], \n",
    "                              index=['IMDb', 'RT', 'Profit'])\n",
    "df_xgbc_scores.to_csv('../../data/xgbc_scores.csv')"
   ]
  },
  {
   "cell_type": "code",
   "execution_count": 73,
   "metadata": {},
   "outputs": [],
   "source": [
    "template = pd.DataFrame({'target':['IMDb', 'IMDb', 'RT', 'RT', 'Profit', 'Profit'], \n",
    "                         'class':[0,1,0,1,0,1]})\n",
    "df_xgbc_results = pd.DataFrame([xgbc_reports[0]['0'], xgbc_reports[0]['1'], \n",
    "                                xgbc_reports[1]['0'], xgbc_reports[1]['1'], \n",
    "                                xgbc_reports[2]['0'], xgbc_reports[2]['1']], index=range(6))\n",
    "df_xg = pd.concat([template, df_xgbc_results], axis=1)\n",
    "df_xg.to_csv('../../data/xgbc_results.csv', index=False)"
   ]
  },
  {
   "cell_type": "code",
   "execution_count": 84,
   "metadata": {},
   "outputs": [
    {
     "name": "stdout",
     "output_type": "stream",
     "text": [
      "|        |   train |     test |\n",
      "|:-------|--------:|---------:|\n",
      "| IMDb   |       1 | 0.601732 |\n",
      "| RT     |       1 | 0.580087 |\n",
      "| Profit |       1 | 0.588745 |\n",
      "|    | target   |   class |   precision |   recall |   f1-score |   support |\n",
      "|---:|:---------|--------:|------------:|---------:|-----------:|----------:|\n",
      "|  0 | IMDb     |       0 |    0.53012  | 0.453608 |   0.488889 |        97 |\n",
      "|  1 | IMDb     |       1 |    0.641892 | 0.708955 |   0.673759 |       134 |\n",
      "|  2 | RT       |       0 |    0.610778 | 0.761194 |   0.677741 |       134 |\n",
      "|  3 | RT       |       1 |    0.5      | 0.329897 |   0.397516 |        97 |\n",
      "|  4 | Profit   |       0 |    0.357143 | 0.253165 |   0.296296 |        79 |\n",
      "|  5 | Profit   |       1 |    0.662857 | 0.763158 |   0.70948  |       152 |\n"
     ]
    }
   ],
   "source": [
    "print(df_xgbc_scores.to_markdown())\n",
    "print(df_xg.to_markdown())"
   ]
  }
 ],
 "metadata": {
  "kernelspec": {
   "display_name": "Python 3",
   "language": "python",
   "name": "python3"
  },
  "language_info": {
   "codemirror_mode": {
    "name": "ipython",
    "version": 3
   },
   "file_extension": ".py",
   "mimetype": "text/x-python",
   "name": "python",
   "nbconvert_exporter": "python",
   "pygments_lexer": "ipython3",
   "version": "3.6.10"
  }
 },
 "nbformat": 4,
 "nbformat_minor": 4
}
