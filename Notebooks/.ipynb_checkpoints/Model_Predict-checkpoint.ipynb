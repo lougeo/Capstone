{
 "cells": [
  {
   "cell_type": "markdown",
   "metadata": {},
   "source": [
    "Now that I have optimized my two models, I need to train a new final, and complete model with the parameters which I found to be optimal, but on the full dataset.\n",
    "\n",
    "This means that I'll have to revectorize, save that fit vectorizer (to vectorize new inputs from the webapp), \n",
    "\n",
    "Can I just build a pipeline that includes this? I think I could just build and fit a pipeline with all the optimized settings, and then run predictions on inputs if I format them the same as those of the training. \n",
    "\n",
    "\n",
    "am i overcomplicating with a db?\n",
    "\n",
    "how much pocessing can be done on the server? how to create server variables?\n",
    "\n",
    "where to put ml logic?\n",
    "\n",
    "where do I attach the pkl files?"
   ]
  },
  {
   "cell_type": "markdown",
   "metadata": {},
   "source": [
    "# Louis George\n",
    "## Making the final models"
   ]
  },
  {
   "cell_type": "code",
   "execution_count": 1,
   "metadata": {},
   "outputs": [],
   "source": [
    "import numpy as np\n",
    "import pandas as pd\n",
    "\n",
    "import spacy\n",
    "import joblib\n",
    "\n",
    "from sklearn.feature_extraction.text import TfidfVectorizer\n",
    "from sklearn.linear_model import LogisticRegression\n",
    "\n",
    "from xgboost import XGBClassifier\n",
    "\n",
    "import matplotlib.pyplot as plt\n",
    "%matplotlib inline"
   ]
  },
  {
   "cell_type": "code",
   "execution_count": 16,
   "metadata": {},
   "outputs": [
    {
     "data": {
      "text/plain": [
       "'anounaeng'"
      ]
     },
     "execution_count": 16,
     "metadata": {},
     "output_type": "execute_result"
    }
   ],
   "source": [
    "testx = ['anounaeng', 'rgerng']\n",
    "testdf = pd.DataFrame({'script':testx}, index=range(len(testx)))\n",
    "testdf['script'][0]"
   ]
  },
  {
   "cell_type": "code",
   "execution_count": 7,
   "metadata": {},
   "outputs": [
    {
     "data": {
      "text/plain": [
       "dict_values(['myvalue'])"
      ]
     },
     "execution_count": 7,
     "metadata": {},
     "output_type": "execute_result"
    }
   ],
   "source": [
    "testd = {'mykey':'myvalue'}\n",
    "testd.values()"
   ]
  },
  {
   "cell_type": "code",
   "execution_count": 14,
   "metadata": {},
   "outputs": [
    {
     "data": {
      "text/plain": [
       "{'mkey', 'mvalue'}"
      ]
     },
     "execution_count": 14,
     "metadata": {},
     "output_type": "execute_result"
    }
   ],
   "source": [
    "testl = []\n",
    "testl.append({'mkey', 'mvalue'})\n",
    "testl[0]"
   ]
  },
  {
   "cell_type": "code",
   "execution_count": 39,
   "metadata": {},
   "outputs": [],
   "source": [
    "def script_input(script):\n",
    "    lscript = [script]\n",
    "    df = pd.DataFrame({'script':lscript}, index=range(len(lscript)))\n",
    "    return df\n",
    "\n",
    "def genre_convert(genre_info, df):\n",
    "    for i in genre_info:\n",
    "        if i[1] == True:\n",
    "            df[i[0]] = 1\n",
    "        else:\n",
    "            df[i[0]] = 0\n",
    "    return df\n",
    "\n",
    "def pos_counter(df):\n",
    "    nlp = spacy.load(\"en_core_web_sm\")\n",
    "    # Initializing columns\n",
    "    df['Num_NOUN'], df['Num_PRON'], df['Num_PROPN'], df['Num_ADJ'], df['Num_VERB'], df['Num_ADV'] = 0, 0, 0, 0, 0, 0\n",
    "\n",
    "    # Initializing the spacy class\n",
    "    doc = nlp(df['script'][0])\n",
    "\n",
    "    # Condition for a good token\n",
    "    for token in doc:\n",
    "        if (token.is_stop == False) & \\\n",
    "        (token.is_punct == False) & \\\n",
    "        (token.is_space == False) & \\\n",
    "        ('\\n' not in str(token)):\n",
    "            pos = token.pos_\n",
    "            # Condition for each POS\n",
    "            # This modification from the pos counter in my notebooks is kind of hacky:\n",
    "            # It turns all values of the given column to a 1 given the condition, as opposed to only the values for the given script.\n",
    "            # I'm ok with this because if anything will get saved, it will be an output file with the results of individual scripts.\n",
    "            # Therefore, I only need the info for the most recent input script. \n",
    "            if pos == 'NOUN':\n",
    "                df['Num_NOUN'] = 1\n",
    "            elif pos == 'PRON':\n",
    "                df['Num_PRON'] = 1\n",
    "            elif pos == 'PROPN':\n",
    "                df['Num_PROPN'] = 1\n",
    "            elif pos == 'ADJ':\n",
    "                df['Num_ADJ'] = 1\n",
    "            elif pos == 'VERB':\n",
    "                df['Num_VERB'] = 1\n",
    "            elif pos == 'ADV':\n",
    "                df['Num_ADV'] = 1\n",
    "    return df\n",
    "\n",
    "def feature_df(script, genre_info):\n",
    "    df_s = script_input(script)\n",
    "    df_sg = genre_convert(genre_info, df_s)\n",
    "    df_sgp = pos_counter(df_sg)\n",
    "\n",
    "    return df_sgp\n",
    "\n",
    "# Can this function call tfidf?\n",
    "def script_transformer(df):\n",
    "    # Vectorizing the input\n",
    "    # Transforming the input script\n",
    "    in_transformed = tfidf.transform(df['script'])\n",
    "    # Turning it into a dataframe\n",
    "    X_vecs = pd.DataFrame(columns=tfidf.get_feature_names(), data=in_transformed.toarray())\n",
    "\n",
    "    return X_vecs\n",
    "\n",
    "\n",
    "def merger(script, genre_info):\n",
    "    #Creating the features\n",
    "    df_s = script_input(script)\n",
    "    df_sg = genre_convert(genre_info, df_s)\n",
    "    df_sgp = pos_counter(df_sg)\n",
    "    #Transforming the script\n",
    "    in_transformed = tfidf.transform(df_sgp['script'])\n",
    "    # Turning it into a dataframe\n",
    "    df_vecs = pd.DataFrame(columns=tfidf.get_feature_names(), data=in_transformed.toarray())\n",
    "    # Merging all of the features\n",
    "    X_merged = pd.concat([df_sgp.drop('script', axis=1).reset_index(drop=True), df_vecs], axis=1)\n",
    "\n",
    "    return X_merged\n",
    "\n",
    "# Functions required for vectorizing\n",
    "def my_preprocessor(string):\n",
    "    # removes all digits\n",
    "    no_d = ''.join([i for i in string if not i.isdigit()])\n",
    "    # returns all lowercase\n",
    "    return no_d.lower()\n",
    "\n",
    "def my_tokenizer(string):\n",
    "    # Initializing the spacy class\n",
    "    nlp = spacy.load(\"en_core_web_sm\")\n",
    "    doc = nlp(string)\n",
    "    # List to append accepted tokens to\n",
    "    tokens = []\n",
    "    # Condition for a good token\n",
    "    for token in doc:\n",
    "        if (token.is_stop == False) & \\\n",
    "           (token.is_punct == False) & \\\n",
    "           (token.is_space == False) & \\\n",
    "           ('\\n' not in str(token)):\n",
    "            \n",
    "            tokens.append(token.lemma_)\n",
    "\n",
    "    return tokens"
   ]
  },
  {
   "cell_type": "code",
   "execution_count": 29,
   "metadata": {},
   "outputs": [],
   "source": [
    "tfidf = joblib.load('../models/full_tfidf.pkl')"
   ]
  },
  {
   "cell_type": "code",
   "execution_count": 26,
   "metadata": {},
   "outputs": [
    {
     "data": {
      "text/html": [
       "<div>\n",
       "<style scoped>\n",
       "    .dataframe tbody tr th:only-of-type {\n",
       "        vertical-align: middle;\n",
       "    }\n",
       "\n",
       "    .dataframe tbody tr th {\n",
       "        vertical-align: top;\n",
       "    }\n",
       "\n",
       "    .dataframe thead th {\n",
       "        text-align: right;\n",
       "    }\n",
       "</style>\n",
       "<table border=\"1\" class=\"dataframe\">\n",
       "  <thead>\n",
       "    <tr style=\"text-align: right;\">\n",
       "      <th></th>\n",
       "      <th>script</th>\n",
       "      <th>Action</th>\n",
       "      <th>Comedy</th>\n",
       "      <th>Num_NOUN</th>\n",
       "      <th>Num_PRON</th>\n",
       "      <th>Num_PROPN</th>\n",
       "      <th>Num_ADJ</th>\n",
       "      <th>Num_VERB</th>\n",
       "      <th>Num_ADV</th>\n",
       "    </tr>\n",
       "  </thead>\n",
       "  <tbody>\n",
       "    <tr>\n",
       "      <td>0</td>\n",
       "      <td>this is my script</td>\n",
       "      <td>1</td>\n",
       "      <td>0</td>\n",
       "      <td>1</td>\n",
       "      <td>0</td>\n",
       "      <td>0</td>\n",
       "      <td>0</td>\n",
       "      <td>0</td>\n",
       "      <td>0</td>\n",
       "    </tr>\n",
       "  </tbody>\n",
       "</table>\n",
       "</div>"
      ],
      "text/plain": [
       "              script  Action  Comedy  Num_NOUN  Num_PRON  Num_PROPN  Num_ADJ  \\\n",
       "0  this is my script       1       0         1         0          0        0   \n",
       "\n",
       "   Num_VERB  Num_ADV  \n",
       "0         0        0  "
      ]
     },
     "execution_count": 26,
     "metadata": {},
     "output_type": "execute_result"
    }
   ],
   "source": [
    "testdf = feature_df(\"this is my script\", [['Action', True],['Comedy', False]])\n",
    "testdf"
   ]
  },
  {
   "cell_type": "code",
   "execution_count": 33,
   "metadata": {},
   "outputs": [
    {
     "data": {
      "text/html": [
       "<div>\n",
       "<style scoped>\n",
       "    .dataframe tbody tr th:only-of-type {\n",
       "        vertical-align: middle;\n",
       "    }\n",
       "\n",
       "    .dataframe tbody tr th {\n",
       "        vertical-align: top;\n",
       "    }\n",
       "\n",
       "    .dataframe thead th {\n",
       "        text-align: right;\n",
       "    }\n",
       "</style>\n",
       "<table border=\"1\" class=\"dataframe\">\n",
       "  <thead>\n",
       "    <tr style=\"text-align: right;\">\n",
       "      <th></th>\n",
       "      <th>$</th>\n",
       "      <th>-PRON-</th>\n",
       "      <th>-year</th>\n",
       "      <th>-year old</th>\n",
       "      <th>`</th>\n",
       "      <th>` -PRON-</th>\n",
       "      <th>a-</th>\n",
       "      <th>a.</th>\n",
       "      <th>a.m.</th>\n",
       "      <th>aback</th>\n",
       "      <th>...</th>\n",
       "      <th>young man</th>\n",
       "      <th>young woman</th>\n",
       "      <th>youth</th>\n",
       "      <th>yup</th>\n",
       "      <th>zero</th>\n",
       "      <th>zip</th>\n",
       "      <th>zipper</th>\n",
       "      <th>zone</th>\n",
       "      <th>zoo</th>\n",
       "      <th>zoom</th>\n",
       "    </tr>\n",
       "  </thead>\n",
       "  <tbody>\n",
       "    <tr>\n",
       "      <td>0</td>\n",
       "      <td>0.0</td>\n",
       "      <td>0.0</td>\n",
       "      <td>0.0</td>\n",
       "      <td>0.0</td>\n",
       "      <td>0.0</td>\n",
       "      <td>0.0</td>\n",
       "      <td>0.0</td>\n",
       "      <td>0.0</td>\n",
       "      <td>0.0</td>\n",
       "      <td>0.0</td>\n",
       "      <td>...</td>\n",
       "      <td>0.0</td>\n",
       "      <td>0.0</td>\n",
       "      <td>0.0</td>\n",
       "      <td>0.0</td>\n",
       "      <td>0.0</td>\n",
       "      <td>0.0</td>\n",
       "      <td>0.0</td>\n",
       "      <td>0.0</td>\n",
       "      <td>0.0</td>\n",
       "      <td>0.0</td>\n",
       "    </tr>\n",
       "  </tbody>\n",
       "</table>\n",
       "<p>1 rows × 7952 columns</p>\n",
       "</div>"
      ],
      "text/plain": [
       "     $  -PRON-  -year  -year old    `  ` -PRON-   a-   a.  a.m.  aback  ...  \\\n",
       "0  0.0     0.0    0.0        0.0  0.0       0.0  0.0  0.0   0.0    0.0  ...   \n",
       "\n",
       "   young man  young woman  youth  yup  zero  zip  zipper  zone  zoo  zoom  \n",
       "0        0.0          0.0    0.0  0.0   0.0  0.0     0.0   0.0  0.0   0.0  \n",
       "\n",
       "[1 rows x 7952 columns]"
      ]
     },
     "execution_count": 33,
     "metadata": {},
     "output_type": "execute_result"
    }
   ],
   "source": [
    "testt = script_transformer(testdf)\n",
    "testt"
   ]
  },
  {
   "cell_type": "code",
   "execution_count": 40,
   "metadata": {},
   "outputs": [
    {
     "data": {
      "text/html": [
       "<div>\n",
       "<style scoped>\n",
       "    .dataframe tbody tr th:only-of-type {\n",
       "        vertical-align: middle;\n",
       "    }\n",
       "\n",
       "    .dataframe tbody tr th {\n",
       "        vertical-align: top;\n",
       "    }\n",
       "\n",
       "    .dataframe thead th {\n",
       "        text-align: right;\n",
       "    }\n",
       "</style>\n",
       "<table border=\"1\" class=\"dataframe\">\n",
       "  <thead>\n",
       "    <tr style=\"text-align: right;\">\n",
       "      <th></th>\n",
       "      <th>Action</th>\n",
       "      <th>Comedy</th>\n",
       "      <th>Num_NOUN</th>\n",
       "      <th>Num_PRON</th>\n",
       "      <th>Num_PROPN</th>\n",
       "      <th>Num_ADJ</th>\n",
       "      <th>Num_VERB</th>\n",
       "      <th>Num_ADV</th>\n",
       "      <th>$</th>\n",
       "      <th>-PRON-</th>\n",
       "      <th>...</th>\n",
       "      <th>young man</th>\n",
       "      <th>young woman</th>\n",
       "      <th>youth</th>\n",
       "      <th>yup</th>\n",
       "      <th>zero</th>\n",
       "      <th>zip</th>\n",
       "      <th>zipper</th>\n",
       "      <th>zone</th>\n",
       "      <th>zoo</th>\n",
       "      <th>zoom</th>\n",
       "    </tr>\n",
       "  </thead>\n",
       "  <tbody>\n",
       "    <tr>\n",
       "      <td>0</td>\n",
       "      <td>1</td>\n",
       "      <td>0</td>\n",
       "      <td>1</td>\n",
       "      <td>0</td>\n",
       "      <td>0</td>\n",
       "      <td>0</td>\n",
       "      <td>0</td>\n",
       "      <td>0</td>\n",
       "      <td>0.0</td>\n",
       "      <td>0.0</td>\n",
       "      <td>...</td>\n",
       "      <td>0.0</td>\n",
       "      <td>0.0</td>\n",
       "      <td>0.0</td>\n",
       "      <td>0.0</td>\n",
       "      <td>0.0</td>\n",
       "      <td>0.0</td>\n",
       "      <td>0.0</td>\n",
       "      <td>0.0</td>\n",
       "      <td>0.0</td>\n",
       "      <td>0.0</td>\n",
       "    </tr>\n",
       "  </tbody>\n",
       "</table>\n",
       "<p>1 rows × 7960 columns</p>\n",
       "</div>"
      ],
      "text/plain": [
       "   Action  Comedy  Num_NOUN  Num_PRON  Num_PROPN  Num_ADJ  Num_VERB  Num_ADV  \\\n",
       "0       1       0         1         0          0        0         0        0   \n",
       "\n",
       "     $  -PRON-  ...  young man  young woman  youth  yup  zero  zip  zipper  \\\n",
       "0  0.0     0.0  ...        0.0          0.0    0.0  0.0   0.0  0.0     0.0   \n",
       "\n",
       "   zone  zoo  zoom  \n",
       "0   0.0  0.0   0.0  \n",
       "\n",
       "[1 rows x 7960 columns]"
      ]
     },
     "execution_count": 40,
     "metadata": {},
     "output_type": "execute_result"
    }
   ],
   "source": [
    "testm = merger(\"this is my script\", [['Action', True],['Comedy', False]])\n",
    "testm"
   ]
  },
  {
   "cell_type": "markdown",
   "metadata": {},
   "source": [
    "### Reading in the data"
   ]
  },
  {
   "cell_type": "code",
   "execution_count": 39,
   "metadata": {},
   "outputs": [],
   "source": [
    "X = pd.read_csv('../../data/X_plus.csv')\n",
    "y = pd.read_csv('../../data/y.csv')"
   ]
  },
  {
   "cell_type": "code",
   "execution_count": 40,
   "metadata": {},
   "outputs": [],
   "source": [
    "y_imdb = y.loc[:, 'IMDb_score'].to_frame()\n",
    "y_rt = y.loc[:, 'RT_score'].to_frame()\n",
    "y_profit = y.loc[:, 'Per_Profit'].to_frame()"
   ]
  },
  {
   "cell_type": "markdown",
   "metadata": {},
   "source": [
    "### Vectorizing the full dataset"
   ]
  },
  {
   "cell_type": "code",
   "execution_count": 14,
   "metadata": {},
   "outputs": [],
   "source": [
    "def my_preprocessor(string):\n",
    "    no_d = ''.join([i for i in string if not i.isdigit()])\n",
    "    return no_d.lower()"
   ]
  },
  {
   "cell_type": "code",
   "execution_count": 15,
   "metadata": {},
   "outputs": [],
   "source": [
    "def my_tokenizer(string):\n",
    "    # Initializing the spacy class\n",
    "    nlp = spacy.load(\"en_core_web_sm\")\n",
    "    doc = nlp(string)\n",
    "    # List to append accepted tokens to\n",
    "    tokens = []\n",
    "    # Condition for a good token\n",
    "    for token in doc:\n",
    "\n",
    "        if (token.is_stop == False) & \\\n",
    "           (token.is_punct == False) & \\\n",
    "           (token.is_space == False) & \\\n",
    "           ('\\n' not in str(token)):\n",
    "            \n",
    "            tokens.append(token.lemma_)\n",
    "\n",
    "    return tokens"
   ]
  },
  {
   "cell_type": "markdown",
   "metadata": {},
   "source": [
    "This will take a long time"
   ]
  },
  {
   "cell_type": "code",
   "execution_count": 16,
   "metadata": {},
   "outputs": [
    {
     "data": {
      "text/plain": [
       "['../models/full_tfidf.pkl']"
      ]
     },
     "execution_count": 16,
     "metadata": {},
     "output_type": "execute_result"
    }
   ],
   "source": [
    "# Fitting the vectorizer\n",
    "tfidf = TfidfVectorizer(min_df=0.1, \n",
    "                        max_df=0.9, \n",
    "                        preprocessor=my_preprocessor, \n",
    "                        tokenizer=my_tokenizer, \n",
    "                        ngram_range=(1,3)).fit(X['scripts'])\n",
    "\n",
    "# Exporting the fit vectorizer\n",
    "joblib.dump(tfidf, '../models/full_tfidf.pkl')"
   ]
  },
  {
   "cell_type": "markdown",
   "metadata": {},
   "source": [
    "#### Merging the transformed dataset with the other features"
   ]
  },
  {
   "cell_type": "code",
   "execution_count": 17,
   "metadata": {},
   "outputs": [],
   "source": [
    "# Transforming all of the scripts (will take awhile)\n",
    "X_transformed = tfidf.transform(X['scripts'])\n",
    "# Turning it into a dataframe\n",
    "X_vecs = pd.DataFrame(columns=tfidf.get_feature_names(), data=X_transformed.toarray())\n",
    "# Merging all of the features\n",
    "X_merged = pd.concat([X.drop('scripts', axis=1).reset_index(drop=True), X_vecs], axis=1)"
   ]
  },
  {
   "cell_type": "code",
   "execution_count": 22,
   "metadata": {},
   "outputs": [
    {
     "name": "stdout",
     "output_type": "stream",
     "text": [
      "(922, 7952)\n",
      "(922, 29)\n"
     ]
    }
   ],
   "source": [
    "print(X_vecs.shape)\n",
    "print(X.shape)"
   ]
  },
  {
   "cell_type": "code",
   "execution_count": 23,
   "metadata": {},
   "outputs": [
    {
     "data": {
      "text/plain": [
       "(922, 7980)"
      ]
     },
     "execution_count": 23,
     "metadata": {},
     "output_type": "execute_result"
    }
   ],
   "source": [
    "X_merged.shape"
   ]
  },
  {
   "cell_type": "code",
   "execution_count": 24,
   "metadata": {},
   "outputs": [
    {
     "data": {
      "text/plain": [
       "(922,)"
      ]
     },
     "execution_count": 24,
     "metadata": {},
     "output_type": "execute_result"
    }
   ],
   "source": [
    "y_imdb.shape"
   ]
  },
  {
   "cell_type": "markdown",
   "metadata": {},
   "source": [
    "### Modeling the full dataset"
   ]
  },
  {
   "cell_type": "code",
   "execution_count": 18,
   "metadata": {},
   "outputs": [
    {
     "name": "stdout",
     "output_type": "stream",
     "text": [
      "LogisticRegression(C=0.1, class_weight=None, dual=False, fit_intercept=True,\n",
      "                   intercept_scaling=1, l1_ratio=None, max_iter=100,\n",
      "                   multi_class='warn', n_jobs=None, penalty='l2',\n",
      "                   random_state=None, solver='warn', tol=0.0001, verbose=0,\n",
      "                   warm_start=False)\n",
      "LogisticRegression(C=1.0, class_weight=None, dual=False, fit_intercept=True,\n",
      "                   intercept_scaling=1, l1_ratio=None, max_iter=100,\n",
      "                   multi_class='warn', n_jobs=None, penalty='l1',\n",
      "                   random_state=None, solver='warn', tol=0.0001, verbose=0,\n",
      "                   warm_start=False)\n",
      "LogisticRegression(C=0.1, class_weight=None, dual=False, fit_intercept=True,\n",
      "                   intercept_scaling=1, l1_ratio=None, max_iter=100,\n",
      "                   multi_class='warn', n_jobs=None, penalty='l1',\n",
      "                   random_state=None, solver='warn', tol=0.0001, verbose=0,\n",
      "                   warm_start=False)\n",
      "XGBClassifier(base_score=0.5, booster=None, colsample_bylevel=1,\n",
      "              colsample_bynode=1, colsample_bytree=1, gamma=0, gpu_id=-1,\n",
      "              importance_type='gain', interaction_constraints=None,\n",
      "              learning_rate=0.01, max_delta_step=0, max_depth=7,\n",
      "              min_child_weight=1, missing=nan, monotone_constraints=None,\n",
      "              n_estimator=200, n_estimators=100, n_jobs=0, num_parallel_tree=1,\n",
      "              objective='binary:logistic', random_state=0, reg_alpha=0,\n",
      "              reg_lambda=1, scale_pos_weight=1, subsample=1, tree_method=None,\n",
      "              validate_parameters=False, verbosity=None)\n",
      "XGBClassifier(base_score=0.5, booster=None, colsample_bylevel=1,\n",
      "              colsample_bynode=1, colsample_bytree=1, gamma=0, gpu_id=-1,\n",
      "              importance_type='gain', interaction_constraints=None,\n",
      "              learning_rate=0.1, max_delta_step=0, max_depth=4,\n",
      "              min_child_weight=1, missing=nan, monotone_constraints=None,\n",
      "              n_estimator=80, n_estimators=100, n_jobs=0, num_parallel_tree=1,\n",
      "              objective='binary:logistic', random_state=0, reg_alpha=0,\n",
      "              reg_lambda=1, scale_pos_weight=1, subsample=1, tree_method=None,\n",
      "              validate_parameters=False, verbosity=None)\n",
      "XGBClassifier(base_score=0.5, booster=None, colsample_bylevel=1,\n",
      "              colsample_bynode=1, colsample_bytree=1, gamma=0, gpu_id=-1,\n",
      "              importance_type='gain', interaction_constraints=None,\n",
      "              learning_rate=0.1, max_delta_step=0, max_depth=5,\n",
      "              min_child_weight=1, missing=nan, monotone_constraints=None,\n",
      "              n_estimator=80, n_estimators=100, n_jobs=0, num_parallel_tree=1,\n",
      "              objective='binary:logistic', random_state=0, reg_alpha=0,\n",
      "              reg_lambda=1, scale_pos_weight=1, subsample=1, tree_method=None,\n",
      "              validate_parameters=False, verbosity=None)\n"
     ]
    }
   ],
   "source": [
    "# Inspecting all of the optimized models for hyper parameter selection\n",
    "print(joblib.load('../models/IMDb_logreg.pkl'))\n",
    "print(joblib.load('../models/Rotten_logreg.pkl'))\n",
    "print(joblib.load('../models/Profit_logreg.pkl'))\n",
    "print(joblib.load('../models/IMDb_xgbc.pkl'))\n",
    "print(joblib.load('../models/Rotten_xgbc.pkl'))\n",
    "print(joblib.load('../models/Profit_xgbc.pkl'))"
   ]
  },
  {
   "cell_type": "markdown",
   "metadata": {},
   "source": [
    "### IMDb Score Models"
   ]
  },
  {
   "cell_type": "code",
   "execution_count": 43,
   "metadata": {},
   "outputs": [
    {
     "name": "stderr",
     "output_type": "stream",
     "text": [
      "C:\\Users\\louis\\Anaconda3\\lib\\site-packages\\sklearn\\linear_model\\logistic.py:432: FutureWarning: Default solver will be changed to 'lbfgs' in 0.22. Specify a solver to silence this warning.\n",
      "  FutureWarning)\n",
      "C:\\Users\\louis\\Anaconda3\\lib\\site-packages\\sklearn\\utils\\validation.py:724: DataConversionWarning: A column-vector y was passed when a 1d array was expected. Please change the shape of y to (n_samples, ), for example using ravel().\n",
      "  y = column_or_1d(y, warn=True)\n"
     ]
    },
    {
     "data": {
      "text/plain": [
       "['../models/imdb_logreg_full.pkl']"
      ]
     },
     "execution_count": 43,
     "metadata": {},
     "output_type": "execute_result"
    }
   ],
   "source": [
    "logreg_imdb = LogisticRegression(C=0.1, \n",
    "                                 penalty='l2').fit(X_merged, y_imdb)\n",
    "joblib.dump(logreg_imdb, '../models/imdb_logreg_full.pkl')"
   ]
  },
  {
   "cell_type": "code",
   "execution_count": 44,
   "metadata": {},
   "outputs": [
    {
     "data": {
      "image/png": "[encoded data removed]",
      "text/plain": [
       "<Figure size 864x504 with 1 Axes>"
      ]
     },
     "metadata": {
      "needs_background": "light"
     },
     "output_type": "display_data"
    }
   ],
   "source": [
    "lr_coefs = pd.DataFrame({'Coef':X_merged.columns,\n",
    "                         'Value':logreg_imdb.coef_[0]})\n",
    "lr_t10 = lr_coefs.sort_values(by='Value', ascending=False).head(10)\n",
    "\n",
    "plt.figure(figsize=(12,7))\n",
    "plt.barh(lr_t10['Coef'], abs(lr_t10['Value']))\n",
    "plt.title(\"Features with the Highest Coefficient \\n Logistic Regression\")\n",
    "plt.xlabel(\"Coefficient Value\")\n",
    "plt.savefig(f\"../plots/imdb_logreg_full.png\");"
   ]
  },
  {
   "cell_type": "code",
   "execution_count": 46,
   "metadata": {},
   "outputs": [
    {
     "name": "stderr",
     "output_type": "stream",
     "text": [
      "C:\\Users\\louis\\Anaconda3\\lib\\site-packages\\sklearn\\preprocessing\\label.py:219: DataConversionWarning: A column-vector y was passed when a 1d array was expected. Please change the shape of y to (n_samples, ), for example using ravel().\n",
      "  y = column_or_1d(y, warn=True)\n",
      "C:\\Users\\louis\\Anaconda3\\lib\\site-packages\\sklearn\\preprocessing\\label.py:252: DataConversionWarning: A column-vector y was passed when a 1d array was expected. Please change the shape of y to (n_samples, ), for example using ravel().\n",
      "  y = column_or_1d(y, warn=True)\n"
     ]
    },
    {
     "data": {
      "text/plain": [
       "['../models/imdb_xgbc_full.pkl']"
      ]
     },
     "execution_count": 46,
     "metadata": {},
     "output_type": "execute_result"
    }
   ],
   "source": [
    "xgbc_imdb = XGBClassifier(max_depth=7, \n",
    "                          learning_rate=0.01, \n",
    "                          n_estimator=200).fit(X_merged, y_imdb)\n",
    "joblib.dump(xgbc_imdb, '../models/imdb_xgbc_full.pkl')"
   ]
  },
  {
   "cell_type": "code",
   "execution_count": 48,
   "metadata": {},
   "outputs": [
    {
     "data": {
      "image/png": "[encoded data removed]",
      "text/plain": [
       "<Figure size 864x504 with 1 Axes>"
      ]
     },
     "metadata": {
      "needs_background": "light"
     },
     "output_type": "display_data"
    }
   ],
   "source": [
    "xg_coefs = pd.DataFrame({'Coef':X_merged.columns,\n",
    "                         'Value':xgbc_imdb.feature_importances_})\n",
    "xg_t10 = xg_coefs.sort_values(by='Value', ascending=False).head(10)\n",
    "\n",
    "plt.figure(figsize=(12,7))\n",
    "plt.barh(xg_t10['Coef'], abs(xg_t10['Value']))\n",
    "plt.title(\"Features with the Highest Gain \\n XG Boost\")\n",
    "plt.xlabel(\"Gain\")\n",
    "plt.savefig(f\"../plots/imdb_xgbc_full.png\");"
   ]
  },
  {
   "cell_type": "markdown",
   "metadata": {},
   "source": [
    "### RT Score Models"
   ]
  },
  {
   "cell_type": "code",
   "execution_count": 49,
   "metadata": {},
   "outputs": [
    {
     "name": "stderr",
     "output_type": "stream",
     "text": [
      "C:\\Users\\louis\\Anaconda3\\lib\\site-packages\\sklearn\\linear_model\\logistic.py:432: FutureWarning: Default solver will be changed to 'lbfgs' in 0.22. Specify a solver to silence this warning.\n",
      "  FutureWarning)\n",
      "C:\\Users\\louis\\Anaconda3\\lib\\site-packages\\sklearn\\utils\\validation.py:724: DataConversionWarning: A column-vector y was passed when a 1d array was expected. Please change the shape of y to (n_samples, ), for example using ravel().\n",
      "  y = column_or_1d(y, warn=True)\n"
     ]
    },
    {
     "data": {
      "text/plain": [
       "['../models/rt_logreg_full.pkl']"
      ]
     },
     "execution_count": 49,
     "metadata": {},
     "output_type": "execute_result"
    }
   ],
   "source": [
    "logreg_rt = LogisticRegression(C=1.0, \n",
    "                               penalty='l1').fit(X_merged, y_rt)\n",
    "joblib.dump(logreg_rt, '../models/rt_logreg_full.pkl')"
   ]
  },
  {
   "cell_type": "code",
   "execution_count": 50,
   "metadata": {},
   "outputs": [
    {
     "data": {
      "image/png": "[encoded data removed]",
      "text/plain": [
       "<Figure size 864x504 with 1 Axes>"
      ]
     },
     "metadata": {
      "needs_background": "light"
     },
     "output_type": "display_data"
    }
   ],
   "source": [
    "lr_coefs = pd.DataFrame({'Coef':X_merged.columns,\n",
    "                         'Value':logreg_rt.coef_[0]})\n",
    "lr_t10 = lr_coefs.sort_values(by='Value', ascending=False).head(10)\n",
    "\n",
    "plt.figure(figsize=(12,7))\n",
    "plt.barh(lr_t10['Coef'], abs(lr_t10['Value']))\n",
    "plt.title(\"Features with the Highest Coefficient \\n Logistic Regression\")\n",
    "plt.xlabel(\"Coefficient Value\")\n",
    "plt.savefig(f\"../plots/rt_logreg_full.png\");"
   ]
  },
  {
   "cell_type": "code",
   "execution_count": 51,
   "metadata": {},
   "outputs": [
    {
     "name": "stderr",
     "output_type": "stream",
     "text": [
      "C:\\Users\\louis\\Anaconda3\\lib\\site-packages\\sklearn\\preprocessing\\label.py:219: DataConversionWarning: A column-vector y was passed when a 1d array was expected. Please change the shape of y to (n_samples, ), for example using ravel().\n",
      "  y = column_or_1d(y, warn=True)\n",
      "C:\\Users\\louis\\Anaconda3\\lib\\site-packages\\sklearn\\preprocessing\\label.py:252: DataConversionWarning: A column-vector y was passed when a 1d array was expected. Please change the shape of y to (n_samples, ), for example using ravel().\n",
      "  y = column_or_1d(y, warn=True)\n"
     ]
    },
    {
     "data": {
      "text/plain": [
       "['../models/rt_xgbc_full.pkl']"
      ]
     },
     "execution_count": 51,
     "metadata": {},
     "output_type": "execute_result"
    }
   ],
   "source": [
    "xgbc_rt = XGBClassifier(learning_rate=0.1, \n",
    "                        max_depth=4, \n",
    "                        n_estimators=100).fit(X_merged, y_rt)\n",
    "joblib.dump(xgbc_rt, '../models/rt_xgbc_full.pkl')"
   ]
  },
  {
   "cell_type": "code",
   "execution_count": 52,
   "metadata": {},
   "outputs": [
    {
     "data": {
      "image/png": "[encoded data removed]",
      "text/plain": [
       "<Figure size 864x504 with 1 Axes>"
      ]
     },
     "metadata": {
      "needs_background": "light"
     },
     "output_type": "display_data"
    }
   ],
   "source": [
    "xg_coefs = pd.DataFrame({'Coef':X_merged.columns,\n",
    "                         'Value':xgbc_rt.feature_importances_})\n",
    "xg_t10 = xg_coefs.sort_values(by='Value', ascending=False).head(10)\n",
    "\n",
    "plt.figure(figsize=(12,7))\n",
    "plt.barh(xg_t10['Coef'], abs(xg_t10['Value']))\n",
    "plt.title(\"Features with the Highest Gain \\n XG Boost\")\n",
    "plt.xlabel(\"Gain\")\n",
    "plt.savefig(f\"../plots/rt_xgbc_full.png\");"
   ]
  },
  {
   "cell_type": "markdown",
   "metadata": {},
   "source": [
    "### Profit Models"
   ]
  },
  {
   "cell_type": "code",
   "execution_count": 53,
   "metadata": {},
   "outputs": [
    {
     "name": "stderr",
     "output_type": "stream",
     "text": [
      "C:\\Users\\louis\\Anaconda3\\lib\\site-packages\\sklearn\\linear_model\\logistic.py:432: FutureWarning: Default solver will be changed to 'lbfgs' in 0.22. Specify a solver to silence this warning.\n",
      "  FutureWarning)\n",
      "C:\\Users\\louis\\Anaconda3\\lib\\site-packages\\sklearn\\utils\\validation.py:724: DataConversionWarning: A column-vector y was passed when a 1d array was expected. Please change the shape of y to (n_samples, ), for example using ravel().\n",
      "  y = column_or_1d(y, warn=True)\n"
     ]
    },
    {
     "data": {
      "text/plain": [
       "['../models/profit_logreg_full.pkl']"
      ]
     },
     "execution_count": 53,
     "metadata": {},
     "output_type": "execute_result"
    }
   ],
   "source": [
    "logreg_profit = LogisticRegression(C=0.1, \n",
    "                                   penalty='l1').fit(X_merged, y_profit)\n",
    "joblib.dump(logreg_profit, '../models/profit_logreg_full.pkl')"
   ]
  },
  {
   "cell_type": "code",
   "execution_count": 54,
   "metadata": {},
   "outputs": [
    {
     "data": {
      "image/png": "[encoded data removed]",
      "text/plain": [
       "<Figure size 864x504 with 1 Axes>"
      ]
     },
     "metadata": {
      "needs_background": "light"
     },
     "output_type": "display_data"
    }
   ],
   "source": [
    "lr_coefs = pd.DataFrame({'Coef':X_merged.columns,\n",
    "                         'Value':logreg_profit.coef_[0]})\n",
    "lr_t10 = lr_coefs.sort_values(by='Value', ascending=False).head(10)\n",
    "\n",
    "plt.figure(figsize=(12,7))\n",
    "plt.barh(lr_t10['Coef'], abs(lr_t10['Value']))\n",
    "plt.title(\"Features with the Highest Coefficient \\n Logistic Regression\")\n",
    "plt.xlabel(\"Coefficient Value\")\n",
    "plt.savefig(f\"../plots/profit_logreg_full.png\");"
   ]
  },
  {
   "cell_type": "code",
   "execution_count": 55,
   "metadata": {},
   "outputs": [
    {
     "name": "stderr",
     "output_type": "stream",
     "text": [
      "C:\\Users\\louis\\Anaconda3\\lib\\site-packages\\sklearn\\preprocessing\\label.py:219: DataConversionWarning: A column-vector y was passed when a 1d array was expected. Please change the shape of y to (n_samples, ), for example using ravel().\n",
      "  y = column_or_1d(y, warn=True)\n",
      "C:\\Users\\louis\\Anaconda3\\lib\\site-packages\\sklearn\\preprocessing\\label.py:252: DataConversionWarning: A column-vector y was passed when a 1d array was expected. Please change the shape of y to (n_samples, ), for example using ravel().\n",
      "  y = column_or_1d(y, warn=True)\n"
     ]
    },
    {
     "data": {
      "text/plain": [
       "['../models/profit_xgbc_full.pkl']"
      ]
     },
     "execution_count": 55,
     "metadata": {},
     "output_type": "execute_result"
    }
   ],
   "source": [
    "xgbc_profit = XGBClassifier(learning_rate=0.1, \n",
    "                            max_depth=5, \n",
    "                            n_estimators=80).fit(X_merged, y_profit)\n",
    "joblib.dump(xgbc_profit, '../models/profit_xgbc_full.pkl')"
   ]
  },
  {
   "cell_type": "code",
   "execution_count": 56,
   "metadata": {},
   "outputs": [
    {
     "data": {
      "image/png": "[encoded data removed]",
      "text/plain": [
       "<Figure size 864x504 with 1 Axes>"
      ]
     },
     "metadata": {
      "needs_background": "light"
     },
     "output_type": "display_data"
    }
   ],
   "source": [
    "xg_coefs = pd.DataFrame({'Coef':X_merged.columns,\n",
    "                         'Value':xgbc_profit.feature_importances_})\n",
    "xg_t10 = xg_coefs.sort_values(by='Value', ascending=False).head(10)\n",
    "\n",
    "plt.figure(figsize=(12,7))\n",
    "plt.barh(xg_t10['Coef'], abs(xg_t10['Value']))\n",
    "plt.title(\"Features with the Highest Gain \\n XG Boost\")\n",
    "plt.xlabel(\"Gain\")\n",
    "plt.savefig(f\"../plots/profit_xgbc_full.png\");"
   ]
  },
  {
   "cell_type": "code",
   "execution_count": null,
   "metadata": {},
   "outputs": [],
   "source": []
  }
 ],
 "metadata": {
  "kernelspec": {
   "display_name": "Python 3",
   "language": "python",
   "name": "python3"
  },
  "language_info": {
   "codemirror_mode": {
    "name": "ipython",
    "version": 3
   },
   "file_extension": ".py",
   "mimetype": "text/x-python",
   "name": "python",
   "nbconvert_exporter": "python",
   "pygments_lexer": "ipython3",
   "version": "3.7.4"
  }
 },
 "nbformat": 4,
 "nbformat_minor": 4
}
