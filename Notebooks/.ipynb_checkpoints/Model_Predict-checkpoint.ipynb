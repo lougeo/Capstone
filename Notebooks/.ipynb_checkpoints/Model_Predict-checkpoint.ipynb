{
 "cells": [
  {
   "cell_type": "markdown",
   "metadata": {},
   "source": [
    "# Louis George\n",
    "## Making the final models"
   ]
  },
  {
   "cell_type": "code",
   "execution_count": null,
   "metadata": {},
   "outputs": [],
   "source": [
    "import numpy as np\n",
    "import pandas as pd\n",
    "\n",
    "import os\n",
    "import spacy\n",
    "import joblib\n",
    "\n",
    "from sklearn.preprocessing import StandardScaler\n",
    "from sklearn.feature_extraction.text import TfidfVectorizer\n",
    "from sklearn.linear_model import LogisticRegression\n",
    "\n",
    "from xgboost import XGBClassifier\n",
    "\n",
    "import plotly.graph_objects as go\n",
    "from plotly.subplots import make_subplots\n",
    "import chart_studio\n",
    "import chart_studio.plotly as py\n",
    "chart_studio.tools.set_credentials_file(username='lougeo', api_key=os.environ.get(\"PLOTLY_API\"))\n",
    "import matplotlib.pyplot as plt\n",
    "%matplotlib inline\n",
    "\n",
    "import warnings\n",
    "warnings.filterwarnings('ignore')"
   ]
  },
  {
   "cell_type": "markdown",
   "metadata": {},
   "source": [
    "### Reading in the data"
   ]
  },
  {
   "cell_type": "code",
   "execution_count": null,
   "metadata": {},
   "outputs": [],
   "source": [
    "X = pd.read_csv('../../data/X_plus.csv')\n",
    "y = pd.read_csv('../../data/y.csv')"
   ]
  },
  {
   "cell_type": "code",
   "execution_count": null,
   "metadata": {},
   "outputs": [],
   "source": [
    "y_imdb = y.loc[:, 'IMDb_score'].to_frame()\n",
    "y_rt = y.loc[:, 'RT_score'].to_frame()\n",
    "y_profit = y.loc[:, 'Per_Profit'].to_frame()"
   ]
  },
  {
   "cell_type": "code",
   "execution_count": null,
   "metadata": {},
   "outputs": [],
   "source": [
    "y = pd.read_csv(\"../../data/y_wt.csv\")"
   ]
  },
  {
   "cell_type": "markdown",
   "metadata": {},
   "source": [
    "### Vectorizing the full dataset"
   ]
  },
  {
   "cell_type": "code",
   "execution_count": null,
   "metadata": {},
   "outputs": [],
   "source": [
    "def my_preprocessor(string):\n",
    "    no_d = ''.join([i for i in string if not i.isdigit()])\n",
    "    return no_d.lower()"
   ]
  },
  {
   "cell_type": "code",
   "execution_count": null,
   "metadata": {},
   "outputs": [],
   "source": [
    "def my_tokenizer(string):\n",
    "    # Initializing the spacy class\n",
    "    nlp = spacy.load(\"en_core_web_sm\")\n",
    "    doc = nlp(string)\n",
    "    # List to append accepted tokens to\n",
    "    tokens = []\n",
    "    # Condition for a good token\n",
    "    for token in doc:\n",
    "\n",
    "        if (token.is_stop == False) & \\\n",
    "           (token.is_punct == False) & \\\n",
    "           (token.is_space == False) & \\\n",
    "           ('\\n' not in str(token)):\n",
    "            \n",
    "            tokens.append(token.lemma_)\n",
    "\n",
    "    return tokens"
   ]
  },
  {
   "cell_type": "markdown",
   "metadata": {},
   "source": [
    "This will take a long time"
   ]
  },
  {
   "cell_type": "code",
   "execution_count": null,
   "metadata": {},
   "outputs": [],
   "source": [
    "# Fitting the vectorizer\n",
    "tfidf = TfidfVectorizer(min_df=0.2, \n",
    "                        max_df=0.9, \n",
    "                        preprocessor=my_preprocessor, \n",
    "                        tokenizer=my_tokenizer, \n",
    "                        ngram_range=(1,3), \n",
    "                        stop_words=None).fit(X['scripts'])\n",
    "\n",
    "# Exporting the fit vectorizer\n",
    "joblib.dump(tfidf, '../models/full_tfidf_ns.pkl')"
   ]
  },
  {
   "cell_type": "code",
   "execution_count": null,
   "metadata": {},
   "outputs": [],
   "source": [
    "tfidf.stop_words_ = None"
   ]
  },
  {
   "cell_type": "code",
   "execution_count": null,
   "metadata": {},
   "outputs": [],
   "source": [
    "tfidf = joblib.load('../models/full_tfidf_ns.pkl')"
   ]
  },
  {
   "cell_type": "markdown",
   "metadata": {},
   "source": [
    "#### Merging the transformed dataset with the other features"
   ]
  },
  {
   "cell_type": "code",
   "execution_count": null,
   "metadata": {},
   "outputs": [],
   "source": [
    "# Transforming all of the scripts (will take awhile)\n",
    "X_transformed = tfidf.transform(X['scripts'])\n",
    "# Turning it into a dataframe\n",
    "X_vecs = pd.DataFrame(columns=tfidf.get_feature_names(), data=X_transformed.toarray())\n",
    "# Merging all of the features\n",
    "X_merged = pd.concat([X.drop('scripts', axis=1).reset_index(drop=True), X_vecs], axis=1)"
   ]
  },
  {
   "cell_type": "code",
   "execution_count": null,
   "metadata": {},
   "outputs": [],
   "source": [
    "X_merged.to_csv('../../X_merged.csv', columns=X_merged.columns, index=False)"
   ]
  },
  {
   "cell_type": "markdown",
   "metadata": {},
   "source": [
    "#### Reloading this csv, and scaling it"
   ]
  },
  {
   "cell_type": "code",
   "execution_count": null,
   "metadata": {},
   "outputs": [],
   "source": [
    "X_merged = pd.read_csv('../../X_merged.csv')"
   ]
  },
  {
   "cell_type": "code",
   "execution_count": null,
   "metadata": {},
   "outputs": [],
   "source": [
    "X_scaled = StandardScaler().fit_transform(X_merged)"
   ]
  },
  {
   "cell_type": "markdown",
   "metadata": {},
   "source": [
    "### Modeling the full dataset"
   ]
  },
  {
   "cell_type": "code",
   "execution_count": null,
   "metadata": {},
   "outputs": [],
   "source": [
    "# Inspecting all of the optimized models for hyper parameter selection\n",
    "print(joblib.load('../models/IMDb_logreg.pkl'))\n",
    "print(joblib.load('../models/Rotten_logreg.pkl'))\n",
    "print(joblib.load('../models/Profit_logreg.pkl'))\n",
    "print(joblib.load('../models/IMDb_xgbc.pkl'))\n",
    "print(joblib.load('../models/Rotten_xgbc.pkl'))\n",
    "print(joblib.load('../models/Profit_xgbc.pkl'))"
   ]
  },
  {
   "cell_type": "markdown",
   "metadata": {},
   "source": [
    "### IMDb Score Models       \n",
    "Some minor touch ups are done in the plotly chart studio editor"
   ]
  },
  {
   "cell_type": "code",
   "execution_count": null,
   "metadata": {},
   "outputs": [],
   "source": [
    "logreg_imdb = LogisticRegression(C=0.1, \n",
    "                                 penalty='l2').fit(X_scaled, y_imdb)\n",
    "#joblib.dump(logreg_imdb, '../models/imdb_logreg_full.pkl')"
   ]
  },
  {
   "cell_type": "code",
   "execution_count": null,
   "metadata": {},
   "outputs": [],
   "source": [
    "xgbc_imdb = XGBClassifier(max_depth=7, \n",
    "                          learning_rate=0.01, \n",
    "                          n_estimator=200).fit(X_scaled, y_imdb)\n",
    "#joblib.dump(xgbc_imdb, '../models/imdb_xgbc_full.pkl')"
   ]
  },
  {
   "cell_type": "code",
   "execution_count": null,
   "metadata": {},
   "outputs": [],
   "source": [
    "lr_coefs = pd.DataFrame({'Coef':X_merged.columns,\n",
    "                         'Value':logreg_imdb.coef_[0]})\n",
    "lr_t50 = lr_coefs.sort_values(by='Value', ascending=False).head(10)\n",
    "\n",
    "xg_coefs = pd.DataFrame({'Coef':X_merged.columns,\n",
    "                         'Value':xgbc_imdb.feature_importances_})\n",
    "xg_t50 = xg_coefs.sort_values(by='Value', ascending=False).head(10)"
   ]
  },
  {
   "cell_type": "code",
   "execution_count": null,
   "metadata": {},
   "outputs": [],
   "source": [
    "# Create the subplots \n",
    "fig = make_subplots(rows=2, \n",
    "                    cols=2,\n",
    "                    row_heights=[0.3, 0.7],\n",
    "                    specs=[[{\"type\": \"xy\", \"colspan\": 2}, None],\n",
    "                           [{\"type\": \"xy\"}, {\"type\": \"xy\"}]],\n",
    "                    subplot_titles=['Distribution of Ratings', \n",
    "                                    \"Logistic Regression <br> Most Important Features\", \n",
    "                                    \"XG Boost <br> Most Important Features\"], \n",
    "                    horizontal_spacing=0.05)\n",
    "\n",
    "LR_CD = go.Bar(y=lr_t50['Coef'], \n",
    "               x=lr_t50['Value'], \n",
    "               name=\"Coefficient\", \n",
    "               hovertemplate='%{y}', \n",
    "               orientation='h')\n",
    "XG_CD = go.Bar(y=xg_t50['Coef'], \n",
    "               x=xg_t50['Value'], \n",
    "               name='Gain', \n",
    "               hovertemplate='%{y}', \n",
    "               orientation='h')\n",
    "imdb_CD = go.Histogram(x=y['IMDb_score'], \n",
    "                       name='Count', \n",
    "                       hovertemplate='%{y}')\n",
    "\n",
    "# Add the graph objects\n",
    "fig.append_trace(imdb_CD, row=1, col=1)\n",
    "fig.append_trace(LR_CD, row=2, col=1)\n",
    "fig.append_trace(XG_CD, row=2, col=2)\n",
    "fig.add_shape(go.layout.Shape(type='line', xref='x', yref='y',\n",
    "                        x0=0.7, y0=0, x1=0.7, y1=100),\n",
    "                        row=1, col=1)\n",
    "\n",
    "fig['layout']['xaxis1'].update(title='Rating')\n",
    "fig['layout']['xaxis3'].update(autorange='reversed')\n",
    "fig['layout']['xaxis2'].update(title='Coefficient')\n",
    "fig['layout']['xaxis3'].update(title='Gain')\n",
    "\n",
    "fig['layout']['yaxis1'].update(title='Count')\n",
    "\n",
    "# Update the layout and show\n",
    "fig.update_layout(height=800, \n",
    "                  width=800, \n",
    "                  title_text=\"IMDb Results\")\n",
    "fig.show()\n",
    "\n",
    "# Loading onto cloud\n",
    "#py.iplot(fig, filename=\"IMDb\")"
   ]
  },
  {
   "cell_type": "markdown",
   "metadata": {},
   "source": [
    "### RT Score Models"
   ]
  },
  {
   "cell_type": "code",
   "execution_count": null,
   "metadata": {
    "scrolled": true
   },
   "outputs": [],
   "source": [
    "logreg_rt = LogisticRegression(C=1.0, \n",
    "                               penalty='l1').fit(X_scaled, y_rt)\n",
    "joblib.dump(logreg_rt, '../models/rt_logreg_full.pkl')"
   ]
  },
  {
   "cell_type": "code",
   "execution_count": null,
   "metadata": {},
   "outputs": [],
   "source": [
    "xgbc_rt = XGBClassifier(learning_rate=0.1, \n",
    "                        max_depth=4, \n",
    "                        n_estimators=100).fit(X_scaled, y_rt)\n",
    "joblib.dump(xgbc_rt, '../models/rt_xgbc_full.pkl')"
   ]
  },
  {
   "cell_type": "code",
   "execution_count": null,
   "metadata": {},
   "outputs": [],
   "source": [
    "lr_coefs = pd.DataFrame({'Coef':X_merged.columns,\n",
    "                         'Value':logreg_rt.coef_[0]})\n",
    "lr_t10 = lr_coefs.sort_values(by='Value', ascending=False).head(10)\n",
    "\n",
    "xg_coefs = pd.DataFrame({'Coef':X_merged.columns,\n",
    "                         'Value':xgbc_rt.feature_importances_})\n",
    "xg_t10 = xg_coefs.sort_values(by='Value', ascending=False).head(10)"
   ]
  },
  {
   "cell_type": "code",
   "execution_count": null,
   "metadata": {},
   "outputs": [],
   "source": [
    "# Create the subplots \n",
    "fig = make_subplots(rows=2, \n",
    "                    cols=2,\n",
    "                    row_heights=[0.3, 0.7],\n",
    "                    specs=[[{\"type\": \"xy\", \"colspan\": 2}, None],\n",
    "                           [{\"type\": \"xy\"}, {\"type\": \"xy\"}]],\n",
    "                    subplot_titles=['Distribution of Ratings', \n",
    "                                    \"Logistic Regression <br> Most Important Features\", \n",
    "                                    \"XG Boost <br> Most Important Features\"], \n",
    "                    horizontal_spacing=0.05)\n",
    "\n",
    "LR_CD = go.Bar(y=lr_t10['Coef'], \n",
    "               x=lr_t10['Value'], \n",
    "               name=\"Coefficient\", \n",
    "               hovertemplate='%{y}', \n",
    "               orientation='h')\n",
    "XG_CD = go.Bar(y=xg_t10['Coef'], \n",
    "               x=xg_t10['Value'], \n",
    "               name='Gain', \n",
    "               hovertemplate='%{y}', \n",
    "               orientation='h')\n",
    "imdb_CD = go.Histogram(x=y['RT_score'], \n",
    "                       name='Count', \n",
    "                       hovertemplate='%{y}')\n",
    "\n",
    "# Add the graph objects\n",
    "fig.append_trace(imdb_CD, row=1, col=1)\n",
    "fig.append_trace(LR_CD, row=2, col=1)\n",
    "fig.append_trace(XG_CD, row=2, col=2)\n",
    "fig.add_shape(go.layout.Shape(type='line', xref='x', yref='y',\n",
    "                        x0=0.8, y0=0, x1=0.8, y1=130),\n",
    "                        row=1, col=1)\n",
    "\n",
    "fig['layout']['xaxis1'].update(title='Rating')\n",
    "fig['layout']['xaxis3'].update(autorange='reversed')\n",
    "fig['layout']['xaxis2'].update(title='Coefficient')\n",
    "fig['layout']['xaxis3'].update(title='Gain')\n",
    "\n",
    "fig['layout']['yaxis1'].update(title='Count')\n",
    "\n",
    "# Update the layout and show\n",
    "fig.update_layout(height=800, \n",
    "                  width=800, \n",
    "                  title_text=\"Rotten Tomatoes Results\")\n",
    "fig.show()\n",
    "\n",
    "# Loading onto cloud\n",
    "#py.iplot(fig, filename=\"RT\")"
   ]
  },
  {
   "cell_type": "markdown",
   "metadata": {},
   "source": [
    "### Profit Models"
   ]
  },
  {
   "cell_type": "code",
   "execution_count": null,
   "metadata": {},
   "outputs": [],
   "source": [
    "logreg_profit = LogisticRegression(C=0.1, \n",
    "                                   penalty='l1').fit(X_scaled, y_profit)\n",
    "joblib.dump(logreg_profit, '../models/profit_logreg_full.pkl')"
   ]
  },
  {
   "cell_type": "code",
   "execution_count": null,
   "metadata": {},
   "outputs": [],
   "source": [
    "xgbc_profit = XGBClassifier(learning_rate=0.1, \n",
    "                            max_depth=5, \n",
    "                            n_estimators=80).fit(X_scaled, y_profit)\n",
    "joblib.dump(xgbc_profit, '../models/profit_xgbc_full.pkl')"
   ]
  },
  {
   "cell_type": "code",
   "execution_count": null,
   "metadata": {},
   "outputs": [],
   "source": [
    "lr_coefs = pd.DataFrame({'Coef':X_merged.columns,\n",
    "                         'Value':logreg_profit.coef_[0]})\n",
    "lr_t10 = lr_coefs.sort_values(by='Value', ascending=False).head(10)\n",
    "\n",
    "xg_coefs = pd.DataFrame({'Coef':X_merged.columns,\n",
    "                         'Value':xgbc_profit.feature_importances_})\n",
    "xg_t10 = xg_coefs.sort_values(by='Value', ascending=False).head(10)"
   ]
  },
  {
   "cell_type": "code",
   "execution_count": null,
   "metadata": {},
   "outputs": [],
   "source": [
    "# Create the subplots \n",
    "fig = make_subplots(rows=2, \n",
    "                    cols=2,\n",
    "                    row_heights=[0.3, 0.7],\n",
    "                    specs=[[{\"type\": \"xy\", \"colspan\": 2}, None],\n",
    "                           [{\"type\": \"xy\"}, {\"type\": \"xy\"}]],\n",
    "                    subplot_titles=['Distribution of Profit Margins', \n",
    "                                    \"Logistic Regression <br> Most Important Features\", \n",
    "                                    \"XG Boost <br> Most Important Features\"], \n",
    "                    horizontal_spacing=0.05)\n",
    "\n",
    "LR_CD = go.Bar(y=lr_t10['Coef'], \n",
    "               x=lr_t10['Value'], \n",
    "               name=\"Coefficient\", \n",
    "               hovertemplate='%{y}', \n",
    "               orientation='h')\n",
    "XG_CD = go.Bar(y=xg_t10['Coef'], \n",
    "               x=xg_t10['Value'], \n",
    "               name='Gain', \n",
    "               hovertemplate='%{y}', \n",
    "               orientation='h')\n",
    "imdb_CD = go.Histogram(x=y['Per_Profit'], \n",
    "                       name='Count', \n",
    "                       hovertemplate=\"%{y}\")\n",
    "\n",
    "# Add the graph objects\n",
    "fig.add_trace(imdb_CD, row=1, col=1)\n",
    "fig.add_trace(LR_CD, row=2, col=1)\n",
    "fig.add_trace(XG_CD, row=2, col=2)\n",
    "fig.add_shape(go.layout.Shape(type='line', xref='x', yref='y',\n",
    "                        x0=200, y0=0, x1=200, y1=450),\n",
    "                        row=1, col=1)\n",
    "\n",
    "fig['layout']['xaxis1'].update(title=\"Profit Margin (%)\")\n",
    "fig['layout']['xaxis3'].update(autorange='reversed')\n",
    "fig['layout']['xaxis2'].update(title='Coefficient')\n",
    "fig['layout']['xaxis3'].update(title='Gain')\n",
    "\n",
    "fig['layout']['yaxis1'].update(title='Count')\n",
    "\n",
    "\n",
    "# Update the layout and show\n",
    "fig.update_layout(height=800, \n",
    "                  width=800,\n",
    "                  title_text=\"Profit Margin Results\")\n",
    "fig.show()\n",
    "\n",
    "# Loading onto cloud\n",
    "#py.iplot(fig, filename=\"Profit\")"
   ]
  },
  {
   "cell_type": "code",
   "execution_count": null,
   "metadata": {},
   "outputs": [],
   "source": []
  }
 ],
 "metadata": {
  "kernelspec": {
   "display_name": "Python 3",
   "language": "python",
   "name": "python3"
  },
  "language_info": {
   "codemirror_mode": {
    "name": "ipython",
    "version": 3
   },
   "file_extension": ".py",
   "mimetype": "text/x-python",
   "name": "python",
   "nbconvert_exporter": "python",
   "pygments_lexer": "ipython3",
   "version": "3.7.6"
  }
 },
 "nbformat": 4,
 "nbformat_minor": 4
}
